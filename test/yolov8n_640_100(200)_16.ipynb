{
  "cells": [
    {
      "cell_type": "code",
      "execution_count": null,
      "metadata": {
        "colab": {
          "base_uri": "https://localhost:8080/"
        },
        "id": "lEB17E5ORPSk",
        "outputId": "dc1804eb-5c0d-488d-96c6-30c8456c226e"
      },
      "outputs": [
        {
          "name": "stdout",
          "output_type": "stream",
          "text": [
            "Archive:  firesmokedataset.zip\n",
            "  inflating: valid/images/image (801).jpg  \n",
            "  inflating: valid/images/image (802).jpg  \n",
            "  inflating: valid/images/image (803).jpg  \n",
            "  inflating: valid/images/image (804).jpg  \n",
            "  inflating: valid/images/image (805).jpg  \n",
            "  inflating: valid/images/image (806).jpg  \n",
            "  inflating: valid/images/image (807).jpg  \n",
            "  inflating: valid/images/image (808).jpg  \n",
            "  inflating: valid/images/image (809).jpg  \n",
            "  inflating: valid/images/image (810).jpg  \n",
            "  inflating: valid/images/image (811).jpg  \n",
            "  inflating: valid/images/image (812).jpg  \n",
            "  inflating: valid/images/image (813).jpg  \n",
            "  inflating: valid/images/image (814).jpg  \n",
            "  inflating: valid/images/image (815).jpg  \n",
            "  inflating: valid/images/image (816).jpg  \n",
            "  inflating: valid/images/image (817).jpg  \n",
            "  inflating: valid/images/image (818).jpg  \n",
            "  inflating: valid/images/image (819).jpg  \n",
            "  inflating: valid/images/image (820).jpg  \n",
            "  inflating: valid/images/image (821).jpg  \n",
            "  inflating: valid/images/image (822).jpg  \n",
            "  inflating: valid/images/image (823).jpg  \n",
            "  inflating: valid/images/image (824).jpg  \n",
            "  inflating: valid/images/image (825).jpg  \n",
            "  inflating: valid/images/image (826).jpg  \n",
            "  inflating: valid/images/image (827).jpg  \n",
            "  inflating: valid/images/image (828).jpg  \n",
            "  inflating: valid/images/image (829).jpg  \n",
            "  inflating: valid/images/image (830).jpg  \n",
            "  inflating: valid/images/image (831).jpg  \n",
            "  inflating: valid/images/image (832).jpg  \n",
            "  inflating: valid/images/image (833).jpg  \n",
            "  inflating: valid/images/image (834).jpg  \n",
            "  inflating: valid/images/image (835).jpg  \n",
            "  inflating: valid/images/image (836).jpg  \n",
            "  inflating: valid/images/image (837).jpg  \n",
            "  inflating: valid/images/image (838).jpg  \n",
            "  inflating: valid/images/image (839).jpg  \n",
            "  inflating: valid/images/image (840).jpg  \n",
            "  inflating: valid/images/image (841).jpg  \n",
            "  inflating: valid/images/image (842).jpg  \n",
            "  inflating: valid/images/image (843).jpg  \n",
            "  inflating: valid/images/image (844).jpg  \n",
            "  inflating: valid/images/image (845).jpg  \n",
            "  inflating: valid/images/image (846).jpg  \n",
            "  inflating: valid/images/image (847).jpg  \n",
            "  inflating: valid/images/image (848).jpg  \n",
            "  inflating: valid/images/image (849).jpg  \n",
            "  inflating: valid/images/image (850).jpg  \n",
            "  inflating: valid/images/image (851).jpg  \n",
            "  inflating: valid/images/image (852).jpg  \n",
            "  inflating: valid/images/image (853).jpg  \n",
            "  inflating: valid/images/image (854).jpg  \n",
            "  inflating: valid/images/image (855).jpg  \n",
            "  inflating: valid/images/image (856).jpg  \n",
            "  inflating: valid/images/image (857).jpg  \n",
            "  inflating: valid/images/image (858).jpg  \n",
            "  inflating: valid/images/image (859).jpg  \n",
            "  inflating: valid/images/image (860).jpg  \n",
            "  inflating: valid/images/image (861).jpg  \n",
            "  inflating: valid/images/image (862).jpg  \n",
            "  inflating: valid/images/image (863).jpg  \n",
            "  inflating: valid/images/image (864).jpg  \n",
            "  inflating: valid/images/image (865).jpg  \n",
            "  inflating: valid/images/image (866).jpg  \n",
            "  inflating: valid/images/image (867).jpg  \n",
            "  inflating: valid/images/image (868).jpg  \n",
            "  inflating: valid/images/image (869).jpg  \n",
            "  inflating: valid/images/image (870).jpg  \n",
            "  inflating: valid/images/image (871).jpg  \n",
            "  inflating: valid/images/image (872).jpg  \n",
            "  inflating: valid/images/image (873).jpg  \n",
            "  inflating: valid/images/image (874).jpg  \n",
            "  inflating: valid/images/image (875).jpg  \n",
            "  inflating: valid/images/image (876).jpg  \n",
            "  inflating: valid/images/image (877).jpg  \n",
            "  inflating: valid/images/image (878).jpg  \n",
            "  inflating: valid/images/image (879).jpg  \n",
            "  inflating: valid/images/image (880).jpg  \n",
            "  inflating: valid/images/image (881).jpg  \n",
            "  inflating: valid/images/image (882).jpg  \n",
            "  inflating: valid/images/image (883).jpg  \n",
            "  inflating: valid/images/image (884).jpg  \n",
            "  inflating: valid/images/image (885).jpg  \n",
            "  inflating: valid/images/image (886).jpg  \n",
            "  inflating: valid/images/image (887).jpg  \n",
            "  inflating: valid/images/image (888).jpg  \n",
            "  inflating: valid/images/image (889).jpg  \n",
            "  inflating: valid/images/image (890).jpg  \n",
            "  inflating: valid/images/image (891).jpg  \n",
            "  inflating: valid/images/image (892).jpg  \n",
            "  inflating: valid/images/image (893).jpg  \n",
            "  inflating: valid/images/image (894).jpg  \n",
            "  inflating: valid/images/image (895).jpg  \n",
            "  inflating: valid/images/image (896).jpg  \n",
            "  inflating: valid/images/image (897).jpg  \n",
            "  inflating: valid/images/image (898).jpg  \n",
            "  inflating: valid/images/image (899).jpg  \n",
            "  inflating: valid/images/image (900).jpg  \n",
            "  inflating: valid/images/image (901).jpg  \n",
            "  inflating: valid/images/image (902).jpg  \n",
            "  inflating: valid/images/image (903).jpg  \n",
            "  inflating: valid/images/image (904).jpg  \n",
            "  inflating: valid/images/image (905).jpg  \n",
            "  inflating: valid/images/image (906).jpg  \n",
            "  inflating: valid/images/image (907).jpg  \n",
            "  inflating: valid/images/image (908).jpg  \n",
            "  inflating: valid/images/image (909).jpg  \n",
            "  inflating: valid/images/image (910).jpg  \n",
            "  inflating: valid/images/image (911).jpg  \n",
            "  inflating: valid/images/image (912).jpg  \n",
            "  inflating: valid/images/image (913).jpg  \n",
            "  inflating: valid/images/image (914).jpg  \n",
            "  inflating: valid/images/image (915).jpg  \n",
            "  inflating: valid/images/image (916).jpg  \n",
            "  inflating: valid/images/image (917).jpg  \n",
            "  inflating: valid/images/image (918).jpg  \n",
            "  inflating: valid/images/image (919).jpg  \n",
            "  inflating: valid/images/image (920).jpg  \n",
            "  inflating: valid/images/image (921).jpg  \n",
            "  inflating: valid/images/image (922).jpg  \n",
            "  inflating: valid/images/image (923).jpg  \n",
            "  inflating: valid/images/image (924).jpg  \n",
            "  inflating: valid/images/image (925).jpg  \n",
            "  inflating: valid/images/image (926).jpg  \n",
            "  inflating: valid/images/image (927).jpg  \n",
            "  inflating: valid/images/image (928).jpg  \n",
            "  inflating: valid/images/image (929).jpg  \n",
            "  inflating: valid/images/image (930).jpg  \n",
            "  inflating: valid/images/image (931).jpg  \n",
            "  inflating: valid/images/image (932).jpg  \n",
            "  inflating: valid/images/image (933).jpg  \n",
            "  inflating: valid/images/image (934).jpg  \n",
            "  inflating: valid/images/image (935).jpg  \n",
            "  inflating: valid/images/image (936).jpg  \n",
            "  inflating: valid/images/image (937).jpg  \n",
            "  inflating: valid/images/image (938).jpg  \n",
            "  inflating: valid/images/image (939).jpg  \n",
            "  inflating: valid/images/image (940).jpg  \n",
            "  inflating: valid/images/image (941).jpg  \n",
            "  inflating: valid/images/image (942).jpg  \n",
            "  inflating: valid/images/image (943).jpg  \n",
            "  inflating: valid/images/image (944).jpg  \n",
            "  inflating: valid/images/image (945).jpg  \n",
            "  inflating: valid/images/image (946).jpg  \n",
            "  inflating: valid/images/image (947).jpg  \n",
            "  inflating: valid/images/image (948).jpg  \n",
            "  inflating: valid/images/image (949).jpg  \n",
            "  inflating: valid/images/image (950).jpg  \n",
            "  inflating: valid/images/image (951).jpg  \n",
            "  inflating: valid/images/image (952).jpg  \n",
            "  inflating: valid/images/image (953).jpg  \n",
            "  inflating: valid/images/image (954).jpg  \n",
            "  inflating: valid/images/image (955).jpg  \n",
            "  inflating: valid/images/image (956).jpg  \n",
            "  inflating: valid/images/image (957).jpg  \n",
            "  inflating: valid/images/image (958).jpg  \n",
            "  inflating: valid/images/image (959).jpg  \n",
            "  inflating: valid/images/image (960).jpg  \n",
            "  inflating: valid/images/image (961).jpg  \n",
            "  inflating: valid/images/image (962).jpg  \n",
            "  inflating: valid/images/image (963).jpg  \n",
            "  inflating: valid/images/image (964).jpg  \n",
            "  inflating: valid/images/image (965).jpg  \n",
            "  inflating: valid/images/image (966).jpg  \n",
            "  inflating: valid/images/image (967).jpg  \n",
            "  inflating: valid/images/image (968).jpg  \n",
            "  inflating: valid/images/image (969).jpg  \n",
            "  inflating: valid/images/image (970).jpg  \n",
            "  inflating: valid/images/image (971).jpg  \n",
            "  inflating: valid/images/image (972).jpg  \n",
            "  inflating: valid/images/image (973).jpg  \n",
            "  inflating: valid/images/image (974).jpg  \n",
            "  inflating: valid/images/image (975).jpg  \n",
            "  inflating: valid/images/image (976).jpg  \n",
            "  inflating: valid/images/image (977).jpg  \n",
            "  inflating: valid/images/image (978).jpg  \n",
            " extracting: valid/labels/image (801).txt  \n",
            " extracting: valid/labels/image (802).txt  \n",
            "  inflating: valid/labels/image (803).txt  \n",
            " extracting: valid/labels/image (804).txt  \n",
            " extracting: valid/labels/image (805).txt  \n",
            " extracting: valid/labels/image (806).txt  \n",
            "  inflating: valid/labels/image (807).txt  \n",
            " extracting: valid/labels/image (808).txt  \n",
            "  inflating: valid/labels/image (809).txt  \n",
            " extracting: valid/labels/image (810).txt  \n",
            " extracting: valid/labels/image (811).txt  \n",
            "  inflating: valid/labels/image (812).txt  \n",
            "  inflating: valid/labels/image (813).txt  \n",
            "  inflating: valid/labels/image (814).txt  \n",
            " extracting: valid/labels/image (815).txt  \n",
            "  inflating: valid/labels/image (816).txt  \n",
            "  inflating: valid/labels/image (817).txt  \n",
            "  inflating: valid/labels/image (818).txt  \n",
            "  inflating: valid/labels/image (819).txt  \n",
            "  inflating: valid/labels/image (820).txt  \n",
            "  inflating: valid/labels/image (821).txt  \n",
            "  inflating: valid/labels/image (822).txt  \n",
            "  inflating: valid/labels/image (823).txt  \n",
            " extracting: valid/labels/image (824).txt  \n",
            " extracting: valid/labels/image (825).txt  \n",
            "  inflating: valid/labels/image (826).txt  \n",
            "  inflating: valid/labels/image (827).txt  \n",
            "  inflating: valid/labels/image (828).txt  \n",
            "  inflating: valid/labels/image (829).txt  \n",
            "  inflating: valid/labels/image (830).txt  \n",
            "  inflating: valid/labels/image (831).txt  \n",
            " extracting: valid/labels/image (832).txt  \n",
            "  inflating: valid/labels/image (833).txt  \n",
            "  inflating: valid/labels/image (834).txt  \n",
            " extracting: valid/labels/image (835).txt  \n",
            " extracting: valid/labels/image (836).txt  \n",
            " extracting: valid/labels/image (837).txt  \n",
            "  inflating: valid/labels/image (838).txt  \n",
            "  inflating: valid/labels/image (839).txt  \n",
            " extracting: valid/labels/image (840).txt  \n",
            " extracting: valid/labels/image (841).txt  \n",
            "  inflating: valid/labels/image (842).txt  \n",
            "  inflating: valid/labels/image (843).txt  \n",
            "  inflating: valid/labels/image (844).txt  \n",
            " extracting: valid/labels/image (845).txt  \n",
            " extracting: valid/labels/image (846).txt  \n",
            " extracting: valid/labels/image (847).txt  \n",
            "  inflating: valid/labels/image (848).txt  \n",
            "  inflating: valid/labels/image (849).txt  \n",
            "  inflating: valid/labels/image (850).txt  \n",
            "  inflating: valid/labels/image (851).txt  \n",
            " extracting: valid/labels/image (852).txt  \n",
            "  inflating: valid/labels/image (853).txt  \n",
            " extracting: valid/labels/image (854).txt  \n",
            "  inflating: valid/labels/image (855).txt  \n",
            " extracting: valid/labels/image (856).txt  \n",
            "  inflating: valid/labels/image (857).txt  \n",
            " extracting: valid/labels/image (858).txt  \n",
            "  inflating: valid/labels/image (859).txt  \n",
            "  inflating: valid/labels/image (860).txt  \n",
            "  inflating: valid/labels/image (861).txt  \n",
            " extracting: valid/labels/image (862).txt  \n",
            "  inflating: valid/labels/image (863).txt  \n",
            "  inflating: valid/labels/image (864).txt  \n",
            " extracting: valid/labels/image (865).txt  \n",
            "  inflating: valid/labels/image (866).txt  \n",
            "  inflating: valid/labels/image (867).txt  \n",
            "  inflating: valid/labels/image (868).txt  \n",
            "  inflating: valid/labels/image (869).txt  \n",
            "  inflating: valid/labels/image (870).txt  \n",
            " extracting: valid/labels/image (871).txt  \n",
            "  inflating: valid/labels/image (872).txt  \n",
            " extracting: valid/labels/image (873).txt  \n",
            "  inflating: valid/labels/image (874).txt  \n",
            " extracting: valid/labels/image (875).txt  \n",
            "  inflating: valid/labels/image (876).txt  \n",
            "  inflating: valid/labels/image (877).txt  \n",
            " extracting: valid/labels/image (878).txt  \n",
            "  inflating: valid/labels/image (879).txt  \n",
            " extracting: valid/labels/image (880).txt  \n",
            " extracting: valid/labels/image (881).txt  \n",
            " extracting: valid/labels/image (882).txt  \n",
            "  inflating: valid/labels/image (883).txt  \n",
            "  inflating: valid/labels/image (884).txt  \n",
            "  inflating: valid/labels/image (885).txt  \n",
            " extracting: valid/labels/image (886).txt  \n",
            "  inflating: valid/labels/image (887).txt  \n",
            " extracting: valid/labels/image (888).txt  \n",
            "  inflating: valid/labels/image (889).txt  \n",
            " extracting: valid/labels/image (890).txt  \n",
            " extracting: valid/labels/image (891).txt  \n",
            " extracting: valid/labels/image (892).txt  \n",
            "  inflating: valid/labels/image (893).txt  \n",
            "  inflating: valid/labels/image (894).txt  \n",
            "  inflating: valid/labels/image (895).txt  \n",
            "  inflating: valid/labels/image (896).txt  \n",
            "  inflating: valid/labels/image (897).txt  \n",
            " extracting: valid/labels/image (898).txt  \n",
            " extracting: valid/labels/image (899).txt  \n",
            "  inflating: valid/labels/image (900).txt  \n",
            "  inflating: valid/labels/image (901).txt  \n",
            "  inflating: valid/labels/image (902).txt  \n",
            " extracting: valid/labels/image (903).txt  \n",
            "  inflating: valid/labels/image (904).txt  \n",
            "  inflating: valid/labels/image (905).txt  \n",
            "  inflating: valid/labels/image (906).txt  \n",
            "  inflating: valid/labels/image (907).txt  \n",
            "  inflating: valid/labels/image (908).txt  \n",
            "  inflating: valid/labels/image (909).txt  \n",
            "  inflating: valid/labels/image (910).txt  \n",
            "  inflating: valid/labels/image (911).txt  \n",
            "  inflating: valid/labels/image (912).txt  \n",
            "  inflating: valid/labels/image (913).txt  \n",
            "  inflating: valid/labels/image (914).txt  \n",
            "  inflating: valid/labels/image (915).txt  \n",
            "  inflating: valid/labels/image (916).txt  \n",
            "  inflating: valid/labels/image (917).txt  \n",
            "  inflating: valid/labels/image (918).txt  \n",
            "  inflating: valid/labels/image (919).txt  \n",
            "  inflating: valid/labels/image (920).txt  \n",
            "  inflating: valid/labels/image (921).txt  \n",
            "  inflating: valid/labels/image (922).txt  \n",
            "  inflating: valid/labels/image (923).txt  \n",
            "  inflating: valid/labels/image (924).txt  \n",
            "  inflating: valid/labels/image (925).txt  \n",
            " extracting: valid/labels/image (926).txt  \n",
            "  inflating: valid/labels/image (927).txt  \n",
            "  inflating: valid/labels/image (928).txt  \n",
            " extracting: valid/labels/image (929).txt  \n",
            "  inflating: valid/labels/image (930).txt  \n",
            "  inflating: valid/labels/image (931).txt  \n",
            "  inflating: valid/labels/image (932).txt  \n",
            " extracting: valid/labels/image (933).txt  \n",
            "  inflating: valid/labels/image (934).txt  \n",
            "  inflating: valid/labels/image (935).txt  \n",
            "  inflating: valid/labels/image (936).txt  \n",
            "  inflating: valid/labels/image (937).txt  \n",
            " extracting: valid/labels/image (938).txt  \n",
            " extracting: valid/labels/image (939).txt  \n",
            " extracting: valid/labels/image (940).txt  \n",
            "  inflating: valid/labels/image (941).txt  \n",
            "  inflating: valid/labels/image (942).txt  \n",
            " extracting: valid/labels/image (943).txt  \n",
            "  inflating: valid/labels/image (944).txt  \n",
            " extracting: valid/labels/image (945).txt  \n",
            " extracting: valid/labels/image (946).txt  \n",
            " extracting: valid/labels/image (947).txt  \n",
            "  inflating: valid/labels/image (948).txt  \n",
            " extracting: valid/labels/image (949).txt  \n",
            " extracting: valid/labels/image (950).txt  \n",
            "  inflating: valid/labels/image (951).txt  \n",
            " extracting: valid/labels/image (952).txt  \n",
            "  inflating: valid/labels/image (953).txt  \n",
            " extracting: valid/labels/image (954).txt  \n",
            "  inflating: valid/labels/image (955).txt  \n",
            " extracting: valid/labels/image (956).txt  \n",
            " extracting: valid/labels/image (957).txt  \n",
            "  inflating: valid/labels/image (958).txt  \n",
            "  inflating: valid/labels/image (959).txt  \n",
            "  inflating: valid/labels/image (960).txt  \n",
            " extracting: valid/labels/image (961).txt  \n",
            "  inflating: valid/labels/image (962).txt  \n",
            " extracting: valid/labels/image (963).txt  \n",
            "  inflating: valid/labels/image (964).txt  \n",
            " extracting: valid/labels/image (965).txt  \n",
            "  inflating: valid/labels/image (966).txt  \n",
            "  inflating: valid/labels/image (967).txt  \n",
            "  inflating: valid/labels/image (968).txt  \n",
            "  inflating: valid/labels/image (969).txt  \n",
            "  inflating: valid/labels/image (970).txt  \n",
            "  inflating: valid/labels/image (971).txt  \n",
            " extracting: valid/labels/image (972).txt  \n",
            " extracting: valid/labels/image (973).txt  \n",
            "  inflating: valid/labels/image (974).txt  \n",
            "  inflating: valid/labels/image (975).txt  \n",
            "  inflating: valid/labels/image (976).txt  \n",
            " extracting: valid/labels/image (977).txt  \n",
            " extracting: valid/labels/image (978).txt  \n",
            "  inflating: data.yaml               \n",
            "  inflating: train/images/image (1).jpg  \n",
            "  inflating: train/images/image (10).jpg  \n",
            "  inflating: train/images/image (100).jpg  \n",
            "  inflating: train/images/image (101).jpg  \n",
            "  inflating: train/images/image (102).jpg  \n",
            "  inflating: train/images/image (103).jpg  \n",
            "  inflating: train/images/image (104).jpg  \n",
            "  inflating: train/images/image (105).jpg  \n",
            "  inflating: train/images/image (106).jpg  \n",
            "  inflating: train/images/image (107).jpg  \n",
            "  inflating: train/images/image (108).jpg  \n",
            "  inflating: train/images/image (109).jpg  \n",
            "  inflating: train/images/image (11).jpg  \n",
            "  inflating: train/images/image (110).jpg  \n",
            "  inflating: train/images/image (111).jpg  \n",
            "  inflating: train/images/image (112).jpg  \n",
            "  inflating: train/images/image (113).jpg  \n",
            "  inflating: train/images/image (114).jpg  \n",
            "  inflating: train/images/image (115).jpg  \n",
            "  inflating: train/images/image (116).jpg  \n",
            "  inflating: train/images/image (117).jpg  \n",
            "  inflating: train/images/image (118).jpg  \n",
            "  inflating: train/images/image (119).jpg  \n",
            "  inflating: train/images/image (12).jpg  \n",
            "  inflating: train/images/image (120).jpg  \n",
            "  inflating: train/images/image (121).jpg  \n",
            "  inflating: train/images/image (122).jpg  \n",
            "  inflating: train/images/image (123).jpg  \n",
            "  inflating: train/images/image (124).jpg  \n",
            "  inflating: train/images/image (125).jpg  \n",
            "  inflating: train/images/image (126).jpg  \n",
            "  inflating: train/images/image (127).jpg  \n",
            "  inflating: train/images/image (128).jpg  \n",
            "  inflating: train/images/image (129).jpg  \n",
            "  inflating: train/images/image (13).jpg  \n",
            "  inflating: train/images/image (130).jpg  \n",
            "  inflating: train/images/image (131).jpg  \n",
            "  inflating: train/images/image (132).jpg  \n",
            "  inflating: train/images/image (133).jpg  \n",
            "  inflating: train/images/image (134).jpg  \n",
            "  inflating: train/images/image (135).jpg  \n",
            "  inflating: train/images/image (136).jpg  \n",
            "  inflating: train/images/image (137).jpg  \n",
            "  inflating: train/images/image (138).jpg  \n",
            "  inflating: train/images/image (139).jpg  \n",
            "  inflating: train/images/image (14).jpg  \n",
            "  inflating: train/images/image (140).jpg  \n",
            "  inflating: train/images/image (141).jpg  \n",
            "  inflating: train/images/image (142).jpg  \n",
            "  inflating: train/images/image (143).jpg  \n",
            "  inflating: train/images/image (144).jpg  \n",
            "  inflating: train/images/image (145).jpg  \n",
            "  inflating: train/images/image (146).jpg  \n",
            "  inflating: train/images/image (147).jpg  \n",
            "  inflating: train/images/image (148).jpg  \n",
            "  inflating: train/images/image (149).jpg  \n",
            "  inflating: train/images/image (15).jpg  \n",
            "  inflating: train/images/image (150).jpg  \n",
            "  inflating: train/images/image (151).jpg  \n",
            "  inflating: train/images/image (152).jpg  \n",
            "  inflating: train/images/image (153).jpg  \n",
            "  inflating: train/images/image (154).jpg  \n",
            "  inflating: train/images/image (155).jpg  \n",
            "  inflating: train/images/image (156).jpg  \n",
            "  inflating: train/images/image (157).jpg  \n",
            "  inflating: train/images/image (158).jpg  \n",
            "  inflating: train/images/image (159).jpg  \n",
            "  inflating: train/images/image (16).jpg  \n",
            "  inflating: train/images/image (160).jpg  \n",
            "  inflating: train/images/image (161).jpg  \n",
            "  inflating: train/images/image (162).jpg  \n",
            "  inflating: train/images/image (163).jpg  \n",
            "  inflating: train/images/image (164).jpg  \n",
            "  inflating: train/images/image (165).jpg  \n",
            "  inflating: train/images/image (166).jpg  \n",
            "  inflating: train/images/image (167).jpg  \n",
            "  inflating: train/images/image (168).jpg  \n",
            "  inflating: train/images/image (169).jpg  \n",
            "  inflating: train/images/image (17).jpg  \n",
            "  inflating: train/images/image (170).jpg  \n",
            "  inflating: train/images/image (171).jpg  \n",
            "  inflating: train/images/image (172).jpg  \n",
            "  inflating: train/images/image (173).jpg  \n",
            "  inflating: train/images/image (174).jpg  \n",
            "  inflating: train/images/image (175).jpg  \n",
            "  inflating: train/images/image (176).jpg  \n",
            "  inflating: train/images/image (177).jpg  \n",
            "  inflating: train/images/image (178).jpg  \n",
            "  inflating: train/images/image (179).jpg  \n",
            "  inflating: train/images/image (18).jpg  \n",
            "  inflating: train/images/image (180).jpg  \n",
            "  inflating: train/images/image (181).jpg  \n",
            "  inflating: train/images/image (182).jpg  \n",
            "  inflating: train/images/image (183).jpg  \n",
            "  inflating: train/images/image (184).jpg  \n",
            "  inflating: train/images/image (185).jpg  \n",
            "  inflating: train/images/image (186).jpg  \n",
            "  inflating: train/images/image (187).jpg  \n",
            "  inflating: train/images/image (188).jpg  \n",
            "  inflating: train/images/image (189).jpg  \n",
            "  inflating: train/images/image (19).jpg  \n",
            "  inflating: train/images/image (190).jpg  \n",
            "  inflating: train/images/image (191).jpg  \n",
            "  inflating: train/images/image (192).jpg  \n",
            "  inflating: train/images/image (193).jpg  \n",
            "  inflating: train/images/image (194).jpg  \n",
            "  inflating: train/images/image (195).jpg  \n",
            "  inflating: train/images/image (196).jpg  \n",
            "  inflating: train/images/image (197).jpg  \n",
            "  inflating: train/images/image (198).jpg  \n",
            "  inflating: train/images/image (199).jpg  \n",
            "  inflating: train/images/image (2).jpg  \n",
            "  inflating: train/images/image (20).jpg  \n",
            "  inflating: train/images/image (200).jpg  \n",
            "  inflating: train/images/image (201).jpg  \n",
            "  inflating: train/images/image (202).jpg  \n",
            "  inflating: train/images/image (203).jpg  \n",
            "  inflating: train/images/image (204).jpg  \n",
            "  inflating: train/images/image (205).jpg  \n",
            "  inflating: train/images/image (206).jpg  \n",
            "  inflating: train/images/image (207).jpg  \n",
            "  inflating: train/images/image (208).jpg  \n",
            "  inflating: train/images/image (209).jpg  \n",
            "  inflating: train/images/image (21).jpg  \n",
            "  inflating: train/images/image (210).jpg  \n",
            "  inflating: train/images/image (211).jpg  \n",
            "  inflating: train/images/image (212).jpg  \n",
            "  inflating: train/images/image (213).jpg  \n",
            "  inflating: train/images/image (214).jpg  \n",
            "  inflating: train/images/image (215).jpg  \n",
            "  inflating: train/images/image (216).jpg  \n",
            "  inflating: train/images/image (217).jpg  \n",
            "  inflating: train/images/image (218).jpg  \n",
            "  inflating: train/images/image (219).jpg  \n",
            "  inflating: train/images/image (22).jpg  \n",
            "  inflating: train/images/image (220).jpg  \n",
            "  inflating: train/images/image (221).jpg  \n",
            "  inflating: train/images/image (222).jpg  \n",
            "  inflating: train/images/image (223).jpg  \n",
            "  inflating: train/images/image (224).jpg  \n",
            "  inflating: train/images/image (225).jpg  \n",
            "  inflating: train/images/image (226).jpg  \n",
            "  inflating: train/images/image (227).jpg  \n",
            "  inflating: train/images/image (228).jpg  \n",
            "  inflating: train/images/image (229).jpg  \n",
            "  inflating: train/images/image (23).jpg  \n",
            "  inflating: train/images/image (230).jpg  \n",
            "  inflating: train/images/image (231).jpg  \n",
            "  inflating: train/images/image (232).jpg  \n",
            "  inflating: train/images/image (233).jpg  \n",
            "  inflating: train/images/image (234).jpg  \n",
            "  inflating: train/images/image (235).jpg  \n",
            "  inflating: train/images/image (236).jpg  \n",
            "  inflating: train/images/image (237).jpg  \n",
            "  inflating: train/images/image (238).jpg  \n",
            "  inflating: train/images/image (239).jpg  \n",
            "  inflating: train/images/image (24).jpg  \n",
            "  inflating: train/images/image (240).jpg  \n",
            "  inflating: train/images/image (241).jpg  \n",
            "  inflating: train/images/image (242).jpg  \n",
            "  inflating: train/images/image (243).jpg  \n",
            "  inflating: train/images/image (244).jpg  \n",
            "  inflating: train/images/image (245).jpg  \n",
            "  inflating: train/images/image (246).jpg  \n",
            "  inflating: train/images/image (247).jpg  \n",
            "  inflating: train/images/image (248).jpg  \n",
            "  inflating: train/images/image (249).jpg  \n",
            "  inflating: train/images/image (25).jpg  \n",
            "  inflating: train/images/image (250).jpg  \n",
            "  inflating: train/images/image (251).jpg  \n",
            "  inflating: train/images/image (252).jpg  \n",
            "  inflating: train/images/image (253).jpg  \n",
            "  inflating: train/images/image (254).jpg  \n",
            "  inflating: train/images/image (255).jpg  \n",
            "  inflating: train/images/image (256).jpg  \n",
            "  inflating: train/images/image (257).jpg  \n",
            "  inflating: train/images/image (258).jpg  \n",
            "  inflating: train/images/image (259).jpg  \n",
            "  inflating: train/images/image (26).jpg  \n",
            "  inflating: train/images/image (260).jpg  \n",
            "  inflating: train/images/image (261).jpg  \n",
            "  inflating: train/images/image (262).jpg  \n",
            "  inflating: train/images/image (263).jpg  \n",
            "  inflating: train/images/image (264).jpg  \n",
            "  inflating: train/images/image (265).jpg  \n",
            "  inflating: train/images/image (266).jpg  \n",
            "  inflating: train/images/image (267).jpg  \n",
            "  inflating: train/images/image (268).jpg  \n",
            "  inflating: train/images/image (269).jpg  \n",
            "  inflating: train/images/image (27).jpg  \n",
            "  inflating: train/images/image (270).jpg  \n",
            "  inflating: train/images/image (271).jpg  \n",
            "  inflating: train/images/image (272).jpg  \n",
            "  inflating: train/images/image (273).jpg  \n",
            "  inflating: train/images/image (274).jpg  \n",
            "  inflating: train/images/image (275).jpg  \n",
            "  inflating: train/images/image (276).jpg  \n",
            "  inflating: train/images/image (277).jpg  \n",
            "  inflating: train/images/image (278).jpg  \n",
            "  inflating: train/images/image (279).jpg  \n",
            "  inflating: train/images/image (28).jpg  \n",
            "  inflating: train/images/image (280).jpg  \n",
            "  inflating: train/images/image (281).jpg  \n",
            "  inflating: train/images/image (282).jpg  \n",
            "  inflating: train/images/image (283).jpg  \n",
            "  inflating: train/images/image (284).jpg  \n",
            "  inflating: train/images/image (285).jpg  \n",
            "  inflating: train/images/image (286).jpg  \n",
            "  inflating: train/images/image (287).jpg  \n",
            "  inflating: train/images/image (288).jpg  \n",
            "  inflating: train/images/image (289).jpg  \n",
            "  inflating: train/images/image (29).jpg  \n",
            "  inflating: train/images/image (290).jpg  \n",
            "  inflating: train/images/image (291).jpg  \n",
            "  inflating: train/images/image (292).jpg  \n",
            "  inflating: train/images/image (293).jpg  \n",
            "  inflating: train/images/image (294).jpg  \n",
            "  inflating: train/images/image (295).jpg  \n",
            "  inflating: train/images/image (296).jpg  \n",
            "  inflating: train/images/image (297).jpg  \n",
            "  inflating: train/images/image (298).jpg  \n",
            "  inflating: train/images/image (299).jpg  \n",
            "  inflating: train/images/image (3).jpg  \n",
            "  inflating: train/images/image (30).jpg  \n",
            "  inflating: train/images/image (300).jpg  \n",
            "  inflating: train/images/image (301).jpg  \n",
            "  inflating: train/images/image (302).jpg  \n",
            "  inflating: train/images/image (303).jpg  \n",
            "  inflating: train/images/image (304).jpg  \n",
            "  inflating: train/images/image (305).jpg  \n",
            "  inflating: train/images/image (306).jpg  \n",
            "  inflating: train/images/image (307).jpg  \n",
            "  inflating: train/images/image (308).jpg  \n",
            "  inflating: train/images/image (309).jpg  \n",
            "  inflating: train/images/image (31).jpg  \n",
            "  inflating: train/images/image (310).jpg  \n",
            "  inflating: train/images/image (311).jpg  \n",
            "  inflating: train/images/image (312).jpg  \n",
            "  inflating: train/images/image (313).jpg  \n",
            "  inflating: train/images/image (314).jpg  \n",
            "  inflating: train/images/image (315).jpg  \n",
            "  inflating: train/images/image (316).jpg  \n",
            "  inflating: train/images/image (317).jpg  \n",
            "  inflating: train/images/image (318).jpg  \n",
            "  inflating: train/images/image (319).jpg  \n",
            "  inflating: train/images/image (32).jpg  \n",
            "  inflating: train/images/image (320).jpg  \n",
            "  inflating: train/images/image (321).jpg  \n",
            "  inflating: train/images/image (322).jpg  \n",
            "  inflating: train/images/image (323).jpg  \n",
            "  inflating: train/images/image (324).jpg  \n",
            "  inflating: train/images/image (325).jpg  \n",
            "  inflating: train/images/image (326).jpg  \n",
            "  inflating: train/images/image (327).jpg  \n",
            "  inflating: train/images/image (328).jpg  \n",
            "  inflating: train/images/image (329).jpg  \n",
            "  inflating: train/images/image (33).jpg  \n",
            "  inflating: train/images/image (330).jpg  \n",
            "  inflating: train/images/image (331).jpg  \n",
            "  inflating: train/images/image (332).jpg  \n",
            "  inflating: train/images/image (333).jpg  \n",
            "  inflating: train/images/image (334).jpg  \n",
            "  inflating: train/images/image (335).jpg  \n",
            "  inflating: train/images/image (336).jpg  \n",
            "  inflating: train/images/image (337).jpg  \n",
            "  inflating: train/images/image (338).jpg  \n",
            "  inflating: train/images/image (339).jpg  \n",
            "  inflating: train/images/image (34).jpg  \n",
            "  inflating: train/images/image (340).jpg  \n",
            "  inflating: train/images/image (341).jpg  \n",
            "  inflating: train/images/image (342).jpg  \n",
            "  inflating: train/images/image (343).jpg  \n",
            "  inflating: train/images/image (344).jpg  \n",
            "  inflating: train/images/image (345).jpg  \n",
            "  inflating: train/images/image (346).jpg  \n",
            "  inflating: train/images/image (347).jpg  \n",
            "  inflating: train/images/image (348).jpg  \n",
            "  inflating: train/images/image (349).jpg  \n",
            "  inflating: train/images/image (35).jpg  \n",
            "  inflating: train/images/image (350).jpg  \n",
            "  inflating: train/images/image (351).jpg  \n",
            "  inflating: train/images/image (352).jpg  \n",
            "  inflating: train/images/image (353).jpg  \n",
            "  inflating: train/images/image (354).jpg  \n",
            "  inflating: train/images/image (355).jpg  \n",
            "  inflating: train/images/image (356).jpg  \n",
            "  inflating: train/images/image (357).jpg  \n",
            "  inflating: train/images/image (358).jpg  \n",
            "  inflating: train/images/image (359).jpg  \n",
            "  inflating: train/images/image (36).jpg  \n",
            "  inflating: train/images/image (360).jpg  \n",
            "  inflating: train/images/image (361).jpg  \n",
            "  inflating: train/images/image (362).jpg  \n",
            "  inflating: train/images/image (363).jpg  \n",
            "  inflating: train/images/image (364).jpg  \n",
            "  inflating: train/images/image (365).jpg  \n",
            "  inflating: train/images/image (366).jpg  \n",
            "  inflating: train/images/image (367).jpg  \n",
            "  inflating: train/images/image (368).jpg  \n",
            "  inflating: train/images/image (369).jpg  \n",
            "  inflating: train/images/image (37).jpg  \n",
            "  inflating: train/images/image (370).jpg  \n",
            "  inflating: train/images/image (371).jpg  \n",
            "  inflating: train/images/image (372).jpg  \n",
            "  inflating: train/images/image (373).jpg  \n",
            "  inflating: train/images/image (374).jpg  \n",
            "  inflating: train/images/image (375).jpg  \n",
            "  inflating: train/images/image (376).jpg  \n",
            "  inflating: train/images/image (377).jpg  \n",
            "  inflating: train/images/image (378).jpg  \n",
            "  inflating: train/images/image (379).jpg  \n",
            "  inflating: train/images/image (38).jpg  \n",
            "  inflating: train/images/image (380).jpg  \n",
            "  inflating: train/images/image (381).jpg  \n",
            "  inflating: train/images/image (382).jpg  \n",
            "  inflating: train/images/image (383).jpg  \n",
            "  inflating: train/images/image (384).jpg  \n",
            "  inflating: train/images/image (385).jpg  \n",
            "  inflating: train/images/image (386).jpg  \n",
            "  inflating: train/images/image (387).jpg  \n",
            "  inflating: train/images/image (388).jpg  \n",
            "  inflating: train/images/image (389).jpg  \n",
            "  inflating: train/images/image (39).jpg  \n",
            "  inflating: train/images/image (390).jpg  \n",
            "  inflating: train/images/image (391).jpg  \n",
            "  inflating: train/images/image (392).jpg  \n",
            "  inflating: train/images/image (393).jpg  \n",
            "  inflating: train/images/image (394).jpg  \n",
            "  inflating: train/images/image (395).jpg  \n",
            "  inflating: train/images/image (396).jpg  \n",
            "  inflating: train/images/image (397).jpg  \n",
            "  inflating: train/images/image (398).jpg  \n",
            "  inflating: train/images/image (399).jpg  \n",
            "  inflating: train/images/image (4).jpg  \n",
            "  inflating: train/images/image (40).jpg  \n",
            "  inflating: train/images/image (400).jpg  \n",
            "  inflating: train/images/image (401).jpg  \n",
            "  inflating: train/images/image (402).jpg  \n",
            "  inflating: train/images/image (403).jpg  \n",
            "  inflating: train/images/image (404).jpg  \n",
            "  inflating: train/images/image (405).jpg  \n",
            "  inflating: train/images/image (406).jpg  \n",
            "  inflating: train/images/image (407).jpg  \n",
            "  inflating: train/images/image (408).jpg  \n",
            "  inflating: train/images/image (409).jpg  \n",
            "  inflating: train/images/image (41).jpg  \n",
            "  inflating: train/images/image (410).jpg  \n",
            "  inflating: train/images/image (411).jpg  \n",
            "  inflating: train/images/image (412).jpg  \n",
            "  inflating: train/images/image (413).jpg  \n",
            "  inflating: train/images/image (414).jpg  \n",
            "  inflating: train/images/image (415).jpg  \n",
            "  inflating: train/images/image (416).jpg  \n",
            "  inflating: train/images/image (417).jpg  \n",
            "  inflating: train/images/image (418).jpg  \n",
            "  inflating: train/images/image (419).jpg  \n",
            "  inflating: train/images/image (42).jpg  \n",
            "  inflating: train/images/image (420).jpg  \n",
            "  inflating: train/images/image (421).jpg  \n",
            "  inflating: train/images/image (422).jpg  \n",
            "  inflating: train/images/image (423).jpg  \n",
            "  inflating: train/images/image (424).jpg  \n",
            "  inflating: train/images/image (425).jpg  \n",
            "  inflating: train/images/image (426).jpg  \n",
            "  inflating: train/images/image (427).jpg  \n",
            "  inflating: train/images/image (428).jpg  \n",
            "  inflating: train/images/image (429).jpg  \n",
            "  inflating: train/images/image (43).jpg  \n",
            "  inflating: train/images/image (430).jpg  \n",
            "  inflating: train/images/image (431).jpg  \n",
            "  inflating: train/images/image (432).jpg  \n",
            "  inflating: train/images/image (433).jpg  \n",
            "  inflating: train/images/image (434).jpg  \n",
            "  inflating: train/images/image (435).jpg  \n",
            "  inflating: train/images/image (436).jpg  \n",
            "  inflating: train/images/image (437).jpg  \n",
            "  inflating: train/images/image (438).jpg  \n",
            "  inflating: train/images/image (439).jpg  \n",
            "  inflating: train/images/image (44).jpg  \n",
            "  inflating: train/images/image (440).jpg  \n",
            "  inflating: train/images/image (441).jpg  \n",
            "  inflating: train/images/image (442).jpg  \n",
            "  inflating: train/images/image (443).jpg  \n",
            "  inflating: train/images/image (444).jpg  \n",
            "  inflating: train/images/image (445).jpg  \n",
            "  inflating: train/images/image (446).jpg  \n",
            "  inflating: train/images/image (447).jpg  \n",
            "  inflating: train/images/image (448).jpg  \n",
            "  inflating: train/images/image (449).jpg  \n",
            "  inflating: train/images/image (45).jpg  \n",
            "  inflating: train/images/image (450).jpg  \n",
            "  inflating: train/images/image (451).jpg  \n",
            "  inflating: train/images/image (452).jpg  \n",
            "  inflating: train/images/image (453).jpg  \n",
            "  inflating: train/images/image (454).jpg  \n",
            "  inflating: train/images/image (455).jpg  \n",
            "  inflating: train/images/image (456).jpg  \n",
            "  inflating: train/images/image (457).jpg  \n",
            "  inflating: train/images/image (458).jpg  \n",
            "  inflating: train/images/image (459).jpg  \n",
            "  inflating: train/images/image (46).jpg  \n",
            "  inflating: train/images/image (460).jpg  \n",
            "  inflating: train/images/image (461).jpg  \n",
            "  inflating: train/images/image (462).jpg  \n",
            "  inflating: train/images/image (463).jpg  \n",
            "  inflating: train/images/image (464).jpg  \n",
            "  inflating: train/images/image (465).jpg  \n",
            "  inflating: train/images/image (466).jpg  \n",
            "  inflating: train/images/image (467).jpg  \n",
            "  inflating: train/images/image (468).jpg  \n",
            "  inflating: train/images/image (469).jpg  \n",
            "  inflating: train/images/image (47).jpg  \n",
            "  inflating: train/images/image (470).jpg  \n",
            "  inflating: train/images/image (471).jpg  \n",
            "  inflating: train/images/image (472).jpg  \n",
            "  inflating: train/images/image (473).jpg  \n",
            "  inflating: train/images/image (474).jpg  \n",
            "  inflating: train/images/image (475).jpg  \n",
            "  inflating: train/images/image (476).jpg  \n",
            "  inflating: train/images/image (477).jpg  \n",
            "  inflating: train/images/image (478).jpg  \n",
            "  inflating: train/images/image (479).jpg  \n",
            "  inflating: train/images/image (48).jpg  \n",
            "  inflating: train/images/image (480).jpg  \n",
            "  inflating: train/images/image (481).jpg  \n",
            "  inflating: train/images/image (482).jpg  \n",
            "  inflating: train/images/image (483).jpg  \n",
            "  inflating: train/images/image (484).jpg  \n",
            "  inflating: train/images/image (485).jpg  \n",
            "  inflating: train/images/image (486).jpg  \n",
            "  inflating: train/images/image (487).jpg  \n",
            "  inflating: train/images/image (488).jpg  \n",
            "  inflating: train/images/image (489).jpg  \n",
            "  inflating: train/images/image (49).jpg  \n",
            "  inflating: train/images/image (490).jpg  \n",
            "  inflating: train/images/image (491).jpg  \n",
            "  inflating: train/images/image (492).jpg  \n",
            "  inflating: train/images/image (493).jpg  \n",
            "  inflating: train/images/image (494).jpg  \n",
            "  inflating: train/images/image (495).jpg  \n",
            "  inflating: train/images/image (496).jpg  \n",
            "  inflating: train/images/image (497).jpg  \n",
            "  inflating: train/images/image (498).jpg  \n",
            "  inflating: train/images/image (499).jpg  \n",
            "  inflating: train/images/image (5).jpg  \n",
            "  inflating: train/images/image (50).jpg  \n",
            "  inflating: train/images/image (500).jpg  \n",
            "  inflating: train/images/image (501).jpg  \n",
            "  inflating: train/images/image (502).jpg  \n",
            "  inflating: train/images/image (503).jpg  \n",
            "  inflating: train/images/image (504).jpg  \n",
            "  inflating: train/images/image (505).jpg  \n",
            "  inflating: train/images/image (506).jpg  \n",
            "  inflating: train/images/image (507).jpg  \n",
            "  inflating: train/images/image (508).jpg  \n",
            "  inflating: train/images/image (509).jpg  \n",
            "  inflating: train/images/image (51).jpg  \n",
            "  inflating: train/images/image (510).jpg  \n",
            "  inflating: train/images/image (511).jpg  \n",
            "  inflating: train/images/image (512).jpg  \n",
            "  inflating: train/images/image (513).jpg  \n",
            "  inflating: train/images/image (514).jpg  \n",
            "  inflating: train/images/image (515).jpg  \n",
            "  inflating: train/images/image (516).jpg  \n",
            "  inflating: train/images/image (517).jpg  \n",
            "  inflating: train/images/image (518).jpg  \n",
            "  inflating: train/images/image (519).jpg  \n",
            "  inflating: train/images/image (52).jpg  \n",
            "  inflating: train/images/image (520).jpg  \n",
            "  inflating: train/images/image (521).jpg  \n",
            "  inflating: train/images/image (522).jpg  \n",
            "  inflating: train/images/image (523).jpg  \n",
            "  inflating: train/images/image (524).jpg  \n",
            "  inflating: train/images/image (525).jpg  \n",
            "  inflating: train/images/image (526).jpg  \n",
            "  inflating: train/images/image (527).jpg  \n",
            "  inflating: train/images/image (528).jpg  \n",
            "  inflating: train/images/image (529).jpg  \n",
            "  inflating: train/images/image (53).jpg  \n",
            "  inflating: train/images/image (530).jpg  \n",
            "  inflating: train/images/image (531).jpg  \n",
            "  inflating: train/images/image (532).jpg  \n",
            "  inflating: train/images/image (533).jpg  \n",
            "  inflating: train/images/image (534).jpg  \n",
            "  inflating: train/images/image (535).jpg  \n",
            "  inflating: train/images/image (536).jpg  \n",
            "  inflating: train/images/image (537).jpg  \n",
            "  inflating: train/images/image (538).jpg  \n",
            "  inflating: train/images/image (539).jpg  \n",
            "  inflating: train/images/image (54).jpg  \n",
            "  inflating: train/images/image (540).jpg  \n",
            "  inflating: train/images/image (541).jpg  \n",
            "  inflating: train/images/image (542).jpg  \n",
            "  inflating: train/images/image (543).jpg  \n",
            "  inflating: train/images/image (544).jpg  \n",
            "  inflating: train/images/image (545).jpg  \n",
            "  inflating: train/images/image (546).jpg  \n",
            "  inflating: train/images/image (547).jpg  \n",
            "  inflating: train/images/image (548).jpg  \n",
            "  inflating: train/images/image (549).jpg  \n",
            "  inflating: train/images/image (55).jpg  \n",
            "  inflating: train/images/image (550).jpg  \n",
            "  inflating: train/images/image (551).jpg  \n",
            "  inflating: train/images/image (552).jpg  \n",
            "  inflating: train/images/image (553).jpg  \n",
            "  inflating: train/images/image (554).jpg  \n",
            "  inflating: train/images/image (555).jpg  \n",
            "  inflating: train/images/image (556).jpg  \n",
            "  inflating: train/images/image (557).jpg  \n",
            "  inflating: train/images/image (558).jpg  \n",
            "  inflating: train/images/image (559).jpg  \n",
            "  inflating: train/images/image (56).jpg  \n",
            "  inflating: train/images/image (560).jpg  \n",
            "  inflating: train/images/image (561).jpg  \n",
            "  inflating: train/images/image (562).jpg  \n",
            "  inflating: train/images/image (563).jpg  \n",
            "  inflating: train/images/image (564).jpg  \n",
            "  inflating: train/images/image (565).jpg  \n",
            "  inflating: train/images/image (566).jpg  \n",
            "  inflating: train/images/image (567).jpg  \n",
            "  inflating: train/images/image (568).jpg  \n",
            "  inflating: train/images/image (569).jpg  \n",
            "  inflating: train/images/image (57).jpg  \n",
            "  inflating: train/images/image (570).jpg  \n",
            "  inflating: train/images/image (571).jpg  \n",
            "  inflating: train/images/image (572).jpg  \n",
            "  inflating: train/images/image (573).jpg  \n",
            "  inflating: train/images/image (574).jpg  \n",
            "  inflating: train/images/image (575).jpg  \n",
            "  inflating: train/images/image (576).jpg  \n",
            "  inflating: train/images/image (577).jpg  \n",
            "  inflating: train/images/image (578).jpg  \n",
            "  inflating: train/images/image (579).jpg  \n",
            "  inflating: train/images/image (58).jpg  \n",
            "  inflating: train/images/image (580).jpg  \n",
            "  inflating: train/images/image (581).jpg  \n",
            "  inflating: train/images/image (582).jpg  \n",
            "  inflating: train/images/image (583).jpg  \n",
            "  inflating: train/images/image (584).jpg  \n",
            "  inflating: train/images/image (585).jpg  \n",
            "  inflating: train/images/image (586).jpg  \n",
            "  inflating: train/images/image (587).jpg  \n",
            "  inflating: train/images/image (588).jpg  \n",
            "  inflating: train/images/image (589).jpg  \n",
            "  inflating: train/images/image (59).jpg  \n",
            "  inflating: train/images/image (590).jpg  \n",
            "  inflating: train/images/image (591).jpg  \n",
            "  inflating: train/images/image (592).jpg  \n",
            "  inflating: train/images/image (593).jpg  \n",
            "  inflating: train/images/image (594).jpg  \n",
            "  inflating: train/images/image (595).jpg  \n",
            "  inflating: train/images/image (596).jpg  \n",
            "  inflating: train/images/image (597).jpg  \n",
            "  inflating: train/images/image (598).jpg  \n",
            "  inflating: train/images/image (599).jpg  \n",
            "  inflating: train/images/image (6).jpg  \n",
            "  inflating: train/images/image (60).jpg  \n",
            "  inflating: train/images/image (600).jpg  \n",
            "  inflating: train/images/image (601).jpg  \n",
            "  inflating: train/images/image (602).jpg  \n",
            "  inflating: train/images/image (603).jpg  \n",
            "  inflating: train/images/image (604).jpg  \n",
            "  inflating: train/images/image (605).jpg  \n",
            "  inflating: train/images/image (606).jpg  \n",
            "  inflating: train/images/image (607).jpg  \n",
            "  inflating: train/images/image (608).jpg  \n",
            "  inflating: train/images/image (609).jpg  \n",
            "  inflating: train/images/image (61).jpg  \n",
            "  inflating: train/images/image (610).jpg  \n",
            "  inflating: train/images/image (611).jpg  \n",
            "  inflating: train/images/image (612).jpg  \n",
            "  inflating: train/images/image (613).jpg  \n",
            "  inflating: train/images/image (614).jpg  \n",
            "  inflating: train/images/image (615).jpg  \n",
            "  inflating: train/images/image (616).jpg  \n",
            "  inflating: train/images/image (617).jpg  \n",
            "  inflating: train/images/image (618).jpg  \n",
            "  inflating: train/images/image (619).jpg  \n",
            "  inflating: train/images/image (62).jpg  \n",
            "  inflating: train/images/image (620).jpg  \n",
            "  inflating: train/images/image (621).jpg  \n",
            "  inflating: train/images/image (622).jpg  \n",
            "  inflating: train/images/image (623).jpg  \n",
            "  inflating: train/images/image (624).jpg  \n",
            "  inflating: train/images/image (625).jpg  \n",
            "  inflating: train/images/image (626).jpg  \n",
            "  inflating: train/images/image (627).jpg  \n",
            "  inflating: train/images/image (628).jpg  \n",
            "  inflating: train/images/image (629).jpg  \n",
            "  inflating: train/images/image (63).jpg  \n",
            "  inflating: train/images/image (630).jpg  \n",
            "  inflating: train/images/image (631).jpg  \n",
            "  inflating: train/images/image (632).jpg  \n",
            "  inflating: train/images/image (633).jpg  \n",
            "  inflating: train/images/image (634).jpg  \n",
            "  inflating: train/images/image (635).jpg  \n",
            "  inflating: train/images/image (636).jpg  \n",
            "  inflating: train/images/image (637).jpg  \n",
            "  inflating: train/images/image (638).jpg  \n",
            "  inflating: train/images/image (639).jpg  \n",
            "  inflating: train/images/image (64).jpg  \n",
            "  inflating: train/images/image (640).jpg  \n",
            "  inflating: train/images/image (641).jpg  \n",
            "  inflating: train/images/image (642).jpg  \n",
            "  inflating: train/images/image (643).jpg  \n",
            "  inflating: train/images/image (644).jpg  \n",
            "  inflating: train/images/image (645).jpg  \n",
            "  inflating: train/images/image (646).jpg  \n",
            "  inflating: train/images/image (647).jpg  \n",
            "  inflating: train/images/image (648).jpg  \n",
            "  inflating: train/images/image (649).jpg  \n",
            "  inflating: train/images/image (65).jpg  \n",
            "  inflating: train/images/image (650).jpg  \n",
            "  inflating: train/images/image (651).jpg  \n",
            "  inflating: train/images/image (652).jpg  \n",
            "  inflating: train/images/image (653).jpg  \n",
            "  inflating: train/images/image (654).jpg  \n",
            "  inflating: train/images/image (655).jpg  \n",
            "  inflating: train/images/image (656).jpg  \n",
            "  inflating: train/images/image (657).jpg  \n",
            "  inflating: train/images/image (658).jpg  \n",
            "  inflating: train/images/image (659).jpg  \n",
            "  inflating: train/images/image (66).jpg  \n",
            "  inflating: train/images/image (660).jpg  \n",
            "  inflating: train/images/image (661).jpg  \n",
            "  inflating: train/images/image (662).jpg  \n",
            "  inflating: train/images/image (663).jpg  \n",
            "  inflating: train/images/image (664).jpg  \n",
            "  inflating: train/images/image (665).jpg  \n",
            "  inflating: train/images/image (666).jpg  \n",
            "  inflating: train/images/image (667).jpg  \n",
            "  inflating: train/images/image (668).jpg  \n",
            "  inflating: train/images/image (669).jpg  \n",
            "  inflating: train/images/image (67).jpg  \n",
            "  inflating: train/images/image (670).jpg  \n",
            "  inflating: train/images/image (671).jpg  \n",
            "  inflating: train/images/image (672).jpg  \n",
            "  inflating: train/images/image (673).jpg  \n",
            "  inflating: train/images/image (674).jpg  \n",
            "  inflating: train/images/image (675).jpg  \n",
            "  inflating: train/images/image (676).jpg  \n",
            "  inflating: train/images/image (677).jpg  \n",
            "  inflating: train/images/image (678).jpg  \n",
            "  inflating: train/images/image (679).jpg  \n",
            "  inflating: train/images/image (68).jpg  \n",
            "  inflating: train/images/image (680).jpg  \n",
            "  inflating: train/images/image (681).jpg  \n",
            "  inflating: train/images/image (682).jpg  \n",
            "  inflating: train/images/image (683).jpg  \n",
            "  inflating: train/images/image (684).jpg  \n",
            "  inflating: train/images/image (685).jpg  \n",
            "  inflating: train/images/image (686).jpg  \n",
            "  inflating: train/images/image (687).jpg  \n",
            "  inflating: train/images/image (688).jpg  \n",
            "  inflating: train/images/image (689).jpg  \n",
            "  inflating: train/images/image (69).jpg  \n",
            "  inflating: train/images/image (690).jpg  \n",
            "  inflating: train/images/image (691).jpg  \n",
            "  inflating: train/images/image (692).jpg  \n",
            "  inflating: train/images/image (693).jpg  \n",
            "  inflating: train/images/image (694).jpg  \n",
            "  inflating: train/images/image (695).jpg  \n",
            "  inflating: train/images/image (696).jpg  \n",
            "  inflating: train/images/image (697).jpg  \n",
            "  inflating: train/images/image (698).jpg  \n",
            "  inflating: train/images/image (699).jpg  \n",
            "  inflating: train/images/image (7).jpg  \n",
            "  inflating: train/images/image (70).jpg  \n",
            "  inflating: train/images/image (700).jpg  \n",
            "  inflating: train/images/image (701).jpg  \n",
            "  inflating: train/images/image (702).jpg  \n",
            "  inflating: train/images/image (703).jpg  \n",
            "  inflating: train/images/image (704).jpg  \n",
            "  inflating: train/images/image (705).jpg  \n",
            "  inflating: train/images/image (706).jpg  \n",
            "  inflating: train/images/image (707).jpg  \n",
            "  inflating: train/images/image (708).jpg  \n",
            "  inflating: train/images/image (709).jpg  \n",
            "  inflating: train/images/image (71).jpg  \n",
            "  inflating: train/images/image (710).jpg  \n",
            "  inflating: train/images/image (711).jpg  \n",
            "  inflating: train/images/image (712).jpg  \n",
            "  inflating: train/images/image (713).jpg  \n",
            "  inflating: train/images/image (714).jpg  \n",
            "  inflating: train/images/image (715).jpg  \n",
            "  inflating: train/images/image (716).jpg  \n",
            "  inflating: train/images/image (717).jpg  \n",
            "  inflating: train/images/image (718).jpg  \n",
            "  inflating: train/images/image (719).jpg  \n",
            "  inflating: train/images/image (72).jpg  \n",
            "  inflating: train/images/image (720).jpg  \n",
            "  inflating: train/images/image (721).jpg  \n",
            "  inflating: train/images/image (722).jpg  \n",
            "  inflating: train/images/image (723).jpg  \n",
            "  inflating: train/images/image (724).jpg  \n",
            "  inflating: train/images/image (725).jpg  \n",
            "  inflating: train/images/image (726).jpg  \n",
            "  inflating: train/images/image (727).jpg  \n",
            "  inflating: train/images/image (728).jpg  \n",
            "  inflating: train/images/image (729).jpg  \n",
            "  inflating: train/images/image (73).jpg  \n",
            "  inflating: train/images/image (730).jpg  \n",
            "  inflating: train/images/image (731).jpg  \n",
            "  inflating: train/images/image (732).jpg  \n",
            "  inflating: train/images/image (733).jpg  \n",
            "  inflating: train/images/image (734).jpg  \n",
            "  inflating: train/images/image (735).jpg  \n",
            "  inflating: train/images/image (736).jpg  \n",
            "  inflating: train/images/image (737).jpg  \n",
            "  inflating: train/images/image (738).jpg  \n",
            "  inflating: train/images/image (739).jpg  \n",
            "  inflating: train/images/image (74).jpg  \n",
            "  inflating: train/images/image (740).jpg  \n",
            "  inflating: train/images/image (741).jpg  \n",
            "  inflating: train/images/image (742).jpg  \n",
            "  inflating: train/images/image (743).jpg  \n",
            "  inflating: train/images/image (746).jpg  \n",
            "  inflating: train/images/image (747).jpg  \n",
            "  inflating: train/images/image (75).jpg  \n",
            "  inflating: train/images/image (750).jpg  \n",
            "  inflating: train/images/image (751).jpg  \n",
            "  inflating: train/images/image (754).jpg  \n",
            "  inflating: train/images/image (755).jpg  \n",
            "  inflating: train/images/image (756).jpg  \n",
            "  inflating: train/images/image (757).jpg  \n",
            "  inflating: train/images/image (758).jpg  \n",
            "  inflating: train/images/image (759).jpg  \n",
            "  inflating: train/images/image (76).jpg  \n",
            "  inflating: train/images/image (760).jpg  \n",
            "  inflating: train/images/image (761).jpg  \n",
            "  inflating: train/images/image (762).jpg  \n",
            "  inflating: train/images/image (763).jpg  \n",
            "  inflating: train/images/image (764).jpg  \n",
            "  inflating: train/images/image (765).jpg  \n",
            "  inflating: train/images/image (766).jpg  \n",
            "  inflating: train/images/image (767).jpg  \n",
            "  inflating: train/images/image (768).jpg  \n",
            "  inflating: train/images/image (769).jpg  \n",
            "  inflating: train/images/image (77).jpg  \n",
            "  inflating: train/images/image (770).jpg  \n",
            "  inflating: train/images/image (771).jpg  \n",
            "  inflating: train/images/image (772).jpg  \n",
            "  inflating: train/images/image (773).jpg  \n",
            "  inflating: train/images/image (774).jpg  \n",
            "  inflating: train/images/image (775).jpg  \n",
            "  inflating: train/images/image (776).jpg  \n",
            "  inflating: train/images/image (777).jpg  \n",
            "  inflating: train/images/image (778).jpg  \n",
            "  inflating: train/images/image (779).jpg  \n",
            "  inflating: train/images/image (78).jpg  \n",
            "  inflating: train/images/image (780).jpg  \n",
            "  inflating: train/images/image (781).jpg  \n",
            "  inflating: train/images/image (782).jpg  \n",
            "  inflating: train/images/image (783).jpg  \n",
            "  inflating: train/images/image (784).jpg  \n",
            "  inflating: train/images/image (785).jpg  \n",
            "  inflating: train/images/image (786).jpg  \n",
            "  inflating: train/images/image (787).jpg  \n",
            "  inflating: train/images/image (788).jpg  \n",
            "  inflating: train/images/image (789).jpg  \n",
            "  inflating: train/images/image (79).jpg  \n",
            "  inflating: train/images/image (790).jpg  \n",
            "  inflating: train/images/image (791).jpg  \n",
            "  inflating: train/images/image (792).jpg  \n",
            "  inflating: train/images/image (793).jpg  \n",
            "  inflating: train/images/image (794).jpg  \n",
            "  inflating: train/images/image (795).jpg  \n",
            "  inflating: train/images/image (796).jpg  \n",
            "  inflating: train/images/image (797).jpg  \n",
            "  inflating: train/images/image (798).jpg  \n",
            "  inflating: train/images/image (799).jpg  \n",
            "  inflating: train/images/image (8).jpg  \n",
            "  inflating: train/images/image (80).jpg  \n",
            "  inflating: train/images/image (800).jpg  \n",
            "  inflating: train/images/image (81).jpg  \n",
            "  inflating: train/images/image (82).jpg  \n",
            "  inflating: train/images/image (83).jpg  \n",
            "  inflating: train/images/image (84).jpg  \n",
            "  inflating: train/images/image (85).jpg  \n",
            "  inflating: train/images/image (86).jpg  \n",
            "  inflating: train/images/image (87).jpg  \n",
            "  inflating: train/images/image (88).jpg  \n",
            "  inflating: train/images/image (89).jpg  \n",
            "  inflating: train/images/image (9).jpg  \n",
            "  inflating: train/images/image (90).jpg  \n",
            "  inflating: train/images/image (91).jpg  \n",
            "  inflating: train/images/image (92).jpg  \n",
            "  inflating: train/images/image (93).jpg  \n",
            "  inflating: train/images/image (94).jpg  \n",
            "  inflating: train/images/image (95).jpg  \n",
            "  inflating: train/images/image (96).jpg  \n",
            "  inflating: train/images/image (97).jpg  \n",
            "  inflating: train/images/image (98).jpg  \n",
            "  inflating: train/images/image (99).jpg  \n",
            " extracting: train/labels/classes.txt  \n",
            "  inflating: train/labels/desktop.ini  \n",
            " extracting: train/labels/image (1).txt  \n",
            "  inflating: train/labels/image (10).txt  \n",
            " extracting: train/labels/image (100).txt  \n",
            " extracting: train/labels/image (101).txt  \n",
            " extracting: train/labels/image (102).txt  \n",
            " extracting: train/labels/image (103).txt  \n",
            " extracting: train/labels/image (104).txt  \n",
            "  inflating: train/labels/image (105).txt  \n",
            "  inflating: train/labels/image (106).txt  \n",
            " extracting: train/labels/image (107).txt  \n",
            " extracting: train/labels/image (108).txt  \n",
            " extracting: train/labels/image (109).txt  \n",
            " extracting: train/labels/image (11).txt  \n",
            "  inflating: train/labels/image (110).txt  \n",
            " extracting: train/labels/image (111).txt  \n",
            " extracting: train/labels/image (112).txt  \n",
            "  inflating: train/labels/image (113).txt  \n",
            "  inflating: train/labels/image (114).txt  \n",
            " extracting: train/labels/image (115).txt  \n",
            " extracting: train/labels/image (116).txt  \n",
            "  inflating: train/labels/image (117).txt  \n",
            " extracting: train/labels/image (118).txt  \n",
            " extracting: train/labels/image (119).txt  \n",
            "  inflating: train/labels/image (12).txt  \n",
            " extracting: train/labels/image (120).txt  \n",
            " extracting: train/labels/image (121).txt  \n",
            " extracting: train/labels/image (122).txt  \n",
            " extracting: train/labels/image (123).txt  \n",
            " extracting: train/labels/image (124).txt  \n",
            "  inflating: train/labels/image (125).txt  \n",
            " extracting: train/labels/image (126).txt  \n",
            " extracting: train/labels/image (127).txt  \n",
            "  inflating: train/labels/image (128).txt  \n",
            " extracting: train/labels/image (129).txt  \n",
            "  inflating: train/labels/image (13).txt  \n",
            " extracting: train/labels/image (130).txt  \n",
            " extracting: train/labels/image (131).txt  \n",
            " extracting: train/labels/image (132).txt  \n",
            " extracting: train/labels/image (133).txt  \n",
            " extracting: train/labels/image (134).txt  \n",
            " extracting: train/labels/image (135).txt  \n",
            " extracting: train/labels/image (136).txt  \n",
            "  inflating: train/labels/image (137).txt  \n",
            " extracting: train/labels/image (138).txt  \n",
            " extracting: train/labels/image (139).txt  \n",
            "  inflating: train/labels/image (14).txt  \n",
            " extracting: train/labels/image (140).txt  \n",
            " extracting: train/labels/image (141).txt  \n",
            "  inflating: train/labels/image (142).txt  \n",
            " extracting: train/labels/image (143).txt  \n",
            " extracting: train/labels/image (144).txt  \n",
            "  inflating: train/labels/image (145).txt  \n",
            " extracting: train/labels/image (146).txt  \n",
            " extracting: train/labels/image (147).txt  \n",
            " extracting: train/labels/image (148).txt  \n",
            "  inflating: train/labels/image (149).txt  \n",
            "  inflating: train/labels/image (15).txt  \n",
            " extracting: train/labels/image (150).txt  \n",
            " extracting: train/labels/image (151).txt  \n",
            " extracting: train/labels/image (152).txt  \n",
            " extracting: train/labels/image (153).txt  \n",
            " extracting: train/labels/image (154).txt  \n",
            " extracting: train/labels/image (155).txt  \n",
            " extracting: train/labels/image (156).txt  \n",
            "  inflating: train/labels/image (157).txt  \n",
            " extracting: train/labels/image (158).txt  \n",
            "  inflating: train/labels/image (159).txt  \n",
            " extracting: train/labels/image (16).txt  \n",
            "  inflating: train/labels/image (160).txt  \n",
            "  inflating: train/labels/image (161).txt  \n",
            "  inflating: train/labels/image (162).txt  \n",
            " extracting: train/labels/image (163).txt  \n",
            " extracting: train/labels/image (164).txt  \n",
            " extracting: train/labels/image (165).txt  \n",
            " extracting: train/labels/image (166).txt  \n",
            "  inflating: train/labels/image (167).txt  \n",
            " extracting: train/labels/image (168).txt  \n",
            "  inflating: train/labels/image (169).txt  \n",
            "  inflating: train/labels/image (17).txt  \n",
            " extracting: train/labels/image (170).txt  \n",
            " extracting: train/labels/image (171).txt  \n",
            "  inflating: train/labels/image (172).txt  \n",
            " extracting: train/labels/image (173).txt  \n",
            " extracting: train/labels/image (174).txt  \n",
            " extracting: train/labels/image (175).txt  \n",
            "  inflating: train/labels/image (176).txt  \n",
            "  inflating: train/labels/image (177).txt  \n",
            " extracting: train/labels/image (178).txt  \n",
            "  inflating: train/labels/image (179).txt  \n",
            "  inflating: train/labels/image (18).txt  \n",
            " extracting: train/labels/image (180).txt  \n",
            "  inflating: train/labels/image (181).txt  \n",
            "  inflating: train/labels/image (182).txt  \n",
            " extracting: train/labels/image (183).txt  \n",
            "  inflating: train/labels/image (184).txt  \n",
            "  inflating: train/labels/image (185).txt  \n",
            "  inflating: train/labels/image (186).txt  \n",
            " extracting: train/labels/image (187).txt  \n",
            " extracting: train/labels/image (188).txt  \n",
            " extracting: train/labels/image (189).txt  \n",
            "  inflating: train/labels/image (19).txt  \n",
            " extracting: train/labels/image (190).txt  \n",
            " extracting: train/labels/image (191).txt  \n",
            " extracting: train/labels/image (192).txt  \n",
            "  inflating: train/labels/image (193).txt  \n",
            "  inflating: train/labels/image (194).txt  \n",
            "  inflating: train/labels/image (195).txt  \n",
            " extracting: train/labels/image (196).txt  \n",
            " extracting: train/labels/image (197).txt  \n",
            " extracting: train/labels/image (198).txt  \n",
            " extracting: train/labels/image (199).txt  \n",
            "  inflating: train/labels/image (2).txt  \n",
            " extracting: train/labels/image (20).txt  \n",
            " extracting: train/labels/image (200).txt  \n",
            " extracting: train/labels/image (201).txt  \n",
            "  inflating: train/labels/image (202).txt  \n",
            "  inflating: train/labels/image (203).txt  \n",
            " extracting: train/labels/image (204).txt  \n",
            "  inflating: train/labels/image (205).txt  \n",
            " extracting: train/labels/image (206).txt  \n",
            " extracting: train/labels/image (207).txt  \n",
            " extracting: train/labels/image (208).txt  \n",
            " extracting: train/labels/image (209).txt  \n",
            " extracting: train/labels/image (21).txt  \n",
            "  inflating: train/labels/image (210).txt  \n",
            " extracting: train/labels/image (211).txt  \n",
            " extracting: train/labels/image (212).txt  \n",
            " extracting: train/labels/image (213).txt  \n",
            " extracting: train/labels/image (214).txt  \n",
            " extracting: train/labels/image (215).txt  \n",
            " extracting: train/labels/image (216).txt  \n",
            "  inflating: train/labels/image (217).txt  \n",
            " extracting: train/labels/image (218).txt  \n",
            "  inflating: train/labels/image (219).txt  \n",
            " extracting: train/labels/image (22).txt  \n",
            " extracting: train/labels/image (220).txt  \n",
            " extracting: train/labels/image (221).txt  \n",
            " extracting: train/labels/image (222).txt  \n",
            " extracting: train/labels/image (223).txt  \n",
            "  inflating: train/labels/image (224).txt  \n",
            " extracting: train/labels/image (225).txt  \n",
            " extracting: train/labels/image (226).txt  \n",
            " extracting: train/labels/image (227).txt  \n",
            " extracting: train/labels/image (228).txt  \n",
            "  inflating: train/labels/image (229).txt  \n",
            "  inflating: train/labels/image (23).txt  \n",
            " extracting: train/labels/image (230).txt  \n",
            " extracting: train/labels/image (231).txt  \n",
            " extracting: train/labels/image (232).txt  \n",
            " extracting: train/labels/image (233).txt  \n",
            " extracting: train/labels/image (234).txt  \n",
            "  inflating: train/labels/image (235).txt  \n",
            " extracting: train/labels/image (236).txt  \n",
            " extracting: train/labels/image (237).txt  \n",
            " extracting: train/labels/image (238).txt  \n",
            " extracting: train/labels/image (239).txt  \n",
            "  inflating: train/labels/image (24).txt  \n",
            " extracting: train/labels/image (240).txt  \n",
            "  inflating: train/labels/image (241).txt  \n",
            " extracting: train/labels/image (242).txt  \n",
            " extracting: train/labels/image (243).txt  \n",
            " extracting: train/labels/image (244).txt  \n",
            "  inflating: train/labels/image (245).txt  \n",
            " extracting: train/labels/image (246).txt  \n",
            " extracting: train/labels/image (247).txt  \n",
            "  inflating: train/labels/image (248).txt  \n",
            " extracting: train/labels/image (249).txt  \n",
            "  inflating: train/labels/image (25).txt  \n",
            "  inflating: train/labels/image (250).txt  \n",
            " extracting: train/labels/image (251).txt  \n",
            " extracting: train/labels/image (252).txt  \n",
            " extracting: train/labels/image (253).txt  \n",
            " extracting: train/labels/image (254).txt  \n",
            "  inflating: train/labels/image (255).txt  \n",
            " extracting: train/labels/image (256).txt  \n",
            " extracting: train/labels/image (257).txt  \n",
            " extracting: train/labels/image (258).txt  \n",
            " extracting: train/labels/image (259).txt  \n",
            " extracting: train/labels/image (26).txt  \n",
            "  inflating: train/labels/image (260).txt  \n",
            " extracting: train/labels/image (261).txt  \n",
            " extracting: train/labels/image (262).txt  \n",
            " extracting: train/labels/image (263).txt  \n",
            " extracting: train/labels/image (264).txt  \n",
            "  inflating: train/labels/image (265).txt  \n",
            "  inflating: train/labels/image (266).txt  \n",
            "  inflating: train/labels/image (267).txt  \n",
            "  inflating: train/labels/image (268).txt  \n",
            " extracting: train/labels/image (269).txt  \n",
            " extracting: train/labels/image (27).txt  \n",
            "  inflating: train/labels/image (270).txt  \n",
            "  inflating: train/labels/image (271).txt  \n",
            " extracting: train/labels/image (272).txt  \n",
            "  inflating: train/labels/image (273).txt  \n",
            " extracting: train/labels/image (274).txt  \n",
            "  inflating: train/labels/image (275).txt  \n",
            " extracting: train/labels/image (276).txt  \n",
            "  inflating: train/labels/image (277).txt  \n",
            " extracting: train/labels/image (278).txt  \n",
            " extracting: train/labels/image (279).txt  \n",
            "  inflating: train/labels/image (28).txt  \n",
            "  inflating: train/labels/image (280).txt  \n",
            " extracting: train/labels/image (281).txt  \n",
            " extracting: train/labels/image (282).txt  \n",
            " extracting: train/labels/image (283).txt  \n",
            " extracting: train/labels/image (284).txt  \n",
            " extracting: train/labels/image (285).txt  \n",
            " extracting: train/labels/image (286).txt  \n",
            " extracting: train/labels/image (287).txt  \n",
            " extracting: train/labels/image (288).txt  \n",
            " extracting: train/labels/image (289).txt  \n",
            " extracting: train/labels/image (29).txt  \n",
            " extracting: train/labels/image (290).txt  \n",
            " extracting: train/labels/image (291).txt  \n",
            "  inflating: train/labels/image (292).txt  \n",
            " extracting: train/labels/image (293).txt  \n",
            "  inflating: train/labels/image (294).txt  \n",
            " extracting: train/labels/image (295).txt  \n",
            " extracting: train/labels/image (296).txt  \n",
            "  inflating: train/labels/image (297).txt  \n",
            " extracting: train/labels/image (298).txt  \n",
            "  inflating: train/labels/image (299).txt  \n",
            "  inflating: train/labels/image (3).txt  \n",
            " extracting: train/labels/image (30).txt  \n",
            " extracting: train/labels/image (300).txt  \n",
            " extracting: train/labels/image (301).txt  \n",
            " extracting: train/labels/image (302).txt  \n",
            " extracting: train/labels/image (303).txt  \n",
            "  inflating: train/labels/image (304).txt  \n",
            " extracting: train/labels/image (305).txt  \n",
            " extracting: train/labels/image (306).txt  \n",
            " extracting: train/labels/image (307).txt  \n",
            " extracting: train/labels/image (308).txt  \n",
            " extracting: train/labels/image (309).txt  \n",
            " extracting: train/labels/image (31).txt  \n",
            " extracting: train/labels/image (310).txt  \n",
            " extracting: train/labels/image (311).txt  \n",
            " extracting: train/labels/image (312).txt  \n",
            " extracting: train/labels/image (313).txt  \n",
            " extracting: train/labels/image (314).txt  \n",
            "  inflating: train/labels/image (315).txt  \n",
            " extracting: train/labels/image (316).txt  \n",
            "  inflating: train/labels/image (317).txt  \n",
            " extracting: train/labels/image (318).txt  \n",
            " extracting: train/labels/image (319).txt  \n",
            " extracting: train/labels/image (32).txt  \n",
            " extracting: train/labels/image (320).txt  \n",
            " extracting: train/labels/image (321).txt  \n",
            " extracting: train/labels/image (322).txt  \n",
            "  inflating: train/labels/image (323).txt  \n",
            "  inflating: train/labels/image (324).txt  \n",
            " extracting: train/labels/image (325).txt  \n",
            " extracting: train/labels/image (326).txt  \n",
            "  inflating: train/labels/image (327).txt  \n",
            " extracting: train/labels/image (328).txt  \n",
            "  inflating: train/labels/image (329).txt  \n",
            " extracting: train/labels/image (33).txt  \n",
            "  inflating: train/labels/image (330).txt  \n",
            "  inflating: train/labels/image (331).txt  \n",
            "  inflating: train/labels/image (332).txt  \n",
            "  inflating: train/labels/image (333).txt  \n",
            " extracting: train/labels/image (334).txt  \n",
            " extracting: train/labels/image (335).txt  \n",
            " extracting: train/labels/image (336).txt  \n",
            " extracting: train/labels/image (337).txt  \n",
            " extracting: train/labels/image (338).txt  \n",
            " extracting: train/labels/image (339).txt  \n",
            " extracting: train/labels/image (34).txt  \n",
            " extracting: train/labels/image (340).txt  \n",
            " extracting: train/labels/image (341).txt  \n",
            " extracting: train/labels/image (342).txt  \n",
            " extracting: train/labels/image (343).txt  \n",
            "  inflating: train/labels/image (344).txt  \n",
            "  inflating: train/labels/image (345).txt  \n",
            " extracting: train/labels/image (346).txt  \n",
            "  inflating: train/labels/image (347).txt  \n",
            " extracting: train/labels/image (348).txt  \n",
            " extracting: train/labels/image (349).txt  \n",
            " extracting: train/labels/image (35).txt  \n",
            "  inflating: train/labels/image (350).txt  \n",
            " extracting: train/labels/image (351).txt  \n",
            "  inflating: train/labels/image (352).txt  \n",
            " extracting: train/labels/image (353).txt  \n",
            " extracting: train/labels/image (354).txt  \n",
            "  inflating: train/labels/image (355).txt  \n",
            " extracting: train/labels/image (356).txt  \n",
            " extracting: train/labels/image (357).txt  \n",
            " extracting: train/labels/image (358).txt  \n",
            " extracting: train/labels/image (359).txt  \n",
            " extracting: train/labels/image (36).txt  \n",
            "  inflating: train/labels/image (360).txt  \n",
            " extracting: train/labels/image (361).txt  \n",
            " extracting: train/labels/image (362).txt  \n",
            "  inflating: train/labels/image (363).txt  \n",
            " extracting: train/labels/image (364).txt  \n",
            "  inflating: train/labels/image (365).txt  \n",
            "  inflating: train/labels/image (366).txt  \n",
            "  inflating: train/labels/image (367).txt  \n",
            "  inflating: train/labels/image (368).txt  \n",
            " extracting: train/labels/image (369).txt  \n",
            " extracting: train/labels/image (37).txt  \n",
            "  inflating: train/labels/image (370).txt  \n",
            " extracting: train/labels/image (371).txt  \n",
            "  inflating: train/labels/image (372).txt  \n",
            "  inflating: train/labels/image (373).txt  \n",
            " extracting: train/labels/image (374).txt  \n",
            "  inflating: train/labels/image (375).txt  \n",
            "  inflating: train/labels/image (376).txt  \n",
            " extracting: train/labels/image (377).txt  \n",
            " extracting: train/labels/image (378).txt  \n",
            " extracting: train/labels/image (379).txt  \n",
            "  inflating: train/labels/image (38).txt  \n",
            " extracting: train/labels/image (380).txt  \n",
            "  inflating: train/labels/image (381).txt  \n",
            "  inflating: train/labels/image (382).txt  \n",
            " extracting: train/labels/image (383).txt  \n",
            " extracting: train/labels/image (384).txt  \n",
            " extracting: train/labels/image (385).txt  \n",
            " extracting: train/labels/image (386).txt  \n",
            "  inflating: train/labels/image (387).txt  \n",
            "  inflating: train/labels/image (388).txt  \n",
            " extracting: train/labels/image (389).txt  \n",
            "  inflating: train/labels/image (39).txt  \n",
            " extracting: train/labels/image (390).txt  \n",
            " extracting: train/labels/image (391).txt  \n",
            " extracting: train/labels/image (392).txt  \n",
            " extracting: train/labels/image (393).txt  \n",
            " extracting: train/labels/image (394).txt  \n",
            " extracting: train/labels/image (395).txt  \n",
            " extracting: train/labels/image (396).txt  \n",
            " extracting: train/labels/image (397).txt  \n",
            " extracting: train/labels/image (398).txt  \n",
            " extracting: train/labels/image (399).txt  \n",
            "  inflating: train/labels/image (4).txt  \n",
            " extracting: train/labels/image (40).txt  \n",
            " extracting: train/labels/image (400).txt  \n",
            " extracting: train/labels/image (401).txt  \n",
            " extracting: train/labels/image (402).txt  \n",
            " extracting: train/labels/image (403).txt  \n",
            "  inflating: train/labels/image (404).txt  \n",
            "  inflating: train/labels/image (405).txt  \n",
            " extracting: train/labels/image (406).txt  \n",
            " extracting: train/labels/image (407).txt  \n",
            " extracting: train/labels/image (408).txt  \n",
            " extracting: train/labels/image (409).txt  \n",
            " extracting: train/labels/image (41).txt  \n",
            " extracting: train/labels/image (410).txt  \n",
            " extracting: train/labels/image (411).txt  \n",
            "  inflating: train/labels/image (412).txt  \n",
            " extracting: train/labels/image (413).txt  \n",
            " extracting: train/labels/image (414).txt  \n",
            " extracting: train/labels/image (415).txt  \n",
            " extracting: train/labels/image (416).txt  \n",
            "  inflating: train/labels/image (417).txt  \n",
            "  inflating: train/labels/image (418).txt  \n",
            " extracting: train/labels/image (419).txt  \n",
            "  inflating: train/labels/image (42).txt  \n",
            " extracting: train/labels/image (420).txt  \n",
            " extracting: train/labels/image (421).txt  \n",
            " extracting: train/labels/image (422).txt  \n",
            " extracting: train/labels/image (423).txt  \n",
            "  inflating: train/labels/image (424).txt  \n",
            " extracting: train/labels/image (425).txt  \n",
            " extracting: train/labels/image (426).txt  \n",
            "  inflating: train/labels/image (427).txt  \n",
            "  inflating: train/labels/image (428).txt  \n",
            " extracting: train/labels/image (429).txt  \n",
            "  inflating: train/labels/image (43).txt  \n",
            " extracting: train/labels/image (430).txt  \n",
            " extracting: train/labels/image (431).txt  \n",
            " extracting: train/labels/image (432).txt  \n",
            " extracting: train/labels/image (433).txt  \n",
            "  inflating: train/labels/image (434).txt  \n",
            " extracting: train/labels/image (435).txt  \n",
            " extracting: train/labels/image (436).txt  \n",
            "  inflating: train/labels/image (437).txt  \n",
            "  inflating: train/labels/image (438).txt  \n",
            "  inflating: train/labels/image (439).txt  \n",
            " extracting: train/labels/image (44).txt  \n",
            "  inflating: train/labels/image (440).txt  \n",
            "  inflating: train/labels/image (441).txt  \n",
            "  inflating: train/labels/image (442).txt  \n",
            " extracting: train/labels/image (443).txt  \n",
            " extracting: train/labels/image (444).txt  \n",
            " extracting: train/labels/image (445).txt  \n",
            " extracting: train/labels/image (446).txt  \n",
            " extracting: train/labels/image (447).txt  \n",
            " extracting: train/labels/image (448).txt  \n",
            " extracting: train/labels/image (449).txt  \n",
            "  inflating: train/labels/image (45).txt  \n",
            "  inflating: train/labels/image (450).txt  \n",
            " extracting: train/labels/image (451).txt  \n",
            " extracting: train/labels/image (452).txt  \n",
            " extracting: train/labels/image (453).txt  \n",
            " extracting: train/labels/image (454).txt  \n",
            "  inflating: train/labels/image (455).txt  \n",
            "  inflating: train/labels/image (456).txt  \n",
            "  inflating: train/labels/image (457).txt  \n",
            "  inflating: train/labels/image (458).txt  \n",
            "  inflating: train/labels/image (459).txt  \n",
            " extracting: train/labels/image (46).txt  \n",
            "  inflating: train/labels/image (460).txt  \n",
            "  inflating: train/labels/image (461).txt  \n",
            "  inflating: train/labels/image (462).txt  \n",
            "  inflating: train/labels/image (463).txt  \n",
            "  inflating: train/labels/image (464).txt  \n",
            "  inflating: train/labels/image (465).txt  \n",
            "  inflating: train/labels/image (466).txt  \n",
            "  inflating: train/labels/image (467).txt  \n",
            "  inflating: train/labels/image (468).txt  \n",
            "  inflating: train/labels/image (469).txt  \n",
            " extracting: train/labels/image (47).txt  \n",
            "  inflating: train/labels/image (470).txt  \n",
            "  inflating: train/labels/image (471).txt  \n",
            "  inflating: train/labels/image (472).txt  \n",
            "  inflating: train/labels/image (473).txt  \n",
            "  inflating: train/labels/image (474).txt  \n",
            "  inflating: train/labels/image (475).txt  \n",
            "  inflating: train/labels/image (476).txt  \n",
            "  inflating: train/labels/image (477).txt  \n",
            "  inflating: train/labels/image (478).txt  \n",
            "  inflating: train/labels/image (479).txt  \n",
            "  inflating: train/labels/image (48).txt  \n",
            "  inflating: train/labels/image (480).txt  \n",
            "  inflating: train/labels/image (481).txt  \n",
            "  inflating: train/labels/image (482).txt  \n",
            "  inflating: train/labels/image (483).txt  \n",
            "  inflating: train/labels/image (484).txt  \n",
            "  inflating: train/labels/image (485).txt  \n",
            "  inflating: train/labels/image (486).txt  \n",
            "  inflating: train/labels/image (487).txt  \n",
            "  inflating: train/labels/image (488).txt  \n",
            " extracting: train/labels/image (489).txt  \n",
            " extracting: train/labels/image (49).txt  \n",
            " extracting: train/labels/image (490).txt  \n",
            " extracting: train/labels/image (491).txt  \n",
            " extracting: train/labels/image (492).txt  \n",
            "  inflating: train/labels/image (493).txt  \n",
            " extracting: train/labels/image (494).txt  \n",
            " extracting: train/labels/image (495).txt  \n",
            "  inflating: train/labels/image (496).txt  \n",
            "  inflating: train/labels/image (497).txt  \n",
            "  inflating: train/labels/image (498).txt  \n",
            "  inflating: train/labels/image (499).txt  \n",
            " extracting: train/labels/image (5).txt  \n",
            " extracting: train/labels/image (50).txt  \n",
            "  inflating: train/labels/image (500).txt  \n",
            "  inflating: train/labels/image (501).txt  \n",
            "  inflating: train/labels/image (502).txt  \n",
            "  inflating: train/labels/image (503).txt  \n",
            "  inflating: train/labels/image (504).txt  \n",
            "  inflating: train/labels/image (505).txt  \n",
            "  inflating: train/labels/image (506).txt  \n",
            "  inflating: train/labels/image (507).txt  \n",
            "  inflating: train/labels/image (508).txt  \n",
            "  inflating: train/labels/image (509).txt  \n",
            " extracting: train/labels/image (51).txt  \n",
            "  inflating: train/labels/image (510).txt  \n",
            "  inflating: train/labels/image (511).txt  \n",
            "  inflating: train/labels/image (512).txt  \n",
            "  inflating: train/labels/image (513).txt  \n",
            "  inflating: train/labels/image (514).txt  \n",
            "  inflating: train/labels/image (515).txt  \n",
            "  inflating: train/labels/image (516).txt  \n",
            "  inflating: train/labels/image (517).txt  \n",
            "  inflating: train/labels/image (518).txt  \n",
            "  inflating: train/labels/image (519).txt  \n",
            " extracting: train/labels/image (52).txt  \n",
            "  inflating: train/labels/image (520).txt  \n",
            "  inflating: train/labels/image (521).txt  \n",
            "  inflating: train/labels/image (522).txt  \n",
            "  inflating: train/labels/image (523).txt  \n",
            "  inflating: train/labels/image (525).txt  \n",
            "  inflating: train/labels/image (526).txt  \n",
            " extracting: train/labels/image (528).txt  \n",
            " extracting: train/labels/image (529).txt  \n",
            " extracting: train/labels/image (53).txt  \n",
            " extracting: train/labels/image (530).txt  \n",
            "  inflating: train/labels/image (531).txt  \n",
            " extracting: train/labels/image (532).txt  \n",
            " extracting: train/labels/image (533).txt  \n",
            " extracting: train/labels/image (534).txt  \n",
            "  inflating: train/labels/image (535).txt  \n",
            "  inflating: train/labels/image (536).txt  \n",
            "  inflating: train/labels/image (537).txt  \n",
            "  inflating: train/labels/image (538).txt  \n",
            "  inflating: train/labels/image (539).txt  \n",
            " extracting: train/labels/image (54).txt  \n",
            "  inflating: train/labels/image (540).txt  \n",
            "  inflating: train/labels/image (541).txt  \n",
            "  inflating: train/labels/image (542).txt  \n",
            " extracting: train/labels/image (543).txt  \n",
            " extracting: train/labels/image (544).txt  \n",
            "  inflating: train/labels/image (545).txt  \n",
            "  inflating: train/labels/image (546).txt  \n",
            "  inflating: train/labels/image (547).txt  \n",
            "  inflating: train/labels/image (548).txt  \n",
            "  inflating: train/labels/image (549).txt  \n",
            " extracting: train/labels/image (55).txt  \n",
            "  inflating: train/labels/image (550).txt  \n",
            " extracting: train/labels/image (551).txt  \n",
            " extracting: train/labels/image (552).txt  \n",
            "  inflating: train/labels/image (553).txt  \n",
            " extracting: train/labels/image (554).txt  \n",
            "  inflating: train/labels/image (555).txt  \n",
            " extracting: train/labels/image (556).txt  \n",
            " extracting: train/labels/image (557).txt  \n",
            "  inflating: train/labels/image (558).txt  \n",
            " extracting: train/labels/image (559).txt  \n",
            " extracting: train/labels/image (56).txt  \n",
            " extracting: train/labels/image (560).txt  \n",
            " extracting: train/labels/image (561).txt  \n",
            "  inflating: train/labels/image (562).txt  \n",
            "  inflating: train/labels/image (563).txt  \n",
            "  inflating: train/labels/image (564).txt  \n",
            "  inflating: train/labels/image (565).txt  \n",
            " extracting: train/labels/image (566).txt  \n",
            " extracting: train/labels/image (567).txt  \n",
            " extracting: train/labels/image (568).txt  \n",
            " extracting: train/labels/image (569).txt  \n",
            "  inflating: train/labels/image (57).txt  \n",
            " extracting: train/labels/image (570).txt  \n",
            " extracting: train/labels/image (571).txt  \n",
            " extracting: train/labels/image (572).txt  \n",
            " extracting: train/labels/image (573).txt  \n",
            " extracting: train/labels/image (574).txt  \n",
            " extracting: train/labels/image (575).txt  \n",
            " extracting: train/labels/image (576).txt  \n",
            " extracting: train/labels/image (577).txt  \n",
            " extracting: train/labels/image (578).txt  \n",
            "  inflating: train/labels/image (58).txt  \n",
            " extracting: train/labels/image (580).txt  \n",
            " extracting: train/labels/image (581).txt  \n",
            "  inflating: train/labels/image (582).txt  \n",
            "  inflating: train/labels/image (583).txt  \n",
            "  inflating: train/labels/image (584).txt  \n",
            "  inflating: train/labels/image (585).txt  \n",
            "  inflating: train/labels/image (586).txt  \n",
            "  inflating: train/labels/image (587).txt  \n",
            "  inflating: train/labels/image (588).txt  \n",
            "  inflating: train/labels/image (589).txt  \n",
            "  inflating: train/labels/image (59).txt  \n",
            "  inflating: train/labels/image (590).txt  \n",
            "  inflating: train/labels/image (591).txt  \n",
            "  inflating: train/labels/image (592).txt  \n",
            "  inflating: train/labels/image (593).txt  \n",
            "  inflating: train/labels/image (594).txt  \n",
            "  inflating: train/labels/image (595).txt  \n",
            "  inflating: train/labels/image (596).txt  \n",
            "  inflating: train/labels/image (597).txt  \n",
            "  inflating: train/labels/image (598).txt  \n",
            " extracting: train/labels/image (599).txt  \n",
            " extracting: train/labels/image (6).txt  \n",
            " extracting: train/labels/image (60).txt  \n",
            "  inflating: train/labels/image (600).txt  \n",
            "  inflating: train/labels/image (601).txt  \n",
            "  inflating: train/labels/image (602).txt  \n",
            "  inflating: train/labels/image (603).txt  \n",
            "  inflating: train/labels/image (604).txt  \n",
            "  inflating: train/labels/image (605).txt  \n",
            "  inflating: train/labels/image (606).txt  \n",
            "  inflating: train/labels/image (607).txt  \n",
            "  inflating: train/labels/image (608).txt  \n",
            "  inflating: train/labels/image (609).txt  \n",
            " extracting: train/labels/image (61).txt  \n",
            "  inflating: train/labels/image (610).txt  \n",
            "  inflating: train/labels/image (611).txt  \n",
            "  inflating: train/labels/image (612).txt  \n",
            "  inflating: train/labels/image (613).txt  \n",
            " extracting: train/labels/image (614).txt  \n",
            "  inflating: train/labels/image (615).txt  \n",
            " extracting: train/labels/image (616).txt  \n",
            " extracting: train/labels/image (617).txt  \n",
            " extracting: train/labels/image (618).txt  \n",
            "  inflating: train/labels/image (619).txt  \n",
            " extracting: train/labels/image (62).txt  \n",
            " extracting: train/labels/image (620).txt  \n",
            " extracting: train/labels/image (621).txt  \n",
            "  inflating: train/labels/image (622).txt  \n",
            "  inflating: train/labels/image (623).txt  \n",
            "  inflating: train/labels/image (624).txt  \n",
            "  inflating: train/labels/image (625).txt  \n",
            "  inflating: train/labels/image (626).txt  \n",
            "  inflating: train/labels/image (627).txt  \n",
            "  inflating: train/labels/image (628).txt  \n",
            "  inflating: train/labels/image (629).txt  \n",
            " extracting: train/labels/image (63).txt  \n",
            "  inflating: train/labels/image (630).txt  \n",
            "  inflating: train/labels/image (631).txt  \n",
            "  inflating: train/labels/image (632).txt  \n",
            "  inflating: train/labels/image (633).txt  \n",
            "  inflating: train/labels/image (634).txt  \n",
            "  inflating: train/labels/image (635).txt  \n",
            "  inflating: train/labels/image (636).txt  \n",
            "  inflating: train/labels/image (637).txt  \n",
            "  inflating: train/labels/image (638).txt  \n",
            "  inflating: train/labels/image (639).txt  \n",
            " extracting: train/labels/image (64).txt  \n",
            "  inflating: train/labels/image (640).txt  \n",
            "  inflating: train/labels/image (641).txt  \n",
            "  inflating: train/labels/image (642).txt  \n",
            "  inflating: train/labels/image (643).txt  \n",
            "  inflating: train/labels/image (644).txt  \n",
            "  inflating: train/labels/image (645).txt  \n",
            "  inflating: train/labels/image (646).txt  \n",
            "  inflating: train/labels/image (647).txt  \n",
            "  inflating: train/labels/image (648).txt  \n",
            "  inflating: train/labels/image (649).txt  \n",
            " extracting: train/labels/image (65).txt  \n",
            "  inflating: train/labels/image (650).txt  \n",
            "  inflating: train/labels/image (651).txt  \n",
            "  inflating: train/labels/image (652).txt  \n",
            "  inflating: train/labels/image (653).txt  \n",
            "  inflating: train/labels/image (654).txt  \n",
            "  inflating: train/labels/image (655).txt  \n",
            "  inflating: train/labels/image (656).txt  \n",
            "  inflating: train/labels/image (657).txt  \n",
            "  inflating: train/labels/image (658).txt  \n",
            "  inflating: train/labels/image (659).txt  \n",
            "  inflating: train/labels/image (66).txt  \n",
            "  inflating: train/labels/image (660).txt  \n",
            "  inflating: train/labels/image (661).txt  \n",
            "  inflating: train/labels/image (662).txt  \n",
            "  inflating: train/labels/image (663).txt  \n",
            "  inflating: train/labels/image (664).txt  \n",
            "  inflating: train/labels/image (665).txt  \n",
            "  inflating: train/labels/image (666).txt  \n",
            "  inflating: train/labels/image (667).txt  \n",
            "  inflating: train/labels/image (668).txt  \n",
            "  inflating: train/labels/image (669).txt  \n",
            " extracting: train/labels/image (67).txt  \n",
            "  inflating: train/labels/image (670).txt  \n",
            "  inflating: train/labels/image (671).txt  \n",
            "  inflating: train/labels/image (672).txt  \n",
            "  inflating: train/labels/image (673).txt  \n",
            "  inflating: train/labels/image (674).txt  \n",
            "  inflating: train/labels/image (675).txt  \n",
            "  inflating: train/labels/image (676).txt  \n",
            "  inflating: train/labels/image (677).txt  \n",
            "  inflating: train/labels/image (678).txt  \n",
            "  inflating: train/labels/image (679).txt  \n",
            " extracting: train/labels/image (68).txt  \n",
            "  inflating: train/labels/image (680).txt  \n",
            "  inflating: train/labels/image (681).txt  \n",
            "  inflating: train/labels/image (682).txt  \n",
            "  inflating: train/labels/image (683).txt  \n",
            "  inflating: train/labels/image (684).txt  \n",
            "  inflating: train/labels/image (685).txt  \n",
            "  inflating: train/labels/image (686).txt  \n",
            "  inflating: train/labels/image (687).txt  \n",
            "  inflating: train/labels/image (688).txt  \n",
            "  inflating: train/labels/image (689).txt  \n",
            "  inflating: train/labels/image (69).txt  \n",
            "  inflating: train/labels/image (690).txt  \n",
            "  inflating: train/labels/image (691).txt  \n",
            "  inflating: train/labels/image (692).txt  \n",
            "  inflating: train/labels/image (693).txt  \n",
            " extracting: train/labels/image (694).txt  \n",
            " extracting: train/labels/image (695).txt  \n",
            "  inflating: train/labels/image (696).txt  \n",
            " extracting: train/labels/image (697).txt  \n",
            " extracting: train/labels/image (698).txt  \n",
            " extracting: train/labels/image (699).txt  \n",
            " extracting: train/labels/image (7).txt  \n",
            " extracting: train/labels/image (70).txt  \n",
            "  inflating: train/labels/image (700).txt  \n",
            " extracting: train/labels/image (701).txt  \n",
            " extracting: train/labels/image (702).txt  \n",
            "  inflating: train/labels/image (703).txt  \n",
            " extracting: train/labels/image (704).txt  \n",
            " extracting: train/labels/image (705).txt  \n",
            " extracting: train/labels/image (706).txt  \n",
            "  inflating: train/labels/image (707).txt  \n",
            "  inflating: train/labels/image (708).txt  \n",
            "  inflating: train/labels/image (709).txt  \n",
            " extracting: train/labels/image (71).txt  \n",
            " extracting: train/labels/image (710).txt  \n",
            " extracting: train/labels/image (711).txt  \n",
            " extracting: train/labels/image (712).txt  \n",
            " extracting: train/labels/image (713).txt  \n",
            " extracting: train/labels/image (714).txt  \n",
            "  inflating: train/labels/image (715).txt  \n",
            " extracting: train/labels/image (716).txt  \n",
            " extracting: train/labels/image (717).txt  \n",
            "  inflating: train/labels/image (718).txt  \n",
            " extracting: train/labels/image (719).txt  \n",
            "  inflating: train/labels/image (72).txt  \n",
            "  inflating: train/labels/image (720).txt  \n",
            " extracting: train/labels/image (721).txt  \n",
            " extracting: train/labels/image (722).txt  \n",
            " extracting: train/labels/image (723).txt  \n",
            " extracting: train/labels/image (724).txt  \n",
            " extracting: train/labels/image (725).txt  \n",
            "  inflating: train/labels/image (726).txt  \n",
            " extracting: train/labels/image (727).txt  \n",
            "  inflating: train/labels/image (728).txt  \n",
            " extracting: train/labels/image (729).txt  \n",
            " extracting: train/labels/image (73).txt  \n",
            "  inflating: train/labels/image (730).txt  \n",
            " extracting: train/labels/image (731).txt  \n",
            "  inflating: train/labels/image (732).txt  \n",
            " extracting: train/labels/image (733).txt  \n",
            " extracting: train/labels/image (734).txt  \n",
            "  inflating: train/labels/image (735).txt  \n",
            "  inflating: train/labels/image (736).txt  \n",
            "  inflating: train/labels/image (737).txt  \n",
            " extracting: train/labels/image (738).txt  \n",
            " extracting: train/labels/image (739).txt  \n",
            " extracting: train/labels/image (74).txt  \n",
            " extracting: train/labels/image (740).txt  \n",
            "  inflating: train/labels/image (741).txt  \n",
            " extracting: train/labels/image (742).txt  \n",
            " extracting: train/labels/image (743).txt  \n",
            " extracting: train/labels/image (746).txt  \n",
            " extracting: train/labels/image (747).txt  \n",
            " extracting: train/labels/image (75).txt  \n",
            "  inflating: train/labels/image (750).txt  \n",
            " extracting: train/labels/image (751).txt  \n",
            "  inflating: train/labels/image (754).txt  \n",
            "  inflating: train/labels/image (755).txt  \n",
            " extracting: train/labels/image (756).txt  \n",
            " extracting: train/labels/image (757).txt  \n",
            "  inflating: train/labels/image (758).txt  \n",
            " extracting: train/labels/image (759).txt  \n",
            " extracting: train/labels/image (76).txt  \n",
            " extracting: train/labels/image (760).txt  \n",
            "  inflating: train/labels/image (761).txt  \n",
            "  inflating: train/labels/image (762).txt  \n",
            "  inflating: train/labels/image (763).txt  \n",
            " extracting: train/labels/image (764).txt  \n",
            "  inflating: train/labels/image (765).txt  \n",
            " extracting: train/labels/image (766).txt  \n",
            "  inflating: train/labels/image (767).txt  \n",
            "  inflating: train/labels/image (768).txt  \n",
            "  inflating: train/labels/image (769).txt  \n",
            " extracting: train/labels/image (77).txt  \n",
            "  inflating: train/labels/image (770).txt  \n",
            "  inflating: train/labels/image (771).txt  \n",
            " extracting: train/labels/image (772).txt  \n",
            " extracting: train/labels/image (773).txt  \n",
            "  inflating: train/labels/image (774).txt  \n",
            "  inflating: train/labels/image (775).txt  \n",
            " extracting: train/labels/image (776).txt  \n",
            "  inflating: train/labels/image (777).txt  \n",
            "  inflating: train/labels/image (778).txt  \n",
            " extracting: train/labels/image (779).txt  \n",
            " extracting: train/labels/image (78).txt  \n",
            "  inflating: train/labels/image (780).txt  \n",
            "  inflating: train/labels/image (781).txt  \n",
            "  inflating: train/labels/image (782).txt  \n",
            "  inflating: train/labels/image (783).txt  \n",
            "  inflating: train/labels/image (784).txt  \n",
            "  inflating: train/labels/image (785).txt  \n",
            "  inflating: train/labels/image (786).txt  \n",
            " extracting: train/labels/image (787).txt  \n",
            " extracting: train/labels/image (788).txt  \n",
            " extracting: train/labels/image (789).txt  \n",
            "  inflating: train/labels/image (79).txt  \n",
            " extracting: train/labels/image (790).txt  \n",
            " extracting: train/labels/image (791).txt  \n",
            " extracting: train/labels/image (792).txt  \n",
            " extracting: train/labels/image (793).txt  \n",
            " extracting: train/labels/image (794).txt  \n",
            "  inflating: train/labels/image (795).txt  \n",
            " extracting: train/labels/image (796).txt  \n",
            "  inflating: train/labels/image (797).txt  \n",
            " extracting: train/labels/image (798).txt  \n",
            "  inflating: train/labels/image (799).txt  \n",
            " extracting: train/labels/image (8).txt  \n",
            " extracting: train/labels/image (80).txt  \n",
            " extracting: train/labels/image (800).txt  \n",
            "  inflating: train/labels/image (81).txt  \n",
            " extracting: train/labels/image (82).txt  \n",
            "  inflating: train/labels/image (83).txt  \n",
            "  inflating: train/labels/image (84).txt  \n",
            "  inflating: train/labels/image (85).txt  \n",
            "  inflating: train/labels/image (86).txt  \n",
            " extracting: train/labels/image (87).txt  \n",
            " extracting: train/labels/image (88).txt  \n",
            "  inflating: train/labels/image (89).txt  \n",
            "  inflating: train/labels/image (9).txt  \n",
            " extracting: train/labels/image (90).txt  \n",
            "  inflating: train/labels/image (91).txt  \n",
            " extracting: train/labels/image (92).txt  \n",
            " extracting: train/labels/image (93).txt  \n",
            " extracting: train/labels/image (94).txt  \n",
            " extracting: train/labels/image (95).txt  \n",
            "  inflating: train/labels/image (96).txt  \n",
            " extracting: train/labels/image (97).txt  \n",
            " extracting: train/labels/image (98).txt  \n",
            " extracting: train/labels/image (99).txt  \n"
          ]
        }
      ],
      "source": [
        "!unzip firesmokedataset.zip"
      ]
    },
    {
      "cell_type": "code",
      "execution_count": null,
      "metadata": {
        "colab": {
          "base_uri": "https://localhost:8080/"
        },
        "id": "SMQXYupHSo9-",
        "outputId": "df18d86b-83f9-4635-eab4-4693aa53d425"
      },
      "outputs": [
        {
          "name": "stdout",
          "output_type": "stream",
          "text": [
            "Ultralytics YOLOv8.1.39 🚀 Python-3.10.12 torch-2.2.1+cu121 CUDA:0 (Tesla T4, 15102MiB)\n",
            "Setup complete ✅ (2 CPUs, 12.7 GB RAM, 29.0/78.2 GB disk)\n"
          ]
        }
      ],
      "source": [
        "%pip install ultralytics\n",
        "import ultralytics\n",
        "ultralytics.checks()"
      ]
    },
    {
      "cell_type": "code",
      "execution_count": null,
      "metadata": {
        "colab": {
          "base_uri": "https://localhost:8080/"
        },
        "id": "sWyEpOPlTOGu",
        "outputId": "6c45a442-0466-43cd-d11f-3e7f016d226a"
      },
      "outputs": [
        {
          "name": "stdout",
          "output_type": "stream",
          "text": [
            "Downloading https://github.com/ultralytics/assets/releases/download/v8.1.0/yolov8n.pt to 'yolov8n.pt'...\n"
          ]
        },
        {
          "name": "stderr",
          "output_type": "stream",
          "text": [
            "100%|██████████| 6.23M/6.23M [00:00<00:00, 207MB/s]\n"
          ]
        },
        {
          "name": "stdout",
          "output_type": "stream",
          "text": [
            "Ultralytics YOLOv8.1.39 🚀 Python-3.10.12 torch-2.2.1+cu121 CUDA:0 (Tesla T4, 15102MiB)\n",
            "\u001b[34m\u001b[1mengine/trainer: \u001b[0mtask=detect, mode=train, model=yolov8n.pt, data=/content/data.yaml, epochs=100, time=None, patience=100, batch=16, imgsz=640, save=True, save_period=-1, cache=False, device=None, workers=8, project=None, name=train, exist_ok=False, pretrained=True, optimizer=auto, verbose=True, seed=0, deterministic=True, single_cls=False, rect=False, cos_lr=False, close_mosaic=10, resume=False, amp=True, fraction=1.0, profile=False, freeze=None, multi_scale=False, overlap_mask=True, mask_ratio=4, dropout=0.0, val=True, split=val, save_json=False, save_hybrid=False, conf=None, iou=0.7, max_det=300, half=False, dnn=False, plots=True, source=None, vid_stride=1, stream_buffer=False, visualize=False, augment=False, agnostic_nms=False, classes=None, retina_masks=False, embed=None, show=False, save_frames=False, save_txt=False, save_conf=False, save_crop=False, show_labels=True, show_conf=True, show_boxes=True, line_width=None, format=torchscript, keras=False, optimize=False, int8=False, dynamic=False, simplify=False, opset=None, workspace=4, nms=False, lr0=0.01, lrf=0.01, momentum=0.937, weight_decay=0.0005, warmup_epochs=3.0, warmup_momentum=0.8, warmup_bias_lr=0.1, box=7.5, cls=0.5, dfl=1.5, pose=12.0, kobj=1.0, label_smoothing=0.0, nbs=64, hsv_h=0.015, hsv_s=0.7, hsv_v=0.4, degrees=0.0, translate=0.1, scale=0.5, shear=0.0, perspective=0.0, flipud=0.0, fliplr=0.5, bgr=0.0, mosaic=1.0, mixup=0.0, copy_paste=0.0, auto_augment=randaugment, erasing=0.4, crop_fraction=1.0, cfg=None, tracker=botsort.yaml, save_dir=runs/detect/train\n",
            "Downloading https://ultralytics.com/assets/Arial.ttf to '/root/.config/Ultralytics/Arial.ttf'...\n"
          ]
        },
        {
          "name": "stderr",
          "output_type": "stream",
          "text": [
            "100%|██████████| 755k/755k [00:00<00:00, 123MB/s]\n"
          ]
        },
        {
          "name": "stdout",
          "output_type": "stream",
          "text": [
            "Overriding model.yaml nc=80 with nc=3\n",
            "\n",
            "                   from  n    params  module                                       arguments                     \n",
            "  0                  -1  1       464  ultralytics.nn.modules.conv.Conv             [3, 16, 3, 2]                 \n",
            "  1                  -1  1      4672  ultralytics.nn.modules.conv.Conv             [16, 32, 3, 2]                \n",
            "  2                  -1  1      7360  ultralytics.nn.modules.block.C2f             [32, 32, 1, True]             \n",
            "  3                  -1  1     18560  ultralytics.nn.modules.conv.Conv             [32, 64, 3, 2]                \n",
            "  4                  -1  2     49664  ultralytics.nn.modules.block.C2f             [64, 64, 2, True]             \n",
            "  5                  -1  1     73984  ultralytics.nn.modules.conv.Conv             [64, 128, 3, 2]               \n",
            "  6                  -1  2    197632  ultralytics.nn.modules.block.C2f             [128, 128, 2, True]           \n",
            "  7                  -1  1    295424  ultralytics.nn.modules.conv.Conv             [128, 256, 3, 2]              \n",
            "  8                  -1  1    460288  ultralytics.nn.modules.block.C2f             [256, 256, 1, True]           \n",
            "  9                  -1  1    164608  ultralytics.nn.modules.block.SPPF            [256, 256, 5]                 \n",
            " 10                  -1  1         0  torch.nn.modules.upsampling.Upsample         [None, 2, 'nearest']          \n",
            " 11             [-1, 6]  1         0  ultralytics.nn.modules.conv.Concat           [1]                           \n",
            " 12                  -1  1    148224  ultralytics.nn.modules.block.C2f             [384, 128, 1]                 \n",
            " 13                  -1  1         0  torch.nn.modules.upsampling.Upsample         [None, 2, 'nearest']          \n",
            " 14             [-1, 4]  1         0  ultralytics.nn.modules.conv.Concat           [1]                           \n",
            " 15                  -1  1     37248  ultralytics.nn.modules.block.C2f             [192, 64, 1]                  \n",
            " 16                  -1  1     36992  ultralytics.nn.modules.conv.Conv             [64, 64, 3, 2]                \n",
            " 17            [-1, 12]  1         0  ultralytics.nn.modules.conv.Concat           [1]                           \n",
            " 18                  -1  1    123648  ultralytics.nn.modules.block.C2f             [192, 128, 1]                 \n",
            " 19                  -1  1    147712  ultralytics.nn.modules.conv.Conv             [128, 128, 3, 2]              \n",
            " 20             [-1, 9]  1         0  ultralytics.nn.modules.conv.Concat           [1]                           \n",
            " 21                  -1  1    493056  ultralytics.nn.modules.block.C2f             [384, 256, 1]                 \n",
            " 22        [15, 18, 21]  1    751897  ultralytics.nn.modules.head.Detect           [3, [64, 128, 256]]           \n",
            "Model summary: 225 layers, 3011433 parameters, 3011417 gradients, 8.2 GFLOPs\n",
            "\n",
            "Transferred 319/355 items from pretrained weights\n",
            "\u001b[34m\u001b[1mTensorBoard: \u001b[0mStart with 'tensorboard --logdir runs/detect/train', view at http://localhost:6006/\n",
            "Freezing layer 'model.22.dfl.conv.weight'\n",
            "\u001b[34m\u001b[1mAMP: \u001b[0mrunning Automatic Mixed Precision (AMP) checks with YOLOv8n...\n",
            "\u001b[34m\u001b[1mAMP: \u001b[0mchecks passed ✅\n"
          ]
        },
        {
          "name": "stderr",
          "output_type": "stream",
          "text": [
            "\u001b[34m\u001b[1mtrain: \u001b[0mScanning /content/train/labels... 791 images, 3 backgrounds, 0 corrupt: 100%|██████████| 794/794 [00:00<00:00, 960.37it/s]"
          ]
        },
        {
          "name": "stdout",
          "output_type": "stream",
          "text": [
            "\u001b[34m\u001b[1mtrain: \u001b[0mNew cache created: /content/train/labels.cache\n"
          ]
        },
        {
          "name": "stderr",
          "output_type": "stream",
          "text": [
            "\n"
          ]
        },
        {
          "name": "stdout",
          "output_type": "stream",
          "text": [
            "\u001b[34m\u001b[1malbumentations: \u001b[0mBlur(p=0.01, blur_limit=(3, 7)), MedianBlur(p=0.01, blur_limit=(3, 7)), ToGray(p=0.01), CLAHE(p=0.01, clip_limit=(1, 4.0), tile_grid_size=(8, 8))\n"
          ]
        },
        {
          "name": "stderr",
          "output_type": "stream",
          "text": [
            "\u001b[34m\u001b[1mval: \u001b[0mScanning /content/valid/labels... 178 images, 0 backgrounds, 0 corrupt: 100%|██████████| 178/178 [00:00<00:00, 630.59it/s]"
          ]
        },
        {
          "name": "stdout",
          "output_type": "stream",
          "text": [
            "\u001b[34m\u001b[1mval: \u001b[0mNew cache created: /content/valid/labels.cache\n"
          ]
        },
        {
          "name": "stderr",
          "output_type": "stream",
          "text": [
            "\n"
          ]
        },
        {
          "name": "stdout",
          "output_type": "stream",
          "text": [
            "Plotting labels to runs/detect/train/labels.jpg... \n",
            "\u001b[34m\u001b[1moptimizer:\u001b[0m 'optimizer=auto' found, ignoring 'lr0=0.01' and 'momentum=0.937' and determining best 'optimizer', 'lr0' and 'momentum' automatically... \n",
            "\u001b[34m\u001b[1moptimizer:\u001b[0m AdamW(lr=0.001429, momentum=0.9) with parameter groups 57 weight(decay=0.0), 64 weight(decay=0.0005), 63 bias(decay=0.0)\n",
            "\u001b[34m\u001b[1mTensorBoard: \u001b[0mmodel graph visualization added ✅\n",
            "Image sizes 640 train, 640 val\n",
            "Using 2 dataloader workers\n",
            "Logging results to \u001b[1mruns/detect/train\u001b[0m\n",
            "Starting training for 100 epochs...\n",
            "\n",
            "      Epoch    GPU_mem   box_loss   cls_loss   dfl_loss  Instances       Size\n"
          ]
        },
        {
          "name": "stderr",
          "output_type": "stream",
          "text": [
            "      1/100      2.45G      1.716      3.202      1.604         22        640: 100%|██████████| 50/50 [00:19<00:00,  2.52it/s]\n",
            "                 Class     Images  Instances      Box(P          R      mAP50  mAP50-95): 100%|██████████| 6/6 [00:02<00:00,  2.21it/s]"
          ]
        },
        {
          "name": "stdout",
          "output_type": "stream",
          "text": [
            "                   all        178        233    0.00454      0.822      0.066     0.0278\n"
          ]
        },
        {
          "name": "stderr",
          "output_type": "stream",
          "text": [
            "\n"
          ]
        },
        {
          "name": "stdout",
          "output_type": "stream",
          "text": [
            "\n",
            "      Epoch    GPU_mem   box_loss   cls_loss   dfl_loss  Instances       Size\n"
          ]
        },
        {
          "name": "stderr",
          "output_type": "stream",
          "text": [
            "      2/100      2.35G      1.742      2.587       1.62         31        640: 100%|██████████| 50/50 [00:15<00:00,  3.14it/s]\n",
            "                 Class     Images  Instances      Box(P          R      mAP50  mAP50-95): 100%|██████████| 6/6 [00:02<00:00,  2.39it/s]"
          ]
        },
        {
          "name": "stdout",
          "output_type": "stream",
          "text": [
            "                   all        178        233     0.0798      0.322     0.0759     0.0311\n"
          ]
        },
        {
          "name": "stderr",
          "output_type": "stream",
          "text": [
            "\n"
          ]
        },
        {
          "name": "stdout",
          "output_type": "stream",
          "text": [
            "\n",
            "      Epoch    GPU_mem   box_loss   cls_loss   dfl_loss  Instances       Size\n"
          ]
        },
        {
          "name": "stderr",
          "output_type": "stream",
          "text": [
            "      3/100      2.33G      1.808      2.424      1.653         25        640: 100%|██████████| 50/50 [00:15<00:00,  3.21it/s]\n",
            "                 Class     Images  Instances      Box(P          R      mAP50  mAP50-95): 100%|██████████| 6/6 [00:01<00:00,  3.40it/s]"
          ]
        },
        {
          "name": "stdout",
          "output_type": "stream",
          "text": [
            "                   all        178        233      0.115      0.223     0.0905      0.032\n"
          ]
        },
        {
          "name": "stderr",
          "output_type": "stream",
          "text": [
            "\n"
          ]
        },
        {
          "name": "stdout",
          "output_type": "stream",
          "text": [
            "\n",
            "      Epoch    GPU_mem   box_loss   cls_loss   dfl_loss  Instances       Size\n"
          ]
        },
        {
          "name": "stderr",
          "output_type": "stream",
          "text": [
            "      4/100      2.36G      1.789      2.328      1.686         23        640: 100%|██████████| 50/50 [00:15<00:00,  3.21it/s]\n",
            "                 Class     Images  Instances      Box(P          R      mAP50  mAP50-95): 100%|██████████| 6/6 [00:01<00:00,  3.48it/s]"
          ]
        },
        {
          "name": "stdout",
          "output_type": "stream",
          "text": [
            "                   all        178        233     0.0708      0.482      0.129     0.0539\n"
          ]
        },
        {
          "name": "stderr",
          "output_type": "stream",
          "text": [
            "\n"
          ]
        },
        {
          "name": "stdout",
          "output_type": "stream",
          "text": [
            "\n",
            "      Epoch    GPU_mem   box_loss   cls_loss   dfl_loss  Instances       Size\n"
          ]
        },
        {
          "name": "stderr",
          "output_type": "stream",
          "text": [
            "      5/100      2.33G      1.748      2.214      1.672         18        640: 100%|██████████| 50/50 [00:16<00:00,  2.98it/s]\n",
            "                 Class     Images  Instances      Box(P          R      mAP50  mAP50-95): 100%|██████████| 6/6 [00:01<00:00,  3.57it/s]\n"
          ]
        },
        {
          "name": "stdout",
          "output_type": "stream",
          "text": [
            "                   all        178        233      0.316      0.277      0.226     0.0971\n",
            "\n",
            "      Epoch    GPU_mem   box_loss   cls_loss   dfl_loss  Instances       Size\n"
          ]
        },
        {
          "name": "stderr",
          "output_type": "stream",
          "text": [
            "      6/100      2.32G       1.75      2.052      1.655         35        640: 100%|██████████| 50/50 [00:15<00:00,  3.16it/s]\n",
            "                 Class     Images  Instances      Box(P          R      mAP50  mAP50-95): 100%|██████████| 6/6 [00:01<00:00,  3.67it/s]"
          ]
        },
        {
          "name": "stdout",
          "output_type": "stream",
          "text": [
            "                   all        178        233      0.841      0.167      0.189     0.0725\n"
          ]
        },
        {
          "name": "stderr",
          "output_type": "stream",
          "text": [
            "\n"
          ]
        },
        {
          "name": "stdout",
          "output_type": "stream",
          "text": [
            "\n",
            "      Epoch    GPU_mem   box_loss   cls_loss   dfl_loss  Instances       Size\n"
          ]
        },
        {
          "name": "stderr",
          "output_type": "stream",
          "text": [
            "      7/100      2.33G      1.699      1.949      1.623         44        640: 100%|██████████| 50/50 [00:15<00:00,  3.22it/s]\n",
            "                 Class     Images  Instances      Box(P          R      mAP50  mAP50-95): 100%|██████████| 6/6 [00:02<00:00,  2.32it/s]"
          ]
        },
        {
          "name": "stdout",
          "output_type": "stream",
          "text": [
            "                   all        178        233      0.773      0.267      0.311      0.158\n"
          ]
        },
        {
          "name": "stderr",
          "output_type": "stream",
          "text": [
            "\n"
          ]
        },
        {
          "name": "stdout",
          "output_type": "stream",
          "text": [
            "\n",
            "      Epoch    GPU_mem   box_loss   cls_loss   dfl_loss  Instances       Size\n"
          ]
        },
        {
          "name": "stderr",
          "output_type": "stream",
          "text": [
            "      8/100      2.32G      1.727      1.913      1.643         28        640: 100%|██████████| 50/50 [00:15<00:00,  3.19it/s]\n",
            "                 Class     Images  Instances      Box(P          R      mAP50  mAP50-95): 100%|██████████| 6/6 [00:01<00:00,  3.82it/s]"
          ]
        },
        {
          "name": "stdout",
          "output_type": "stream",
          "text": [
            "                   all        178        233      0.703      0.177      0.174      0.101\n"
          ]
        },
        {
          "name": "stderr",
          "output_type": "stream",
          "text": [
            "\n"
          ]
        },
        {
          "name": "stdout",
          "output_type": "stream",
          "text": [
            "\n",
            "      Epoch    GPU_mem   box_loss   cls_loss   dfl_loss  Instances       Size\n"
          ]
        },
        {
          "name": "stderr",
          "output_type": "stream",
          "text": [
            "      9/100      2.33G      1.702        1.8      1.577         18        640: 100%|██████████| 50/50 [00:15<00:00,  3.14it/s]\n",
            "                 Class     Images  Instances      Box(P          R      mAP50  mAP50-95): 100%|██████████| 6/6 [00:01<00:00,  3.54it/s]"
          ]
        },
        {
          "name": "stdout",
          "output_type": "stream",
          "text": [
            "                   all        178        233      0.135      0.347      0.104      0.047\n"
          ]
        },
        {
          "name": "stderr",
          "output_type": "stream",
          "text": [
            "\n"
          ]
        },
        {
          "name": "stdout",
          "output_type": "stream",
          "text": [
            "\n",
            "      Epoch    GPU_mem   box_loss   cls_loss   dfl_loss  Instances       Size\n"
          ]
        },
        {
          "name": "stderr",
          "output_type": "stream",
          "text": [
            "     10/100      2.36G      1.639      1.717       1.56         37        640: 100%|██████████| 50/50 [00:16<00:00,  3.01it/s]\n",
            "                 Class     Images  Instances      Box(P          R      mAP50  mAP50-95): 100%|██████████| 6/6 [00:01<00:00,  3.39it/s]"
          ]
        },
        {
          "name": "stdout",
          "output_type": "stream",
          "text": [
            "                   all        178        233      0.522      0.269      0.142     0.0549\n"
          ]
        },
        {
          "name": "stderr",
          "output_type": "stream",
          "text": [
            "\n"
          ]
        },
        {
          "name": "stdout",
          "output_type": "stream",
          "text": [
            "\n",
            "      Epoch    GPU_mem   box_loss   cls_loss   dfl_loss  Instances       Size\n"
          ]
        },
        {
          "name": "stderr",
          "output_type": "stream",
          "text": [
            "     11/100      2.37G      1.622      1.663      1.523         29        640: 100%|██████████| 50/50 [00:16<00:00,  3.12it/s]\n",
            "                 Class     Images  Instances      Box(P          R      mAP50  mAP50-95): 100%|██████████| 6/6 [00:01<00:00,  3.70it/s]"
          ]
        },
        {
          "name": "stdout",
          "output_type": "stream",
          "text": [
            "                   all        178        233      0.835      0.167      0.225      0.117\n"
          ]
        },
        {
          "name": "stderr",
          "output_type": "stream",
          "text": [
            "\n"
          ]
        },
        {
          "name": "stdout",
          "output_type": "stream",
          "text": [
            "\n",
            "      Epoch    GPU_mem   box_loss   cls_loss   dfl_loss  Instances       Size\n"
          ]
        },
        {
          "name": "stderr",
          "output_type": "stream",
          "text": [
            "     12/100      2.32G      1.619      1.648      1.535         34        640: 100%|██████████| 50/50 [00:15<00:00,  3.18it/s]\n",
            "                 Class     Images  Instances      Box(P          R      mAP50  mAP50-95): 100%|██████████| 6/6 [00:02<00:00,  2.27it/s]"
          ]
        },
        {
          "name": "stdout",
          "output_type": "stream",
          "text": [
            "                   all        178        233      0.676      0.278      0.235      0.135\n"
          ]
        },
        {
          "name": "stderr",
          "output_type": "stream",
          "text": [
            "\n"
          ]
        },
        {
          "name": "stdout",
          "output_type": "stream",
          "text": [
            "\n",
            "      Epoch    GPU_mem   box_loss   cls_loss   dfl_loss  Instances       Size\n"
          ]
        },
        {
          "name": "stderr",
          "output_type": "stream",
          "text": [
            "     13/100      2.37G       1.57      1.566      1.502         31        640: 100%|██████████| 50/50 [00:15<00:00,  3.16it/s]\n",
            "                 Class     Images  Instances      Box(P          R      mAP50  mAP50-95): 100%|██████████| 6/6 [00:01<00:00,  3.89it/s]"
          ]
        },
        {
          "name": "stdout",
          "output_type": "stream",
          "text": [
            "                   all        178        233      0.865      0.218      0.299      0.155\n"
          ]
        },
        {
          "name": "stderr",
          "output_type": "stream",
          "text": [
            "\n"
          ]
        },
        {
          "name": "stdout",
          "output_type": "stream",
          "text": [
            "\n",
            "      Epoch    GPU_mem   box_loss   cls_loss   dfl_loss  Instances       Size\n"
          ]
        },
        {
          "name": "stderr",
          "output_type": "stream",
          "text": [
            "     14/100      2.36G      1.586      1.559      1.515         28        640: 100%|██████████| 50/50 [00:15<00:00,  3.17it/s]\n",
            "                 Class     Images  Instances      Box(P          R      mAP50  mAP50-95): 100%|██████████| 6/6 [00:01<00:00,  3.87it/s]"
          ]
        },
        {
          "name": "stdout",
          "output_type": "stream",
          "text": [
            "                   all        178        233      0.444      0.259      0.368       0.22\n"
          ]
        },
        {
          "name": "stderr",
          "output_type": "stream",
          "text": [
            "\n"
          ]
        },
        {
          "name": "stdout",
          "output_type": "stream",
          "text": [
            "\n",
            "      Epoch    GPU_mem   box_loss   cls_loss   dfl_loss  Instances       Size\n"
          ]
        },
        {
          "name": "stderr",
          "output_type": "stream",
          "text": [
            "     15/100      2.35G      1.559      1.541      1.517         27        640: 100%|██████████| 50/50 [00:16<00:00,  3.00it/s]\n",
            "                 Class     Images  Instances      Box(P          R      mAP50  mAP50-95): 100%|██████████| 6/6 [00:01<00:00,  3.37it/s]"
          ]
        },
        {
          "name": "stdout",
          "output_type": "stream",
          "text": [
            "                   all        178        233      0.691      0.258      0.271      0.135\n"
          ]
        },
        {
          "name": "stderr",
          "output_type": "stream",
          "text": [
            "\n"
          ]
        },
        {
          "name": "stdout",
          "output_type": "stream",
          "text": [
            "\n",
            "      Epoch    GPU_mem   box_loss   cls_loss   dfl_loss  Instances       Size\n"
          ]
        },
        {
          "name": "stderr",
          "output_type": "stream",
          "text": [
            "     16/100      2.32G      1.559      1.423      1.482         18        640: 100%|██████████| 50/50 [00:15<00:00,  3.15it/s]\n",
            "                 Class     Images  Instances      Box(P          R      mAP50  mAP50-95): 100%|██████████| 6/6 [00:01<00:00,  4.11it/s]"
          ]
        },
        {
          "name": "stdout",
          "output_type": "stream",
          "text": [
            "                   all        178        233      0.871      0.211      0.238      0.118\n"
          ]
        },
        {
          "name": "stderr",
          "output_type": "stream",
          "text": [
            "\n"
          ]
        },
        {
          "name": "stdout",
          "output_type": "stream",
          "text": [
            "\n",
            "      Epoch    GPU_mem   box_loss   cls_loss   dfl_loss  Instances       Size\n"
          ]
        },
        {
          "name": "stderr",
          "output_type": "stream",
          "text": [
            "     17/100      2.35G      1.519      1.452      1.462         34        640: 100%|██████████| 50/50 [00:15<00:00,  3.22it/s]\n",
            "                 Class     Images  Instances      Box(P          R      mAP50  mAP50-95): 100%|██████████| 6/6 [00:02<00:00,  2.66it/s]"
          ]
        },
        {
          "name": "stdout",
          "output_type": "stream",
          "text": [
            "                   all        178        233      0.846      0.258      0.276      0.154\n"
          ]
        },
        {
          "name": "stderr",
          "output_type": "stream",
          "text": [
            "\n"
          ]
        },
        {
          "name": "stdout",
          "output_type": "stream",
          "text": [
            "\n",
            "      Epoch    GPU_mem   box_loss   cls_loss   dfl_loss  Instances       Size\n"
          ]
        },
        {
          "name": "stderr",
          "output_type": "stream",
          "text": [
            "     18/100      2.34G      1.511      1.398      1.454         27        640: 100%|██████████| 50/50 [00:15<00:00,  3.20it/s]\n",
            "                 Class     Images  Instances      Box(P          R      mAP50  mAP50-95): 100%|██████████| 6/6 [00:01<00:00,  3.80it/s]"
          ]
        },
        {
          "name": "stdout",
          "output_type": "stream",
          "text": [
            "                   all        178        233       0.22      0.425      0.301      0.129\n"
          ]
        },
        {
          "name": "stderr",
          "output_type": "stream",
          "text": [
            "\n"
          ]
        },
        {
          "name": "stdout",
          "output_type": "stream",
          "text": [
            "\n",
            "      Epoch    GPU_mem   box_loss   cls_loss   dfl_loss  Instances       Size\n"
          ]
        },
        {
          "name": "stderr",
          "output_type": "stream",
          "text": [
            "     19/100      2.35G      1.496      1.389      1.454         26        640: 100%|██████████| 50/50 [00:15<00:00,  3.18it/s]\n",
            "                 Class     Images  Instances      Box(P          R      mAP50  mAP50-95): 100%|██████████| 6/6 [00:01<00:00,  3.73it/s]"
          ]
        },
        {
          "name": "stdout",
          "output_type": "stream",
          "text": [
            "                   all        178        233      0.164      0.541      0.192     0.0858\n"
          ]
        },
        {
          "name": "stderr",
          "output_type": "stream",
          "text": [
            "\n"
          ]
        },
        {
          "name": "stdout",
          "output_type": "stream",
          "text": [
            "\n",
            "      Epoch    GPU_mem   box_loss   cls_loss   dfl_loss  Instances       Size\n"
          ]
        },
        {
          "name": "stderr",
          "output_type": "stream",
          "text": [
            "     20/100      2.32G      1.506      1.385       1.44         21        640: 100%|██████████| 50/50 [00:16<00:00,  2.95it/s]\n",
            "                 Class     Images  Instances      Box(P          R      mAP50  mAP50-95): 100%|██████████| 6/6 [00:01<00:00,  3.31it/s]"
          ]
        },
        {
          "name": "stdout",
          "output_type": "stream",
          "text": [
            "                   all        178        233      0.835      0.267      0.251       0.12\n"
          ]
        },
        {
          "name": "stderr",
          "output_type": "stream",
          "text": [
            "\n"
          ]
        },
        {
          "name": "stdout",
          "output_type": "stream",
          "text": [
            "\n",
            "      Epoch    GPU_mem   box_loss   cls_loss   dfl_loss  Instances       Size\n"
          ]
        },
        {
          "name": "stderr",
          "output_type": "stream",
          "text": [
            "     21/100      2.35G      1.473      1.316      1.435         21        640: 100%|██████████| 50/50 [00:15<00:00,  3.14it/s]\n",
            "                 Class     Images  Instances      Box(P          R      mAP50  mAP50-95): 100%|██████████| 6/6 [00:01<00:00,  3.48it/s]"
          ]
        },
        {
          "name": "stdout",
          "output_type": "stream",
          "text": [
            "                   all        178        233      0.521      0.372      0.143     0.0582\n"
          ]
        },
        {
          "name": "stderr",
          "output_type": "stream",
          "text": [
            "\n"
          ]
        },
        {
          "name": "stdout",
          "output_type": "stream",
          "text": [
            "\n",
            "      Epoch    GPU_mem   box_loss   cls_loss   dfl_loss  Instances       Size\n"
          ]
        },
        {
          "name": "stderr",
          "output_type": "stream",
          "text": [
            "     22/100      2.23G      1.494      1.327      1.438         36        640: 100%|██████████| 50/50 [00:15<00:00,  3.17it/s]\n",
            "                 Class     Images  Instances      Box(P          R      mAP50  mAP50-95): 100%|██████████| 6/6 [00:02<00:00,  2.62it/s]"
          ]
        },
        {
          "name": "stdout",
          "output_type": "stream",
          "text": [
            "                   all        178        233      0.824      0.267      0.258      0.116\n"
          ]
        },
        {
          "name": "stderr",
          "output_type": "stream",
          "text": [
            "\n"
          ]
        },
        {
          "name": "stdout",
          "output_type": "stream",
          "text": [
            "\n",
            "      Epoch    GPU_mem   box_loss   cls_loss   dfl_loss  Instances       Size\n"
          ]
        },
        {
          "name": "stderr",
          "output_type": "stream",
          "text": [
            "     23/100      2.37G      1.447       1.28      1.397         25        640: 100%|██████████| 50/50 [00:16<00:00,  3.10it/s]\n",
            "                 Class     Images  Instances      Box(P          R      mAP50  mAP50-95): 100%|██████████| 6/6 [00:01<00:00,  3.76it/s]"
          ]
        },
        {
          "name": "stdout",
          "output_type": "stream",
          "text": [
            "                   all        178        233      0.685      0.263      0.266      0.143\n"
          ]
        },
        {
          "name": "stderr",
          "output_type": "stream",
          "text": [
            "\n"
          ]
        },
        {
          "name": "stdout",
          "output_type": "stream",
          "text": [
            "\n",
            "      Epoch    GPU_mem   box_loss   cls_loss   dfl_loss  Instances       Size\n"
          ]
        },
        {
          "name": "stderr",
          "output_type": "stream",
          "text": [
            "     24/100      2.36G      1.439      1.253      1.397         25        640: 100%|██████████| 50/50 [00:16<00:00,  3.12it/s]\n",
            "                 Class     Images  Instances      Box(P          R      mAP50  mAP50-95): 100%|██████████| 6/6 [00:01<00:00,  4.06it/s]"
          ]
        },
        {
          "name": "stdout",
          "output_type": "stream",
          "text": [
            "                   all        178        233      0.603      0.373      0.173     0.0987\n"
          ]
        },
        {
          "name": "stderr",
          "output_type": "stream",
          "text": [
            "\n"
          ]
        },
        {
          "name": "stdout",
          "output_type": "stream",
          "text": [
            "\n",
            "      Epoch    GPU_mem   box_loss   cls_loss   dfl_loss  Instances       Size\n"
          ]
        },
        {
          "name": "stderr",
          "output_type": "stream",
          "text": [
            "     25/100      2.33G      1.477      1.308      1.416         22        640: 100%|██████████| 50/50 [00:17<00:00,  2.91it/s]\n",
            "                 Class     Images  Instances      Box(P          R      mAP50  mAP50-95): 100%|██████████| 6/6 [00:01<00:00,  3.72it/s]"
          ]
        },
        {
          "name": "stdout",
          "output_type": "stream",
          "text": [
            "                   all        178        233      0.667       0.25      0.228      0.107\n"
          ]
        },
        {
          "name": "stderr",
          "output_type": "stream",
          "text": [
            "\n"
          ]
        },
        {
          "name": "stdout",
          "output_type": "stream",
          "text": [
            "\n",
            "      Epoch    GPU_mem   box_loss   cls_loss   dfl_loss  Instances       Size\n"
          ]
        },
        {
          "name": "stderr",
          "output_type": "stream",
          "text": [
            "     26/100      2.36G      1.446      1.241      1.398         28        640: 100%|██████████| 50/50 [00:15<00:00,  3.16it/s]\n",
            "                 Class     Images  Instances      Box(P          R      mAP50  mAP50-95): 100%|██████████| 6/6 [00:01<00:00,  3.85it/s]"
          ]
        },
        {
          "name": "stdout",
          "output_type": "stream",
          "text": [
            "                   all        178        233       0.29      0.403      0.295      0.157\n"
          ]
        },
        {
          "name": "stderr",
          "output_type": "stream",
          "text": [
            "\n"
          ]
        },
        {
          "name": "stdout",
          "output_type": "stream",
          "text": [
            "\n",
            "      Epoch    GPU_mem   box_loss   cls_loss   dfl_loss  Instances       Size\n"
          ]
        },
        {
          "name": "stderr",
          "output_type": "stream",
          "text": [
            "     27/100      2.37G      1.416      1.214      1.391         28        640: 100%|██████████| 50/50 [00:15<00:00,  3.15it/s]\n",
            "                 Class     Images  Instances      Box(P          R      mAP50  mAP50-95): 100%|██████████| 6/6 [00:02<00:00,  2.31it/s]"
          ]
        },
        {
          "name": "stdout",
          "output_type": "stream",
          "text": [
            "                   all        178        233      0.541      0.422      0.198      0.103\n"
          ]
        },
        {
          "name": "stderr",
          "output_type": "stream",
          "text": [
            "\n"
          ]
        },
        {
          "name": "stdout",
          "output_type": "stream",
          "text": [
            "\n",
            "      Epoch    GPU_mem   box_loss   cls_loss   dfl_loss  Instances       Size\n"
          ]
        },
        {
          "name": "stderr",
          "output_type": "stream",
          "text": [
            "     28/100      2.32G      1.474      1.246      1.427         20        640: 100%|██████████| 50/50 [00:15<00:00,  3.21it/s]\n",
            "                 Class     Images  Instances      Box(P          R      mAP50  mAP50-95): 100%|██████████| 6/6 [00:01<00:00,  3.84it/s]"
          ]
        },
        {
          "name": "stdout",
          "output_type": "stream",
          "text": [
            "                   all        178        233      0.865      0.236      0.321      0.118\n"
          ]
        },
        {
          "name": "stderr",
          "output_type": "stream",
          "text": [
            "\n"
          ]
        },
        {
          "name": "stdout",
          "output_type": "stream",
          "text": [
            "\n",
            "      Epoch    GPU_mem   box_loss   cls_loss   dfl_loss  Instances       Size\n"
          ]
        },
        {
          "name": "stderr",
          "output_type": "stream",
          "text": [
            "     29/100      2.37G      1.401      1.199      1.376         45        640: 100%|██████████| 50/50 [00:15<00:00,  3.24it/s]\n",
            "                 Class     Images  Instances      Box(P          R      mAP50  mAP50-95): 100%|██████████| 6/6 [00:01<00:00,  3.31it/s]"
          ]
        },
        {
          "name": "stdout",
          "output_type": "stream",
          "text": [
            "                   all        178        233      0.806      0.259      0.322      0.181\n"
          ]
        },
        {
          "name": "stderr",
          "output_type": "stream",
          "text": [
            "\n"
          ]
        },
        {
          "name": "stdout",
          "output_type": "stream",
          "text": [
            "\n",
            "      Epoch    GPU_mem   box_loss   cls_loss   dfl_loss  Instances       Size\n"
          ]
        },
        {
          "name": "stderr",
          "output_type": "stream",
          "text": [
            "     30/100      2.36G       1.39       1.18      1.377         33        640: 100%|██████████| 50/50 [00:16<00:00,  2.98it/s]\n",
            "                 Class     Images  Instances      Box(P          R      mAP50  mAP50-95): 100%|██████████| 6/6 [00:01<00:00,  3.76it/s]"
          ]
        },
        {
          "name": "stdout",
          "output_type": "stream",
          "text": [
            "                   all        178        233      0.332       0.38      0.305       0.16\n"
          ]
        },
        {
          "name": "stderr",
          "output_type": "stream",
          "text": [
            "\n"
          ]
        },
        {
          "name": "stdout",
          "output_type": "stream",
          "text": [
            "\n",
            "      Epoch    GPU_mem   box_loss   cls_loss   dfl_loss  Instances       Size\n"
          ]
        },
        {
          "name": "stderr",
          "output_type": "stream",
          "text": [
            "     31/100      2.33G      1.363      1.149      1.356         28        640: 100%|██████████| 50/50 [00:15<00:00,  3.24it/s]\n",
            "                 Class     Images  Instances      Box(P          R      mAP50  mAP50-95): 100%|██████████| 6/6 [00:01<00:00,  3.67it/s]"
          ]
        },
        {
          "name": "stdout",
          "output_type": "stream",
          "text": [
            "                   all        178        233      0.656      0.352      0.299       0.14\n"
          ]
        },
        {
          "name": "stderr",
          "output_type": "stream",
          "text": [
            "\n"
          ]
        },
        {
          "name": "stdout",
          "output_type": "stream",
          "text": [
            "\n",
            "      Epoch    GPU_mem   box_loss   cls_loss   dfl_loss  Instances       Size\n"
          ]
        },
        {
          "name": "stderr",
          "output_type": "stream",
          "text": [
            "     32/100      2.32G       1.36      1.144      1.348         31        640: 100%|██████████| 50/50 [00:15<00:00,  3.20it/s]\n",
            "                 Class     Images  Instances      Box(P          R      mAP50  mAP50-95): 100%|██████████| 6/6 [00:02<00:00,  2.79it/s]"
          ]
        },
        {
          "name": "stdout",
          "output_type": "stream",
          "text": [
            "                   all        178        233      0.534      0.365      0.152      0.074\n"
          ]
        },
        {
          "name": "stderr",
          "output_type": "stream",
          "text": [
            "\n"
          ]
        },
        {
          "name": "stdout",
          "output_type": "stream",
          "text": [
            "\n",
            "      Epoch    GPU_mem   box_loss   cls_loss   dfl_loss  Instances       Size\n"
          ]
        },
        {
          "name": "stderr",
          "output_type": "stream",
          "text": [
            "     33/100      2.33G      1.363      1.093      1.334         24        640: 100%|██████████| 50/50 [00:15<00:00,  3.17it/s]\n",
            "                 Class     Images  Instances      Box(P          R      mAP50  mAP50-95): 100%|██████████| 6/6 [00:01<00:00,  3.57it/s]"
          ]
        },
        {
          "name": "stdout",
          "output_type": "stream",
          "text": [
            "                   all        178        233      0.683      0.409      0.317       0.14\n"
          ]
        },
        {
          "name": "stderr",
          "output_type": "stream",
          "text": [
            "\n"
          ]
        },
        {
          "name": "stdout",
          "output_type": "stream",
          "text": [
            "\n",
            "      Epoch    GPU_mem   box_loss   cls_loss   dfl_loss  Instances       Size\n"
          ]
        },
        {
          "name": "stderr",
          "output_type": "stream",
          "text": [
            "     34/100      2.34G      1.361      1.092      1.351         33        640: 100%|██████████| 50/50 [00:15<00:00,  3.19it/s]\n",
            "                 Class     Images  Instances      Box(P          R      mAP50  mAP50-95): 100%|██████████| 6/6 [00:01<00:00,  3.94it/s]"
          ]
        },
        {
          "name": "stdout",
          "output_type": "stream",
          "text": [
            "                   all        178        233      0.663      0.407      0.257      0.147\n"
          ]
        },
        {
          "name": "stderr",
          "output_type": "stream",
          "text": [
            "\n"
          ]
        },
        {
          "name": "stdout",
          "output_type": "stream",
          "text": [
            "\n",
            "      Epoch    GPU_mem   box_loss   cls_loss   dfl_loss  Instances       Size\n"
          ]
        },
        {
          "name": "stderr",
          "output_type": "stream",
          "text": [
            "     35/100      2.33G      1.391      1.115      1.366         28        640: 100%|██████████| 50/50 [00:16<00:00,  3.04it/s]\n",
            "                 Class     Images  Instances      Box(P          R      mAP50  mAP50-95): 100%|██████████| 6/6 [00:01<00:00,  3.16it/s]"
          ]
        },
        {
          "name": "stdout",
          "output_type": "stream",
          "text": [
            "                   all        178        233      0.401      0.284      0.201      0.105\n"
          ]
        },
        {
          "name": "stderr",
          "output_type": "stream",
          "text": [
            "\n"
          ]
        },
        {
          "name": "stdout",
          "output_type": "stream",
          "text": [
            "\n",
            "      Epoch    GPU_mem   box_loss   cls_loss   dfl_loss  Instances       Size\n"
          ]
        },
        {
          "name": "stderr",
          "output_type": "stream",
          "text": [
            "     36/100      2.36G      1.343        1.1      1.344         29        640: 100%|██████████| 50/50 [00:15<00:00,  3.21it/s]\n",
            "                 Class     Images  Instances      Box(P          R      mAP50  mAP50-95): 100%|██████████| 6/6 [00:01<00:00,  3.64it/s]"
          ]
        },
        {
          "name": "stdout",
          "output_type": "stream",
          "text": [
            "                   all        178        233      0.629      0.295      0.185      0.101\n"
          ]
        },
        {
          "name": "stderr",
          "output_type": "stream",
          "text": [
            "\n"
          ]
        },
        {
          "name": "stdout",
          "output_type": "stream",
          "text": [
            "\n",
            "      Epoch    GPU_mem   box_loss   cls_loss   dfl_loss  Instances       Size\n"
          ]
        },
        {
          "name": "stderr",
          "output_type": "stream",
          "text": [
            "     37/100      2.35G       1.32      1.048      1.313         24        640: 100%|██████████| 50/50 [00:15<00:00,  3.22it/s]\n",
            "                 Class     Images  Instances      Box(P          R      mAP50  mAP50-95): 100%|██████████| 6/6 [00:01<00:00,  3.73it/s]"
          ]
        },
        {
          "name": "stdout",
          "output_type": "stream",
          "text": [
            "                   all        178        233       0.79      0.273      0.281      0.149\n"
          ]
        },
        {
          "name": "stderr",
          "output_type": "stream",
          "text": [
            "\n"
          ]
        },
        {
          "name": "stdout",
          "output_type": "stream",
          "text": [
            "\n",
            "      Epoch    GPU_mem   box_loss   cls_loss   dfl_loss  Instances       Size\n"
          ]
        },
        {
          "name": "stderr",
          "output_type": "stream",
          "text": [
            "     38/100      2.34G      1.349      1.079       1.34         20        640: 100%|██████████| 50/50 [00:16<00:00,  2.99it/s]\n",
            "                 Class     Images  Instances      Box(P          R      mAP50  mAP50-95): 100%|██████████| 6/6 [00:01<00:00,  3.87it/s]"
          ]
        },
        {
          "name": "stdout",
          "output_type": "stream",
          "text": [
            "                   all        178        233      0.382      0.296      0.262      0.138\n"
          ]
        },
        {
          "name": "stderr",
          "output_type": "stream",
          "text": [
            "\n"
          ]
        },
        {
          "name": "stdout",
          "output_type": "stream",
          "text": [
            "\n",
            "      Epoch    GPU_mem   box_loss   cls_loss   dfl_loss  Instances       Size\n"
          ]
        },
        {
          "name": "stderr",
          "output_type": "stream",
          "text": [
            "     39/100      2.37G      1.306      1.018      1.322         29        640: 100%|██████████| 50/50 [00:15<00:00,  3.21it/s]\n",
            "                 Class     Images  Instances      Box(P          R      mAP50  mAP50-95): 100%|██████████| 6/6 [00:01<00:00,  3.76it/s]"
          ]
        },
        {
          "name": "stdout",
          "output_type": "stream",
          "text": [
            "                   all        178        233      0.305      0.409      0.224      0.123\n"
          ]
        },
        {
          "name": "stderr",
          "output_type": "stream",
          "text": [
            "\n"
          ]
        },
        {
          "name": "stdout",
          "output_type": "stream",
          "text": [
            "\n",
            "      Epoch    GPU_mem   box_loss   cls_loss   dfl_loss  Instances       Size\n"
          ]
        },
        {
          "name": "stderr",
          "output_type": "stream",
          "text": [
            "     40/100      2.36G      1.296      1.005      1.307         26        640: 100%|██████████| 50/50 [00:16<00:00,  3.11it/s]\n",
            "                 Class     Images  Instances      Box(P          R      mAP50  mAP50-95): 100%|██████████| 6/6 [00:02<00:00,  2.34it/s]"
          ]
        },
        {
          "name": "stdout",
          "output_type": "stream",
          "text": [
            "                   all        178        233      0.716      0.392      0.303      0.159\n"
          ]
        },
        {
          "name": "stderr",
          "output_type": "stream",
          "text": [
            "\n"
          ]
        },
        {
          "name": "stdout",
          "output_type": "stream",
          "text": [
            "\n",
            "      Epoch    GPU_mem   box_loss   cls_loss   dfl_loss  Instances       Size\n"
          ]
        },
        {
          "name": "stderr",
          "output_type": "stream",
          "text": [
            "     41/100      2.33G      1.312      1.013      1.313         23        640: 100%|██████████| 50/50 [00:15<00:00,  3.21it/s]\n",
            "                 Class     Images  Instances      Box(P          R      mAP50  mAP50-95): 100%|██████████| 6/6 [00:01<00:00,  3.52it/s]\n"
          ]
        },
        {
          "name": "stdout",
          "output_type": "stream",
          "text": [
            "                   all        178        233      0.744      0.356      0.334      0.171\n",
            "\n",
            "      Epoch    GPU_mem   box_loss   cls_loss   dfl_loss  Instances       Size\n"
          ]
        },
        {
          "name": "stderr",
          "output_type": "stream",
          "text": [
            "     42/100      2.32G      1.279     0.9903       1.29         34        640: 100%|██████████| 50/50 [00:15<00:00,  3.16it/s]\n",
            "                 Class     Images  Instances      Box(P          R      mAP50  mAP50-95): 100%|██████████| 6/6 [00:01<00:00,  3.49it/s]"
          ]
        },
        {
          "name": "stdout",
          "output_type": "stream",
          "text": [
            "                   all        178        233      0.657      0.388      0.207      0.103\n"
          ]
        },
        {
          "name": "stderr",
          "output_type": "stream",
          "text": [
            "\n"
          ]
        },
        {
          "name": "stdout",
          "output_type": "stream",
          "text": [
            "\n",
            "      Epoch    GPU_mem   box_loss   cls_loss   dfl_loss  Instances       Size\n"
          ]
        },
        {
          "name": "stderr",
          "output_type": "stream",
          "text": [
            "     43/100      2.33G      1.311      1.019      1.318         38        640: 100%|██████████| 50/50 [00:16<00:00,  2.95it/s]\n",
            "                 Class     Images  Instances      Box(P          R      mAP50  mAP50-95): 100%|██████████| 6/6 [00:01<00:00,  3.22it/s]"
          ]
        },
        {
          "name": "stdout",
          "output_type": "stream",
          "text": [
            "                   all        178        233      0.659      0.387      0.292      0.111\n"
          ]
        },
        {
          "name": "stderr",
          "output_type": "stream",
          "text": [
            "\n"
          ]
        },
        {
          "name": "stdout",
          "output_type": "stream",
          "text": [
            "\n",
            "      Epoch    GPU_mem   box_loss   cls_loss   dfl_loss  Instances       Size\n"
          ]
        },
        {
          "name": "stderr",
          "output_type": "stream",
          "text": [
            "     44/100      2.34G      1.293     0.9958      1.302         21        640: 100%|██████████| 50/50 [00:15<00:00,  3.16it/s]\n",
            "                 Class     Images  Instances      Box(P          R      mAP50  mAP50-95): 100%|██████████| 6/6 [00:01<00:00,  3.83it/s]"
          ]
        },
        {
          "name": "stdout",
          "output_type": "stream",
          "text": [
            "                   all        178        233      0.671      0.373      0.235      0.115\n"
          ]
        },
        {
          "name": "stderr",
          "output_type": "stream",
          "text": [
            "\n"
          ]
        },
        {
          "name": "stdout",
          "output_type": "stream",
          "text": [
            "\n",
            "      Epoch    GPU_mem   box_loss   cls_loss   dfl_loss  Instances       Size\n"
          ]
        },
        {
          "name": "stderr",
          "output_type": "stream",
          "text": [
            "     45/100      2.37G      1.275     0.9657      1.287         38        640: 100%|██████████| 50/50 [00:16<00:00,  3.09it/s]\n",
            "                 Class     Images  Instances      Box(P          R      mAP50  mAP50-95): 100%|██████████| 6/6 [00:02<00:00,  2.40it/s]"
          ]
        },
        {
          "name": "stdout",
          "output_type": "stream",
          "text": [
            "                   all        178        233      0.812      0.282      0.357      0.164\n"
          ]
        },
        {
          "name": "stderr",
          "output_type": "stream",
          "text": [
            "\n"
          ]
        },
        {
          "name": "stdout",
          "output_type": "stream",
          "text": [
            "\n",
            "      Epoch    GPU_mem   box_loss   cls_loss   dfl_loss  Instances       Size\n"
          ]
        },
        {
          "name": "stderr",
          "output_type": "stream",
          "text": [
            "     46/100      2.32G      1.247     0.9637      1.271         28        640: 100%|██████████| 50/50 [00:15<00:00,  3.16it/s]\n",
            "                 Class     Images  Instances      Box(P          R      mAP50  mAP50-95): 100%|██████████| 6/6 [00:01<00:00,  3.82it/s]"
          ]
        },
        {
          "name": "stdout",
          "output_type": "stream",
          "text": [
            "                   all        178        233      0.664      0.403      0.307      0.165\n"
          ]
        },
        {
          "name": "stderr",
          "output_type": "stream",
          "text": [
            "\n"
          ]
        },
        {
          "name": "stdout",
          "output_type": "stream",
          "text": [
            "\n",
            "      Epoch    GPU_mem   box_loss   cls_loss   dfl_loss  Instances       Size\n"
          ]
        },
        {
          "name": "stderr",
          "output_type": "stream",
          "text": [
            "     47/100      2.33G      1.289     0.9755       1.29         34        640: 100%|██████████| 50/50 [00:15<00:00,  3.18it/s]\n",
            "                 Class     Images  Instances      Box(P          R      mAP50  mAP50-95): 100%|██████████| 6/6 [00:01<00:00,  3.56it/s]\n"
          ]
        },
        {
          "name": "stdout",
          "output_type": "stream",
          "text": [
            "                   all        178        233       0.74      0.334      0.297      0.141\n",
            "\n",
            "      Epoch    GPU_mem   box_loss   cls_loss   dfl_loss  Instances       Size\n"
          ]
        },
        {
          "name": "stderr",
          "output_type": "stream",
          "text": [
            "     48/100      2.32G      1.289     0.9684       1.31         24        640: 100%|██████████| 50/50 [00:16<00:00,  2.95it/s]\n",
            "                 Class     Images  Instances      Box(P          R      mAP50  mAP50-95): 100%|██████████| 6/6 [00:01<00:00,  3.90it/s]"
          ]
        },
        {
          "name": "stdout",
          "output_type": "stream",
          "text": [
            "                   all        178        233      0.715      0.325      0.259      0.135\n"
          ]
        },
        {
          "name": "stderr",
          "output_type": "stream",
          "text": [
            "\n"
          ]
        },
        {
          "name": "stdout",
          "output_type": "stream",
          "text": [
            "\n",
            "      Epoch    GPU_mem   box_loss   cls_loss   dfl_loss  Instances       Size\n"
          ]
        },
        {
          "name": "stderr",
          "output_type": "stream",
          "text": [
            "     49/100      2.33G      1.258     0.9534      1.278         22        640: 100%|██████████| 50/50 [00:16<00:00,  3.09it/s]\n",
            "                 Class     Images  Instances      Box(P          R      mAP50  mAP50-95): 100%|██████████| 6/6 [00:01<00:00,  3.58it/s]"
          ]
        },
        {
          "name": "stdout",
          "output_type": "stream",
          "text": [
            "                   all        178        233      0.723      0.456      0.419      0.202\n"
          ]
        },
        {
          "name": "stderr",
          "output_type": "stream",
          "text": [
            "\n"
          ]
        },
        {
          "name": "stdout",
          "output_type": "stream",
          "text": [
            "\n",
            "      Epoch    GPU_mem   box_loss   cls_loss   dfl_loss  Instances       Size\n"
          ]
        },
        {
          "name": "stderr",
          "output_type": "stream",
          "text": [
            "     50/100      2.32G      1.246     0.9369      1.271         33        640: 100%|██████████| 50/50 [00:15<00:00,  3.18it/s]\n",
            "                 Class     Images  Instances      Box(P          R      mAP50  mAP50-95): 100%|██████████| 6/6 [00:02<00:00,  2.40it/s]"
          ]
        },
        {
          "name": "stdout",
          "output_type": "stream",
          "text": [
            "                   all        178        233      0.648      0.338      0.196      0.106\n"
          ]
        },
        {
          "name": "stderr",
          "output_type": "stream",
          "text": [
            "\n"
          ]
        },
        {
          "name": "stdout",
          "output_type": "stream",
          "text": [
            "\n",
            "      Epoch    GPU_mem   box_loss   cls_loss   dfl_loss  Instances       Size\n"
          ]
        },
        {
          "name": "stderr",
          "output_type": "stream",
          "text": [
            "     51/100      2.33G      1.246     0.9385      1.284         31        640: 100%|██████████| 50/50 [00:15<00:00,  3.21it/s]\n",
            "                 Class     Images  Instances      Box(P          R      mAP50  mAP50-95): 100%|██████████| 6/6 [00:01<00:00,  3.79it/s]"
          ]
        },
        {
          "name": "stdout",
          "output_type": "stream",
          "text": [
            "                   all        178        233       0.78      0.358       0.34       0.17\n"
          ]
        },
        {
          "name": "stderr",
          "output_type": "stream",
          "text": [
            "\n"
          ]
        },
        {
          "name": "stdout",
          "output_type": "stream",
          "text": [
            "\n",
            "      Epoch    GPU_mem   box_loss   cls_loss   dfl_loss  Instances       Size\n"
          ]
        },
        {
          "name": "stderr",
          "output_type": "stream",
          "text": [
            "     52/100      2.32G      1.224     0.9108      1.266         17        640: 100%|██████████| 50/50 [00:15<00:00,  3.16it/s]\n",
            "                 Class     Images  Instances      Box(P          R      mAP50  mAP50-95): 100%|██████████| 6/6 [00:01<00:00,  3.63it/s]"
          ]
        },
        {
          "name": "stdout",
          "output_type": "stream",
          "text": [
            "                   all        178        233      0.731      0.322      0.296      0.156\n"
          ]
        },
        {
          "name": "stderr",
          "output_type": "stream",
          "text": [
            "\n"
          ]
        },
        {
          "name": "stdout",
          "output_type": "stream",
          "text": [
            "\n",
            "      Epoch    GPU_mem   box_loss   cls_loss   dfl_loss  Instances       Size\n"
          ]
        },
        {
          "name": "stderr",
          "output_type": "stream",
          "text": [
            "     53/100      2.35G      1.237     0.9092      1.254         19        640: 100%|██████████| 50/50 [00:16<00:00,  3.03it/s]\n",
            "                 Class     Images  Instances      Box(P          R      mAP50  mAP50-95): 100%|██████████| 6/6 [00:01<00:00,  3.59it/s]"
          ]
        },
        {
          "name": "stdout",
          "output_type": "stream",
          "text": [
            "                   all        178        233      0.579      0.409      0.194     0.0937\n"
          ]
        },
        {
          "name": "stderr",
          "output_type": "stream",
          "text": [
            "\n"
          ]
        },
        {
          "name": "stdout",
          "output_type": "stream",
          "text": [
            "\n",
            "      Epoch    GPU_mem   box_loss   cls_loss   dfl_loss  Instances       Size\n"
          ]
        },
        {
          "name": "stderr",
          "output_type": "stream",
          "text": [
            "     54/100      2.34G       1.23     0.9085      1.253         22        640: 100%|██████████| 50/50 [00:15<00:00,  3.18it/s]\n",
            "                 Class     Images  Instances      Box(P          R      mAP50  mAP50-95): 100%|██████████| 6/6 [00:01<00:00,  3.85it/s]"
          ]
        },
        {
          "name": "stdout",
          "output_type": "stream",
          "text": [
            "                   all        178        233      0.714      0.363      0.302      0.147\n"
          ]
        },
        {
          "name": "stderr",
          "output_type": "stream",
          "text": [
            "\n"
          ]
        },
        {
          "name": "stdout",
          "output_type": "stream",
          "text": [
            "\n",
            "      Epoch    GPU_mem   box_loss   cls_loss   dfl_loss  Instances       Size\n"
          ]
        },
        {
          "name": "stderr",
          "output_type": "stream",
          "text": [
            "     55/100      2.37G      1.237     0.9125      1.271         25        640: 100%|██████████| 50/50 [00:16<00:00,  3.11it/s]\n",
            "                 Class     Images  Instances      Box(P          R      mAP50  mAP50-95): 100%|██████████| 6/6 [00:02<00:00,  2.30it/s]"
          ]
        },
        {
          "name": "stdout",
          "output_type": "stream",
          "text": [
            "                   all        178        233      0.288      0.383      0.232      0.123\n"
          ]
        },
        {
          "name": "stderr",
          "output_type": "stream",
          "text": [
            "\n"
          ]
        },
        {
          "name": "stdout",
          "output_type": "stream",
          "text": [
            "\n",
            "      Epoch    GPU_mem   box_loss   cls_loss   dfl_loss  Instances       Size\n"
          ]
        },
        {
          "name": "stderr",
          "output_type": "stream",
          "text": [
            "     56/100      2.36G      1.207     0.8709      1.238         22        640: 100%|██████████| 50/50 [00:15<00:00,  3.17it/s]\n",
            "                 Class     Images  Instances      Box(P          R      mAP50  mAP50-95): 100%|██████████| 6/6 [00:01<00:00,  3.50it/s]"
          ]
        },
        {
          "name": "stdout",
          "output_type": "stream",
          "text": [
            "                   all        178        233      0.652      0.366      0.207      0.123\n"
          ]
        },
        {
          "name": "stderr",
          "output_type": "stream",
          "text": [
            "\n"
          ]
        },
        {
          "name": "stdout",
          "output_type": "stream",
          "text": [
            "\n",
            "      Epoch    GPU_mem   box_loss   cls_loss   dfl_loss  Instances       Size\n"
          ]
        },
        {
          "name": "stderr",
          "output_type": "stream",
          "text": [
            "     57/100      2.37G      1.192     0.8701      1.239         15        640: 100%|██████████| 50/50 [00:15<00:00,  3.20it/s]\n",
            "                 Class     Images  Instances      Box(P          R      mAP50  mAP50-95): 100%|██████████| 6/6 [00:01<00:00,  3.63it/s]"
          ]
        },
        {
          "name": "stdout",
          "output_type": "stream",
          "text": [
            "                   all        178        233      0.791      0.396      0.368      0.187\n"
          ]
        },
        {
          "name": "stderr",
          "output_type": "stream",
          "text": [
            "\n"
          ]
        },
        {
          "name": "stdout",
          "output_type": "stream",
          "text": [
            "\n",
            "      Epoch    GPU_mem   box_loss   cls_loss   dfl_loss  Instances       Size\n"
          ]
        },
        {
          "name": "stderr",
          "output_type": "stream",
          "text": [
            "     58/100      2.34G      1.214     0.8708       1.24         28        640: 100%|██████████| 50/50 [00:16<00:00,  2.98it/s]\n",
            "                 Class     Images  Instances      Box(P          R      mAP50  mAP50-95): 100%|██████████| 6/6 [00:01<00:00,  3.62it/s]"
          ]
        },
        {
          "name": "stdout",
          "output_type": "stream",
          "text": [
            "                   all        178        233      0.758      0.373      0.263      0.143\n"
          ]
        },
        {
          "name": "stderr",
          "output_type": "stream",
          "text": [
            "\n"
          ]
        },
        {
          "name": "stdout",
          "output_type": "stream",
          "text": [
            "\n",
            "      Epoch    GPU_mem   box_loss   cls_loss   dfl_loss  Instances       Size\n"
          ]
        },
        {
          "name": "stderr",
          "output_type": "stream",
          "text": [
            "     59/100      2.35G      1.189     0.8737      1.249         28        640: 100%|██████████| 50/50 [00:16<00:00,  3.11it/s]\n",
            "                 Class     Images  Instances      Box(P          R      mAP50  mAP50-95): 100%|██████████| 6/6 [00:01<00:00,  3.46it/s]"
          ]
        },
        {
          "name": "stdout",
          "output_type": "stream",
          "text": [
            "                   all        178        233      0.306      0.473      0.288      0.156\n"
          ]
        },
        {
          "name": "stderr",
          "output_type": "stream",
          "text": [
            "\n"
          ]
        },
        {
          "name": "stdout",
          "output_type": "stream",
          "text": [
            "\n",
            "      Epoch    GPU_mem   box_loss   cls_loss   dfl_loss  Instances       Size\n"
          ]
        },
        {
          "name": "stderr",
          "output_type": "stream",
          "text": [
            "     60/100      2.32G      1.207     0.8801      1.249         28        640: 100%|██████████| 50/50 [00:16<00:00,  2.99it/s]\n",
            "                 Class     Images  Instances      Box(P          R      mAP50  mAP50-95): 100%|██████████| 6/6 [00:01<00:00,  3.12it/s]"
          ]
        },
        {
          "name": "stdout",
          "output_type": "stream",
          "text": [
            "                   all        178        233      0.747      0.362      0.354      0.176\n"
          ]
        },
        {
          "name": "stderr",
          "output_type": "stream",
          "text": [
            "\n"
          ]
        },
        {
          "name": "stdout",
          "output_type": "stream",
          "text": [
            "\n",
            "      Epoch    GPU_mem   box_loss   cls_loss   dfl_loss  Instances       Size\n"
          ]
        },
        {
          "name": "stderr",
          "output_type": "stream",
          "text": [
            "     61/100      2.33G      1.164       0.82      1.219         19        640: 100%|██████████| 50/50 [00:15<00:00,  3.18it/s]\n",
            "                 Class     Images  Instances      Box(P          R      mAP50  mAP50-95): 100%|██████████| 6/6 [00:01<00:00,  3.72it/s]"
          ]
        },
        {
          "name": "stdout",
          "output_type": "stream",
          "text": [
            "                   all        178        233      0.642      0.377       0.22      0.118\n"
          ]
        },
        {
          "name": "stderr",
          "output_type": "stream",
          "text": [
            "\n"
          ]
        },
        {
          "name": "stdout",
          "output_type": "stream",
          "text": [
            "\n",
            "      Epoch    GPU_mem   box_loss   cls_loss   dfl_loss  Instances       Size\n"
          ]
        },
        {
          "name": "stderr",
          "output_type": "stream",
          "text": [
            "     62/100      2.32G      1.143     0.8157      1.211         32        640: 100%|██████████| 50/50 [00:15<00:00,  3.17it/s]\n",
            "                 Class     Images  Instances      Box(P          R      mAP50  mAP50-95): 100%|██████████| 6/6 [00:02<00:00,  2.99it/s]"
          ]
        },
        {
          "name": "stdout",
          "output_type": "stream",
          "text": [
            "                   all        178        233       0.67      0.326      0.212      0.123\n"
          ]
        },
        {
          "name": "stderr",
          "output_type": "stream",
          "text": [
            "\n"
          ]
        },
        {
          "name": "stdout",
          "output_type": "stream",
          "text": [
            "\n",
            "      Epoch    GPU_mem   box_loss   cls_loss   dfl_loss  Instances       Size\n"
          ]
        },
        {
          "name": "stderr",
          "output_type": "stream",
          "text": [
            "     63/100      2.37G      1.163     0.7989      1.202         35        640: 100%|██████████| 50/50 [00:16<00:00,  3.10it/s]\n",
            "                 Class     Images  Instances      Box(P          R      mAP50  mAP50-95): 100%|██████████| 6/6 [00:01<00:00,  3.29it/s]"
          ]
        },
        {
          "name": "stdout",
          "output_type": "stream",
          "text": [
            "                   all        178        233      0.706      0.324      0.276      0.152\n"
          ]
        },
        {
          "name": "stderr",
          "output_type": "stream",
          "text": [
            "\n"
          ]
        },
        {
          "name": "stdout",
          "output_type": "stream",
          "text": [
            "\n",
            "      Epoch    GPU_mem   box_loss   cls_loss   dfl_loss  Instances       Size\n"
          ]
        },
        {
          "name": "stderr",
          "output_type": "stream",
          "text": [
            "     64/100      2.34G      1.175     0.8243      1.223         44        640: 100%|██████████| 50/50 [00:15<00:00,  3.15it/s]\n",
            "                 Class     Images  Instances      Box(P          R      mAP50  mAP50-95): 100%|██████████| 6/6 [00:01<00:00,  4.01it/s]"
          ]
        },
        {
          "name": "stdout",
          "output_type": "stream",
          "text": [
            "                   all        178        233      0.417      0.303      0.273      0.156\n"
          ]
        },
        {
          "name": "stderr",
          "output_type": "stream",
          "text": [
            "\n"
          ]
        },
        {
          "name": "stdout",
          "output_type": "stream",
          "text": [
            "\n",
            "      Epoch    GPU_mem   box_loss   cls_loss   dfl_loss  Instances       Size\n"
          ]
        },
        {
          "name": "stderr",
          "output_type": "stream",
          "text": [
            "     65/100      2.35G      1.135     0.8144      1.188         28        640: 100%|██████████| 50/50 [00:16<00:00,  2.95it/s]\n",
            "                 Class     Images  Instances      Box(P          R      mAP50  mAP50-95): 100%|██████████| 6/6 [00:01<00:00,  3.27it/s]"
          ]
        },
        {
          "name": "stdout",
          "output_type": "stream",
          "text": [
            "                   all        178        233      0.699      0.364      0.263      0.134\n"
          ]
        },
        {
          "name": "stderr",
          "output_type": "stream",
          "text": [
            "\n"
          ]
        },
        {
          "name": "stdout",
          "output_type": "stream",
          "text": [
            "\n",
            "      Epoch    GPU_mem   box_loss   cls_loss   dfl_loss  Instances       Size\n"
          ]
        },
        {
          "name": "stderr",
          "output_type": "stream",
          "text": [
            "     66/100      2.34G       1.16     0.8299      1.216         23        640: 100%|██████████| 50/50 [00:16<00:00,  3.11it/s]\n",
            "                 Class     Images  Instances      Box(P          R      mAP50  mAP50-95): 100%|██████████| 6/6 [00:01<00:00,  3.44it/s]"
          ]
        },
        {
          "name": "stdout",
          "output_type": "stream",
          "text": [
            "                   all        178        233      0.698      0.412       0.24      0.129\n"
          ]
        },
        {
          "name": "stderr",
          "output_type": "stream",
          "text": [
            "\n"
          ]
        },
        {
          "name": "stdout",
          "output_type": "stream",
          "text": [
            "\n",
            "      Epoch    GPU_mem   box_loss   cls_loss   dfl_loss  Instances       Size\n"
          ]
        },
        {
          "name": "stderr",
          "output_type": "stream",
          "text": [
            "     67/100      2.38G      1.148     0.8124      1.211         25        640: 100%|██████████| 50/50 [00:15<00:00,  3.14it/s]\n",
            "                 Class     Images  Instances      Box(P          R      mAP50  mAP50-95): 100%|██████████| 6/6 [00:02<00:00,  2.09it/s]"
          ]
        },
        {
          "name": "stdout",
          "output_type": "stream",
          "text": [
            "                   all        178        233      0.711        0.4      0.225      0.127\n"
          ]
        },
        {
          "name": "stderr",
          "output_type": "stream",
          "text": [
            "\n"
          ]
        },
        {
          "name": "stdout",
          "output_type": "stream",
          "text": [
            "\n",
            "      Epoch    GPU_mem   box_loss   cls_loss   dfl_loss  Instances       Size\n"
          ]
        },
        {
          "name": "stderr",
          "output_type": "stream",
          "text": [
            "     68/100      2.34G      1.142     0.8024      1.217         32        640: 100%|██████████| 50/50 [00:15<00:00,  3.15it/s]\n",
            "                 Class     Images  Instances      Box(P          R      mAP50  mAP50-95): 100%|██████████| 6/6 [00:01<00:00,  3.48it/s]"
          ]
        },
        {
          "name": "stdout",
          "output_type": "stream",
          "text": [
            "                   all        178        233      0.731      0.337       0.28      0.148\n"
          ]
        },
        {
          "name": "stderr",
          "output_type": "stream",
          "text": [
            "\n"
          ]
        },
        {
          "name": "stdout",
          "output_type": "stream",
          "text": [
            "\n",
            "      Epoch    GPU_mem   box_loss   cls_loss   dfl_loss  Instances       Size\n"
          ]
        },
        {
          "name": "stderr",
          "output_type": "stream",
          "text": [
            "     69/100      2.37G      1.128     0.7917      1.188         32        640: 100%|██████████| 50/50 [00:16<00:00,  3.09it/s]\n",
            "                 Class     Images  Instances      Box(P          R      mAP50  mAP50-95): 100%|██████████| 6/6 [00:01<00:00,  3.74it/s]"
          ]
        },
        {
          "name": "stdout",
          "output_type": "stream",
          "text": [
            "                   all        178        233       0.72      0.417      0.318      0.175\n"
          ]
        },
        {
          "name": "stderr",
          "output_type": "stream",
          "text": [
            "\n"
          ]
        },
        {
          "name": "stdout",
          "output_type": "stream",
          "text": [
            "\n",
            "      Epoch    GPU_mem   box_loss   cls_loss   dfl_loss  Instances       Size\n"
          ]
        },
        {
          "name": "stderr",
          "output_type": "stream",
          "text": [
            "     70/100      2.36G      1.106     0.7752      1.191         23        640: 100%|██████████| 50/50 [00:16<00:00,  3.00it/s]\n",
            "                 Class     Images  Instances      Box(P          R      mAP50  mAP50-95): 100%|██████████| 6/6 [00:01<00:00,  3.55it/s]"
          ]
        },
        {
          "name": "stdout",
          "output_type": "stream",
          "text": [
            "                   all        178        233      0.765      0.396      0.335      0.163\n"
          ]
        },
        {
          "name": "stderr",
          "output_type": "stream",
          "text": [
            "\n"
          ]
        },
        {
          "name": "stdout",
          "output_type": "stream",
          "text": [
            "\n",
            "      Epoch    GPU_mem   box_loss   cls_loss   dfl_loss  Instances       Size\n"
          ]
        },
        {
          "name": "stderr",
          "output_type": "stream",
          "text": [
            "     71/100      2.37G       1.13     0.7585      1.186         28        640: 100%|██████████| 50/50 [00:15<00:00,  3.14it/s]\n",
            "                 Class     Images  Instances      Box(P          R      mAP50  mAP50-95): 100%|██████████| 6/6 [00:01<00:00,  3.77it/s]"
          ]
        },
        {
          "name": "stdout",
          "output_type": "stream",
          "text": [
            "                   all        178        233      0.706      0.359      0.293      0.148\n"
          ]
        },
        {
          "name": "stderr",
          "output_type": "stream",
          "text": [
            "\n"
          ]
        },
        {
          "name": "stdout",
          "output_type": "stream",
          "text": [
            "\n",
            "      Epoch    GPU_mem   box_loss   cls_loss   dfl_loss  Instances       Size\n"
          ]
        },
        {
          "name": "stderr",
          "output_type": "stream",
          "text": [
            "     72/100      2.32G      1.094     0.7565      1.186         27        640: 100%|██████████| 50/50 [00:16<00:00,  3.00it/s]\n",
            "                 Class     Images  Instances      Box(P          R      mAP50  mAP50-95): 100%|██████████| 6/6 [00:02<00:00,  2.86it/s]"
          ]
        },
        {
          "name": "stdout",
          "output_type": "stream",
          "text": [
            "                   all        178        233      0.708      0.426      0.295      0.162\n"
          ]
        },
        {
          "name": "stderr",
          "output_type": "stream",
          "text": [
            "\n"
          ]
        },
        {
          "name": "stdout",
          "output_type": "stream",
          "text": [
            "\n",
            "      Epoch    GPU_mem   box_loss   cls_loss   dfl_loss  Instances       Size\n"
          ]
        },
        {
          "name": "stderr",
          "output_type": "stream",
          "text": [
            "     73/100      2.33G      1.111     0.7299      1.178         34        640: 100%|██████████| 50/50 [00:15<00:00,  3.20it/s]\n",
            "                 Class     Images  Instances      Box(P          R      mAP50  mAP50-95): 100%|██████████| 6/6 [00:01<00:00,  3.94it/s]"
          ]
        },
        {
          "name": "stdout",
          "output_type": "stream",
          "text": [
            "                   all        178        233       0.72      0.351      0.318       0.16\n"
          ]
        },
        {
          "name": "stderr",
          "output_type": "stream",
          "text": [
            "\n"
          ]
        },
        {
          "name": "stdout",
          "output_type": "stream",
          "text": [
            "\n",
            "      Epoch    GPU_mem   box_loss   cls_loss   dfl_loss  Instances       Size\n"
          ]
        },
        {
          "name": "stderr",
          "output_type": "stream",
          "text": [
            "     74/100      2.32G      1.096     0.7467      1.187         14        640: 100%|██████████| 50/50 [00:15<00:00,  3.14it/s]\n",
            "                 Class     Images  Instances      Box(P          R      mAP50  mAP50-95): 100%|██████████| 6/6 [00:01<00:00,  3.90it/s]"
          ]
        },
        {
          "name": "stdout",
          "output_type": "stream",
          "text": [
            "                   all        178        233      0.671      0.437      0.366      0.178\n"
          ]
        },
        {
          "name": "stderr",
          "output_type": "stream",
          "text": [
            "\n"
          ]
        },
        {
          "name": "stdout",
          "output_type": "stream",
          "text": [
            "\n",
            "      Epoch    GPU_mem   box_loss   cls_loss   dfl_loss  Instances       Size\n"
          ]
        },
        {
          "name": "stderr",
          "output_type": "stream",
          "text": [
            "     75/100      2.37G      1.092      0.752      1.183         22        640: 100%|██████████| 50/50 [00:16<00:00,  3.03it/s]\n",
            "                 Class     Images  Instances      Box(P          R      mAP50  mAP50-95): 100%|██████████| 6/6 [00:01<00:00,  3.41it/s]"
          ]
        },
        {
          "name": "stdout",
          "output_type": "stream",
          "text": [
            "                   all        178        233      0.363      0.446      0.299      0.169\n"
          ]
        },
        {
          "name": "stderr",
          "output_type": "stream",
          "text": [
            "\n"
          ]
        },
        {
          "name": "stdout",
          "output_type": "stream",
          "text": [
            "\n",
            "      Epoch    GPU_mem   box_loss   cls_loss   dfl_loss  Instances       Size\n"
          ]
        },
        {
          "name": "stderr",
          "output_type": "stream",
          "text": [
            "     76/100      2.34G      1.064     0.7302       1.17         21        640: 100%|██████████| 50/50 [00:16<00:00,  3.10it/s]\n",
            "                 Class     Images  Instances      Box(P          R      mAP50  mAP50-95): 100%|██████████| 6/6 [00:01<00:00,  3.51it/s]"
          ]
        },
        {
          "name": "stdout",
          "output_type": "stream",
          "text": [
            "                   all        178        233      0.753      0.409      0.293      0.162\n"
          ]
        },
        {
          "name": "stderr",
          "output_type": "stream",
          "text": [
            "\n"
          ]
        },
        {
          "name": "stdout",
          "output_type": "stream",
          "text": [
            "\n",
            "      Epoch    GPU_mem   box_loss   cls_loss   dfl_loss  Instances       Size\n"
          ]
        },
        {
          "name": "stderr",
          "output_type": "stream",
          "text": [
            "     77/100      2.35G      1.077     0.7314       1.16         33        640: 100%|██████████| 50/50 [00:16<00:00,  2.95it/s]\n",
            "                 Class     Images  Instances      Box(P          R      mAP50  mAP50-95): 100%|██████████| 6/6 [00:01<00:00,  3.26it/s]"
          ]
        },
        {
          "name": "stdout",
          "output_type": "stream",
          "text": [
            "                   all        178        233      0.752      0.278      0.312      0.177\n"
          ]
        },
        {
          "name": "stderr",
          "output_type": "stream",
          "text": [
            "\n"
          ]
        },
        {
          "name": "stdout",
          "output_type": "stream",
          "text": [
            "\n",
            "      Epoch    GPU_mem   box_loss   cls_loss   dfl_loss  Instances       Size\n"
          ]
        },
        {
          "name": "stderr",
          "output_type": "stream",
          "text": [
            "     78/100      2.36G      1.067     0.7457      1.166         21        640: 100%|██████████| 50/50 [00:15<00:00,  3.17it/s]\n",
            "                 Class     Images  Instances      Box(P          R      mAP50  mAP50-95): 100%|██████████| 6/6 [00:01<00:00,  3.68it/s]"
          ]
        },
        {
          "name": "stdout",
          "output_type": "stream",
          "text": [
            "                   all        178        233      0.725      0.359       0.28      0.151\n"
          ]
        },
        {
          "name": "stderr",
          "output_type": "stream",
          "text": [
            "\n"
          ]
        },
        {
          "name": "stdout",
          "output_type": "stream",
          "text": [
            "\n",
            "      Epoch    GPU_mem   box_loss   cls_loss   dfl_loss  Instances       Size\n"
          ]
        },
        {
          "name": "stderr",
          "output_type": "stream",
          "text": [
            "     79/100      2.35G      1.037     0.7062      1.145         34        640: 100%|██████████| 50/50 [00:15<00:00,  3.22it/s]\n",
            "                 Class     Images  Instances      Box(P          R      mAP50  mAP50-95): 100%|██████████| 6/6 [00:01<00:00,  3.50it/s]"
          ]
        },
        {
          "name": "stdout",
          "output_type": "stream",
          "text": [
            "                   all        178        233      0.709      0.376      0.253      0.135\n"
          ]
        },
        {
          "name": "stderr",
          "output_type": "stream",
          "text": [
            "\n"
          ]
        },
        {
          "name": "stdout",
          "output_type": "stream",
          "text": [
            "\n",
            "      Epoch    GPU_mem   box_loss   cls_loss   dfl_loss  Instances       Size\n"
          ]
        },
        {
          "name": "stderr",
          "output_type": "stream",
          "text": [
            "     80/100      2.25G      1.054     0.7198      1.166         23        640: 100%|██████████| 50/50 [00:16<00:00,  3.00it/s]\n",
            "                 Class     Images  Instances      Box(P          R      mAP50  mAP50-95): 100%|██████████| 6/6 [00:01<00:00,  3.72it/s]"
          ]
        },
        {
          "name": "stdout",
          "output_type": "stream",
          "text": [
            "                   all        178        233      0.695      0.366       0.28      0.149\n"
          ]
        },
        {
          "name": "stderr",
          "output_type": "stream",
          "text": [
            "\n"
          ]
        },
        {
          "name": "stdout",
          "output_type": "stream",
          "text": [
            "\n",
            "      Epoch    GPU_mem   box_loss   cls_loss   dfl_loss  Instances       Size\n"
          ]
        },
        {
          "name": "stderr",
          "output_type": "stream",
          "text": [
            "     81/100      2.35G      1.042     0.7218      1.151         29        640: 100%|██████████| 50/50 [00:16<00:00,  3.09it/s]\n",
            "                 Class     Images  Instances      Box(P          R      mAP50  mAP50-95): 100%|██████████| 6/6 [00:01<00:00,  3.79it/s]"
          ]
        },
        {
          "name": "stdout",
          "output_type": "stream",
          "text": [
            "                   all        178        233      0.718      0.396      0.327      0.173\n"
          ]
        },
        {
          "name": "stderr",
          "output_type": "stream",
          "text": [
            "\n"
          ]
        },
        {
          "name": "stdout",
          "output_type": "stream",
          "text": [
            "\n",
            "      Epoch    GPU_mem   box_loss   cls_loss   dfl_loss  Instances       Size\n"
          ]
        },
        {
          "name": "stderr",
          "output_type": "stream",
          "text": [
            "     82/100      2.34G      1.053      0.714       1.16         28        640: 100%|██████████| 50/50 [00:17<00:00,  2.93it/s]\n",
            "                 Class     Images  Instances      Box(P          R      mAP50  mAP50-95): 100%|██████████| 6/6 [00:01<00:00,  3.38it/s]"
          ]
        },
        {
          "name": "stdout",
          "output_type": "stream",
          "text": [
            "                   all        178        233      0.733       0.37      0.282      0.144\n"
          ]
        },
        {
          "name": "stderr",
          "output_type": "stream",
          "text": [
            "\n"
          ]
        },
        {
          "name": "stdout",
          "output_type": "stream",
          "text": [
            "\n",
            "      Epoch    GPU_mem   box_loss   cls_loss   dfl_loss  Instances       Size\n"
          ]
        },
        {
          "name": "stderr",
          "output_type": "stream",
          "text": [
            "     83/100      2.35G      1.041     0.6933      1.152         39        640: 100%|██████████| 50/50 [00:15<00:00,  3.14it/s]\n",
            "                 Class     Images  Instances      Box(P          R      mAP50  mAP50-95): 100%|██████████| 6/6 [00:01<00:00,  3.64it/s]"
          ]
        },
        {
          "name": "stdout",
          "output_type": "stream",
          "text": [
            "                   all        178        233      0.698      0.361      0.255      0.143\n"
          ]
        },
        {
          "name": "stderr",
          "output_type": "stream",
          "text": [
            "\n"
          ]
        },
        {
          "name": "stdout",
          "output_type": "stream",
          "text": [
            "\n",
            "      Epoch    GPU_mem   box_loss   cls_loss   dfl_loss  Instances       Size\n"
          ]
        },
        {
          "name": "stderr",
          "output_type": "stream",
          "text": [
            "     84/100      2.35G      1.004     0.6879       1.13         29        640: 100%|██████████| 50/50 [00:15<00:00,  3.16it/s]\n",
            "                 Class     Images  Instances      Box(P          R      mAP50  mAP50-95): 100%|██████████| 6/6 [00:02<00:00,  2.99it/s]"
          ]
        },
        {
          "name": "stdout",
          "output_type": "stream",
          "text": [
            "                   all        178        233      0.339      0.419      0.249      0.136\n"
          ]
        },
        {
          "name": "stderr",
          "output_type": "stream",
          "text": [
            "\n"
          ]
        },
        {
          "name": "stdout",
          "output_type": "stream",
          "text": [
            "\n",
            "      Epoch    GPU_mem   box_loss   cls_loss   dfl_loss  Instances       Size\n"
          ]
        },
        {
          "name": "stderr",
          "output_type": "stream",
          "text": [
            "     85/100      2.37G      1.038     0.7079      1.156         24        640: 100%|██████████| 50/50 [00:16<00:00,  3.03it/s]\n",
            "                 Class     Images  Instances      Box(P          R      mAP50  mAP50-95): 100%|██████████| 6/6 [00:01<00:00,  3.94it/s]"
          ]
        },
        {
          "name": "stdout",
          "output_type": "stream",
          "text": [
            "                   all        178        233       0.71      0.413      0.259      0.152\n"
          ]
        },
        {
          "name": "stderr",
          "output_type": "stream",
          "text": [
            "\n"
          ]
        },
        {
          "name": "stdout",
          "output_type": "stream",
          "text": [
            "\n",
            "      Epoch    GPU_mem   box_loss   cls_loss   dfl_loss  Instances       Size\n"
          ]
        },
        {
          "name": "stderr",
          "output_type": "stream",
          "text": [
            "     86/100      2.34G       1.02     0.7009       1.15         47        640: 100%|██████████| 50/50 [00:15<00:00,  3.20it/s]\n",
            "                 Class     Images  Instances      Box(P          R      mAP50  mAP50-95): 100%|██████████| 6/6 [00:01<00:00,  3.50it/s]"
          ]
        },
        {
          "name": "stdout",
          "output_type": "stream",
          "text": [
            "                   all        178        233      0.747      0.362      0.333       0.17\n"
          ]
        },
        {
          "name": "stderr",
          "output_type": "stream",
          "text": [
            "\n"
          ]
        },
        {
          "name": "stdout",
          "output_type": "stream",
          "text": [
            "\n",
            "      Epoch    GPU_mem   box_loss   cls_loss   dfl_loss  Instances       Size\n"
          ]
        },
        {
          "name": "stderr",
          "output_type": "stream",
          "text": [
            "     87/100      2.33G      1.046     0.6885      1.159         38        640: 100%|██████████| 50/50 [00:16<00:00,  2.96it/s]\n",
            "                 Class     Images  Instances      Box(P          R      mAP50  mAP50-95): 100%|██████████| 6/6 [00:01<00:00,  3.35it/s]"
          ]
        },
        {
          "name": "stdout",
          "output_type": "stream",
          "text": [
            "                   all        178        233      0.748      0.328      0.296      0.158\n"
          ]
        },
        {
          "name": "stderr",
          "output_type": "stream",
          "text": [
            "\n"
          ]
        },
        {
          "name": "stdout",
          "output_type": "stream",
          "text": [
            "\n",
            "      Epoch    GPU_mem   box_loss   cls_loss   dfl_loss  Instances       Size\n"
          ]
        },
        {
          "name": "stderr",
          "output_type": "stream",
          "text": [
            "     88/100      2.32G      1.006     0.6724      1.129         28        640: 100%|██████████| 50/50 [00:15<00:00,  3.22it/s]\n",
            "                 Class     Images  Instances      Box(P          R      mAP50  mAP50-95): 100%|██████████| 6/6 [00:01<00:00,  3.18it/s]"
          ]
        },
        {
          "name": "stdout",
          "output_type": "stream",
          "text": [
            "                   all        178        233      0.739      0.398      0.307      0.165\n"
          ]
        },
        {
          "name": "stderr",
          "output_type": "stream",
          "text": [
            "\n"
          ]
        },
        {
          "name": "stdout",
          "output_type": "stream",
          "text": [
            "\n",
            "      Epoch    GPU_mem   box_loss   cls_loss   dfl_loss  Instances       Size\n"
          ]
        },
        {
          "name": "stderr",
          "output_type": "stream",
          "text": [
            "     89/100      2.35G     0.9927     0.6679      1.128         31        640: 100%|██████████| 50/50 [00:15<00:00,  3.17it/s]\n",
            "                 Class     Images  Instances      Box(P          R      mAP50  mAP50-95): 100%|██████████| 6/6 [00:01<00:00,  3.10it/s]"
          ]
        },
        {
          "name": "stdout",
          "output_type": "stream",
          "text": [
            "                   all        178        233      0.726      0.372      0.288      0.163\n"
          ]
        },
        {
          "name": "stderr",
          "output_type": "stream",
          "text": [
            "\n"
          ]
        },
        {
          "name": "stdout",
          "output_type": "stream",
          "text": [
            "\n",
            "      Epoch    GPU_mem   box_loss   cls_loss   dfl_loss  Instances       Size\n"
          ]
        },
        {
          "name": "stderr",
          "output_type": "stream",
          "text": [
            "     90/100      2.32G     0.9964     0.6527      1.128         15        640: 100%|██████████| 50/50 [00:16<00:00,  3.10it/s]\n",
            "                 Class     Images  Instances      Box(P          R      mAP50  mAP50-95): 100%|██████████| 6/6 [00:01<00:00,  3.64it/s]"
          ]
        },
        {
          "name": "stdout",
          "output_type": "stream",
          "text": [
            "                   all        178        233      0.749      0.368      0.308      0.172\n"
          ]
        },
        {
          "name": "stderr",
          "output_type": "stream",
          "text": [
            "\n"
          ]
        },
        {
          "name": "stdout",
          "output_type": "stream",
          "text": [
            "Closing dataloader mosaic\n",
            "\u001b[34m\u001b[1malbumentations: \u001b[0mBlur(p=0.01, blur_limit=(3, 7)), MedianBlur(p=0.01, blur_limit=(3, 7)), ToGray(p=0.01), CLAHE(p=0.01, clip_limit=(1, 4.0), tile_grid_size=(8, 8))\n",
            "\n",
            "      Epoch    GPU_mem   box_loss   cls_loss   dfl_loss  Instances       Size\n"
          ]
        },
        {
          "name": "stderr",
          "output_type": "stream",
          "text": [
            "     91/100      2.47G     0.9282     0.5533      1.085         15        640: 100%|██████████| 50/50 [00:16<00:00,  2.95it/s]\n",
            "                 Class     Images  Instances      Box(P          R      mAP50  mAP50-95): 100%|██████████| 6/6 [00:01<00:00,  3.78it/s]"
          ]
        },
        {
          "name": "stdout",
          "output_type": "stream",
          "text": [
            "                   all        178        233      0.775      0.336      0.321      0.169\n"
          ]
        },
        {
          "name": "stderr",
          "output_type": "stream",
          "text": [
            "\n"
          ]
        },
        {
          "name": "stdout",
          "output_type": "stream",
          "text": [
            "\n",
            "      Epoch    GPU_mem   box_loss   cls_loss   dfl_loss  Instances       Size\n"
          ]
        },
        {
          "name": "stderr",
          "output_type": "stream",
          "text": [
            "     92/100      2.32G      0.915     0.5447      1.083         12        640: 100%|██████████| 50/50 [00:15<00:00,  3.15it/s]\n",
            "                 Class     Images  Instances      Box(P          R      mAP50  mAP50-95): 100%|██████████| 6/6 [00:01<00:00,  3.39it/s]"
          ]
        },
        {
          "name": "stdout",
          "output_type": "stream",
          "text": [
            "                   all        178        233      0.375      0.458      0.319      0.176\n"
          ]
        },
        {
          "name": "stderr",
          "output_type": "stream",
          "text": [
            "\n"
          ]
        },
        {
          "name": "stdout",
          "output_type": "stream",
          "text": [
            "\n",
            "      Epoch    GPU_mem   box_loss   cls_loss   dfl_loss  Instances       Size\n"
          ]
        },
        {
          "name": "stderr",
          "output_type": "stream",
          "text": [
            "     93/100      2.33G     0.9288      0.553      1.087         15        640: 100%|██████████| 50/50 [00:15<00:00,  3.32it/s]\n",
            "                 Class     Images  Instances      Box(P          R      mAP50  mAP50-95): 100%|██████████| 6/6 [00:01<00:00,  3.93it/s]"
          ]
        },
        {
          "name": "stdout",
          "output_type": "stream",
          "text": [
            "                   all        178        233      0.746      0.433      0.338       0.18\n"
          ]
        },
        {
          "name": "stderr",
          "output_type": "stream",
          "text": [
            "\n"
          ]
        },
        {
          "name": "stdout",
          "output_type": "stream",
          "text": [
            "\n",
            "      Epoch    GPU_mem   box_loss   cls_loss   dfl_loss  Instances       Size\n"
          ]
        },
        {
          "name": "stderr",
          "output_type": "stream",
          "text": [
            "     94/100      2.32G     0.9116     0.5368      1.077         15        640: 100%|██████████| 50/50 [00:14<00:00,  3.38it/s]\n",
            "                 Class     Images  Instances      Box(P          R      mAP50  mAP50-95): 100%|██████████| 6/6 [00:01<00:00,  3.79it/s]"
          ]
        },
        {
          "name": "stdout",
          "output_type": "stream",
          "text": [
            "                   all        178        233      0.399      0.421      0.321      0.175\n"
          ]
        },
        {
          "name": "stderr",
          "output_type": "stream",
          "text": [
            "\n"
          ]
        },
        {
          "name": "stdout",
          "output_type": "stream",
          "text": [
            "\n",
            "      Epoch    GPU_mem   box_loss   cls_loss   dfl_loss  Instances       Size\n"
          ]
        },
        {
          "name": "stderr",
          "output_type": "stream",
          "text": [
            "     95/100      2.33G     0.9007     0.5301      1.063         14        640: 100%|██████████| 50/50 [00:15<00:00,  3.22it/s]\n",
            "                 Class     Images  Instances      Box(P          R      mAP50  mAP50-95): 100%|██████████| 6/6 [00:02<00:00,  2.97it/s]"
          ]
        },
        {
          "name": "stdout",
          "output_type": "stream",
          "text": [
            "                   all        178        233      0.727      0.375      0.313      0.175\n"
          ]
        },
        {
          "name": "stderr",
          "output_type": "stream",
          "text": [
            "\n"
          ]
        },
        {
          "name": "stdout",
          "output_type": "stream",
          "text": [
            "\n",
            "      Epoch    GPU_mem   box_loss   cls_loss   dfl_loss  Instances       Size\n"
          ]
        },
        {
          "name": "stderr",
          "output_type": "stream",
          "text": [
            "     96/100      2.32G     0.8751     0.5268      1.056         22        640: 100%|██████████| 50/50 [00:14<00:00,  3.37it/s]\n",
            "                 Class     Images  Instances      Box(P          R      mAP50  mAP50-95): 100%|██████████| 6/6 [00:01<00:00,  3.62it/s]"
          ]
        },
        {
          "name": "stdout",
          "output_type": "stream",
          "text": [
            "                   all        178        233      0.376      0.422      0.302      0.167\n"
          ]
        },
        {
          "name": "stderr",
          "output_type": "stream",
          "text": [
            "\n"
          ]
        },
        {
          "name": "stdout",
          "output_type": "stream",
          "text": [
            "\n",
            "      Epoch    GPU_mem   box_loss   cls_loss   dfl_loss  Instances       Size\n"
          ]
        },
        {
          "name": "stderr",
          "output_type": "stream",
          "text": [
            "     97/100      2.33G     0.8742     0.5098      1.059         15        640: 100%|██████████| 50/50 [00:14<00:00,  3.35it/s]\n",
            "                 Class     Images  Instances      Box(P          R      mAP50  mAP50-95): 100%|██████████| 6/6 [00:01<00:00,  3.76it/s]"
          ]
        },
        {
          "name": "stdout",
          "output_type": "stream",
          "text": [
            "                   all        178        233      0.356      0.392      0.283      0.171\n"
          ]
        },
        {
          "name": "stderr",
          "output_type": "stream",
          "text": [
            "\n"
          ]
        },
        {
          "name": "stdout",
          "output_type": "stream",
          "text": [
            "\n",
            "      Epoch    GPU_mem   box_loss   cls_loss   dfl_loss  Instances       Size\n"
          ]
        },
        {
          "name": "stderr",
          "output_type": "stream",
          "text": [
            "     98/100      2.32G     0.8561     0.4976      1.054         12        640: 100%|██████████| 50/50 [00:16<00:00,  3.10it/s]\n",
            "                 Class     Images  Instances      Box(P          R      mAP50  mAP50-95): 100%|██████████| 6/6 [00:01<00:00,  3.70it/s]"
          ]
        },
        {
          "name": "stdout",
          "output_type": "stream",
          "text": [
            "                   all        178        233      0.682      0.454      0.313      0.177\n"
          ]
        },
        {
          "name": "stderr",
          "output_type": "stream",
          "text": [
            "\n"
          ]
        },
        {
          "name": "stdout",
          "output_type": "stream",
          "text": [
            "\n",
            "      Epoch    GPU_mem   box_loss   cls_loss   dfl_loss  Instances       Size\n"
          ]
        },
        {
          "name": "stderr",
          "output_type": "stream",
          "text": [
            "     99/100      2.33G     0.8494     0.5099      1.032         16        640: 100%|██████████| 50/50 [00:14<00:00,  3.35it/s]\n",
            "                 Class     Images  Instances      Box(P          R      mAP50  mAP50-95): 100%|██████████| 6/6 [00:01<00:00,  3.54it/s]"
          ]
        },
        {
          "name": "stdout",
          "output_type": "stream",
          "text": [
            "                   all        178        233      0.721      0.424      0.312      0.175\n"
          ]
        },
        {
          "name": "stderr",
          "output_type": "stream",
          "text": [
            "\n"
          ]
        },
        {
          "name": "stdout",
          "output_type": "stream",
          "text": [
            "\n",
            "      Epoch    GPU_mem   box_loss   cls_loss   dfl_loss  Instances       Size\n"
          ]
        },
        {
          "name": "stderr",
          "output_type": "stream",
          "text": [
            "    100/100      2.32G     0.8643      0.506      1.062         16        640: 100%|██████████| 50/50 [00:15<00:00,  3.31it/s]\n",
            "                 Class     Images  Instances      Box(P          R      mAP50  mAP50-95): 100%|██████████| 6/6 [00:01<00:00,  3.78it/s]"
          ]
        },
        {
          "name": "stdout",
          "output_type": "stream",
          "text": [
            "                   all        178        233      0.737      0.419      0.316      0.176\n"
          ]
        },
        {
          "name": "stderr",
          "output_type": "stream",
          "text": [
            "\n"
          ]
        },
        {
          "name": "stdout",
          "output_type": "stream",
          "text": [
            "\n",
            "100 epochs completed in 0.508 hours.\n",
            "Optimizer stripped from runs/detect/train/weights/last.pt, 6.3MB\n",
            "Optimizer stripped from runs/detect/train/weights/best.pt, 6.2MB\n",
            "\n",
            "Validating runs/detect/train/weights/best.pt...\n",
            "Ultralytics YOLOv8.1.39 🚀 Python-3.10.12 torch-2.2.1+cu121 CUDA:0 (Tesla T4, 15102MiB)\n",
            "Model summary (fused): 168 layers, 3006233 parameters, 0 gradients, 8.1 GFLOPs\n"
          ]
        },
        {
          "name": "stderr",
          "output_type": "stream",
          "text": [
            "                 Class     Images  Instances      Box(P          R      mAP50  mAP50-95): 100%|██████████| 6/6 [00:04<00:00,  1.34it/s]\n"
          ]
        },
        {
          "name": "stdout",
          "output_type": "stream",
          "text": [
            "                   all        178        233      0.449       0.26      0.367       0.22\n",
            "                  fire        178        176      0.774      0.156      0.349      0.152\n",
            "                 smoke        178         49          0          0     0.0564     0.0132\n",
            "            fire_small        178          8      0.573      0.625      0.697      0.496\n",
            "Speed: 0.8ms preprocess, 2.6ms inference, 0.0ms loss, 6.3ms postprocess per image\n",
            "Results saved to \u001b[1mruns/detect/train\u001b[0m\n"
          ]
        }
      ],
      "source": [
        "from ultralytics import YOLO\n",
        "\n",
        "# Load a pretrained YOLO model (recommended for training)\n",
        "model = YOLO('yolov8n.pt')\n",
        "\n",
        "# Train the model using the 'coco128.yaml' dataset for 3 epochs\n",
        "results = model.train(data='/content/data.yaml', epochs=100)"
      ]
    },
    {
      "cell_type": "code",
      "execution_count": null,
      "metadata": {
        "id": "Vpb_bQCAgIZb"
      },
      "outputs": [],
      "source": [
        "from google.colab import drive\n",
        "drive.mount('/content/gdrive')"
      ]
    },
    {
      "cell_type": "code",
      "execution_count": null,
      "metadata": {
        "id": "kVn3Bmi5jgF0"
      },
      "outputs": [],
      "source": [
        "import locale\n",
        "locale.getpreferredencoding = lambda: \"UTF-8\""
      ]
    },
    {
      "cell_type": "code",
      "execution_count": null,
      "metadata": {
        "id": "fDCen8R9mOq7"
      },
      "outputs": [],
      "source": [
        "from google.colab import drive\n",
        "drive.flush_and_unmount()"
      ]
    },
    {
      "cell_type": "code",
      "execution_count": null,
      "metadata": {
        "colab": {
          "base_uri": "https://localhost:8080/"
        },
        "id": "7n26IrrqkYLT",
        "outputId": "ac2a7b9c-fc31-4cba-ebc4-56131fbf06d7"
      },
      "outputs": [
        {
          "name": "stdout",
          "output_type": "stream",
          "text": [
            "  adding: content/ (stored 0%)\n",
            "  adding: content/.config/ (stored 0%)\n",
            "  adding: content/.config/logs/ (stored 0%)\n",
            "  adding: content/.config/logs/2024.03.28/ (stored 0%)\n",
            "  adding: content/.config/logs/2024.03.28/22.59.58.938733.log (deflated 86%)\n",
            "  adding: content/.config/logs/2024.03.28/22.59.23.503148.log (deflated 91%)\n",
            "  adding: content/.config/logs/2024.03.28/23.00.16.460892.log (deflated 57%)\n",
            "  adding: content/.config/logs/2024.03.28/22.59.49.289095.log (deflated 58%)\n",
            "  adding: content/.config/logs/2024.03.28/23.00.17.181244.log (deflated 56%)\n",
            "  adding: content/.config/logs/2024.03.28/23.00.06.826895.log (deflated 58%)\n",
            "  adding: content/.config/default_configs.db (deflated 98%)\n",
            "  adding: content/.config/active_config (stored 0%)\n",
            "  adding: content/.config/.last_update_check.json (deflated 23%)\n",
            "  adding: content/.config/.last_survey_prompt.yaml (stored 0%)\n",
            "  adding: content/.config/gce (stored 0%)\n",
            "  adding: content/.config/configurations/ (stored 0%)\n",
            "  adding: content/.config/configurations/config_default (deflated 15%)\n",
            "  adding: content/.config/.last_opt_in_prompt.yaml (stored 0%)\n",
            "  adding: content/.config/config_sentinel (stored 0%)\n",
            "  adding: content/valid/ (stored 0%)\n",
            "  adding: content/valid/images/ (stored 0%)\n",
            "  adding: content/valid/images/image (883).jpg (deflated 3%)\n",
            "  adding: content/valid/images/image (935).jpg (deflated 1%)\n",
            "  adding: content/valid/images/image (901).jpg (deflated 1%)\n",
            "  adding: content/valid/images/image (908).jpg (deflated 3%)\n",
            "  adding: content/valid/images/image (900).jpg (deflated 3%)\n",
            "  adding: content/valid/images/image (927).jpg (deflated 1%)\n",
            "  adding: content/valid/images/image (862).jpg (deflated 1%)\n",
            "  adding: content/valid/images/image (904).jpg (deflated 2%)\n",
            "  adding: content/valid/images/image (978).jpg (deflated 1%)\n",
            "  adding: content/valid/images/image (805).jpg (deflated 2%)\n",
            "  adding: content/valid/images/image (964).jpg (deflated 2%)\n",
            "  adding: content/valid/images/image (936).jpg (deflated 1%)\n",
            "  adding: content/valid/images/image (890).jpg (deflated 2%)\n",
            "  adding: content/valid/images/image (815).jpg (deflated 2%)\n",
            "  adding: content/valid/images/image (827).jpg (deflated 1%)\n",
            "  adding: content/valid/images/image (973).jpg (deflated 1%)\n",
            "  adding: content/valid/images/image (852).jpg (deflated 1%)\n",
            "  adding: content/valid/images/image (879).jpg (deflated 2%)\n",
            "  adding: content/valid/images/image (866).jpg (deflated 10%)\n",
            "  adding: content/valid/images/image (814).jpg (deflated 1%)\n",
            "  adding: content/valid/images/image (816).jpg (deflated 2%)\n",
            "  adding: content/valid/images/image (944).jpg (deflated 1%)\n",
            "  adding: content/valid/images/image (854).jpg (deflated 1%)\n",
            "  adding: content/valid/images/image (943).jpg (deflated 1%)\n",
            "  adding: content/valid/images/image (868).jpg (deflated 3%)\n",
            "  adding: content/valid/images/image (880).jpg (deflated 1%)\n",
            "  adding: content/valid/images/image (828).jpg (deflated 8%)\n",
            "  adding: content/valid/images/image (895).jpg (deflated 1%)\n",
            "  adding: content/valid/images/image (845).jpg (deflated 1%)\n",
            "  adding: content/valid/images/image (931).jpg (deflated 4%)\n",
            "  adding: content/valid/images/image (894).jpg (deflated 1%)\n",
            "  adding: content/valid/images/image (818).jpg (deflated 1%)\n",
            "  adding: content/valid/images/image (906).jpg (deflated 1%)\n",
            "  adding: content/valid/images/image (806).jpg (deflated 2%)\n",
            "  adding: content/valid/images/image (870).jpg (deflated 2%)\n",
            "  adding: content/valid/images/image (961).jpg (deflated 4%)\n",
            "  adding: content/valid/images/image (952).jpg (deflated 4%)\n",
            "  adding: content/valid/images/image (865).jpg (deflated 1%)\n",
            "  adding: content/valid/images/image (899).jpg (deflated 2%)\n",
            "  adding: content/valid/images/image (946).jpg (deflated 4%)\n",
            "  adding: content/valid/images/image (925).jpg (deflated 1%)\n",
            "  adding: content/valid/images/image (874).jpg (deflated 2%)\n",
            "  adding: content/valid/images/image (808).jpg (deflated 1%)\n",
            "  adding: content/valid/images/image (930).jpg (deflated 5%)\n",
            "  adding: content/valid/images/image (848).jpg (deflated 2%)\n",
            "  adding: content/valid/images/image (976).jpg (deflated 2%)\n",
            "  adding: content/valid/images/image (933).jpg (deflated 3%)\n",
            "  adding: content/valid/images/image (962).jpg (deflated 2%)\n",
            "  adding: content/valid/images/image (834).jpg (deflated 1%)\n",
            "  adding: content/valid/images/image (928).jpg (deflated 2%)\n",
            "  adding: content/valid/images/image (958).jpg (deflated 2%)\n",
            "  adding: content/valid/images/image (875).jpg (deflated 1%)\n",
            "  adding: content/valid/images/image (907).jpg (deflated 2%)\n",
            "  adding: content/valid/images/image (977).jpg (deflated 3%)\n",
            "  adding: content/valid/images/image (891).jpg (deflated 2%)\n",
            "  adding: content/valid/images/image (951).jpg (deflated 2%)\n",
            "  adding: content/valid/images/image (938).jpg (deflated 3%)\n",
            "  adding: content/valid/images/image (830).jpg (deflated 1%)\n",
            "  adding: content/valid/images/image (835).jpg (deflated 1%)\n",
            "  adding: content/valid/images/image (945).jpg (deflated 3%)\n",
            "  adding: content/valid/images/image (965).jpg (deflated 1%)\n",
            "  adding: content/valid/images/image (939).jpg (deflated 1%)\n",
            "  adding: content/valid/images/image (924).jpg (deflated 1%)\n",
            "  adding: content/valid/images/image (881).jpg (deflated 1%)\n",
            "  adding: content/valid/images/image (970).jpg (deflated 0%)\n",
            "  adding: content/valid/images/image (864).jpg (deflated 1%)\n",
            "  adding: content/valid/images/image (885).jpg (deflated 3%)\n",
            "  adding: content/valid/images/image (829).jpg (deflated 4%)\n",
            "  adding: content/valid/images/image (804).jpg (deflated 2%)\n",
            "  adding: content/valid/images/image (878).jpg (deflated 3%)\n",
            "  adding: content/valid/images/image (911).jpg (deflated 1%)\n",
            "  adding: content/valid/images/image (972).jpg (deflated 2%)\n",
            "  adding: content/valid/images/image (963).jpg (deflated 1%)\n",
            "  adding: content/valid/images/image (861).jpg (deflated 1%)\n",
            "  adding: content/valid/images/image (810).jpg (deflated 2%)\n",
            "  adding: content/valid/images/image (869).jpg (deflated 8%)\n",
            "  adding: content/valid/images/image (893).jpg (deflated 1%)\n",
            "  adding: content/valid/images/image (947).jpg (deflated 3%)\n",
            "  adding: content/valid/images/image (843).jpg (deflated 1%)\n",
            "  adding: content/valid/images/image (912).jpg (deflated 1%)\n",
            "  adding: content/valid/images/image (922).jpg (deflated 1%)\n",
            "  adding: content/valid/images/image (840).jpg (deflated 1%)\n",
            "  adding: content/valid/images/image (803).jpg (deflated 1%)\n",
            "  adding: content/valid/images/image (801).jpg (deflated 2%)\n",
            "  adding: content/valid/images/image (966).jpg (deflated 2%)\n",
            "  adding: content/valid/images/image (871).jpg (deflated 2%)\n",
            "  adding: content/valid/images/image (918).jpg (deflated 1%)\n",
            "  adding: content/valid/images/image (968).jpg (deflated 3%)\n",
            "  adding: content/valid/images/image (841).jpg (deflated 1%)\n",
            "  adding: content/valid/images/image (813).jpg (deflated 1%)\n",
            "  adding: content/valid/images/image (969).jpg (deflated 0%)\n",
            "  adding: content/valid/images/image (809).jpg (deflated 2%)\n",
            "  adding: content/valid/images/image (860).jpg (deflated 1%)\n",
            "  adding: content/valid/images/image (903).jpg (deflated 2%)\n",
            "  adding: content/valid/images/image (892).jpg (deflated 2%)\n",
            "  adding: content/valid/images/image (877).jpg (deflated 1%)\n",
            "  adding: content/valid/images/image (957).jpg (deflated 1%)\n",
            "  adding: content/valid/images/image (916).jpg (deflated 1%)\n",
            "  adding: content/valid/images/image (817).jpg (deflated 2%)\n",
            "  adding: content/valid/images/image (850).jpg (deflated 1%)\n",
            "  adding: content/valid/images/image (953).jpg (deflated 2%)\n",
            "  adding: content/valid/images/image (851).jpg (deflated 1%)\n",
            "  adding: content/valid/images/image (950).jpg (deflated 3%)\n",
            "  adding: content/valid/images/image (960).jpg (deflated 3%)\n",
            "  adding: content/valid/images/image (849).jpg (deflated 3%)\n",
            "  adding: content/valid/images/image (937).jpg (deflated 1%)\n",
            "  adding: content/valid/images/image (811).jpg (deflated 1%)\n",
            "  adding: content/valid/images/image (832).jpg (deflated 5%)\n",
            "  adding: content/valid/images/image (959).jpg (deflated 1%)\n",
            "  adding: content/valid/images/image (873).jpg (deflated 4%)\n",
            "  adding: content/valid/images/image (838).jpg (deflated 1%)\n",
            "  adding: content/valid/images/image (812).jpg (deflated 1%)\n",
            "  adding: content/valid/images/image (842).jpg (deflated 2%)\n",
            "  adding: content/valid/images/image (846).jpg (deflated 8%)\n",
            "  adding: content/valid/images/image (856).jpg (deflated 9%)\n",
            "  adding: content/valid/images/image (902).jpg (deflated 5%)\n",
            "  adding: content/valid/images/image (825).jpg (deflated 3%)\n",
            "  adding: content/valid/images/image (919).jpg (deflated 1%)\n",
            "  adding: content/valid/images/image (896).jpg (deflated 1%)\n",
            "  adding: content/valid/images/image (921).jpg (deflated 1%)\n",
            "  adding: content/valid/images/image (859).jpg (deflated 1%)\n",
            "  adding: content/valid/images/image (889).jpg (deflated 1%)\n",
            "  adding: content/valid/images/image (867).jpg (deflated 3%)\n",
            "  adding: content/valid/images/image (975).jpg (deflated 1%)\n",
            "  adding: content/valid/images/image (923).jpg (deflated 1%)\n",
            "  adding: content/valid/images/image (857).jpg (deflated 1%)\n",
            "  adding: content/valid/images/image (844).jpg (deflated 1%)\n",
            "  adding: content/valid/images/image (858).jpg (deflated 10%)\n",
            "  adding: content/valid/images/image (967).jpg (deflated 1%)\n",
            "  adding: content/valid/images/image (824).jpg (deflated 1%)\n",
            "  adding: content/valid/images/image (863).jpg (deflated 1%)\n",
            "  adding: content/valid/images/image (940).jpg (deflated 1%)\n",
            "  adding: content/valid/images/image (831).jpg (deflated 1%)\n",
            "  adding: content/valid/images/image (884).jpg (deflated 1%)\n",
            "  adding: content/valid/images/image (853).jpg (deflated 2%)\n",
            "  adding: content/valid/images/image (882).jpg (deflated 4%)\n",
            "  adding: content/valid/images/image (932).jpg (deflated 3%)\n",
            "  adding: content/valid/images/image (926).jpg (deflated 1%)\n",
            "  adding: content/valid/images/image (837).jpg (deflated 1%)\n",
            "  adding: content/valid/images/image (822).jpg (deflated 3%)\n",
            "  adding: content/valid/images/image (872).jpg (deflated 1%)\n",
            "  adding: content/valid/images/image (948).jpg (deflated 2%)\n",
            "  adding: content/valid/images/image (823).jpg (deflated 1%)\n",
            "  adding: content/valid/images/image (954).jpg (deflated 4%)\n",
            "  adding: content/valid/images/image (955).jpg (deflated 2%)\n",
            "  adding: content/valid/images/image (897).jpg (deflated 1%)\n",
            "  adding: content/valid/images/image (836).jpg (deflated 1%)\n",
            "  adding: content/valid/images/image (886).jpg (deflated 9%)\n",
            "  adding: content/valid/images/image (929).jpg (deflated 1%)\n",
            "  adding: content/valid/images/image (941).jpg (deflated 2%)\n",
            "  adding: content/valid/images/image (820).jpg (deflated 1%)\n",
            "  adding: content/valid/images/image (917).jpg (deflated 1%)\n",
            "  adding: content/valid/images/image (887).jpg (deflated 3%)\n",
            "  adding: content/valid/images/image (855).jpg (deflated 1%)\n",
            "  adding: content/valid/images/image (847).jpg (deflated 8%)\n",
            "  adding: content/valid/images/image (833).jpg (deflated 1%)\n",
            "  adding: content/valid/images/image (876).jpg (deflated 3%)\n",
            "  adding: content/valid/images/image (914).jpg (deflated 1%)\n",
            "  adding: content/valid/images/image (909).jpg (deflated 3%)\n",
            "  adding: content/valid/images/image (905).jpg (deflated 1%)\n",
            "  adding: content/valid/images/image (807).jpg (deflated 2%)\n",
            "  adding: content/valid/images/image (910).jpg (deflated 1%)\n",
            "  adding: content/valid/images/image (802).jpg (deflated 1%)\n",
            "  adding: content/valid/images/image (949).jpg (deflated 1%)\n",
            "  adding: content/valid/images/image (971).jpg (deflated 1%)\n",
            "  adding: content/valid/images/image (956).jpg (deflated 2%)\n",
            "  adding: content/valid/images/image (819).jpg (deflated 1%)\n",
            "  adding: content/valid/images/image (821).jpg (deflated 1%)\n",
            "  adding: content/valid/images/image (898).jpg (deflated 1%)\n",
            "  adding: content/valid/images/image (888).jpg (deflated 1%)\n",
            "  adding: content/valid/images/image (934).jpg (deflated 2%)\n",
            "  adding: content/valid/images/image (942).jpg (deflated 4%)\n",
            "  adding: content/valid/images/image (974).jpg (deflated 3%)\n",
            "  adding: content/valid/images/image (920).jpg (deflated 1%)\n",
            "  adding: content/valid/images/image (915).jpg (deflated 1%)\n",
            "  adding: content/valid/images/image (826).jpg (deflated 3%)\n",
            "  adding: content/valid/images/image (913).jpg (deflated 1%)\n",
            "  adding: content/valid/images/image (839).jpg (deflated 1%)\n",
            "  adding: content/valid/labels/ (stored 0%)\n",
            "  adding: content/valid/labels/image (924).txt (deflated 29%)\n",
            "  adding: content/valid/labels/image (832).txt (deflated 8%)\n",
            "  adding: content/valid/labels/image (962).txt (deflated 30%)\n",
            "  adding: content/valid/labels/image (845).txt (deflated 8%)\n",
            "  adding: content/valid/labels/image (848).txt (deflated 16%)\n",
            "  adding: content/valid/labels/image (973).txt (deflated 11%)\n",
            "  adding: content/valid/labels/image (809).txt (deflated 26%)\n",
            "  adding: content/valid/labels/image (888).txt (deflated 8%)\n",
            "  adding: content/valid/labels/image (916).txt (deflated 26%)\n",
            "  adding: content/valid/labels/image (941).txt (deflated 32%)\n",
            "  adding: content/valid/labels/image (944).txt (deflated 24%)\n",
            "  adding: content/valid/labels/image (839).txt (deflated 13%)\n",
            "  adding: content/valid/labels/image (959).txt (deflated 16%)\n",
            "  adding: content/valid/labels/image (869).txt (deflated 11%)\n",
            "  adding: content/valid/labels/image (906).txt (deflated 13%)\n",
            "  adding: content/valid/labels/image (939).txt (deflated 11%)\n",
            "  adding: content/valid/labels/image (963).txt (deflated 8%)\n",
            "  adding: content/valid/labels/image (884).txt (deflated 11%)\n",
            "  adding: content/valid/labels/image (828).txt (deflated 5%)\n",
            "  adding: content/valid/labels/image (892).txt (deflated 11%)\n",
            "  adding: content/valid/labels/image (868).txt (deflated 21%)\n",
            "  adding: content/valid/labels/image (803).txt (deflated 13%)\n",
            "  adding: content/valid/labels/image (872).txt (deflated 21%)\n",
            "  adding: content/valid/labels/image (887).txt (deflated 26%)\n",
            "  adding: content/valid/labels/image (859).txt (deflated 13%)\n",
            "  adding: content/valid/labels/image (895).txt (deflated 29%)\n",
            "  adding: content/valid/labels/image (900).txt (deflated 16%)\n",
            "  adding: content/valid/labels/image (932).txt (deflated 29%)\n",
            "  adding: content/valid/labels/image (811).txt (deflated 11%)\n",
            "  adding: content/valid/labels/image (936).txt (deflated 29%)\n",
            "  adding: content/valid/labels/image (801).txt (deflated 8%)\n",
            "  adding: content/valid/labels/image (914).txt (deflated 28%)\n",
            "  adding: content/valid/labels/image (928).txt (deflated 24%)\n",
            "  adding: content/valid/labels/image (937).txt (deflated 33%)\n",
            "  adding: content/valid/labels/image (919).txt (deflated 32%)\n",
            "  adding: content/valid/labels/image (968).txt (deflated 18%)\n",
            "  adding: content/valid/labels/image (954).txt (deflated 5%)\n",
            "  adding: content/valid/labels/image (806).txt (deflated 16%)\n",
            "  adding: content/valid/labels/image (808).txt (deflated 13%)\n",
            "  adding: content/valid/labels/image (949).txt (deflated 8%)\n",
            "  adding: content/valid/labels/image (873).txt (deflated 13%)\n",
            "  adding: content/valid/labels/image (903).txt (deflated 11%)\n",
            "  adding: content/valid/labels/image (921).txt (deflated 30%)\n",
            "  adding: content/valid/labels/image (810).txt (deflated 8%)\n",
            "  adding: content/valid/labels/image (804).txt (deflated 11%)\n",
            "  adding: content/valid/labels/image (945).txt (deflated 8%)\n",
            "  adding: content/valid/labels/image (972).txt (deflated 8%)\n",
            "  adding: content/valid/labels/image (913).txt (deflated 28%)\n",
            "  adding: content/valid/labels/image (853).txt (deflated 13%)\n",
            "  adding: content/valid/labels/image (850).txt (deflated 13%)\n",
            "  adding: content/valid/labels/image (882).txt (deflated 5%)\n",
            "  adding: content/valid/labels/image (835).txt (deflated 11%)\n",
            "  adding: content/valid/labels/image (849).txt (deflated 16%)\n",
            "  adding: content/valid/labels/image (933).txt (deflated 21%)\n",
            "  adding: content/valid/labels/image (866).txt (deflated 5%)\n",
            "  adding: content/valid/labels/image (878).txt (deflated 8%)\n",
            "  adding: content/valid/labels/image (961).txt (deflated 11%)\n",
            "  adding: content/valid/labels/image (815).txt (deflated 16%)\n",
            "  adding: content/valid/labels/image (812).txt (deflated 29%)\n",
            "  adding: content/valid/labels/image (837).txt (deflated 13%)\n",
            "  adding: content/valid/labels/image (969).txt (deflated 28%)\n",
            "  adding: content/valid/labels/image (821).txt (deflated 26%)\n",
            "  adding: content/valid/labels/image (813).txt (deflated 29%)\n",
            "  adding: content/valid/labels/image (908).txt (deflated 13%)\n",
            "  adding: content/valid/labels/image (863).txt (deflated 18%)\n",
            "  adding: content/valid/labels/image (957).txt (deflated 11%)\n",
            "  adding: content/valid/labels/image (862).txt (deflated 16%)\n",
            "  adding: content/valid/labels/image (851).txt (deflated 11%)\n",
            "  adding: content/valid/labels/image (905).txt (deflated 5%)\n",
            "  adding: content/valid/labels/image (893).txt (deflated 28%)\n",
            "  adding: content/valid/labels/image (877).txt (deflated 18%)\n",
            "  adding: content/valid/labels/image (870).txt (deflated 18%)\n",
            "  adding: content/valid/labels/image (927).txt (deflated 21%)\n",
            "  adding: content/valid/labels/image (879).txt (deflated 21%)\n",
            "  adding: content/valid/labels/image (966).txt (deflated 28%)\n",
            "  adding: content/valid/labels/image (902).txt (deflated 16%)\n",
            "  adding: content/valid/labels/image (978).txt (deflated 18%)\n",
            "  adding: content/valid/labels/image (943).txt (deflated 18%)\n",
            "  adding: content/valid/labels/image (855).txt (deflated 11%)\n",
            "  adding: content/valid/labels/image (909).txt (deflated 21%)\n",
            "  adding: content/valid/labels/image (886).txt (deflated 8%)\n",
            "  adding: content/valid/labels/image (858).txt (deflated 16%)\n",
            "  adding: content/valid/labels/image (929).txt (deflated 13%)\n",
            "  adding: content/valid/labels/image (852).txt (deflated 13%)\n",
            "  adding: content/valid/labels/image (899).txt (deflated 16%)\n",
            "  adding: content/valid/labels/image (864).txt (deflated 8%)\n",
            "  adding: content/valid/labels/image (847).txt (deflated 11%)\n",
            "  adding: content/valid/labels/image (818).txt (deflated 18%)\n",
            "  adding: content/valid/labels/image (843).txt (deflated 13%)\n",
            "  adding: content/valid/labels/image (917).txt (deflated 28%)\n",
            "  adding: content/valid/labels/image (950).txt (deflated 18%)\n",
            "  adding: content/valid/labels/image (833).txt (deflated 11%)\n",
            "  adding: content/valid/labels/image (842).txt (deflated 18%)\n",
            "  adding: content/valid/labels/image (964).txt (deflated 29%)\n",
            "  adding: content/valid/labels/image (910).txt (deflated 8%)\n",
            "  adding: content/valid/labels/image (825).txt (deflated 8%)\n",
            "  adding: content/valid/labels/image (830).txt (deflated 11%)\n",
            "  adding: content/valid/labels/image (935).txt (deflated 29%)\n",
            "  adding: content/valid/labels/image (956).txt (deflated 11%)\n",
            "  adding: content/valid/labels/image (951).txt (deflated 41%)\n",
            "  adding: content/valid/labels/image (898).txt (deflated 13%)\n",
            "  adding: content/valid/labels/image (911).txt (deflated 26%)\n",
            "  adding: content/valid/labels/image (819).txt (deflated 21%)\n",
            "  adding: content/valid/labels/image (922).txt (deflated 33%)\n",
            "  adding: content/valid/labels/image (946).txt (deflated 13%)\n",
            "  adding: content/valid/labels/image (948).txt (deflated 41%)\n",
            "  adding: content/valid/labels/image (940).txt (deflated 5%)\n",
            "  adding: content/valid/labels/image (894).txt (deflated 32%)\n",
            "  adding: content/valid/labels/image (897).txt (deflated 28%)\n",
            "  adding: content/valid/labels/image (938).txt (deflated 11%)\n",
            "  adding: content/valid/labels/image (827).txt (deflated 18%)\n",
            "  adding: content/valid/labels/image (807).txt (deflated 8%)\n",
            "  adding: content/valid/labels/image (934).txt (deflated 11%)\n",
            "  adding: content/valid/labels/image (857).txt (deflated 16%)\n",
            "  adding: content/valid/labels/image (865).txt (deflated 5%)\n",
            "  adding: content/valid/labels/image (967).txt (deflated 26%)\n",
            "  adding: content/valid/labels/image (824).txt (deflated 18%)\n",
            "  adding: content/valid/labels/image (844).txt (deflated 18%)\n",
            "  adding: content/valid/labels/image (904).txt (deflated 29%)\n",
            "  adding: content/valid/labels/image (860).txt (deflated 21%)\n",
            "  adding: content/valid/labels/image (840).txt (deflated 16%)\n",
            "  adding: content/valid/labels/image (820).txt (deflated 36%)\n",
            "  adding: content/valid/labels/image (912).txt (deflated 28%)\n",
            "  adding: content/valid/labels/image (831).txt (deflated 21%)\n",
            "  adding: content/valid/labels/image (805).txt (deflated 5%)\n",
            "  adding: content/valid/labels/image (890).txt (deflated 8%)\n",
            "  adding: content/valid/labels/image (846).txt (deflated 13%)\n",
            "  adding: content/valid/labels/image (854).txt (deflated 5%)\n",
            "  adding: content/valid/labels/image (880).txt (deflated 5%)\n",
            "  adding: content/valid/labels/image (947).txt (deflated 8%)\n",
            "  adding: content/valid/labels/image (960).txt (deflated 18%)\n",
            "  adding: content/valid/labels/image (891).txt (deflated 8%)\n",
            "  adding: content/valid/labels/image (920).txt (deflated 28%)\n",
            "  adding: content/valid/labels/image (918).txt (deflated 26%)\n",
            "  adding: content/valid/labels/image (875).txt (deflated 13%)\n",
            "  adding: content/valid/labels/image (889).txt (deflated 13%)\n",
            "  adding: content/valid/labels/image (955).txt (deflated 29%)\n",
            "  adding: content/valid/labels/image (836).txt (deflated 18%)\n",
            "  adding: content/valid/labels/image (977).txt (deflated 16%)\n",
            "  adding: content/valid/labels/image (841).txt (deflated 11%)\n",
            "  adding: content/valid/labels/image (885).txt (deflated 37%)\n",
            "  adding: content/valid/labels/image (971).txt (deflated 28%)\n",
            "  adding: content/valid/labels/image (856).txt (deflated 11%)\n",
            "  adding: content/valid/labels/image (883).txt (deflated 26%)\n",
            "  adding: content/valid/labels/image (876).txt (deflated 34%)\n",
            "  adding: content/valid/labels/image (881).txt (deflated 11%)\n",
            "  adding: content/valid/labels/image (970).txt (deflated 54%)\n",
            "  adding: content/valid/labels/image (931).txt (deflated 21%)\n",
            "  adding: content/valid/labels/image (958).txt (deflated 30%)\n",
            "  adding: content/valid/labels/image (965).txt (deflated 16%)\n",
            "  adding: content/valid/labels/image (861).txt (deflated 13%)\n",
            "  adding: content/valid/labels/image (817).txt (deflated 18%)\n",
            "  adding: content/valid/labels/image (925).txt (deflated 32%)\n",
            "  adding: content/valid/labels/image (930).txt (deflated 11%)\n",
            "  adding: content/valid/labels/image (975).txt (deflated 24%)\n",
            "  adding: content/valid/labels/image (923).txt (deflated 26%)\n",
            "  adding: content/valid/labels/image (952).txt (deflated 8%)\n",
            "  adding: content/valid/labels/image (974).txt (deflated 26%)\n",
            "  adding: content/valid/labels/image (896).txt (deflated 30%)\n",
            "  adding: content/valid/labels/image (838).txt (deflated 16%)\n",
            "  adding: content/valid/labels/image (976).txt (deflated 28%)\n",
            "  adding: content/valid/labels/image (802).txt (deflated 5%)\n",
            "  adding: content/valid/labels/image (822).txt (deflated 16%)\n",
            "  adding: content/valid/labels/image (871).txt (deflated 11%)\n",
            "  adding: content/valid/labels/image (926).txt (deflated 8%)\n",
            "  adding: content/valid/labels/image (907).txt (deflated 18%)\n",
            "  adding: content/valid/labels/image (915).txt (deflated 28%)\n",
            "  adding: content/valid/labels/image (953).txt (deflated 39%)\n",
            "  adding: content/valid/labels/image (823).txt (deflated 18%)\n",
            "  adding: content/valid/labels/image (867).txt (deflated 18%)\n",
            "  adding: content/valid/labels/image (814).txt (deflated 30%)\n",
            "  adding: content/valid/labels/image (816).txt (deflated 16%)\n",
            "  adding: content/valid/labels/image (942).txt (deflated 18%)\n",
            "  adding: content/valid/labels/image (826).txt (deflated 11%)\n",
            "  adding: content/valid/labels/image (874).txt (deflated 28%)\n",
            "  adding: content/valid/labels/image (901).txt (deflated 18%)\n",
            "  adding: content/valid/labels/image (834).txt (deflated 18%)\n",
            "  adding: content/valid/labels/image (829).txt (deflated 29%)\n",
            "  adding: content/valid/labels.cache (deflated 70%)\n",
            "  adding: content/yolov8n.pt (deflated 9%)\n",
            "  adding: content/runs/ (stored 0%)\n",
            "  adding: content/runs/detect/ (stored 0%)\n",
            "  adding: content/runs/detect/train/ (stored 0%)\n",
            "  adding: content/runs/detect/train/confusion_matrix.png (deflated 34%)\n",
            "  adding: content/runs/detect/train/train_batch4502.jpg (deflated 11%)\n",
            "  adding: content/runs/detect/train/confusion_matrix_normalized.png (deflated 28%)\n",
            "  adding: content/runs/detect/train/train_batch4500.jpg (deflated 11%)\n",
            "  adding: content/runs/detect/train/labels_correlogram.jpg (deflated 38%)\n",
            "  adding: content/runs/detect/train/P_curve.png (deflated 10%)\n",
            "  adding: content/runs/detect/train/val_batch2_pred.jpg (deflated 11%)\n",
            "  adding: content/runs/detect/train/val_batch1_labels.jpg (deflated 13%)\n",
            "  adding: content/runs/detect/train/events.out.tfevents.1711902813.b028f78952b2.365.0 (deflated 87%)\n",
            "  adding: content/runs/detect/train/train_batch2.jpg (deflated 7%)\n",
            "  adding: content/runs/detect/train/train_batch4501.jpg (deflated 15%)\n",
            "  adding: content/runs/detect/train/train_batch1.jpg (deflated 4%)\n",
            "  adding: content/runs/detect/train/val_batch0_pred.jpg (deflated 9%)\n",
            "  adding: content/runs/detect/train/results.csv (deflated 85%)\n",
            "  adding: content/runs/detect/train/val_batch1_pred.jpg (deflated 12%)\n",
            "  adding: content/runs/detect/train/args.yaml (deflated 53%)\n",
            "  adding: content/runs/detect/train/R_curve.png (deflated 13%)\n",
            "  adding: content/runs/detect/train/PR_curve.png (deflated 16%)\n",
            "  adding: content/runs/detect/train/val_batch2_labels.jpg (deflated 12%)\n",
            "  adding: content/runs/detect/train/weights/ (stored 0%)\n",
            "  adding: content/runs/detect/train/weights/last.pt (deflated 10%)\n",
            "  adding: content/runs/detect/train/weights/best.pt (deflated 10%)\n",
            "  adding: content/runs/detect/train/labels.jpg (deflated 22%)\n",
            "  adding: content/runs/detect/train/F1_curve.png (deflated 12%)\n",
            "  adding: content/runs/detect/train/val_batch0_labels.jpg (deflated 9%)\n",
            "  adding: content/runs/detect/train/train_batch0.jpg (deflated 5%)\n",
            "  adding: content/runs/detect/train/results.png (deflated 5%)\n",
            "  adding: content/data.yaml (deflated 19%)\n",
            "  adding: content/firesmokedataset.zip (stored 0%)\n",
            "  adding: content/train/ (stored 0%)\n",
            "  adding: content/train/images/ (stored 0%)\n",
            "  adding: content/train/images/image (366).jpg (deflated 7%)\n",
            "  adding: content/train/images/image (253).jpg (deflated 5%)\n",
            "  adding: content/train/images/image (431).jpg (deflated 0%)\n",
            "  adding: content/train/images/image (370).jpg (deflated 2%)\n",
            "  adding: content/train/images/image (445).jpg (deflated 1%)\n",
            "  adding: content/train/images/image (173).jpg (deflated 21%)\n",
            "  adding: content/train/images/image (439).jpg (deflated 2%)\n",
            "  adding: content/train/images/image (601).jpg (deflated 1%)\n",
            "  adding: content/train/images/image (52).jpg (deflated 6%)\n",
            "  adding: content/train/images/image (71).jpg (deflated 30%)\n",
            "  adding: content/train/images/image (258).jpg (deflated 9%)\n",
            "  adding: content/train/images/image (512).jpg (deflated 0%)\n",
            "  adding: content/train/images/image (689).jpg (deflated 1%)\n",
            "  adding: content/train/images/image (683).jpg (deflated 1%)\n",
            "  adding: content/train/images/image (751).jpg (deflated 3%)\n",
            "  adding: content/train/images/image (458).jpg (deflated 1%)\n",
            "  adding: content/train/images/image (713).jpg (deflated 0%)\n",
            "  adding: content/train/images/image (97).jpg (deflated 23%)\n",
            "  adding: content/train/images/image (342).jpg (deflated 9%)\n",
            "  adding: content/train/images/image (329).jpg (deflated 6%)\n",
            "  adding: content/train/images/image (729).jpg (deflated 4%)\n",
            "  adding: content/train/images/image (639).jpg (deflated 1%)\n",
            "  adding: content/train/images/image (666).jpg (deflated 1%)\n",
            "  adding: content/train/images/image (20).jpg (deflated 6%)\n",
            "  adding: content/train/images/image (168).jpg (deflated 5%)\n",
            "  adding: content/train/images/image (706).jpg (deflated 5%)\n",
            "  adding: content/train/images/image (797).jpg (deflated 1%)\n",
            "  adding: content/train/images/image (611).jpg (deflated 1%)\n",
            "  adding: content/train/images/image (590).jpg (deflated 1%)\n",
            "  adding: content/train/images/image (116).jpg (deflated 25%)\n",
            "  adding: content/train/images/image (607).jpg (deflated 1%)\n",
            "  adding: content/train/images/image (769).jpg (deflated 2%)\n",
            "  adding: content/train/images/image (500).jpg (deflated 0%)\n",
            "  adding: content/train/images/image (126).jpg (deflated 8%)\n",
            "  adding: content/train/images/image (151).jpg (deflated 2%)\n",
            "  adding: content/train/images/image (40).jpg (deflated 3%)\n",
            "  adding: content/train/images/image (432).jpg (deflated 1%)\n",
            "  adding: content/train/images/image (725).jpg (deflated 6%)\n",
            "  adding: content/train/images/image (94).jpg (deflated 27%)\n",
            "  adding: content/train/images/image (674).jpg (deflated 1%)\n",
            "  adding: content/train/images/image (334).jpg (deflated 10%)\n",
            "  adding: content/train/images/image (164).jpg (deflated 1%)\n",
            "  adding: content/train/images/image (591).jpg (deflated 1%)\n",
            "  adding: content/train/images/image (388).jpg (deflated 0%)\n",
            "  adding: content/train/images/image (12).jpg (deflated 11%)\n",
            "  adding: content/train/images/image (650).jpg (deflated 0%)\n",
            "  adding: content/train/images/image (179).jpg (deflated 7%)\n",
            "  adding: content/train/images/image (772).jpg (deflated 2%)\n",
            "  adding: content/train/images/image (552).jpg (deflated 1%)\n",
            "  adding: content/train/images/image (727).jpg (deflated 7%)\n",
            "  adding: content/train/images/image (477).jpg (deflated 1%)\n",
            "  adding: content/train/images/image (489).jpg (deflated 0%)\n",
            "  adding: content/train/images/image (608).jpg (deflated 0%)\n",
            "  adding: content/train/images/image (645).jpg (deflated 1%)\n",
            "  adding: content/train/images/image (743).jpg (deflated 2%)\n",
            "  adding: content/train/images/image (695).jpg (deflated 14%)\n",
            "  adding: content/train/images/image (326).jpg (deflated 40%)\n",
            "  adding: content/train/images/image (496).jpg (deflated 1%)\n",
            "  adding: content/train/images/image (121).jpg (deflated 4%)\n",
            "  adding: content/train/images/image (58).jpg (deflated 43%)\n",
            "  adding: content/train/images/image (66).jpg (deflated 8%)\n",
            "  adding: content/train/images/image (567).jpg (deflated 1%)\n",
            "  adding: content/train/images/image (305).jpg (deflated 11%)\n",
            "  adding: content/train/images/image (106).jpg (deflated 7%)\n",
            "  adding: content/train/images/image (113).jpg (deflated 7%)\n",
            "  adding: content/train/images/image (2).jpg (deflated 5%)\n",
            "  adding: content/train/images/image (602).jpg (deflated 1%)\n",
            "  adding: content/train/images/image (612).jpg (deflated 1%)\n",
            "  adding: content/train/images/image (133).jpg (deflated 12%)\n",
            "  adding: content/train/images/image (707).jpg (deflated 2%)\n",
            "  adding: content/train/images/image (668).jpg (deflated 1%)\n",
            "  adding: content/train/images/image (542).jpg (deflated 1%)\n",
            "  adding: content/train/images/image (549).jpg (deflated 1%)\n",
            "  adding: content/train/images/image (99).jpg (deflated 37%)\n",
            "  adding: content/train/images/image (392).jpg (deflated 3%)\n",
            "  adding: content/train/images/image (490).jpg (deflated 1%)\n",
            "  adding: content/train/images/image (246).jpg (deflated 5%)\n",
            "  adding: content/train/images/image (550).jpg (deflated 1%)\n",
            "  adding: content/train/images/image (57).jpg (deflated 44%)\n",
            "  adding: content/train/images/image (646).jpg (deflated 1%)\n",
            "  adding: content/train/images/image (766).jpg (deflated 2%)\n",
            "  adding: content/train/images/image (369).jpg (deflated 3%)\n",
            "  adding: content/train/images/image (702).jpg (deflated 7%)\n",
            "  adding: content/train/images/image (80).jpg (deflated 5%)\n",
            "  adding: content/train/images/image (209).jpg (deflated 6%)\n",
            "  adding: content/train/images/image (242).jpg (deflated 8%)\n",
            "  adding: content/train/images/image (448).jpg (deflated 1%)\n",
            "  adding: content/train/images/image (148).jpg (deflated 7%)\n",
            "  adding: content/train/images/image (722).jpg (deflated 1%)\n",
            "  adding: content/train/images/image (254).jpg (deflated 44%)\n",
            "  adding: content/train/images/image (716).jpg (deflated 1%)\n",
            "  adding: content/train/images/image (760).jpg (deflated 2%)\n",
            "  adding: content/train/images/image (754).jpg (deflated 7%)\n",
            "  adding: content/train/images/image (223).jpg (deflated 40%)\n",
            "  adding: content/train/images/image (726).jpg (deflated 4%)\n",
            "  adding: content/train/images/image (400).jpg (deflated 3%)\n",
            "  adding: content/train/images/image (633).jpg (deflated 0%)\n",
            "  adding: content/train/images/image (652).jpg (deflated 1%)\n",
            "  adding: content/train/images/image (610).jpg (deflated 0%)\n",
            "  adding: content/train/images/image (757).jpg (deflated 40%)\n",
            "  adding: content/train/images/image (79).jpg (deflated 4%)\n",
            "  adding: content/train/images/image (623).jpg (deflated 1%)\n",
            "  adding: content/train/images/image (409).jpg (deflated 4%)\n",
            "  adding: content/train/images/image (419).jpg (deflated 4%)\n",
            "  adding: content/train/images/image (42).jpg (deflated 3%)\n",
            "  adding: content/train/images/image (248).jpg (deflated 6%)\n",
            "  adding: content/train/images/image (765).jpg (deflated 2%)\n",
            "  adding: content/train/images/image (671).jpg (deflated 1%)\n",
            "  adding: content/train/images/image (536).jpg (deflated 2%)\n",
            "  adding: content/train/images/image (128).jpg (deflated 11%)\n",
            "  adding: content/train/images/image (272).jpg (deflated 11%)\n",
            "  adding: content/train/images/image (768).jpg (deflated 2%)\n",
            "  adding: content/train/images/image (692).jpg (deflated 1%)\n",
            "  adding: content/train/images/image (616).jpg (deflated 0%)\n",
            "  adding: content/train/images/image (347).jpg (deflated 5%)\n",
            "  adding: content/train/images/image (37).jpg (deflated 8%)\n",
            "  adding: content/train/images/image (637).jpg (deflated 0%)\n",
            "  adding: content/train/images/image (260).jpg (deflated 10%)\n",
            "  adding: content/train/images/image (793).jpg (deflated 1%)\n",
            "  adding: content/train/images/image (563).jpg (deflated 1%)\n",
            "  adding: content/train/images/image (406).jpg (deflated 2%)\n",
            "  adding: content/train/images/image (192).jpg (deflated 27%)\n",
            "  adding: content/train/images/image (285).jpg (deflated 46%)\n",
            "  adding: content/train/images/image (262).jpg (deflated 3%)\n",
            "  adding: content/train/images/image (723).jpg (deflated 8%)\n",
            "  adding: content/train/images/image (119).jpg (deflated 4%)\n",
            "  adding: content/train/images/image (243).jpg (deflated 8%)\n",
            "  adding: content/train/images/image (453).jpg (deflated 1%)\n",
            "  adding: content/train/images/image (32).jpg (deflated 3%)\n",
            "  adding: content/train/images/image (486).jpg (deflated 1%)\n",
            "  adding: content/train/images/image (27).jpg (deflated 5%)\n",
            "  adding: content/train/images/image (293).jpg (deflated 14%)\n",
            "  adding: content/train/images/image (584).jpg (deflated 1%)\n",
            "  adding: content/train/images/image (139).jpg (deflated 26%)\n",
            "  adding: content/train/images/image (446).jpg (deflated 0%)\n",
            "  adding: content/train/images/image (17).jpg (deflated 6%)\n",
            "  adding: content/train/images/image (45).jpg (deflated 3%)\n",
            "  adding: content/train/images/image (256).jpg (deflated 6%)\n",
            "  adding: content/train/images/image (278).jpg (deflated 11%)\n",
            "  adding: content/train/images/image (681).jpg (deflated 1%)\n",
            "  adding: content/train/images/image (447).jpg (deflated 0%)\n",
            "  adding: content/train/images/image (697).jpg (deflated 15%)\n",
            "  adding: content/train/images/image (274).jpg (deflated 16%)\n",
            "  adding: content/train/images/image (654).jpg (deflated 1%)\n",
            "  adding: content/train/images/image (701).jpg (deflated 5%)\n",
            "  adding: content/train/images/image (395).jpg (deflated 3%)\n",
            "  adding: content/train/images/image (114).jpg (deflated 7%)\n",
            "  adding: content/train/images/image (457).jpg (deflated 2%)\n",
            "  adding: content/train/images/image (390).jpg (deflated 5%)\n",
            "  adding: content/train/images/image (415).jpg (deflated 6%)\n",
            "  adding: content/train/images/image (762).jpg (deflated 1%)\n",
            "  adding: content/train/images/image (167).jpg (deflated 6%)\n",
            "  adding: content/train/images/image (462).jpg (deflated 0%)\n",
            "  adding: content/train/images/image (501).jpg (deflated 0%)\n",
            "  adding: content/train/images/image (430).jpg (deflated 1%)\n",
            "  adding: content/train/images/image (289).jpg (deflated 2%)\n",
            "  adding: content/train/images/image (156).jpg (deflated 6%)\n",
            "  adding: content/train/images/image (90).jpg (deflated 30%)\n",
            "  adding: content/train/images/image (107).jpg (deflated 6%)\n",
            "  adding: content/train/images/image (331).jpg (deflated 29%)\n",
            "  adding: content/train/images/image (492).jpg (deflated 0%)\n",
            "  adding: content/train/images/image (463).jpg (deflated 0%)\n",
            "  adding: content/train/images/image (70).jpg (deflated 30%)\n",
            "  adding: content/train/images/image (495).jpg (deflated 0%)\n",
            "  adding: content/train/images/image (731).jpg (deflated 16%)\n",
            "  adding: content/train/images/image (15).jpg (deflated 2%)\n",
            "  adding: content/train/images/image (641).jpg (deflated 0%)\n",
            "  adding: content/train/images/image (522).jpg (deflated 4%)\n",
            "  adding: content/train/images/image (72).jpg (deflated 15%)\n",
            "  adding: content/train/images/image (618).jpg (deflated 0%)\n",
            "  adding: content/train/images/image (276).jpg (deflated 1%)\n",
            "  adding: content/train/images/image (487).jpg (deflated 1%)\n",
            "  adding: content/train/images/image (33).jpg (deflated 3%)\n",
            "  adding: content/train/images/image (758).jpg (deflated 15%)\n",
            "  adding: content/train/images/image (282).jpg (deflated 9%)\n",
            "  adding: content/train/images/image (205).jpg (deflated 3%)\n",
            "  adding: content/train/images/image (22).jpg (deflated 9%)\n",
            "  adding: content/train/images/image (217).jpg (deflated 4%)\n",
            "  adding: content/train/images/image (321).jpg (deflated 12%)\n",
            "  adding: content/train/images/image (219).jpg (deflated 4%)\n",
            "  adding: content/train/images/image (684).jpg (deflated 1%)\n",
            "  adding: content/train/images/image (614).jpg (deflated 1%)\n",
            "  adding: content/train/images/image (339).jpg (deflated 3%)\n",
            "  adding: content/train/images/image (91).jpg (deflated 30%)\n",
            "  adding: content/train/images/image (459).jpg (deflated 1%)\n",
            "  adding: content/train/images/image (304).jpg (deflated 3%)\n",
            "  adding: content/train/images/image (352).jpg (deflated 12%)\n",
            "  adding: content/train/images/image (162).jpg (deflated 6%)\n",
            "  adding: content/train/images/image (230).jpg (deflated 4%)\n",
            "  adding: content/train/images/image (543).jpg (deflated 1%)\n",
            "  adding: content/train/images/image (433).jpg (deflated 0%)\n",
            "  adding: content/train/images/image (784).jpg (deflated 1%)\n",
            "  adding: content/train/images/image (553).jpg (deflated 1%)\n",
            "  adding: content/train/images/image (149).jpg (deflated 7%)\n",
            "  adding: content/train/images/image (428).jpg (deflated 1%)\n",
            "  adding: content/train/images/image (755).jpg (deflated 5%)\n",
            "  adding: content/train/images/image (712).jpg (deflated 1%)\n",
            "  adding: content/train/images/image (786).jpg (deflated 0%)\n",
            "  adding: content/train/images/image (13).jpg (deflated 9%)\n",
            "  adding: content/train/images/image (44).jpg (deflated 2%)\n",
            "  adding: content/train/images/image (86).jpg (deflated 50%)\n",
            "  adding: content/train/images/image (198).jpg (deflated 3%)\n",
            "  adding: content/train/images/image (464).jpg (deflated 0%)\n",
            "  adding: content/train/images/image (110).jpg (deflated 2%)\n",
            "  adding: content/train/images/image (269).jpg (deflated 6%)\n",
            "  adding: content/train/images/image (310).jpg (deflated 5%)\n",
            "  adding: content/train/images/image (28).jpg (deflated 6%)\n",
            "  adding: content/train/images/image (351).jpg (deflated 5%)\n",
            "  adding: content/train/images/image (412).jpg (deflated 4%)\n",
            "  adding: content/train/images/image (314).jpg (deflated 6%)\n",
            "  adding: content/train/images/image (160).jpg (deflated 9%)\n",
            "  adding: content/train/images/image (635).jpg (deflated 1%)\n",
            "  adding: content/train/images/image (735).jpg (deflated 17%)\n",
            "  adding: content/train/images/image (640).jpg (deflated 1%)\n",
            "  adding: content/train/images/image (661).jpg (deflated 1%)\n",
            "  adding: content/train/images/image (741).jpg (deflated 10%)\n",
            "  adding: content/train/images/image (55).jpg (deflated 9%)\n",
            "  adding: content/train/images/image (604).jpg (deflated 1%)\n",
            "  adding: content/train/images/image (63).jpg (deflated 17%)\n",
            "  adding: content/train/images/image (3).jpg (deflated 5%)\n",
            "  adding: content/train/images/image (436).jpg (deflated 0%)\n",
            "  adding: content/train/images/image (318).jpg (deflated 2%)\n",
            "  adding: content/train/images/image (592).jpg (deflated 1%)\n",
            "  adding: content/train/images/image (197).jpg (deflated 5%)\n",
            "  adding: content/train/images/image (473).jpg (deflated 0%)\n",
            "  adding: content/train/images/image (89).jpg (deflated 32%)\n",
            "  adding: content/train/images/image (105).jpg (deflated 8%)\n",
            "  adding: content/train/images/image (561).jpg (deflated 1%)\n",
            "  adding: content/train/images/image (521).jpg (deflated 1%)\n",
            "  adding: content/train/images/image (763).jpg (deflated 1%)\n",
            "  adding: content/train/images/image (87).jpg (deflated 48%)\n",
            "  adding: content/train/images/image (299).jpg (deflated 22%)\n",
            "  adding: content/train/images/image (182).jpg (deflated 4%)\n",
            "  adding: content/train/images/image (493).jpg (deflated 1%)\n",
            "  adding: content/train/images/image (158).jpg (deflated 6%)\n",
            "  adding: content/train/images/image (499).jpg (deflated 0%)\n",
            "  adding: content/train/images/image (798).jpg (deflated 1%)\n",
            "  adding: content/train/images/image (450).jpg (deflated 0%)\n",
            "  adding: content/train/images/image (376).jpg (deflated 11%)\n",
            "  adding: content/train/images/image (667).jpg (deflated 1%)\n",
            "  adding: content/train/images/image (527).jpg (deflated 1%)\n",
            "  adding: content/train/images/image (442).jpg (deflated 3%)\n",
            "  adding: content/train/images/image (484).jpg (deflated 0%)\n",
            "  adding: content/train/images/image (643).jpg (deflated 0%)\n",
            "  adding: content/train/images/image (301).jpg (deflated 19%)\n",
            "  adding: content/train/images/image (378).jpg (deflated 2%)\n",
            "  adding: content/train/images/image (779).jpg (deflated 4%)\n",
            "  adding: content/train/images/image (715).jpg (deflated 2%)\n",
            "  adding: content/train/images/image (660).jpg (deflated 1%)\n",
            "  adding: content/train/images/image (718).jpg (deflated 3%)\n",
            "  adding: content/train/images/image (670).jpg (deflated 1%)\n",
            "  adding: content/train/images/image (575).jpg (deflated 1%)\n",
            "  adding: content/train/images/image (627).jpg (deflated 1%)\n",
            "  adding: content/train/images/image (435).jpg (deflated 3%)\n",
            "  adding: content/train/images/image (504).jpg (deflated 0%)\n",
            "  adding: content/train/images/image (570).jpg (deflated 1%)\n",
            "  adding: content/train/images/image (294).jpg (deflated 38%)\n",
            "  adding: content/train/images/image (531).jpg (deflated 1%)\n",
            "  adding: content/train/images/image (578).jpg (deflated 1%)\n",
            "  adding: content/train/images/image (153).jpg (deflated 13%)\n",
            "  adding: content/train/images/image (629).jpg (deflated 0%)\n",
            "  adding: content/train/images/image (656).jpg (deflated 1%)\n",
            "  adding: content/train/images/image (232).jpg (deflated 7%)\n",
            "  adding: content/train/images/image (506).jpg (deflated 0%)\n",
            "  adding: content/train/images/image (46).jpg (deflated 16%)\n",
            "  adding: content/train/images/image (43).jpg (deflated 3%)\n",
            "  adding: content/train/images/image (14).jpg (deflated 3%)\n",
            "  adding: content/train/images/image (203).jpg (deflated 8%)\n",
            "  adding: content/train/images/image (544).jpg (deflated 1%)\n",
            "  adding: content/train/images/image (175).jpg (deflated 8%)\n",
            "  adding: content/train/images/image (210).jpg (deflated 5%)\n",
            "  adding: content/train/images/image (780).jpg (deflated 1%)\n",
            "  adding: content/train/images/image (176).jpg (deflated 8%)\n",
            "  adding: content/train/images/image (437).jpg (deflated 2%)\n",
            "  adding: content/train/images/image (665).jpg (deflated 1%)\n",
            "  adding: content/train/images/image (688).jpg (deflated 1%)\n",
            "  adding: content/train/images/image (244).jpg (deflated 5%)\n",
            "  adding: content/train/images/image (30).jpg (deflated 5%)\n",
            "  adding: content/train/images/image (771).jpg (deflated 4%)\n",
            "  adding: content/train/images/image (426).jpg (deflated 1%)\n",
            "  adding: content/train/images/image (774).jpg (deflated 2%)\n",
            "  adding: content/train/images/image (720).jpg (deflated 14%)\n",
            "  adding: content/train/images/image (703).jpg (deflated 3%)\n",
            "  adding: content/train/images/image (309).jpg (deflated 4%)\n",
            "  adding: content/train/images/image (328).jpg (deflated 5%)\n",
            "  adding: content/train/images/image (767).jpg (deflated 2%)\n",
            "  adding: content/train/images/image (62).jpg (deflated 19%)\n",
            "  adding: content/train/images/image (267).jpg (deflated 5%)\n",
            "  adding: content/train/images/image (634).jpg (deflated 1%)\n",
            "  adding: content/train/images/image (379).jpg (deflated 5%)\n",
            "  adding: content/train/images/image (297).jpg (deflated 1%)\n",
            "  adding: content/train/images/image (545).jpg (deflated 1%)\n",
            "  adding: content/train/images/image (677).jpg (deflated 1%)\n",
            "  adding: content/train/images/image (503).jpg (deflated 0%)\n",
            "  adding: content/train/images/image (81).jpg (deflated 7%)\n",
            "  adding: content/train/images/image (440).jpg (deflated 3%)\n",
            "  adding: content/train/images/image (730).jpg (deflated 10%)\n",
            "  adding: content/train/images/image (785).jpg (deflated 1%)\n",
            "  adding: content/train/images/image (416).jpg (deflated 8%)\n",
            "  adding: content/train/images/image (540).jpg (deflated 2%)\n",
            "  adding: content/train/images/image (196).jpg (deflated 3%)\n",
            "  adding: content/train/images/image (394).jpg (deflated 2%)\n",
            "  adding: content/train/images/image (658).jpg (deflated 1%)\n",
            "  adding: content/train/images/image (322).jpg (deflated 22%)\n",
            "  adding: content/train/images/image (669).jpg (deflated 1%)\n",
            "  adding: content/train/images/image (413).jpg (deflated 4%)\n",
            "  adding: content/train/images/image (655).jpg (deflated 1%)\n",
            "  adding: content/train/images/image (124).jpg (deflated 8%)\n",
            "  adding: content/train/images/image (699).jpg (deflated 2%)\n",
            "  adding: content/train/images/image (789).jpg (deflated 2%)\n",
            "  adding: content/train/images/image (598).jpg (deflated 1%)\n",
            "  adding: content/train/images/image (600).jpg (deflated 1%)\n",
            "  adding: content/train/images/image (145).jpg (deflated 8%)\n",
            "  adding: content/train/images/image (235).jpg (deflated 11%)\n",
            "  adding: content/train/images/image (787).jpg (deflated 0%)\n",
            "  adding: content/train/images/image (756).jpg (deflated 6%)\n",
            "  adding: content/train/images/image (259).jpg (deflated 9%)\n",
            "  adding: content/train/images/image (375).jpg (deflated 0%)\n",
            "  adding: content/train/images/image (129).jpg (deflated 11%)\n",
            "  adding: content/train/images/image (467).jpg (deflated 0%)\n",
            "  adding: content/train/images/image (589).jpg (deflated 1%)\n",
            "  adding: content/train/images/image (776).jpg (deflated 1%)\n",
            "  adding: content/train/images/image (333).jpg (deflated 30%)\n",
            "  adding: content/train/images/image (580).jpg (deflated 1%)\n",
            "  adding: content/train/images/image (208).jpg (deflated 5%)\n",
            "  adding: content/train/images/image (377).jpg (deflated 5%)\n",
            "  adding: content/train/images/image (185).jpg (deflated 13%)\n",
            "  adding: content/train/images/image (233).jpg (deflated 6%)\n",
            "  adding: content/train/images/image (638).jpg (deflated 0%)\n",
            "  adding: content/train/images/image (257).jpg (deflated 6%)\n",
            "  adding: content/train/images/image (155).jpg (deflated 13%)\n",
            "  adding: content/train/images/image (519).jpg (deflated 1%)\n",
            "  adding: content/train/images/image (502).jpg (deflated 0%)\n",
            "  adding: content/train/images/image (380).jpg (deflated 4%)\n",
            "  adding: content/train/images/image (215).jpg (deflated 6%)\n",
            "  adding: content/train/images/image (593).jpg (deflated 1%)\n",
            "  adding: content/train/images/image (100).jpg (deflated 39%)\n",
            "  adding: content/train/images/image (775).jpg (deflated 5%)\n",
            "  adding: content/train/images/image (778).jpg (deflated 1%)\n",
            "  adding: content/train/images/image (719).jpg (deflated 2%)\n",
            "  adding: content/train/images/image (23).jpg (deflated 3%)\n",
            "  adding: content/train/images/image (67).jpg (deflated 8%)\n",
            "  adding: content/train/images/image (586).jpg (deflated 1%)\n",
            "  adding: content/train/images/image (507).jpg (deflated 0%)\n",
            "  adding: content/train/images/image (102).jpg (deflated 5%)\n",
            "  adding: content/train/images/image (739).jpg (deflated 16%)\n",
            "  adding: content/train/images/image (178).jpg (deflated 7%)\n",
            "  adding: content/train/images/image (9).jpg (deflated 1%)\n",
            "  adding: content/train/images/image (759).jpg (deflated 26%)\n",
            "  adding: content/train/images/image (49).jpg (deflated 4%)\n",
            "  adding: content/train/images/image (615).jpg (deflated 1%)\n",
            "  adding: content/train/images/image (4).jpg (deflated 3%)\n",
            "  adding: content/train/images/image (613).jpg (deflated 0%)\n",
            "  adding: content/train/images/image (773).jpg (deflated 1%)\n",
            "  adding: content/train/images/image (573).jpg (deflated 1%)\n",
            "  adding: content/train/images/image (194).jpg (deflated 3%)\n",
            "  adding: content/train/images/image (566).jpg (deflated 1%)\n",
            "  adding: content/train/images/image (270).jpg (deflated 6%)\n",
            "  adding: content/train/images/image (211).jpg (deflated 1%)\n",
            "  adding: content/train/images/image (678).jpg (deflated 1%)\n",
            "  adding: content/train/images/image (363).jpg (deflated 4%)\n",
            "  adding: content/train/images/image (152).jpg (deflated 3%)\n",
            "  adding: content/train/images/image (790).jpg (deflated 2%)\n",
            "  adding: content/train/images/image (354).jpg (deflated 13%)\n",
            "  adding: content/train/images/image (34).jpg (deflated 6%)\n",
            "  adding: content/train/images/image (705).jpg (deflated 21%)\n",
            "  adding: content/train/images/image (594).jpg (deflated 1%)\n",
            "  adding: content/train/images/image (510).jpg (deflated 0%)\n",
            "  adding: content/train/images/image (312).jpg (deflated 4%)\n",
            "  adding: content/train/images/image (559).jpg (deflated 1%)\n",
            "  adding: content/train/images/image (361).jpg (deflated 3%)\n",
            "  adding: content/train/images/image (78).jpg (deflated 2%)\n",
            "  adding: content/train/images/image (551).jpg (deflated 1%)\n",
            "  adding: content/train/images/image (714).jpg (deflated 2%)\n",
            "  adding: content/train/images/image (628).jpg (deflated 0%)\n",
            "  adding: content/train/images/image (427).jpg (deflated 2%)\n",
            "  adding: content/train/images/image (346).jpg (deflated 4%)\n",
            "  adding: content/train/images/image (213).jpg (deflated 4%)\n",
            "  adding: content/train/images/image (383).jpg (deflated 2%)\n",
            "  adding: content/train/images/image (659).jpg (deflated 1%)\n",
            "  adding: content/train/images/image (568).jpg (deflated 1%)\n",
            "  adding: content/train/images/image (362).jpg (deflated 4%)\n",
            "  adding: content/train/images/image (24).jpg (deflated 3%)\n",
            "  adding: content/train/images/image (193).jpg (deflated 4%)\n",
            "  adding: content/train/images/image (239).jpg (deflated 3%)\n",
            "  adding: content/train/images/image (526).jpg (deflated 1%)\n",
            "  adding: content/train/images/image (359).jpg (deflated 0%)\n",
            "  adding: content/train/images/image (159).jpg (deflated 10%)\n",
            "  adding: content/train/images/image (783).jpg (deflated 10%)\n",
            "  adding: content/train/images/image (478).jpg (deflated 1%)\n",
            "  adding: content/train/images/image (676).jpg (deflated 1%)\n",
            "  adding: content/train/images/image (481).jpg (deflated 0%)\n",
            "  adding: content/train/images/image (161).jpg (deflated 9%)\n",
            "  adding: content/train/images/image (631).jpg (deflated 0%)\n",
            "  adding: content/train/images/image (222).jpg (deflated 6%)\n",
            "  adding: content/train/images/image (385).jpg (deflated 2%)\n",
            "  adding: content/train/images/image (625).jpg (deflated 1%)\n",
            "  adding: content/train/images/image (130).jpg (deflated 14%)\n",
            "  adding: content/train/images/image (498).jpg (deflated 1%)\n",
            "  adding: content/train/images/image (137).jpg (deflated 8%)\n",
            "  adding: content/train/images/image (452).jpg (deflated 1%)\n",
            "  adding: content/train/images/image (449).jpg (deflated 1%)\n",
            "  adding: content/train/images/image (698).jpg (deflated 3%)\n",
            "  adding: content/train/images/image (56).jpg (deflated 10%)\n",
            "  adding: content/train/images/image (799).jpg (deflated 1%)\n",
            "  adding: content/train/images/image (291).jpg (deflated 7%)\n",
            "  adding: content/train/images/image (407).jpg (deflated 2%)\n",
            "  adding: content/train/images/image (31).jpg (deflated 5%)\n",
            "  adding: content/train/images/image (177).jpg (deflated 8%)\n",
            "  adding: content/train/images/image (98).jpg (deflated 23%)\n",
            "  adding: content/train/images/image (708).jpg (deflated 3%)\n",
            "  adding: content/train/images/image (226).jpg (deflated 13%)\n",
            "  adding: content/train/images/image (202).jpg (deflated 8%)\n",
            "  adding: content/train/images/image (465).jpg (deflated 0%)\n",
            "  adding: content/train/images/image (738).jpg (deflated 23%)\n",
            "  adding: content/train/images/image (461).jpg (deflated 1%)\n",
            "  adding: content/train/images/image (438).jpg (deflated 2%)\n",
            "  adding: content/train/images/image (717).jpg (deflated 3%)\n",
            "  adding: content/train/images/image (482).jpg (deflated 0%)\n",
            "  adding: content/train/images/image (470).jpg (deflated 1%)\n",
            "  adding: content/train/images/image (664).jpg (deflated 1%)\n",
            "  adding: content/train/images/image (138).jpg (deflated 29%)\n",
            "  adding: content/train/images/image (108).jpg (deflated 3%)\n",
            "  adding: content/train/images/image (118).jpg (deflated 2%)\n",
            "  adding: content/train/images/image (675).jpg (deflated 1%)\n",
            "  adding: content/train/images/image (524).jpg (deflated 1%)\n",
            "  adding: content/train/images/image (207).jpg (deflated 2%)\n",
            "  adding: content/train/images/image (479).jpg (deflated 0%)\n",
            "  adding: content/train/images/image (227).jpg (deflated 12%)\n",
            "  adding: content/train/images/image (399).jpg (deflated 3%)\n",
            "  adding: content/train/images/image (64).jpg (deflated 5%)\n",
            "  adding: content/train/images/image (201).jpg (deflated 3%)\n",
            "  adding: content/train/images/image (572).jpg (deflated 1%)\n",
            "  adding: content/train/images/image (68).jpg (deflated 9%)\n",
            "  adding: content/train/images/image (95).jpg (deflated 29%)\n",
            "  adding: content/train/images/image (245).jpg (deflated 5%)\n",
            "  adding: content/train/images/image (384).jpg (deflated 1%)\n",
            "  adding: content/train/images/image (298).jpg (deflated 9%)\n",
            "  adding: content/train/images/image (541).jpg (deflated 4%)\n",
            "  adding: content/train/images/image (345).jpg (deflated 6%)\n",
            "  adding: content/train/images/image (200).jpg (deflated 3%)\n",
            "  adding: content/train/images/image (569).jpg (deflated 1%)\n",
            "  adding: content/train/images/image (143).jpg (deflated 11%)\n",
            "  adding: content/train/images/image (485).jpg (deflated 0%)\n",
            "  adding: content/train/images/image (794).jpg (deflated 2%)\n",
            "  adding: content/train/images/image (111).jpg (deflated 31%)\n",
            "  adding: content/train/images/image (19).jpg (deflated 6%)\n",
            "  adding: content/train/images/image (747).jpg (deflated 2%)\n",
            "  adding: content/train/images/image (214).jpg (deflated 5%)\n",
            "  adding: content/train/images/image (491).jpg (deflated 0%)\n",
            "  adding: content/train/images/image (120).jpg (deflated 3%)\n",
            "  adding: content/train/images/image (781).jpg (deflated 6%)\n",
            "  adding: content/train/images/image (316).jpg (deflated 3%)\n",
            "  adding: content/train/images/image (327).jpg (deflated 38%)\n",
            "  adding: content/train/images/image (624).jpg (deflated 1%)\n",
            "  adding: content/train/images/image (682).jpg (deflated 1%)\n",
            "  adding: content/train/images/image (349).jpg (deflated 1%)\n",
            "  adding: content/train/images/image (636).jpg (deflated 0%)\n",
            "  adding: content/train/images/image (396).jpg (deflated 4%)\n",
            "  adding: content/train/images/image (441).jpg (deflated 2%)\n",
            "  adding: content/train/images/image (92).jpg (deflated 6%)\n",
            "  adding: content/train/images/image (360).jpg (deflated 1%)\n",
            "  adding: content/train/images/image (732).jpg (deflated 25%)\n",
            "  adding: content/train/images/image (181).jpg (deflated 3%)\n",
            "  adding: content/train/images/image (411).jpg (deflated 5%)\n",
            "  adding: content/train/images/image (663).jpg (deflated 1%)\n",
            "  adding: content/train/images/image (480).jpg (deflated 1%)\n",
            "  adding: content/train/images/image (740).jpg (deflated 19%)\n",
            "  adding: content/train/images/image (341).jpg (deflated 3%)\n",
            "  adding: content/train/images/image (418).jpg (deflated 5%)\n",
            "  adding: content/train/images/image (421).jpg (deflated 6%)\n",
            "  adding: content/train/images/image (54).jpg (deflated 10%)\n",
            "  adding: content/train/images/image (690).jpg (deflated 1%)\n",
            "  adding: content/train/images/image (122).jpg (deflated 5%)\n",
            "  adding: content/train/images/image (187).jpg (deflated 11%)\n",
            "  adding: content/train/images/image (456).jpg (deflated 1%)\n",
            "  adding: content/train/images/image (402).jpg (deflated 2%)\n",
            "  adding: content/train/images/image (585).jpg (deflated 1%)\n",
            "  adding: content/train/images/image (581).jpg (deflated 1%)\n",
            "  adding: content/train/images/image (609).jpg (deflated 1%)\n",
            "  adding: content/train/images/image (777).jpg (deflated 3%)\n",
            "  adding: content/train/images/image (38).jpg (deflated 7%)\n",
            "  adding: content/train/images/image (348).jpg (deflated 5%)\n",
            "  adding: content/train/images/image (268).jpg (deflated 2%)\n",
            "  adding: content/train/images/image (373).jpg (deflated 4%)\n",
            "  adding: content/train/images/image (7).jpg (deflated 2%)\n",
            "  adding: content/train/images/image (277).jpg (deflated 4%)\n",
            "  adding: content/train/images/image (454).jpg (deflated 1%)\n",
            "  adding: content/train/images/image (147).jpg (deflated 8%)\n",
            "  adding: content/train/images/image (737).jpg (deflated 16%)\n",
            "  adding: content/train/images/image (574).jpg (deflated 1%)\n",
            "  adding: content/train/images/image (547).jpg (deflated 1%)\n",
            "  adding: content/train/images/image (141).jpg (deflated 10%)\n",
            "  adding: content/train/images/image (673).jpg (deflated 1%)\n",
            "  adding: content/train/images/image (247).jpg (deflated 5%)\n",
            "  adding: content/train/images/image (288).jpg (deflated 14%)\n",
            "  adding: content/train/images/image (221).jpg (deflated 6%)\n",
            "  adding: content/train/images/image (513).jpg (deflated 0%)\n",
            "  adding: content/train/images/image (18).jpg (deflated 7%)\n",
            "  adding: content/train/images/image (582).jpg (deflated 0%)\n",
            "  adding: content/train/images/image (401).jpg (deflated 7%)\n",
            "  adding: content/train/images/image (60).jpg (deflated 40%)\n",
            "  adding: content/train/images/image (617).jpg (deflated 1%)\n",
            "  adding: content/train/images/image (224).jpg (deflated 39%)\n",
            "  adding: content/train/images/image (525).jpg (deflated 1%)\n",
            "  adding: content/train/images/image (240).jpg (deflated 11%)\n",
            "  adding: content/train/images/image (606).jpg (deflated 1%)\n",
            "  adding: content/train/images/image (555).jpg (deflated 1%)\n",
            "  adding: content/train/images/image (469).jpg (deflated 0%)\n",
            "  adding: content/train/images/image (50).jpg (deflated 6%)\n",
            "  adding: content/train/images/image (154).jpg (deflated 13%)\n",
            "  adding: content/train/images/image (564).jpg (deflated 1%)\n",
            "  adding: content/train/images/image (475).jpg (deflated 0%)\n",
            "  adding: content/train/images/image (423).jpg (deflated 4%)\n",
            "  adding: content/train/images/image (117).jpg (deflated 24%)\n",
            "  adding: content/train/images/image (424).jpg (deflated 1%)\n",
            "  adding: content/train/images/image (535).jpg (deflated 1%)\n",
            "  adding: content/train/images/image (588).jpg (deflated 1%)\n",
            "  adding: content/train/images/image (505).jpg (deflated 0%)\n",
            "  adding: content/train/images/image (302).jpg (deflated 2%)\n",
            "  adding: content/train/images/image (53).jpg (deflated 6%)\n",
            "  adding: content/train/images/image (529).jpg (deflated 1%)\n",
            "  adding: content/train/images/image (163).jpg (deflated 2%)\n",
            "  adding: content/train/images/image (324).jpg (deflated 19%)\n",
            "  adding: content/train/images/image (172).jpg (deflated 22%)\n",
            "  adding: content/train/images/image (51).jpg (deflated 5%)\n",
            "  adding: content/train/images/image (476).jpg (deflated 0%)\n",
            "  adding: content/train/images/image (364).jpg (deflated 1%)\n",
            "  adding: content/train/images/image (47).jpg (deflated 14%)\n",
            "  adding: content/train/images/image (280).jpg (deflated 11%)\n",
            "  adding: content/train/images/image (653).jpg (deflated 0%)\n",
            "  adding: content/train/images/image (234).jpg (deflated 7%)\n",
            "  adding: content/train/images/image (393).jpg (deflated 4%)\n",
            "  adding: content/train/images/image (25).jpg (deflated 4%)\n",
            "  adding: content/train/images/image (565).jpg (deflated 1%)\n",
            "  adding: content/train/images/image (127).jpg (deflated 12%)\n",
            "  adding: content/train/images/image (251).jpg (deflated 1%)\n",
            "  adding: content/train/images/image (284).jpg (deflated 44%)\n",
            "  adding: content/train/images/image (216).jpg (deflated 5%)\n",
            "  adding: content/train/images/image (597).jpg (deflated 1%)\n",
            "  adding: content/train/images/image (733).jpg (deflated 42%)\n",
            "  adding: content/train/images/image (191).jpg (deflated 27%)\n",
            "  adding: content/train/images/image (112).jpg (deflated 8%)\n",
            "  adding: content/train/images/image (397).jpg (deflated 3%)\n",
            "  adding: content/train/images/image (657).jpg (deflated 1%)\n",
            "  adding: content/train/images/image (83).jpg (deflated 2%)\n",
            "  adding: content/train/images/image (509).jpg (deflated 0%)\n",
            "  adding: content/train/images/image (170).jpg (deflated 3%)\n",
            "  adding: content/train/images/image (764).jpg (deflated 1%)\n",
            "  adding: content/train/images/image (135).jpg (deflated 11%)\n",
            "  adding: content/train/images/image (265).jpg (deflated 4%)\n",
            "  adding: content/train/images/image (61).jpg (deflated 17%)\n",
            "  adding: content/train/images/image (791).jpg (deflated 2%)\n",
            "  adding: content/train/images/image (460).jpg (deflated 1%)\n",
            "  adding: content/train/images/image (734).jpg (deflated 24%)\n",
            "  adding: content/train/images/image (382).jpg (deflated 2%)\n",
            "  adding: content/train/images/image (184).jpg (deflated 14%)\n",
            "  adding: content/train/images/image (497).jpg (deflated 0%)\n",
            "  adding: content/train/images/image (687).jpg (deflated 1%)\n",
            "  adding: content/train/images/image (337).jpg (deflated 7%)\n",
            "  adding: content/train/images/image (770).jpg (deflated 3%)\n",
            "  adding: content/train/images/image (721).jpg (deflated 3%)\n",
            "  adding: content/train/images/image (308).jpg (deflated 5%)\n",
            "  adding: content/train/images/image (474).jpg (deflated 0%)\n",
            "  adding: content/train/images/image (381).jpg (deflated 1%)\n",
            "  adding: content/train/images/image (292).jpg (deflated 7%)\n",
            "  adding: content/train/images/image (279).jpg (deflated 10%)\n",
            "  adding: content/train/images/image (523).jpg (deflated 4%)\n",
            "  adding: content/train/images/image (132).jpg (deflated 14%)\n",
            "  adding: content/train/images/image (93).jpg (deflated 27%)\n",
            "  adding: content/train/images/image (340).jpg (deflated 1%)\n",
            "  adding: content/train/images/image (414).jpg (deflated 6%)\n",
            "  adding: content/train/images/image (619).jpg (deflated 1%)\n",
            "  adding: content/train/images/image (761).jpg (deflated 1%)\n",
            "  adding: content/train/images/image (371).jpg (deflated 1%)\n",
            "  adding: content/train/images/image (319).jpg (deflated 1%)\n",
            "  adding: content/train/images/image (165).jpg (deflated 1%)\n",
            "  adding: content/train/images/image (557).jpg (deflated 1%)\n",
            "  adding: content/train/images/image (532).jpg (deflated 1%)\n",
            "  adding: content/train/images/image (190).jpg (deflated 27%)\n",
            "  adding: content/train/images/image (620).jpg (deflated 0%)\n",
            "  adding: content/train/images/image (429).jpg (deflated 2%)\n",
            "  adding: content/train/images/image (195).jpg (deflated 5%)\n",
            "  adding: content/train/images/image (800).jpg (deflated 2%)\n",
            "  adding: content/train/images/image (558).jpg (deflated 1%)\n",
            "  adding: content/train/images/image (313).jpg (deflated 4%)\n",
            "  adding: content/train/images/image (39).jpg (deflated 6%)\n",
            "  adding: content/train/images/image (466).jpg (deflated 0%)\n",
            "  adding: content/train/images/image (595).jpg (deflated 1%)\n",
            "  adding: content/train/images/image (693).jpg (deflated 1%)\n",
            "  adding: content/train/images/image (188).jpg (deflated 12%)\n",
            "  adding: content/train/images/image (367).jpg (deflated 2%)\n",
            "  adding: content/train/images/image (577).jpg (deflated 2%)\n",
            "  adding: content/train/images/image (336).jpg (deflated 7%)\n",
            "  adding: content/train/images/image (539).jpg (deflated 2%)\n",
            "  adding: content/train/images/image (317).jpg (deflated 2%)\n",
            "  adding: content/train/images/image (514).jpg (deflated 0%)\n",
            "  adding: content/train/images/image (642).jpg (deflated 1%)\n",
            "  adding: content/train/images/image (212).jpg (deflated 4%)\n",
            "  adding: content/train/images/image (520).jpg (deflated 1%)\n",
            "  adding: content/train/images/image (134).jpg (deflated 11%)\n",
            "  adding: content/train/images/image (711).jpg (deflated 1%)\n",
            "  adding: content/train/images/image (306).jpg (deflated 9%)\n",
            "  adding: content/train/images/image (494).jpg (deflated 1%)\n",
            "  adding: content/train/images/image (468).jpg (deflated 0%)\n",
            "  adding: content/train/images/image (315).jpg (deflated 2%)\n",
            "  adding: content/train/images/image (271).jpg (deflated 6%)\n",
            "  adding: content/train/images/image (330).jpg (deflated 5%)\n",
            "  adding: content/train/images/image (685).jpg (deflated 1%)\n",
            "  adding: content/train/images/image (443).jpg (deflated 1%)\n",
            "  adding: content/train/images/image (403).jpg (deflated 1%)\n",
            "  adding: content/train/images/image (11).jpg (deflated 10%)\n",
            "  adding: content/train/images/image (795).jpg (deflated 5%)\n",
            "  adding: content/train/images/image (10).jpg (deflated 1%)\n",
            "  adding: content/train/images/image (237).jpg (deflated 1%)\n",
            "  adding: content/train/images/image (651).jpg (deflated 1%)\n",
            "  adding: content/train/images/image (180).jpg (deflated 12%)\n",
            "  adding: content/train/images/image (76).jpg (deflated 4%)\n",
            "  adding: content/train/images/image (8).jpg (deflated 1%)\n",
            "  adding: content/train/images/image (724).jpg (deflated 8%)\n",
            "  adding: content/train/images/image (398).jpg (deflated 3%)\n",
            "  adding: content/train/images/image (286).jpg (deflated 15%)\n",
            "  adding: content/train/images/image (358).jpg (deflated 1%)\n",
            "  adding: content/train/images/image (131).jpg (deflated 14%)\n",
            "  adding: content/train/images/image (275).jpg (deflated 2%)\n",
            "  adding: content/train/images/image (249).jpg (deflated 6%)\n",
            "  adding: content/train/images/image (694).jpg (deflated 3%)\n",
            "  adding: content/train/images/image (29).jpg (deflated 5%)\n",
            "  adding: content/train/images/image (169).jpg (deflated 1%)\n",
            "  adding: content/train/images/image (236).jpg (deflated 1%)\n",
            "  adding: content/train/images/image (290).jpg (deflated 6%)\n",
            "  adding: content/train/images/image (546).jpg (deflated 1%)\n",
            "  adding: content/train/images/image (174).jpg (deflated 21%)\n",
            "  adding: content/train/images/image (250).jpg (deflated 2%)\n",
            "  adding: content/train/images/image (728).jpg (deflated 12%)\n",
            "  adding: content/train/images/image (96).jpg (deflated 23%)\n",
            "  adding: content/train/images/image (596).jpg (deflated 1%)\n",
            "  adding: content/train/images/image (171).jpg (deflated 2%)\n",
            "  adding: content/train/images/image (231).jpg (deflated 4%)\n",
            "  adding: content/train/images/image (16).jpg (deflated 4%)\n",
            "  adding: content/train/images/image (356).jpg (deflated 12%)\n",
            "  adding: content/train/images/image (576).jpg (deflated 1%)\n",
            "  adding: content/train/images/image (350).jpg (deflated 8%)\n",
            "  adding: content/train/images/image (434).jpg (deflated 2%)\n",
            "  adding: content/train/images/image (386).jpg (deflated 1%)\n",
            "  adding: content/train/images/image (307).jpg (deflated 10%)\n",
            "  adding: content/train/images/image (517).jpg (deflated 1%)\n",
            "  adding: content/train/images/image (252).jpg (deflated 1%)\n",
            "  adding: content/train/images/image (579).jpg (deflated 1%)\n",
            "  adding: content/train/images/image (621).jpg (deflated 0%)\n",
            "  adding: content/train/images/image (1).jpg (deflated 16%)\n",
            "  adding: content/train/images/image (742).jpg (deflated 2%)\n",
            "  adding: content/train/images/image (518).jpg (deflated 1%)\n",
            "  adding: content/train/images/image (583).jpg (deflated 1%)\n",
            "  adding: content/train/images/image (750).jpg (deflated 3%)\n",
            "  adding: content/train/images/image (335).jpg (deflated 11%)\n",
            "  adding: content/train/images/image (417).jpg (deflated 2%)\n",
            "  adding: content/train/images/image (796).jpg (deflated 1%)\n",
            "  adding: content/train/images/image (425).jpg (deflated 1%)\n",
            "  adding: content/train/images/image (571).jpg (deflated 1%)\n",
            "  adding: content/train/images/image (142).jpg (deflated 10%)\n",
            "  adding: content/train/images/image (73).jpg (deflated 17%)\n",
            "  adding: content/train/images/image (225).jpg (deflated 43%)\n",
            "  adding: content/train/images/image (74).jpg (deflated 24%)\n",
            "  adding: content/train/images/image (788).jpg (deflated 2%)\n",
            "  adding: content/train/images/image (700).jpg (deflated 7%)\n",
            "  adding: content/train/images/image (273).jpg (deflated 1%)\n",
            "  adding: content/train/images/image (338).jpg (deflated 8%)\n",
            "  adding: content/train/images/image (644).jpg (deflated 1%)\n",
            "  adding: content/train/images/image (605).jpg (deflated 1%)\n",
            "  adding: content/train/images/image (408).jpg (deflated 3%)\n",
            "  adding: content/train/images/image (228).jpg (deflated 13%)\n",
            "  adding: content/train/images/image (622).jpg (deflated 1%)\n",
            "  adding: content/train/images/image (508).jpg (deflated 0%)\n",
            "  adding: content/train/images/image (255).jpg (deflated 6%)\n",
            "  adding: content/train/images/image (104).jpg (deflated 5%)\n",
            "  adding: content/train/images/image (344).jpg (deflated 2%)\n",
            "  adding: content/train/images/image (183).jpg (deflated 2%)\n",
            "  adding: content/train/images/image (281).jpg (deflated 8%)\n",
            "  adding: content/train/images/image (125).jpg (deflated 9%)\n",
            "  adding: content/train/images/image (704).jpg (deflated 5%)\n",
            "  adding: content/train/images/image (140).jpg (deflated 29%)\n",
            "  adding: content/train/images/image (287).jpg (deflated 15%)\n",
            "  adding: content/train/images/image (48).jpg (deflated 15%)\n",
            "  adding: content/train/images/image (65).jpg (deflated 5%)\n",
            "  adding: content/train/images/image (296).jpg (deflated 38%)\n",
            "  adding: content/train/images/image (404).jpg (deflated 1%)\n",
            "  adding: content/train/images/image (538).jpg (deflated 2%)\n",
            "  adding: content/train/images/image (648).jpg (deflated 0%)\n",
            "  adding: content/train/images/image (533).jpg (deflated 1%)\n",
            "  adding: content/train/images/image (647).jpg (deflated 1%)\n",
            "  adding: content/train/images/image (241).jpg (deflated 8%)\n",
            "  adding: content/train/images/image (263).jpg (deflated 2%)\n",
            "  adding: content/train/images/image (204).jpg (deflated 7%)\n",
            "  adding: content/train/images/image (144).jpg (deflated 7%)\n",
            "  adding: content/train/images/image (548).jpg (deflated 1%)\n",
            "  adding: content/train/images/image (471).jpg (deflated 0%)\n",
            "  adding: content/train/images/image (84).jpg (deflated 3%)\n",
            "  adding: content/train/images/image (206).jpg (deflated 2%)\n",
            "  adding: content/train/images/image (261).jpg (deflated 1%)\n",
            "  adding: content/train/images/image (75).jpg (deflated 4%)\n",
            "  adding: content/train/images/image (189).jpg (deflated 13%)\n",
            "  adding: content/train/images/image (157).jpg (deflated 7%)\n",
            "  adding: content/train/images/image (123).jpg (deflated 5%)\n",
            "  adding: content/train/images/image (320).jpg (deflated 2%)\n",
            "  adding: content/train/images/image (343).jpg (deflated 7%)\n",
            "  adding: content/train/images/image (534).jpg (deflated 1%)\n",
            "  adding: content/train/images/image (365).jpg (deflated 6%)\n",
            "  adding: content/train/images/image (136).jpg (deflated 8%)\n",
            "  adding: content/train/images/image (528).jpg (deflated 1%)\n",
            "  adding: content/train/images/image (69).jpg (deflated 2%)\n",
            "  adding: content/train/images/image (115).jpg (deflated 26%)\n",
            "  adding: content/train/images/image (422).jpg (deflated 4%)\n",
            "  adding: content/train/images/image (662).jpg (deflated 1%)\n",
            "  adding: content/train/images/image (101).jpg (deflated 38%)\n",
            "  adding: content/train/images/image (295).jpg (deflated 36%)\n",
            "  adding: content/train/images/image (792).jpg (deflated 2%)\n",
            "  adding: content/train/images/image (389).jpg (deflated 5%)\n",
            "  adding: content/train/images/image (59).jpg (deflated 42%)\n",
            "  adding: content/train/images/image (368).jpg (deflated 4%)\n",
            "  adding: content/train/images/image (554).jpg (deflated 1%)\n",
            "  adding: content/train/images/image (696).jpg (deflated 14%)\n",
            "  adding: content/train/images/image (603).jpg (deflated 1%)\n",
            "  adding: content/train/images/image (560).jpg (deflated 1%)\n",
            "  adding: content/train/images/image (85).jpg (deflated 1%)\n",
            "  adding: content/train/images/image (410).jpg (deflated 5%)\n",
            "  adding: content/train/images/image (374).jpg (deflated 9%)\n",
            "  adding: content/train/images/image (515).jpg (deflated 1%)\n",
            "  adding: content/train/images/image (516).jpg (deflated 1%)\n",
            "  adding: content/train/images/image (150).jpg (deflated 3%)\n",
            "  adding: content/train/images/image (451).jpg (deflated 1%)\n",
            "  adding: content/train/images/image (387).jpg (deflated 0%)\n",
            "  adding: content/train/images/image (472).jpg (deflated 0%)\n",
            "  adding: content/train/images/image (530).jpg (deflated 1%)\n",
            "  adding: content/train/images/image (266).jpg (deflated 5%)\n",
            "  adding: content/train/images/image (483).jpg (deflated 1%)\n",
            "  adding: content/train/images/image (672).jpg (deflated 1%)\n",
            "  adding: content/train/images/image (36).jpg (deflated 1%)\n",
            "  adding: content/train/images/image (109).jpg (deflated 3%)\n",
            "  adding: content/train/images/image (355).jpg (deflated 9%)\n",
            "  adding: content/train/images/image (264).jpg (deflated 1%)\n",
            "  adding: content/train/images/image (323).jpg (deflated 21%)\n",
            "  adding: content/train/images/image (630).jpg (deflated 1%)\n",
            "  adding: content/train/images/image (26).jpg (deflated 6%)\n",
            "  adding: content/train/images/image (6).jpg (deflated 2%)\n",
            "  adding: content/train/images/image (186).jpg (deflated 13%)\n",
            "  adding: content/train/images/image (332).jpg (deflated 28%)\n",
            "  adding: content/train/images/image (782).jpg (deflated 1%)\n",
            "  adding: content/train/images/image (632).jpg (deflated 0%)\n",
            "  adding: content/train/images/image (587).jpg (deflated 1%)\n",
            "  adding: content/train/images/image (455).jpg (deflated 1%)\n",
            "  adding: content/train/images/image (77).jpg (deflated 2%)\n",
            "  adding: content/train/images/image (710).jpg (deflated 1%)\n",
            "  adding: content/train/images/image (679).jpg (deflated 1%)\n",
            "  adding: content/train/images/image (420).jpg (deflated 6%)\n",
            "  adding: content/train/images/image (300).jpg (deflated 19%)\n",
            "  adding: content/train/images/image (562).jpg (deflated 1%)\n",
            "  adding: content/train/images/image (229).jpg (deflated 3%)\n",
            "  adding: content/train/images/image (686).jpg (deflated 1%)\n",
            "  adding: content/train/images/image (146).jpg (deflated 6%)\n",
            "  adding: content/train/images/image (5).jpg (deflated 3%)\n",
            "  adding: content/train/images/image (556).jpg (deflated 1%)\n",
            "  adding: content/train/images/image (283).jpg (deflated 9%)\n",
            "  adding: content/train/images/image (391).jpg (deflated 7%)\n",
            "  adding: content/train/images/image (325).jpg (deflated 39%)\n",
            "  adding: content/train/images/image (444).jpg (deflated 0%)\n",
            "  adding: content/train/images/image (311).jpg (deflated 9%)\n",
            "  adding: content/train/images/image (405).jpg (deflated 2%)\n",
            "  adding: content/train/images/image (199).jpg (deflated 3%)\n",
            "  adding: content/train/images/image (599).jpg (deflated 0%)\n",
            "  adding: content/train/images/image (357).jpg (deflated 1%)\n",
            "  adding: content/train/images/image (691).jpg (deflated 1%)\n",
            "  adding: content/train/images/image (166).jpg (deflated 5%)\n",
            "  adding: content/train/images/image (238).jpg (deflated 2%)\n",
            "  adding: content/train/images/image (103).jpg (deflated 5%)\n",
            "  adding: content/train/images/image (511).jpg (deflated 0%)\n",
            "  adding: content/train/images/image (220).jpg (deflated 6%)\n",
            "  adding: content/train/images/image (649).jpg (deflated 1%)\n",
            "  adding: content/train/images/image (88).jpg (deflated 47%)\n",
            "  adding: content/train/images/image (303).jpg (deflated 3%)\n",
            "  adding: content/train/images/image (82).jpg (deflated 8%)\n",
            "  adding: content/train/images/image (537).jpg (deflated 2%)\n",
            "  adding: content/train/images/image (746).jpg (deflated 1%)\n",
            "  adding: content/train/images/image (218).jpg (deflated 5%)\n",
            "  adding: content/train/images/image (709).jpg (deflated 0%)\n",
            "  adding: content/train/images/image (488).jpg (deflated 0%)\n",
            "  adding: content/train/images/image (372).jpg (deflated 1%)\n",
            "  adding: content/train/images/image (41).jpg (deflated 4%)\n",
            "  adding: content/train/images/image (35).jpg (deflated 2%)\n",
            "  adding: content/train/images/image (680).jpg (deflated 1%)\n",
            "  adding: content/train/images/image (736).jpg (deflated 12%)\n",
            "  adding: content/train/images/image (353).jpg (deflated 1%)\n",
            "  adding: content/train/images/image (21).jpg (deflated 13%)\n",
            "  adding: content/train/images/image (626).jpg (deflated 0%)\n",
            "  adding: content/train/labels/ (stored 0%)\n",
            "  adding: content/train/labels/image (304).txt (deflated 16%)\n",
            "  adding: content/train/labels/image (151).txt (deflated 11%)\n",
            "  adding: content/train/labels/image (701).txt (deflated 13%)\n",
            "  adding: content/train/labels/image (240).txt (deflated 11%)\n",
            "  adding: content/train/labels/image (576).txt (deflated 8%)\n",
            "  adding: content/train/labels/image (287).txt (deflated 11%)\n",
            "  adding: content/train/labels/image (755).txt (deflated 8%)\n",
            "  adding: content/train/labels/image (371).txt (deflated 18%)\n",
            "  adding: content/train/labels/image (117).txt (deflated 18%)\n",
            "  adding: content/train/labels/image (354).txt (deflated 5%)\n",
            "  adding: content/train/labels/image (662).txt (deflated 51%)\n",
            "  adding: content/train/labels/image (109).txt (deflated 11%)\n",
            "  adding: content/train/labels/image (2).txt (deflated 28%)\n",
            "  adding: content/train/labels/image (798).txt (deflated 8%)\n",
            "  adding: content/train/labels/image (361).txt (deflated 11%)\n",
            "  adding: content/train/labels/image (226).txt (deflated 8%)\n",
            "  adding: content/train/labels/image (63).txt (deflated 5%)\n",
            "  adding: content/train/labels/image (721).txt (deflated 13%)\n",
            "  adding: content/train/labels/image (198).txt (deflated 16%)\n",
            "  adding: content/train/labels/image (288).txt (deflated 11%)\n",
            "  adding: content/train/labels/image (219).txt (deflated 16%)\n",
            "  adding: content/train/labels/image (712).txt (deflated 5%)\n",
            "  adding: content/train/labels/image (479).txt (deflated 39%)\n",
            "  adding: content/train/labels/image (663).txt (deflated 49%)\n",
            "  adding: content/train/labels/image (512).txt (deflated 38%)\n",
            "  adding: content/train/labels/image (522).txt (deflated 39%)\n",
            "  adding: content/train/labels/image (158).txt (deflated 5%)\n",
            "  adding: content/train/labels/image (766).txt (deflated 5%)\n",
            "  adding: content/train/labels/image (708).txt (deflated 21%)\n",
            "  adding: content/train/labels/image (251).txt (deflated 13%)\n",
            "  adding: content/train/labels/image (738).txt (deflated 13%)\n",
            "  adding: content/train/labels/image (191).txt (deflated 13%)\n",
            "  adding: content/train/labels/image (400).txt (deflated 16%)\n",
            "  adding: content/train/labels/image (732).txt (deflated 26%)\n",
            "  adding: content/train/labels/image (690).txt (deflated 38%)\n",
            "  adding: content/train/labels/image (83).txt (deflated 13%)\n",
            "  adding: content/train/labels/image (615).txt (deflated 29%)\n",
            "  adding: content/train/labels/image (653).txt (deflated 45%)\n",
            "  adding: content/train/labels/image (344).txt (deflated 13%)\n",
            "  adding: content/train/labels/image (778).txt (deflated 8%)\n",
            "  adding: content/train/labels/image (658).txt (deflated 45%)\n",
            "  adding: content/train/labels/image (703).txt (deflated 28%)\n",
            "  adding: content/train/labels/image (38).txt (deflated 21%)\n",
            "  adding: content/train/labels/image (105).txt (deflated 24%)\n",
            "  adding: content/train/labels/image (110).txt (deflated 11%)\n",
            "  adding: content/train/labels/image (107).txt (deflated 8%)\n",
            "  adding: content/train/labels/image (503).txt (deflated 38%)\n",
            "  adding: content/train/labels/image (428).txt (deflated 16%)\n",
            "  adding: content/train/labels/image (716).txt (deflated 5%)\n",
            "  adding: content/train/labels/image (515).txt (deflated 40%)\n",
            "  adding: content/train/labels/image (225).txt (deflated 11%)\n",
            "  adding: content/train/labels/image (554).txt (deflated 8%)\n",
            "  adding: content/train/labels/image (263).txt (deflated 18%)\n",
            "  adding: content/train/labels/image (552).txt (deflated 8%)\n",
            "  adding: content/train/labels/image (649).txt (deflated 29%)\n",
            "  adding: content/train/labels/image (759).txt (deflated 8%)\n",
            "  adding: content/train/labels/image (223).txt (deflated 11%)\n",
            "  adding: content/train/labels/image (340).txt (deflated 8%)\n",
            "  adding: content/train/labels/image (634).txt (deflated 45%)\n",
            "  adding: content/train/labels/image (280).txt (deflated 18%)\n",
            "  adding: content/train/labels/image (296).txt (deflated 11%)\n",
            "  adding: content/train/labels/image (26).txt (deflated 8%)\n",
            "  adding: content/train/labels/image (174).txt (deflated 11%)\n",
            "  adding: content/train/labels/image (82).txt (deflated 8%)\n",
            "  adding: content/train/labels/image (76).txt (deflated 11%)\n",
            "  adding: content/train/labels/image (128).txt (deflated 13%)\n",
            "  adding: content/train/labels/image (408).txt (deflated 11%)\n",
            "  adding: content/train/labels/image (178).txt (deflated 5%)\n",
            "  adding: content/train/labels/image (308).txt (deflated 11%)\n",
            "  adding: content/train/labels/image (678).txt (deflated 46%)\n",
            "  adding: content/train/labels/image (217).txt (deflated 24%)\n",
            "  adding: content/train/labels/image (546).txt (deflated 29%)\n",
            "  adding: content/train/labels/image (673).txt (deflated 48%)\n",
            "  adding: content/train/labels/image (530).txt (deflated 5%)\n",
            "  adding: content/train/labels/image (567).txt (deflated 8%)\n",
            "  adding: content/train/labels/image (391).txt (deflated 8%)\n",
            "  adding: content/train/labels/image (90).txt (deflated 13%)\n",
            "  adding: content/train/labels/image (550).txt (deflated 29%)\n",
            "  adding: content/train/labels/image (664).txt (deflated 49%)\n",
            "  adding: content/train/labels/image (144).txt (deflated 5%)\n",
            "  adding: content/train/labels/image (560).txt (deflated 8%)\n",
            "  adding: content/train/labels/image (444).txt (deflated 11%)\n",
            "  adding: content/train/labels/image (559).txt (deflated 11%)\n",
            "  adding: content/train/labels/image (50).txt (deflated 13%)\n",
            "  adding: content/train/labels/image (311).txt (deflated 11%)\n",
            "  adding: content/train/labels/image (520).txt (deflated 39%)\n",
            "  adding: content/train/labels/image (415).txt (deflated 11%)\n",
            "  adding: content/train/labels/image (454).txt (deflated 8%)\n",
            "  adding: content/train/labels/image (7).txt (deflated 5%)\n",
            "  adding: content/train/labels/image (681).txt (deflated 47%)\n",
            "  adding: content/train/labels/image (60).txt (deflated 11%)\n",
            "  adding: content/train/labels/image (39).txt (deflated 16%)\n",
            "  adding: content/train/labels/image (272).txt (deflated 18%)\n",
            "  adding: content/train/labels/image (395).txt (deflated 11%)\n",
            "  adding: content/train/labels/image (780).txt (deflated 11%)\n",
            "  adding: content/train/labels/image (366).txt (deflated 11%)\n",
            "  adding: content/train/labels/image (509).txt (deflated 44%)\n",
            "  adding: content/train/labels/image (635).txt (deflated 29%)\n",
            "  adding: content/train/labels/image (661).txt (deflated 51%)\n",
            "  adding: content/train/labels/image (170).txt (deflated 5%)\n",
            "  adding: content/train/labels/image (599).txt (deflated 8%)\n",
            "  adding: content/train/labels/image (265).txt (deflated 29%)\n",
            "  adding: content/train/labels/image (279).txt (deflated 11%)\n",
            "  adding: content/train/labels/image (274).txt (deflated 11%)\n",
            "  adding: content/train/labels/image (394).txt (deflated 8%)\n",
            "  adding: content/train/labels/image (224).txt (deflated 21%)\n",
            "  adding: content/train/labels/image (467).txt (deflated 39%)\n",
            "  adding: content/train/labels/image (480).txt (deflated 39%)\n",
            "  adding: content/train/labels/image (589).txt (deflated 29%)\n",
            "  adding: content/train/labels/image (379).txt (deflated 11%)\n",
            "  adding: content/train/labels/image (362).txt (deflated 5%)\n",
            "  adding: content/train/labels/image (175).txt (deflated 8%)\n",
            "  adding: content/train/labels/image (499).txt (deflated 45%)\n",
            "  adding: content/train/labels/image (6).txt (deflated 8%)\n",
            "  adding: content/train/labels/image (555).txt (deflated 16%)\n",
            "  adding: content/train/labels/image (498).txt (deflated 47%)\n",
            "  adding: content/train/labels/image (722).txt (deflated 5%)\n",
            "  adding: content/train/labels/image (325).txt (deflated 11%)\n",
            "  adding: content/train/labels/image (137).txt (deflated 21%)\n",
            "  adding: content/train/labels/image (34).txt (deflated 5%)\n",
            "  adding: content/train/labels/image (351).txt (deflated 11%)\n",
            "  adding: content/train/labels/image (293).txt (deflated 5%)\n",
            "  adding: content/train/labels/image (502).txt (deflated 51%)\n",
            "  adding: content/train/labels/image (374).txt (deflated 16%)\n",
            "  adding: content/train/labels/image (488).txt (deflated 38%)\n",
            "  adding: content/train/labels/image (548).txt (deflated 28%)\n",
            "  adding: content/train/labels/image (94).txt (deflated 5%)\n",
            "  adding: content/train/labels/image (419).txt (deflated 11%)\n",
            "  adding: content/train/labels/classes.txt (deflated 4%)\n",
            "  adding: content/train/labels/image (404).txt (deflated 13%)\n",
            "  adding: content/train/labels/image (73).txt (deflated 8%)\n",
            "  adding: content/train/labels/image (100).txt (deflated 13%)\n",
            "  adding: content/train/labels/image (725).txt (deflated 8%)\n",
            "  adding: content/train/labels/image (782).txt (deflated 26%)\n",
            "  adding: content/train/labels/image (746).txt (deflated 8%)\n",
            "  adding: content/train/labels/image (735).txt (deflated 40%)\n",
            "  adding: content/train/labels/image (687).txt (deflated 45%)\n",
            "  adding: content/train/labels/image (602).txt (deflated 29%)\n",
            "  adding: content/train/labels/image (180).txt (deflated 5%)\n",
            "  adding: content/train/labels/image (163).txt (deflated 11%)\n",
            "  adding: content/train/labels/image (389).txt (deflated 11%)\n",
            "  adding: content/train/labels/image (792).txt (deflated 5%)\n",
            "  adding: content/train/labels/image (771).txt (deflated 30%)\n",
            "  adding: content/train/labels/image (195).txt (deflated 29%)\n",
            "  adding: content/train/labels/image (123).txt (deflated 18%)\n",
            "  adding: content/train/labels/image (435).txt (deflated 8%)\n",
            "  adding: content/train/labels/image (167).txt (deflated 13%)\n",
            "  adding: content/train/labels/image (671).txt (deflated 45%)\n",
            "  adding: content/train/labels/image (18).txt (deflated 52%)\n",
            "  adding: content/train/labels/image (258).txt (deflated 5%)\n",
            "  adding: content/train/labels/image (25).txt (deflated 32%)\n",
            "  adding: content/train/labels/image (621).txt (deflated 5%)\n",
            "  adding: content/train/labels/image (742).txt (deflated 8%)\n",
            "  adding: content/train/labels/image (29).txt (deflated 13%)\n",
            "  adding: content/train/labels/image (307).txt (deflated 16%)\n",
            "  adding: content/train/labels/image (723).txt (deflated 8%)\n",
            "  adding: content/train/labels/image (273).txt (deflated 13%)\n",
            "  adding: content/train/labels/image (152).txt (deflated 13%)\n",
            "  adding: content/train/labels/image (75).txt (deflated 11%)\n",
            "  adding: content/train/labels/image (370).txt (deflated 16%)\n",
            "  adding: content/train/labels/image (184).txt (deflated 30%)\n",
            "  adding: content/train/labels/image (85).txt (deflated 18%)\n",
            "  adding: content/train/labels/image (255).txt (deflated 24%)\n",
            "  adding: content/train/labels/image (707).txt (deflated 26%)\n",
            "  adding: content/train/labels/image (597).txt (deflated 30%)\n",
            "  adding: content/train/labels/image (561).txt (deflated 8%)\n",
            "  adding: content/train/labels/image (764).txt (deflated 5%)\n",
            "  adding: content/train/labels/image (341).txt (deflated 8%)\n",
            "  adding: content/train/labels/image (529).txt (deflated 8%)\n",
            "  adding: content/train/labels/image (21).txt (deflated 11%)\n",
            "  adding: content/train/labels/image (636).txt (deflated 38%)\n",
            "  adding: content/train/labels/image (413).txt (deflated 5%)\n",
            "  adding: content/train/labels/image (266).txt (deflated 16%)\n",
            "  adding: content/train/labels/image (372).txt (deflated 13%)\n",
            "  adding: content/train/labels/image (720).txt (deflated 5%)\n",
            "  adding: content/train/labels/image (471).txt (deflated 38%)\n",
            "  adding: content/train/labels/image (368).txt (deflated 21%)\n",
            "  adding: content/train/labels/image (382).txt (deflated 13%)\n",
            "  adding: content/train/labels/image (794).txt (deflated 13%)\n",
            "  adding: content/train/labels/image (249).txt (deflated 8%)\n",
            "  adding: content/train/labels/image (447).txt (deflated 8%)\n",
            "  adding: content/train/labels/desktop.ini (deflated 87%)\n",
            "  adding: content/train/labels/image (451).txt (deflated 13%)\n",
            "  adding: content/train/labels/image (156).txt (deflated 5%)\n",
            "  adding: content/train/labels/image (383).txt (deflated 11%)\n",
            "  adding: content/train/labels/image (612).txt (deflated 28%)\n",
            "  adding: content/train/labels/image (656).txt (deflated 45%)\n",
            "  adding: content/train/labels/image (405).txt (deflated 8%)\n",
            "  adding: content/train/labels/image (700).txt (deflated 21%)\n",
            "  adding: content/train/labels/image (795).txt (deflated 13%)\n",
            "  adding: content/train/labels/image (185).txt (deflated 30%)\n",
            "  adding: content/train/labels/image (397).txt (deflated 13%)\n",
            "  adding: content/train/labels/image (590).txt (deflated 30%)\n",
            "  adding: content/train/labels/image (303).txt (deflated 8%)\n",
            "  adding: content/train/labels/image (426).txt (deflated 16%)\n",
            "  adding: content/train/labels/image (633).txt (deflated 42%)\n",
            "  adding: content/train/labels/image (455).txt (deflated 60%)\n",
            "  adding: content/train/labels/image (197).txt (deflated 11%)\n",
            "  adding: content/train/labels/image (62).txt (deflated 13%)\n",
            "  adding: content/train/labels/image (77).txt (deflated 5%)\n",
            "  adding: content/train/labels/image (213).txt (deflated 11%)\n",
            "  adding: content/train/labels/image (106).txt (deflated 13%)\n",
            "  adding: content/train/labels/image (553).txt (deflated 16%)\n",
            "  adding: content/train/labels/image (637).txt (deflated 39%)\n",
            "  adding: content/train/labels/image (582).txt (deflated 29%)\n",
            "  adding: content/train/labels/image (310).txt (deflated 18%)\n",
            "  adding: content/train/labels/image (28).txt (deflated 8%)\n",
            "  adding: content/train/labels/image (645).txt (deflated 40%)\n",
            "  adding: content/train/labels/image (228).txt (deflated 5%)\n",
            "  adding: content/train/labels/image (113).txt (deflated 8%)\n",
            "  adding: content/train/labels/image (292).txt (deflated 18%)\n",
            "  adding: content/train/labels/image (320).txt (deflated 8%)\n",
            "  adding: content/train/labels/image (420).txt (deflated 8%)\n",
            "  adding: content/train/labels/image (306).txt (deflated 13%)\n",
            "  adding: content/train/labels/image (783).txt (deflated 24%)\n",
            "  adding: content/train/labels/image (33).txt (deflated 13%)\n",
            "  adding: content/train/labels/image (264).txt (deflated 8%)\n",
            "  adding: content/train/labels/image (787).txt (deflated 8%)\n",
            "  adding: content/train/labels/image (433).txt (deflated 8%)\n",
            "  adding: content/train/labels/image (481).txt (deflated 39%)\n",
            "  adding: content/train/labels/image (421).txt (deflated 8%)\n",
            "  adding: content/train/labels/image (331).txt (deflated 30%)\n",
            "  adding: content/train/labels/image (774).txt (deflated 21%)\n",
            "  adding: content/train/labels/image (443).txt (deflated 11%)\n",
            "  adding: content/train/labels/image (583).txt (deflated 28%)\n",
            "  adding: content/train/labels/image (601).txt (deflated 30%)\n",
            "  adding: content/train/labels/image (641).txt (deflated 39%)\n",
            "  adding: content/train/labels/image (214).txt (deflated 5%)\n",
            "  adding: content/train/labels/image (610).txt (deflated 29%)\n",
            "  adding: content/train/labels/image (81).txt (deflated 24%)\n",
            "  adding: content/train/labels/image (785).txt (deflated 28%)\n",
            "  adding: content/train/labels/image (489).txt (deflated 5%)\n",
            "  adding: content/train/labels/image (201).txt (deflated 16%)\n",
            "  adding: content/train/labels/image (407).txt (deflated 8%)\n",
            "  adding: content/train/labels/image (388).txt (deflated 24%)\n",
            "  adding: content/train/labels/image (210).txt (deflated 16%)\n",
            "  adding: content/train/labels/image (289).txt (deflated 5%)\n",
            "  adding: content/train/labels/image (15).txt (deflated 21%)\n",
            "  adding: content/train/labels/image (329).txt (deflated 21%)\n",
            "  adding: content/train/labels/image (188).txt (deflated 8%)\n",
            "  adding: content/train/labels/image (593).txt (deflated 28%)\n",
            "  adding: content/train/labels/image (436).txt (deflated 8%)\n",
            "  adding: content/train/labels/image (229).txt (deflated 18%)\n",
            "  adding: content/train/labels/image (239).txt (deflated 13%)\n",
            "  adding: content/train/labels/image (565).txt (deflated 29%)\n",
            "  adding: content/train/labels/image (440).txt (deflated 48%)\n",
            "  adding: content/train/labels/image (253).txt (deflated 18%)\n",
            "  adding: content/train/labels/image (322).txt (deflated 26%)\n",
            "  adding: content/train/labels/image (788).txt (deflated 8%)\n",
            "  adding: content/train/labels/image (161).txt (deflated 28%)\n",
            "  adding: content/train/labels/image (166).txt (deflated 5%)\n",
            "  adding: content/train/labels/image (52).txt (deflated 11%)\n",
            "  adding: content/train/labels/image (159).txt (deflated 32%)\n",
            "  adding: content/train/labels/image (257).txt (deflated 16%)\n",
            "  adding: content/train/labels/image (222).txt (deflated 11%)\n",
            "  adding: content/train/labels/image (704).txt (deflated 5%)\n",
            "  adding: content/train/labels/image (418).txt (deflated 5%)\n",
            "  adding: content/train/labels/image (364).txt (deflated 5%)\n",
            "  adding: content/train/labels/image (763).txt (deflated 8%)\n",
            "  adding: content/train/labels/image (241).txt (deflated 11%)\n",
            "  adding: content/train/labels/image (22).txt (deflated 8%)\n",
            "  adding: content/train/labels/image (126).txt (deflated 8%)\n",
            "  adding: content/train/labels/image (617).txt (deflated 13%)\n",
            "  adding: content/train/labels/image (410).txt (deflated 13%)\n",
            "  adding: content/train/labels/image (305).txt (deflated 13%)\n",
            "  adding: content/train/labels/image (765).txt (deflated 13%)\n",
            "  adding: content/train/labels/image (537).txt (deflated 28%)\n",
            "  adding: content/train/labels/image (674).txt (deflated 48%)\n",
            "  adding: content/train/labels/image (65).txt (deflated 11%)\n",
            "  adding: content/train/labels/image (313).txt (deflated 11%)\n",
            "  adding: content/train/labels/image (660).txt (deflated 45%)\n",
            "  adding: content/train/labels/image (375).txt (deflated 13%)\n",
            "  adding: content/train/labels/image (693).txt (deflated 43%)\n",
            "  adding: content/train/labels/image (283).txt (deflated 11%)\n",
            "  adding: content/train/labels/image (740).txt (deflated 8%)\n",
            "  adding: content/train/labels/image (737).txt (deflated 38%)\n",
            "  adding: content/train/labels/image (677).txt (deflated 52%)\n",
            "  adding: content/train/labels/image (626).txt (deflated 44%)\n",
            "  adding: content/train/labels/image (469).txt (deflated 40%)\n",
            "  adding: content/train/labels/image (324).txt (deflated 32%)\n",
            "  adding: content/train/labels/image (390).txt (deflated 8%)\n",
            "  adding: content/train/labels/image (160).txt (deflated 28%)\n",
            "  adding: content/train/labels/image (734).txt (deflated 8%)\n",
            "  adding: content/train/labels/image (756).txt (deflated 16%)\n",
            "  adding: content/train/labels/image (297).txt (deflated 29%)\n",
            "  adding: content/train/labels/image (54).txt (deflated 11%)\n",
            "  adding: content/train/labels/image (719).txt (deflated 8%)\n",
            "  adding: content/train/labels/image (57).txt (deflated 5%)\n",
            "  adding: content/train/labels/image (127).txt (deflated 8%)\n",
            "  adding: content/train/labels/image (625).txt (deflated 29%)\n",
            "  adding: content/train/labels/image (647).txt (deflated 28%)\n",
            "  adding: content/train/labels/image (614).txt (deflated 8%)\n",
            "  adding: content/train/labels/image (665).txt (deflated 50%)\n",
            "  adding: content/train/labels/image (102).txt (deflated 11%)\n",
            "  adding: content/train/labels/image (46).txt (deflated 5%)\n",
            "  adding: content/train/labels/image (659).txt (deflated 40%)\n",
            "  adding: content/train/labels/image (414).txt (deflated 18%)\n",
            "  adding: content/train/labels/image (500).txt (deflated 45%)\n",
            "  adding: content/train/labels/image (387).txt (deflated 8%)\n",
            "  adding: content/train/labels/image (718).txt (deflated 18%)\n",
            "  adding: content/train/labels/image (88).txt (deflated 8%)\n",
            "  adding: content/train/labels/image (96).txt (deflated 11%)\n",
            "  adding: content/train/labels/image (357).txt (deflated 8%)\n",
            "  adding: content/train/labels/image (412).txt (deflated 11%)\n",
            "  adding: content/train/labels/image (672).txt (deflated 44%)\n",
            "  adding: content/train/labels/image (710).txt (deflated 16%)\n",
            "  adding: content/train/labels/image (456).txt (deflated 60%)\n",
            "  adding: content/train/labels/image (616).txt (deflated 11%)\n",
            "  adding: content/train/labels/image (696).txt (deflated 13%)\n",
            "  adding: content/train/labels/image (130).txt (deflated 11%)\n",
            "  adding: content/train/labels/image (301).txt (deflated 5%)\n",
            "  adding: content/train/labels/image (206).txt (deflated 5%)\n",
            "  adding: content/train/labels/image (558).txt (deflated 16%)\n",
            "  adding: content/train/labels/image (328).txt (deflated 8%)\n",
            "  adding: content/train/labels/image (74).txt (deflated 13%)\n",
            "  adding: content/train/labels/image (145).txt (deflated 5%)\n",
            "  adding: content/train/labels/image (380).txt (deflated 8%)\n",
            "  adding: content/train/labels/image (538).txt (deflated 28%)\n",
            "  adding: content/train/labels/image (556).txt (deflated 8%)\n",
            "  adding: content/train/labels/image (234).txt (deflated 11%)\n",
            "  adding: content/train/labels/image (505).txt (deflated 45%)\n",
            "  adding: content/train/labels/image (624).txt (deflated 47%)\n",
            "  adding: content/train/labels/image (713).txt (deflated 5%)\n",
            "  adding: content/train/labels/image (702).txt (deflated 8%)\n",
            "  adding: content/train/labels/image (259).txt (deflated 5%)\n",
            "  adding: content/train/labels/image (277).txt (deflated 8%)\n",
            "  adding: content/train/labels/image (608).txt (deflated 28%)\n",
            "  adding: content/train/labels/image (16).txt (deflated 8%)\n",
            "  adding: content/train/labels/image (290).txt (deflated 16%)\n",
            "  adding: content/train/labels/image (697).txt (deflated 5%)\n",
            "  adding: content/train/labels/image (577).txt (deflated 5%)\n",
            "  adding: content/train/labels/image (514).txt (deflated 40%)\n",
            "  adding: content/train/labels/image (629).txt (deflated 43%)\n",
            "  adding: content/train/labels/image (684).txt (deflated 48%)\n",
            "  adding: content/train/labels/image (247).txt (deflated 8%)\n",
            "  adding: content/train/labels/image (652).txt (deflated 39%)\n",
            "  adding: content/train/labels/image (598).txt (deflated 30%)\n",
            "  adding: content/train/labels/image (111).txt (deflated 13%)\n",
            "  adding: content/train/labels/image (694).txt (deflated 8%)\n",
            "  adding: content/train/labels/image (27).txt (deflated 5%)\n",
            "  adding: content/train/labels/image (200).txt (deflated 8%)\n",
            "  adding: content/train/labels/image (776).txt (deflated 5%)\n",
            "  adding: content/train/labels/image (695).txt (deflated 5%)\n",
            "  adding: content/train/labels/image (406).txt (deflated 5%)\n",
            "  adding: content/train/labels/image (517).txt (deflated 42%)\n",
            "  adding: content/train/labels/image (232).txt (deflated 5%)\n",
            "  adding: content/train/labels/image (80).txt (deflated 8%)\n",
            "  adding: content/train/labels/image (449).txt (deflated 18%)\n",
            "  adding: content/train/labels/image (89).txt (deflated 13%)\n",
            "  adding: content/train/labels/image (411).txt (deflated 8%)\n",
            "  adding: content/train/labels/image (767).txt (deflated 13%)\n",
            "  adding: content/train/labels/image (542).txt (deflated 13%)\n",
            "  adding: content/train/labels/image (618).txt (deflated 8%)\n",
            "  adding: content/train/labels/image (485).txt (deflated 39%)\n",
            "  adding: content/train/labels/image (573).txt (deflated 8%)\n",
            "  adding: content/train/labels/image (30).txt (deflated 5%)\n",
            "  adding: content/train/labels/image (194).txt (deflated 32%)\n",
            "  adding: content/train/labels/image (360).txt (deflated 21%)\n",
            "  adding: content/train/labels/image (140).txt (deflated 11%)\n",
            "  adding: content/train/labels/image (318).txt (deflated 5%)\n",
            "  adding: content/train/labels/image (181).txt (deflated 11%)\n",
            "  adding: content/train/labels/image (155).txt (deflated 8%)\n",
            "  adding: content/train/labels/image (282).txt (deflated 5%)\n",
            "  adding: content/train/labels/image (84).txt (deflated 11%)\n",
            "  adding: content/train/labels/image (496).txt (deflated 50%)\n",
            "  adding: content/train/labels/image (61).txt (deflated 8%)\n",
            "  adding: content/train/labels/image (35).txt (deflated 11%)\n",
            "  adding: content/train/labels/image (17).txt (deflated 52%)\n",
            "  adding: content/train/labels/image (699).txt (deflated 11%)\n",
            "  adding: content/train/labels/image (688).txt (deflated 39%)\n",
            "  adding: content/train/labels/image (441).txt (deflated 44%)\n",
            "  adding: content/train/labels/image (478).txt (deflated 40%)\n",
            "  adding: content/train/labels/image (452).txt (deflated 5%)\n",
            "  adding: content/train/labels/image (281).txt (deflated 8%)\n",
            "  adding: content/train/labels/image (547).txt (deflated 26%)\n",
            "  adding: content/train/labels/image (118).txt (deflated 13%)\n",
            "  adding: content/train/labels/image (87).txt (deflated 5%)\n",
            "  adding: content/train/labels/image (540).txt (deflated 30%)\n",
            "  adding: content/train/labels/image (650).txt (deflated 40%)\n",
            "  adding: content/train/labels/image (422).txt (deflated 13%)\n",
            "  adding: content/train/labels/image (93).txt (deflated 8%)\n",
            "  adding: content/train/labels/image (12).txt (deflated 24%)\n",
            "  adding: content/train/labels/image (563).txt (deflated 30%)\n",
            "  adding: content/train/labels/image (747).txt (deflated 8%)\n",
            "  adding: content/train/labels/image (751).txt (deflated 5%)\n",
            "  adding: content/train/labels/image (95).txt (deflated 5%)\n",
            "  adding: content/train/labels/image (779).txt (deflated 8%)\n",
            "  adding: content/train/labels/image (208).txt (deflated 5%)\n",
            "  adding: content/train/labels/image (409).txt (deflated 5%)\n",
            "  adding: content/train/labels/image (584).txt (deflated 33%)\n",
            "  adding: content/train/labels/image (316).txt (deflated 11%)\n",
            "  adding: content/train/labels/image (463).txt (deflated 39%)\n",
            "  adding: content/train/labels/image (323).txt (deflated 24%)\n",
            "  adding: content/train/labels/image (600).txt (deflated 28%)\n",
            "  adding: content/train/labels/image (705).txt (deflated 8%)\n",
            "  adding: content/train/labels/image (564).txt (deflated 28%)\n",
            "  adding: content/train/labels/image (254).txt (deflated 13%)\n",
            "  adding: content/train/labels/image (691).txt (deflated 39%)\n",
            "  adding: content/train/labels/image (680).txt (deflated 51%)\n",
            "  adding: content/train/labels/image (566).txt (deflated 8%)\n",
            "  adding: content/train/labels/image (424).txt (deflated 11%)\n",
            "  adding: content/train/labels/image (212).txt (deflated 5%)\n",
            "  adding: content/train/labels/image (799).txt (deflated 21%)\n",
            "  adding: content/train/labels/image (729).txt (deflated 11%)\n",
            "  adding: content/train/labels/image (171).txt (deflated 8%)\n",
            "  adding: content/train/labels/image (101).txt (deflated 5%)\n",
            "  adding: content/train/labels/image (403).txt (deflated 13%)\n",
            "  adding: content/train/labels/image (350).txt (deflated 16%)\n",
            "  adding: content/train/labels/image (377).txt (deflated 13%)\n",
            "  adding: content/train/labels/image (55).txt (deflated 8%)\n",
            "  adding: content/train/labels/image (643).txt (deflated 39%)\n",
            "  adding: content/train/labels/image (562).txt (deflated 28%)\n",
            "  adding: content/train/labels/image (285).txt (deflated 5%)\n",
            "  adding: content/train/labels/image (667).txt (deflated 49%)\n",
            "  adding: content/train/labels/image (326).txt (deflated 11%)\n",
            "  adding: content/train/labels/image (256).txt (deflated 5%)\n",
            "  adding: content/train/labels/image (402).txt (deflated 11%)\n",
            "  adding: content/train/labels/image (644).txt (deflated 40%)\n",
            "  adding: content/train/labels/image (275).txt (deflated 32%)\n",
            "  adding: content/train/labels/image (148).txt (deflated 8%)\n",
            "  adding: content/train/labels/image (757).txt (deflated 5%)\n",
            "  adding: content/train/labels/image (535).txt (deflated 5%)\n",
            "  adding: content/train/labels/image (669).txt (deflated 52%)\n",
            "  adding: content/train/labels/image (544).txt (deflated 8%)\n",
            "  adding: content/train/labels/image (777).txt (deflated 29%)\n",
            "  adding: content/train/labels/image (741).txt (deflated 13%)\n",
            "  adding: content/train/labels/image (114).txt (deflated 11%)\n",
            "  adding: content/train/labels/image (193).txt (deflated 26%)\n",
            "  adding: content/train/labels/image (51).txt (deflated 8%)\n",
            "  adding: content/train/labels/image (569).txt (deflated 8%)\n",
            "  adding: content/train/labels/image (47).txt (deflated 16%)\n",
            "  adding: content/train/labels/image (143).txt (deflated 11%)\n",
            "  adding: content/train/labels/image (762).txt (deflated 16%)\n",
            "  adding: content/train/labels/image (442).txt (deflated 49%)\n",
            "  adding: content/train/labels/image (491).txt (deflated 8%)\n",
            "  adding: content/train/labels/image (536).txt (deflated 30%)\n",
            "  adding: content/train/labels/image (587).txt (deflated 30%)\n",
            "  adding: content/train/labels/image (676).txt (deflated 52%)\n",
            "  adding: content/train/labels/image (268).txt (deflated 32%)\n",
            "  adding: content/train/labels/image (363).txt (deflated 11%)\n",
            "  adding: content/train/labels/image (314).txt (deflated 8%)\n",
            "  adding: content/train/labels/image (58).txt (deflated 8%)\n",
            "  adding: content/train/labels/image (513).txt (deflated 43%)\n",
            "  adding: content/train/labels/image (549).txt (deflated 30%)\n",
            "  adding: content/train/labels/image (462).txt (deflated 39%)\n",
            "  adding: content/train/labels/image (594).txt (deflated 29%)\n",
            "  adding: content/train/labels/image (470).txt (deflated 29%)\n",
            "  adding: content/train/labels/image (196).txt (deflated 5%)\n",
            "  adding: content/train/labels/image (516).txt (deflated 41%)\n",
            "  adding: content/train/labels/image (427).txt (deflated 13%)\n",
            "  adding: content/train/labels/image (606).txt (deflated 28%)\n",
            "  adding: content/train/labels/image (32).txt (deflated 5%)\n",
            "  adding: content/train/labels/image (519).txt (deflated 37%)\n",
            "  adding: content/train/labels/image (149).txt (deflated 11%)\n",
            "  adding: content/train/labels/image (596).txt (deflated 28%)\n",
            "  adding: content/train/labels/image (386).txt (deflated 5%)\n",
            "  adding: content/train/labels/image (129).txt (deflated 8%)\n",
            "  adding: content/train/labels/image (733).txt (deflated 11%)\n",
            "  adding: content/train/labels/image (532).txt (deflated 8%)\n",
            "  adding: content/train/labels/image (220).txt (deflated 8%)\n",
            "  adding: content/train/labels/image (781).txt (deflated 21%)\n",
            "  adding: content/train/labels/image (237).txt (deflated 8%)\n",
            "  adding: content/train/labels/image (432).txt (deflated 11%)\n",
            "  adding: content/train/labels/image (14).txt (deflated 11%)\n",
            "  adding: content/train/labels/image (623).txt (deflated 45%)\n",
            "  adding: content/train/labels/image (668).txt (deflated 46%)\n",
            "  adding: content/train/labels/image (692).txt (deflated 41%)\n",
            "  adding: content/train/labels/image (124).txt (deflated 18%)\n",
            "  adding: content/train/labels/image (295).txt (deflated 8%)\n",
            "  adding: content/train/labels/image (666).txt (deflated 51%)\n",
            "  adding: content/train/labels/image (248).txt (deflated 21%)\n",
            "  adding: content/train/labels/image (396).txt (deflated 5%)\n",
            "  adding: content/train/labels/image (686).txt (deflated 45%)\n",
            "  adding: content/train/labels/image (56).txt (deflated 8%)\n",
            "  adding: content/train/labels/image (743).txt (deflated 11%)\n",
            "  adding: content/train/labels/image (570).txt (deflated 8%)\n",
            "  adding: content/train/labels/image (728).txt (deflated 16%)\n",
            "  adding: content/train/labels/image (122).txt (deflated 8%)\n",
            "  adding: content/train/labels/image (425).txt (deflated 18%)\n",
            "  adding: content/train/labels/image (19).txt (deflated 47%)\n",
            "  adding: content/train/labels/image (545).txt (deflated 5%)\n",
            "  adding: content/train/labels/image (141).txt (deflated 8%)\n",
            "  adding: content/train/labels/image (628).txt (deflated 40%)\n",
            "  adding: content/train/labels/image (459).txt (deflated 60%)\n",
            "  adding: content/train/labels/image (706).txt (deflated 8%)\n",
            "  adding: content/train/labels/image (131).txt (deflated 11%)\n",
            "  adding: content/train/labels/image (20).txt (deflated 8%)\n",
            "  adding: content/train/labels/image (207).txt (deflated 5%)\n",
            "  adding: content/train/labels/image (202).txt (deflated 13%)\n",
            "  adding: content/train/labels/image (401).txt (deflated 5%)\n",
            "  adding: content/train/labels/image (450).txt (deflated 18%)\n",
            "  adding: content/train/labels/image (619).txt (deflated 32%)\n",
            "  adding: content/train/labels/image (211).txt (deflated 13%)\n",
            "  adding: content/train/labels/image (86).txt (deflated 21%)\n",
            "  adding: content/train/labels/image (786).txt (deflated 28%)\n",
            "  adding: content/train/labels/image (472).txt (deflated 39%)\n",
            "  adding: content/train/labels/image (9).txt (deflated 11%)\n",
            "  adding: content/train/labels/image (657).txt (deflated 47%)\n",
            "  adding: content/train/labels/image (793).txt (deflated 11%)\n",
            "  adding: content/train/labels/image (775).txt (deflated 18%)\n",
            "  adding: content/train/labels/image (487).txt (deflated 39%)\n",
            "  adding: content/train/labels/image (71).txt (deflated 8%)\n",
            "  adding: content/train/labels/image (797).txt (deflated 21%)\n",
            "  adding: content/train/labels/image (70).txt (deflated 11%)\n",
            "  adding: content/train/labels/image (116).txt (deflated 5%)\n",
            "  adding: content/train/labels/image (267).txt (deflated 21%)\n",
            "  adding: content/train/labels/image (104).txt (deflated 11%)\n",
            "  adding: content/train/labels/image (92).txt (deflated 11%)\n",
            "  adding: content/train/labels/image (271).txt (deflated 32%)\n",
            "  adding: content/train/labels/image (284).txt (deflated 5%)\n",
            "  adding: content/train/labels/image (724).txt (deflated 8%)\n",
            "  adding: content/train/labels/image (315).txt (deflated 18%)\n",
            "  adding: content/train/labels/image (270).txt (deflated 24%)\n",
            "  adding: content/train/labels/image (482).txt (deflated 38%)\n",
            "  adding: content/train/labels/image (349).txt (deflated 11%)\n",
            "  adding: content/train/labels/image (473).txt (deflated 40%)\n",
            "  adding: content/train/labels/image (300).txt (deflated 11%)\n",
            "  adding: content/train/labels/image (205).txt (deflated 13%)\n",
            "  adding: content/train/labels/image (578).txt (deflated 13%)\n",
            "  adding: content/train/labels/image (730).txt (deflated 16%)\n",
            "  adding: content/train/labels/image (31).txt (deflated 5%)\n",
            "  adding: content/train/labels/image (199).txt (deflated 11%)\n",
            "  adding: content/train/labels/image (1).txt (deflated 8%)\n",
            "  adding: content/train/labels/image (438).txt (deflated 47%)\n",
            "  adding: content/train/labels/image (373).txt (deflated 18%)\n",
            "  adding: content/train/labels/image (638).txt (deflated 39%)\n",
            "  adding: content/train/labels/image (53).txt (deflated 8%)\n",
            "  adding: content/train/labels/image (613).txt (deflated 26%)\n",
            "  adding: content/train/labels/image (521).txt (deflated 38%)\n",
            "  adding: content/train/labels/image (233).txt (deflated 13%)\n",
            "  adding: content/train/labels/image (37).txt (deflated 13%)\n",
            "  adding: content/train/labels/image (791).txt (deflated 11%)\n",
            "  adding: content/train/labels/image (359).txt (deflated 13%)\n",
            "  adding: content/train/labels/image (227).txt (deflated 13%)\n",
            "  adding: content/train/labels/image (157).txt (deflated 11%)\n",
            "  adding: content/train/labels/image (209).txt (deflated 8%)\n",
            "  adding: content/train/labels/image (347).txt (deflated 18%)\n",
            "  adding: content/train/labels/image (508).txt (deflated 39%)\n",
            "  adding: content/train/labels/image (336).txt (deflated 18%)\n",
            "  adding: content/train/labels/image (511).txt (deflated 42%)\n",
            "  adding: content/train/labels/image (91).txt (deflated 18%)\n",
            "  adding: content/train/labels/image (430).txt (deflated 8%)\n",
            "  adding: content/train/labels/image (44).txt (deflated 8%)\n",
            "  adding: content/train/labels/image (147).txt (deflated 5%)\n",
            "  adding: content/train/labels/image (204).txt (deflated 18%)\n",
            "  adding: content/train/labels/image (120).txt (deflated 11%)\n",
            "  adding: content/train/labels/image (302).txt (deflated 8%)\n",
            "  adding: content/train/labels/image (365).txt (deflated 13%)\n",
            "  adding: content/train/labels/image (639).txt (deflated 39%)\n",
            "  adding: content/train/labels/image (334).txt (deflated 21%)\n",
            "  adding: content/train/labels/image (466).txt (deflated 39%)\n",
            "  adding: content/train/labels/image (492).txt (deflated 18%)\n",
            "  adding: content/train/labels/image (460).txt (deflated 59%)\n",
            "  adding: content/train/labels/image (260).txt (deflated 26%)\n",
            "  adding: content/train/labels/image (528).txt (deflated 5%)\n",
            "  adding: content/train/labels/image (168).txt (deflated 16%)\n",
            "  adding: content/train/labels/image (218).txt (deflated 5%)\n",
            "  adding: content/train/labels/image (423).txt (deflated 8%)\n",
            "  adding: content/train/labels/image (230).txt (deflated 5%)\n",
            "  adding: content/train/labels/image (609).txt (deflated 30%)\n",
            "  adding: content/train/labels/image (136).txt (deflated 5%)\n",
            "  adding: content/train/labels/image (631).txt (deflated 45%)\n",
            "  adding: content/train/labels/image (464).txt (deflated 39%)\n",
            "  adding: content/train/labels/image (474).txt (deflated 39%)\n",
            "  adding: content/train/labels/image (490).txt (deflated 11%)\n",
            "  adding: content/train/labels/image (42).txt (deflated 21%)\n",
            "  adding: content/train/labels/image (568).txt (deflated 16%)\n",
            "  adding: content/train/labels/image (682).txt (deflated 45%)\n",
            "  adding: content/train/labels/image (164).txt (deflated 8%)\n",
            "  adding: content/train/labels/image (445).txt (deflated 8%)\n",
            "  adding: content/train/labels/image (574).txt (deflated 13%)\n",
            "  adding: content/train/labels/image (189).txt (deflated 16%)\n",
            "  adding: content/train/labels/image (683).txt (deflated 43%)\n",
            "  adding: content/train/labels/image (642).txt (deflated 40%)\n",
            "  adding: content/train/labels/image (125).txt (deflated 18%)\n",
            "  adding: content/train/labels/image (338).txt (deflated 11%)\n",
            "  adding: content/train/labels/image (457).txt (deflated 57%)\n",
            "  adding: content/train/labels/image (367).txt (deflated 21%)\n",
            "  adding: content/train/labels/image (262).txt (deflated 13%)\n",
            "  adding: content/train/labels/image (506).txt (deflated 41%)\n",
            "  adding: content/train/labels/image (575).txt (deflated 13%)\n",
            "  adding: content/train/labels/image (299).txt (deflated 21%)\n",
            "  adding: content/train/labels/image (585).txt (deflated 30%)\n",
            "  adding: content/train/labels/image (115).txt (deflated 5%)\n",
            "  adding: content/train/labels/image (348).txt (deflated 16%)\n",
            "  adding: content/train/labels/image (269).txt (deflated 8%)\n",
            "  adding: content/train/labels/image (309).txt (deflated 5%)\n",
            "  adding: content/train/labels/image (796).txt (deflated 13%)\n",
            "  adding: content/train/labels/image (595).txt (deflated 30%)\n",
            "  adding: content/train/labels/image (620).txt (deflated 8%)\n",
            "  adding: content/train/labels/image (215).txt (deflated 13%)\n",
            "  adding: content/train/labels/image (66).txt (deflated 8%)\n",
            "  adding: content/train/labels/image (24).txt (deflated 40%)\n",
            "  adding: content/train/labels/image (654).txt (deflated 45%)\n",
            "  adding: content/train/labels/image (150).txt (deflated 11%)\n",
            "  adding: content/train/labels/image (437).txt (deflated 50%)\n",
            "  adding: content/train/labels/image (342).txt (deflated 5%)\n",
            "  adding: content/train/labels/image (717).txt (deflated 8%)\n",
            "  adding: content/train/labels/image (235).txt (deflated 8%)\n",
            "  adding: content/train/labels/image (352).txt (deflated 28%)\n",
            "  adding: content/train/labels/image (525).txt (deflated 18%)\n",
            "  adding: content/train/labels/image (11).txt (deflated 11%)\n",
            "  adding: content/train/labels/image (312).txt (deflated 13%)\n",
            "  adding: content/train/labels/image (221).txt (deflated 8%)\n",
            "  adding: content/train/labels/image (238).txt (deflated 5%)\n",
            "  adding: content/train/labels/image (177).txt (deflated 16%)\n",
            "  adding: content/train/labels/image (187).txt (deflated 16%)\n",
            "  adding: content/train/labels/image (754).txt (deflated 8%)\n",
            "  adding: content/train/labels/image (655).txt (deflated 39%)\n",
            "  adding: content/train/labels/image (276).txt (deflated 11%)\n",
            "  adding: content/train/labels/image (332).txt (deflated 29%)\n",
            "  adding: content/train/labels/image (541).txt (deflated 32%)\n",
            "  adding: content/train/labels/image (461).txt (deflated 55%)\n",
            "  adding: content/train/labels/image (448).txt (deflated 5%)\n",
            "  adding: content/train/labels/image (507).txt (deflated 44%)\n",
            "  adding: content/train/labels/image (557).txt (deflated 13%)\n",
            "  adding: content/train/labels/image (139).txt (deflated 8%)\n",
            "  adding: content/train/labels/image (203).txt (deflated 18%)\n",
            "  adding: content/train/labels/image (190).txt (deflated 11%)\n",
            "  adding: content/train/labels/image (132).txt (deflated 11%)\n",
            "  adding: content/train/labels/image (133).txt (deflated 8%)\n",
            "  adding: content/train/labels/image (398).txt (deflated 8%)\n",
            "  adding: content/train/labels/image (715).txt (deflated 18%)\n",
            "  adding: content/train/labels/image (465).txt (deflated 39%)\n",
            "  adding: content/train/labels/image (603).txt (deflated 28%)\n",
            "  adding: content/train/labels/image (216).txt (deflated 5%)\n",
            "  adding: content/train/labels/image (165).txt (deflated 5%)\n",
            "  adding: content/train/labels/image (622).txt (deflated 26%)\n",
            "  adding: content/train/labels/image (294).txt (deflated 32%)\n",
            "  adding: content/train/labels/image (670).txt (deflated 48%)\n",
            "  adding: content/train/labels/image (64).txt (deflated 8%)\n",
            "  adding: content/train/labels/image (526).txt (deflated 11%)\n",
            "  adding: content/train/labels/image (186).txt (deflated 28%)\n",
            "  adding: content/train/labels/image (591).txt (deflated 28%)\n",
            "  adding: content/train/labels/image (330).txt (deflated 24%)\n",
            "  adding: content/train/labels/image (43).txt (deflated 16%)\n",
            "  adding: content/train/labels/image (416).txt (deflated 11%)\n",
            "  adding: content/train/labels/image (119).txt (deflated 5%)\n",
            "  adding: content/train/labels/image (632).txt (deflated 43%)\n",
            "  adding: content/train/labels/image (154).txt (deflated 16%)\n",
            "  adding: content/train/labels/image (486).txt (deflated 40%)\n",
            "  adding: content/train/labels/image (135).txt (deflated 13%)\n",
            "  adding: content/train/labels/image (468).txt (deflated 39%)\n",
            "  adding: content/train/labels/image (385).txt (deflated 5%)\n",
            "  adding: content/train/labels/image (41).txt (deflated 13%)\n",
            "  adding: content/train/labels/image (580).txt (deflated 13%)\n",
            "  adding: content/train/labels/image (286).txt (deflated 18%)\n",
            "  adding: content/train/labels/image (244).txt (deflated 16%)\n",
            "  adding: content/train/labels/image (48).txt (deflated 11%)\n",
            "  adding: content/train/labels/image (484).txt (deflated 39%)\n",
            "  adding: content/train/labels/image (446).txt (deflated 11%)\n",
            "  adding: content/train/labels/image (588).txt (deflated 30%)\n",
            "  adding: content/train/labels/image (339).txt (deflated 8%)\n",
            "  adding: content/train/labels/image (483).txt (deflated 40%)\n",
            "  adding: content/train/labels/image (534).txt (deflated 13%)\n",
            "  adding: content/train/labels/image (68).txt (deflated 5%)\n",
            "  adding: content/train/labels/image (345).txt (deflated 21%)\n",
            "  adding: content/train/labels/image (773).txt (deflated 5%)\n",
            "  adding: content/train/labels/image (458).txt (deflated 60%)\n",
            "  adding: content/train/labels/image (298).txt (deflated 8%)\n",
            "  adding: content/train/labels/image (431).txt (deflated 16%)\n",
            "  adding: content/train/labels/image (685).txt (deflated 46%)\n",
            "  adding: content/train/labels/image (709).txt (deflated 18%)\n",
            "  adding: content/train/labels/image (731).txt (deflated 11%)\n",
            "  adding: content/train/labels/image (714).txt (deflated 13%)\n",
            "  adding: content/train/labels/image (138).txt (deflated 8%)\n",
            "  adding: content/train/labels/image (581).txt (deflated 8%)\n",
            "  adding: content/train/labels/image (192).txt (deflated 11%)\n",
            "  adding: content/train/labels/image (343).txt (deflated 11%)\n",
            "  adding: content/train/labels/image (317).txt (deflated 16%)\n",
            "  adding: content/train/labels/image (36).txt (deflated 5%)\n",
            "  adding: content/train/labels/image (108).txt (deflated 8%)\n",
            "  adding: content/train/labels/image (518).txt (deflated 38%)\n",
            "  adding: content/train/labels/image (369).txt (deflated 13%)\n",
            "  adding: content/train/labels/image (586).txt (deflated 26%)\n",
            "  adding: content/train/labels/image (605).txt (deflated 25%)\n",
            "  adding: content/train/labels/image (103).txt (deflated 8%)\n",
            "  adding: content/train/labels/image (736).txt (deflated 51%)\n",
            "  adding: content/train/labels/image (146).txt (deflated 5%)\n",
            "  adding: content/train/labels/image (153).txt (deflated 11%)\n",
            "  adding: content/train/labels/image (476).txt (deflated 38%)\n",
            "  adding: content/train/labels/image (510).txt (deflated 46%)\n",
            "  adding: content/train/labels/image (800).txt (deflated 13%)\n",
            "  adding: content/train/labels/image (142).txt (deflated 13%)\n",
            "  adding: content/train/labels/image (477).txt (deflated 29%)\n",
            "  adding: content/train/labels/image (59).txt (deflated 8%)\n",
            "  adding: content/train/labels/image (429).txt (deflated 11%)\n",
            "  adding: content/train/labels/image (543).txt (deflated 5%)\n",
            "  adding: content/train/labels/image (495).txt (deflated 11%)\n",
            "  adding: content/train/labels/image (98).txt (deflated 13%)\n",
            "  adding: content/train/labels/image (417).txt (deflated 8%)\n",
            "  adding: content/train/labels/image (651).txt (deflated 39%)\n",
            "  adding: content/train/labels/image (182).txt (deflated 18%)\n",
            "  adding: content/train/labels/image (571).txt (deflated 8%)\n",
            "  adding: content/train/labels/image (727).txt (deflated 5%)\n",
            "  adding: content/train/labels/image (679).txt (deflated 50%)\n",
            "  adding: content/train/labels/image (640).txt (deflated 39%)\n",
            "  adding: content/train/labels/image (760).txt (deflated 11%)\n",
            "  adding: content/train/labels/image (504).txt (deflated 47%)\n",
            "  adding: content/train/labels/image (392).txt (deflated 11%)\n",
            "  adding: content/train/labels/image (551).txt (deflated 11%)\n",
            "  adding: content/train/labels/image (346).txt (deflated 16%)\n",
            "  adding: content/train/labels/image (112).txt (deflated 11%)\n",
            "  adding: content/train/labels/image (13).txt (deflated 11%)\n",
            "  adding: content/train/labels/image (739).txt (deflated 16%)\n",
            "  adding: content/train/labels/image (648).txt (deflated 29%)\n",
            "  adding: content/train/labels/image (4).txt (deflated 30%)\n",
            "  adding: content/train/labels/image (769).txt (deflated 21%)\n",
            "  adding: content/train/labels/image (162).txt (deflated 13%)\n",
            "  adding: content/train/labels/image (353).txt (deflated 8%)\n",
            "  adding: content/train/labels/image (40).txt (deflated 8%)\n",
            "  adding: content/train/labels/image (243).txt (deflated 18%)\n",
            "  adding: content/train/labels/image (689).txt (deflated 43%)\n",
            "  adding: content/train/labels/image (393).txt (deflated 8%)\n",
            "  adding: content/train/labels/image (711).txt (deflated 11%)\n",
            "  adding: content/train/labels/image (358).txt (deflated 11%)\n",
            "  adding: content/train/labels/image (172).txt (deflated 21%)\n",
            "  adding: content/train/labels/image (45).txt (deflated 13%)\n",
            "  adding: content/train/labels/image (5).txt (deflated 5%)\n",
            "  adding: content/train/labels/image (493).txt (deflated 21%)\n",
            "  adding: content/train/labels/image (761).txt (deflated 16%)\n",
            "  adding: content/train/labels/image (384).txt (deflated 16%)\n",
            "  adding: content/train/labels/image (10).txt (deflated 13%)\n",
            "  adding: content/train/labels/image (179).txt (deflated 8%)\n",
            "  adding: content/train/labels/image (337).txt (deflated 8%)\n",
            "  adding: content/train/labels/image (758).txt (deflated 32%)\n",
            "  adding: content/train/labels/image (698).txt (deflated 5%)\n",
            "  adding: content/train/labels/image (49).txt (deflated 13%)\n",
            "  adding: content/train/labels/image (611).txt (deflated 26%)\n",
            "  adding: content/train/labels/image (646).txt (deflated 39%)\n",
            "  adding: content/train/labels/image (121).txt (deflated 18%)\n",
            "  adding: content/train/labels/image (246).txt (deflated 8%)\n",
            "  adding: content/train/labels/image (245).txt (deflated 16%)\n",
            "  adding: content/train/labels/image (99).txt (deflated 8%)\n",
            "  adding: content/train/labels/image (236).txt (deflated 11%)\n",
            "  adding: content/train/labels/image (784).txt (deflated 42%)\n",
            "  adding: content/train/labels/image (252).txt (deflated 5%)\n",
            "  adding: content/train/labels/image (173).txt (deflated 11%)\n",
            "  adding: content/train/labels/image (176).txt (deflated 5%)\n",
            "  adding: content/train/labels/image (750).txt (deflated 21%)\n",
            "  adding: content/train/labels/image (134).txt (deflated 8%)\n",
            "  adding: content/train/labels/image (604).txt (deflated 30%)\n",
            "  adding: content/train/labels/image (23).txt (deflated 40%)\n",
            "  adding: content/train/labels/image (630).txt (deflated 44%)\n",
            "  adding: content/train/labels/image (533).txt (deflated 11%)\n",
            "  adding: content/train/labels/image (356).txt (deflated 13%)\n",
            "  adding: content/train/labels/image (321).txt (deflated 11%)\n",
            "  adding: content/train/labels/image (497).txt (deflated 44%)\n",
            "  adding: content/train/labels/image (97).txt (deflated 5%)\n",
            "  adding: content/train/labels/image (627).txt (deflated 47%)\n",
            "  adding: content/train/labels/image (319).txt (deflated 18%)\n",
            "  adding: content/train/labels/image (501).txt (deflated 43%)\n",
            "  adding: content/train/labels/image (790).txt (deflated 8%)\n",
            "  adding: content/train/labels/image (291).txt (deflated 5%)\n",
            "  adding: content/train/labels/image (539).txt (deflated 28%)\n",
            "  adding: content/train/labels/image (261).txt (deflated 8%)\n",
            "  adding: content/train/labels/image (8).txt (deflated 16%)\n",
            "  adding: content/train/labels/image (333).txt (deflated 33%)\n",
            "  adding: content/train/labels/image (607).txt (deflated 28%)\n",
            "  adding: content/train/labels/image (768).txt (deflated 18%)\n",
            "  adding: content/train/labels/image (183).txt (deflated 8%)\n",
            "  adding: content/train/labels/image (592).txt (deflated 28%)\n",
            "  adding: content/train/labels/image (72).txt (deflated 13%)\n",
            "  adding: content/train/labels/image (78).txt (deflated 8%)\n",
            "  adding: content/train/labels/image (231).txt (deflated 13%)\n",
            "  adding: content/train/labels/image (242).txt (deflated 8%)\n",
            "  adding: content/train/labels/image (278).txt (deflated 5%)\n",
            "  adding: content/train/labels/image (770).txt (deflated 41%)\n",
            "  adding: content/train/labels/image (789).txt (deflated 8%)\n",
            "  adding: content/train/labels/image (335).txt (deflated 8%)\n",
            "  adding: content/train/labels/image (453).txt (deflated 13%)\n",
            "  adding: content/train/labels/image (572).txt (deflated 5%)\n",
            "  adding: content/train/labels/image (475).txt (deflated 29%)\n",
            "  adding: content/train/labels/image (355).txt (deflated 11%)\n",
            "  adding: content/train/labels/image (327).txt (deflated 21%)\n",
            "  adding: content/train/labels/image (381).txt (deflated 11%)\n",
            "  adding: content/train/labels/image (523).txt (deflated 38%)\n",
            "  adding: content/train/labels/image (250).txt (deflated 11%)\n",
            "  adding: content/train/labels/image (434).txt (deflated 50%)\n",
            "  adding: content/train/labels/image (378).txt (deflated 8%)\n",
            "  adding: content/train/labels/image (376).txt (deflated 13%)\n",
            "  adding: content/train/labels/image (169).txt (deflated 18%)\n",
            "  adding: content/train/labels/image (531).txt (deflated 5%)\n",
            "  adding: content/train/labels/image (399).txt (deflated 5%)\n",
            "  adding: content/train/labels/image (675).txt (deflated 50%)\n",
            "  adding: content/train/labels/image (726).txt (deflated 8%)\n",
            "  adding: content/train/labels/image (67).txt (deflated 5%)\n",
            "  adding: content/train/labels/image (79).txt (deflated 18%)\n",
            "  adding: content/train/labels/image (3).txt (deflated 28%)\n",
            "  adding: content/train/labels/image (772).txt (deflated 11%)\n",
            "  adding: content/train/labels/image (69).txt (deflated 11%)\n",
            "  adding: content/train/labels/image (439).txt (deflated 53%)\n",
            "  adding: content/train/labels/image (494).txt (deflated 5%)\n",
            "  adding: content/train/labels.cache (deflated 71%)\n"
          ]
        }
      ],
      "source": [
        "!zip -r content.zip /content"
      ]
    }
  ],
  "metadata": {
    "accelerator": "GPU",
    "colab": {
      "gpuType": "T4",
      "provenance": []
    },
    "kernelspec": {
      "display_name": "Python 3",
      "name": "python3"
    },
    "language_info": {
      "name": "python"
    }
  },
  "nbformat": 4,
  "nbformat_minor": 0
}
