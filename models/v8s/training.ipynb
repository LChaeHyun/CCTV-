{
 "cells": [
  {
   "cell_type": "code",
   "execution_count": 1,
   "id": "ed6cf28c",
   "metadata": {},
   "outputs": [
    {
     "name": "stdout",
     "output_type": "stream",
     "text": [
      "현재 디렉토리: /raid/coss27\n"
     ]
    }
   ],
   "source": [
    "import os\n",
    "\n",
    "current_directory = os.getcwd()\n",
    "print(\"현재 디렉토리:\", current_directory)"
   ]
  },
  {
   "cell_type": "code",
   "execution_count": 2,
   "id": "5d8da0c2",
   "metadata": {},
   "outputs": [
    {
     "name": "stdout",
     "output_type": "stream",
     "text": [
      "Archive:  add_smoke_data.zip\n",
      "  inflating: ./add_smoke_data/data.yaml  \n",
      "  inflating: ./add_smoke_data/README.dataset.txt  \n",
      "  inflating: ./add_smoke_data/README.roboflow.txt  \n",
      "   creating: ./add_smoke_data/test/\n",
      "   creating: ./add_smoke_data/test/images/\n",
      "  inflating: ./add_smoke_data/test/images/884_jpg.rf.3c29a5ea5a1860834ca6dd4f6762d041.jpg  \n",
      "  inflating: ./add_smoke_data/test/images/fire_test_img_115_jpg.rf.736604c6970f4b7b5eec69873126760e.jpg  \n",
      "  inflating: ./add_smoke_data/test/images/fire_test_img_135_jpg.rf.832c744150cde84ab8fd26249fe20a20.jpg  \n",
      "  inflating: ./add_smoke_data/test/images/fire_test_img_242_jpg.rf.c93a4c549e15f5b2a230de2987eed5a4.jpg  \n",
      "  inflating: ./add_smoke_data/test/images/fire_test_img_245_jpg.rf.16e78b332e48ab8ab6beca1fa1003b1b.jpg  \n",
      "  inflating: ./add_smoke_data/test/images/fire_test_img_262_jpg.rf.5dba70aefbb6d4a89892600ea6efaf52.jpg  \n",
      "  inflating: ./add_smoke_data/test/images/fire_train_img_398_jpg.rf.0bfb75464d50502ebb89343258555a95.jpg  \n",
      "  inflating: ./add_smoke_data/test/images/fire_train_img_429_jpg.rf.556c8a83252c79490f075c599a36b3ca.jpg  \n",
      "  inflating: ./add_smoke_data/test/images/fire_train_img_432_jpg.rf.0438badbe5348b91a99e97d8eaf66ee7.jpg  \n",
      "  inflating: ./add_smoke_data/test/images/fire_train_img_454_jpg.rf.0cad81f1b1546756776b6e33322df193.jpg  \n",
      "  inflating: ./add_smoke_data/test/images/fire_train_img_610_jpg.rf.ae9874f65aa4528f2a0c9716debe1703.jpg  \n",
      "  inflating: ./add_smoke_data/test/images/fire_train_img_628_jpg.rf.b54c8bb7479eb17a7b911c36f9eec512.jpg  \n",
      "  inflating: ./add_smoke_data/test/images/fire_train_img_632_jpg.rf.498b3df19c73135246a95863643a1c22.jpg  \n",
      "  inflating: ./add_smoke_data/test/images/fire_train_img_723_jpg.rf.90a0e45141129361f3b1787dd74d0cbd.jpg  \n",
      "  inflating: ./add_smoke_data/test/images/fire_train_img_735_jpg.rf.2415a8062a760a12ac812db73322df36.jpg  \n",
      "  inflating: ./add_smoke_data/test/images/fire_train_img_738_jpg.rf.3ce0e40c2c83498807aceda18461a953.jpg  \n",
      "  inflating: ./add_smoke_data/test/images/fire_train_img_754_jpg.rf.def6b9a48c0a8a08f2a7f57fc2091670.jpg  \n",
      "  inflating: ./add_smoke_data/test/images/fire_train_img_764_jpg.rf.838408b685bb39ffb061fab3298431c9.jpg  \n",
      "  inflating: ./add_smoke_data/test/images/fire_train_img_772_jpg.rf.649bd5299f5a5887f2a7c190d59341a5.jpg  \n",
      "  inflating: ./add_smoke_data/test/images/fire_train_img_779_jpg.rf.a93686c136abe3f14d7ba1a761e569a7.jpg  \n",
      "  inflating: ./add_smoke_data/test/images/fire_train_img_83_jpg.rf.e4e0b136256f5581e830d4a444efc72a.jpg  \n",
      "  inflating: ./add_smoke_data/test/images/fires-29-_jpg.rf.b84f03d8e335b505bdd36135704371bf.jpg  \n",
      "  inflating: ./add_smoke_data/test/images/fires-90-_jpg.rf.37607d542d06a5482c13628a35c87168.jpg  \n",
      "  inflating: ./add_smoke_data/test/images/H_00980_png.rf.d99b946ae3bee8044b6f063ec0bad686.jpg  \n",
      "  inflating: ./add_smoke_data/test/images/H_02449_png.rf.ad0ebad2d57cc811018060a8b3eccfa2.jpg  \n",
      "  inflating: ./add_smoke_data/test/images/H_03194_png.rf.84ed4f4d26df779db6e71566da912ec3.jpg  \n",
      "  inflating: ./add_smoke_data/test/images/H_03717_png.rf.2a8988a97329882cbe095f8c533479f0.jpg  \n",
      "  inflating: ./add_smoke_data/test/images/H_05792_png.rf.c55587b3542b12aec5392ce302e60b56.jpg  \n",
      "  inflating: ./add_smoke_data/test/images/H_06037_png.rf.950e10500077dee8dda88b64e2accfc1.jpg  \n",
      "  inflating: ./add_smoke_data/test/images/image-151-_jpg.rf.f5693554a1ac6947346e908192811a23.jpg  \n",
      "  inflating: ./add_smoke_data/test/images/image-174-_jpg.rf.0a8d4703b622b05deb03b5a764e78ed5.jpg  \n",
      "  inflating: ./add_smoke_data/test/images/image-180-_jpg.rf.2a6039d9a4a8d30eb8254d480e957489.jpg  \n",
      "  inflating: ./add_smoke_data/test/images/image-198-_jpg.rf.70ab522cd00d18dee0a2fe00f6743439.jpg  \n",
      "  inflating: ./add_smoke_data/test/images/image-23-_jpg.rf.eb26d61911af20e7768cba7a294250ff.jpg  \n",
      "  inflating: ./add_smoke_data/test/images/image-239-_jpg.rf.c161f36836abf6c506dbf0c5cd0408e8.jpg  \n",
      "  inflating: ./add_smoke_data/test/images/image-248-_jpg.rf.cbe212b25245304983e8076ad15f239f.jpg  \n",
      "  inflating: ./add_smoke_data/test/images/image-259-_jpg.rf.49e3a3ccc8ba947ddbdfc6423ad3f4b5.jpg  \n",
      "  inflating: ./add_smoke_data/test/images/image-267-_jpg.rf.9bb28e117dae0f7e56bf4a002893458d.jpg  \n",
      "  inflating: ./add_smoke_data/test/images/image-268-_jpg.rf.5034ab6794e7cb7a579e0c76ec57b400.jpg  \n",
      "  inflating: ./add_smoke_data/test/images/image-285-_jpg.rf.f3a69098d26f8408d04548b2dde25a7c.jpg  \n",
      "  inflating: ./add_smoke_data/test/images/image-289-_jpg.rf.9d0eed7f8cec314c5feee83467d6ec4a.jpg  \n",
      "  inflating: ./add_smoke_data/test/images/image-317-_jpg.rf.eb60f32f42c1b845d0d05cc8d1d8a8b3.jpg  \n",
      "  inflating: ./add_smoke_data/test/images/image-328-_jpg.rf.294d84bcef48e778973a6b0ba3e3a844.jpg  \n",
      "  inflating: ./add_smoke_data/test/images/image-340-_jpg.rf.4fdb26c00925da43e9361e9b1aef3029.jpg  \n",
      "  inflating: ./add_smoke_data/test/images/image-367-_jpg.rf.bcd1908b3ef1d8d4c3242e0b15632bc9.jpg  \n",
      "  inflating: ./add_smoke_data/test/images/image-394-_jpg.rf.1a795e3426e6da4cc7da8a0ae3e12492.jpg  \n",
      "  inflating: ./add_smoke_data/test/images/image-426-_jpg.rf.5a8f5e3f1286706b3708b0d8bf432a25.jpg  \n",
      "  inflating: ./add_smoke_data/test/images/image-435-_jpg.rf.72a7ba5c1deb0e2ec84fa2f90f823ae4.jpg  \n",
      "  inflating: ./add_smoke_data/test/images/image-445-_jpg.rf.f56c44f0208b59e05800157f07691ab6.jpg  \n",
      "  inflating: ./add_smoke_data/test/images/image-496-_jpg.rf.cc3aeb55b2f156eb832e1cea4b4dd63d.jpg  \n",
      "  inflating: ./add_smoke_data/test/images/image-513-_jpg.rf.75516a84bbdb4da631f3c50c443a5e01.jpg  \n",
      "  inflating: ./add_smoke_data/test/images/image-521-_jpg.rf.a080fe12fe9af2098589bf99e24135c2.jpg  \n",
      "  inflating: ./add_smoke_data/test/images/image-532-_jpg.rf.ff9ab4bb44721cbf0d363ad283f1820f.jpg  \n",
      "  inflating: ./add_smoke_data/test/images/image-540-_jpg.rf.047033c4ba2817b42a6ceac7d4721de7.jpg  \n",
      "  inflating: ./add_smoke_data/test/images/image-543-_jpg.rf.7e617bf16e63d4962bac1745f3ec6cdc.jpg  \n",
      "  inflating: ./add_smoke_data/test/images/image-563-_jpg.rf.6f98f10a15ae358fb9e51f930bfcb343.jpg  \n",
      "  inflating: ./add_smoke_data/test/images/image-567-_jpg.rf.e755efb22889f65d0848acf26d4c531d.jpg  \n",
      "  inflating: ./add_smoke_data/test/images/image-633-_jpg.rf.eda9835b15e95b2f8b8e24f8fab6289f.jpg  \n",
      "  inflating: ./add_smoke_data/test/images/image-643-_jpg.rf.99ed68fc1dcbd99e69c3bb7c891b70fc.jpg  \n",
      "  inflating: ./add_smoke_data/test/images/image-684-_jpg.rf.874571c3ac90c24c0aa2346c947513c9.jpg  \n",
      "  inflating: ./add_smoke_data/test/images/image-694-_jpg.rf.e98d042a59e9f9644607e206cab4e9b1.jpg  \n",
      "  inflating: ./add_smoke_data/test/images/image-728-_jpg.rf.7f4bf174f51a40f2faa6fb28ef64913c.jpg  \n",
      "  inflating: ./add_smoke_data/test/images/image-735-_jpg.rf.6eb2b465aecd56d564fb88002e57fa5d.jpg  \n",
      "  inflating: ./add_smoke_data/test/images/image-759-_jpg.rf.b2979dcf9d2a14acce8c38e1fdaddbf7.jpg  \n",
      "  inflating: ./add_smoke_data/test/images/image-770-_jpg.rf.69483d0d9ddc49b4c6791e3838d9a80f.jpg  \n",
      "  inflating: ./add_smoke_data/test/images/image-774-_jpg.rf.d7803a4653301155f6bc57261fc6d6b4.jpg  \n",
      "  inflating: ./add_smoke_data/test/images/image-80-_jpg.rf.a0c90db3e1247d0e9c139518aeaa24ac.jpg  \n",
      "  inflating: ./add_smoke_data/test/images/image-838-_jpg.rf.ddb61450b7c0d3b9a120f569785b5be3.jpg  \n",
      "  inflating: ./add_smoke_data/test/images/image-846-_jpg.rf.f80ff2684b8dbb0421a7e62cb48abe7a.jpg  \n",
      "  inflating: ./add_smoke_data/test/images/image-859-_jpg.rf.d82c1a7fb8b84e47bcc75db1164d6c44.jpg  \n",
      "  inflating: ./add_smoke_data/test/images/image-873-_jpg.rf.c2c1149a47b72b4eca3f39fc4decd06d.jpg  \n",
      "  inflating: ./add_smoke_data/test/images/image-896-_jpg.rf.d702213848dd53f171b5d7aa8e6d05dd.jpg  \n",
      "  inflating: ./add_smoke_data/test/images/image-947-_jpg.rf.5cee207acf6811e49a11261d023ed32a.jpg  \n",
      "  inflating: ./add_smoke_data/test/images/image-976-_jpg.rf.60b4f97fa07d40dbbfe302b0f14a4b11.jpg  \n",
      "  inflating: ./add_smoke_data/test/images/images4-11-_jpg.rf.56d4076f90b86a518ee7d43d39d4beb7.jpg  \n",
      "  inflating: ./add_smoke_data/test/images/images4-159-_jpg.rf.e3385c2c34d56b6a14785d334671bda6.jpg  \n",
      "  inflating: ./add_smoke_data/test/images/images4-176-_jpg.rf.0b0c6936869aec5cf00831b7923437b3.jpg  \n",
      "  inflating: ./add_smoke_data/test/images/images4-183-_jpg.rf.c208c72576ea985d19a54a0791fcbbf1.jpg  \n",
      "  inflating: ./add_smoke_data/test/images/images4-184-_jpg.rf.f8c5ba5a2cb3030f1e5dd61b5c8d341d.jpg  \n",
      "  inflating: ./add_smoke_data/test/images/images4-43-_jpg.rf.1fbb0d308ef4308b7d92efd013bba238.jpg  \n",
      "  inflating: ./add_smoke_data/test/images/images4-58-_jpg.rf.1c5d5011d570bb196a46f02f17636268.jpg  \n",
      "  inflating: ./add_smoke_data/test/images/images4-59-_jpg.rf.8e1228ce5ed49edc334bc5979f1c4f3d.jpg  \n",
      "  inflating: ./add_smoke_data/test/images/images4-67-_jpg.rf.ab409cf0cbca183da2974ce4202bf15f.jpg  \n",
      "  inflating: ./add_smoke_data/test/images/images4-91-_jpg.rf.528fa0b2d9c44bb38843c2043cda4c68.jpg  \n",
      "  inflating: ./add_smoke_data/test/images/L_02172_png.rf.37ef316e5dd91b9bb9b3c740add6cb67.jpg  \n",
      "  inflating: ./add_smoke_data/test/images/L_02576_png.rf.1c016fe6552d033d266565bfe3418e10.jpg  \n",
      "  inflating: ./add_smoke_data/test/images/L_04346_png.rf.9b4b3d7006fba59cc09afd8d4e4bbee6.jpg  \n",
      "  inflating: ./add_smoke_data/test/images/M_02468_png.rf.741c683eaff3b0c9821edded0dfdfbee.jpg  \n",
      "  inflating: ./add_smoke_data/test/images/M_04804_png.rf.5dfff3782ec535c72f263528dbf26177.jpg  \n",
      "  inflating: ./add_smoke_data/test/images/M_04864_png.rf.e9fc1b6f42405e171367224bbdbdc51f.jpg  \n",
      "  inflating: ./add_smoke_data/test/images/M_05334_png.rf.69cd095f79a3d9440a2f412131404e61.jpg  \n",
      "  inflating: ./add_smoke_data/test/images/M_06272_png.rf.279ba433d7c4474c37e47f905b04e190.jpg  \n",
      "  inflating: ./add_smoke_data/test/images/M_06665_png.rf.0d0939693419a344fb14c55a9feb9ee7.jpg  \n",
      "  inflating: ./add_smoke_data/test/images/M_08123_png.rf.d65dd500b1f3ce9ca3e5ffb7f8331473.jpg  \n",
      "  inflating: ./add_smoke_data/test/images/M_09689_png.rf.54c87f6d4551a6bb68dd090e4c62864b.jpg  \n",
      "  inflating: ./add_smoke_data/test/images/NoiseWEBSmoke1215_jpg.rf.2fb35506111785a97ce447b1cac669bb.jpg  \n",
      "  inflating: ./add_smoke_data/test/images/NoiseWEBSmoke480_jpg.rf.2411b03bb041f79209ecac835088371a.jpg  \n",
      "  inflating: ./add_smoke_data/test/images/photo-19-_jpg.rf.44979900bfdbf745e7fc69c108dd060d.jpg  \n",
      "  inflating: ./add_smoke_data/test/images/photo-27-_jpg.rf.05330600e45b8b09f23c631c01bafe03.jpg  \n",
      "  inflating: ./add_smoke_data/test/images/photo-9-_jpg.rf.4107d7ae1f812cbc68626e9a858497c8.jpg  \n",
      "  inflating: ./add_smoke_data/test/images/S3-N1451MF01560_jpg.rf.d0956b6a581014a3db30ca46cefb5271.jpg  \n",
      "  inflating: ./add_smoke_data/test/images/S3-N1451MF01572_jpg.rf.c86d8939cbf08d1921c5acb0b9ed2db1.jpg  \n",
      "  inflating: ./add_smoke_data/test/images/S3-N1451MF01934_jpg.rf.be3abe24fe8e0194f6a30ddc74c3f3a2.jpg  \n",
      "  inflating: ./add_smoke_data/test/images/S3-N1453MF01359_jpg.rf.818550e18edd86afe3ce968b36461ba5.jpg  \n",
      "  inflating: ./add_smoke_data/test/images/S3-N1455MF01629_jpg.rf.d41dfb9cd3176b82c15ae085a8508416.jpg  \n",
      "  inflating: ./add_smoke_data/test/images/S3-N1455MF01654_jpg.rf.b233158287e0a1ef5489f34caecc3ac1.jpg  \n",
      "  inflating: ./add_smoke_data/test/images/S3-N1455MF01944_jpg.rf.69e695838b1a4b9976ab7c521b69a04f.jpg  \n",
      "  inflating: ./add_smoke_data/test/images/WEBFire1092_jpg.rf.db273f4d35607c8b36b251e97bfa03eb.jpg  \n",
      "  inflating: ./add_smoke_data/test/images/WEBFire1322_jpg.rf.032eb4d24db5edf83f6e3d479d08f2ce.jpg  \n",
      "  inflating: ./add_smoke_data/test/images/WEBFire1368_jpg.rf.935e99a24c233f4bf30af8a3a30cf3e1.jpg  \n",
      "  inflating: ./add_smoke_data/test/images/WEBFire287_jpg.rf.660c66c353ba2424fa3c6ec89bfdcbb5.jpg  \n",
      "  inflating: ./add_smoke_data/test/images/WEBSmoke1309_jpg.rf.581f59179950a8c7280e2409ca890f9b.jpg  \n",
      "   creating: ./add_smoke_data/test/labels/\n",
      "  inflating: ./add_smoke_data/test/labels/884_jpg.rf.3c29a5ea5a1860834ca6dd4f6762d041.txt  \n",
      "  inflating: ./add_smoke_data/test/labels/fire_test_img_115_jpg.rf.736604c6970f4b7b5eec69873126760e.txt  \n",
      "  inflating: ./add_smoke_data/test/labels/fire_test_img_135_jpg.rf.832c744150cde84ab8fd26249fe20a20.txt  \n",
      "  inflating: ./add_smoke_data/test/labels/fire_test_img_242_jpg.rf.c93a4c549e15f5b2a230de2987eed5a4.txt  \n",
      "  inflating: ./add_smoke_data/test/labels/fire_test_img_245_jpg.rf.16e78b332e48ab8ab6beca1fa1003b1b.txt  \n",
      "  inflating: ./add_smoke_data/test/labels/fire_test_img_262_jpg.rf.5dba70aefbb6d4a89892600ea6efaf52.txt  \n",
      "  inflating: ./add_smoke_data/test/labels/fire_train_img_398_jpg.rf.0bfb75464d50502ebb89343258555a95.txt  \n",
      "  inflating: ./add_smoke_data/test/labels/fire_train_img_429_jpg.rf.556c8a83252c79490f075c599a36b3ca.txt  \n",
      "  inflating: ./add_smoke_data/test/labels/fire_train_img_432_jpg.rf.0438badbe5348b91a99e97d8eaf66ee7.txt  \n",
      "  inflating: ./add_smoke_data/test/labels/fire_train_img_454_jpg.rf.0cad81f1b1546756776b6e33322df193.txt  \n",
      "  inflating: ./add_smoke_data/test/labels/fire_train_img_610_jpg.rf.ae9874f65aa4528f2a0c9716debe1703.txt  \n",
      "  inflating: ./add_smoke_data/test/labels/fire_train_img_628_jpg.rf.b54c8bb7479eb17a7b911c36f9eec512.txt  \n",
      "  inflating: ./add_smoke_data/test/labels/fire_train_img_632_jpg.rf.498b3df19c73135246a95863643a1c22.txt  \n",
      "  inflating: ./add_smoke_data/test/labels/fire_train_img_723_jpg.rf.90a0e45141129361f3b1787dd74d0cbd.txt  \n",
      "  inflating: ./add_smoke_data/test/labels/fire_train_img_735_jpg.rf.2415a8062a760a12ac812db73322df36.txt  \n",
      "  inflating: ./add_smoke_data/test/labels/fire_train_img_738_jpg.rf.3ce0e40c2c83498807aceda18461a953.txt  \n",
      "  inflating: ./add_smoke_data/test/labels/fire_train_img_754_jpg.rf.def6b9a48c0a8a08f2a7f57fc2091670.txt  \n",
      "  inflating: ./add_smoke_data/test/labels/fire_train_img_764_jpg.rf.838408b685bb39ffb061fab3298431c9.txt  \n",
      "  inflating: ./add_smoke_data/test/labels/fire_train_img_772_jpg.rf.649bd5299f5a5887f2a7c190d59341a5.txt  \n",
      "  inflating: ./add_smoke_data/test/labels/fire_train_img_779_jpg.rf.a93686c136abe3f14d7ba1a761e569a7.txt  \n",
      "  inflating: ./add_smoke_data/test/labels/fire_train_img_83_jpg.rf.e4e0b136256f5581e830d4a444efc72a.txt  \n",
      "  inflating: ./add_smoke_data/test/labels/fires-29-_jpg.rf.b84f03d8e335b505bdd36135704371bf.txt  \n",
      "  inflating: ./add_smoke_data/test/labels/fires-90-_jpg.rf.37607d542d06a5482c13628a35c87168.txt  \n",
      "  inflating: ./add_smoke_data/test/labels/H_00980_png.rf.d99b946ae3bee8044b6f063ec0bad686.txt  \n",
      "  inflating: ./add_smoke_data/test/labels/H_02449_png.rf.ad0ebad2d57cc811018060a8b3eccfa2.txt  \n",
      "  inflating: ./add_smoke_data/test/labels/H_03194_png.rf.84ed4f4d26df779db6e71566da912ec3.txt  \n",
      "  inflating: ./add_smoke_data/test/labels/H_03717_png.rf.2a8988a97329882cbe095f8c533479f0.txt  \n",
      "  inflating: ./add_smoke_data/test/labels/H_05792_png.rf.c55587b3542b12aec5392ce302e60b56.txt  \n",
      "  inflating: ./add_smoke_data/test/labels/H_06037_png.rf.950e10500077dee8dda88b64e2accfc1.txt  \n",
      "  inflating: ./add_smoke_data/test/labels/image-151-_jpg.rf.f5693554a1ac6947346e908192811a23.txt  \n",
      "  inflating: ./add_smoke_data/test/labels/image-174-_jpg.rf.0a8d4703b622b05deb03b5a764e78ed5.txt  \n",
      "  inflating: ./add_smoke_data/test/labels/image-180-_jpg.rf.2a6039d9a4a8d30eb8254d480e957489.txt  \n",
      "  inflating: ./add_smoke_data/test/labels/image-198-_jpg.rf.70ab522cd00d18dee0a2fe00f6743439.txt  \n",
      "  inflating: ./add_smoke_data/test/labels/image-23-_jpg.rf.eb26d61911af20e7768cba7a294250ff.txt  \n",
      "  inflating: ./add_smoke_data/test/labels/image-239-_jpg.rf.c161f36836abf6c506dbf0c5cd0408e8.txt  \n",
      "  inflating: ./add_smoke_data/test/labels/image-248-_jpg.rf.cbe212b25245304983e8076ad15f239f.txt  \n",
      "  inflating: ./add_smoke_data/test/labels/image-259-_jpg.rf.49e3a3ccc8ba947ddbdfc6423ad3f4b5.txt  \n",
      "  inflating: ./add_smoke_data/test/labels/image-267-_jpg.rf.9bb28e117dae0f7e56bf4a002893458d.txt  \n",
      "  inflating: ./add_smoke_data/test/labels/image-268-_jpg.rf.5034ab6794e7cb7a579e0c76ec57b400.txt  \n",
      "  inflating: ./add_smoke_data/test/labels/image-285-_jpg.rf.f3a69098d26f8408d04548b2dde25a7c.txt  \n",
      "  inflating: ./add_smoke_data/test/labels/image-289-_jpg.rf.9d0eed7f8cec314c5feee83467d6ec4a.txt  \n",
      "  inflating: ./add_smoke_data/test/labels/image-317-_jpg.rf.eb60f32f42c1b845d0d05cc8d1d8a8b3.txt  \n",
      "  inflating: ./add_smoke_data/test/labels/image-328-_jpg.rf.294d84bcef48e778973a6b0ba3e3a844.txt  \n",
      "  inflating: ./add_smoke_data/test/labels/image-340-_jpg.rf.4fdb26c00925da43e9361e9b1aef3029.txt  \n",
      "  inflating: ./add_smoke_data/test/labels/image-367-_jpg.rf.bcd1908b3ef1d8d4c3242e0b15632bc9.txt  \n",
      "  inflating: ./add_smoke_data/test/labels/image-394-_jpg.rf.1a795e3426e6da4cc7da8a0ae3e12492.txt  \n",
      "  inflating: ./add_smoke_data/test/labels/image-426-_jpg.rf.5a8f5e3f1286706b3708b0d8bf432a25.txt  \n",
      "  inflating: ./add_smoke_data/test/labels/image-435-_jpg.rf.72a7ba5c1deb0e2ec84fa2f90f823ae4.txt  \n",
      "  inflating: ./add_smoke_data/test/labels/image-445-_jpg.rf.f56c44f0208b59e05800157f07691ab6.txt  \n",
      "  inflating: ./add_smoke_data/test/labels/image-496-_jpg.rf.cc3aeb55b2f156eb832e1cea4b4dd63d.txt  \n",
      "  inflating: ./add_smoke_data/test/labels/image-513-_jpg.rf.75516a84bbdb4da631f3c50c443a5e01.txt  \n",
      "  inflating: ./add_smoke_data/test/labels/image-521-_jpg.rf.a080fe12fe9af2098589bf99e24135c2.txt  \n",
      "  inflating: ./add_smoke_data/test/labels/image-532-_jpg.rf.ff9ab4bb44721cbf0d363ad283f1820f.txt  \n",
      "  inflating: ./add_smoke_data/test/labels/image-540-_jpg.rf.047033c4ba2817b42a6ceac7d4721de7.txt  \n",
      "  inflating: ./add_smoke_data/test/labels/image-543-_jpg.rf.7e617bf16e63d4962bac1745f3ec6cdc.txt  \n",
      "  inflating: ./add_smoke_data/test/labels/image-563-_jpg.rf.6f98f10a15ae358fb9e51f930bfcb343.txt  \n",
      "  inflating: ./add_smoke_data/test/labels/image-567-_jpg.rf.e755efb22889f65d0848acf26d4c531d.txt  \n",
      "  inflating: ./add_smoke_data/test/labels/image-633-_jpg.rf.eda9835b15e95b2f8b8e24f8fab6289f.txt  \n",
      "  inflating: ./add_smoke_data/test/labels/image-643-_jpg.rf.99ed68fc1dcbd99e69c3bb7c891b70fc.txt  \n",
      "  inflating: ./add_smoke_data/test/labels/image-684-_jpg.rf.874571c3ac90c24c0aa2346c947513c9.txt  \n",
      "  inflating: ./add_smoke_data/test/labels/image-694-_jpg.rf.e98d042a59e9f9644607e206cab4e9b1.txt  \n",
      "  inflating: ./add_smoke_data/test/labels/image-728-_jpg.rf.7f4bf174f51a40f2faa6fb28ef64913c.txt  \n",
      "  inflating: ./add_smoke_data/test/labels/image-735-_jpg.rf.6eb2b465aecd56d564fb88002e57fa5d.txt  \n",
      "  inflating: ./add_smoke_data/test/labels/image-759-_jpg.rf.b2979dcf9d2a14acce8c38e1fdaddbf7.txt  \n",
      "  inflating: ./add_smoke_data/test/labels/image-770-_jpg.rf.69483d0d9ddc49b4c6791e3838d9a80f.txt  \n",
      "  inflating: ./add_smoke_data/test/labels/image-774-_jpg.rf.d7803a4653301155f6bc57261fc6d6b4.txt  \n",
      "  inflating: ./add_smoke_data/test/labels/image-80-_jpg.rf.a0c90db3e1247d0e9c139518aeaa24ac.txt  \n",
      "  inflating: ./add_smoke_data/test/labels/image-838-_jpg.rf.ddb61450b7c0d3b9a120f569785b5be3.txt  \n",
      "  inflating: ./add_smoke_data/test/labels/image-846-_jpg.rf.f80ff2684b8dbb0421a7e62cb48abe7a.txt  \n",
      "  inflating: ./add_smoke_data/test/labels/image-859-_jpg.rf.d82c1a7fb8b84e47bcc75db1164d6c44.txt  \n",
      "  inflating: ./add_smoke_data/test/labels/image-873-_jpg.rf.c2c1149a47b72b4eca3f39fc4decd06d.txt  \n",
      "  inflating: ./add_smoke_data/test/labels/image-896-_jpg.rf.d702213848dd53f171b5d7aa8e6d05dd.txt  \n",
      "  inflating: ./add_smoke_data/test/labels/image-947-_jpg.rf.5cee207acf6811e49a11261d023ed32a.txt  \n",
      "  inflating: ./add_smoke_data/test/labels/image-976-_jpg.rf.60b4f97fa07d40dbbfe302b0f14a4b11.txt  \n",
      "  inflating: ./add_smoke_data/test/labels/images4-11-_jpg.rf.56d4076f90b86a518ee7d43d39d4beb7.txt  \n",
      "  inflating: ./add_smoke_data/test/labels/images4-159-_jpg.rf.e3385c2c34d56b6a14785d334671bda6.txt  \n",
      "  inflating: ./add_smoke_data/test/labels/images4-176-_jpg.rf.0b0c6936869aec5cf00831b7923437b3.txt  \n",
      "  inflating: ./add_smoke_data/test/labels/images4-183-_jpg.rf.c208c72576ea985d19a54a0791fcbbf1.txt  \n",
      "  inflating: ./add_smoke_data/test/labels/images4-184-_jpg.rf.f8c5ba5a2cb3030f1e5dd61b5c8d341d.txt  \n",
      "  inflating: ./add_smoke_data/test/labels/images4-43-_jpg.rf.1fbb0d308ef4308b7d92efd013bba238.txt  \n",
      "  inflating: ./add_smoke_data/test/labels/images4-58-_jpg.rf.1c5d5011d570bb196a46f02f17636268.txt  \n",
      "  inflating: ./add_smoke_data/test/labels/images4-59-_jpg.rf.8e1228ce5ed49edc334bc5979f1c4f3d.txt  \n",
      "  inflating: ./add_smoke_data/test/labels/images4-67-_jpg.rf.ab409cf0cbca183da2974ce4202bf15f.txt  \n",
      "  inflating: ./add_smoke_data/test/labels/images4-91-_jpg.rf.528fa0b2d9c44bb38843c2043cda4c68.txt  \n",
      "  inflating: ./add_smoke_data/test/labels/L_02172_png.rf.37ef316e5dd91b9bb9b3c740add6cb67.txt  \n",
      "  inflating: ./add_smoke_data/test/labels/L_02576_png.rf.1c016fe6552d033d266565bfe3418e10.txt  \n",
      "  inflating: ./add_smoke_data/test/labels/L_04346_png.rf.9b4b3d7006fba59cc09afd8d4e4bbee6.txt  \n",
      "  inflating: ./add_smoke_data/test/labels/M_02468_png.rf.741c683eaff3b0c9821edded0dfdfbee.txt  \n",
      "  inflating: ./add_smoke_data/test/labels/M_04804_png.rf.5dfff3782ec535c72f263528dbf26177.txt  \n",
      "  inflating: ./add_smoke_data/test/labels/M_04864_png.rf.e9fc1b6f42405e171367224bbdbdc51f.txt  \n",
      "  inflating: ./add_smoke_data/test/labels/M_05334_png.rf.69cd095f79a3d9440a2f412131404e61.txt  \n",
      "  inflating: ./add_smoke_data/test/labels/M_06272_png.rf.279ba433d7c4474c37e47f905b04e190.txt  \n",
      "  inflating: ./add_smoke_data/test/labels/M_06665_png.rf.0d0939693419a344fb14c55a9feb9ee7.txt  \n",
      "  inflating: ./add_smoke_data/test/labels/M_08123_png.rf.d65dd500b1f3ce9ca3e5ffb7f8331473.txt  \n",
      "  inflating: ./add_smoke_data/test/labels/M_09689_png.rf.54c87f6d4551a6bb68dd090e4c62864b.txt  \n",
      "  inflating: ./add_smoke_data/test/labels/NoiseWEBSmoke1215_jpg.rf.2fb35506111785a97ce447b1cac669bb.txt  \n",
      "  inflating: ./add_smoke_data/test/labels/NoiseWEBSmoke480_jpg.rf.2411b03bb041f79209ecac835088371a.txt  \n",
      "  inflating: ./add_smoke_data/test/labels/photo-19-_jpg.rf.44979900bfdbf745e7fc69c108dd060d.txt  \n",
      "  inflating: ./add_smoke_data/test/labels/photo-27-_jpg.rf.05330600e45b8b09f23c631c01bafe03.txt  \n",
      "  inflating: ./add_smoke_data/test/labels/photo-9-_jpg.rf.4107d7ae1f812cbc68626e9a858497c8.txt  \n",
      "  inflating: ./add_smoke_data/test/labels/S3-N1451MF01560_jpg.rf.d0956b6a581014a3db30ca46cefb5271.txt  \n",
      "  inflating: ./add_smoke_data/test/labels/S3-N1451MF01572_jpg.rf.c86d8939cbf08d1921c5acb0b9ed2db1.txt  \n",
      "  inflating: ./add_smoke_data/test/labels/S3-N1451MF01934_jpg.rf.be3abe24fe8e0194f6a30ddc74c3f3a2.txt  \n",
      "  inflating: ./add_smoke_data/test/labels/S3-N1453MF01359_jpg.rf.818550e18edd86afe3ce968b36461ba5.txt  \n",
      "  inflating: ./add_smoke_data/test/labels/S3-N1455MF01629_jpg.rf.d41dfb9cd3176b82c15ae085a8508416.txt  \n",
      "  inflating: ./add_smoke_data/test/labels/S3-N1455MF01654_jpg.rf.b233158287e0a1ef5489f34caecc3ac1.txt  \n",
      "  inflating: ./add_smoke_data/test/labels/S3-N1455MF01944_jpg.rf.69e695838b1a4b9976ab7c521b69a04f.txt  \n",
      "  inflating: ./add_smoke_data/test/labels/WEBFire1092_jpg.rf.db273f4d35607c8b36b251e97bfa03eb.txt  \n",
      "  inflating: ./add_smoke_data/test/labels/WEBFire1322_jpg.rf.032eb4d24db5edf83f6e3d479d08f2ce.txt  \n",
      "  inflating: ./add_smoke_data/test/labels/WEBFire1368_jpg.rf.935e99a24c233f4bf30af8a3a30cf3e1.txt  \n",
      "  inflating: ./add_smoke_data/test/labels/WEBFire287_jpg.rf.660c66c353ba2424fa3c6ec89bfdcbb5.txt  \n",
      "  inflating: ./add_smoke_data/test/labels/WEBSmoke1309_jpg.rf.581f59179950a8c7280e2409ca890f9b.txt  \n",
      "   creating: ./add_smoke_data/train/\n",
      "   creating: ./add_smoke_data/train/images/\n",
      "  inflating: ./add_smoke_data/train/images/102_jpg.rf.286ab5bd02c581152300afb73731b15c.jpg  \n",
      "  inflating: ./add_smoke_data/train/images/102_jpg.rf.3f9d7dba6d9aac7b6799d7f6bd35b107.jpg  \n",
      "  inflating: ./add_smoke_data/train/images/102_jpg.rf.6d5f4c6aeb026aa71018769fd075f839.jpg  \n",
      "  inflating: ./add_smoke_data/train/images/423_jpg.rf.471e2c18584d5f465e03eab46430e468.jpg  \n",
      "  inflating: ./add_smoke_data/train/images/423_jpg.rf.f9b0c4db58fb5031964d7caa52b69ea6.jpg  \n",
      "  inflating: ./add_smoke_data/train/images/423_jpg.rf.fff1fe45392cf0dab69d704be63d6287.jpg  \n",
      "  inflating: ./add_smoke_data/train/images/47_jpg.rf.1a92b364a33238d5339edf8bbeb9b6c6.jpg  \n",
      "  inflating: ./add_smoke_data/train/images/47_jpg.rf.f66fb9fbe6def39ba5e2b4d34f4e23f4.jpg  \n",
      "  inflating: ./add_smoke_data/train/images/fire_test_img_103_jpg.rf.9f0dc460204ec26f4605f5989b40cc60.jpg  \n",
      "  inflating: ./add_smoke_data/train/images/fire_test_img_104_jpg.rf.4d7de557e724294ecd6b1e354efbae6f.jpg  \n",
      "  inflating: ./add_smoke_data/train/images/fire_test_img_105_jpg.rf.c21498fee83e6d063330bb8c9a1e0c10.jpg  \n",
      "  inflating: ./add_smoke_data/train/images/fire_test_img_106_jpg.rf.8770478eff93274cf6015192c26c535a.jpg  \n",
      "  inflating: ./add_smoke_data/train/images/fire_test_img_107_jpg.rf.3892fa66fe9f41ad5e4f1e0c69e717df.jpg  \n",
      "  inflating: ./add_smoke_data/train/images/fire_test_img_108_jpg.rf.35e4e38d460e479be53af0db6de94fd4.jpg  \n",
      "  inflating: ./add_smoke_data/train/images/fire_test_img_109_jpg.rf.47e1f7c04989ae0de8ef61c73bc432f1.jpg  \n",
      "  inflating: ./add_smoke_data/train/images/fire_test_img_116_jpg.rf.6c05d4db2426e1ad8bbbafa44d1dd483.jpg  \n",
      "  inflating: ./add_smoke_data/train/images/fire_test_img_117_jpg.rf.747b302872f04cf2e25c434d7c80d269.jpg  \n",
      "  inflating: ./add_smoke_data/train/images/fire_test_img_118_jpg.rf.b24dc844a1efc3a04fb763175a0cbca2.jpg  \n",
      "  inflating: ./add_smoke_data/train/images/fire_test_img_120_jpg.rf.1b007edee99bbc9499ba8ee464fd8749.jpg  \n",
      "  inflating: ./add_smoke_data/train/images/fire_test_img_121_jpg.rf.161d449f9ab60a6333150b366bd52ae9.jpg  \n",
      "  inflating: ./add_smoke_data/train/images/fire_test_img_122_jpg.rf.73e437099032b66628a6639207816521.jpg  \n",
      "  inflating: ./add_smoke_data/train/images/fire_test_img_123_jpg.rf.a5f103f58b766698fa47ff248cac9cc7.jpg  \n",
      "  inflating: ./add_smoke_data/train/images/fire_test_img_124_jpg.rf.c351f9f3efe7206c59e3e8ceb44797ef.jpg  \n",
      "  inflating: ./add_smoke_data/train/images/fire_test_img_127_jpg.rf.bf1580aae8baeb37e52a454ed9dd593e.jpg  \n",
      "  inflating: ./add_smoke_data/train/images/fire_test_img_128_jpg.rf.0bc19b29d0e7a4df7582aafd7d4581d0.jpg  \n",
      "  inflating: ./add_smoke_data/train/images/fire_test_img_129_jpg.rf.baf0bdef4564aec73b8b291808854273.jpg  \n",
      "  inflating: ./add_smoke_data/train/images/fire_test_img_130_jpg.rf.4d8df12535c77f808d387996b0e7e132.jpg  \n",
      "  inflating: ./add_smoke_data/train/images/fire_test_img_131_jpg.rf.57d18ec0d84a9be63f593336a34df154.jpg  \n",
      "  inflating: ./add_smoke_data/train/images/fire_test_img_134_jpg.rf.6471da7e9478ebe19b3407ad70dce95d.jpg  \n",
      "  inflating: ./add_smoke_data/train/images/fire_test_img_136_jpg.rf.89fad4244748076af619636e89dc5d54.jpg  \n",
      "  inflating: ./add_smoke_data/train/images/fire_test_img_139_jpg.rf.46365bf27f4d3dcd704ee8e9c8915984.jpg  \n",
      "  inflating: ./add_smoke_data/train/images/fire_test_img_140_jpg.rf.8d8b38101f933e52ac0c902d6cfb48d2.jpg  \n",
      "  inflating: ./add_smoke_data/train/images/fire_test_img_141_jpg.rf.de7f9d2bdfa6ede4b7a37bc25a8277db.jpg  \n",
      "  inflating: ./add_smoke_data/train/images/fire_test_img_143_jpg.rf.68c3e4b7bc7f294c1305e2c497e9070a.jpg  \n",
      "  inflating: ./add_smoke_data/train/images/fire_test_img_144_jpg.rf.1f34d39cc87f00568cf96e8290d81354.jpg  \n",
      "  inflating: ./add_smoke_data/train/images/fire_test_img_146_jpg.rf.a0073f89964eeb1ba83b23e26b1c39f5.jpg  \n",
      "  inflating: ./add_smoke_data/train/images/fire_test_img_212_jpg.rf.21dfac920b468b84649dcc006788f1ec.jpg  \n",
      "  inflating: ./add_smoke_data/train/images/fire_test_img_213_jpg.rf.193228d53a85f361fc5e2443de55d326.jpg  \n",
      "  inflating: ./add_smoke_data/train/images/fire_test_img_214_jpg.rf.c299f4df435f88647f669ccf553ad9d7.jpg  \n",
      "  inflating: ./add_smoke_data/train/images/fire_test_img_215_jpg.rf.ccc078589613fb9966e72a5dc62f1393.jpg  \n",
      "  inflating: ./add_smoke_data/train/images/fire_test_img_216_jpg.rf.c19428a21cb4a4a684db8c59d94b3ea6.jpg  \n",
      "  inflating: ./add_smoke_data/train/images/fire_test_img_224_jpg.rf.3f49be6f1bba5aca86cbdf8cd8b9f4ed.jpg  \n",
      "  inflating: ./add_smoke_data/train/images/fire_test_img_225_jpg.rf.a50ac4c2f1903de5536dccda81eac514.jpg  \n",
      "  inflating: ./add_smoke_data/train/images/fire_test_img_240_jpg.rf.7f2f605e1c2517c67be6c37f1700602a.jpg  \n",
      "  inflating: ./add_smoke_data/train/images/fire_test_img_241_jpg.rf.99df9f824405fc0b06fec7d5a025d44a.jpg  \n",
      "  inflating: ./add_smoke_data/train/images/fire_test_img_243_jpg.rf.df4e57b2da5d5ca01ac444b24c52f09a.jpg  \n",
      "  inflating: ./add_smoke_data/train/images/fire_test_img_244_jpg.rf.ffdb504764d547589b4879ac46289fac.jpg  \n",
      "  inflating: ./add_smoke_data/train/images/fire_test_img_258_jpg.rf.29bf32912d9dca911bdf355aa9ab8a7a.jpg  \n",
      "  inflating: ./add_smoke_data/train/images/fire_test_img_260_jpg.rf.a51bbd9e35f30658f5fd6b17fea578c4.jpg  \n",
      "  inflating: ./add_smoke_data/train/images/fire_test_img_263_jpg.rf.41a06565c68cde1fb63faaa08c526c8d.jpg  \n",
      "  inflating: ./add_smoke_data/train/images/fire_train_img_102_jpg.rf.695d59b26e4e45af1b7b1a837cff180e.jpg  \n",
      "  inflating: ./add_smoke_data/train/images/fire_train_img_103_jpg.rf.2c474db57eec53f54afc974b7fe1f2cc.jpg  \n",
      "  inflating: ./add_smoke_data/train/images/fire_train_img_104_jpg.rf.fc94ca544ed621ee23066b039ddbd9b8.jpg  \n",
      "  inflating: ./add_smoke_data/train/images/fire_train_img_105_jpg.rf.c73a831c6be5428a9a7eb6d2ec243cb6.jpg  \n",
      "  inflating: ./add_smoke_data/train/images/fire_train_img_106_jpg.rf.31045d66005037ebb8a20ba318f4db97.jpg  \n",
      "  inflating: ./add_smoke_data/train/images/fire_train_img_342_jpg.rf.bddb5fd1c6bc8c9111f8ed0210fcb5e7.jpg  \n",
      "  inflating: ./add_smoke_data/train/images/fire_train_img_343_jpg.rf.575aab9a6bd58ad160a9bd4ecde371e1.jpg  \n",
      "  inflating: ./add_smoke_data/train/images/fire_train_img_344_jpg.rf.9604b0a935f3bed4530d4b8c405dd0fb.jpg  \n",
      "  inflating: ./add_smoke_data/train/images/fire_train_img_348_jpg.rf.96350be7cdac39c6da2eea56fa86bb83.jpg  \n",
      "  inflating: ./add_smoke_data/train/images/fire_train_img_349_jpg.rf.57aa8f4cd787f31af80aca41fc4a4f6f.jpg  \n",
      "  inflating: ./add_smoke_data/train/images/fire_train_img_350_jpg.rf.d2d1c061c095a57fb83aeb56a1e3a4da.jpg  \n",
      "  inflating: ./add_smoke_data/train/images/fire_train_img_351_jpg.rf.bc864af309a1517e0d80c4766a4a5003.jpg  \n",
      "  inflating: ./add_smoke_data/train/images/fire_train_img_352_jpg.rf.74548bbd775e959fe0c0fafccd6e0a18.jpg  \n",
      "  inflating: ./add_smoke_data/train/images/fire_train_img_354_jpg.rf.267d7c30727d0ba66dca9aadac20c7e8.jpg  \n",
      "  inflating: ./add_smoke_data/train/images/fire_train_img_356_jpg.rf.fbcf2932134d6ce9a31fa2b91141d8d1.jpg  \n",
      "  inflating: ./add_smoke_data/train/images/fire_train_img_359_jpg.rf.f2efc134f364a8cc0830e28e938ead0c.jpg  \n",
      "  inflating: ./add_smoke_data/train/images/fire_train_img_360_jpg.rf.15ab2cdcce09aef5f74fe965fa4b23eb.jpg  \n",
      "  inflating: ./add_smoke_data/train/images/fire_train_img_361_jpg.rf.602dc09218f5bfcda3f07c76bf57a17c.jpg  \n",
      "  inflating: ./add_smoke_data/train/images/fire_train_img_362_jpg.rf.ab4dfc76445b22817e542a4f54d3f94a.jpg  \n",
      "  inflating: ./add_smoke_data/train/images/fire_train_img_363_jpg.rf.ad05d009e6a8573a4f9dcb915c951112.jpg  \n",
      "  inflating: ./add_smoke_data/train/images/fire_train_img_364_jpg.rf.d5e1ac9f721c76deec0d4c00930d6e26.jpg  \n",
      "  inflating: ./add_smoke_data/train/images/fire_train_img_365_jpg.rf.3cf31de0bdf99f875e5e51a2226adafe.jpg  \n",
      "  inflating: ./add_smoke_data/train/images/fire_train_img_366_jpg.rf.055a3dc427b28393169838f2caf0e02e.jpg  \n",
      "  inflating: ./add_smoke_data/train/images/fire_train_img_369_jpg.rf.99b63714d2aa900d0166e7d5719c15de.jpg  \n",
      "  inflating: ./add_smoke_data/train/images/fire_train_img_370_jpg.rf.68921ff7abb7049afb48e8e801f26f9a.jpg  \n",
      "  inflating: ./add_smoke_data/train/images/fire_train_img_371_jpg.rf.5275ae71a42dbdb4f28b62ba45b85a07.jpg  \n",
      "  inflating: ./add_smoke_data/train/images/fire_train_img_372_jpg.rf.05fcce15d3321902cd4fbe482393ab45.jpg  \n",
      "  inflating: ./add_smoke_data/train/images/fire_train_img_375_jpg.rf.bcc2fb0898b277d1f44414c27293dc10.jpg  \n",
      "  inflating: ./add_smoke_data/train/images/fire_train_img_376_jpg.rf.154cc0147a7becedbad2064046caa849.jpg  \n",
      "  inflating: ./add_smoke_data/train/images/fire_train_img_377_jpg.rf.227753bc2d3d203f2025cda7d50612e6.jpg  \n",
      "  inflating: ./add_smoke_data/train/images/fire_train_img_378_jpg.rf.1609570d3a7bae221405fbec45300922.jpg  \n",
      "  inflating: ./add_smoke_data/train/images/fire_train_img_379_jpg.rf.dc30b12b8c70a2315ab9124b26e7b120.jpg  \n",
      "  inflating: ./add_smoke_data/train/images/fire_train_img_381_jpg.rf.a5b392eb5f4fa43f3d6781051e7a6a77.jpg  \n",
      "  inflating: ./add_smoke_data/train/images/fire_train_img_382_jpg.rf.af212c1b86bd2cc3d9307af7824fa1df.jpg  \n",
      "  inflating: ./add_smoke_data/train/images/fire_train_img_383_jpg.rf.12f05b2bbd665b1e8babf983ec254e02.jpg  \n",
      "  inflating: ./add_smoke_data/train/images/fire_train_img_384_jpg.rf.5d5d5f77c1855f4c6ce6a91221872e57.jpg  \n",
      "  inflating: ./add_smoke_data/train/images/fire_train_img_385_jpg.rf.92f2a7e7f317f25e822a35c2f062edf7.jpg  \n",
      "  inflating: ./add_smoke_data/train/images/fire_train_img_386_jpg.rf.e7396087cb943037c87dc3a0a6d217fe.jpg  \n",
      "  inflating: ./add_smoke_data/train/images/fire_train_img_387_jpg.rf.72b45a2003ea4c6bdd2d296aa7c5c95b.jpg  \n",
      "  inflating: ./add_smoke_data/train/images/fire_train_img_388_jpg.rf.9f1affefa5525630824d03d4a0a07d7c.jpg  \n",
      "  inflating: ./add_smoke_data/train/images/fire_train_img_390_jpg.rf.b7cf072f4daad74572890a0ecd4eee6f.jpg  \n",
      "  inflating: ./add_smoke_data/train/images/fire_train_img_391_jpg.rf.a447f3e9c17df2a6dd2281f8b48e099e.jpg  \n",
      "  inflating: ./add_smoke_data/train/images/fire_train_img_392_jpg.rf.33a817b9567416cf944d9cb6d8b37fb8.jpg  \n",
      "  inflating: ./add_smoke_data/train/images/fire_train_img_394_jpg.rf.151390f6090c3a2bd582782f610269dd.jpg  \n",
      "  inflating: ./add_smoke_data/train/images/fire_train_img_395_jpg.rf.1b31e86d4373446c2fcf16eb8782b536.jpg  \n",
      "  inflating: ./add_smoke_data/train/images/fire_train_img_401_jpg.rf.f88cb20abc49ff744489a61a85f1e5ac.jpg  \n",
      "  inflating: ./add_smoke_data/train/images/fire_train_img_402_jpg.rf.80a8ae660b580f39eb34c0a67de82076.jpg  \n",
      "  inflating: ./add_smoke_data/train/images/fire_train_img_404_jpg.rf.c9bcc34b62bb9437594961025371e895.jpg  \n",
      "  inflating: ./add_smoke_data/train/images/fire_train_img_405_jpg.rf.0304313cfe43064acf531eab59d29ff5.jpg  \n",
      "  inflating: ./add_smoke_data/train/images/fire_train_img_407_jpg.rf.d6f8285f56fccfa44fac101f89dbf5ee.jpg  \n",
      "  inflating: ./add_smoke_data/train/images/fire_train_img_408_jpg.rf.2722bc627b6034c3543c45fd4e341470.jpg  \n",
      "  inflating: ./add_smoke_data/train/images/fire_train_img_409_jpg.rf.0ccf65e733cf9022523673ca6a674fb4.jpg  \n",
      "  inflating: ./add_smoke_data/train/images/fire_train_img_410_jpg.rf.cbd8b58c2f6578c7be11e7dd2daf64de.jpg  \n",
      "  inflating: ./add_smoke_data/train/images/fire_train_img_411_jpg.rf.49640ce82a5ec865acc5d6cf97e7faa6.jpg  \n",
      "  inflating: ./add_smoke_data/train/images/fire_train_img_412_jpg.rf.f0182d24eb6724f1d352f9da51b9c96f.jpg  \n",
      "  inflating: ./add_smoke_data/train/images/fire_train_img_415_jpg.rf.18aad5786ef06118b11c66d86b55343c.jpg  \n",
      "  inflating: ./add_smoke_data/train/images/fire_train_img_417_jpg.rf.ecbdd7c23f7a48dd7f535b0a3bb7fd09.jpg  \n",
      "  inflating: ./add_smoke_data/train/images/fire_train_img_418_jpg.rf.6246626963e244efc2a5c7a8d6e519a5.jpg  \n",
      "  inflating: ./add_smoke_data/train/images/fire_train_img_419_jpg.rf.f448a8f024d1a8b36fe39b94f557ae08.jpg  \n",
      "  inflating: ./add_smoke_data/train/images/fire_train_img_420_jpg.rf.6238c927717a2e31590cec372b1fd1e6.jpg  \n",
      "  inflating: ./add_smoke_data/train/images/fire_train_img_421_jpg.rf.2fa322e0ac0c1327d8e8e71f516e95b2.jpg  \n",
      "  inflating: ./add_smoke_data/train/images/fire_train_img_423_jpg.rf.523a728f42d2891ed43e9ffe95599dac.jpg  \n",
      "  inflating: ./add_smoke_data/train/images/fire_train_img_424_jpg.rf.a780dbb1d2a445f5f502bf228e754a19.jpg  \n",
      "  inflating: ./add_smoke_data/train/images/fire_train_img_425_jpg.rf.d7d47864352f8b57e2b511277026d4ab.jpg  \n",
      "  inflating: ./add_smoke_data/train/images/fire_train_img_433_jpg.rf.d7921d6c7dfc34da21d4d3044c939c15.jpg  \n",
      "  inflating: ./add_smoke_data/train/images/fire_train_img_434_jpg.rf.2f9b6974e4a68cb20f7685487d05b280.jpg  \n",
      "  inflating: ./add_smoke_data/train/images/fire_train_img_435_jpg.rf.145622f8701dde27cc9a954de4e78450.jpg  \n",
      "  inflating: ./add_smoke_data/train/images/fire_train_img_436_jpg.rf.e23193ead16faba445fe9ccaf530d2cb.jpg  \n",
      "  inflating: ./add_smoke_data/train/images/fire_train_img_438_jpg.rf.b49a4ceb19580235301823f0dc5c2667.jpg  \n",
      "  inflating: ./add_smoke_data/train/images/fire_train_img_440_jpg.rf.5164af6b307b224b42d5c7fb71f6d2eb.jpg  \n",
      "  inflating: ./add_smoke_data/train/images/fire_train_img_441_jpg.rf.11c94aa3b0b7570929b374b01361cb16.jpg  \n",
      "  inflating: ./add_smoke_data/train/images/fire_train_img_442_jpg.rf.cf73662cfb52090954655df5ab1ac0dd.jpg  \n",
      "  inflating: ./add_smoke_data/train/images/fire_train_img_443_jpg.rf.18b2f0ba220d5a5b107f0ee8bf26e20f.jpg  \n",
      "  inflating: ./add_smoke_data/train/images/fire_train_img_444_jpg.rf.39308b52b8b7431bc3138e85dea90e73.jpg  \n",
      "  inflating: ./add_smoke_data/train/images/fire_train_img_445_jpg.rf.39072fbbc1b0ac1c803f73aeaf4da6ba.jpg  \n",
      "  inflating: ./add_smoke_data/train/images/fire_train_img_446_jpg.rf.74e2753875e25950dfcb57e3a39150a9.jpg  \n",
      "  inflating: ./add_smoke_data/train/images/fire_train_img_447_jpg.rf.f99f294fa99bbb76aabee22718d0ef62.jpg  \n",
      "  inflating: ./add_smoke_data/train/images/fire_train_img_449_jpg.rf.e6175bb744c5ca33d5ccea18b9dd0273.jpg  \n",
      "  inflating: ./add_smoke_data/train/images/fire_train_img_452_jpg.rf.866c3f1a63563f1fee44a0f4685e4c07.jpg  \n",
      "  inflating: ./add_smoke_data/train/images/fire_train_img_453_jpg.rf.00e15efe3f063ab5c8b7874a8a2a1ad9.jpg  \n",
      "  inflating: ./add_smoke_data/train/images/fire_train_img_605_jpg.rf.f97f9f9446d4f6902f2ce3c148224cbe.jpg  \n",
      "  inflating: ./add_smoke_data/train/images/fire_train_img_606_jpg.rf.485bf17feb70f061036c0b0e128fc644.jpg  \n",
      "  inflating: ./add_smoke_data/train/images/fire_train_img_607_jpg.rf.013bf0365bb8927dffd09c5bf23400a6.jpg  \n",
      "  inflating: ./add_smoke_data/train/images/fire_train_img_608_jpg.rf.8c0f5c794f42889adf15a955d7e25ee3.jpg  \n",
      "  inflating: ./add_smoke_data/train/images/fire_train_img_611_jpg.rf.ba240089f28d395832e9522b6c6cd492.jpg  \n",
      "  inflating: ./add_smoke_data/train/images/fire_train_img_612_jpg.rf.e38a49216914e388ac0860e2aa3feda3.jpg  \n",
      "  inflating: ./add_smoke_data/train/images/fire_train_img_613_jpg.rf.b08c9ec3c211af502d2e5311c76131f8.jpg  \n",
      "  inflating: ./add_smoke_data/train/images/fire_train_img_614_jpg.rf.f9f0ef3546891f4f9bd1b487e8cf0d01.jpg  \n",
      "  inflating: ./add_smoke_data/train/images/fire_train_img_615_jpg.rf.f6bc46beff92e504aa10b199a4a7db12.jpg  \n",
      "  inflating: ./add_smoke_data/train/images/fire_train_img_617_jpg.rf.3fc51ce298c0421fe71d51ec0bfc847f.jpg  \n",
      "  inflating: ./add_smoke_data/train/images/fire_train_img_619_jpg.rf.b8f1533981c0ab309d097f17a32d5770.jpg  \n",
      "  inflating: ./add_smoke_data/train/images/fire_train_img_620_jpg.rf.1072d5a5662b8a550616143d53a53676.jpg  \n",
      "  inflating: ./add_smoke_data/train/images/fire_train_img_621_jpg.rf.19a7d0ae83241cc054583d55c7912d85.jpg  \n",
      "  inflating: ./add_smoke_data/train/images/fire_train_img_622_jpg.rf.5fcecd7d4b7a9208eeb23a070bbdd690.jpg  \n",
      "  inflating: ./add_smoke_data/train/images/fire_train_img_623_jpg.rf.29dc74868851a4f30cf4cd0bddfba51b.jpg  \n",
      "  inflating: ./add_smoke_data/train/images/fire_train_img_625_jpg.rf.c1a11fe774526140739f749b52495f60.jpg  \n",
      "  inflating: ./add_smoke_data/train/images/fire_train_img_626_jpg.rf.180f0fe69a9a0cc65b8531007fca589f.jpg  \n",
      "  inflating: ./add_smoke_data/train/images/fire_train_img_627_jpg.rf.5f2644ecd27f8b1e736dda9f7ebb4a61.jpg  \n",
      "  inflating: ./add_smoke_data/train/images/fire_train_img_629_jpg.rf.fb4a52cbd4db1851475e33e627f2dea1.jpg  \n",
      "  inflating: ./add_smoke_data/train/images/fire_train_img_630_jpg.rf.8972c748a9053f6f34a3ba93cec5fdd7.jpg  \n",
      "  inflating: ./add_smoke_data/train/images/fire_train_img_634_jpg.rf.cf9e8d7be13909da3dbbbd19b55348af.jpg  \n",
      "  inflating: ./add_smoke_data/train/images/fire_train_img_635_jpg.rf.91e1b46518ebfd3609c08a5ca790e122.jpg  \n",
      "  inflating: ./add_smoke_data/train/images/fire_train_img_636_jpg.rf.3ed7662cf66db25b20ba4600f54ec38a.jpg  \n",
      "  inflating: ./add_smoke_data/train/images/fire_train_img_637_jpg.rf.a14a66a692e6313ac49b740b10ec468f.jpg  \n",
      "  inflating: ./add_smoke_data/train/images/fire_train_img_638_jpg.rf.cca57a725ba368bd992b6ad4535562e2.jpg  \n",
      "  inflating: ./add_smoke_data/train/images/fire_train_img_639_jpg.rf.09db35031ca103f8d9b5cf2d0cc20818.jpg  \n",
      "  inflating: ./add_smoke_data/train/images/fire_train_img_640_jpg.rf.c46d20dd82f76dc8ffbcd2d4218ea4a6.jpg  \n",
      "  inflating: ./add_smoke_data/train/images/fire_train_img_641_jpg.rf.ea978962a14ad01d15ebd64377e58853.jpg  \n",
      "  inflating: ./add_smoke_data/train/images/fire_train_img_643_jpg.rf.40b27b73b01e98722162e8b8fe66bc3c.jpg  \n",
      "  inflating: ./add_smoke_data/train/images/fire_train_img_644_jpg.rf.75e6660901044cc39a76ae6db9be7079.jpg  \n",
      "  inflating: ./add_smoke_data/train/images/fire_train_img_647_jpg.rf.d682c4b9163f011755ac6a148fb4e63b.jpg  \n",
      "  inflating: ./add_smoke_data/train/images/fire_train_img_648_jpg.rf.6c006b19a86376d23f5f9f37ac3ab5a7.jpg  \n",
      "  inflating: ./add_smoke_data/train/images/fire_train_img_649_jpg.rf.335adceb3a4ffbabbefa6930ffd2a6c3.jpg  \n",
      "  inflating: ./add_smoke_data/train/images/fire_train_img_650_jpg.rf.32d72faa043d782435c873513b66e309.jpg  \n",
      "  inflating: ./add_smoke_data/train/images/fire_train_img_651_jpg.rf.769f51d7c519280b672f1a89e50fc3b2.jpg  \n",
      "  inflating: ./add_smoke_data/train/images/fire_train_img_652_jpg.rf.f34af213119d2182fdf4e48277357c00.jpg  \n",
      "  inflating: ./add_smoke_data/train/images/fire_train_img_653_jpg.rf.e0cd99d2141e681f0ce579a0d95325e3.jpg  \n",
      "  inflating: ./add_smoke_data/train/images/fire_train_img_654_jpg.rf.28c4e50b7f50de97a4955fbdee26d1ca.jpg  \n",
      "  inflating: ./add_smoke_data/train/images/fire_train_img_655_jpg.rf.291811f7138227e1c3cd4d5d8966d1ad.jpg  \n",
      "  inflating: ./add_smoke_data/train/images/fire_train_img_661_jpg.rf.1a66c1331accf5e3eed620c8f934ceda.jpg  \n",
      "  inflating: ./add_smoke_data/train/images/fire_train_img_662_jpg.rf.f5d4fcc2a0cd07f21f6556156f009382.jpg  \n",
      "  inflating: ./add_smoke_data/train/images/fire_train_img_663_jpg.rf.c7401f0130df03a22f70032d6f2ea81e.jpg  \n",
      "  inflating: ./add_smoke_data/train/images/fire_train_img_664_jpg.rf.be6c752a28f72e5bf26242cb7340bc00.jpg  \n",
      "  inflating: ./add_smoke_data/train/images/fire_train_img_665_jpg.rf.565872a1ef396e55061d0e5d429783b6.jpg  \n",
      "  inflating: ./add_smoke_data/train/images/fire_train_img_667_jpg.rf.0038256c76263dabb33905bf456e4975.jpg  \n",
      "  inflating: ./add_smoke_data/train/images/fire_train_img_669_jpg.rf.04470c3e386c6553ecf44d9240919585.jpg  \n",
      "  inflating: ./add_smoke_data/train/images/fire_train_img_711_jpg.rf.e13b0dbc0c3351a4a1ff8e1b3ac0cf58.jpg  \n",
      "  inflating: ./add_smoke_data/train/images/fire_train_img_712_jpg.rf.632bf00f5aa2e8e6d87959d18249807a.jpg  \n",
      "  inflating: ./add_smoke_data/train/images/fire_train_img_713_jpg.rf.d248c94d532b0c82468e1969596e6294.jpg  \n",
      "  inflating: ./add_smoke_data/train/images/fire_train_img_714_jpg.rf.22e4d772e965027f80f3eb5af6121ace.jpg  \n",
      "  inflating: ./add_smoke_data/train/images/fire_train_img_716_jpg.rf.c38b81e66071937cdc3c83580255c6d9.jpg  \n",
      "  inflating: ./add_smoke_data/train/images/fire_train_img_717_jpg.rf.8110b033ddeabb6dca4e1f3a2f432e69.jpg  \n",
      "  inflating: ./add_smoke_data/train/images/fire_train_img_719_jpg.rf.8a063c13c73812dd43bf2286ac8e4e0b.jpg  \n",
      "  inflating: ./add_smoke_data/train/images/fire_train_img_720_jpg.rf.66e4e7baf9aed04001b25d99f2d6edaa.jpg  \n",
      "  inflating: ./add_smoke_data/train/images/fire_train_img_721_jpg.rf.1b1853f395ecb1005265080c6c2e7dc6.jpg  \n",
      "  inflating: ./add_smoke_data/train/images/fire_train_img_725_jpg.rf.5fb5332bdc0a04fa4e4ca147ecc14c0c.jpg  \n",
      "  inflating: ./add_smoke_data/train/images/fire_train_img_726_jpg.rf.0411e344955b6eca3887a95be821eb05.jpg  \n",
      "  inflating: ./add_smoke_data/train/images/fire_train_img_727_jpg.rf.e34c4bdb4cb784beaa5b09074656535c.jpg  \n",
      "  inflating: ./add_smoke_data/train/images/fire_train_img_728_jpg.rf.4aff6e4b24a9ebcd7297e998555bfa7c.jpg  \n",
      "  inflating: ./add_smoke_data/train/images/fire_train_img_729_jpg.rf.fd58b6d9f352d3b14ad7749c905f7d49.jpg  \n",
      "  inflating: ./add_smoke_data/train/images/fire_train_img_730_jpg.rf.79aa92cd833359656e934258ae0eaab9.jpg  \n",
      "  inflating: ./add_smoke_data/train/images/fire_train_img_731_jpg.rf.5ea3b59101e7107f39317d91b3adf98e.jpg  \n",
      "  inflating: ./add_smoke_data/train/images/fire_train_img_732_jpg.rf.f84c15758e5a61232eeca28bcd5a4087.jpg  \n",
      "  inflating: ./add_smoke_data/train/images/fire_train_img_733_jpg.rf.0f0f48e13bfd0c24a53bccf94fa2ad4d.jpg  \n",
      "  inflating: ./add_smoke_data/train/images/fire_train_img_734_jpg.rf.99b2248f2cecfc1a9e60773ebe57af84.jpg  \n",
      "  inflating: ./add_smoke_data/train/images/fire_train_img_736_jpg.rf.2c94470fc0f94ff8297b6808f32e90ea.jpg  \n",
      "  inflating: ./add_smoke_data/train/images/fire_train_img_737_jpg.rf.55e399e3f5f796be85f9ee22660a443e.jpg  \n",
      "  inflating: ./add_smoke_data/train/images/fire_train_img_740_jpg.rf.6adaac45f3e83a2e494a2dda9c5a6b21.jpg  \n",
      "  inflating: ./add_smoke_data/train/images/fire_train_img_741_jpg.rf.7d8dc5feed4c89d562a982b41a36a557.jpg  \n",
      "  inflating: ./add_smoke_data/train/images/fire_train_img_742_jpg.rf.7c5ccab5949d6e063dc5c1459dab9217.jpg  \n",
      "  inflating: ./add_smoke_data/train/images/fire_train_img_743_jpg.rf.fd89b500fb0373869f846699cc91abe4.jpg  \n",
      "  inflating: ./add_smoke_data/train/images/fire_train_img_745_jpg.rf.e5537b735f06e59aa7a307c69e6a14d7.jpg  \n",
      "  inflating: ./add_smoke_data/train/images/fire_train_img_746_jpg.rf.eb796db3789b61c014e721db94947037.jpg  \n",
      "  inflating: ./add_smoke_data/train/images/fire_train_img_747_jpg.rf.60a13b313d299d75cadf6671c5d65157.jpg  \n",
      "  inflating: ./add_smoke_data/train/images/fire_train_img_748_jpg.rf.696adb60f2741647d2580165881f1d84.jpg  \n",
      "  inflating: ./add_smoke_data/train/images/fire_train_img_749_jpg.rf.b5a5f693832c2241d2f299c830f2532b.jpg  \n",
      "  inflating: ./add_smoke_data/train/images/fire_train_img_750_jpg.rf.2d25310b7c5e93a8c0b9b4276775ebfd.jpg  \n",
      "  inflating: ./add_smoke_data/train/images/fire_train_img_752_jpg.rf.43d7465b9b03010b98867db1f4edcc7b.jpg  \n",
      "  inflating: ./add_smoke_data/train/images/fire_train_img_753_jpg.rf.e9708e6e42998899a4cdef25c99c9908.jpg  \n",
      "  inflating: ./add_smoke_data/train/images/fire_train_img_757_jpg.rf.347ebc0eaed7cc555a0462232dd1de29.jpg  \n",
      "  inflating: ./add_smoke_data/train/images/fire_train_img_758_jpg.rf.939620e193a983bdf9ed149b0e35002e.jpg  \n",
      "  inflating: ./add_smoke_data/train/images/fire_train_img_759_jpg.rf.40e5bffd02ed1f0c86329add32933283.jpg  \n",
      "  inflating: ./add_smoke_data/train/images/fire_train_img_760_jpg.rf.b4c666bc2a68e33422b04cce52ec07a4.jpg  \n",
      "  inflating: ./add_smoke_data/train/images/fire_train_img_761_jpg.rf.3204fcf645a82964a679fef70e9aaa13.jpg  \n",
      "  inflating: ./add_smoke_data/train/images/fire_train_img_762_jpg.rf.7688aaf97caece6be9ffe124c5d66f92.jpg  \n",
      "  inflating: ./add_smoke_data/train/images/fire_train_img_763_jpg.rf.1f29e057cfbd216e69d63b9b6d1fe8dc.jpg  \n",
      "  inflating: ./add_smoke_data/train/images/fire_train_img_765_jpg.rf.4b63508995661eb97d23f36753e9e20a.jpg  \n",
      "  inflating: ./add_smoke_data/train/images/fire_train_img_767_jpg.rf.0fbf85545f48b47209a61fefa3788c93.jpg  \n",
      "  inflating: ./add_smoke_data/train/images/fire_train_img_769_jpg.rf.44d918e1c76d399697b54b3f45141029.jpg  \n",
      "  inflating: ./add_smoke_data/train/images/fire_train_img_770_jpg.rf.516f318941b30b16dc8c8d663adc322c.jpg  \n",
      "  inflating: ./add_smoke_data/train/images/fire_train_img_771_jpg.rf.c0303b3d9a302ef6b161bb89a82da7dc.jpg  \n",
      "  inflating: ./add_smoke_data/train/images/fire_train_img_774_jpg.rf.2141511b64f540e3bdfe62280dbf5dcd.jpg  \n",
      "  inflating: ./add_smoke_data/train/images/fire_train_img_776_jpg.rf.23ef0b0a1bb7dd5bd8bce2ae1ba5451d.jpg  \n",
      "  inflating: ./add_smoke_data/train/images/fire_train_img_777_jpg.rf.2922ac6decfc00d67983fbfaf811c0ea.jpg  \n",
      "  inflating: ./add_smoke_data/train/images/fire_train_img_778_jpg.rf.d071352ae99184ed6f1e6b03b65e838b.jpg  \n",
      "  inflating: ./add_smoke_data/train/images/fire_train_img_782_jpg.rf.2f0624958d5931f4a209c0c046e2bade.jpg  \n",
      "  inflating: ./add_smoke_data/train/images/fire_train_img_784_jpg.rf.be9603b22194fd5d3ed2e80a25dc24aa.jpg  \n",
      "  inflating: ./add_smoke_data/train/images/fire_train_img_786_jpg.rf.4d74c6c32995620b063266602161f84b.jpg  \n",
      "  inflating: ./add_smoke_data/train/images/fire_train_img_81_jpg.rf.affe4f7b6d391e54e458f30f19e1da2e.jpg  \n",
      "  inflating: ./add_smoke_data/train/images/fire_train_img_82_jpg.rf.1bce59eaa4c2bc687454ec4c99a83a26.jpg  \n",
      "  inflating: ./add_smoke_data/train/images/fire_train_img_84_jpg.rf.06d2f61811731537e0d565d99a3a109e.jpg  \n",
      "  inflating: ./add_smoke_data/train/images/fire_train_img_87_jpg.rf.b6d6db79866cb5a34b363ad9e6944402.jpg  \n",
      "  inflating: ./add_smoke_data/train/images/fire_train_img_88_jpg.rf.e7c327e1d3b6a525eff708fabd26f900.jpg  \n",
      "  inflating: ./add_smoke_data/train/images/fire_train_img_91_jpg.rf.1c01cfb20612ee5f3e97fa5796d12c9d.jpg  \n",
      "  inflating: ./add_smoke_data/train/images/fire_train_img_92_jpg.rf.8b288f930d8af4daab6480cc51a602e4.jpg  \n",
      "  inflating: ./add_smoke_data/train/images/fire_train_img_94_jpg.rf.f92709ee903482026dd5e53e840b8cde.jpg  \n",
      "  inflating: ./add_smoke_data/train/images/fire_train_img_95_jpg.rf.eaf6318961c06e9f0d381cb0411e3653.jpg  \n",
      "  inflating: ./add_smoke_data/train/images/fire_train_img_96_jpg.rf.64cab05bafc3cfb7dc85f976996194e5.jpg  \n",
      "  inflating: ./add_smoke_data/train/images/fire1-594-_jpg.rf.6e0efec573ae51259e4ac14f4a12797f.jpg  \n",
      "  inflating: ./add_smoke_data/train/images/fire1-594-_jpg.rf.90e66308eca97bc3207ac8b769072de3.jpg  \n",
      "  inflating: ./add_smoke_data/train/images/FireDetectionImage_MirrorWEBFire090_jpg.rf.85f990386c966da64cae10118ed32587.jpg  \n",
      "  inflating: ./add_smoke_data/train/images/FireDetectionImage_MirrorWEBFire090_jpg.rf.9d7e5ade72f9fd49e1d0c53cbfbfd70e.jpg  \n",
      "  inflating: ./add_smoke_data/train/images/FireDetectionImage_MirrorWEBFire090_jpg.rf.e4d1dd8925a70a6c5abc661ada52fee8.jpg  \n",
      "  inflating: ./add_smoke_data/train/images/fires-1-_jpg.rf.8d740b2853c03ecac5612df7e777c433.jpg  \n",
      "  inflating: ./add_smoke_data/train/images/fires-10-_jpg.rf.2ab8a888ba0dc97c5321e2da48c0ab0f.jpg  \n",
      "  inflating: ./add_smoke_data/train/images/fires-100-_jpg.rf.e15b96cb8b20bd0220b1d2d25c540954.jpg  \n",
      "  inflating: ./add_smoke_data/train/images/fires-103-_jpg.rf.daef28516a1c95ae65bead0d445fd25d.jpg  \n",
      "  inflating: ./add_smoke_data/train/images/fires-104-_jpg.rf.d7afec237b75545d3c8e60baf7f4c261.jpg  \n",
      "  inflating: ./add_smoke_data/train/images/fires-108-_jpg.rf.e7881d27c300f963d123caf51e64a925.jpg  \n",
      "  inflating: ./add_smoke_data/train/images/fires-109-_jpg.rf.091b8fc3f61df30ece7713968918f3e5.jpg  \n",
      "  inflating: ./add_smoke_data/train/images/fires-11-_jpg.rf.b5cf0ef5060d7b41bbbdf3523a72cfce.jpg  \n",
      "  inflating: ./add_smoke_data/train/images/fires-110-_jpg.rf.997db60667e61743e7f0da1426b2235a.jpg  \n",
      "  inflating: ./add_smoke_data/train/images/fires-111-_jpg.rf.c0c02b75423e043b2601ea9dc00d71d1.jpg  \n",
      "  inflating: ./add_smoke_data/train/images/fires-112-_jpg.rf.32556e9f38af045412e92d79ead1db7a.jpg  \n",
      "  inflating: ./add_smoke_data/train/images/fires-114-_jpg.rf.075f1b2c489daab8faeb0b596fb32ce3.jpg  \n",
      "  inflating: ./add_smoke_data/train/images/fires-115-_jpg.rf.83edc18353f0bb818f376c3475b22fb3.jpg  \n",
      "  inflating: ./add_smoke_data/train/images/fires-12-_jpg.rf.e9df103b48ede65a4a4766ff7fa201f4.jpg  \n",
      "  inflating: ./add_smoke_data/train/images/fires-13-_jpg.rf.0af06ad19ca21efe02186540e6ab5f40.jpg  \n",
      "  inflating: ./add_smoke_data/train/images/fires-14-_jpg.rf.13ba994b1fc89ccb6d02545588b2e4b7.jpg  \n",
      "  inflating: ./add_smoke_data/train/images/fires-15-_jpg.rf.0c3eea61d1c5d3d2224828bf85047da6.jpg  \n",
      "  inflating: ./add_smoke_data/train/images/fires-16-_jpg.rf.fb1424392b12fa218e929c387b2cea68.jpg  \n",
      "  inflating: ./add_smoke_data/train/images/fires-17-_jpg.rf.0c938939ee02d9821df4bc218ec417e1.jpg  \n",
      "  inflating: ./add_smoke_data/train/images/fires-18-_jpg.rf.f16e592f52f31e03bff97153df2b3172.jpg  \n",
      "  inflating: ./add_smoke_data/train/images/fires-19-_jpg.rf.5b19e5923eb5ad6f67c97ca8d7043eba.jpg  \n",
      "  inflating: ./add_smoke_data/train/images/fires-2-_jpg.rf.1a83038a284684ddcf9ac082c5a4567c.jpg  \n",
      "  inflating: ./add_smoke_data/train/images/fires-20-_jpg.rf.e583ac7496a0420dab66f74277a8d77c.jpg  \n",
      "  inflating: ./add_smoke_data/train/images/fires-21-_jpg.rf.26371360617893f6ddd999529aa4e497.jpg  \n",
      "  inflating: ./add_smoke_data/train/images/fires-24-_jpg.rf.3d7b0d83bdb2920955587cbc987aa147.jpg  \n",
      "  inflating: ./add_smoke_data/train/images/fires-25-_jpg.rf.184187da77c5d1cc5ec72d597489da97.jpg  \n",
      "  inflating: ./add_smoke_data/train/images/fires-26-_jpg.rf.86ee1f18ee3655a130cef7e36297e06c.jpg  \n",
      "  inflating: ./add_smoke_data/train/images/fires-27-_jpg.rf.71e92914d8a15de97113773016402e40.jpg  \n",
      "  inflating: ./add_smoke_data/train/images/fires-28-_jpg.rf.a3dbaf8a62de951e72af4b99a32242c4.jpg  \n",
      "  inflating: ./add_smoke_data/train/images/fires-3-_jpg.rf.2e10e8513e5c60113c8a65131bd9ee04.jpg  \n",
      "  inflating: ./add_smoke_data/train/images/fires-31-_jpg.rf.8b3bc70ffd55899db0df5e8f8dc79734.jpg  \n",
      "  inflating: ./add_smoke_data/train/images/fires-33-_jpg.rf.72a22177ecf47ca9fc34484a2059264b.jpg  \n",
      "  inflating: ./add_smoke_data/train/images/fires-36-_jpg.rf.b2a4ca027bbe58c5829f832d72f938c9.jpg  \n",
      "  inflating: ./add_smoke_data/train/images/fires-37-_jpg.rf.5d1620c0412f5f12d5a90939927c7128.jpg  \n",
      "  inflating: ./add_smoke_data/train/images/fires-38-_jpg.rf.72a76ae8b4dd00883302404864746354.jpg  \n",
      "  inflating: ./add_smoke_data/train/images/fires-39-_jpg.rf.e560ae15e76540c9e6f38cc251541d5b.jpg  \n",
      "  inflating: ./add_smoke_data/train/images/fires-4-_jpg.rf.8c55f7c8ed36b1572d24de9d03ab8e4a.jpg  \n",
      "  inflating: ./add_smoke_data/train/images/fires-40-_jpg.rf.76b006531bcd8226c287d46b92f0a52d.jpg  \n",
      "  inflating: ./add_smoke_data/train/images/fires-42-_jpg.rf.a969f93a1072b191b6085e0ac3b709b0.jpg  \n",
      "  inflating: ./add_smoke_data/train/images/fires-43-_jpg.rf.8519f51ecd98e3e8956e3dbbed540fc5.jpg  \n",
      "  inflating: ./add_smoke_data/train/images/fires-44-_jpg.rf.ccf2ebcffee940fe26890d311f1d7918.jpg  \n",
      "  inflating: ./add_smoke_data/train/images/fires-45-_jpg.rf.28cf7953671b2317085d24aecd989203.jpg  \n",
      "  inflating: ./add_smoke_data/train/images/fires-47-_jpg.rf.6914ad46c78cae7114561da7a8fc4ec1.jpg  \n",
      "  inflating: ./add_smoke_data/train/images/fires-48-_jpg.rf.d9a127b1d131ef9259802027c347da7f.jpg  \n",
      "  inflating: ./add_smoke_data/train/images/fires-49-_jpg.rf.fc7272961500bdc0f65a91380681eeea.jpg  \n",
      "  inflating: ./add_smoke_data/train/images/fires-5-_jpg.rf.04c6db4f69d51c0d76cb1580f9c588d8.jpg  \n",
      "  inflating: ./add_smoke_data/train/images/fires-51-_jpg.rf.971bcc1d778d98eab03934702c3dcef9.jpg  \n",
      "  inflating: ./add_smoke_data/train/images/fires-52-_jpg.rf.ca512b092373f92da67baa4904c4a0ef.jpg  \n",
      "  inflating: ./add_smoke_data/train/images/fires-53-_jpg.rf.6e8f1f75487440aaa4f708bfbc9dc470.jpg  \n",
      "  inflating: ./add_smoke_data/train/images/fires-54-_jpg.rf.3ddfd34ceb91fc3ad57cee3a33910f35.jpg  \n",
      "  inflating: ./add_smoke_data/train/images/fires-55-_jpg.rf.bfa38763555ed2ad4adcdbb7ea06422d.jpg  \n",
      "  inflating: ./add_smoke_data/train/images/fires-56-_jpg.rf.119eb29bdc7638806d3ed3257e5fa742.jpg  \n",
      "  inflating: ./add_smoke_data/train/images/fires-57-_jpg.rf.a22891c40620dbe8051b62ab378fda4c.jpg  \n",
      "  inflating: ./add_smoke_data/train/images/fires-58-_jpg.rf.9644b7f0339164af747cc81b5978aac7.jpg  \n",
      "  inflating: ./add_smoke_data/train/images/fires-59-_jpg.rf.2bfa18e3d3b53719b0108edb6c312579.jpg  \n",
      "  inflating: ./add_smoke_data/train/images/fires-6-_jpg.rf.f0b99682abe346597903b2cb7b2e26d8.jpg  \n",
      "  inflating: ./add_smoke_data/train/images/fires-60-_jpg.rf.14866522c0d131e2064ba570b3c66126.jpg  \n",
      "  inflating: ./add_smoke_data/train/images/fires-61-_jpg.rf.653d17aec8552667a5d41aa501631509.jpg  \n",
      "  inflating: ./add_smoke_data/train/images/fires-62-_jpg.rf.023d9fd5d096ec224d5cdf26cf6808f4.jpg  \n",
      "  inflating: ./add_smoke_data/train/images/fires-63-_jpg.rf.24a9b17bab37f940c2780bd7afd24bd4.jpg  \n",
      "  inflating: ./add_smoke_data/train/images/fires-64-_jpg.rf.4d6df2a40b1a3c16e53c114fa369324d.jpg  \n",
      "  inflating: ./add_smoke_data/train/images/fires-65-_jpg.rf.e0f885c27cc0eb2152984138e550e036.jpg  \n",
      "  inflating: ./add_smoke_data/train/images/fires-68-_jpg.rf.83dc167088db127c5d43a3b9a7504364.jpg  \n",
      "  inflating: ./add_smoke_data/train/images/fires-69-_jpg.rf.d2f5364bbb6a9efe4ae3f91118848c38.jpg  \n",
      "  inflating: ./add_smoke_data/train/images/fires-7-_jpg.rf.12230e0fbd74fc2a30c2fcca5e7c5b85.jpg  \n",
      "  inflating: ./add_smoke_data/train/images/fires-70-_jpg.rf.53bbce3e8afa1118611fd59bca4e4c41.jpg  \n",
      "  inflating: ./add_smoke_data/train/images/fires-71-_jpg.rf.61f9ef75e7f7b5daff842ebdc9731cb3.jpg  \n",
      "  inflating: ./add_smoke_data/train/images/fires-72-_jpg.rf.08c88d7798167aae53565132ac626ddc.jpg  \n",
      "  inflating: ./add_smoke_data/train/images/fires-73-_jpg.rf.6d164fdf5a0b322694631800c3c8bb49.jpg  \n",
      "  inflating: ./add_smoke_data/train/images/fires-74-_jpg.rf.0799db5371645067bfb50c59c13b28a0.jpg  \n",
      "  inflating: ./add_smoke_data/train/images/fires-75-_jpg.rf.8427ccf2467a12b11ec36e00a14e6bf1.jpg  \n",
      "  inflating: ./add_smoke_data/train/images/fires-76-_jpg.rf.00a05d57d726fcaeea70880a63c0fc9f.jpg  \n",
      "  inflating: ./add_smoke_data/train/images/fires-77-_jpg.rf.6a7a51bac4667d037f570d42a2464eae.jpg  \n",
      "  inflating: ./add_smoke_data/train/images/fires-79-_jpg.rf.e44c0e4bfe9d6fd6d333392f55bf990f.jpg  \n",
      "  inflating: ./add_smoke_data/train/images/fires-8-_jpg.rf.22b933267552ba5ebec21127ddf230ff.jpg  \n",
      "  inflating: ./add_smoke_data/train/images/fires-80-_jpg.rf.be41753ed19ff6abd33cd0fafda78468.jpg  \n",
      "  inflating: ./add_smoke_data/train/images/fires-82-_jpg.rf.e23ca34a6e6b5018a9d89a8ff363fdde.jpg  \n",
      "  inflating: ./add_smoke_data/train/images/fires-83-_jpg.rf.c7b0222557a53cca0a133af1707192c3.jpg  \n",
      "  inflating: ./add_smoke_data/train/images/fires-85-_jpg.rf.a09e6812e682bdc0c57e846bf92d6e4b.jpg  \n",
      "  inflating: ./add_smoke_data/train/images/fires-86-_jpg.rf.b900fd7897bfcaa8241f200bb7e5be5b.jpg  \n",
      "  inflating: ./add_smoke_data/train/images/fires-87-_jpg.rf.7a5c1bb7978154406eb552cb56fc67d1.jpg  \n",
      "  inflating: ./add_smoke_data/train/images/fires-88-_jpg.rf.5334c6e5dd916f0e9792930f1f37be37.jpg  \n",
      "  inflating: ./add_smoke_data/train/images/fires-89-_jpg.rf.3011b5a6a7f1bd5d08d643d88a850257.jpg  \n",
      "  inflating: ./add_smoke_data/train/images/fires-91-_jpg.rf.8e42091507536785a787736d6aba68fd.jpg  \n",
      "  inflating: ./add_smoke_data/train/images/fires-92-_jpg.rf.e8086a1134b85f42470b14abffa29234.jpg  \n",
      "  inflating: ./add_smoke_data/train/images/fires-93-_jpg.rf.24fd3298dd5f137859ae322e099e564c.jpg  \n",
      "  inflating: ./add_smoke_data/train/images/fires-94-_jpg.rf.c45206762925e0079b587ddde6ac27c0.jpg  \n",
      "  inflating: ./add_smoke_data/train/images/fires-95-_jpg.rf.1bb9c7f8dbaf6a60b9ffc5ceb8d66327.jpg  \n",
      "  inflating: ./add_smoke_data/train/images/fires-97-_jpg.rf.f3783f85bf703d25021c7617ef040d6b.jpg  \n",
      "  inflating: ./add_smoke_data/train/images/fires-98-_jpg.rf.45115092b0b5d0353612ac838f65275a.jpg  \n",
      "  inflating: ./add_smoke_data/train/images/fires-99-_jpg.rf.1e8ae0274c722c23dc8ebfacdc589e3f.jpg  \n",
      "  inflating: ./add_smoke_data/train/images/H_00223_png.rf.4bade170d192c6b36189f3b700284d6f.jpg  \n",
      "  inflating: ./add_smoke_data/train/images/H_00223_png.rf.548c5aa52ea4d46c44db2ac1c27ea4d1.jpg  \n",
      "  inflating: ./add_smoke_data/train/images/H_00223_png.rf.5d03b0f25f6b4c4564bcbe1a0d5cb1de.jpg  \n",
      "  inflating: ./add_smoke_data/train/images/H_00276_png.rf.70d242a3f0cb34a45a778d661a323935.jpg  \n",
      "  inflating: ./add_smoke_data/train/images/H_00276_png.rf.a7cf790359b224420fbf6c225eb330fe.jpg  \n",
      "  inflating: ./add_smoke_data/train/images/H_00512_png.rf.3fe6d8f6b12b4b202c6f36fdad4ea7c6.jpg  \n",
      "  inflating: ./add_smoke_data/train/images/H_00512_png.rf.60dc90bf1bce1df831dc92aa39a06081.jpg  \n",
      "  inflating: ./add_smoke_data/train/images/H_00512_png.rf.63eb1d589a9e1f626045b9cbd17bc4b5.jpg  \n",
      "  inflating: ./add_smoke_data/train/images/H_00610_png.rf.089caf37df37e5f132b68e54ecc23f85.jpg  \n",
      "  inflating: ./add_smoke_data/train/images/H_00610_png.rf.5fca01202a663ddeb8a368b2d7abc8e8.jpg  \n",
      "  inflating: ./add_smoke_data/train/images/H_00610_png.rf.b45cca348879e3b4a8e1abd67667b795.jpg  \n",
      "  inflating: ./add_smoke_data/train/images/H_00713_png.rf.a80f8d48472862e6aeda7b84ea86030d.jpg  \n",
      "  inflating: ./add_smoke_data/train/images/H_00713_png.rf.be2199d3c1dcc131db550871d755ff23.jpg  \n",
      "  inflating: ./add_smoke_data/train/images/H_00932_png.rf.7e31d338c0a017b4c3c007386353d93d.jpg  \n",
      "  inflating: ./add_smoke_data/train/images/H_00932_png.rf.ab8c533c691452edcd7068298a3759d2.jpg  \n",
      "  inflating: ./add_smoke_data/train/images/H_01336_png.rf.8d443058ee6f9b1d7fa320e515420ae3.jpg  \n",
      "  inflating: ./add_smoke_data/train/images/H_01336_png.rf.b4f4ab7f10407bfae5f6bcdf12a09fc6.jpg  \n",
      "  inflating: ./add_smoke_data/train/images/H_01870_png.rf.3d0359ff5c09c46eeabfa1a6beed0f2a.jpg  \n",
      "  inflating: ./add_smoke_data/train/images/H_01870_png.rf.4eac1f913c00f6b34957e755deb6e502.jpg  \n",
      "  inflating: ./add_smoke_data/train/images/H_02210_png.rf.d929526e6a26c4633826794b825fe24c.jpg  \n",
      "  inflating: ./add_smoke_data/train/images/H_02210_png.rf.e010103437a914f03f459de490492e34.jpg  \n",
      "  inflating: ./add_smoke_data/train/images/H_02532_png.rf.3227cd6927c57d0806699d8c9e868bff.jpg  \n",
      "  inflating: ./add_smoke_data/train/images/H_02532_png.rf.b4e106a29e6b67958b627bd497a5874d.jpg  \n",
      "  inflating: ./add_smoke_data/train/images/H_02686_png.rf.0265a23e6ab88f4011ff5e1153b24451.jpg  \n",
      "  inflating: ./add_smoke_data/train/images/H_02686_png.rf.8e969bd14bb240313eea7de240040e28.jpg  \n",
      "  inflating: ./add_smoke_data/train/images/H_02701_png.rf.22bf27d674d3640c2b2fae5626b2f475.jpg  \n",
      "  inflating: ./add_smoke_data/train/images/H_02701_png.rf.2a55e0a76bcaa0c1d7aae088309657b5.jpg  \n",
      "  inflating: ./add_smoke_data/train/images/H_02701_png.rf.45f87d3470d75bddc504fd6b2f037097.jpg  \n",
      "  inflating: ./add_smoke_data/train/images/H_03460_png.rf.29d972f1eabb27964c9c7a58d9773678.jpg  \n",
      "  inflating: ./add_smoke_data/train/images/H_03460_png.rf.ddaa26bd4c3a16f1653a9124f35ef0b6.jpg  \n",
      "  inflating: ./add_smoke_data/train/images/H_03697_png.rf.2d501cb5e5a87e47af75588b754a0845.jpg  \n",
      "  inflating: ./add_smoke_data/train/images/H_03697_png.rf.edd1f4a156970729f1de7aa3b089a1f2.jpg  \n",
      "  inflating: ./add_smoke_data/train/images/H_04009_png.rf.203cd4ff35194141328ccec8cc2514a0.jpg  \n",
      "  inflating: ./add_smoke_data/train/images/H_04009_png.rf.3b1ba53ed9678b54fe4f260df0e14813.jpg  \n",
      "  inflating: ./add_smoke_data/train/images/H_04009_png.rf.4d04dea906717e6187949dad45f253eb.jpg  \n",
      "  inflating: ./add_smoke_data/train/images/H_04105_png.rf.3069d93b13a81fab6ca5894dbf702be7.jpg  \n",
      "  inflating: ./add_smoke_data/train/images/H_04105_png.rf.96e6369fab2c336d9c713af485d8bb27.jpg  \n",
      "  inflating: ./add_smoke_data/train/images/H_04105_png.rf.aa8873cbca4040c94789f790924e910c.jpg  \n",
      "  inflating: ./add_smoke_data/train/images/H_04446_png.rf.5b6001c7a3c03fd9b1da551bd3100df0.jpg  \n",
      "  inflating: ./add_smoke_data/train/images/H_04446_png.rf.87d8f2a5db2cc34d742fe6f7bc1dcbe5.jpg  \n",
      "  inflating: ./add_smoke_data/train/images/H_04446_png.rf.9e99c595e4777d8cc6ca0f0fed96d1e5.jpg  \n",
      "  inflating: ./add_smoke_data/train/images/H_04836_png.rf.572d92aeb801f5e23ce94ae3a68ce1b4.jpg  \n",
      "  inflating: ./add_smoke_data/train/images/H_04836_png.rf.9baba7ae22d39e4926dff622bcf70bd4.jpg  \n",
      "  inflating: ./add_smoke_data/train/images/H_04922_png.rf.342d12dde06742718dc1306c6038be3f.jpg  \n",
      "  inflating: ./add_smoke_data/train/images/H_04922_png.rf.48eb139f7060eb2fa00e6fb033b8ae0e.jpg  \n",
      "  inflating: ./add_smoke_data/train/images/H_04922_png.rf.ce2ebc2535848ac7f1162b4d84dbb9a7.jpg  \n",
      "  inflating: ./add_smoke_data/train/images/H_04934_png.rf.42394f8e75cd54953e43aed714727dc6.jpg  \n",
      "  inflating: ./add_smoke_data/train/images/H_04934_png.rf.457055004cf2cca1772246fdc8f931e6.jpg  \n",
      "  inflating: ./add_smoke_data/train/images/H_05519_png.rf.3f859c1ee8cac2e669246a0f0dccebfc.jpg  \n",
      "  inflating: ./add_smoke_data/train/images/H_05519_png.rf.a19615e5531033043f9ac496feb78296.jpg  \n",
      "  inflating: ./add_smoke_data/train/images/H_05519_png.rf.fd9e03b5bba151441b975bdd0a538787.jpg  \n",
      "  inflating: ./add_smoke_data/train/images/H_05751_png.rf.5e359c252f7fa863fcfab986f071efd3.jpg  \n",
      "  inflating: ./add_smoke_data/train/images/H_05751_png.rf.677f2354837f44f5355c3557e27ecf8b.jpg  \n",
      "  inflating: ./add_smoke_data/train/images/H_05922_png.rf.0cc4d31d3fab91d3ba1f3b048abfec93.jpg  \n",
      "  inflating: ./add_smoke_data/train/images/H_05922_png.rf.36bcf2c4f18df8881e194d00d1c02a47.jpg  \n",
      "  inflating: ./add_smoke_data/train/images/H_05950_png.rf.1071a7fbe6318a9d28289ddf51d92323.jpg  \n",
      "  inflating: ./add_smoke_data/train/images/H_05950_png.rf.f3dc130fb2b3a1b487ebf66387a4142b.jpg  \n",
      "  inflating: ./add_smoke_data/train/images/H_06089_png.rf.167013934a886ac6665498895debe5b6.jpg  \n",
      "  inflating: ./add_smoke_data/train/images/H_06089_png.rf.8292c85b667e21e0586242bcc879a922.jpg  \n",
      "  inflating: ./add_smoke_data/train/images/H_06142_png.rf.18c49ccf678d2b028962dc9db22541a4.jpg  \n",
      "  inflating: ./add_smoke_data/train/images/H_06142_png.rf.4198e2f21b217e8ebe3bb701f5e60013.jpg  \n",
      "  inflating: ./add_smoke_data/train/images/H_06142_png.rf.5cd652aace30ccf4e503d33e90daa9a9.jpg  \n",
      "  inflating: ./add_smoke_data/train/images/H_06421_png.rf.08a5f79548a279e4d2c349102b187a62.jpg  \n",
      "  inflating: ./add_smoke_data/train/images/H_06421_png.rf.42d9f48872cc1702d43ea94b1cc824fc.jpg  \n",
      "  inflating: ./add_smoke_data/train/images/H_06421_png.rf.e8f3a3f39307b248ce99bf651d650bbf.jpg  \n",
      "  inflating: ./add_smoke_data/train/images/H_06550_png.rf.033534c5a41465bf6309f1ea6f8e368e.jpg  \n",
      "  inflating: ./add_smoke_data/train/images/H_06550_png.rf.14c05ebd1102c8b524d4bfa9fec7378a.jpg  \n",
      "  inflating: ./add_smoke_data/train/images/H_06550_png.rf.b1d21ab8c453412c85446536946e861b.jpg  \n",
      "  inflating: ./add_smoke_data/train/images/H_06665_png.rf.724c19f60dd81d18572d752a21bf00c6.jpg  \n",
      "  inflating: ./add_smoke_data/train/images/H_06665_png.rf.b874738662dabc043d7179a1f9cc97bb.jpg  \n",
      "  inflating: ./add_smoke_data/train/images/H_06665_png.rf.fa4c33d1cf3710a22e421eace2ee7a39.jpg  \n",
      "  inflating: ./add_smoke_data/train/images/H_07407_png.rf.a4e6a3b720d9d0f1fbc6c4d25ae5487b.jpg  \n",
      "  inflating: ./add_smoke_data/train/images/H_07407_png.rf.de76dc0841e95da4907e02d27dd38124.jpg  \n",
      "  inflating: ./add_smoke_data/train/images/H_07554_png.rf.00031f49c41996f39ee2dd9906d8d746.jpg  \n",
      "  inflating: ./add_smoke_data/train/images/H_07554_png.rf.7bba26d4bc7ea7e53b9f0f5825d3f131.jpg  \n",
      "  inflating: ./add_smoke_data/train/images/H_07554_png.rf.884bd17dfc083a96e6c9ccf6bc9dc7ae.jpg  \n",
      "  inflating: ./add_smoke_data/train/images/H_07884_png.rf.2dd0df6d594db151128155835adab29a.jpg  \n",
      "  inflating: ./add_smoke_data/train/images/H_07884_png.rf.49745200c7a5520bed0f7c6bdf18fa1c.jpg  \n",
      "  inflating: ./add_smoke_data/train/images/H_07884_png.rf.a7eaac990279cc4a888c089b85cce764.jpg  \n",
      "  inflating: ./add_smoke_data/train/images/H_08008_png.rf.4d75be809be06ac976bbbd8f3a73d635.jpg  \n",
      "  inflating: ./add_smoke_data/train/images/H_08008_png.rf.d10583818bb28377c2f7004ef45f20bf.jpg  \n",
      "  inflating: ./add_smoke_data/train/images/H_08034_png.rf.94fcf4bbe1515817d7fc14f8018a1bc1.jpg  \n",
      "  inflating: ./add_smoke_data/train/images/H_08034_png.rf.c39bbe8b15bde9ac5ea1a9688dfb5874.jpg  \n",
      "  inflating: ./add_smoke_data/train/images/H_08051_png.rf.9ede790a23bf4d0ac101fec4d3f45d22.jpg  \n",
      "  inflating: ./add_smoke_data/train/images/H_08051_png.rf.af53e6b160f21c6b9aeed2e1cf469660.jpg  \n",
      "  inflating: ./add_smoke_data/train/images/H_08056_png.rf.e3897276971069bbf321e1e7b37e6a68.jpg  \n",
      "  inflating: ./add_smoke_data/train/images/H_08231_png.rf.c12a3d54c50a23198de1b27846ab3148.jpg  \n",
      "  inflating: ./add_smoke_data/train/images/H_08231_png.rf.d8de6a46fe4be1290d8442730fae99df.jpg  \n",
      "  inflating: ./add_smoke_data/train/images/H_08368_png.rf.50c2e4a7548e1552665a7d04b4729301.jpg  \n",
      "  inflating: ./add_smoke_data/train/images/H_08368_png.rf.64fdf54ae582b68ed87e2484720132b7.jpg  \n",
      "  inflating: ./add_smoke_data/train/images/H_08459_png.rf.062a7158a3971e3b2bba49e51a25a11a.jpg  \n",
      "  inflating: ./add_smoke_data/train/images/H_08459_png.rf.1e54e3ed18d9e5a6e65b7a6bf284f567.jpg  \n",
      "  inflating: ./add_smoke_data/train/images/H_08459_png.rf.a99589d81a28b5242c24b2c008f6298a.jpg  \n",
      "  inflating: ./add_smoke_data/train/images/H_08646_png.rf.09ac1934892045c289f437195e0bcdad.jpg  \n",
      "  inflating: ./add_smoke_data/train/images/H_08646_png.rf.590830aac2ea9a97cd08cdfd6ffd9a03.jpg  \n",
      "  inflating: ./add_smoke_data/train/images/H_08646_png.rf.f295eeee9f637ff912fe983b4e694053.jpg  \n",
      "  inflating: ./add_smoke_data/train/images/H_08848_png.rf.1be2bbb6261832fe828c200002692f72.jpg  \n",
      "  inflating: ./add_smoke_data/train/images/H_08848_png.rf.433f23d51d270a8a200642f0ccc49ea3.jpg  \n",
      "  inflating: ./add_smoke_data/train/images/H_08961_png.rf.8f6a411dd5c5163234dded5d2d305a75.jpg  \n",
      "  inflating: ./add_smoke_data/train/images/H_08961_png.rf.ad50ab4139fc924aae8194fe5fb00a1b.jpg  \n",
      "  inflating: ./add_smoke_data/train/images/H_08961_png.rf.e1107ae42941df4df8c81dbe40da9ee5.jpg  \n",
      "  inflating: ./add_smoke_data/train/images/H_09466_png.rf.9d1d78a35040f8f33493c753b7005f54.jpg  \n",
      "  inflating: ./add_smoke_data/train/images/H_09466_png.rf.b1584b3c5cb395d275acfe4e8b95527d.jpg  \n",
      "  inflating: ./add_smoke_data/train/images/image-1-_jpg.rf.9a4897b5a2f2a8c38076839151015b8d.jpg  \n",
      "  inflating: ./add_smoke_data/train/images/image-10-_jpg.rf.9e11171cfb4dd7a2d2a70fa8f742b99e.jpg  \n",
      "  inflating: ./add_smoke_data/train/images/image-100-_jpg.rf.8b9254926c4715b95f499da72339f2ee.jpg  \n",
      "  inflating: ./add_smoke_data/train/images/image-101-_jpg.rf.650276b1db644fd1c2ba8ea32d7357a0.jpg  \n",
      "  inflating: ./add_smoke_data/train/images/image-102-_jpg.rf.62a8d98f994a984e2a2ecbbc35cdbf23.jpg  \n",
      "  inflating: ./add_smoke_data/train/images/image-103-_jpg.rf.696eebaf2552936b8e22aa8b0f449693.jpg  \n",
      "  inflating: ./add_smoke_data/train/images/image-104-_jpg.rf.e79d63f27d3b047248711ab88096e233.jpg  \n",
      "  inflating: ./add_smoke_data/train/images/image-105-_jpg.rf.248b75af89ffd761ccfaa74a20237bb9.jpg  \n",
      "  inflating: ./add_smoke_data/train/images/image-106-_jpg.rf.3ec0f76b341279d991ab4cff7d5394ba.jpg  \n",
      "  inflating: ./add_smoke_data/train/images/image-107-_jpg.rf.0e23aba47222d6fa525aae2cf07bdedb.jpg  \n",
      "  inflating: ./add_smoke_data/train/images/image-11-_jpg.rf.b936a2a358ea9f1eda533765fa4f1ba8.jpg  \n",
      "  inflating: ./add_smoke_data/train/images/image-111-_jpg.rf.572431ee5bf56c2ad90a44b19684e359.jpg  \n",
      "  inflating: ./add_smoke_data/train/images/image-112-_jpg.rf.f2a109ed12b0a604490c37ed2c920c9e.jpg  \n",
      "  inflating: ./add_smoke_data/train/images/image-113-_jpg.rf.baf75999c45bb34daa49bcffced08862.jpg  \n",
      "  inflating: ./add_smoke_data/train/images/image-114-_jpg.rf.6680977442e49523370f223c1084e04d.jpg  \n",
      "  inflating: ./add_smoke_data/train/images/image-115-_jpg.rf.5f04e934495e504b3a4e8cd357d72f49.jpg  \n",
      "  inflating: ./add_smoke_data/train/images/image-117-_jpg.rf.aa1bff849d5ab13fe8fce461940f5d85.jpg  \n",
      "  inflating: ./add_smoke_data/train/images/image-118-_jpg.rf.582dad4262b60c2b250eb281760c81c0.jpg  \n",
      "  inflating: ./add_smoke_data/train/images/image-119-_jpg.rf.99e92690a41af700f6da30b7808aba47.jpg  \n",
      "  inflating: ./add_smoke_data/train/images/image-12-_jpg.rf.b4e961a2d7e5eab113281630ca727819.jpg  \n",
      "  inflating: ./add_smoke_data/train/images/image-120-_jpg.rf.c64baad8d41c8a3b58497de3cc37103d.jpg  \n",
      "  inflating: ./add_smoke_data/train/images/image-121-_jpg.rf.b2777c575bafcd5de1969347a7e7c06d.jpg  \n",
      "  inflating: ./add_smoke_data/train/images/image-123-_jpg.rf.56b1ff8fabf70dad16e9b0a72a7cb7f9.jpg  \n",
      "  inflating: ./add_smoke_data/train/images/image-124-_jpg.rf.ba53e40d6d38ac1c1e7a32c92640941e.jpg  \n",
      "  inflating: ./add_smoke_data/train/images/image-126-_jpg.rf.2897abccff0a12ae46e1c7ab07ca65a3.jpg  \n",
      "  inflating: ./add_smoke_data/train/images/image-127-_jpg.rf.479573ccef8caa6e57076b9d4195036b.jpg  \n",
      "  inflating: ./add_smoke_data/train/images/image-128-_jpg.rf.b9edd946b4b309af7736c305b895853a.jpg  \n",
      "  inflating: ./add_smoke_data/train/images/image-129-_jpg.rf.4c598a8058953fdb009571411221c3fd.jpg  \n",
      "  inflating: ./add_smoke_data/train/images/image-130-_jpg.rf.e9b549530ce9b598b3c3fba1e738ccc4.jpg  \n",
      "  inflating: ./add_smoke_data/train/images/image-131-_jpg.rf.51ef7d91e478ef9b52764f3314ba2fc3.jpg  \n",
      "  inflating: ./add_smoke_data/train/images/image-132-_jpg.rf.b1e94d17ce980a2b9b1cfa5a09dfa39e.jpg  \n",
      "  inflating: ./add_smoke_data/train/images/image-133-_jpg.rf.b9169e0eac8b7f184cfb462aae07518f.jpg  \n",
      "  inflating: ./add_smoke_data/train/images/image-136-_jpg.rf.7d571f876a576f6f1379b340cdba67f4.jpg  \n",
      "  inflating: ./add_smoke_data/train/images/image-137-_jpg.rf.305e98cb757de32e37e6c14526519b3c.jpg  \n",
      "  inflating: ./add_smoke_data/train/images/image-138-_jpg.rf.3198a803f71101fdc37914f4c566b7eb.jpg  \n",
      "  inflating: ./add_smoke_data/train/images/image-139-_jpg.rf.90345c41e4cf9c8cb1c33bf79672d2cf.jpg  \n",
      "  inflating: ./add_smoke_data/train/images/image-14-_jpg.rf.c176f44c5946eef64ca884457827899b.jpg  \n",
      "  inflating: ./add_smoke_data/train/images/image-140-_jpg.rf.24b4cf85b28a4320496f4795c675a777.jpg  \n",
      "  inflating: ./add_smoke_data/train/images/image-141-_jpg.rf.53799c8f489fd24b26ed7194af9b658b.jpg  \n",
      "  inflating: ./add_smoke_data/train/images/image-142-_jpg.rf.e8de6a72a6fa8311748ac6938a0a91b5.jpg  \n",
      "  inflating: ./add_smoke_data/train/images/image-143-_jpg.rf.95db266d60ae4c9cc49306b5e4aa1c4e.jpg  \n",
      "  inflating: ./add_smoke_data/train/images/image-146-_jpg.rf.abf95231f3a950f979c61c0644ad1ea4.jpg  \n",
      "  inflating: ./add_smoke_data/train/images/image-147-_jpg.rf.1035cf7ffb71447540fad9492cb21749.jpg  \n",
      "  inflating: ./add_smoke_data/train/images/image-148-_jpg.rf.40ae72ab9818030c186141be27f22ee8.jpg  \n",
      "  inflating: ./add_smoke_data/train/images/image-149-_jpg.rf.8425e83d554a0403eaddd8b6fb8bf441.jpg  \n",
      "  inflating: ./add_smoke_data/train/images/image-15-_jpg.rf.c88b02372e8dc22ace158c0d408f0b8c.jpg  \n",
      "  inflating: ./add_smoke_data/train/images/image-150-_jpg.rf.894cd24dd70373ba17cc22f92c72638c.jpg  \n",
      "  inflating: ./add_smoke_data/train/images/image-153-_jpg.rf.23dee4370db7edfef564af2fd6c680d3.jpg  \n",
      "  inflating: ./add_smoke_data/train/images/image-156-_jpg.rf.4b90d01b5c0b8ef77c4fb9aea47957f7.jpg  \n",
      "  inflating: ./add_smoke_data/train/images/image-157-_jpg.rf.6aae3e0afd3f7917ef91a5feaf2d68e7.jpg  \n",
      "  inflating: ./add_smoke_data/train/images/image-158-_jpg.rf.97e8c4c18e015415f63173da9f327d57.jpg  \n",
      "  inflating: ./add_smoke_data/train/images/image-16-_jpg.rf.c6575a5d3a25b68223ed265ba738a910.jpg  \n",
      "  inflating: ./add_smoke_data/train/images/image-160-_jpg.rf.6b371deeddf7767fb971f39973c397a9.jpg  \n",
      "  inflating: ./add_smoke_data/train/images/image-161-_jpg.rf.c84b5829a19b40d4ab2cf9c6a2083640.jpg  \n",
      "  inflating: ./add_smoke_data/train/images/image-163-_jpg.rf.7a7bb5d05600b0916c672fca118c5672.jpg  \n",
      "  inflating: ./add_smoke_data/train/images/image-164-_jpg.rf.9a1445a5464195bcafd5886e0903d2ca.jpg  \n",
      "  inflating: ./add_smoke_data/train/images/image-166-_jpg.rf.9bf0403c84a9751a19ce886f34970ffc.jpg  \n",
      "  inflating: ./add_smoke_data/train/images/image-167-_jpg.rf.d01ae1b7fb23ee35a33e14fe292f5c94.jpg  \n",
      "  inflating: ./add_smoke_data/train/images/image-168-_jpg.rf.93a86077a42c1f9793d433b3e353061c.jpg  \n",
      "  inflating: ./add_smoke_data/train/images/image-169-_jpg.rf.c3696c39884a58e403cf7f02f3056410.jpg  \n",
      "  inflating: ./add_smoke_data/train/images/image-17-_jpg.rf.43b184a4621cae33860d4588caf48dce.jpg  \n",
      "  inflating: ./add_smoke_data/train/images/image-170-_jpg.rf.830f06a867acfed4e450d4b59493a215.jpg  \n",
      "  inflating: ./add_smoke_data/train/images/image-171-_jpg.rf.20fe5b9eba35ac4bd50cdc5b53af5e2d.jpg  \n",
      "  inflating: ./add_smoke_data/train/images/image-172-_jpg.rf.0d40721d8e4ac485e23d3215e658858f.jpg  \n",
      "  inflating: ./add_smoke_data/train/images/image-175-_jpg.rf.9cf003d1794c06274ebb34f6326b5472.jpg  \n",
      "  inflating: ./add_smoke_data/train/images/image-176-_jpg.rf.93545435c3a409201ee8ce4761001765.jpg  \n",
      "  inflating: ./add_smoke_data/train/images/image-178-_jpg.rf.edae019509400c6bf63bcd62a176b940.jpg  \n",
      "  inflating: ./add_smoke_data/train/images/image-179-_jpg.rf.49f701c4b397025d4e33e793cdd21783.jpg  \n",
      "  inflating: ./add_smoke_data/train/images/image-18-_jpg.rf.bbd3324778a6d48b8e1becca0c4799f6.jpg  \n",
      "  inflating: ./add_smoke_data/train/images/image-181-_jpg.rf.0f3420b566dbe9eb6c840fd777437ad6.jpg  \n",
      "  inflating: ./add_smoke_data/train/images/image-182-_jpg.rf.c7145a071cdf22eeb5acefbb99e20559.jpg  \n",
      "  inflating: ./add_smoke_data/train/images/image-183-_jpg.rf.21a6f7d76729169c1b3dd7428c4c7d14.jpg  \n",
      "  inflating: ./add_smoke_data/train/images/image-184-_jpg.rf.a81aa412a525410da03b4cfc8a9dc29d.jpg  \n",
      "  inflating: ./add_smoke_data/train/images/image-185-_jpg.rf.32665e1c37993fba0b0ebf95487a12de.jpg  \n",
      "  inflating: ./add_smoke_data/train/images/image-186-_jpg.rf.01bbf723fdd4a2ed84e284cf5a1ee092.jpg  \n",
      "  inflating: ./add_smoke_data/train/images/image-189-_jpg.rf.065b9fed10edc283c1891c2aa60b3ca9.jpg  \n",
      "  inflating: ./add_smoke_data/train/images/image-19-_jpg.rf.8f7d9e83fec239157e10bbed006572dc.jpg  \n",
      "  inflating: ./add_smoke_data/train/images/image-190-_jpg.rf.cdc7d10c47613005b2d382423f70ab6a.jpg  \n",
      "  inflating: ./add_smoke_data/train/images/image-191-_jpg.rf.d7a5d288b45943b9149df56fc1878f34.jpg  \n",
      "  inflating: ./add_smoke_data/train/images/image-192-_jpg.rf.ef6d1fab7211339b0e2d29edb3f87490.jpg  \n",
      "  inflating: ./add_smoke_data/train/images/image-193-_jpg.rf.87215858ed5e588a65d9c8a318e0e4c6.jpg  \n",
      "  inflating: ./add_smoke_data/train/images/image-194-_jpg.rf.93b0d1cd0278fad10de8cb930f0fd866.jpg  \n",
      "  inflating: ./add_smoke_data/train/images/image-195-_jpg.rf.f901605c6c22a9bda21b54c075b85dd3.jpg  \n",
      "  inflating: ./add_smoke_data/train/images/image-196-_jpg.rf.7c92e48dcacf406a1c1a44a192c2fd67.jpg  \n",
      "  inflating: ./add_smoke_data/train/images/image-197-_jpg.rf.83c68f19aa56cd1c033844f697add468.jpg  \n",
      "  inflating: ./add_smoke_data/train/images/image-199-_jpg.rf.a01d6d06d5750a1db3fe5f49054faba7.jpg  \n",
      "  inflating: ./add_smoke_data/train/images/image-2-_jpg.rf.c389e66a7c36136cb4472c0fd9793249.jpg  \n",
      "  inflating: ./add_smoke_data/train/images/image-20-_jpg.rf.960d3e6fae029ae3c92981f92a642d7d.jpg  \n",
      "  inflating: ./add_smoke_data/train/images/image-200-_jpg.rf.956ec0ab250958840935869dff6cc43e.jpg  \n",
      "  inflating: ./add_smoke_data/train/images/image-201-_jpg.rf.20b565b39f06e20864ff8112e6d15faa.jpg  \n",
      "  inflating: ./add_smoke_data/train/images/image-203-_jpg.rf.acb9c31da3e0e3a250f0af80dcab2319.jpg  \n",
      "  inflating: ./add_smoke_data/train/images/image-204-_jpg.rf.094ce4f7da9c5dd30b2e4776de5b787b.jpg  \n",
      "  inflating: ./add_smoke_data/train/images/image-205-_jpg.rf.d90952ab58b3f7de75062dc0443c4382.jpg  \n",
      "  inflating: ./add_smoke_data/train/images/image-206-_jpg.rf.49c56d72a9b745e01db0c6b9310a994f.jpg  \n",
      "  inflating: ./add_smoke_data/train/images/image-207-_jpg.rf.2ab19df5205446a2160fedd62b80e734.jpg  \n",
      "  inflating: ./add_smoke_data/train/images/image-209-_jpg.rf.47496890fd4b62c53d7ee4106d1c2fe3.jpg  \n",
      "  inflating: ./add_smoke_data/train/images/image-21-_jpg.rf.6c5c4f5c9f298c8d90822302131e5656.jpg  \n",
      "  inflating: ./add_smoke_data/train/images/image-210-_jpg.rf.8bc0f7c690b6b221963f018e9defcabe.jpg  \n",
      "  inflating: ./add_smoke_data/train/images/image-212-_jpg.rf.50f5090da97dcd51402981353d45842f.jpg  \n",
      "  inflating: ./add_smoke_data/train/images/image-213-_jpg.rf.bffdcb43992580e7eebcf270033d1fc8.jpg  \n",
      "  inflating: ./add_smoke_data/train/images/image-214-_jpg.rf.7db3fd890050a0323e608476e2d3fdb5.jpg  \n",
      "  inflating: ./add_smoke_data/train/images/image-215-_jpg.rf.5786ed1eea9708d4a80a8d88e165496c.jpg  \n",
      "  inflating: ./add_smoke_data/train/images/image-216-_jpg.rf.294684e55878f2c1a06c7ffdd68cf0c7.jpg  \n",
      "  inflating: ./add_smoke_data/train/images/image-217-_jpg.rf.7dca8c064f63b3cfbd68695caa00f062.jpg  \n",
      "  inflating: ./add_smoke_data/train/images/image-218-_jpg.rf.ab7a62dcfc1f112e974e263be50cd18e.jpg  \n",
      "  inflating: ./add_smoke_data/train/images/image-219-_jpg.rf.010b5f16903856ba2072d5241bb6e0e7.jpg  \n",
      "  inflating: ./add_smoke_data/train/images/image-22-_jpg.rf.f7336abb705909a2752fa3664e0ab918.jpg  \n",
      "  inflating: ./add_smoke_data/train/images/image-220-_jpg.rf.2095ee98bd089a2336ca1c8951df909b.jpg  \n",
      "  inflating: ./add_smoke_data/train/images/image-221-_jpg.rf.df6afd4398cc2686381dac3da96a8877.jpg  \n",
      "  inflating: ./add_smoke_data/train/images/image-222-_jpg.rf.0deb1637735492b60ba5992720ce4aaa.jpg  \n",
      "  inflating: ./add_smoke_data/train/images/image-223-_jpg.rf.ddb950387ed1c8ab6a73d643f75b42f3.jpg  \n",
      "  inflating: ./add_smoke_data/train/images/image-224-_jpg.rf.4f6517a42ac8b160ca32d44872f3aceb.jpg  \n",
      "  inflating: ./add_smoke_data/train/images/image-225-_jpg.rf.821d34dc45dd1105681cea3ad9130fc7.jpg  \n",
      "  inflating: ./add_smoke_data/train/images/image-226-_jpg.rf.96c66d3c6ee14e79c8b94f109c96d50c.jpg  \n",
      "  inflating: ./add_smoke_data/train/images/image-227-_jpg.rf.a2ada84a8e1b9a927ec93101b6425fbc.jpg  \n",
      "  inflating: ./add_smoke_data/train/images/image-228-_jpg.rf.b13c055ca0bd5d57df149e337979a907.jpg  \n",
      "  inflating: ./add_smoke_data/train/images/image-230-_jpg.rf.add3c9154d2df6474c542fefb670f699.jpg  \n",
      "  inflating: ./add_smoke_data/train/images/image-231-_jpg.rf.5c29d7e5e42499d75b9ca6c0a183df53.jpg  \n",
      "  inflating: ./add_smoke_data/train/images/image-232-_jpg.rf.4fb660527feb62b61da8a77d678a82fb.jpg  \n",
      "  inflating: ./add_smoke_data/train/images/image-233-_jpg.rf.6632f018e1fa0f1fdfa1761d2b60c3cc.jpg  \n",
      "  inflating: ./add_smoke_data/train/images/image-234-_jpg.rf.3c6170125126d50619c04383eded951d.jpg  \n",
      "  inflating: ./add_smoke_data/train/images/image-235-_jpg.rf.993b3facbcc4ce8713e726f5ac7188f0.jpg  \n",
      "  inflating: ./add_smoke_data/train/images/image-236-_jpg.rf.edab0adb836d799b189641f073b49338.jpg  \n",
      "  inflating: ./add_smoke_data/train/images/image-237-_jpg.rf.c3b54ab1af7fdd714c179a678ea1b7d9.jpg  \n",
      "  inflating: ./add_smoke_data/train/images/image-238-_jpg.rf.e61384f5176165006f21014d029ab79a.jpg  \n",
      "  inflating: ./add_smoke_data/train/images/image-24-_jpg.rf.6f475693d0602dedf2e912af8685dea4.jpg  \n",
      "  inflating: ./add_smoke_data/train/images/image-240-_jpg.rf.384de0fc4e41e660cb71642ee8403102.jpg  \n",
      "  inflating: ./add_smoke_data/train/images/image-241-_jpg.rf.ee131f60fa755d7facb552a2a98bd640.jpg  \n",
      "  inflating: ./add_smoke_data/train/images/image-244-_jpg.rf.187db697bf32d0dd73505de3f0aaa01c.jpg  \n",
      "  inflating: ./add_smoke_data/train/images/image-246-_jpg.rf.77173b27c5104f490b804ecb354e251b.jpg  \n",
      "  inflating: ./add_smoke_data/train/images/image-247-_jpg.rf.c0c393bb9b706e2b4149fa186d84d3e7.jpg  \n",
      "  inflating: ./add_smoke_data/train/images/image-249-_jpg.rf.c5f66e28bb33e47b662ef67b4ba9c0bd.jpg  \n",
      "  inflating: ./add_smoke_data/train/images/image-251-_jpg.rf.c854b58f0cfad38075031811df57c381.jpg  \n",
      "  inflating: ./add_smoke_data/train/images/image-252-_jpg.rf.4c1afa3ab36c87196d21b564a6737f50.jpg  \n",
      "  inflating: ./add_smoke_data/train/images/image-254-_jpg.rf.7f0f9ee0cd1f2d091a4211b111af3dea.jpg  \n",
      "  inflating: ./add_smoke_data/train/images/image-255-_jpg.rf.a3f04d6da746dc02be645d75dbfd66ee.jpg  \n",
      "  inflating: ./add_smoke_data/train/images/image-256-_jpg.rf.a25c8f71fad6d822106d3c72c5d7be0a.jpg  \n",
      "  inflating: ./add_smoke_data/train/images/image-257-_jpg.rf.61f2e0cc030647e7e5f483e5d320a40d.jpg  \n",
      "  inflating: ./add_smoke_data/train/images/image-258-_jpg.rf.802f505440cad7efe3091b65c0254459.jpg  \n",
      "  inflating: ./add_smoke_data/train/images/image-26-_jpg.rf.ea7744c6ba41099b14023af212aedfc9.jpg  \n",
      "  inflating: ./add_smoke_data/train/images/image-261-_jpg.rf.30db9ab4516c01d5f03bbfe8f401ab27.jpg  \n",
      "  inflating: ./add_smoke_data/train/images/image-262-_jpg.rf.8acfbaba496f20fc72b8c59a25881012.jpg  \n",
      "  inflating: ./add_smoke_data/train/images/image-263-_jpg.rf.59b4cc08f9ca423f182d473bf14ce40a.jpg  \n",
      "  inflating: ./add_smoke_data/train/images/image-264-_jpg.rf.39dd69c07bb9f477c2d5face71edfe93.jpg  \n",
      "  inflating: ./add_smoke_data/train/images/image-266-_jpg.rf.61a7fdd467fc0b11c7bf6ef851bf1e1b.jpg  \n",
      "  inflating: ./add_smoke_data/train/images/image-269-_jpg.rf.8acf6bf2be9b71219f3f4f1e0a95703c.jpg  \n",
      "  inflating: ./add_smoke_data/train/images/image-27-_jpg.rf.42bff352ff93dabfdd7e593daa856ee8.jpg  \n",
      "  inflating: ./add_smoke_data/train/images/image-270-_jpg.rf.4c36f3e1b6cb880b37419281c3e85ad7.jpg  \n",
      "  inflating: ./add_smoke_data/train/images/image-271-_jpg.rf.e3d6aa32e2ceda4948605af0fc7bc314.jpg  \n",
      "  inflating: ./add_smoke_data/train/images/image-272-_jpg.rf.ccbeab5e3dc8ed36c800a14ea86a606e.jpg  \n",
      "  inflating: ./add_smoke_data/train/images/image-273-_jpg.rf.2029767ad3d1a494c8fc973da7dbc3f4.jpg  \n",
      "  inflating: ./add_smoke_data/train/images/image-274-_jpg.rf.3bfc57cab12074798a874d81a190a41b.jpg  \n",
      "  inflating: ./add_smoke_data/train/images/image-275-_jpg.rf.5ea7b3d747dba181472463bc21135d39.jpg  \n",
      "  inflating: ./add_smoke_data/train/images/image-276-_jpg.rf.ac0f4d16dbe7373081637e1614a2ec50.jpg  \n",
      "  inflating: ./add_smoke_data/train/images/image-278-_jpg.rf.7d1ee0976ac5326d6e00a3e7d471c562.jpg  \n",
      "  inflating: ./add_smoke_data/train/images/image-279-_jpg.rf.11092a107411e54ee56ab2d1bb9d33f5.jpg  \n",
      "  inflating: ./add_smoke_data/train/images/image-28-_jpg.rf.1a1c77dd23d826b3a71422d7c7ee164d.jpg  \n",
      "  inflating: ./add_smoke_data/train/images/image-280-_jpg.rf.704f29ac3c7ad139a8e14f9a8506a0b2.jpg  \n",
      "  inflating: ./add_smoke_data/train/images/image-281-_jpg.rf.e49e103e491f4a01a5538d50b8b7400a.jpg  \n",
      "  inflating: ./add_smoke_data/train/images/image-282-_jpg.rf.d5543658cf2a244a17f803bf5ee91b3d.jpg  \n",
      "  inflating: ./add_smoke_data/train/images/image-283-_jpg.rf.2dd657c46d168c632a7c40854225607e.jpg  \n",
      "  inflating: ./add_smoke_data/train/images/image-284-_jpg.rf.8991df66c66adecdade102853eeee803.jpg  \n",
      "  inflating: ./add_smoke_data/train/images/image-286-_jpg.rf.189555891e3b1906dad4204665d30236.jpg  \n",
      "  inflating: ./add_smoke_data/train/images/image-29-_jpg.rf.a0554555b26843447a287a62124fd24d.jpg  \n",
      "  inflating: ./add_smoke_data/train/images/image-290-_jpg.rf.5c8f4800906ce056f9a349f82a561530.jpg  \n",
      "  inflating: ./add_smoke_data/train/images/image-291-_jpg.rf.eb87ba517479d6e2446977296910089f.jpg  \n",
      "  inflating: ./add_smoke_data/train/images/image-292-_jpg.rf.fa04beb76adcf7607f525f1383252a4f.jpg  \n",
      "  inflating: ./add_smoke_data/train/images/image-295-_jpg.rf.1888f876a641216e817625834b33257b.jpg  \n",
      "  inflating: ./add_smoke_data/train/images/image-296-_jpg.rf.669bec692f8b159be43e50b09313628e.jpg  \n",
      "  inflating: ./add_smoke_data/train/images/image-297-_jpg.rf.cb1796cd37ae6c011efa18d4a2bcc593.jpg  \n",
      "  inflating: ./add_smoke_data/train/images/image-298-_jpg.rf.4227035d0270239e7653f4702f516292.jpg  \n",
      "  inflating: ./add_smoke_data/train/images/image-299-_jpg.rf.e8605f4a0337ec35a644cf1c4aec20a9.jpg  \n",
      "  inflating: ./add_smoke_data/train/images/image-3-_jpg.rf.18e24ab43743d758ebb318bd6b7c09b8.jpg  \n",
      "  inflating: ./add_smoke_data/train/images/image-30-_jpg.rf.a840730ddb204df81b8d46fc9550a393.jpg  \n",
      "  inflating: ./add_smoke_data/train/images/image-302-_jpg.rf.12f559438876f3ce03d959aec7fc6ef8.jpg  \n",
      "  inflating: ./add_smoke_data/train/images/image-304-_jpg.rf.9e9dd5313e3280a6de8e2cd113e05a01.jpg  \n",
      "  inflating: ./add_smoke_data/train/images/image-306-_jpg.rf.6b2d3650235086eb80b7ee3122b57eb3.jpg  \n",
      "  inflating: ./add_smoke_data/train/images/image-307-_jpg.rf.2adb799a1a67c17a304f23cab71864bc.jpg  \n",
      "  inflating: ./add_smoke_data/train/images/image-308-_jpg.rf.b8541b005c9784af5208b44b1c17a6b2.jpg  \n",
      "  inflating: ./add_smoke_data/train/images/image-309-_jpg.rf.110554a07b04408744d5bf8a76046a48.jpg  \n",
      "  inflating: ./add_smoke_data/train/images/image-31-_jpg.rf.29bd5e6e6eb85421889844d9cb99e27e.jpg  \n",
      "  inflating: ./add_smoke_data/train/images/image-310-_jpg.rf.b423ca2cd9fa954e3a2a8b836e0dfc8a.jpg  \n",
      "  inflating: ./add_smoke_data/train/images/image-311-_jpg.rf.1c6b1138f40d1cf689141ac9a39b59b5.jpg  \n",
      "  inflating: ./add_smoke_data/train/images/image-312-_jpg.rf.87c217b2548720dd9d92f5630e9060fc.jpg  \n",
      "  inflating: ./add_smoke_data/train/images/image-313-_jpg.rf.cee32dbcfdba5134f99e5be3578e1e5b.jpg  \n",
      "  inflating: ./add_smoke_data/train/images/image-314-_jpg.rf.f8efb16d09b2b31330cc1fe791d9bfaf.jpg  \n",
      "  inflating: ./add_smoke_data/train/images/image-315-_jpg.rf.f2d374b38951bdea13e3e01d9bf452e3.jpg  \n",
      "  inflating: ./add_smoke_data/train/images/image-316-_jpg.rf.32cceb2726e0714636b596db98906ef7.jpg  \n",
      "  inflating: ./add_smoke_data/train/images/image-319-_jpg.rf.e471b888981d22d9205aa2835f196d37.jpg  \n",
      "  inflating: ./add_smoke_data/train/images/image-32-_jpg.rf.a151a39a2ca3d09e04a746c96f681f17.jpg  \n",
      "  inflating: ./add_smoke_data/train/images/image-321-_jpg.rf.ae405c7848ad625b644952a5db9cae1a.jpg  \n",
      "  inflating: ./add_smoke_data/train/images/image-323-_jpg.rf.f47fe65285b59cfee6ecb462bd956d4e.jpg  \n",
      "  inflating: ./add_smoke_data/train/images/image-324-_jpg.rf.4c67c2e57bcbffe3dca15d46e748040b.jpg  \n",
      "  inflating: ./add_smoke_data/train/images/image-325-_jpg.rf.a391639c9915fafbca4894e67a2e3d9b.jpg  \n",
      "  inflating: ./add_smoke_data/train/images/image-327-_jpg.rf.845cb2e94a7c3376dd23b48001c2a3b3.jpg  \n",
      "  inflating: ./add_smoke_data/train/images/image-329-_jpg.rf.85bb2ba433ca8f089372b2a3ffc23e5e.jpg  \n",
      "  inflating: ./add_smoke_data/train/images/image-33-_jpg.rf.fb9e519d788ed76980f91b325b71c50d.jpg  \n",
      "  inflating: ./add_smoke_data/train/images/image-330-_jpg.rf.4c56a8bae992a6dff81352de758dd239.jpg  \n",
      "  inflating: ./add_smoke_data/train/images/image-333-_jpg.rf.3336c4495515cc315f4da2dc0316c042.jpg  \n",
      "  inflating: ./add_smoke_data/train/images/image-336-_jpg.rf.5560721c343e14d26b916e1a0e6bfc66.jpg  \n",
      "  inflating: ./add_smoke_data/train/images/image-338-_jpg.rf.3d3337d96b2f27d4caaa3f8ddcb7d878.jpg  \n",
      "  inflating: ./add_smoke_data/train/images/image-339-_jpg.rf.b7e34c240d8b31fd774dcf747c9a8fac.jpg  \n",
      "  inflating: ./add_smoke_data/train/images/image-34-_jpg.rf.e827614848a7733ab21981185d7bcb20.jpg  \n",
      "  inflating: ./add_smoke_data/train/images/image-341-_jpg.rf.71a74c660c46a3224187348456c58b0d.jpg  \n",
      "  inflating: ./add_smoke_data/train/images/image-342-_jpg.rf.d0b680a2ae56364e3fcf02933ae4f1fb.jpg  \n",
      "  inflating: ./add_smoke_data/train/images/image-343-_jpg.rf.01bfe88905060e3007d22e9fdbfcc16a.jpg  \n",
      "  inflating: ./add_smoke_data/train/images/image-344-_jpg.rf.9c54a8e5eb7eea8763f29ece3abff6ec.jpg  \n",
      "  inflating: ./add_smoke_data/train/images/image-345-_jpg.rf.ebf61195ff75feea28002fd1a33e19fb.jpg  \n",
      "  inflating: ./add_smoke_data/train/images/image-347-_jpg.rf.89ee048ef6b4f3e6d54f3d082b2741a1.jpg  \n",
      "  inflating: ./add_smoke_data/train/images/image-349-_jpg.rf.007750f22f6f0e9e1eab04e13492cd3b.jpg  \n",
      "  inflating: ./add_smoke_data/train/images/image-350-_jpg.rf.c7e112aba650b7c008dc4a5570647b8e.jpg  \n",
      "  inflating: ./add_smoke_data/train/images/image-351-_jpg.rf.b20ed466895c2c0c605ed52217883840.jpg  \n",
      "  inflating: ./add_smoke_data/train/images/image-352-_jpg.rf.2f2518bf884a43f0b47b2bd34a14fee7.jpg  \n",
      "  inflating: ./add_smoke_data/train/images/image-353-_jpg.rf.467403746bb06089c169ac737072eb77.jpg  \n",
      "  inflating: ./add_smoke_data/train/images/image-354-_jpg.rf.49d6601b3c908672499910572b543c8d.jpg  \n",
      "  inflating: ./add_smoke_data/train/images/image-355-_jpg.rf.f76b57a43cba24cc824c82bf3ccdcb22.jpg  \n",
      "  inflating: ./add_smoke_data/train/images/image-356-_jpg.rf.7910ca657214e73a2c964cde23689527.jpg  \n",
      "  inflating: ./add_smoke_data/train/images/image-357-_jpg.rf.27bae9438feef800123b83a4329f86bc.jpg  \n",
      "  inflating: ./add_smoke_data/train/images/image-359-_jpg.rf.3bc724fc41c8bfccb789fe58b8ffad7f.jpg  \n",
      "  inflating: ./add_smoke_data/train/images/image-36-_jpg.rf.7998ec1f4791709d101c4b2e6bf5ed8c.jpg  \n",
      "  inflating: ./add_smoke_data/train/images/image-360-_jpg.rf.036bcc0de90665f43390bf32eaf292e5.jpg  \n",
      "  inflating: ./add_smoke_data/train/images/image-361-_jpg.rf.d5211d8ebf54cf7bb6ab09747cfae214.jpg  \n",
      "  inflating: ./add_smoke_data/train/images/image-362-_jpg.rf.fa533af250f3393700932153a1760934.jpg  \n",
      "  inflating: ./add_smoke_data/train/images/image-363-_jpg.rf.a5ef486aa313d93274cfbcf3c3ba4773.jpg  \n",
      "  inflating: ./add_smoke_data/train/images/image-364-_jpg.rf.36eed19e062456c3baec078de1ff5e19.jpg  \n",
      "  inflating: ./add_smoke_data/train/images/image-368-_jpg.rf.0071e133277573f0c4945d3325ca2eaa.jpg  \n",
      "  inflating: ./add_smoke_data/train/images/image-369-_jpg.rf.c4622d31a67cd188b66b5bb9bad4f8d2.jpg  \n",
      "  inflating: ./add_smoke_data/train/images/image-37-_jpg.rf.37153ac988863ce116e878069ec97982.jpg  \n",
      "  inflating: ./add_smoke_data/train/images/image-370-_jpg.rf.8b10986e010615a4ebc6c6ad55d88ad0.jpg  \n",
      "  inflating: ./add_smoke_data/train/images/image-371-_jpg.rf.34e394e324a62618921c93b54d555fbd.jpg  \n",
      "  inflating: ./add_smoke_data/train/images/image-372-_jpg.rf.38030fac1bdafbfbf212975f98aff69e.jpg  \n",
      "  inflating: ./add_smoke_data/train/images/image-373-_jpg.rf.bcfd38f3b67cf33b12418a805aa4b0fc.jpg  \n",
      "  inflating: ./add_smoke_data/train/images/image-374-_jpg.rf.231a89090226118314ca323788a069b8.jpg  \n",
      "  inflating: ./add_smoke_data/train/images/image-375-_jpg.rf.5975fdd5ffdfcf5c0bd7d76d1d2bc9d6.jpg  \n",
      "  inflating: ./add_smoke_data/train/images/image-376-_jpg.rf.7fd5e5cc87659a8f508a06668549aad4.jpg  \n",
      "  inflating: ./add_smoke_data/train/images/image-377-_jpg.rf.ed860829b1ff2afb7c657c6fc2d5211e.jpg  \n",
      "  inflating: ./add_smoke_data/train/images/image-378-_jpg.rf.508bd116cee8c5abf30e0952b7b49ac7.jpg  \n",
      "  inflating: ./add_smoke_data/train/images/image-379-_jpg.rf.e74365eae79b4264738ec9b3894a1459.jpg  \n",
      "  inflating: ./add_smoke_data/train/images/image-38-_jpg.rf.7cc762bc03127cd9d06c26bd8c5a6738.jpg  \n",
      "  inflating: ./add_smoke_data/train/images/image-380-_jpg.rf.c50c98fe6ed5500db933e678e05e7365.jpg  \n",
      "  inflating: ./add_smoke_data/train/images/image-381-_jpg.rf.56dae71388eb1bd20ab24716da907fec.jpg  \n",
      "  inflating: ./add_smoke_data/train/images/image-382-_jpg.rf.f55255a414d55062c9af1443a9deebac.jpg  \n",
      "  inflating: ./add_smoke_data/train/images/image-383-_jpg.rf.cc477ed54bba7fcdc255901e0a9b8501.jpg  \n",
      "  inflating: ./add_smoke_data/train/images/image-384-_jpg.rf.823b54ac607b68656deb158ce8273b99.jpg  \n",
      "  inflating: ./add_smoke_data/train/images/image-385-_jpg.rf.c6beb5d048b555e4ed8c0770904a059a.jpg  \n",
      "  inflating: ./add_smoke_data/train/images/image-386-_jpg.rf.eccc814cadfabb725de8593b54aa77e5.jpg  \n",
      "  inflating: ./add_smoke_data/train/images/image-389-_jpg.rf.f3cc9b310e7fad449530164515949a10.jpg  \n",
      "  inflating: ./add_smoke_data/train/images/image-390-_jpg.rf.aa78a403da769a3fa179cd166e1657bb.jpg  \n",
      "  inflating: ./add_smoke_data/train/images/image-391-_jpg.rf.128d3f7d8da7e3b3e5a94e0f99dbf7a4.jpg  \n",
      "  inflating: ./add_smoke_data/train/images/image-392-_jpg.rf.f7e67f4adf0c5f50c478b36fa9bc3e68.jpg  \n",
      "  inflating: ./add_smoke_data/train/images/image-393-_jpg.rf.93a3bb5677b214ec7c58d85f3ed89c35.jpg  \n",
      "  inflating: ./add_smoke_data/train/images/image-395-_jpg.rf.12be765ed35393215b0ff834deb55822.jpg  \n",
      "  inflating: ./add_smoke_data/train/images/image-396-_jpg.rf.25b7ae60b4f9b5f4cc5742dc844b1d1f.jpg  \n",
      "  inflating: ./add_smoke_data/train/images/image-397-_jpg.rf.bb0061013316f1640c93de491a2514da.jpg  \n",
      "  inflating: ./add_smoke_data/train/images/image-398-_jpg.rf.195e6d499dda83b02d58c0fda637aae4.jpg  \n",
      "  inflating: ./add_smoke_data/train/images/image-399-_jpg.rf.91a876e6a45a67033894ef472f658914.jpg  \n",
      "  inflating: ./add_smoke_data/train/images/image-4-_jpg.rf.944224896297298eb02f2dad9478ac9e.jpg  \n",
      "  inflating: ./add_smoke_data/train/images/image-40-_jpg.rf.17a2265c364917eba39d5007dee2d76e.jpg  \n",
      "  inflating: ./add_smoke_data/train/images/image-400-_jpg.rf.7c6e8adcff6b79251f21f029f4f2c07e.jpg  \n",
      "  inflating: ./add_smoke_data/train/images/image-402-_jpg.rf.efef5e856ba1d376918641f5184e88f4.jpg  \n",
      "  inflating: ./add_smoke_data/train/images/image-403-_jpg.rf.6ec66c0c764b5d1e6926268639fb9e17.jpg  \n",
      "  inflating: ./add_smoke_data/train/images/image-405-_jpg.rf.2f9f6c5779a3c83da4ce66e06ff0f79d.jpg  \n",
      "  inflating: ./add_smoke_data/train/images/image-406-_jpg.rf.b44782832d9350dc0c16fa01900c3205.jpg  \n",
      "  inflating: ./add_smoke_data/train/images/image-407-_jpg.rf.4b07ebff5924ce132bb475a2dfb5edfa.jpg  \n",
      "  inflating: ./add_smoke_data/train/images/image-408-_jpg.rf.ef6d10b0894c42847163248ad1d4b94a.jpg  \n",
      "  inflating: ./add_smoke_data/train/images/image-409-_jpg.rf.014b09f9c2e05e4736b1d0df4d6007ef.jpg  \n",
      "  inflating: ./add_smoke_data/train/images/image-41-_jpg.rf.f84b6d48e625dd8e8e2f6fcc9138fced.jpg  \n",
      "  inflating: ./add_smoke_data/train/images/image-411-_jpg.rf.2ef8bbe5f6ff9bf78f66a52119c23b65.jpg  \n",
      "  inflating: ./add_smoke_data/train/images/image-412-_jpg.rf.8684ba9935de7dfb97d5c8d581c8c1d3.jpg  \n",
      "  inflating: ./add_smoke_data/train/images/image-413-_jpg.rf.071d625c31bfd9e15ffd9a94b9a94ebb.jpg  \n",
      "  inflating: ./add_smoke_data/train/images/image-414-_jpg.rf.34a970a873a2c9a38fefd7d316d62e85.jpg  \n",
      "  inflating: ./add_smoke_data/train/images/image-415-_jpg.rf.0f53e8fdc5717391e3b1fa7f38911a8e.jpg  \n",
      "  inflating: ./add_smoke_data/train/images/image-416-_jpg.rf.52ed4097b63c6655f196ea1a868251d3.jpg  \n",
      "  inflating: ./add_smoke_data/train/images/image-418-_jpg.rf.68d97312e768e94dfecbf217ade06c7a.jpg  \n",
      "  inflating: ./add_smoke_data/train/images/image-419-_jpg.rf.147c5204eeb0bd5639736debdc9d7339.jpg  \n",
      "  inflating: ./add_smoke_data/train/images/image-42-_jpg.rf.e47cc6beecea875d2c84af91a025bffa.jpg  \n",
      "  inflating: ./add_smoke_data/train/images/image-420-_jpg.rf.5bab724c130b1e66e9d4a3f0a3ef6818.jpg  \n",
      "  inflating: ./add_smoke_data/train/images/image-421-_jpg.rf.feb30bc4b69dc5fcb9819055a8c6c88d.jpg  \n",
      "  inflating: ./add_smoke_data/train/images/image-423-_jpg.rf.f5ad08fdeaaf6bbd7410eb4b1d2c58b5.jpg  \n",
      "  inflating: ./add_smoke_data/train/images/image-427-_jpg.rf.fda34a118a50e0bec83b9d5c694312d3.jpg  \n",
      "  inflating: ./add_smoke_data/train/images/image-428-_jpg.rf.b4984135512b09755db0548e409a18b3.jpg  \n",
      "  inflating: ./add_smoke_data/train/images/image-429-_jpg.rf.2ae55c9ff4c6298da909ef92fe564327.jpg  \n",
      "  inflating: ./add_smoke_data/train/images/image-43-_jpg.rf.2ecfa98fa2d642821e33df2753ad3739.jpg  \n",
      "  inflating: ./add_smoke_data/train/images/image-431-_jpg.rf.53a55926cdc7eaf825a8f393fd4cd576.jpg  \n",
      "  inflating: ./add_smoke_data/train/images/image-433-_jpg.rf.211f7b08788cdebfcd77b5a28455f0df.jpg  \n",
      "  inflating: ./add_smoke_data/train/images/image-437-_jpg.rf.026ce31927b819900772067a5afdcbca.jpg  \n",
      "  inflating: ./add_smoke_data/train/images/image-438-_jpg.rf.9fa2a77e6a32adb54fd884826c1e59e5.jpg  \n",
      "  inflating: ./add_smoke_data/train/images/image-439-_jpg.rf.66a9f806b7008e0184365ac15d04227e.jpg  \n",
      "  inflating: ./add_smoke_data/train/images/image-44-_jpg.rf.45f51e539339f36cca3b5f653d5c7def.jpg  \n",
      "  inflating: ./add_smoke_data/train/images/image-440-_jpg.rf.755cbf4786741127f10d6c061a3804b8.jpg  \n",
      "  inflating: ./add_smoke_data/train/images/image-441-_jpg.rf.04cacba3cfbfcd0ba7728856a0362f52.jpg  \n",
      "  inflating: ./add_smoke_data/train/images/image-442-_jpg.rf.a57f3691f002af1f36493b23c5bd0876.jpg  \n",
      "  inflating: ./add_smoke_data/train/images/image-444-_jpg.rf.cbc4d21235e06cba509bf70f964941ed.jpg  \n",
      "  inflating: ./add_smoke_data/train/images/image-446-_jpg.rf.bb41273c706161b8143552355d988076.jpg  \n",
      "  inflating: ./add_smoke_data/train/images/image-447-_jpg.rf.9c76bc995102d2e4d16fd6645f94691e.jpg  \n",
      "  inflating: ./add_smoke_data/train/images/image-448-_jpg.rf.c9c0443bab0f29ec27b8bc21dbdb9776.jpg  \n",
      "  inflating: ./add_smoke_data/train/images/image-449-_jpg.rf.7db000f40db3cc262a66a6bb2f28e6ec.jpg  \n",
      "  inflating: ./add_smoke_data/train/images/image-450-_jpg.rf.8e8843a2f24429b4654324fa75573723.jpg  \n",
      "  inflating: ./add_smoke_data/train/images/image-451-_jpg.rf.91e5a53cb21e4c74274d824b1fdf6086.jpg  \n",
      "  inflating: ./add_smoke_data/train/images/image-453-_jpg.rf.60453ce28252cca02b8e6def6f5c4269.jpg  \n",
      "  inflating: ./add_smoke_data/train/images/image-454-_jpg.rf.e60ef9a4e67a49b2f6c775d86720516d.jpg  \n",
      "  inflating: ./add_smoke_data/train/images/image-456-_jpg.rf.a6b6641ecbcfcf473a8472c714accc20.jpg  \n",
      "  inflating: ./add_smoke_data/train/images/image-457-_jpg.rf.5c89fb839c3b7b525e710e2e30e23450.jpg  \n",
      "  inflating: ./add_smoke_data/train/images/image-458-_jpg.rf.5f92091744bc0cf751b59fd74cadb8b6.jpg  \n",
      "  inflating: ./add_smoke_data/train/images/image-459-_jpg.rf.911e1d14410f8f02f0cb0e9b028a8570.jpg  \n",
      "  inflating: ./add_smoke_data/train/images/image-46-_jpg.rf.82583d1e57dadd6d18bb24201193819a.jpg  \n",
      "  inflating: ./add_smoke_data/train/images/image-460-_jpg.rf.9c8cd782219bf3af9dd71b7991c32c8a.jpg  \n",
      "  inflating: ./add_smoke_data/train/images/image-461-_jpg.rf.516c90575994c0694b1a11ac47035d2b.jpg  \n",
      "  inflating: ./add_smoke_data/train/images/image-462-_jpg.rf.423ceb386068136595aa0d30557c9dd8.jpg  \n",
      "  inflating: ./add_smoke_data/train/images/image-463-_jpg.rf.8ccfcbe0e29058214fb4fcdfc0e3401f.jpg  \n",
      "  inflating: ./add_smoke_data/train/images/image-464-_jpg.rf.ce39a84bf87f660f74d4021a357cb0ab.jpg  \n",
      "  inflating: ./add_smoke_data/train/images/image-465-_jpg.rf.4e3fb80967c77a17b214f02915e88475.jpg  \n",
      "  inflating: ./add_smoke_data/train/images/image-466-_jpg.rf.6925b8743aa1d4a1679e5157335ba8b9.jpg  \n",
      "  inflating: ./add_smoke_data/train/images/image-467-_jpg.rf.3e7331c5793bcaa312aba1b61573b141.jpg  \n",
      "  inflating: ./add_smoke_data/train/images/image-468-_jpg.rf.eb2cc88590295c9fc642d1fa9cf6f0ac.jpg  \n",
      "  inflating: ./add_smoke_data/train/images/image-469-_jpg.rf.7b65aa4870b8f8bc0d173e9de8d23e03.jpg  \n",
      "  inflating: ./add_smoke_data/train/images/image-47-_jpg.rf.694f8b8b256a13bcc9dbcfd0d7f5a19c.jpg  \n",
      "  inflating: ./add_smoke_data/train/images/image-471-_jpg.rf.b641d490009680c39f9f82c10dcc2799.jpg  \n",
      "  inflating: ./add_smoke_data/train/images/image-472-_jpg.rf.9a8654f1d501d295ba4d8b74dcc5b4e7.jpg  \n",
      "  inflating: ./add_smoke_data/train/images/image-473-_jpg.rf.667648b993926ed84259736257fa58ba.jpg  \n",
      "  inflating: ./add_smoke_data/train/images/image-474-_jpg.rf.c7f6ba9216748f27e17db7e38d365731.jpg  \n",
      "  inflating: ./add_smoke_data/train/images/image-476-_jpg.rf.06f5b639f5faf3d30c19f4d009115aab.jpg  \n",
      "  inflating: ./add_smoke_data/train/images/image-477-_jpg.rf.a6cb9594d99432ad03d22f8e4af2acbd.jpg  \n",
      "  inflating: ./add_smoke_data/train/images/image-478-_jpg.rf.b769daefb40c5ee4a375c2c0915d5a10.jpg  \n",
      "  inflating: ./add_smoke_data/train/images/image-479-_jpg.rf.5c3f5f1c9747d71c39d7940edb45d953.jpg  \n",
      "  inflating: ./add_smoke_data/train/images/image-48-_jpg.rf.651cd31c615b58860c5c65302c8e2feb.jpg  \n",
      "  inflating: ./add_smoke_data/train/images/image-480-_jpg.rf.cc436ef1b66286632d09468897633070.jpg  \n",
      "  inflating: ./add_smoke_data/train/images/image-481-_jpg.rf.b39cfaa14428870422556db1e373b3c6.jpg  \n",
      "  inflating: ./add_smoke_data/train/images/image-482-_jpg.rf.4f4fdef196b7f966cd6d38736a8cbaa3.jpg  \n",
      "  inflating: ./add_smoke_data/train/images/image-483-_jpg.rf.dc0c6360567faa747a81a6dda75606dc.jpg  \n",
      "  inflating: ./add_smoke_data/train/images/image-484-_jpg.rf.17849dd120b0f06d1f91ac13c2edd33d.jpg  \n",
      "  inflating: ./add_smoke_data/train/images/image-485-_jpg.rf.c031567faff61709282eeb6c2f6060a6.jpg  \n",
      "  inflating: ./add_smoke_data/train/images/image-486-_jpg.rf.64eee7368972434abc9ddf8a91552325.jpg  \n",
      "  inflating: ./add_smoke_data/train/images/image-487-_jpg.rf.c97418cd1090b6e7da1cbf946bfc5830.jpg  \n",
      "  inflating: ./add_smoke_data/train/images/image-488-_jpg.rf.4402dd8b7bf57db6c34a9006222cd1e2.jpg  \n",
      "  inflating: ./add_smoke_data/train/images/image-489-_jpg.rf.487e2b7a9cc95588ae767d251e6bfd29.jpg  \n",
      "  inflating: ./add_smoke_data/train/images/image-49-_jpg.rf.ba90d0c10432bb95911d6aa7b4eca3b3.jpg  \n",
      "  inflating: ./add_smoke_data/train/images/image-490-_jpg.rf.a36e41187614c6e80c0b2029408bc578.jpg  \n",
      "  inflating: ./add_smoke_data/train/images/image-491-_jpg.rf.7df74621439614226516ba170560afaa.jpg  \n",
      "  inflating: ./add_smoke_data/train/images/image-492-_jpg.rf.d53e3b47caa34b7e5461ba9f7efe5227.jpg  \n",
      "  inflating: ./add_smoke_data/train/images/image-493-_jpg.rf.6aadc20fca7647f768df4c9777a1c5c8.jpg  \n",
      "  inflating: ./add_smoke_data/train/images/image-495-_jpg.rf.ac5cb0fac52b9f36dcd0db8355a6b6d0.jpg  \n",
      "  inflating: ./add_smoke_data/train/images/image-497-_jpg.rf.d79980acd8ffcf5adda80595d1ee653b.jpg  \n",
      "  inflating: ./add_smoke_data/train/images/image-498-_jpg.rf.3201f591ab49bf67413598b62f3e0320.jpg  \n",
      "  inflating: ./add_smoke_data/train/images/image-499-_jpg.rf.202d014825551b20711885738a5ccdd1.jpg  \n",
      "  inflating: ./add_smoke_data/train/images/image-5-_jpg.rf.fc12af14de58b79f317d474ea2e2b5e3.jpg  \n",
      "  inflating: ./add_smoke_data/train/images/image-50-_jpg.rf.112c28e84156ea3da63e394e960d3517.jpg  \n",
      "  inflating: ./add_smoke_data/train/images/image-500-_jpg.rf.b12c005807fcfb41ece1bac27d09a6da.jpg  \n",
      "  inflating: ./add_smoke_data/train/images/image-501-_jpg.rf.44ad82b0fa6baf47e699254bc0316610.jpg  \n",
      "  inflating: ./add_smoke_data/train/images/image-502-_jpg.rf.6311821a8d0ba8fe8031cb5275a78fb7.jpg  \n",
      "  inflating: ./add_smoke_data/train/images/image-503-_jpg.rf.b1e8a7413e5b99f4e1d2824dfbe246d8.jpg  \n",
      "  inflating: ./add_smoke_data/train/images/image-504-_jpg.rf.dac110527a2a8f7c16f8c6e7a65453df.jpg  \n",
      "  inflating: ./add_smoke_data/train/images/image-506-_jpg.rf.0e26ceec3601564cfd3d1620f29421e7.jpg  \n",
      "  inflating: ./add_smoke_data/train/images/image-507-_jpg.rf.ab3c69650835b0dbd231e82a8eb379ec.jpg  \n",
      "  inflating: ./add_smoke_data/train/images/image-508-_jpg.rf.55efb5288c6f71d72e00b71e32b2bfb4.jpg  \n",
      "  inflating: ./add_smoke_data/train/images/image-509-_jpg.rf.5d94be69058d4f610f9054a13bf27e56.jpg  \n",
      "  inflating: ./add_smoke_data/train/images/image-51-_jpg.rf.2ddd7f3e9b08f82d4174bcbc3c4f7cb3.jpg  \n",
      "  inflating: ./add_smoke_data/train/images/image-511-_jpg.rf.65b23192962db49bd10b00b430704ea0.jpg  \n",
      "  inflating: ./add_smoke_data/train/images/image-512-_jpg.rf.64da57493c945a91d1a64d8cb6e7797b.jpg  \n",
      "  inflating: ./add_smoke_data/train/images/image-515-_jpg.rf.4ee1e4fc70f0e80096d9840064304432.jpg  \n",
      "  inflating: ./add_smoke_data/train/images/image-516-_jpg.rf.70113197b124e6cd9c3c9711b1acd1ad.jpg  \n",
      "  inflating: ./add_smoke_data/train/images/image-518-_jpg.rf.3cb2bbb647074bd4c6e6966c8f4738b7.jpg  \n",
      "  inflating: ./add_smoke_data/train/images/image-519-_jpg.rf.2cd66097c3d21070018c81efae704dd4.jpg  \n",
      "  inflating: ./add_smoke_data/train/images/image-52-_jpg.rf.cdd035f090eaa02c882dd1287254b97b.jpg  \n",
      "  inflating: ./add_smoke_data/train/images/image-520-_jpg.rf.29cb3f7fe43f995d559f4b7d2f70002c.jpg  \n",
      "  inflating: ./add_smoke_data/train/images/image-522-_jpg.rf.9f414fcd7d45a7a9d18a065c6bec1152.jpg  \n",
      "  inflating: ./add_smoke_data/train/images/image-523-_jpg.rf.0c998ae318c48567e74e7c815a93033e.jpg  \n",
      "  inflating: ./add_smoke_data/train/images/image-525-_jpg.rf.593ae5c0cfc8e39d800adac227018128.jpg  \n",
      "  inflating: ./add_smoke_data/train/images/image-526-_jpg.rf.0fdb1742acaea6f40a6d99451d9dce4f.jpg  \n",
      "  inflating: ./add_smoke_data/train/images/image-529-_jpg.rf.93db1d81d7999124b1d23c634c3ed42d.jpg  \n",
      "  inflating: ./add_smoke_data/train/images/image-53-_jpg.rf.1d1f97679aa243c07ba8c5f5e2a39dbf.jpg  \n",
      "  inflating: ./add_smoke_data/train/images/image-530-_jpg.rf.6de4ed7ccedacdc45ac1ba9b90168ea8.jpg  \n",
      "  inflating: ./add_smoke_data/train/images/image-531-_jpg.rf.32216bf8d144ce0d0d0be96618d5dacc.jpg  \n",
      "  inflating: ./add_smoke_data/train/images/image-533-_jpg.rf.d7ad9271b8c2bbed6a06f1b5c26fee4b.jpg  \n",
      "  inflating: ./add_smoke_data/train/images/image-534-_jpg.rf.7e501871af22a760ac94e7880c3e4db6.jpg  \n",
      "  inflating: ./add_smoke_data/train/images/image-535-_jpg.rf.2064290b174d0946bd361d03dcaa0f17.jpg  \n",
      "  inflating: ./add_smoke_data/train/images/image-536-_jpg.rf.0a056f46ca1c8ac420d4fab2e15defa5.jpg  \n",
      "  inflating: ./add_smoke_data/train/images/image-537-_jpg.rf.f69c0c408813f5c5582fb1ee6717f4f7.jpg  \n",
      "  inflating: ./add_smoke_data/train/images/image-539-_jpg.rf.3550ada1c458dc4c536277f41f6416cf.jpg  \n",
      "  inflating: ./add_smoke_data/train/images/image-54-_jpg.rf.bc856284fcd3e8fed9cea91d89ac24ff.jpg  \n",
      "  inflating: ./add_smoke_data/train/images/image-541-_jpg.rf.104c1b8a6e826dc13791fa6078d19026.jpg  \n",
      "  inflating: ./add_smoke_data/train/images/image-542-_jpg.rf.f392489dfd38f5ad09320214cfab7d0a.jpg  \n",
      "  inflating: ./add_smoke_data/train/images/image-544-_jpg.rf.4c79e3ed98e08e0813854c86d064f79f.jpg  \n",
      "  inflating: ./add_smoke_data/train/images/image-545-_jpg.rf.2555fb623a36c82a14fae6c75fe71c9b.jpg  \n",
      "  inflating: ./add_smoke_data/train/images/image-548-_jpg.rf.8d8924f913d7ac4acbddededad87d149.jpg  \n",
      "  inflating: ./add_smoke_data/train/images/image-55-_jpg.rf.2a222b287e5eb52bbdc508059feec443.jpg  \n",
      "  inflating: ./add_smoke_data/train/images/image-550-_jpg.rf.9d51419a7f696b34c839fa6d568bb367.jpg  \n",
      "  inflating: ./add_smoke_data/train/images/image-551-_jpg.rf.eaf0292a66a58d092d941fd4491c0af6.jpg  \n",
      "  inflating: ./add_smoke_data/train/images/image-554-_jpg.rf.385d6913826e44325544d6ea599beeca.jpg  \n",
      "  inflating: ./add_smoke_data/train/images/image-555-_jpg.rf.e11631d2b07e3515d6c3bd5536ead14d.jpg  \n",
      "  inflating: ./add_smoke_data/train/images/image-556-_jpg.rf.4ee926caa0a3950b00796a1f52a804a5.jpg  \n",
      "  inflating: ./add_smoke_data/train/images/image-557-_jpg.rf.e559a916eb149c9e7df4e3cec3b2fccc.jpg  \n",
      "  inflating: ./add_smoke_data/train/images/image-558-_jpg.rf.708e218109dac24bf1ade5ab8a5e7330.jpg  \n",
      "  inflating: ./add_smoke_data/train/images/image-559-_jpg.rf.0c06d2bf4bedf49e2a8f089e3c886760.jpg  \n",
      "  inflating: ./add_smoke_data/train/images/image-560-_jpg.rf.412e3b4d337b32e0dfe08479e87dc4bf.jpg  \n",
      "  inflating: ./add_smoke_data/train/images/image-562-_jpg.rf.f57c89ac2140dd5c79c179ff69c6eed4.jpg  \n",
      "  inflating: ./add_smoke_data/train/images/image-564-_jpg.rf.f80e4614f641861021aff840335840de.jpg  \n",
      "  inflating: ./add_smoke_data/train/images/image-565-_jpg.rf.77d7a643aec9ba2315475806762af155.jpg  \n",
      "  inflating: ./add_smoke_data/train/images/image-566-_jpg.rf.e0c81b793a04c7ff79ea58c4e13af2d8.jpg  \n",
      "  inflating: ./add_smoke_data/train/images/image-568-_jpg.rf.3e18899f09e44a0ad2f88ad991e191b1.jpg  \n",
      "  inflating: ./add_smoke_data/train/images/image-569-_jpg.rf.434b4e1ca6312edaa527daa04f89ab33.jpg  \n",
      "  inflating: ./add_smoke_data/train/images/image-57-_jpg.rf.3ef50a219e2a934ebb30ef54f732e162.jpg  \n",
      "  inflating: ./add_smoke_data/train/images/image-570-_jpg.rf.040e4875077bd93d7c0d1a595712cfe6.jpg  \n",
      "  inflating: ./add_smoke_data/train/images/image-571-_jpg.rf.dbeb042f01cdad4182b2c06289755e69.jpg  \n",
      "  inflating: ./add_smoke_data/train/images/image-572-_jpg.rf.dca6c777583b9d01155915e04672b588.jpg  \n",
      "  inflating: ./add_smoke_data/train/images/image-574-_jpg.rf.8f3f3751913baab63b1bf0fa3f9ba15d.jpg  \n",
      "  inflating: ./add_smoke_data/train/images/image-575-_jpg.rf.ea959afd5dde13911a432bbbfff63610.jpg  \n",
      "  inflating: ./add_smoke_data/train/images/image-577-_jpg.rf.7691cccec0ad5e296c67a7c515049602.jpg  \n",
      "  inflating: ./add_smoke_data/train/images/image-578-_jpg.rf.9ce3e6d74be26c40d1541ca5e783dc97.jpg  \n",
      "  inflating: ./add_smoke_data/train/images/image-58-_jpg.rf.6a2b66c088e2736d9870ea51d57d8e1d.jpg  \n",
      "  inflating: ./add_smoke_data/train/images/image-580-_jpg.rf.ed2e254e02e68533957e809c7b0dc7d2.jpg  \n",
      "  inflating: ./add_smoke_data/train/images/image-581-_jpg.rf.7d8d124bfa644c9c18d5319abc3a95d2.jpg  \n",
      "  inflating: ./add_smoke_data/train/images/image-582-_jpg.rf.859df1e0054545338b08fa7b68807765.jpg  \n",
      "  inflating: ./add_smoke_data/train/images/image-584-_jpg.rf.3ecb295fcae3007db956537dbf5d98e0.jpg  \n",
      "  inflating: ./add_smoke_data/train/images/image-586-_jpg.rf.bebab17fa046794789307c72971a2bbe.jpg  \n",
      "  inflating: ./add_smoke_data/train/images/image-587-_jpg.rf.8ec2e0c3abd38b1375a260ae00c6d380.jpg  \n",
      "  inflating: ./add_smoke_data/train/images/image-588-_jpg.rf.761ed20fe03be181617fe3462b5d15a8.jpg  \n",
      "  inflating: ./add_smoke_data/train/images/image-589-_jpg.rf.7fd8257dd318a7988787b1bff1e5406e.jpg  \n",
      "  inflating: ./add_smoke_data/train/images/image-59-_jpg.rf.222976c591c37d6188eece9992ee6064.jpg  \n",
      "  inflating: ./add_smoke_data/train/images/image-590-_jpg.rf.7603ffff0769d65415b3109036fdb552.jpg  \n",
      "  inflating: ./add_smoke_data/train/images/image-592-_jpg.rf.e7e67054bab8ec4c7f7d1b7253a15309.jpg  \n",
      "  inflating: ./add_smoke_data/train/images/image-594-_jpg.rf.9a07cc100f39e34c3c10137e31cac07f.jpg  \n",
      "  inflating: ./add_smoke_data/train/images/image-595-_jpg.rf.a88edb675665d07538ee68fac4897be1.jpg  \n",
      "  inflating: ./add_smoke_data/train/images/image-597-_jpg.rf.2bb6dcf032aa559c3de7538b715e35b6.jpg  \n",
      "  inflating: ./add_smoke_data/train/images/image-598-_jpg.rf.aa277473fd25b763aadce05f331d6db3.jpg  \n",
      "  inflating: ./add_smoke_data/train/images/image-6-_jpg.rf.16b06748e4f6da836db37870506e0893.jpg  \n",
      "  inflating: ./add_smoke_data/train/images/image-60-_jpg.rf.516534fa8a6db763bbbc565d6225f16d.jpg  \n",
      "  inflating: ./add_smoke_data/train/images/image-600-_jpg.rf.40b5035ea7be9b00f80297e2847bc7db.jpg  \n",
      "  inflating: ./add_smoke_data/train/images/image-601-_jpg.rf.2840ccf5d7208154ba70c1277029723f.jpg  \n",
      "  inflating: ./add_smoke_data/train/images/image-602-_jpg.rf.94d66803ee1c64ba6de5a47d55d720ae.jpg  \n",
      "  inflating: ./add_smoke_data/train/images/image-604-_jpg.rf.9c60661719e9e6a7a65114d853bb9eb3.jpg  \n",
      "  inflating: ./add_smoke_data/train/images/image-606-_jpg.rf.722e846a9a98efd3fa85d377b724a263.jpg  \n",
      "  inflating: ./add_smoke_data/train/images/image-609-_jpg.rf.8b1ee636fd8d9387374ab4491fa4cf92.jpg  \n",
      "  inflating: ./add_smoke_data/train/images/image-61-_jpg.rf.d09df4d0448274828a4242ed50777ba8.jpg  \n",
      "  inflating: ./add_smoke_data/train/images/image-612-_jpg.rf.3f096aec04a419a9efa398a5cd5c2202.jpg  \n",
      "  inflating: ./add_smoke_data/train/images/image-613-_jpg.rf.22b34736f53fdb9d1d99b40f9b0d9296.jpg  \n",
      "  inflating: ./add_smoke_data/train/images/image-615-_jpg.rf.5901d3fe4a362632f126ab6a2765600c.jpg  \n",
      "  inflating: ./add_smoke_data/train/images/image-616-_jpg.rf.f16a0f00433a5570ef7c6c77750a0555.jpg  \n",
      "  inflating: ./add_smoke_data/train/images/image-617-_jpg.rf.144b27ca473677d548912a6cef21b0f6.jpg  \n",
      "  inflating: ./add_smoke_data/train/images/image-618-_jpg.rf.b14db14b4e36113249e97d2ddc6ea9fd.jpg  \n",
      "  inflating: ./add_smoke_data/train/images/image-62-_jpg.rf.cebf2f898452a9caee14c8c6fa5c521c.jpg  \n",
      "  inflating: ./add_smoke_data/train/images/image-620-_jpg.rf.58a2175dba2addda9fca01855b59945e.jpg  \n",
      "  inflating: ./add_smoke_data/train/images/image-621-_jpg.rf.fbf72eb9d2a82063ce7194601abd65f7.jpg  \n",
      "  inflating: ./add_smoke_data/train/images/image-622-_jpg.rf.fe70e8a6865ed5d71ca41fd41b6dba7f.jpg  \n",
      "  inflating: ./add_smoke_data/train/images/image-623-_jpg.rf.469e546ae3d4f3029bed23fa2bc2da8c.jpg  \n",
      "  inflating: ./add_smoke_data/train/images/image-624-_jpg.rf.d6af55d021fc46e95d5cb9778aaf8749.jpg  \n",
      "  inflating: ./add_smoke_data/train/images/image-625-_jpg.rf.9a4fea46b36759e94f9f13368fcd3738.jpg  \n",
      "  inflating: ./add_smoke_data/train/images/image-626-_jpg.rf.b03fe40db425684fb2e567fae9e23b0e.jpg  \n",
      "  inflating: ./add_smoke_data/train/images/image-627-_jpg.rf.19139f8502135af0116ae5f2a2daff53.jpg  \n",
      "  inflating: ./add_smoke_data/train/images/image-628-_jpg.rf.c52c2891be6e34d0ccaba0e380854c07.jpg  \n",
      "  inflating: ./add_smoke_data/train/images/image-629-_jpg.rf.2e3cd6fc3f7a0818cb5b209371f6a4bc.jpg  \n",
      "  inflating: ./add_smoke_data/train/images/image-63-_jpg.rf.8d44985a0bb2ca08ff503b9e9df968ca.jpg  \n",
      "  inflating: ./add_smoke_data/train/images/image-630-_jpg.rf.f64c744b23eff5e72121a78019754bd9.jpg  \n",
      "  inflating: ./add_smoke_data/train/images/image-631-_jpg.rf.3ad36738c44c41788e31580624df21b9.jpg  \n",
      "  inflating: ./add_smoke_data/train/images/image-632-_jpg.rf.e75cd566cd75b6c4efb7284484a85202.jpg  \n",
      "  inflating: ./add_smoke_data/train/images/image-635-_jpg.rf.909329aff26fca0b84f19a0148672d78.jpg  \n",
      "  inflating: ./add_smoke_data/train/images/image-636-_jpg.rf.c0959b2371ee0097fa3583f1f69fe1e3.jpg  \n",
      "  inflating: ./add_smoke_data/train/images/image-637-_jpg.rf.5a9e3236655b26eb3d837fa7ca29bcc2.jpg  \n",
      "  inflating: ./add_smoke_data/train/images/image-638-_jpg.rf.fb610d31941f44f0d47cb70133031016.jpg  \n",
      "  inflating: ./add_smoke_data/train/images/image-64-_jpg.rf.d77f56d3a70c0a92ce7a151aedabdc7a.jpg  \n",
      "  inflating: ./add_smoke_data/train/images/image-640-_jpg.rf.1d045b27f43dea27a6b7d74a7c2a8c5c.jpg  \n",
      "  inflating: ./add_smoke_data/train/images/image-642-_jpg.rf.2a0b39e0e7c010183128229a3f7bbe52.jpg  \n",
      "  inflating: ./add_smoke_data/train/images/image-645-_jpg.rf.111d7cd0f48d1aa6500657c43cf2e70f.jpg  \n",
      "  inflating: ./add_smoke_data/train/images/image-646-_jpg.rf.40de2e2d0e1f8db61ac236c38740959d.jpg  \n",
      "  inflating: ./add_smoke_data/train/images/image-647-_jpg.rf.942ef58ea50ef03f488c03e42f758881.jpg  \n",
      "  inflating: ./add_smoke_data/train/images/image-649-_jpg.rf.5062a536de7e3432c28d8eb0d70cbc55.jpg  \n",
      "  inflating: ./add_smoke_data/train/images/image-650-_jpg.rf.28de0b36f1aace1de8406c14cf77548f.jpg  \n",
      "  inflating: ./add_smoke_data/train/images/image-651-_jpg.rf.2a7d0fadcac6ef60acfc4dbe40687674.jpg  \n",
      "  inflating: ./add_smoke_data/train/images/image-652-_jpg.rf.63bde4755efd7f9735fa333600921f7b.jpg  \n",
      "  inflating: ./add_smoke_data/train/images/image-653-_jpg.rf.22c265e781e79224eec07bc3117707f0.jpg  \n",
      "  inflating: ./add_smoke_data/train/images/image-654-_jpg.rf.5296137ad0cd2a769bf3e0a122f20634.jpg  \n",
      "  inflating: ./add_smoke_data/train/images/image-655-_jpg.rf.5dca9104cc3448b2757f2789aadc8af1.jpg  \n",
      "  inflating: ./add_smoke_data/train/images/image-656-_jpg.rf.cc03badbb64c3596abb38cd9569d96df.jpg  \n",
      "  inflating: ./add_smoke_data/train/images/image-658-_jpg.rf.7ed2a2d3901fd7e1cfe2721186079864.jpg  \n",
      "  inflating: ./add_smoke_data/train/images/image-659-_jpg.rf.bb8b27d744bd95473580c46a3f496db1.jpg  \n",
      "  inflating: ./add_smoke_data/train/images/image-66-_jpg.rf.cf06fa7d20f3c5e63adbea42856aacf7.jpg  \n",
      "  inflating: ./add_smoke_data/train/images/image-661-_jpg.rf.7f1ef20876b2d2c5a558f83358d62698.jpg  \n",
      "  inflating: ./add_smoke_data/train/images/image-662-_jpg.rf.86aaee7baf375d8abe7d9bde54992568.jpg  \n",
      "  inflating: ./add_smoke_data/train/images/image-665-_jpg.rf.6c9ef597b9c0279c26ef1d48d9c50029.jpg  \n",
      "  inflating: ./add_smoke_data/train/images/image-666-_jpg.rf.7eb66cf9ac42aacf98133f0718069ea9.jpg  \n",
      "  inflating: ./add_smoke_data/train/images/image-667-_jpg.rf.2f60943b1b5ac52d5b985cb1ef6d7bf3.jpg  \n",
      "  inflating: ./add_smoke_data/train/images/image-668-_jpg.rf.acb1b6c101be623857f58a062a072e20.jpg  \n",
      "  inflating: ./add_smoke_data/train/images/image-669-_jpg.rf.c19776242054fa7b94c8b177c900893d.jpg  \n",
      "  inflating: ./add_smoke_data/train/images/image-67-_jpg.rf.2457eca5f2606a0bf7d4feca83a62b85.jpg  \n",
      "  inflating: ./add_smoke_data/train/images/image-670-_jpg.rf.fde27c172e2a8f0192b794b244426568.jpg  \n",
      "  inflating: ./add_smoke_data/train/images/image-672-_jpg.rf.822dfe7cd7d12a5d20a2c4b93ee41d95.jpg  \n",
      "  inflating: ./add_smoke_data/train/images/image-673-_jpg.rf.e0b9754fa15bb72cabcf74968c846ca7.jpg  \n",
      "  inflating: ./add_smoke_data/train/images/image-674-_jpg.rf.eac1310df359732b4ea62a6a69d82bea.jpg  \n",
      "  inflating: ./add_smoke_data/train/images/image-675-_jpg.rf.9c37aa0a452ae12a5018d369ab831056.jpg  \n",
      "  inflating: ./add_smoke_data/train/images/image-676-_jpg.rf.74b948207b7e562b3d329f4560dbb93e.jpg  \n",
      "  inflating: ./add_smoke_data/train/images/image-677-_jpg.rf.c06cf9b6c8b4fa533ee6561d255a3778.jpg  \n",
      "  inflating: ./add_smoke_data/train/images/image-679-_jpg.rf.d6829fafe5fcc2db0041fd984720b6e0.jpg  \n",
      "  inflating: ./add_smoke_data/train/images/image-681-_jpg.rf.8f93ac2da09666e804f4b5e3b5cf34fd.jpg  \n",
      "  inflating: ./add_smoke_data/train/images/image-682-_jpg.rf.4537bbf1ff64e6fd4d3654de8ba991cf.jpg  \n",
      "  inflating: ./add_smoke_data/train/images/image-685-_jpg.rf.9f975c0fd1add6048fd565ee9c789eda.jpg  \n",
      "  inflating: ./add_smoke_data/train/images/image-689-_jpg.rf.7472bdf63f3f7101b4ec356da4384cff.jpg  \n",
      "  inflating: ./add_smoke_data/train/images/image-69-_jpg.rf.ebf173bb13ef23cf44c735113d4b9662.jpg  \n",
      "  inflating: ./add_smoke_data/train/images/image-691-_jpg.rf.151569cf31f33df470b6780b28927d92.jpg  \n",
      "  inflating: ./add_smoke_data/train/images/image-692-_jpg.rf.fada4beee34e3304ded43b15510ffb0f.jpg  \n",
      "  inflating: ./add_smoke_data/train/images/image-693-_jpg.rf.417b880021e5d8635d83d3d9cf1d3e0f.jpg  \n",
      "  inflating: ./add_smoke_data/train/images/image-695-_jpg.rf.960b90464933625aaa8fd4c8d77f5021.jpg  \n",
      "  inflating: ./add_smoke_data/train/images/image-696-_jpg.rf.3e3e0154a554df196ba24f7aac501f81.jpg  \n",
      "  inflating: ./add_smoke_data/train/images/image-698-_jpg.rf.baf4ba5842555b936946e23fda217516.jpg  \n",
      "  inflating: ./add_smoke_data/train/images/image-699-_jpg.rf.e3676db5864b5526646a72f3aa026c6b.jpg  \n",
      "  inflating: ./add_smoke_data/train/images/image-70-_jpg.rf.4500181fdd8cb1a4b16aad41cae72815.jpg  \n",
      "  inflating: ./add_smoke_data/train/images/image-700-_jpg.rf.770400ab320c58a2ab7f686ee686e29c.jpg  \n",
      "  inflating: ./add_smoke_data/train/images/image-701-_jpg.rf.fdae0e29da8029c29d5817cbfd1721cb.jpg  \n",
      "  inflating: ./add_smoke_data/train/images/image-702-_jpg.rf.2c42bbcc9b87d25c24cfb5cd72aa18a2.jpg  \n",
      "  inflating: ./add_smoke_data/train/images/image-703-_jpg.rf.7ca38ec02381f832ffdfdcef31b4c288.jpg  \n",
      "  inflating: ./add_smoke_data/train/images/image-704-_jpg.rf.93601a3820aa3d0cbae263ae8641ba0e.jpg  \n",
      "  inflating: ./add_smoke_data/train/images/image-705-_jpg.rf.260539ec5060c668a8c8b0ae64d52688.jpg  \n",
      "  inflating: ./add_smoke_data/train/images/image-706-_jpg.rf.36cd7b3a98aec3c352f3969e08905a1b.jpg  \n",
      "  inflating: ./add_smoke_data/train/images/image-707-_jpg.rf.672ba9b5b0db3791887e8c4cd266e861.jpg  \n",
      "  inflating: ./add_smoke_data/train/images/image-708-_jpg.rf.a14dd5b598ddbe59012371187cd3cb96.jpg  \n",
      "  inflating: ./add_smoke_data/train/images/image-71-_jpg.rf.22ba6e6dd9b3803aebf40673be13ba2a.jpg  \n",
      "  inflating: ./add_smoke_data/train/images/image-712-_jpg.rf.b19ece81704bb2c24c626a5f04b4b197.jpg  \n",
      "  inflating: ./add_smoke_data/train/images/image-713-_jpg.rf.dee35c5370a9d4893d4d6c07726be0d0.jpg  \n",
      "  inflating: ./add_smoke_data/train/images/image-715-_jpg.rf.3be95f371af8ac70d28ac05a54d71db2.jpg  \n",
      "  inflating: ./add_smoke_data/train/images/image-716-_jpg.rf.c3344ef654db09fc273528922df50b72.jpg  \n",
      "  inflating: ./add_smoke_data/train/images/image-717-_jpg.rf.1df3a7bc847d7a976c74ca2c0ee8cd7e.jpg  \n",
      "  inflating: ./add_smoke_data/train/images/image-718-_jpg.rf.c0b948cb00fe02b5498625e630455fc9.jpg  \n",
      "  inflating: ./add_smoke_data/train/images/image-72-_jpg.rf.4843f292f4bc9bb6d145514ffd1cc4fe.jpg  \n",
      "  inflating: ./add_smoke_data/train/images/image-720-_jpg.rf.0d00d5375c08639c7e3a09fec30f1646.jpg  \n",
      "  inflating: ./add_smoke_data/train/images/image-721-_jpg.rf.739c346dc2bee5497e4285da353927c8.jpg  \n",
      "  inflating: ./add_smoke_data/train/images/image-722-_jpg.rf.a07e28a26b3b3390da396cb59a43ab04.jpg  \n",
      "  inflating: ./add_smoke_data/train/images/image-723-_jpg.rf.85e6148ea01ccac2d70053837971efcc.jpg  \n",
      "  inflating: ./add_smoke_data/train/images/image-724-_jpg.rf.0809c25be5f713fe009417ee9e42d23d.jpg  \n",
      "  inflating: ./add_smoke_data/train/images/image-725-_jpg.rf.c906cb5021fff1579ffa9fd81dd74123.jpg  \n",
      "  inflating: ./add_smoke_data/train/images/image-726-_jpg.rf.256e726b30809374fd9cf7e89cce4b20.jpg  \n",
      "  inflating: ./add_smoke_data/train/images/image-727-_jpg.rf.2ed465543383ba7474110c6b7c5d1347.jpg  \n",
      "  inflating: ./add_smoke_data/train/images/image-729-_jpg.rf.73e9ca5984c2bed5e43db1c781ac2a1c.jpg  \n",
      "  inflating: ./add_smoke_data/train/images/image-73-_jpg.rf.c5ceb707ea6ea53058e96de093ee838f.jpg  \n",
      "  inflating: ./add_smoke_data/train/images/image-730-_jpg.rf.bb9e9ec058c5f30e7e04244d44c616ae.jpg  \n",
      "  inflating: ./add_smoke_data/train/images/image-731-_jpg.rf.2b272b6398294700cb3a2383949ac255.jpg  \n",
      "  inflating: ./add_smoke_data/train/images/image-734-_jpg.rf.afa4f5340b3e2881b901754ee6d09f90.jpg  \n",
      "  inflating: ./add_smoke_data/train/images/image-736-_jpg.rf.e0b191137e05373e0a09e63f059360de.jpg  \n",
      "  inflating: ./add_smoke_data/train/images/image-737-_jpg.rf.cadac9d956bd06b061189e3dc362463f.jpg  \n",
      "  inflating: ./add_smoke_data/train/images/image-739-_jpg.rf.b3d30057be9e7d83726daccbad349ee2.jpg  \n",
      "  inflating: ./add_smoke_data/train/images/image-740-_jpg.rf.41620b89b540f96bad5ec5e0edb1221b.jpg  \n",
      "  inflating: ./add_smoke_data/train/images/image-741-_jpg.rf.56a91acd1ed096925017f7018de1c364.jpg  \n",
      "  inflating: ./add_smoke_data/train/images/image-742-_jpg.rf.3b854ee51410f162701f29cfa06a226e.jpg  \n",
      "  inflating: ./add_smoke_data/train/images/image-743-_jpg.rf.bb534dd38b6468eb3b81850f6a9276b9.jpg  \n",
      "  inflating: ./add_smoke_data/train/images/image-746-_jpg.rf.dd6c4caa2b931dc970cabfe0c02f4892.jpg  \n",
      "  inflating: ./add_smoke_data/train/images/image-747-_jpg.rf.3beea770abd83e6f645bd28d47a0123d.jpg  \n",
      "  inflating: ./add_smoke_data/train/images/image-75-_jpg.rf.e7e5a3a0829a71e122fc74e14ad2ee59.jpg  \n",
      "  inflating: ./add_smoke_data/train/images/image-750-_jpg.rf.3b1615fc9f88a9ef2a52d6f1f7b112fa.jpg  \n",
      "  inflating: ./add_smoke_data/train/images/image-754-_jpg.rf.125a0b4d963b1a0b84c5b65d15f0f09e.jpg  \n",
      "  inflating: ./add_smoke_data/train/images/image-755-_jpg.rf.46e903f6e5600dfd548f7da8a4c629a5.jpg  \n",
      "  inflating: ./add_smoke_data/train/images/image-756-_jpg.rf.9bc7db519072e4cc77ac79f313f412a7.jpg  \n",
      "  inflating: ./add_smoke_data/train/images/image-757-_jpg.rf.864aff1e62c0a0df16349b9afe894661.jpg  \n",
      "  inflating: ./add_smoke_data/train/images/image-76-_jpg.rf.a133d226f543961a937acd1af3e4630b.jpg  \n",
      "  inflating: ./add_smoke_data/train/images/image-760-_jpg.rf.b7c23feb08986a2db8cdf1bab24cbd2c.jpg  \n",
      "  inflating: ./add_smoke_data/train/images/image-762-_jpg.rf.12703c96992230435d4628a2acdf06d0.jpg  \n",
      "  inflating: ./add_smoke_data/train/images/image-763-_jpg.rf.f77e28bbfce5333664449f745728dccb.jpg  \n",
      "  inflating: ./add_smoke_data/train/images/image-764-_jpg.rf.410b964348b932dd19e47804c864b648.jpg  \n",
      "  inflating: ./add_smoke_data/train/images/image-767-_jpg.rf.41301a6c6f0d68d8da3418278d5e6e2a.jpg  \n",
      "  inflating: ./add_smoke_data/train/images/image-768-_jpg.rf.71ddf6e524351928e135fbce6257c47c.jpg  \n",
      "  inflating: ./add_smoke_data/train/images/image-772-_jpg.rf.9d637e95a5527d092b4deafea8928e8c.jpg  \n",
      "  inflating: ./add_smoke_data/train/images/image-773-_jpg.rf.002b9142e764083a2f8d31b4c3615505.jpg  \n",
      "  inflating: ./add_smoke_data/train/images/image-775-_jpg.rf.cbb193703ecbae58c6a3d7bc8f97caed.jpg  \n",
      "  inflating: ./add_smoke_data/train/images/image-776-_jpg.rf.382c9f2bbccf7a8a2885cc96b34a78d0.jpg  \n",
      "  inflating: ./add_smoke_data/train/images/image-777-_jpg.rf.2d0c4006790f695113e1290ba12ab7d8.jpg  \n",
      "  inflating: ./add_smoke_data/train/images/image-78-_jpg.rf.871b5f94ee802b85e13eba9cc331f44f.jpg  \n",
      "  inflating: ./add_smoke_data/train/images/image-780-_jpg.rf.fddf797316be2696bb613c3955b6619f.jpg  \n",
      "  inflating: ./add_smoke_data/train/images/image-781-_jpg.rf.dd245955ecf53fe671d92ef1fba53fd5.jpg  \n",
      "  inflating: ./add_smoke_data/train/images/image-782-_jpg.rf.4b1d19a0bf7564f41e31b8aadeed7a21.jpg  \n",
      "  inflating: ./add_smoke_data/train/images/image-783-_jpg.rf.2d6cecc689c2dcbba6dadae530aa8e92.jpg  \n",
      "  inflating: ./add_smoke_data/train/images/image-784-_jpg.rf.b2ae1fc1884594f6781f907ec3111ac6.jpg  \n",
      "  inflating: ./add_smoke_data/train/images/image-786-_jpg.rf.e82663b2afa3ff47567a52244aadc1e0.jpg  \n",
      "  inflating: ./add_smoke_data/train/images/image-787-_jpg.rf.b9da8fab3d22ea897e1a5e99ed4fe17e.jpg  \n",
      "  inflating: ./add_smoke_data/train/images/image-788-_jpg.rf.82ff9a0f4764d40868ee34bd027d44b3.jpg  \n",
      "  inflating: ./add_smoke_data/train/images/image-789-_jpg.rf.60ad35c761c82cf83f7268cfc6ed8680.jpg  \n",
      "  inflating: ./add_smoke_data/train/images/image-79-_jpg.rf.bd944ae0f45e488dc925ea3f83013e45.jpg  \n",
      "  inflating: ./add_smoke_data/train/images/image-791-_jpg.rf.497fc1b0f043801cb75aa4f500f9f73f.jpg  \n",
      "  inflating: ./add_smoke_data/train/images/image-793-_jpg.rf.2036d8cc62158c89282f514e8aabcdbc.jpg  \n",
      "  inflating: ./add_smoke_data/train/images/image-794-_jpg.rf.ea7d64a3665ddafde46882a9d360208d.jpg  \n",
      "  inflating: ./add_smoke_data/train/images/image-795-_jpg.rf.00a396e1b3ad1dab4f31f06c18223abe.jpg  \n",
      "  inflating: ./add_smoke_data/train/images/image-796-_jpg.rf.c9417372b66daf3cfbe1cb9b438fa6bc.jpg  \n",
      "  inflating: ./add_smoke_data/train/images/image-798-_jpg.rf.f9292e57af5f324a7e672ad7670d1f96.jpg  \n",
      "  inflating: ./add_smoke_data/train/images/image-799-_jpg.rf.14fb9266a34e115fad8611324b4bcfe1.jpg  \n",
      "  inflating: ./add_smoke_data/train/images/image-8-_jpg.rf.54899819c57b508b76e679a720380d76.jpg  \n",
      "  inflating: ./add_smoke_data/train/images/image-800-_jpg.rf.75a58bc639ec385b213df4983415b315.jpg  \n",
      "  inflating: ./add_smoke_data/train/images/image-801-_jpg.rf.f9bec67e4c127261ccb44dee6c3b0202.jpg  \n",
      "  inflating: ./add_smoke_data/train/images/image-804-_jpg.rf.197e81c0ecf1237439d20a3458a0f228.jpg  \n",
      "  inflating: ./add_smoke_data/train/images/image-805-_jpg.rf.27a72d6f7d4f784aac06b7c4afac71f8.jpg  \n",
      "  inflating: ./add_smoke_data/train/images/image-806-_jpg.rf.725e814ae0d3758252045c38d95c3269.jpg  \n",
      "  inflating: ./add_smoke_data/train/images/image-807-_jpg.rf.ab198e7907485ffebd03aab0b81ab413.jpg  \n",
      "  inflating: ./add_smoke_data/train/images/image-808-_jpg.rf.01ccf3e05348d57c733b6d0c09a90fb0.jpg  \n",
      "  inflating: ./add_smoke_data/train/images/image-809-_jpg.rf.3e25386acb3846a5b0f0042ef8a148d5.jpg  \n",
      "  inflating: ./add_smoke_data/train/images/image-81-_jpg.rf.3566b7d5e2d6dc00e704c77bae93345c.jpg  \n",
      "  inflating: ./add_smoke_data/train/images/image-810-_jpg.rf.12bb2a748574464f00b15d7f5cf8ded5.jpg  \n",
      "  inflating: ./add_smoke_data/train/images/image-812-_jpg.rf.2cf643d98f39886519ffe58e2e1af3bb.jpg  \n",
      "  inflating: ./add_smoke_data/train/images/image-813-_jpg.rf.8a2a9f0387b51f70c842843adc3c5b47.jpg  \n",
      "  inflating: ./add_smoke_data/train/images/image-815-_jpg.rf.ab68f1f98cf08b1e2f95233ec15a11ba.jpg  \n",
      "  inflating: ./add_smoke_data/train/images/image-817-_jpg.rf.9642790b12ffb7b42d29cf1a4055fefd.jpg  \n",
      "  inflating: ./add_smoke_data/train/images/image-819-_jpg.rf.7a10711a6e6ffcd99cf70c915ced0834.jpg  \n",
      "  inflating: ./add_smoke_data/train/images/image-82-_jpg.rf.696d78b7ed913719d54729a50b7089e2.jpg  \n",
      "  inflating: ./add_smoke_data/train/images/image-821-_jpg.rf.f46ed0f6a09cac3a40f9529992fd94b4.jpg  \n",
      "  inflating: ./add_smoke_data/train/images/image-822-_jpg.rf.c51a516969e3c8157cba5a3158c4775a.jpg  \n",
      "  inflating: ./add_smoke_data/train/images/image-823-_jpg.rf.811ca355f48642f45aa53e2e714be8db.jpg  \n",
      "  inflating: ./add_smoke_data/train/images/image-824-_jpg.rf.e84d3dd4ec48536d59867fe93614ac46.jpg  \n",
      "  inflating: ./add_smoke_data/train/images/image-825-_jpg.rf.fe9ff661a3c2413fb24f8e9ffc4c4811.jpg  \n",
      "  inflating: ./add_smoke_data/train/images/image-826-_jpg.rf.162ebb9e3d954e5beff36dcf353da284.jpg  \n",
      "  inflating: ./add_smoke_data/train/images/image-827-_jpg.rf.60264ac4aadedc8a621998e61089c60d.jpg  \n",
      "  inflating: ./add_smoke_data/train/images/image-828-_jpg.rf.aa91972035c7b91d43582439f06b5959.jpg  \n",
      "  inflating: ./add_smoke_data/train/images/image-829-_jpg.rf.adda057a7bd6b1ca3af9348d0a408673.jpg  \n",
      "  inflating: ./add_smoke_data/train/images/image-83-_jpg.rf.7f7840114698c457a817f13220cd193e.jpg  \n",
      "  inflating: ./add_smoke_data/train/images/image-830-_jpg.rf.6b33e7501a94c2113bfbb7b2284729da.jpg  \n",
      "  inflating: ./add_smoke_data/train/images/image-832-_jpg.rf.9f80d7d2ac09a54f8e10ce7091fb01f1.jpg  \n",
      "  inflating: ./add_smoke_data/train/images/image-833-_jpg.rf.d6651c9105295371ec71ddb467a559ac.jpg  \n",
      "  inflating: ./add_smoke_data/train/images/image-834-_jpg.rf.3181e3bbbad3201d58bbac772eb44bc2.jpg  \n",
      "  inflating: ./add_smoke_data/train/images/image-835-_jpg.rf.506732d90fd558061c19a4a87331a008.jpg  \n",
      "  inflating: ./add_smoke_data/train/images/image-836-_jpg.rf.7e6204e366ef33445577bbc4e05db405.jpg  \n",
      "  inflating: ./add_smoke_data/train/images/image-837-_jpg.rf.330e8ef587756a3722490834544f4e85.jpg  \n",
      "  inflating: ./add_smoke_data/train/images/image-839-_jpg.rf.c5eebb1aeb071ddc2994a0386a390a48.jpg  \n",
      "  inflating: ./add_smoke_data/train/images/image-84-_jpg.rf.c5e37c6f1431d7e230379acd5bd1f9c4.jpg  \n",
      "  inflating: ./add_smoke_data/train/images/image-840-_jpg.rf.120ea1c4700ba7b29ae6c4576def53cb.jpg  \n",
      "  inflating: ./add_smoke_data/train/images/image-841-_jpg.rf.56dff906d1d0197d5d734d3ab5d9b043.jpg  \n",
      "  inflating: ./add_smoke_data/train/images/image-842-_jpg.rf.067129432b73b1002e5296aa06ef1ac1.jpg  \n",
      "  inflating: ./add_smoke_data/train/images/image-844-_jpg.rf.ebe811b68b78e5640816d027c0315f1d.jpg  \n",
      "  inflating: ./add_smoke_data/train/images/image-845-_jpg.rf.248cc00f112b2e5d94a97dbbeb8e3f7d.jpg  \n",
      "  inflating: ./add_smoke_data/train/images/image-847-_jpg.rf.8a91c9ae5ff0ebad458268d5c22e7424.jpg  \n",
      "  inflating: ./add_smoke_data/train/images/image-848-_jpg.rf.0442b327fea1f859053baa84edb7e036.jpg  \n",
      "  inflating: ./add_smoke_data/train/images/image-849-_jpg.rf.1768d3e61cde684fdb6904e64a98242a.jpg  \n",
      "  inflating: ./add_smoke_data/train/images/image-85-_jpg.rf.47d17e614c2619a5c172cc8ba191f00a.jpg  \n",
      "  inflating: ./add_smoke_data/train/images/image-850-_jpg.rf.d19cc419b663a749a2c6b57c2f726646.jpg  \n",
      "  inflating: ./add_smoke_data/train/images/image-851-_jpg.rf.49a0ccd3ed17858a8576ef516d07abc9.jpg  \n",
      "  inflating: ./add_smoke_data/train/images/image-852-_jpg.rf.90876eaba3fedff08ace64ec588000c0.jpg  \n",
      "  inflating: ./add_smoke_data/train/images/image-853-_jpg.rf.d90d349e43e52cbfa4e33af7dae00260.jpg  \n",
      "  inflating: ./add_smoke_data/train/images/image-854-_jpg.rf.5d0ededf2190dd5bf1c03cb871742c3c.jpg  \n",
      "  inflating: ./add_smoke_data/train/images/image-855-_jpg.rf.8906970ac4646ee80d8502ec8fa272a0.jpg  \n",
      "  inflating: ./add_smoke_data/train/images/image-856-_jpg.rf.ff577edcf28a2431dc929ecdd584362a.jpg  \n",
      "  inflating: ./add_smoke_data/train/images/image-857-_jpg.rf.6635d4ee228d420f482a195900e9c327.jpg  \n",
      "  inflating: ./add_smoke_data/train/images/image-858-_jpg.rf.7d8bef63bb1d2aef76c47029f7da5e8a.jpg  \n",
      "  inflating: ./add_smoke_data/train/images/image-86-_jpg.rf.0cac7b13150a00babd171a7425713c01.jpg  \n",
      "  inflating: ./add_smoke_data/train/images/image-860-_jpg.rf.a960145edd5b00148406935176b38a27.jpg  \n",
      "  inflating: ./add_smoke_data/train/images/image-861-_jpg.rf.cc03d9a9b96a9f8d0d9b90363097c4d8.jpg  \n",
      "  inflating: ./add_smoke_data/train/images/image-862-_jpg.rf.68d29a43f29351ff9a6bc3e94b3e9564.jpg  \n",
      "  inflating: ./add_smoke_data/train/images/image-865-_jpg.rf.0c5e098e725de0ba257c5193e61a7943.jpg  \n",
      "  inflating: ./add_smoke_data/train/images/image-867-_jpg.rf.70e8175b7125e28e9fefc82c51e72ca0.jpg  \n",
      "  inflating: ./add_smoke_data/train/images/image-868-_jpg.rf.aa53b0e603b995e5ce40b0037818081a.jpg  \n",
      "  inflating: ./add_smoke_data/train/images/image-870-_jpg.rf.0442f7ca0bdc0a7d9b53d3232a3a5050.jpg  \n",
      "  inflating: ./add_smoke_data/train/images/image-871-_jpg.rf.5f8f5405a0ae555bd1910a31e6b5c9c0.jpg  \n",
      "  inflating: ./add_smoke_data/train/images/image-874-_jpg.rf.66ab6628abc6482513e2cd44ba3d8e5a.jpg  \n",
      "  inflating: ./add_smoke_data/train/images/image-875-_jpg.rf.5d584d98c0e9708be0bb36b6bf495cd8.jpg  \n",
      "  inflating: ./add_smoke_data/train/images/image-876-_jpg.rf.0038fc119f83c36531a7598e5280b3e6.jpg  \n",
      "  inflating: ./add_smoke_data/train/images/image-877-_jpg.rf.45089f0cca82c187c519773cb1892b2f.jpg  \n",
      "  inflating: ./add_smoke_data/train/images/image-878-_jpg.rf.ac25330dfd21b544a379af2493109d45.jpg  \n",
      "  inflating: ./add_smoke_data/train/images/image-880-_jpg.rf.6fbb1cfa76502aa3b60ddcb1ff0f0f10.jpg  \n",
      "  inflating: ./add_smoke_data/train/images/image-881-_jpg.rf.c7833f81022cd99c1ad1e0d372035824.jpg  \n",
      "  inflating: ./add_smoke_data/train/images/image-882-_jpg.rf.7c2af791e0f722c00e4343dab609b2e0.jpg  \n",
      "  inflating: ./add_smoke_data/train/images/image-883-_jpg.rf.f52ca6827eca970f522bb693f14afecf.jpg  \n",
      "  inflating: ./add_smoke_data/train/images/image-884-_jpg.rf.4831e6d131976c47d8c8847044ec007e.jpg  \n",
      "  inflating: ./add_smoke_data/train/images/image-885-_jpg.rf.f3deed5101166104b449705f457c9f17.jpg  \n",
      "  inflating: ./add_smoke_data/train/images/image-886-_jpg.rf.4c202daa08dc7e7c1be32d9dda1fe1db.jpg  \n",
      "  inflating: ./add_smoke_data/train/images/image-887-_jpg.rf.a93b05dda8094c5592b5b818686ef8c6.jpg  \n",
      "  inflating: ./add_smoke_data/train/images/image-888-_jpg.rf.7a0cbdc9c5ec006a633a3fba3bfd44bb.jpg  \n",
      "  inflating: ./add_smoke_data/train/images/image-889-_jpg.rf.7c1776d2bb91e013ac9e7a4f8de7f3d3.jpg  \n",
      "  inflating: ./add_smoke_data/train/images/image-89-_jpg.rf.444cf0da0cbb07f7e77cdc1e318ec14f.jpg  \n",
      "  inflating: ./add_smoke_data/train/images/image-890-_jpg.rf.b6e1a7bd81b9c4f9e46d59d67349733c.jpg  \n",
      "  inflating: ./add_smoke_data/train/images/image-891-_jpg.rf.0abff9c0b51c676652bb708699caf7ae.jpg  \n",
      "  inflating: ./add_smoke_data/train/images/image-892-_jpg.rf.d9a67efacfd0c33723f65e71d49a57ea.jpg  \n",
      "  inflating: ./add_smoke_data/train/images/image-893-_jpg.rf.c5122703ee318b83edb18fb636a3e333.jpg  \n",
      "  inflating: ./add_smoke_data/train/images/image-894-_jpg.rf.e679b04b922c5796376f9e7dd7e75fd1.jpg  \n",
      "  inflating: ./add_smoke_data/train/images/image-895-_jpg.rf.bce5f3cee17b9b3bbb814ec412dc86e6.jpg  \n",
      "  inflating: ./add_smoke_data/train/images/image-898-_jpg.rf.7969c0a2416745e3dd75b700cd67202c.jpg  \n",
      "  inflating: ./add_smoke_data/train/images/image-899-_jpg.rf.65d55df6c7e2b6153604bc577064535e.jpg  \n",
      "  inflating: ./add_smoke_data/train/images/image-9-_jpg.rf.ce9a920a02bfdc873260603a58e2ac6a.jpg  \n",
      "  inflating: ./add_smoke_data/train/images/image-90-_jpg.rf.b5023bcd9412595893155e4f1bee3bb9.jpg  \n",
      "  inflating: ./add_smoke_data/train/images/image-902-_jpg.rf.be8b950f8255567c6c4170f2b72b8ec4.jpg  \n",
      "  inflating: ./add_smoke_data/train/images/image-903-_jpg.rf.178e02914ba33c877a4b627af5c4e6af.jpg  \n",
      "  inflating: ./add_smoke_data/train/images/image-905-_jpg.rf.555a404b19086be87f77ae692af8d3dc.jpg  \n",
      "  inflating: ./add_smoke_data/train/images/image-906-_jpg.rf.84819dfadddd2c04a0630941ed63f835.jpg  \n",
      "  inflating: ./add_smoke_data/train/images/image-907-_jpg.rf.66ac9a96c25e046435196c21b8f09ecc.jpg  \n",
      "  inflating: ./add_smoke_data/train/images/image-908-_jpg.rf.93553199e45bf79fd3b9fa29096ee7c6.jpg  \n",
      "  inflating: ./add_smoke_data/train/images/image-909-_jpg.rf.2a1f5bdae50bc22f21cc24ac3bcc74ef.jpg  \n",
      "  inflating: ./add_smoke_data/train/images/image-91-_jpg.rf.5496fc28f7995f96355f235e35a11e55.jpg  \n",
      "  inflating: ./add_smoke_data/train/images/image-910-_jpg.rf.f43eaad2376ea44cfff4e6a9f43b5c43.jpg  \n",
      "  inflating: ./add_smoke_data/train/images/image-911-_jpg.rf.bbc155566d80508cbc45d50d5abafef2.jpg  \n",
      "  inflating: ./add_smoke_data/train/images/image-913-_jpg.rf.54683ed1a7827b8fa5d45062d48a8176.jpg  \n",
      "  inflating: ./add_smoke_data/train/images/image-914-_jpg.rf.d479ec40268b6488f3b5f35b833559ee.jpg  \n",
      "  inflating: ./add_smoke_data/train/images/image-915-_jpg.rf.55c094dddae04a813bed4e90f9d1acb3.jpg  \n",
      "  inflating: ./add_smoke_data/train/images/image-916-_jpg.rf.26578684b3b0df04673dff8ad72dc047.jpg  \n",
      "  inflating: ./add_smoke_data/train/images/image-917-_jpg.rf.27aae727513ebdb5c38bfdb287432212.jpg  \n",
      "  inflating: ./add_smoke_data/train/images/image-918-_jpg.rf.cbbb722a0f8b220ab6b58945920b2407.jpg  \n",
      "  inflating: ./add_smoke_data/train/images/image-919-_jpg.rf.068113b82d25f512ed6461bacc852eb6.jpg  \n",
      "  inflating: ./add_smoke_data/train/images/image-92-_jpg.rf.3fa7b00dbed8ed9eb2e1dd31fed54f14.jpg  \n",
      "  inflating: ./add_smoke_data/train/images/image-920-_jpg.rf.eb8979ab230bad9a038b5c5aa772555b.jpg  \n",
      "  inflating: ./add_smoke_data/train/images/image-921-_jpg.rf.f92adb8d5c87d5b5026f5a76c5529277.jpg  \n",
      "  inflating: ./add_smoke_data/train/images/image-922-_jpg.rf.c1fb8236c23378ce5e06adc577fd1f78.jpg  \n",
      "  inflating: ./add_smoke_data/train/images/image-923-_jpg.rf.8997376e812bcfdd120f5e677b883dcd.jpg  \n",
      "  inflating: ./add_smoke_data/train/images/image-924-_jpg.rf.1ae4bd4e1a0d007dd3471b82ba92b65a.jpg  \n",
      "  inflating: ./add_smoke_data/train/images/image-925-_jpg.rf.359dc585598ffbfe70fcd485e10e77e3.jpg  \n",
      "  inflating: ./add_smoke_data/train/images/image-926-_jpg.rf.4ee4beed666f7007ebd5a250d3b90fcf.jpg  \n",
      "  inflating: ./add_smoke_data/train/images/image-928-_jpg.rf.9c6e86ba76a4877faf4e5db280f22aed.jpg  \n",
      "  inflating: ./add_smoke_data/train/images/image-930-_jpg.rf.fc15d942c709be719afa9a8553b9de9d.jpg  \n",
      "  inflating: ./add_smoke_data/train/images/image-931-_jpg.rf.ea73f2be2605cc17c581bc43a9dc720f.jpg  \n",
      "  inflating: ./add_smoke_data/train/images/image-932-_jpg.rf.687cee56581e208cf9b24e252a724181.jpg  \n",
      "  inflating: ./add_smoke_data/train/images/image-933-_jpg.rf.fab459e1af7f169c883dbcd6a273c179.jpg  \n",
      "  inflating: ./add_smoke_data/train/images/image-934-_jpg.rf.d716525ee0e4be097f0c1a1042509562.jpg  \n",
      "  inflating: ./add_smoke_data/train/images/image-935-_jpg.rf.bf58c708f60d80fbeb73fc3f86759522.jpg  \n",
      "  inflating: ./add_smoke_data/train/images/image-936-_jpg.rf.e2b9eb5757881c310dfdc801b1305001.jpg  \n",
      "  inflating: ./add_smoke_data/train/images/image-937-_jpg.rf.03f71b420d96befa44612bfb07b7e903.jpg  \n",
      "  inflating: ./add_smoke_data/train/images/image-939-_jpg.rf.d47df02771f1b71d8902238b9ea3eb96.jpg  \n",
      "  inflating: ./add_smoke_data/train/images/image-94-_jpg.rf.7ad210f17158b30bae1ec253a5ef223a.jpg  \n",
      "  inflating: ./add_smoke_data/train/images/image-940-_jpg.rf.7237ad2e0c128b93a51ab53f92e70469.jpg  \n",
      "  inflating: ./add_smoke_data/train/images/image-941-_jpg.rf.afc50a8cf8f57603973d93336c5b240b.jpg  \n",
      "  inflating: ./add_smoke_data/train/images/image-942-_jpg.rf.516e9ae9f90020697629240ace660495.jpg  \n",
      "  inflating: ./add_smoke_data/train/images/image-943-_jpg.rf.dc54e2b33df17a775cb0463ad0d02795.jpg  \n",
      "  inflating: ./add_smoke_data/train/images/image-944-_jpg.rf.c61b715a123023e399f4a45443a18619.jpg  \n",
      "  inflating: ./add_smoke_data/train/images/image-945-_jpg.rf.a7f1488d13d5299c11452536093d6e05.jpg  \n",
      "  inflating: ./add_smoke_data/train/images/image-948-_jpg.rf.cfbe1657732e1797d005157bfe0a64e1.jpg  \n",
      "  inflating: ./add_smoke_data/train/images/image-949-_jpg.rf.80e1e35ce190335e1fb8fe376e4e647e.jpg  \n",
      "  inflating: ./add_smoke_data/train/images/image-950-_jpg.rf.4a3ff224eb79dc4dd4a10bb0f625fdb8.jpg  \n",
      "  inflating: ./add_smoke_data/train/images/image-951-_jpg.rf.c9caca724352082575f48688f8824cfd.jpg  \n",
      "  inflating: ./add_smoke_data/train/images/image-952-_jpg.rf.d28087a8f701025d4f4e4c2d78ff3cd0.jpg  \n",
      "  inflating: ./add_smoke_data/train/images/image-953-_jpg.rf.bd8f3b8e39332b1bba7a0eedbcb5cd03.jpg  \n",
      "  inflating: ./add_smoke_data/train/images/image-955-_jpg.rf.fa4611152e6b05f1d767d49a8997db4c.jpg  \n",
      "  inflating: ./add_smoke_data/train/images/image-956-_jpg.rf.2c2d72e21ed99924081a7b2f2da5fc9c.jpg  \n",
      "  inflating: ./add_smoke_data/train/images/image-957-_jpg.rf.b35b7acdd0e2c98ca17b6415b2ea19c7.jpg  \n",
      "  inflating: ./add_smoke_data/train/images/image-958-_jpg.rf.01f5706e384827213d0ee13394f5f32e.jpg  \n",
      "  inflating: ./add_smoke_data/train/images/image-959-_jpg.rf.c60a0d03bd0672d418e5b649995c733e.jpg  \n",
      "  inflating: ./add_smoke_data/train/images/image-96-_jpg.rf.99912df1f6baa4ea1ce55db6424083c5.jpg  \n",
      "  inflating: ./add_smoke_data/train/images/image-960-_jpg.rf.94962b177da82849502b612bab4cb364.jpg  \n",
      "  inflating: ./add_smoke_data/train/images/image-963-_jpg.rf.82692f7843c743083cc964c271965121.jpg  \n",
      "  inflating: ./add_smoke_data/train/images/image-964-_jpg.rf.c03e4a576a13e4c7e540a40900463653.jpg  \n",
      "  inflating: ./add_smoke_data/train/images/image-965-_jpg.rf.37f6dd3b16bfedb14c9585f3c2db290b.jpg  \n",
      "  inflating: ./add_smoke_data/train/images/image-967-_jpg.rf.c84f91222893f6b949093f9468071ed4.jpg  \n",
      "  inflating: ./add_smoke_data/train/images/image-968-_jpg.rf.dd1ad4f3c6ab9c92ad5eba3d044eda99.jpg  \n",
      "  inflating: ./add_smoke_data/train/images/image-969-_jpg.rf.dea62dd1a64b68a5de98d180ff925e8a.jpg  \n",
      "  inflating: ./add_smoke_data/train/images/image-97-_jpg.rf.487c4e4e909403310f66e1e9121ca274.jpg  \n",
      "  inflating: ./add_smoke_data/train/images/image-970-_jpg.rf.60163e6fec36bc17c1a03f62064974ab.jpg  \n",
      "  inflating: ./add_smoke_data/train/images/image-972-_jpg.rf.ef9833b7be9001d52fe2cf5c568d747c.jpg  \n",
      "  inflating: ./add_smoke_data/train/images/image-974-_jpg.rf.5d760bf2fb32190a4dd1cbe98b457d37.jpg  \n",
      "  inflating: ./add_smoke_data/train/images/image-975-_jpg.rf.377568ee31031601c7bddd713b4eaa2a.jpg  \n",
      "  inflating: ./add_smoke_data/train/images/image-98-_jpg.rf.8d2250fa7911d5bb4bfa8849da71d6f6.jpg  \n",
      "  inflating: ./add_smoke_data/train/images/image-99-_jpg.rf.2c3f5874a8aee7680471f088055347ba.jpg  \n",
      "  inflating: ./add_smoke_data/train/images/images4-1-_jpg.rf.2e6b8668ca234ab6ef3544bac707ea80.jpg  \n",
      "  inflating: ./add_smoke_data/train/images/images4-10-_jpg.rf.790b9fcf2c59be2b3d6a3f2333a66bc8.jpg  \n",
      "  inflating: ./add_smoke_data/train/images/images4-100-_jpg.rf.d50fa9600439f66e6176a474549e8924.jpg  \n",
      "  inflating: ./add_smoke_data/train/images/images4-101-_jpg.rf.e3456f0e66a721e44725c605676ee079.jpg  \n",
      "  inflating: ./add_smoke_data/train/images/images4-102-_jpg.rf.2e06f7da4aec67cf0fb52953eef3a267.jpg  \n",
      "  inflating: ./add_smoke_data/train/images/images4-103-_jpg.rf.9cc3c4d2a673ba477ffd6bc6b9197149.jpg  \n",
      "  inflating: ./add_smoke_data/train/images/images4-104-_jpg.rf.b3bccbb0bcb1f5848c66b46d2aaf59df.jpg  \n",
      "  inflating: ./add_smoke_data/train/images/images4-106-_jpg.rf.8a6e9a9d0bf3691f4fdbb9b53bfd9c4f.jpg  \n",
      "  inflating: ./add_smoke_data/train/images/images4-107-_jpg.rf.d3a4f1a3a7567401991e1b592f1e1acd.jpg  \n",
      "  inflating: ./add_smoke_data/train/images/images4-109-_jpg.rf.03ffb680ca83ce4f1125dd1c5d77f2d8.jpg  \n",
      "  inflating: ./add_smoke_data/train/images/images4-110-_jpg.rf.1bbe3bd83ddea37a2a5b81f83785cf2c.jpg  \n",
      "  inflating: ./add_smoke_data/train/images/images4-112-_jpg.rf.306555f66e83263b169ba075f7ace12e.jpg  \n",
      "  inflating: ./add_smoke_data/train/images/images4-113-_jpg.rf.62d94098a00be47ca77a0c5d5730df43.jpg  \n",
      "  inflating: ./add_smoke_data/train/images/images4-114-_jpg.rf.e1b3bf1462f0099b4a65f5458726dc4b.jpg  \n",
      "  inflating: ./add_smoke_data/train/images/images4-116-_jpg.rf.db229001f38e34a06abc3b0dab414650.jpg  \n",
      "  inflating: ./add_smoke_data/train/images/images4-118-_jpg.rf.37fa2db48a07ccb5138589a26610e459.jpg  \n",
      "  inflating: ./add_smoke_data/train/images/images4-12-_jpg.rf.2b78ece90baa1ec2c83c3cf2bcf388a3.jpg  \n",
      "  inflating: ./add_smoke_data/train/images/images4-120-_jpg.rf.646cf1bc5ba0d8e42ac57571978e4f9f.jpg  \n",
      "  inflating: ./add_smoke_data/train/images/images4-122-_jpg.rf.55eb687252066d2f26b0f23b0e02ac1b.jpg  \n",
      "  inflating: ./add_smoke_data/train/images/images4-123-_jpg.rf.97f440ee8b0520be7b4a78c40deacac5.jpg  \n",
      "  inflating: ./add_smoke_data/train/images/images4-125-_jpg.rf.92574f18c45574f64304594041504219.jpg  \n",
      "  inflating: ./add_smoke_data/train/images/images4-126-_jpg.rf.20233cb2ca51a5c5d101422b50f71776.jpg  \n",
      "  inflating: ./add_smoke_data/train/images/images4-127-_jpg.rf.118f320219c59b70a3fea8a6c15e339e.jpg  \n",
      "  inflating: ./add_smoke_data/train/images/images4-129-_jpg.rf.58ad64b2cf2ffd6769f525cdcf7b7abd.jpg  \n",
      "  inflating: ./add_smoke_data/train/images/images4-13-_jpg.rf.6b4285d4b49df29b73eeadc615cf23ed.jpg  \n",
      "  inflating: ./add_smoke_data/train/images/images4-130-_jpg.rf.6c79b64dfbb369709456abe63c069b0b.jpg  \n",
      "  inflating: ./add_smoke_data/train/images/images4-131-_jpg.rf.12138f8f531226915f9dd35834043813.jpg  \n",
      "  inflating: ./add_smoke_data/train/images/images4-132-_jpg.rf.a7ddebc81994ed6b0637909807d97f91.jpg  \n",
      "  inflating: ./add_smoke_data/train/images/images4-133-_jpg.rf.9d8993ec457dd8aef6cf2ad0f9d629c0.jpg  \n",
      "  inflating: ./add_smoke_data/train/images/images4-134-_jpg.rf.0ce1c0349510315531213197bcb82d3b.jpg  \n",
      "  inflating: ./add_smoke_data/train/images/images4-135-_jpg.rf.bc325bac39d6bf1c6cfaf1f3f7b0e282.jpg  \n",
      "  inflating: ./add_smoke_data/train/images/images4-136-_jpg.rf.785a683180a655382a96a5f082104333.jpg  \n",
      "  inflating: ./add_smoke_data/train/images/images4-137-_jpg.rf.efc564f5c7cd970bbfadc3978907f916.jpg  \n",
      "  inflating: ./add_smoke_data/train/images/images4-138-_jpg.rf.ce8b034d9991a7f268f0616d3211f573.jpg  \n",
      "  inflating: ./add_smoke_data/train/images/images4-14-_jpg.rf.6fe5087abc693424331a0548faef59cb.jpg  \n",
      "  inflating: ./add_smoke_data/train/images/images4-140-_jpg.rf.b947b25757615fd55bbe83bb8319e38a.jpg  \n",
      "  inflating: ./add_smoke_data/train/images/images4-141-_jpg.rf.57e3b3454cf51780d76d5268f23431ff.jpg  \n",
      "  inflating: ./add_smoke_data/train/images/images4-142-_jpg.rf.49fb810df36f138d93ab7622ab8e24d6.jpg  \n",
      "  inflating: ./add_smoke_data/train/images/images4-143-_jpg.rf.93d68d2b6bb746b78928940776b5cc4a.jpg  \n",
      "  inflating: ./add_smoke_data/train/images/images4-144-_jpg.rf.b416454fc55e565135a924f30f76e5ad.jpg  \n",
      "  inflating: ./add_smoke_data/train/images/images4-145-_jpg.rf.6aaeac554131648fcba440e5faa5d694.jpg  \n",
      "  inflating: ./add_smoke_data/train/images/images4-146-_jpg.rf.2bc752f0a0df552126678d13c43c9a2d.jpg  \n",
      "  inflating: ./add_smoke_data/train/images/images4-147-_jpg.rf.a28f0a33af4b5567cdc221354786a0fb.jpg  \n",
      "  inflating: ./add_smoke_data/train/images/images4-148-_jpg.rf.d1f607726ef51ac443adda3a4635ab0d.jpg  \n",
      "  inflating: ./add_smoke_data/train/images/images4-149-_jpg.rf.9c6631d46587ad71e88dc59a967ece3e.jpg  \n",
      "  inflating: ./add_smoke_data/train/images/images4-15-_jpg.rf.72e2db43e9100454686e9da21353f4df.jpg  \n",
      "  inflating: ./add_smoke_data/train/images/images4-150-_jpg.rf.e122b40c903e946a97851269e406676e.jpg  \n",
      "  inflating: ./add_smoke_data/train/images/images4-151-_jpg.rf.56afd0da0835b9bfe1693cb326191661.jpg  \n",
      "  inflating: ./add_smoke_data/train/images/images4-152-_jpg.rf.403aec4148fe822fb34d34eb9da6b9fe.jpg  \n",
      "  inflating: ./add_smoke_data/train/images/images4-153-_jpg.rf.5781aa3fefce11cf5bb98a5f86dae305.jpg  \n",
      "  inflating: ./add_smoke_data/train/images/images4-154-_jpg.rf.0d3607eecbfa830b96b7a6beae4ef696.jpg  \n",
      "  inflating: ./add_smoke_data/train/images/images4-155-_jpg.rf.456083a411d2c7c98b607c35005eea75.jpg  \n",
      "  inflating: ./add_smoke_data/train/images/images4-157-_jpg.rf.ab31ab7bffb5b01750a04c7673bca017.jpg  \n",
      "  inflating: ./add_smoke_data/train/images/images4-16-_jpg.rf.044149ed6866860bf94622aab571048d.jpg  \n",
      "  inflating: ./add_smoke_data/train/images/images4-160-_jpg.rf.20def2cb622b787dfc3581de21e6e8ba.jpg  \n",
      "  inflating: ./add_smoke_data/train/images/images4-161-_jpg.rf.f8657677db659100407ce3de618b5094.jpg  \n",
      "  inflating: ./add_smoke_data/train/images/images4-162-_jpg.rf.c16cc59dc673b37b9027bc5ec4a31f1c.jpg  \n",
      "  inflating: ./add_smoke_data/train/images/images4-164-_jpg.rf.3210ab5e640dff88f62a9f82a2e001a9.jpg  \n",
      "  inflating: ./add_smoke_data/train/images/images4-165-_jpg.rf.163f6a0c1bc2c41467f292c48a368ecc.jpg  \n",
      "  inflating: ./add_smoke_data/train/images/images4-166-_jpg.rf.f3b1b8768006b10529f8a42328f97259.jpg  \n",
      "  inflating: ./add_smoke_data/train/images/images4-167-_jpg.rf.c396c0019aacf45bf2ac02efea7e0685.jpg  \n",
      "  inflating: ./add_smoke_data/train/images/images4-168-_jpg.rf.f4048a0f42f7c78cf3f04bc71f68adcc.jpg  \n",
      "  inflating: ./add_smoke_data/train/images/images4-169-_jpg.rf.5a09afe212a52cef6f5aae0bf3674bc9.jpg  \n",
      "  inflating: ./add_smoke_data/train/images/images4-17-_jpg.rf.33726e8e3cebaa90bb35f8ebaad0188e.jpg  \n",
      "  inflating: ./add_smoke_data/train/images/images4-170-_jpg.rf.9f2c03fa48a15e961a54e238d90c34fe.jpg  \n",
      "  inflating: ./add_smoke_data/train/images/images4-172-_jpg.rf.baa5d422ec940e4cf6e2cf19e65be160.jpg  \n",
      "  inflating: ./add_smoke_data/train/images/images4-173-_jpg.rf.392a921918ee94798d9fdbc0c7d2a933.jpg  \n",
      "  inflating: ./add_smoke_data/train/images/images4-174-_jpg.rf.1af24779892c8fa66e429639c705a510.jpg  \n",
      "  inflating: ./add_smoke_data/train/images/images4-175-_jpg.rf.fdbf6e1a32716ac05897229f9ae5c965.jpg  \n",
      "  inflating: ./add_smoke_data/train/images/images4-178-_jpg.rf.ca7dffa1427e549bf9c38c57c7f2facc.jpg  \n",
      "  inflating: ./add_smoke_data/train/images/images4-179-_jpg.rf.54ef5b0364038967f5f74757c6f37ae8.jpg  \n",
      "  inflating: ./add_smoke_data/train/images/images4-19-_jpg.rf.70b1e2cea00723541378277422eb8b03.jpg  \n",
      "  inflating: ./add_smoke_data/train/images/images4-2-_jpg.rf.03204270c6cedcc135453e5f9920d92f.jpg  \n",
      "  inflating: ./add_smoke_data/train/images/images4-20-_jpg.rf.4f91440914d342ff7897e5f714b13cd8.jpg  \n",
      "  inflating: ./add_smoke_data/train/images/images4-21-_jpg.rf.14da1eacb5fd7e83a23a438a15d96484.jpg  \n",
      "  inflating: ./add_smoke_data/train/images/images4-22-_jpg.rf.5eb379068abdcea75969a15121581679.jpg  \n",
      "  inflating: ./add_smoke_data/train/images/images4-23-_jpg.rf.871618ad8875d0e19e269c10217354ab.jpg  \n",
      "  inflating: ./add_smoke_data/train/images/images4-25-_jpg.rf.b63b73eda6475a5a5875cb125c6614f0.jpg  \n",
      "  inflating: ./add_smoke_data/train/images/images4-26-_jpg.rf.0097e790cf6b92b6a9ae997cf954ff84.jpg  \n",
      "  inflating: ./add_smoke_data/train/images/images4-27-_jpg.rf.6f823202a12ef5c5e3bd8b031970f412.jpg  \n",
      "  inflating: ./add_smoke_data/train/images/images4-28-_jpg.rf.02b044ec23b9b34b110b48d76b2ea9e3.jpg  \n",
      "  inflating: ./add_smoke_data/train/images/images4-29-_jpg.rf.42f25687c0da91546994ae009f1adb9b.jpg  \n",
      "  inflating: ./add_smoke_data/train/images/images4-30-_jpg.rf.d9a51feab50b18b9f574655e99eb5a45.jpg  \n",
      "  inflating: ./add_smoke_data/train/images/images4-31-_jpg.rf.62b57333346d69f1fd30b46230c44f68.jpg  \n",
      "  inflating: ./add_smoke_data/train/images/images4-32-_jpg.rf.0a02e06412ac61a1ce4b6d4696ec562a.jpg  \n",
      "  inflating: ./add_smoke_data/train/images/images4-34-_jpg.rf.796b1dbbec255b91a9819dc901f43b30.jpg  \n",
      "  inflating: ./add_smoke_data/train/images/images4-35-_jpg.rf.8da5873d918619839302b57196548c7e.jpg  \n",
      "  inflating: ./add_smoke_data/train/images/images4-36-_jpg.rf.6e4a7aa610a41e7289d4178f47caf8d4.jpg  \n",
      "  inflating: ./add_smoke_data/train/images/images4-37-_jpg.rf.439796d493cf40ee650017ab2914715f.jpg  \n",
      "  inflating: ./add_smoke_data/train/images/images4-38-_jpg.rf.105bea059024682be87f781ed2d41f39.jpg  \n",
      "  inflating: ./add_smoke_data/train/images/images4-39-_jpg.rf.fa370ea3b2be575416ca94ad21684db8.jpg  \n",
      "  inflating: ./add_smoke_data/train/images/images4-4-_jpg.rf.0c24d55a5fbe6b545a30ed19610e3f16.jpg  \n",
      "  inflating: ./add_smoke_data/train/images/images4-40-_jpg.rf.c4384c33984bedfa9c4c82a96eed5324.jpg  \n",
      "  inflating: ./add_smoke_data/train/images/images4-41-_jpg.rf.241782e074d488390398a400182d11ea.jpg  \n",
      "  inflating: ./add_smoke_data/train/images/images4-42-_jpg.rf.946570c7077db880fd0554a1ac8cf2a4.jpg  \n",
      "  inflating: ./add_smoke_data/train/images/images4-44-_jpg.rf.fde9e89988007c6bc5b6bd2776d3db8d.jpg  \n",
      "  inflating: ./add_smoke_data/train/images/images4-45-_jpg.rf.5a4ebb0a1bddc91ece7ff0c0291b25b1.jpg  \n",
      "  inflating: ./add_smoke_data/train/images/images4-46-_jpg.rf.16cfb422cca4404f0fab238dab6c7ccf.jpg  \n",
      "  inflating: ./add_smoke_data/train/images/images4-47-_jpg.rf.a82ec2d8f1b8e210d5845064c56eac73.jpg  \n",
      "  inflating: ./add_smoke_data/train/images/images4-5-_jpg.rf.1d36fba9272572b9c69d7f940fdda1e5.jpg  \n",
      "  inflating: ./add_smoke_data/train/images/images4-50-_jpg.rf.fa006529aa3d68d78c9c774442f384ab.jpg  \n",
      "  inflating: ./add_smoke_data/train/images/images4-51-_jpg.rf.2980f97cbcf9bd4122c22fdbba7ff20f.jpg  \n",
      "  inflating: ./add_smoke_data/train/images/images4-52-_jpg.rf.8a3adb672598ab015b71f12a54560e8f.jpg  \n",
      "  inflating: ./add_smoke_data/train/images/images4-55-_jpg.rf.c1c6746d9a20fd3de1b678ecb157897b.jpg  \n",
      "  inflating: ./add_smoke_data/train/images/images4-56-_jpg.rf.0cebe067be2335ed8fd3cd0c43bc5a09.jpg  \n",
      "  inflating: ./add_smoke_data/train/images/images4-57-_jpg.rf.b7ffbcfc69d333f518e352f1dfbc1aca.jpg  \n",
      "  inflating: ./add_smoke_data/train/images/images4-6-_jpg.rf.7b644e674c53e329093f9ff10d84cf46.jpg  \n",
      "  inflating: ./add_smoke_data/train/images/images4-60-_jpg.rf.8404d32644d933ddd47dbdc589bd8da8.jpg  \n",
      "  inflating: ./add_smoke_data/train/images/images4-62-_jpg.rf.bb88b95b0c084418af1f65dfd9caa3e4.jpg  \n",
      "  inflating: ./add_smoke_data/train/images/images4-63-_jpg.rf.27c90f4557ca11ef6c7d7b29862b5be7.jpg  \n",
      "  inflating: ./add_smoke_data/train/images/images4-64-_jpg.rf.3e7cf12eed91910d5b65b4ff81db81af.jpg  \n",
      "  inflating: ./add_smoke_data/train/images/images4-65-_jpg.rf.2beb56c7d9135c8f62546c93344bdc95.jpg  \n",
      "  inflating: ./add_smoke_data/train/images/images4-68-_jpg.rf.d1203165414742b6e2c77c8c1f63112a.jpg  \n",
      "  inflating: ./add_smoke_data/train/images/images4-69-_jpg.rf.8de5564cd99a1fa2ffb4a99875501cf0.jpg  \n",
      "  inflating: ./add_smoke_data/train/images/images4-7-_jpg.rf.b1eaa4889fd0775c7792e5cd862e2baa.jpg  \n",
      "  inflating: ./add_smoke_data/train/images/images4-70-_jpg.rf.539149bb37dbe484dfebb44505c0863a.jpg  \n",
      "  inflating: ./add_smoke_data/train/images/images4-71-_jpg.rf.992fdb569b01d4fdeff05a7cb7832aa6.jpg  \n",
      "  inflating: ./add_smoke_data/train/images/images4-72-_jpg.rf.ba6f943d631d0166cd87e766d0dbae8f.jpg  \n",
      "  inflating: ./add_smoke_data/train/images/images4-73-_jpg.rf.3da7c3078bc8a70293ccb6cc48df2d21.jpg  \n",
      "  inflating: ./add_smoke_data/train/images/images4-74-_jpg.rf.021020c85317df4ae87c83392497b0aa.jpg  \n",
      "  inflating: ./add_smoke_data/train/images/images4-75-_jpg.rf.c860fd5456f0eacdc88a83ef5b56e999.jpg  \n",
      "  inflating: ./add_smoke_data/train/images/images4-77-_jpg.rf.8b65d82b9c62c504aae1baefb0bbf383.jpg  \n",
      "  inflating: ./add_smoke_data/train/images/images4-79-_jpg.rf.457a0eb7f9122b95778b8cbefe8883dd.jpg  \n",
      "  inflating: ./add_smoke_data/train/images/images4-8-_jpg.rf.17a916aa91a5805f0941ba3c44152606.jpg  \n",
      "  inflating: ./add_smoke_data/train/images/images4-80-_jpg.rf.570d00960ecb00e56f8647890d816568.jpg  \n",
      "  inflating: ./add_smoke_data/train/images/images4-81-_jpg.rf.4ca0d4f5c971ca848f185cd0e2ca18d7.jpg  \n",
      "  inflating: ./add_smoke_data/train/images/images4-82-_jpg.rf.3c31f0ce879fd3f7b4daa884916c0d16.jpg  \n",
      "  inflating: ./add_smoke_data/train/images/images4-83-_jpg.rf.e9d8120092a0633e968b7433aeb71591.jpg  \n",
      "  inflating: ./add_smoke_data/train/images/images4-84-_jpg.rf.7e6f258b1f037f3f07eed9223dcaf183.jpg  \n",
      "  inflating: ./add_smoke_data/train/images/images4-85-_jpg.rf.1cb075fcb7373079cfe470bb1978c747.jpg  \n",
      "  inflating: ./add_smoke_data/train/images/images4-86-_jpg.rf.6928bd0767a5145b9f9085931c8b9a97.jpg  \n",
      "  inflating: ./add_smoke_data/train/images/images4-87-_jpg.rf.55d5fd28ed55b79aece41004a6ecb3a0.jpg  \n",
      "  inflating: ./add_smoke_data/train/images/images4-89-_jpg.rf.60ac6044ffd3e96e19cc79daddf6dbc1.jpg  \n",
      "  inflating: ./add_smoke_data/train/images/images4-9-_jpg.rf.45e1ed5ad93ed02e2d3a3427b01706c5.jpg  \n",
      "  inflating: ./add_smoke_data/train/images/images4-90-_jpg.rf.00225e7053b3e18432ee5b74f6f1862e.jpg  \n",
      "  inflating: ./add_smoke_data/train/images/images4-92-_jpg.rf.249e85aacd1e425e76888960dd6ad966.jpg  \n",
      "  inflating: ./add_smoke_data/train/images/images4-93-_jpg.rf.9a8f60d05d9652dfd11a770dba9c395a.jpg  \n",
      "  inflating: ./add_smoke_data/train/images/images4-95-_jpg.rf.73cf892ba918e40dc8c7fe3434ef754e.jpg  \n",
      "  inflating: ./add_smoke_data/train/images/images4-96-_jpg.rf.c6c4cf92b0b7d312c7bf3c437130588a.jpg  \n",
      "  inflating: ./add_smoke_data/train/images/images4-97-_jpg.rf.9b431f5d05fb1645b90d338073e2dbfd.jpg  \n",
      "  inflating: ./add_smoke_data/train/images/images4-98-_jpg.rf.cc98c3ac8920228405f7e6600676e800.jpg  \n",
      "  inflating: ./add_smoke_data/train/images/images4-99-_jpg.rf.d997f6cf119de4e9d7b26f624067eaf5.jpg  \n",
      "  inflating: ./add_smoke_data/train/images/L_00477_png.rf.1ca417c571c8c9d51d8d08bee3c9d6d4.jpg  \n",
      "  inflating: ./add_smoke_data/train/images/L_00477_png.rf.3a180f297fe29e5fc32bd79bf9571e46.jpg  \n",
      "  inflating: ./add_smoke_data/train/images/L_00511_png.rf.91851caa7264f41ad4a149388bf097c5.jpg  \n",
      "  inflating: ./add_smoke_data/train/images/L_00511_png.rf.cdf27ed45450084263367c9aca378cb8.jpg  \n",
      "  inflating: ./add_smoke_data/train/images/L_00729_png.rf.4fa97e7b9a044f2f102cf79947a7d5e0.jpg  \n",
      "  inflating: ./add_smoke_data/train/images/L_00729_png.rf.92278f9be873504c5883d8725161788c.jpg  \n",
      "  inflating: ./add_smoke_data/train/images/L_00729_png.rf.f7862f299d80725cf78ffa9e896a053c.jpg  \n",
      "  inflating: ./add_smoke_data/train/images/L_00841_png.rf.1201976359003b976015236c17e60c3b.jpg  \n",
      "  inflating: ./add_smoke_data/train/images/L_00841_png.rf.33cb4ab671393a9fadd4b863b45fce64.jpg  \n",
      "  inflating: ./add_smoke_data/train/images/L_00841_png.rf.b6627bceabd5db422fee0ed5830a69b3.jpg  \n",
      "  inflating: ./add_smoke_data/train/images/L_00975_png.rf.2b2182bc51c8f322084126178f1f01d5.jpg  \n",
      "  inflating: ./add_smoke_data/train/images/L_00975_png.rf.909760491f51789ea0c83c6f83df7582.jpg  \n",
      "  inflating: ./add_smoke_data/train/images/L_00975_png.rf.b2c76f56657a2c9be687801f6de3e4b4.jpg  \n",
      "  inflating: ./add_smoke_data/train/images/L_01064_png.rf.149aae081d6b67d0725a9a5ce9a5d50d.jpg  \n",
      "  inflating: ./add_smoke_data/train/images/L_01064_png.rf.d0cf156cf773179f04c6b987622b3d5e.jpg  \n",
      "  inflating: ./add_smoke_data/train/images/L_01118_png.rf.2add029ab041f7b635c70a901c170ced.jpg  \n",
      "  inflating: ./add_smoke_data/train/images/L_01118_png.rf.7faf829a332c431c2d2603cedad38890.jpg  \n",
      "  inflating: ./add_smoke_data/train/images/L_01118_png.rf.9f2ade512429085b7cdf69198c24be1b.jpg  \n",
      "  inflating: ./add_smoke_data/train/images/L_01371_png.rf.10a43881c187684905e65168d01380d2.jpg  \n",
      "  inflating: ./add_smoke_data/train/images/L_01371_png.rf.25ce98901238a0e32df4cf2f7ac83011.jpg  \n",
      "  inflating: ./add_smoke_data/train/images/L_01379_png.rf.48cf5f719a42bc357b73b364af5facff.jpg  \n",
      "  inflating: ./add_smoke_data/train/images/L_01379_png.rf.689865575e8fbdf0acc4802aab1d7b78.jpg  \n",
      "  inflating: ./add_smoke_data/train/images/L_01379_png.rf.adb362741d593e68ae57dea62ba4a5de.jpg  \n",
      "  inflating: ./add_smoke_data/train/images/L_01596_png.rf.23b3daa92e7255ca9e32f905af2953be.jpg  \n",
      "  inflating: ./add_smoke_data/train/images/L_01596_png.rf.557e3c87f7983ddc1e6abc5a604a4206.jpg  \n",
      "  inflating: ./add_smoke_data/train/images/L_01805_png.rf.4117b5200239510ffb84279d1f59e487.jpg  \n",
      "  inflating: ./add_smoke_data/train/images/L_01805_png.rf.a057acacf4a5c1471c9749b345bb2f51.jpg  \n",
      "  inflating: ./add_smoke_data/train/images/L_01805_png.rf.bb70399f05a3b704c2cd63961a01c622.jpg  \n",
      "  inflating: ./add_smoke_data/train/images/L_01825_png.rf.38a06cf6d2c06f7b4ac6386675def9b4.jpg  \n",
      "  inflating: ./add_smoke_data/train/images/L_01825_png.rf.4a644022571ecad7df27edd2c1232e2f.jpg  \n",
      "  inflating: ./add_smoke_data/train/images/L_01839_png.rf.6853908aef84515ac18e13652901d0e3.jpg  \n",
      "  inflating: ./add_smoke_data/train/images/L_01839_png.rf.97642b42a80447dc9cf2bdd2ed1a2d1a.jpg  \n",
      "  inflating: ./add_smoke_data/train/images/L_01839_png.rf.b2ca05ba808e8559eb5e950f41223cfc.jpg  \n",
      "  inflating: ./add_smoke_data/train/images/L_01852_png.rf.27740e82a87ef61dba2e9cbe41d70d99.jpg  \n",
      "  inflating: ./add_smoke_data/train/images/L_01852_png.rf.c43bfcca374af0c16b9d4007ef29e7ec.jpg  \n",
      "  inflating: ./add_smoke_data/train/images/L_02246_png.rf.4a978419d95b9ce9c74949d00fd758c1.jpg  \n",
      "  inflating: ./add_smoke_data/train/images/L_02246_png.rf.576b9bcc87e73fa3cb26c4f4964f785c.jpg  \n",
      "  inflating: ./add_smoke_data/train/images/L_02246_png.rf.c799dd599cca29065270e4e52fe11d1e.jpg  \n",
      "  inflating: ./add_smoke_data/train/images/L_02338_png.rf.150d41522a68e70e25b33c1dc46be1e8.jpg  \n",
      "  inflating: ./add_smoke_data/train/images/L_02338_png.rf.1f5fdab9a8138124387feba459169419.jpg  \n",
      "  inflating: ./add_smoke_data/train/images/L_02380_png.rf.8ad5c5c404825b420e963113f0565b11.jpg  \n",
      "  inflating: ./add_smoke_data/train/images/L_02380_png.rf.a465d6d5426e37c6a6bf836b12492576.jpg  \n",
      "  inflating: ./add_smoke_data/train/images/L_02710_png.rf.8244cec85d685ecb6b21bb6e348e45e8.jpg  \n",
      "  inflating: ./add_smoke_data/train/images/L_02710_png.rf.bec06a04a068100115a1f8973656a9fa.jpg  \n",
      "  inflating: ./add_smoke_data/train/images/L_02710_png.rf.c1a0facde54a388a4145b6b6b70b5190.jpg  \n",
      "  inflating: ./add_smoke_data/train/images/L_03066_png.rf.0e343fb2e0ba2bfec4f86cee4efc7f3e.jpg  \n",
      "  inflating: ./add_smoke_data/train/images/L_03066_png.rf.a66610925c41120d702d2bf0dedd347a.jpg  \n",
      "  inflating: ./add_smoke_data/train/images/L_03266_png.rf.446eaae169ec9b94a8cb586180095773.jpg  \n",
      "  inflating: ./add_smoke_data/train/images/L_03266_png.rf.ae3507fa87feadeba884900a261e6728.jpg  \n",
      "  inflating: ./add_smoke_data/train/images/L_03266_png.rf.c3a23e5fba66c8f23a1d2e8af6e1e87a.jpg  \n",
      "  inflating: ./add_smoke_data/train/images/L_03381_png.rf.41fdb6a548e049cc8ff3db6ee0dd0db2.jpg  \n",
      "  inflating: ./add_smoke_data/train/images/L_03381_png.rf.ba1e0ec0b2e5677b9d63b1b6bcf2d43d.jpg  \n",
      "  inflating: ./add_smoke_data/train/images/L_03589_png.rf.0e00c9f31c60b69bd5bc206fe2ecc5a1.jpg  \n",
      "  inflating: ./add_smoke_data/train/images/L_03589_png.rf.597fb8791efadacf43085083f560e2eb.jpg  \n",
      "  inflating: ./add_smoke_data/train/images/L_03632_png.rf.2ef10ce01258a07256d7a5238fe1ec5e.jpg  \n",
      "  inflating: ./add_smoke_data/train/images/L_03632_png.rf.dbd91fd192742f886ab1ddfc67313b34.jpg  \n",
      "  inflating: ./add_smoke_data/train/images/L_03785_png.rf.bf82de95151fcdd11fd3a0f0941112a0.jpg  \n",
      "  inflating: ./add_smoke_data/train/images/L_03785_png.rf.ea6f9076669e92c8408fd0511e54363f.jpg  \n",
      "  inflating: ./add_smoke_data/train/images/L_03795_png.rf.75f38da975f5186dc41b9e3b22c5ead0.jpg  \n",
      "  inflating: ./add_smoke_data/train/images/L_03795_png.rf.a41e5699a6350f5e4cc2ed866fbd0f4f.jpg  \n",
      "  inflating: ./add_smoke_data/train/images/L_03838_png.rf.1d87282140f981efe1bab340374b8d33.jpg  \n",
      "  inflating: ./add_smoke_data/train/images/L_03925_png.rf.0cba56bab16f9941e7dc06225f3fc810.jpg  \n",
      "  inflating: ./add_smoke_data/train/images/L_03925_png.rf.224b8ab594f333c1f6d073a799d2d955.jpg  \n",
      "  inflating: ./add_smoke_data/train/images/L_03925_png.rf.cde23e2cdcc6c7d37558e485e31aee51.jpg  \n",
      "  inflating: ./add_smoke_data/train/images/L_04017_png.rf.3b565bad3c9249d3e6f79717d529e288.jpg  \n",
      "  inflating: ./add_smoke_data/train/images/L_04017_png.rf.7b76baf63e0e0e1eef037477327c1666.jpg  \n",
      "  inflating: ./add_smoke_data/train/images/L_04071_png.rf.102b85a3afc395ca35f4e7994befde58.jpg  \n",
      "  inflating: ./add_smoke_data/train/images/L_04071_png.rf.bdc136c89c62abeda9d99d4f7f40a683.jpg  \n",
      "  inflating: ./add_smoke_data/train/images/L_04342_png.rf.0eabcc88c3fff0a4de7ac042d19a6e87.jpg  \n",
      "  inflating: ./add_smoke_data/train/images/L_04342_png.rf.2ac0e68ce7e0aaaead74b500d023c7a6.jpg  \n",
      "  inflating: ./add_smoke_data/train/images/L_04369_png.rf.02f1d9fc4ee8ae27a17e1944f9afb909.jpg  \n",
      "  inflating: ./add_smoke_data/train/images/L_04369_png.rf.98b789850fc8adb3b3785433b5d56467.jpg  \n",
      "  inflating: ./add_smoke_data/train/images/L_04369_png.rf.fac297feebc74ae85245bc29938de69d.jpg  \n",
      "  inflating: ./add_smoke_data/train/images/L_04407_png.rf.9f00a8004523cb65651205c812b3e2c9.jpg  \n",
      "  inflating: ./add_smoke_data/train/images/L_04407_png.rf.d6cda255fb550207b37d361a7a9e9c71.jpg  \n",
      "  inflating: ./add_smoke_data/train/images/L_04783_png.rf.1bc38f6e87fafef96fe37c1fdf0f0654.jpg  \n",
      "  inflating: ./add_smoke_data/train/images/L_04783_png.rf.22cd3b32ab11b6886695b6690727a64e.jpg  \n",
      "  inflating: ./add_smoke_data/train/images/L_04783_png.rf.3a69188b5e2ea19e733e2a71c677869e.jpg  \n",
      "  inflating: ./add_smoke_data/train/images/L_04836_png.rf.6f28b25323f02ccadd9d2d2bdbb46b07.jpg  \n",
      "  inflating: ./add_smoke_data/train/images/L_04836_png.rf.d12563fadb0a15565657958a33c18c72.jpg  \n",
      "  inflating: ./add_smoke_data/train/images/L_04836_png.rf.fd8c018fbfbd8e3e796601d405dd3377.jpg  \n",
      "  inflating: ./add_smoke_data/train/images/L_04862_png.rf.7c2ac410e9bf7b62c9cd84e660fa26c9.jpg  \n",
      "  inflating: ./add_smoke_data/train/images/L_04862_png.rf.82d41bf399b2d9f69dfd905eac833f39.jpg  \n",
      "  inflating: ./add_smoke_data/train/images/L_04862_png.rf.a5d99c47a1bb64e68a0a106b409f6bd6.jpg  \n",
      "  inflating: ./add_smoke_data/train/images/M_00147_png.rf.6c96cad098bcd7c2bf12b657bcabf9d9.jpg  \n",
      "  inflating: ./add_smoke_data/train/images/M_00147_png.rf.894e7a85a49bc5c5ecb368f71e2f1ce1.jpg  \n",
      "  inflating: ./add_smoke_data/train/images/M_00259_png.rf.1662a3f643082bb83260269dae4ada93.jpg  \n",
      "  inflating: ./add_smoke_data/train/images/M_00259_png.rf.445048c104c5fa97c583d8daffecd20e.jpg  \n",
      "  inflating: ./add_smoke_data/train/images/M_00259_png.rf.e2d7571e3b24c1bcf877dc87ef30dfe6.jpg  \n",
      "  inflating: ./add_smoke_data/train/images/M_00629_png.rf.4d7cff1db92b54ae12f6fffdbe1003a8.jpg  \n",
      "  inflating: ./add_smoke_data/train/images/M_00629_png.rf.f188a40499f7bd570d7dcbc62fa0c17c.jpg  \n",
      "  inflating: ./add_smoke_data/train/images/M_00815_png.rf.94c821776cb8f15cc5a9a8568d7a72f8.jpg  \n",
      "  inflating: ./add_smoke_data/train/images/M_01584_png.rf.316f78c45c7fd9ed266d0bb20e3af5c7.jpg  \n",
      "  inflating: ./add_smoke_data/train/images/M_01584_png.rf.58891b4d3d678a26231616757c4a04eb.jpg  \n",
      "  inflating: ./add_smoke_data/train/images/M_01617_png.rf.478fb2c4464a86609f291bcf470831df.jpg  \n",
      "  inflating: ./add_smoke_data/train/images/M_01617_png.rf.aae1b4700ba4ea2cdf63a59b5a06d13e.jpg  \n",
      "  inflating: ./add_smoke_data/train/images/M_01647_png.rf.612182e8e847cb0e1f28c4fc6491edbe.jpg  \n",
      "  inflating: ./add_smoke_data/train/images/M_01647_png.rf.ee8582f15aabf2682bebebe921d8a7e2.jpg  \n",
      "  inflating: ./add_smoke_data/train/images/M_01939_png.rf.5ae57ad816c1e7f5a5b8cde33494fbd4.jpg  \n",
      "  inflating: ./add_smoke_data/train/images/M_01939_png.rf.dd128b13ea3995a70f86689876a3e261.jpg  \n",
      "  inflating: ./add_smoke_data/train/images/M_01939_png.rf.edaa1ae6a46af4cf428b18e425663741.jpg  \n",
      "  inflating: ./add_smoke_data/train/images/M_02072_png.rf.7e6f33e7677af7ed224fc65604d0444e.jpg  \n",
      "  inflating: ./add_smoke_data/train/images/M_02072_png.rf.a4fb346ec82ecf91dab2c7cff6de7d3a.jpg  \n",
      "  inflating: ./add_smoke_data/train/images/M_02122_png.rf.345efea82f425c8628c214ee620819e3.jpg  \n",
      "  inflating: ./add_smoke_data/train/images/M_02149_png.rf.c56ae313fa3532341a3b322f286e5a3e.jpg  \n",
      "  inflating: ./add_smoke_data/train/images/M_02149_png.rf.cdaccc0d2411d4248f1fb92c336fc189.jpg  \n",
      "  inflating: ./add_smoke_data/train/images/M_02209_png.rf.2318cf8e1718f99e2bb73b18e31b69d0.jpg  \n",
      "  inflating: ./add_smoke_data/train/images/M_02209_png.rf.f47ff3778050176f659986d7050dfbf5.jpg  \n",
      "  inflating: ./add_smoke_data/train/images/M_02271_png.rf.5e31c0ac813f807ff87f3401ba6fe481.jpg  \n",
      "  inflating: ./add_smoke_data/train/images/M_02477_png.rf.21c4b1eacaf951ead1630988fd4cc4f9.jpg  \n",
      "  inflating: ./add_smoke_data/train/images/M_02477_png.rf.fbaba2593874f101c51651418e84a35e.jpg  \n",
      "  inflating: ./add_smoke_data/train/images/M_02512_png.rf.4afdfa5ee39f044147950430bec38c72.jpg  \n",
      "  inflating: ./add_smoke_data/train/images/M_02512_png.rf.55a6ba178bb70ead7ea3cc9feafab5b5.jpg  \n",
      "  inflating: ./add_smoke_data/train/images/M_02523_png.rf.ac61af204e8edd79730fb2cb208a3d94.jpg  \n",
      "  inflating: ./add_smoke_data/train/images/M_02523_png.rf.e45a09eaf14abfa7b87d539e333566c1.jpg  \n",
      "  inflating: ./add_smoke_data/train/images/M_02711_png.rf.37779db23004aa8e70a074ecde935f73.jpg  \n",
      "  inflating: ./add_smoke_data/train/images/M_02711_png.rf.abc42223feeb3f788e5a8f725b65dfc8.jpg  \n",
      "  inflating: ./add_smoke_data/train/images/M_02800_png.rf.0422476f33b53e84f31167a290c64cbf.jpg  \n",
      "  inflating: ./add_smoke_data/train/images/M_02800_png.rf.181368e31eea7ce291da38b3c0ac1d5c.jpg  \n",
      "  inflating: ./add_smoke_data/train/images/M_02800_png.rf.7f1b51cf1d4a43f82bd695d7a2767f58.jpg  \n",
      "  inflating: ./add_smoke_data/train/images/M_03116_png.rf.335aad185c633e4a9feec9c4f417642a.jpg  \n",
      "  inflating: ./add_smoke_data/train/images/M_03116_png.rf.5d5e410b3b15c79e3351cd7c53f62cf0.jpg  \n",
      "  inflating: ./add_smoke_data/train/images/M_03116_png.rf.a46bfec461147a6e80d0ac4c10bccd26.jpg  \n",
      "  inflating: ./add_smoke_data/train/images/M_03169_png.rf.2cb621cec30687cf9483a48718481d38.jpg  \n",
      "  inflating: ./add_smoke_data/train/images/M_03169_png.rf.6b9147920726dc2f4d1d42739bebc098.jpg  \n",
      "  inflating: ./add_smoke_data/train/images/M_03169_png.rf.6f5d6ba4052c6a1d3a6013be57f0be0c.jpg  \n",
      "  inflating: ./add_smoke_data/train/images/M_03198_png.rf.174e63618ab3f8fa9a0ca57a759be47e.jpg  \n",
      "  inflating: ./add_smoke_data/train/images/M_03198_png.rf.a0257c221f7ef2700683bd9a6b2b1928.jpg  \n",
      "  inflating: ./add_smoke_data/train/images/M_03198_png.rf.a51077f48f72831134a0a1397ee4e01c.jpg  \n",
      "  inflating: ./add_smoke_data/train/images/M_03253_png.rf.5beaf4e5594e166691d0d5ec4c2b407b.jpg  \n",
      "  inflating: ./add_smoke_data/train/images/M_03253_png.rf.6683e406bdd31494f34d96a84d0877c1.jpg  \n",
      "  inflating: ./add_smoke_data/train/images/M_03253_png.rf.8490528938a4b51529f40ea8b81205a9.jpg  \n",
      "  inflating: ./add_smoke_data/train/images/M_03461_png.rf.03f75fc42e5ac7ba52ed0a7334e2b107.jpg  \n",
      "  inflating: ./add_smoke_data/train/images/M_03461_png.rf.6c507873fbf944134a666dcd1dba60b6.jpg  \n",
      "  inflating: ./add_smoke_data/train/images/M_03461_png.rf.84f24b329d38571275ec769d16cb9353.jpg  \n",
      "  inflating: ./add_smoke_data/train/images/M_03735_png.rf.223044ac6195b9b3a651fe3f5e1a3d40.jpg  \n",
      "  inflating: ./add_smoke_data/train/images/M_03735_png.rf.43fa6dd6e6f3be02636b65dc83c45099.jpg  \n",
      "  inflating: ./add_smoke_data/train/images/M_04226_png.rf.03f5755274f3bf7ceaa6702eab79e5d2.jpg  \n",
      "  inflating: ./add_smoke_data/train/images/M_04226_png.rf.4a22c6694d58a673213e7087f49fcc76.jpg  \n",
      "  inflating: ./add_smoke_data/train/images/M_04226_png.rf.c301c1796df4329147d6f35a90f43f86.jpg  \n",
      "  inflating: ./add_smoke_data/train/images/M_04625_png.rf.f3ca9375f46974361cff7cb3b4340278.jpg  \n",
      "  inflating: ./add_smoke_data/train/images/M_04625_png.rf.f401b927b33b6888e2793083324e9a7a.jpg  \n",
      "  inflating: ./add_smoke_data/train/images/M_05076_png.rf.2afeb1b6ece1a70ee66b329cb874ebae.jpg  \n",
      "  inflating: ./add_smoke_data/train/images/M_05076_png.rf.bea87cb9fa1fc4c850770e434c90ed84.jpg  \n",
      "  inflating: ./add_smoke_data/train/images/M_05133_png.rf.220136cc6c7960171000a53f9cc1bbd9.jpg  \n",
      "  inflating: ./add_smoke_data/train/images/M_05133_png.rf.36f99005e7fbb3ec247862d593f5a083.jpg  \n",
      "  inflating: ./add_smoke_data/train/images/M_05133_png.rf.9519761909d38d3ec0cb29cb54483b5b.jpg  \n",
      "  inflating: ./add_smoke_data/train/images/M_05472_png.rf.12c371d66caa25ac0b862c44c08aca23.jpg  \n",
      "  inflating: ./add_smoke_data/train/images/M_05472_png.rf.3ec12143ee33041a11600e4bf75aeaf9.jpg  \n",
      "  inflating: ./add_smoke_data/train/images/M_05497_png.rf.b4e68ecfaaa22d4dd50505324ea0c892.jpg  \n",
      "  inflating: ./add_smoke_data/train/images/M_05497_png.rf.bbbda6a06cfaac05b864be7fbbce432c.jpg  \n",
      "  inflating: ./add_smoke_data/train/images/M_05497_png.rf.fc8cc10925a26c3714affb1c49b98a3a.jpg  \n",
      "  inflating: ./add_smoke_data/train/images/M_05627_png.rf.75725d9f77aa2b5351ee5e6933567aa7.jpg  \n",
      "  inflating: ./add_smoke_data/train/images/M_05627_png.rf.c03418d5add1b7a3fddb17906c0fc7dc.jpg  \n",
      "  inflating: ./add_smoke_data/train/images/M_05741_png.rf.302f60d35945cf300cb3a89b50893f79.jpg  \n",
      "  inflating: ./add_smoke_data/train/images/M_05741_png.rf.ccece945dbd5634f564404a8fa5b1d9d.jpg  \n",
      "  inflating: ./add_smoke_data/train/images/M_05741_png.rf.f4414ea879c571bba45468798926c3c7.jpg  \n",
      "  inflating: ./add_smoke_data/train/images/M_05962_png.rf.54c89e88247623a2b9e90e274728ee0e.jpg  \n",
      "  inflating: ./add_smoke_data/train/images/M_05962_png.rf.874d089156b9369980f10aa53acedd6b.jpg  \n",
      "  inflating: ./add_smoke_data/train/images/M_06048_png.rf.021468f1c6c1a49f10ae33296cb18d3a.jpg  \n",
      "  inflating: ./add_smoke_data/train/images/M_06048_png.rf.17af579ec79509ada6a73acaa0598274.jpg  \n",
      "  inflating: ./add_smoke_data/train/images/M_06142_png.rf.cfeb58aacff680d4cf6ec0a2a6c7c3e3.jpg  \n",
      "  inflating: ./add_smoke_data/train/images/M_06283_png.rf.1ba792ff36f46ef3fbda415d00862060.jpg  \n",
      "  inflating: ./add_smoke_data/train/images/M_06283_png.rf.2e05d5bc7dd64a08882fedf08d771825.jpg  \n",
      "  inflating: ./add_smoke_data/train/images/M_06291_png.rf.4b3bb23e9d9588ce9888c32bf8d6ac96.jpg  \n",
      "  inflating: ./add_smoke_data/train/images/M_06291_png.rf.a6366a0bda981b94cd04a249285c39aa.jpg  \n",
      "  inflating: ./add_smoke_data/train/images/M_06291_png.rf.bb861d079ce1da7011b5108eb5250d23.jpg  \n",
      "  inflating: ./add_smoke_data/train/images/M_06386_png.rf.0e5ddaa4adf1c552f0f08a9695010da9.jpg  \n",
      "  inflating: ./add_smoke_data/train/images/M_06386_png.rf.9bedce945f4ac9adf316521b0b935be1.jpg  \n",
      "  inflating: ./add_smoke_data/train/images/M_06386_png.rf.fbfa6ddd5be954e8ef906fe00dcc1344.jpg  \n",
      "  inflating: ./add_smoke_data/train/images/M_07081_png.rf.8e919b60aec2d127077f40e8dfaa50f0.jpg  \n",
      "  inflating: ./add_smoke_data/train/images/M_07081_png.rf.be53892a3604ac6fa127806a4b220f9b.jpg  \n",
      "  inflating: ./add_smoke_data/train/images/M_07081_png.rf.fe08dc23842a8c7ce81112448db3f1bb.jpg  \n",
      "  inflating: ./add_smoke_data/train/images/M_07198_png.rf.3c17981531eaf9dc115f2cd8068e5904.jpg  \n",
      "  inflating: ./add_smoke_data/train/images/M_07198_png.rf.7b9e53635de17c2155ef8af06d275f30.jpg  \n",
      "  inflating: ./add_smoke_data/train/images/M_07239_png.rf.6e6a0e4f0bc000cd0a4d056d45c0ec0c.jpg  \n",
      "  inflating: ./add_smoke_data/train/images/M_07239_png.rf.b737e305bdf317e4627ae732dea52476.jpg  \n",
      "  inflating: ./add_smoke_data/train/images/M_07318_png.rf.5e25d295d3ab95ae271083372282326a.jpg  \n",
      "  inflating: ./add_smoke_data/train/images/M_07318_png.rf.764d2243297ce10c6d0395a4697a5b26.jpg  \n",
      "  inflating: ./add_smoke_data/train/images/M_07318_png.rf.91d819a5bd5fb2ad3fddf3e59382d3d6.jpg  \n",
      "  inflating: ./add_smoke_data/train/images/M_07623_png.rf.3ecee513345877e484139183d6cd1bba.jpg  \n",
      "  inflating: ./add_smoke_data/train/images/M_07623_png.rf.6683b93c1b5a29cb1a56618eeb0d08d5.jpg  \n",
      "  inflating: ./add_smoke_data/train/images/M_07701_png.rf.393eb467ea2c1d0403f9b45070960a93.jpg  \n",
      "  inflating: ./add_smoke_data/train/images/M_07701_png.rf.7b65417dcc753647d2bbdb734362d8c3.jpg  \n",
      "  inflating: ./add_smoke_data/train/images/M_07701_png.rf.c7c82b81acf456225e75c17623269df4.jpg  \n",
      "  inflating: ./add_smoke_data/train/images/M_07871_png.rf.86ad68502fa1da266d8b7dca6b275c2c.jpg  \n",
      "  inflating: ./add_smoke_data/train/images/M_07871_png.rf.a9a603bc8a4359c594a9a072e5c5d9c2.jpg  \n",
      "  inflating: ./add_smoke_data/train/images/M_07934_png.rf.322c28c49281696595b53145763ea3fe.jpg  \n",
      "  inflating: ./add_smoke_data/train/images/M_07934_png.rf.a5ccb14e6918dbe53b122d1a7bb6d255.jpg  \n",
      "  inflating: ./add_smoke_data/train/images/M_07999_png.rf.0d54987cd632d6d06fb0a25f591220d1.jpg  \n",
      "  inflating: ./add_smoke_data/train/images/M_07999_png.rf.dd9b43c220e0dfa74b991dff420209e0.jpg  \n",
      "  inflating: ./add_smoke_data/train/images/M_07999_png.rf.fbf9528ababfe6d727f8dfb7e7a70432.jpg  \n",
      "  inflating: ./add_smoke_data/train/images/M_08142_png.rf.25092210a3067062e71e4d1b3b9399e8.jpg  \n",
      "  inflating: ./add_smoke_data/train/images/M_08142_png.rf.71925e12ced5332bd604c913fe6ac7f6.jpg  \n",
      "  inflating: ./add_smoke_data/train/images/M_08142_png.rf.c86595ca1caa5743eb65d6c9dc43ae98.jpg  \n",
      "  inflating: ./add_smoke_data/train/images/M_08228_png.rf.2015580393107e27fb20aae284311c53.jpg  \n",
      "  inflating: ./add_smoke_data/train/images/M_08263_png.rf.12296fc30991356dc4a4e64f6092e313.jpg  \n",
      "  inflating: ./add_smoke_data/train/images/M_08263_png.rf.cda05b5f76f69040396c7775d117ec78.jpg  \n",
      "  inflating: ./add_smoke_data/train/images/M_08773_png.rf.c8c90f2248c425ef03ae7bf2303f6f91.jpg  \n",
      "  inflating: ./add_smoke_data/train/images/M_08911_png.rf.339ef016524c47d76c8dddd368141855.jpg  \n",
      "  inflating: ./add_smoke_data/train/images/M_08911_png.rf.8d59dcdc494370f2c5929945425e11bd.jpg  \n",
      "  inflating: ./add_smoke_data/train/images/M_09128_png.rf.52dd6df73b3d15b6cda66b59d3b81bf7.jpg  \n",
      "  inflating: ./add_smoke_data/train/images/M_09128_png.rf.849638ae2479af738d5adc243f69f5fa.jpg  \n",
      "  inflating: ./add_smoke_data/train/images/M_09161_png.rf.4ba82f837e8615ecada8109a3dcd93d5.jpg  \n",
      "  inflating: ./add_smoke_data/train/images/M_09161_png.rf.f6461b254961e3f2163ab2f6e5dc960c.jpg  \n",
      "  inflating: ./add_smoke_data/train/images/M_09309_png.rf.b7de5ceb17f47974ffd405f0315d735a.jpg  \n",
      "  inflating: ./add_smoke_data/train/images/M_09309_png.rf.dbce2a537765c53f2619c5cc40713f52.jpg  \n",
      "  inflating: ./add_smoke_data/train/images/M_09309_png.rf.de206bb9fd8e1c88d4234b9057f20eba.jpg  \n",
      "  inflating: ./add_smoke_data/train/images/M_09391_png.rf.3a98b77b99ae88c8a199f8656f8ed817.jpg  \n",
      "  inflating: ./add_smoke_data/train/images/M_09391_png.rf.4f23b8f9b72c496ace36597dcb276b8d.jpg  \n",
      "  inflating: ./add_smoke_data/train/images/M_09391_png.rf.e4502b69bed286b26245baab7c36e0a1.jpg  \n",
      "  inflating: ./add_smoke_data/train/images/M_09393_png.rf.dec8bb9a563460681402a7ed44009ccc.jpg  \n",
      "  inflating: ./add_smoke_data/train/images/M_09571_png.rf.4ed67846c6005fb478ecf7a8b7698efc.jpg  \n",
      "  inflating: ./add_smoke_data/train/images/M_09571_png.rf.7eab7d0a306b4b2f4512ce2527b2b41e.jpg  \n",
      "  inflating: ./add_smoke_data/train/images/M_09577_png.rf.ed884441dcbb51e28151f5e02fce947f.jpg  \n",
      "  inflating: ./add_smoke_data/train/images/M_09577_png.rf.f1a13924d2bc80dde4e3d703bba696a1.jpg  \n",
      "  inflating: ./add_smoke_data/train/images/M_09795_png.rf.7bc9ff0640e16a6c190ae9b39d860ad5.jpg  \n",
      "  inflating: ./add_smoke_data/train/images/M_09795_png.rf.a002068f6927a080484ba29dc29d2578.jpg  \n",
      "  inflating: ./add_smoke_data/train/images/M_09890_png.rf.a586fe4509a633604f4b7556484df1b1.jpg  \n",
      "  inflating: ./add_smoke_data/train/images/M_10439_png.rf.0817f03377e6fd0334ae9f35b8d512d9.jpg  \n",
      "  inflating: ./add_smoke_data/train/images/M_10439_png.rf.74abcdbf9d197d81c4f2df869e7519d6.jpg  \n",
      "  inflating: ./add_smoke_data/train/images/M_11033_png.rf.28ecc6b0aeebad1adad9777479a2e8b5.jpg  \n",
      "  inflating: ./add_smoke_data/train/images/M_11033_png.rf.7e95b1f10178a58b7a5d153d00b06b69.jpg  \n",
      "  inflating: ./add_smoke_data/train/images/M_11033_png.rf.89b4731d8a0a0a77d6cb6c805a87d396.jpg  \n",
      "  inflating: ./add_smoke_data/train/images/M_11544_png.rf.105e1728aa53da4fcc576ed0897a8983.jpg  \n",
      "  inflating: ./add_smoke_data/train/images/M_11544_png.rf.9be121493a82b57f7a472591586ede78.jpg  \n",
      "  inflating: ./add_smoke_data/train/images/M_11947_png.rf.25174d24674e22494ebc76a0f26852e8.jpg  \n",
      "  inflating: ./add_smoke_data/train/images/M_11947_png.rf.57ee0a5412676d37792a6b954bfaaea1.jpg  \n",
      "  inflating: ./add_smoke_data/train/images/M_11947_png.rf.7e269791ae7f12ce10f7db782653e99c.jpg  \n",
      "  inflating: ./add_smoke_data/train/images/M_13002_png.rf.72461b4de0e0179b1b5ef6bbd311e8d6.jpg  \n",
      "  inflating: ./add_smoke_data/train/images/M_13002_png.rf.952716a12f515856fcef4c114b650a94.jpg  \n",
      "  inflating: ./add_smoke_data/train/images/M_13213_png.rf.280b64b325103759f626893f5dc18053.jpg  \n",
      "  inflating: ./add_smoke_data/train/images/M_13213_png.rf.b9462228f1099b1b1716bfea6462c8e1.jpg  \n",
      "  inflating: ./add_smoke_data/train/images/M_13662_png.rf.4c5edf15db405cd27d7d7bcf7aad0312.jpg  \n",
      "  inflating: ./add_smoke_data/train/images/M_13662_png.rf.5c706745e5c9ef90f55d86ba21a5d492.jpg  \n",
      "  inflating: ./add_smoke_data/train/images/M_13662_png.rf.ab713582c0b5b3e18cb2f1229f8d79a9.jpg  \n",
      "  inflating: ./add_smoke_data/train/images/M_14021_png.rf.8fbec0d4e800bd5bd28a0f374ba54ef3.jpg  \n",
      "  inflating: ./add_smoke_data/train/images/M_14021_png.rf.d491335b6614fefa69bd8c031e7eee7f.jpg  \n",
      "  inflating: ./add_smoke_data/train/images/MirrorWEBFire1358_jpg.rf.d97a5ee738d55d89a8029fc6f486c08f.jpg  \n",
      "  inflating: ./add_smoke_data/train/images/MirrorWEBFire1358_jpg.rf.d993fb0865b66d3366c15e7336081251.jpg  \n",
      "  inflating: ./add_smoke_data/train/images/MirrorWEBFire2034_jpg.rf.57790269a1481eb787a45b78ad0573ec.jpg  \n",
      "  inflating: ./add_smoke_data/train/images/MirrorWEBFire2034_jpg.rf.99d2eaa788274df98cd73d806c0f3267.jpg  \n",
      "  inflating: ./add_smoke_data/train/images/MirrorWEBSmoke2281_jpg.rf.0835f60738475a0bbbf93fe8e79e1e12.jpg  \n",
      "  inflating: ./add_smoke_data/train/images/MirrorWEBSmoke2281_jpg.rf.e05cd162e9ce5da08274225765a6da9f.jpg  \n",
      "  inflating: ./add_smoke_data/train/images/MirrorWEBSmoke2378_jpg.rf.5e1fbf7228b8f185bd0c483830b9935b.jpg  \n",
      "  inflating: ./add_smoke_data/train/images/new_fire_40_jpg.rf.3cda4485d94e17e486bb21fac5d8eeab.jpg  \n",
      "  inflating: ./add_smoke_data/train/images/new_fire_40_jpg.rf.b58d34dd6efb142ee57684e21c7842af.jpg  \n",
      "  inflating: ./add_smoke_data/train/images/new_fire_fire-89_png_jpg.rf.b67334970cd197d94fb0c6416d0ed40a.jpg  \n",
      "  inflating: ./add_smoke_data/train/images/new_fire_fire-89_png_jpg.rf.ea006c6ae9c5de49005183940132eddf.jpg  \n",
      "  inflating: ./add_smoke_data/train/images/new_fire_fire-95_png_jpg.rf.74f51ad59bda70028415ef5895535544.jpg  \n",
      "  inflating: ./add_smoke_data/train/images/new_fire_fire-95_png_jpg.rf.78d6b8f3aa91a589ae164a73f182a8c2.jpg  \n",
      "  inflating: ./add_smoke_data/train/images/NoiseWEBFire1091_jpg.rf.5989491a1c13950d78ff22556f8dd538.jpg  \n",
      "  inflating: ./add_smoke_data/train/images/NoiseWEBFire1091_jpg.rf.e6dcc9511636ca920bdb9c9d52fe4939.jpg  \n",
      "  inflating: ./add_smoke_data/train/images/NoiseWEBFire1091_jpg.rf.e8aa7b9cd2ccd523f99764d6e6ea89e2.jpg  \n",
      "  inflating: ./add_smoke_data/train/images/NoiseWEBFire1107_jpg.rf.130b7b9562f9de46e773ed561fbc0fb4.jpg  \n",
      "  inflating: ./add_smoke_data/train/images/NoiseWEBFire1107_jpg.rf.47a7f8d608fd8a2c0b7128c93bfe1aa8.jpg  \n",
      "  inflating: ./add_smoke_data/train/images/NoiseWEBFire1107_jpg.rf.652360e846af380bae6c6ef511e881a1.jpg  \n",
      "  inflating: ./add_smoke_data/train/images/NoiseWEBFire1355_jpg.rf.35905e95ec26ac5ceef3c4ff5cbec01f.jpg  \n",
      "  inflating: ./add_smoke_data/train/images/NoiseWEBFire1355_jpg.rf.8a96e7f031e2e0a31eb8e195217a0f85.jpg  \n",
      "  inflating: ./add_smoke_data/train/images/NoiseWEBFire1355_jpg.rf.b98c16abdf153c59b85786c638d48bde.jpg  \n",
      "  inflating: ./add_smoke_data/train/images/NoiseWEBFP1264_jpg.rf.1f79b43321f54bf6e9062a8ff2892543.jpg  \n",
      "  inflating: ./add_smoke_data/train/images/NoiseWEBFP1264_jpg.rf.950283004c685a550cf28ef3b03942e7.jpg  \n",
      "  inflating: ./add_smoke_data/train/images/NoiseWEBFP1264_jpg.rf.9c0d47fe4c829b69b5d2d22c5100e7e7.jpg  \n",
      "  inflating: ./add_smoke_data/train/images/NoiseWEBFP1265_jpg.rf.6c1012929ddafc2f0fc255b55a724261.jpg  \n",
      "  inflating: ./add_smoke_data/train/images/NoiseWEBFP1265_jpg.rf.f397c7397d1558b733115af8fa33beb6.jpg  \n",
      "  inflating: ./add_smoke_data/train/images/NoiseWEBSmoke038_jpg.rf.30b40541c75b28372cc0ebf5016204c4.jpg  \n",
      "  inflating: ./add_smoke_data/train/images/NoiseWEBSmoke038_jpg.rf.6dd63506929c62bcf610a8903a617922.jpg  \n",
      "  inflating: ./add_smoke_data/train/images/NoiseWEBSmoke038_jpg.rf.cedb92141801116a27e269f33b819bca.jpg  \n",
      "  inflating: ./add_smoke_data/train/images/NoiseWEBSmoke095_jpg.rf.931a8b44be50aab5dcb99946d0b830c4.jpg  \n",
      "  inflating: ./add_smoke_data/train/images/NoiseWEBSmoke095_jpg.rf.eabf5fe1cb4559d66e94659375a62138.jpg  \n",
      "  inflating: ./add_smoke_data/train/images/NoiseWEBSmoke1241_jpg.rf.0053b97ce2bbffbdbaf7ca42d5d0dd3e.jpg  \n",
      "  inflating: ./add_smoke_data/train/images/NoiseWEBSmoke1241_jpg.rf.f8fedf1003aaf14a592ed180b70aecf5.jpg  \n",
      "  inflating: ./add_smoke_data/train/images/NoiseWEBSmoke1795_jpg.rf.0111f387664ac836e8ee83b8a3ad7202.jpg  \n",
      "  inflating: ./add_smoke_data/train/images/NoiseWEBSmoke1795_jpg.rf.8f03b2c453611b122303dc9d6ab60ec1.jpg  \n",
      "  inflating: ./add_smoke_data/train/images/NoiseWEBSmoke1892_jpg.rf.3727fca03cee2a887c35a2d85528e805.jpg  \n",
      "  inflating: ./add_smoke_data/train/images/NoiseWEBSmoke1892_jpg.rf.45c1bff7745ad28038a65297d2a9450a.jpg  \n",
      "  inflating: ./add_smoke_data/train/images/NoiseWEBSmoke2153_jpg.rf.292a27480e70771e185d865d9a8026d0.jpg  \n",
      "  inflating: ./add_smoke_data/train/images/NoiseWEBSmoke2153_jpg.rf.822ac0a6c9755c222df00f49e73b4a23.jpg  \n",
      "  inflating: ./add_smoke_data/train/images/NoiseWEBSmoke2509_jpg.rf.bb9a54f5e2aa04a904088a320446b8bc.jpg  \n",
      "  inflating: ./add_smoke_data/train/images/NoiseWEBSmoke2509_jpg.rf.cb2a6eb3772fada61f8cb65455951de8.jpg  \n",
      "  inflating: ./add_smoke_data/train/images/NoiseWEBSmoke2854_jpg.rf.8b96e249e60e5ce79300a5ca009a5ac6.jpg  \n",
      "  inflating: ./add_smoke_data/train/images/NoiseWEBSmoke2854_jpg.rf.a59fb0aaf94f44ab1eb4ed76b2bddbb0.jpg  \n",
      "  inflating: ./add_smoke_data/train/images/NoiseWEBSmoke2854_jpg.rf.d7ef9105a622568abdeb1a005980ae05.jpg  \n",
      "  inflating: ./add_smoke_data/train/images/NoiseWEBSmoke2924_jpg.rf.173d61a0caca947922cef60aff50484d.jpg  \n",
      "  inflating: ./add_smoke_data/train/images/NoiseWEBSmoke2924_jpg.rf.e8319a1146ab6bd6d3eae5b5d6fd0486.jpg  \n",
      "  inflating: ./add_smoke_data/train/images/NoiseWEBSmoke2952_jpg.rf.79dad8b57fc12bbce9d7e94b68e6d1b9.jpg  \n",
      "  inflating: ./add_smoke_data/train/images/NoiseWEBSmoke2952_jpg.rf.911006030916d6f91daae170a0a41847.jpg  \n",
      "  inflating: ./add_smoke_data/train/images/NoiseWEBSmoke3015_jpg.rf.2b32361cac0715b18ae3c5ad4d45a375.jpg  \n",
      "  inflating: ./add_smoke_data/train/images/NoiseWEBSmoke3015_jpg.rf.6a59c303a240f042e576e0ccd4b5881e.jpg  \n",
      "  inflating: ./add_smoke_data/train/images/NoiseWEBSmoke3015_jpg.rf.b3d5d78e93ea365ee025a9969fedb8f3.jpg  \n",
      "  inflating: ./add_smoke_data/train/images/NoiseWEBSmoke3223_jpg.rf.6f22433a247d814c77fef2eb404840b9.jpg  \n",
      "  inflating: ./add_smoke_data/train/images/NoiseWEBSmoke3223_jpg.rf.89ec828032101107509e306c60b3af96.jpg  \n",
      "  inflating: ./add_smoke_data/train/images/NoiseWEBSmoke3325_jpg.rf.2809c6b8f19b338a4d472025803e2c78.jpg  \n",
      "  inflating: ./add_smoke_data/train/images/NoiseWEBSmoke3325_jpg.rf.3abaebc9b5a3de113787d42cc07cd014.jpg  \n",
      "  inflating: ./add_smoke_data/train/images/NoiseWEBSmoke3325_jpg.rf.84067610b9b7d1f09542e84bbe73f18d.jpg  \n",
      "  inflating: ./add_smoke_data/train/images/NoiseWEBSmoke3351_jpg.rf.49837280de4606b931d6944512b0bcaf.jpg  \n",
      "  inflating: ./add_smoke_data/train/images/NoiseWEBSmoke3351_jpg.rf.734bc0b2875308c031ca04bc128b4ad3.jpg  \n",
      "  inflating: ./add_smoke_data/train/images/NoiseWEBSmoke3351_jpg.rf.d17bb1620cdbdb71d1352990f91beaa3.jpg  \n",
      "  inflating: ./add_smoke_data/train/images/NoiseWEBSmoke343_jpg.rf.a2513775c6fecd533e7a128175bc58f3.jpg  \n",
      "  inflating: ./add_smoke_data/train/images/NoiseWEBSmoke343_jpg.rf.d29ab7724dca04d9108e7a6446b4399d.jpg  \n",
      "  inflating: ./add_smoke_data/train/images/NoiseWEBSmoke356_jpg.rf.385891d81c62b6d2baf178373e57565c.jpg  \n",
      "  inflating: ./add_smoke_data/train/images/NoiseWEBSmoke356_jpg.rf.d06d6451862cfbb99700dc21f6c1b4eb.jpg  \n",
      "  inflating: ./add_smoke_data/train/images/NoiseWEBSmoke378_jpg.rf.03a59730f35dd5f0776e10b59b960011.jpg  \n",
      "  inflating: ./add_smoke_data/train/images/NoiseWEBSmoke378_jpg.rf.1c7cf24ca42f620c1e392bf865e6a49f.jpg  \n",
      "  inflating: ./add_smoke_data/train/images/NoiseWEBSmoke378_jpg.rf.6f818d8cc2a3242dfde3cfc02ac43dac.jpg  \n",
      "  inflating: ./add_smoke_data/train/images/photo-1-_jpg.rf.f58a6916f75ffe70ab07ed9ca69b8505.jpg  \n",
      "  inflating: ./add_smoke_data/train/images/photo-10-_jpg.rf.f033cb624913ce4ca51dba6b59a25d12.jpg  \n",
      "  inflating: ./add_smoke_data/train/images/photo-12-_jpg.rf.3315e76e1157c0043fa2fe9a9c3cfca4.jpg  \n",
      "  inflating: ./add_smoke_data/train/images/photo-13-_jpg.rf.ae88d4c76c288438569a922cb1a48f07.jpg  \n",
      "  inflating: ./add_smoke_data/train/images/photo-15-_jpg.rf.3a09bb81f9483abe3152b848451b903b.jpg  \n",
      "  inflating: ./add_smoke_data/train/images/photo-16-_jpg.rf.9285273c1a7c2d85d75dd691a1fec6e7.jpg  \n",
      "  inflating: ./add_smoke_data/train/images/photo-17-_jpg.rf.15f416b315867504d84b3733ff7681d3.jpg  \n",
      "  inflating: ./add_smoke_data/train/images/photo-18-_jpg.rf.f61336660835fb772befb491082e97ef.jpg  \n",
      "  inflating: ./add_smoke_data/train/images/photo-2-_jpg.rf.b09c51ac9f9f09b62ac28d137d3fba52.jpg  \n",
      "  inflating: ./add_smoke_data/train/images/photo-20-_jpg.rf.e8823fd1b837c7c485b1eb97305079df.jpg  \n",
      "  inflating: ./add_smoke_data/train/images/photo-21-_jpg.rf.dbfc0b477a576fe997906fa3d09b5c55.jpg  \n",
      "  inflating: ./add_smoke_data/train/images/photo-22-_jpg.rf.9848c08a4a65f7e229c132b2b974e061.jpg  \n",
      "  inflating: ./add_smoke_data/train/images/photo-23-_jpg.rf.df20824c8e13c63fadae38375ba9e4a0.jpg  \n",
      "  inflating: ./add_smoke_data/train/images/photo-24-_jpg.rf.0170a4e0bd086467234e40a4f7f76df9.jpg  \n",
      "  inflating: ./add_smoke_data/train/images/photo-25-_jpg.rf.563dd4ffeccc1c2f6de9332cb6ce4f90.jpg  \n",
      "  inflating: ./add_smoke_data/train/images/photo-26-_jpg.rf.75aa721452f4801a40b7f8fdade2fab3.jpg  \n",
      "  inflating: ./add_smoke_data/train/images/photo-28-_jpg.rf.f06a3a5a55489c09289ec2cdbfaa85f3.jpg  \n",
      "  inflating: ./add_smoke_data/train/images/photo-29-_jpg.rf.3de139b4102f49c43edece068e32fd64.jpg  \n",
      "  inflating: ./add_smoke_data/train/images/photo-31-_jpg.rf.6f34625b103d05bfd2a4674b35e7e2dd.jpg  \n",
      "  inflating: ./add_smoke_data/train/images/photo-32-_jpg.rf.fe067a79b4a7d92432f7024d170abc45.jpg  \n",
      "  inflating: ./add_smoke_data/train/images/photo-33-_jpg.rf.59de7fa6fab751377cc34fa5f742735b.jpg  \n",
      "  inflating: ./add_smoke_data/train/images/photo-34-_jpg.rf.ba2bcbbc2386ab204079c9bf717ead0f.jpg  \n",
      "  inflating: ./add_smoke_data/train/images/photo-35-_jpg.rf.a676805a8f60639285d5ff14a123dc77.jpg  \n",
      "  inflating: ./add_smoke_data/train/images/photo-36-_jpg.rf.a3d0195b91625c215e3f3fbbaa7ce467.jpg  \n",
      "  inflating: ./add_smoke_data/train/images/photo-5-_jpg.rf.dc05ed8d333aa401f66c6c1a457d47d6.jpg  \n",
      "  inflating: ./add_smoke_data/train/images/photo-6-_jpg.rf.48349a7c70a56b54b99a7411f6bdf427.jpg  \n",
      "  inflating: ./add_smoke_data/train/images/photo-8-_jpg.rf.06521cc7cd609d646e6b0adb935e0feb.jpg  \n",
      "  inflating: ./add_smoke_data/train/images/S3-N0806MF07551_jpg.rf.7c43d46e866736f2e9aba9eaf13ae388.jpg  \n",
      "  inflating: ./add_smoke_data/train/images/S3-N0806MF07559_jpg.rf.664da35aff03e6c3110fa86fd2f076fe.jpg  \n",
      "  inflating: ./add_smoke_data/train/images/S3-N0806MF07560_jpg.rf.c3fc5a02745beaa4dbaa1f288f6e9145.jpg  \n",
      "  inflating: ./add_smoke_data/train/images/S3-N0806MF07561_jpg.rf.1b437d974f87366bae4092a08edc0c0a.jpg  \n",
      "  inflating: ./add_smoke_data/train/images/S3-N0806MF07567_jpg.rf.0511351b9db7e5f33686e3c8a0fd829f.jpg  \n",
      "  inflating: ./add_smoke_data/train/images/S3-N0806MF07607_jpg.rf.052d7cc2b0129963e8168a621a17ad96.jpg  \n",
      "  inflating: ./add_smoke_data/train/images/S3-N0806MF07608_jpg.rf.f7cb55501fcb10af9354ed52ba1029d9.jpg  \n",
      "  inflating: ./add_smoke_data/train/images/S3-N0806MF07609_jpg.rf.7384ca4ead84012e851c0c32adc5f9da.jpg  \n",
      "  inflating: ./add_smoke_data/train/images/S3-N0806MF07610_jpg.rf.803720903ce598bfc347e04f18219cf1.jpg  \n",
      "  inflating: ./add_smoke_data/train/images/S3-N0806MF07614_jpg.rf.01371ec880c6a6b19fba314f4b64cff1.jpg  \n",
      "  inflating: ./add_smoke_data/train/images/S3-N0806MF07615_jpg.rf.84c830e882b22e0a24b2b2aceea3f0f9.jpg  \n",
      "  inflating: ./add_smoke_data/train/images/S3-N0806MF07617_jpg.rf.df52698133fb7661da46b7577b989f04.jpg  \n",
      "  inflating: ./add_smoke_data/train/images/S3-N0806MF07618_jpg.rf.311bddd2d5ad603d64fdef5f891d361f.jpg  \n",
      "  inflating: ./add_smoke_data/train/images/S3-N0806MF07652_jpg.rf.862bd91ec68ac9deccade8e0b20c3c85.jpg  \n",
      "  inflating: ./add_smoke_data/train/images/S3-N0806MF07653_jpg.rf.9f56a34ec17d1aa0b9593b505f9d17e0.jpg  \n",
      "  inflating: ./add_smoke_data/train/images/S3-N0806MF07654_jpg.rf.8474e812825fa290a38fe520c78230bb.jpg  \n",
      "  inflating: ./add_smoke_data/train/images/S3-N0806MF07660_jpg.rf.73edb448a93bc5e8a017eaae590ecf06.jpg  \n",
      "  inflating: ./add_smoke_data/train/images/S3-N0806MF07661_jpg.rf.2af11de45ed3220df5bb9f7f63dc761c.jpg  \n",
      "  inflating: ./add_smoke_data/train/images/S3-N1448MF01836_jpg.rf.326b2bd30ae7c224acf05413c726b63e.jpg  \n",
      "  inflating: ./add_smoke_data/train/images/S3-N1448MF01837_jpg.rf.6038ef4b01566c0268e7d67c42e486f1.jpg  \n",
      "  inflating: ./add_smoke_data/train/images/S3-N1448MF01861_jpg.rf.c1d34bc8d7d246f43e8bed0a4ec59105.jpg  \n",
      "  inflating: ./add_smoke_data/train/images/S3-N1448MF01862_jpg.rf.0456827e52416b310f66c23cba5e5809.jpg  \n",
      "  inflating: ./add_smoke_data/train/images/S3-N1448MF02044_jpg.rf.a85715248367027c871c6dd462f6885c.jpg  \n",
      "  inflating: ./add_smoke_data/train/images/S3-N1448MF02055_jpg.rf.0488bb1b3d1e6152ebdcee29381237db.jpg  \n",
      "  inflating: ./add_smoke_data/train/images/S3-N1448MF02056_jpg.rf.5501eaf4c9c2413012beecc58fa635b7.jpg  \n",
      "  inflating: ./add_smoke_data/train/images/S3-N1448MF02057_jpg.rf.3fffbedc27f2afdca5206bd0c9ebb4a7.jpg  \n",
      "  inflating: ./add_smoke_data/train/images/S3-N1448MF02067_jpg.rf.7909b36ef63cf08c332a982fa97e534c.jpg  \n",
      "  inflating: ./add_smoke_data/train/images/S3-N1448MF02068_jpg.rf.1c312f6b387514f12927228bcf4b9775.jpg  \n",
      "  inflating: ./add_smoke_data/train/images/S3-N1448MF02069_jpg.rf.fc17808a99ca81915f8fe6659e7d8867.jpg  \n",
      "  inflating: ./add_smoke_data/train/images/S3-N1451MF01549_jpg.rf.b185ed1925f797b333172f54c0deb020.jpg  \n",
      "  inflating: ./add_smoke_data/train/images/S3-N1451MF01550_jpg.rf.88b3db564fa70804e652b409fbedf984.jpg  \n",
      "  inflating: ./add_smoke_data/train/images/S3-N1451MF01574_jpg.rf.75c3575134ce03e142c74b616f01f0fa.jpg  \n",
      "  inflating: ./add_smoke_data/train/images/S3-N1451MF01921_jpg.rf.6bb92d73f3b1160b353213509ee87e60.jpg  \n",
      "  inflating: ./add_smoke_data/train/images/S3-N1451MF01922_jpg.rf.a30baa5f7a33941df69b43285d813f6e.jpg  \n",
      "  inflating: ./add_smoke_data/train/images/S3-N1451MF01923_jpg.rf.e1bf2f5821c7e0c13b7201216258a58a.jpg  \n",
      "  inflating: ./add_smoke_data/train/images/S3-N1451MF01933_jpg.rf.0d8967faa4a7af641aaac6c819115c03.jpg  \n",
      "  inflating: ./add_smoke_data/train/images/S3-N1451MF01935_jpg.rf.00be55b8ef2d3f3055cf0f1388e925a7.jpg  \n",
      "  inflating: ./add_smoke_data/train/images/S3-N1451MF01946_jpg.rf.4708acd77da3f16a13d35b5f0bc2c207.jpg  \n",
      "  inflating: ./add_smoke_data/train/images/S3-N1451MF01947_jpg.rf.7676fd9a30d640ebec2bc897028f5c3d.jpg  \n",
      "  inflating: ./add_smoke_data/train/images/S3-N1452MF01596_jpg.rf.70deb078a5db6b85672f03308ca0c06e.jpg  \n",
      "  inflating: ./add_smoke_data/train/images/S3-N1452MF01597_jpg.rf.3ade82573c2d178a916710760b9e3f39.jpg  \n",
      "  inflating: ./add_smoke_data/train/images/S3-N1452MF01598_jpg.rf.23d4b0530fb0ba761164ca2476aeb471.jpg  \n",
      "  inflating: ./add_smoke_data/train/images/S3-N1452MF01608_jpg.rf.3d73b82180564baf78177c13bd29a9c4.jpg  \n",
      "  inflating: ./add_smoke_data/train/images/S3-N1452MF01609_jpg.rf.38db539bc3d89d12e6e53e194d271aee.jpg  \n",
      "  inflating: ./add_smoke_data/train/images/S3-N1452MF01610_jpg.rf.23bc817703d6b30d6dc307c2aa6bbcc3.jpg  \n",
      "  inflating: ./add_smoke_data/train/images/S3-N1452MF01620_jpg.rf.097c7d5ed2182374eebec22e45558f63.jpg  \n",
      "  inflating: ./add_smoke_data/train/images/S3-N1452MF01621_jpg.rf.6a3b0e2db301ef47813d45166a7dc623.jpg  \n",
      "  inflating: ./add_smoke_data/train/images/S3-N1452MF01622_jpg.rf.9765570bb43a41c0e19656e6667e435f.jpg  \n",
      "  inflating: ./add_smoke_data/train/images/S3-N1452MF01826_jpg.rf.2ed61450bd12bb2a6d233d654cb0de7f.jpg  \n",
      "  inflating: ./add_smoke_data/train/images/S3-N1452MF01827_jpg.rf.daafd7acd978de4f76addca7ccf7cf8b.jpg  \n",
      "  inflating: ./add_smoke_data/train/images/S3-N1452MF01839_jpg.rf.d52164ce79879931a37ddcca5afd6a5e.jpg  \n",
      "  inflating: ./add_smoke_data/train/images/S3-N1452MF01850_jpg.rf.0704645f39b67ac98635edd8b0d40b67.jpg  \n",
      "  inflating: ./add_smoke_data/train/images/S3-N1452MF01851_jpg.rf.d93f63b901b24ff31e5874b827ca3b7c.jpg  \n",
      "  inflating: ./add_smoke_data/train/images/S3-N1452MF01852_jpg.rf.d40ceffc81a51ae34995f64b427786cc.jpg  \n",
      "  inflating: ./add_smoke_data/train/images/S3-N1453MF00891_jpg.rf.102d4415a73d797a8381d0de0890f026.jpg  \n",
      "  inflating: ./add_smoke_data/train/images/S3-N1453MF01091_jpg.rf.1bcfd3538e5fd9bfb0c434931414e2eb.jpg  \n",
      "  inflating: ./add_smoke_data/train/images/S3-N1453MF01092_jpg.rf.4eef35334d70b60535ee8e886a80befa.jpg  \n",
      "  inflating: ./add_smoke_data/train/images/S3-N1453MF01093_jpg.rf.c3da8e37aae41b630005692230d0f622.jpg  \n",
      "  inflating: ./add_smoke_data/train/images/S3-N1453MF01153_jpg.rf.d4316e44710d726ed48fc7399b3c5384.jpg  \n",
      "  inflating: ./add_smoke_data/train/images/S3-N1453MF01155_jpg.rf.ce7c8a7bec3f1fd18449fb418d087e3f.jpg  \n",
      "  inflating: ./add_smoke_data/train/images/S3-N1453MF01165_jpg.rf.e9b6fc4b34017379b1f9bcc59535b7b4.jpg  \n",
      "  inflating: ./add_smoke_data/train/images/S3-N1453MF01167_jpg.rf.4a134e7c42514cdd1c0ade1eded2e0a8.jpg  \n",
      "  inflating: ./add_smoke_data/train/images/S3-N1453MF01335_jpg.rf.f1cbbb208b94963c21694d900e127c6c.jpg  \n",
      "  inflating: ./add_smoke_data/train/images/S3-N1453MF01336_jpg.rf.7719aed138af179c16cf62f263d08063.jpg  \n",
      "  inflating: ./add_smoke_data/train/images/S3-N1453MF01337_jpg.rf.d3c3aa5f779dc699c33880c6a083c44a.jpg  \n",
      "  inflating: ./add_smoke_data/train/images/S3-N1453MF01338_jpg.rf.5d1c93f5984f9a6772d1dd49c6e48e89.jpg  \n",
      "  inflating: ./add_smoke_data/train/images/S3-N1453MF01347_jpg.rf.5b8439b25a9d1987680be86e6cba06a9.jpg  \n",
      "  inflating: ./add_smoke_data/train/images/S3-N1453MF01348_jpg.rf.e15f821e3d2a5a2081479b45832eacbf.jpg  \n",
      "  inflating: ./add_smoke_data/train/images/S3-N1453MF01349_jpg.rf.f89c70cfe7b3eec602dc039d8a0692ba.jpg  \n",
      "  inflating: ./add_smoke_data/train/images/S3-N1453MF01350_jpg.rf.85a23822903995a5bb30f0e601bebebe.jpg  \n",
      "  inflating: ./add_smoke_data/train/images/S3-N1453MF01360_jpg.rf.5a825fd1388720158cced860533f1607.jpg  \n",
      "  inflating: ./add_smoke_data/train/images/S3-N1453MF01361_jpg.rf.40b7afb42dc618bdfa8cb1b9f7dd32f0.jpg  \n",
      "  inflating: ./add_smoke_data/train/images/S3-N1453MF01362_jpg.rf.1a1dc0771f1aefc72e0b18f5bd4e91d4.jpg  \n",
      "  inflating: ./add_smoke_data/train/images/S3-N1454MF01114_jpg.rf.bef2f78724c63e2ab3f361025f5a64d8.jpg  \n",
      "  inflating: ./add_smoke_data/train/images/S3-N1454MF01358_jpg.rf.4f8d0fa5addf3655e2e4b70261e621c3.jpg  \n",
      "  inflating: ./add_smoke_data/train/images/S3-N1454MF01359_jpg.rf.1d6f2b0aa0c91d6cea5d4a733113e300.jpg  \n",
      "  inflating: ./add_smoke_data/train/images/S3-N1454MF01370_jpg.rf.38192439908d52306d4a4b9deaf6cf7c.jpg  \n",
      "  inflating: ./add_smoke_data/train/images/S3-N1454MF01371_jpg.rf.03e7f698e4e47561e63ac2ad52d43989.jpg  \n",
      "  inflating: ./add_smoke_data/train/images/S3-N1455MF01630_jpg.rf.4c1f19e1e20c53372e70e6eccaca0b16.jpg  \n",
      "  inflating: ./add_smoke_data/train/images/S3-N1455MF01631_jpg.rf.2c6a6f43e02dcefac340dfae1cd516fc.jpg  \n",
      "  inflating: ./add_smoke_data/train/images/S3-N1455MF01641_jpg.rf.a6eaf8a50696d11bdad7e2a810d581db.jpg  \n",
      "  inflating: ./add_smoke_data/train/images/S3-N1455MF01643_jpg.rf.5406397d1d165a403b0672179a399f41.jpg  \n",
      "  inflating: ./add_smoke_data/train/images/S3-N1455MF01653_jpg.rf.7643efa8047a9731457523f937abd358.jpg  \n",
      "  inflating: ./add_smoke_data/train/images/S3-N1455MF01655_jpg.rf.fc0ad051db91e4821cfa423238fa76bd.jpg  \n",
      "  inflating: ./add_smoke_data/train/images/S3-N1455MF01923_jpg.rf.ed2f45518c4a2fd0fb6881364900c111.jpg  \n",
      "  inflating: ./add_smoke_data/train/images/S3-N1455MF01924_jpg.rf.a94f38dd4bddcda13064670b37797d5e.jpg  \n",
      "  inflating: ./add_smoke_data/train/images/S3-N1455MF01933_jpg.rf.cc64363407f191ba20bc8cb51ef40e92.jpg  \n",
      "  inflating: ./add_smoke_data/train/images/S3-N1455MF01934_jpg.rf.39cae268d714d74bf12a3e81518b7c21.jpg  \n",
      "  inflating: ./add_smoke_data/train/images/S3-N1455MF01936_jpg.rf.3829bf02a4f8a019b21fa28cb57f8019.jpg  \n",
      "  inflating: ./add_smoke_data/train/images/S3-N1455MF01945_jpg.rf.7ee4723ede36b09936ea9dfaf203e8c4.jpg  \n",
      "  inflating: ./add_smoke_data/train/images/S3-N1455MF01946_jpg.rf.74a178ce16b601345b4db57ff1c0772a.jpg  \n",
      "  inflating: ./add_smoke_data/train/images/S3-N1455MF01948_jpg.rf.833886dc574b33c3f3aab0a8bd6d9486.jpg  \n",
      "  inflating: ./add_smoke_data/train/images/S3-N1456MF00746_jpg.rf.478866b23e080a3b00fa097a3f1a082d.jpg  \n",
      "  inflating: ./add_smoke_data/train/images/S3-N1456MF00756_jpg.rf.f132567eb155d9bad1e67129e2eced63.jpg  \n",
      "  inflating: ./add_smoke_data/train/images/S3-N1456MF00758_jpg.rf.4761f1dce044088db98c463069654ac1.jpg  \n",
      "  inflating: ./add_smoke_data/train/images/S3-N1456MF01018_jpg.rf.3a93fb9ad2d4563f588cee2a1fd70c49.jpg  \n",
      "  inflating: ./add_smoke_data/train/images/S3-N1456MF01019_jpg.rf.7737041c38df57a827e855eec6458b3d.jpg  \n",
      "  inflating: ./add_smoke_data/train/images/S3-N1456MF01020_jpg.rf.3bcfbfaa6c5667016df186ed5bddf65e.jpg  \n",
      "  inflating: ./add_smoke_data/train/images/S3-N1456MF01021_jpg.rf.ad4db52701c2d8502d2952c1d623bff8.jpg  \n",
      "  inflating: ./add_smoke_data/train/images/S3-N1456MF01022_jpg.rf.1933f449c18ffb40f7895208f054eb57.jpg  \n",
      "  inflating: ./add_smoke_data/train/images/S3-N1456MF01309_jpg.rf.833044bd28a49c355580959dc834068c.jpg  \n",
      "  inflating: ./add_smoke_data/train/images/S3-N1456MF01310_jpg.rf.462eec42d955dc7f8221e5a746e0bc53.jpg  \n",
      "  inflating: ./add_smoke_data/train/images/S3-N1456MF01311_jpg.rf.b8526a49688c68f35ead88637d0efc6e.jpg  \n",
      "  inflating: ./add_smoke_data/train/images/S3-N1457MF01424_jpg.rf.1f5341f49e4f4d5cb34d7fb17f07cd26.jpg  \n",
      "  inflating: ./add_smoke_data/train/images/S3-N1457MF01635_jpg.rf.fecbcf132e1e5567ad7c529e8ad19993.jpg  \n",
      "  inflating: ./add_smoke_data/train/images/S3-N1457MF01636_jpg.rf.72e6dbdc53b68467b3680ad51e2db175.jpg  \n",
      "  inflating: ./add_smoke_data/train/images/S3-N1457MF01649_jpg.rf.a4f99c7eb3c472db8646157fbd6be561.jpg  \n",
      "  inflating: ./add_smoke_data/train/images/S3-N1457MF01650_jpg.rf.b01460c35c6b269f2701e9121955eb04.jpg  \n",
      "  inflating: ./add_smoke_data/train/images/S3-N1457MF01651_jpg.rf.a34ba978b6260e2a9f9dbbba58b21c2d.jpg  \n",
      "  inflating: ./add_smoke_data/train/images/S3-N1457MF01844_jpg.rf.59248329bdaeeb3bb8edac8d551f49a3.jpg  \n",
      "  inflating: ./add_smoke_data/train/images/S3-N1457MF01845_jpg.rf.ab6b295dab589c781f78a3a5bae2f755.jpg  \n",
      "  inflating: ./add_smoke_data/train/images/WEBFire054_jpg.rf.58f5bf4e10c6be67d03057b97fd1da72.jpg  \n",
      "  inflating: ./add_smoke_data/train/images/WEBFire054_jpg.rf.d13e7979642dce3bcf97fc02db1e5373.jpg  \n",
      "  inflating: ./add_smoke_data/train/images/WEBFire054_jpg.rf.d77ddc5892135715252c050e4276bea9.jpg  \n",
      "  inflating: ./add_smoke_data/train/images/WEBFire1091_jpg.rf.62d99772c0fc56e39a440e82eddcaa45.jpg  \n",
      "  inflating: ./add_smoke_data/train/images/WEBFire1091_jpg.rf.653ff60b9bc665f8057cf63d259353d1.jpg  \n",
      "  inflating: ./add_smoke_data/train/images/WEBFire1354_jpg.rf.b53c45b6930d3136a964dac760c69038.jpg  \n",
      "  inflating: ./add_smoke_data/train/images/WEBFire1354_jpg.rf.ebc2065d98ccb68faed2773c5ffa14cc.jpg  \n",
      "  inflating: ./add_smoke_data/train/images/WEBFire1356_jpg.rf.706fcd52f1aab4d5b24dc6cd04b2d456.jpg  \n",
      "  inflating: ./add_smoke_data/train/images/WEBFire1356_jpg.rf.b7bd1a162914078ffce896f14e4a1b51.jpg  \n",
      "  inflating: ./add_smoke_data/train/images/WEBFire1394_jpg.rf.d69670400f4cbd5b53ca889afcca5304.jpg  \n",
      "  inflating: ./add_smoke_data/train/images/WEBFire1394_jpg.rf.df973b0135567c194d1951b74abee8da.jpg  \n",
      "  inflating: ./add_smoke_data/train/images/WEBFire1430_jpg.rf.7f9083a9affc2aa4e764742e3b36315c.jpg  \n",
      "  inflating: ./add_smoke_data/train/images/WEBFire1430_jpg.rf.a0e312b293bb654e08e1dfc8e075ee86.jpg  \n",
      "  inflating: ./add_smoke_data/train/images/WEBFire1430_jpg.rf.e7b498e654594d2b9cdf3013885f2344.jpg  \n",
      "  inflating: ./add_smoke_data/train/images/WEBFire250_jpg.rf.8a6ec910e490630385c7e4eb1f2e8ec0.jpg  \n",
      "  inflating: ./add_smoke_data/train/images/WEBFire250_jpg.rf.ab9156c25685cd29e81d06c02ec60550.jpg  \n",
      "  inflating: ./add_smoke_data/train/images/WEBFire253_jpg.rf.f3ec919b5ff41f0134d7de1d58a4935e.jpg  \n",
      "  inflating: ./add_smoke_data/train/images/WEBFire611_jpg.rf.7f29373584085b8f137aaed2e7df39c3.jpg  \n",
      "  inflating: ./add_smoke_data/train/images/WEBFire611_jpg.rf.9848095a19a567047f8ddc9e8e3456f2.jpg  \n",
      "  inflating: ./add_smoke_data/train/images/WEBFire611_jpg.rf.c1bc9f059906334cf309a25db6eec240.jpg  \n",
      "  inflating: ./add_smoke_data/train/images/WEBFire785_jpg.rf.399b46cd6e0673ea381fd12b9ed3de0d.jpg  \n",
      "  inflating: ./add_smoke_data/train/images/WEBFire785_jpg.rf.d547acc5978c4ec16affeb2f7786bf97.jpg  \n",
      "  inflating: ./add_smoke_data/train/images/WEBSmoke003_jpg.rf.1ae6e52af8ae3623581f87938d5fc0a1.jpg  \n",
      "  inflating: ./add_smoke_data/train/images/WEBSmoke003_jpg.rf.748e36ea5bdbbe14c639deaffa0e456a.jpg  \n",
      "  inflating: ./add_smoke_data/train/images/WEBSmoke099_jpg.rf.01823b55c9508c04012d7ee209d70601.jpg  \n",
      "  inflating: ./add_smoke_data/train/images/WEBSmoke099_jpg.rf.17c07f53d9794a87442b0044e1432f5d.jpg  \n",
      "  inflating: ./add_smoke_data/train/images/WEBSmoke099_jpg.rf.e027174ea7beea72aa01cfdc3adef1c4.jpg  \n",
      "  inflating: ./add_smoke_data/train/images/WEBSmoke1209_jpg.rf.45df488b1d043b8acc3e48633f1bd0c7.jpg  \n",
      "  inflating: ./add_smoke_data/train/images/WEBSmoke1209_jpg.rf.8b4d1c8b9b6c162e6930d6ede7e7d7a1.jpg  \n",
      "  inflating: ./add_smoke_data/train/images/WEBSmoke1735_jpg.rf.93b877aa3c92c81bf63cfd9e111faf5d.jpg  \n",
      "  inflating: ./add_smoke_data/train/images/WEBSmoke1735_jpg.rf.fbb1b6c1ee89da190705b2e2624a0de4.jpg  \n",
      "  inflating: ./add_smoke_data/train/images/WEBSmoke2289_jpg.rf.29db3c5c452b8c7d04948c84d75f4a37.jpg  \n",
      "  inflating: ./add_smoke_data/train/images/WEBSmoke2289_jpg.rf.71df38f859c79e4877a9d5c1c27416e8.jpg  \n",
      "  inflating: ./add_smoke_data/train/images/WEBSmoke2311_jpg.rf.24d53c903e044f1d41db2866996e4b17.jpg  \n",
      "  inflating: ./add_smoke_data/train/images/WEBSmoke2311_jpg.rf.8aa7613bdc9b34cd3f6d8b3c117a3553.jpg  \n",
      "  inflating: ./add_smoke_data/train/images/WEBSmoke2332_jpg.rf.181d1a743be265c45a29c23c986f1c64.jpg  \n",
      "  inflating: ./add_smoke_data/train/images/WEBSmoke2332_jpg.rf.c15d9b2f209b7cb29345fbcff9aa316b.jpg  \n",
      "  inflating: ./add_smoke_data/train/images/WEBSmoke2332_jpg.rf.e8a42c2ac480d6c396271f05aebabca2.jpg  \n",
      "  inflating: ./add_smoke_data/train/images/WEBSmoke2334_jpg.rf.91fc5dfcf48f2643036b7e40b642be6a.jpg  \n",
      "  inflating: ./add_smoke_data/train/images/WEBSmoke2334_jpg.rf.c1fed072883e372fa130ae7c42d304dc.jpg  \n",
      "  inflating: ./add_smoke_data/train/images/WEBSmoke2334_jpg.rf.ea3d985cfeb3806f250c8e325ec5f569.jpg  \n",
      "  inflating: ./add_smoke_data/train/images/WEBSmoke2411_jpg.rf.34fe4e78d1048dee8a0ba3096d732aae.jpg  \n",
      "  inflating: ./add_smoke_data/train/images/WEBSmoke2411_jpg.rf.a42be343b698812ab855476de8287a49.jpg  \n",
      "   creating: ./add_smoke_data/train/labels/\n",
      "  inflating: ./add_smoke_data/train/labels/102_jpg.rf.286ab5bd02c581152300afb73731b15c.txt  \n",
      "  inflating: ./add_smoke_data/train/labels/102_jpg.rf.3f9d7dba6d9aac7b6799d7f6bd35b107.txt  \n",
      "  inflating: ./add_smoke_data/train/labels/102_jpg.rf.6d5f4c6aeb026aa71018769fd075f839.txt  \n",
      "  inflating: ./add_smoke_data/train/labels/423_jpg.rf.471e2c18584d5f465e03eab46430e468.txt  \n",
      "  inflating: ./add_smoke_data/train/labels/423_jpg.rf.f9b0c4db58fb5031964d7caa52b69ea6.txt  \n",
      "  inflating: ./add_smoke_data/train/labels/423_jpg.rf.fff1fe45392cf0dab69d704be63d6287.txt  \n",
      "  inflating: ./add_smoke_data/train/labels/47_jpg.rf.1a92b364a33238d5339edf8bbeb9b6c6.txt  \n",
      "  inflating: ./add_smoke_data/train/labels/47_jpg.rf.f66fb9fbe6def39ba5e2b4d34f4e23f4.txt  \n",
      "  inflating: ./add_smoke_data/train/labels/fire_test_img_103_jpg.rf.9f0dc460204ec26f4605f5989b40cc60.txt  \n",
      "  inflating: ./add_smoke_data/train/labels/fire_test_img_104_jpg.rf.4d7de557e724294ecd6b1e354efbae6f.txt  \n",
      "  inflating: ./add_smoke_data/train/labels/fire_test_img_105_jpg.rf.c21498fee83e6d063330bb8c9a1e0c10.txt  \n",
      "  inflating: ./add_smoke_data/train/labels/fire_test_img_106_jpg.rf.8770478eff93274cf6015192c26c535a.txt  \n",
      "  inflating: ./add_smoke_data/train/labels/fire_test_img_107_jpg.rf.3892fa66fe9f41ad5e4f1e0c69e717df.txt  \n",
      "  inflating: ./add_smoke_data/train/labels/fire_test_img_108_jpg.rf.35e4e38d460e479be53af0db6de94fd4.txt  \n",
      "  inflating: ./add_smoke_data/train/labels/fire_test_img_109_jpg.rf.47e1f7c04989ae0de8ef61c73bc432f1.txt  \n",
      "  inflating: ./add_smoke_data/train/labels/fire_test_img_116_jpg.rf.6c05d4db2426e1ad8bbbafa44d1dd483.txt  \n",
      "  inflating: ./add_smoke_data/train/labels/fire_test_img_117_jpg.rf.747b302872f04cf2e25c434d7c80d269.txt  \n",
      "  inflating: ./add_smoke_data/train/labels/fire_test_img_118_jpg.rf.b24dc844a1efc3a04fb763175a0cbca2.txt  \n",
      "  inflating: ./add_smoke_data/train/labels/fire_test_img_120_jpg.rf.1b007edee99bbc9499ba8ee464fd8749.txt  \n",
      "  inflating: ./add_smoke_data/train/labels/fire_test_img_121_jpg.rf.161d449f9ab60a6333150b366bd52ae9.txt  \n",
      "  inflating: ./add_smoke_data/train/labels/fire_test_img_122_jpg.rf.73e437099032b66628a6639207816521.txt  \n",
      "  inflating: ./add_smoke_data/train/labels/fire_test_img_123_jpg.rf.a5f103f58b766698fa47ff248cac9cc7.txt  \n",
      "  inflating: ./add_smoke_data/train/labels/fire_test_img_124_jpg.rf.c351f9f3efe7206c59e3e8ceb44797ef.txt  \n",
      "  inflating: ./add_smoke_data/train/labels/fire_test_img_127_jpg.rf.bf1580aae8baeb37e52a454ed9dd593e.txt  \n",
      "  inflating: ./add_smoke_data/train/labels/fire_test_img_128_jpg.rf.0bc19b29d0e7a4df7582aafd7d4581d0.txt  \n",
      "  inflating: ./add_smoke_data/train/labels/fire_test_img_129_jpg.rf.baf0bdef4564aec73b8b291808854273.txt  \n",
      "  inflating: ./add_smoke_data/train/labels/fire_test_img_130_jpg.rf.4d8df12535c77f808d387996b0e7e132.txt  \n",
      "  inflating: ./add_smoke_data/train/labels/fire_test_img_131_jpg.rf.57d18ec0d84a9be63f593336a34df154.txt  \n",
      "  inflating: ./add_smoke_data/train/labels/fire_test_img_134_jpg.rf.6471da7e9478ebe19b3407ad70dce95d.txt  \n",
      "  inflating: ./add_smoke_data/train/labels/fire_test_img_136_jpg.rf.89fad4244748076af619636e89dc5d54.txt  \n",
      "  inflating: ./add_smoke_data/train/labels/fire_test_img_139_jpg.rf.46365bf27f4d3dcd704ee8e9c8915984.txt  \n",
      "  inflating: ./add_smoke_data/train/labels/fire_test_img_140_jpg.rf.8d8b38101f933e52ac0c902d6cfb48d2.txt  \n",
      "  inflating: ./add_smoke_data/train/labels/fire_test_img_141_jpg.rf.de7f9d2bdfa6ede4b7a37bc25a8277db.txt  \n",
      "  inflating: ./add_smoke_data/train/labels/fire_test_img_143_jpg.rf.68c3e4b7bc7f294c1305e2c497e9070a.txt  \n",
      "  inflating: ./add_smoke_data/train/labels/fire_test_img_144_jpg.rf.1f34d39cc87f00568cf96e8290d81354.txt  \n",
      "  inflating: ./add_smoke_data/train/labels/fire_test_img_146_jpg.rf.a0073f89964eeb1ba83b23e26b1c39f5.txt  \n",
      "  inflating: ./add_smoke_data/train/labels/fire_test_img_212_jpg.rf.21dfac920b468b84649dcc006788f1ec.txt  \n",
      "  inflating: ./add_smoke_data/train/labels/fire_test_img_213_jpg.rf.193228d53a85f361fc5e2443de55d326.txt  \n",
      "  inflating: ./add_smoke_data/train/labels/fire_test_img_214_jpg.rf.c299f4df435f88647f669ccf553ad9d7.txt  \n",
      "  inflating: ./add_smoke_data/train/labels/fire_test_img_215_jpg.rf.ccc078589613fb9966e72a5dc62f1393.txt  \n",
      "  inflating: ./add_smoke_data/train/labels/fire_test_img_216_jpg.rf.c19428a21cb4a4a684db8c59d94b3ea6.txt  \n",
      "  inflating: ./add_smoke_data/train/labels/fire_test_img_224_jpg.rf.3f49be6f1bba5aca86cbdf8cd8b9f4ed.txt  \n",
      "  inflating: ./add_smoke_data/train/labels/fire_test_img_225_jpg.rf.a50ac4c2f1903de5536dccda81eac514.txt  \n",
      "  inflating: ./add_smoke_data/train/labels/fire_test_img_240_jpg.rf.7f2f605e1c2517c67be6c37f1700602a.txt  \n",
      "  inflating: ./add_smoke_data/train/labels/fire_test_img_241_jpg.rf.99df9f824405fc0b06fec7d5a025d44a.txt  \n",
      "  inflating: ./add_smoke_data/train/labels/fire_test_img_243_jpg.rf.df4e57b2da5d5ca01ac444b24c52f09a.txt  \n",
      "  inflating: ./add_smoke_data/train/labels/fire_test_img_244_jpg.rf.ffdb504764d547589b4879ac46289fac.txt  \n",
      "  inflating: ./add_smoke_data/train/labels/fire_test_img_258_jpg.rf.29bf32912d9dca911bdf355aa9ab8a7a.txt  \n",
      "  inflating: ./add_smoke_data/train/labels/fire_test_img_260_jpg.rf.a51bbd9e35f30658f5fd6b17fea578c4.txt  \n",
      "  inflating: ./add_smoke_data/train/labels/fire_test_img_263_jpg.rf.41a06565c68cde1fb63faaa08c526c8d.txt  \n",
      "  inflating: ./add_smoke_data/train/labels/fire_train_img_102_jpg.rf.695d59b26e4e45af1b7b1a837cff180e.txt  \n",
      "  inflating: ./add_smoke_data/train/labels/fire_train_img_103_jpg.rf.2c474db57eec53f54afc974b7fe1f2cc.txt  \n",
      "  inflating: ./add_smoke_data/train/labels/fire_train_img_104_jpg.rf.fc94ca544ed621ee23066b039ddbd9b8.txt  \n",
      "  inflating: ./add_smoke_data/train/labels/fire_train_img_105_jpg.rf.c73a831c6be5428a9a7eb6d2ec243cb6.txt  \n",
      "  inflating: ./add_smoke_data/train/labels/fire_train_img_106_jpg.rf.31045d66005037ebb8a20ba318f4db97.txt  \n",
      "  inflating: ./add_smoke_data/train/labels/fire_train_img_342_jpg.rf.bddb5fd1c6bc8c9111f8ed0210fcb5e7.txt  \n",
      "  inflating: ./add_smoke_data/train/labels/fire_train_img_343_jpg.rf.575aab9a6bd58ad160a9bd4ecde371e1.txt  \n",
      "  inflating: ./add_smoke_data/train/labels/fire_train_img_344_jpg.rf.9604b0a935f3bed4530d4b8c405dd0fb.txt  \n",
      "  inflating: ./add_smoke_data/train/labels/fire_train_img_348_jpg.rf.96350be7cdac39c6da2eea56fa86bb83.txt  \n",
      "  inflating: ./add_smoke_data/train/labels/fire_train_img_349_jpg.rf.57aa8f4cd787f31af80aca41fc4a4f6f.txt  \n",
      "  inflating: ./add_smoke_data/train/labels/fire_train_img_350_jpg.rf.d2d1c061c095a57fb83aeb56a1e3a4da.txt  \n",
      "  inflating: ./add_smoke_data/train/labels/fire_train_img_351_jpg.rf.bc864af309a1517e0d80c4766a4a5003.txt  \n",
      "  inflating: ./add_smoke_data/train/labels/fire_train_img_352_jpg.rf.74548bbd775e959fe0c0fafccd6e0a18.txt  \n",
      "  inflating: ./add_smoke_data/train/labels/fire_train_img_354_jpg.rf.267d7c30727d0ba66dca9aadac20c7e8.txt  \n",
      "  inflating: ./add_smoke_data/train/labels/fire_train_img_356_jpg.rf.fbcf2932134d6ce9a31fa2b91141d8d1.txt  \n",
      "  inflating: ./add_smoke_data/train/labels/fire_train_img_359_jpg.rf.f2efc134f364a8cc0830e28e938ead0c.txt  \n",
      "  inflating: ./add_smoke_data/train/labels/fire_train_img_360_jpg.rf.15ab2cdcce09aef5f74fe965fa4b23eb.txt  \n",
      "  inflating: ./add_smoke_data/train/labels/fire_train_img_361_jpg.rf.602dc09218f5bfcda3f07c76bf57a17c.txt  \n",
      "  inflating: ./add_smoke_data/train/labels/fire_train_img_362_jpg.rf.ab4dfc76445b22817e542a4f54d3f94a.txt  \n",
      "  inflating: ./add_smoke_data/train/labels/fire_train_img_363_jpg.rf.ad05d009e6a8573a4f9dcb915c951112.txt  \n",
      "  inflating: ./add_smoke_data/train/labels/fire_train_img_364_jpg.rf.d5e1ac9f721c76deec0d4c00930d6e26.txt  \n",
      "  inflating: ./add_smoke_data/train/labels/fire_train_img_365_jpg.rf.3cf31de0bdf99f875e5e51a2226adafe.txt  \n",
      "  inflating: ./add_smoke_data/train/labels/fire_train_img_366_jpg.rf.055a3dc427b28393169838f2caf0e02e.txt  \n",
      "  inflating: ./add_smoke_data/train/labels/fire_train_img_369_jpg.rf.99b63714d2aa900d0166e7d5719c15de.txt  \n",
      "  inflating: ./add_smoke_data/train/labels/fire_train_img_370_jpg.rf.68921ff7abb7049afb48e8e801f26f9a.txt  \n",
      "  inflating: ./add_smoke_data/train/labels/fire_train_img_371_jpg.rf.5275ae71a42dbdb4f28b62ba45b85a07.txt  \n",
      "  inflating: ./add_smoke_data/train/labels/fire_train_img_372_jpg.rf.05fcce15d3321902cd4fbe482393ab45.txt  \n",
      "  inflating: ./add_smoke_data/train/labels/fire_train_img_375_jpg.rf.bcc2fb0898b277d1f44414c27293dc10.txt  \n",
      "  inflating: ./add_smoke_data/train/labels/fire_train_img_376_jpg.rf.154cc0147a7becedbad2064046caa849.txt  \n",
      "  inflating: ./add_smoke_data/train/labels/fire_train_img_377_jpg.rf.227753bc2d3d203f2025cda7d50612e6.txt  \n",
      "  inflating: ./add_smoke_data/train/labels/fire_train_img_378_jpg.rf.1609570d3a7bae221405fbec45300922.txt  \n",
      "  inflating: ./add_smoke_data/train/labels/fire_train_img_379_jpg.rf.dc30b12b8c70a2315ab9124b26e7b120.txt  \n",
      "  inflating: ./add_smoke_data/train/labels/fire_train_img_381_jpg.rf.a5b392eb5f4fa43f3d6781051e7a6a77.txt  \n",
      "  inflating: ./add_smoke_data/train/labels/fire_train_img_382_jpg.rf.af212c1b86bd2cc3d9307af7824fa1df.txt  \n",
      "  inflating: ./add_smoke_data/train/labels/fire_train_img_383_jpg.rf.12f05b2bbd665b1e8babf983ec254e02.txt  \n",
      "  inflating: ./add_smoke_data/train/labels/fire_train_img_384_jpg.rf.5d5d5f77c1855f4c6ce6a91221872e57.txt  \n",
      "  inflating: ./add_smoke_data/train/labels/fire_train_img_385_jpg.rf.92f2a7e7f317f25e822a35c2f062edf7.txt  \n",
      "  inflating: ./add_smoke_data/train/labels/fire_train_img_386_jpg.rf.e7396087cb943037c87dc3a0a6d217fe.txt  \n",
      "  inflating: ./add_smoke_data/train/labels/fire_train_img_387_jpg.rf.72b45a2003ea4c6bdd2d296aa7c5c95b.txt  \n",
      "  inflating: ./add_smoke_data/train/labels/fire_train_img_388_jpg.rf.9f1affefa5525630824d03d4a0a07d7c.txt  \n",
      "  inflating: ./add_smoke_data/train/labels/fire_train_img_390_jpg.rf.b7cf072f4daad74572890a0ecd4eee6f.txt  \n",
      "  inflating: ./add_smoke_data/train/labels/fire_train_img_391_jpg.rf.a447f3e9c17df2a6dd2281f8b48e099e.txt  \n",
      "  inflating: ./add_smoke_data/train/labels/fire_train_img_392_jpg.rf.33a817b9567416cf944d9cb6d8b37fb8.txt  \n",
      "  inflating: ./add_smoke_data/train/labels/fire_train_img_394_jpg.rf.151390f6090c3a2bd582782f610269dd.txt  \n",
      "  inflating: ./add_smoke_data/train/labels/fire_train_img_395_jpg.rf.1b31e86d4373446c2fcf16eb8782b536.txt  \n",
      "  inflating: ./add_smoke_data/train/labels/fire_train_img_401_jpg.rf.f88cb20abc49ff744489a61a85f1e5ac.txt  \n",
      "  inflating: ./add_smoke_data/train/labels/fire_train_img_402_jpg.rf.80a8ae660b580f39eb34c0a67de82076.txt  \n",
      "  inflating: ./add_smoke_data/train/labels/fire_train_img_404_jpg.rf.c9bcc34b62bb9437594961025371e895.txt  \n",
      "  inflating: ./add_smoke_data/train/labels/fire_train_img_405_jpg.rf.0304313cfe43064acf531eab59d29ff5.txt  \n",
      "  inflating: ./add_smoke_data/train/labels/fire_train_img_407_jpg.rf.d6f8285f56fccfa44fac101f89dbf5ee.txt  \n",
      "  inflating: ./add_smoke_data/train/labels/fire_train_img_408_jpg.rf.2722bc627b6034c3543c45fd4e341470.txt  \n",
      "  inflating: ./add_smoke_data/train/labels/fire_train_img_409_jpg.rf.0ccf65e733cf9022523673ca6a674fb4.txt  \n",
      "  inflating: ./add_smoke_data/train/labels/fire_train_img_410_jpg.rf.cbd8b58c2f6578c7be11e7dd2daf64de.txt  \n",
      "  inflating: ./add_smoke_data/train/labels/fire_train_img_411_jpg.rf.49640ce82a5ec865acc5d6cf97e7faa6.txt  \n",
      "  inflating: ./add_smoke_data/train/labels/fire_train_img_412_jpg.rf.f0182d24eb6724f1d352f9da51b9c96f.txt  \n",
      "  inflating: ./add_smoke_data/train/labels/fire_train_img_415_jpg.rf.18aad5786ef06118b11c66d86b55343c.txt  \n",
      "  inflating: ./add_smoke_data/train/labels/fire_train_img_417_jpg.rf.ecbdd7c23f7a48dd7f535b0a3bb7fd09.txt  \n",
      "  inflating: ./add_smoke_data/train/labels/fire_train_img_418_jpg.rf.6246626963e244efc2a5c7a8d6e519a5.txt  \n",
      "  inflating: ./add_smoke_data/train/labels/fire_train_img_419_jpg.rf.f448a8f024d1a8b36fe39b94f557ae08.txt  \n",
      "  inflating: ./add_smoke_data/train/labels/fire_train_img_420_jpg.rf.6238c927717a2e31590cec372b1fd1e6.txt  \n",
      "  inflating: ./add_smoke_data/train/labels/fire_train_img_421_jpg.rf.2fa322e0ac0c1327d8e8e71f516e95b2.txt  \n",
      "  inflating: ./add_smoke_data/train/labels/fire_train_img_423_jpg.rf.523a728f42d2891ed43e9ffe95599dac.txt  \n",
      "  inflating: ./add_smoke_data/train/labels/fire_train_img_424_jpg.rf.a780dbb1d2a445f5f502bf228e754a19.txt  \n",
      "  inflating: ./add_smoke_data/train/labels/fire_train_img_425_jpg.rf.d7d47864352f8b57e2b511277026d4ab.txt  \n",
      "  inflating: ./add_smoke_data/train/labels/fire_train_img_433_jpg.rf.d7921d6c7dfc34da21d4d3044c939c15.txt  \n",
      "  inflating: ./add_smoke_data/train/labels/fire_train_img_434_jpg.rf.2f9b6974e4a68cb20f7685487d05b280.txt  \n",
      "  inflating: ./add_smoke_data/train/labels/fire_train_img_435_jpg.rf.145622f8701dde27cc9a954de4e78450.txt  \n",
      "  inflating: ./add_smoke_data/train/labels/fire_train_img_436_jpg.rf.e23193ead16faba445fe9ccaf530d2cb.txt  \n",
      "  inflating: ./add_smoke_data/train/labels/fire_train_img_438_jpg.rf.b49a4ceb19580235301823f0dc5c2667.txt  \n",
      "  inflating: ./add_smoke_data/train/labels/fire_train_img_440_jpg.rf.5164af6b307b224b42d5c7fb71f6d2eb.txt  \n",
      "  inflating: ./add_smoke_data/train/labels/fire_train_img_441_jpg.rf.11c94aa3b0b7570929b374b01361cb16.txt  \n",
      "  inflating: ./add_smoke_data/train/labels/fire_train_img_442_jpg.rf.cf73662cfb52090954655df5ab1ac0dd.txt  \n",
      "  inflating: ./add_smoke_data/train/labels/fire_train_img_443_jpg.rf.18b2f0ba220d5a5b107f0ee8bf26e20f.txt  \n",
      "  inflating: ./add_smoke_data/train/labels/fire_train_img_444_jpg.rf.39308b52b8b7431bc3138e85dea90e73.txt  \n",
      "  inflating: ./add_smoke_data/train/labels/fire_train_img_445_jpg.rf.39072fbbc1b0ac1c803f73aeaf4da6ba.txt  \n",
      "  inflating: ./add_smoke_data/train/labels/fire_train_img_446_jpg.rf.74e2753875e25950dfcb57e3a39150a9.txt  \n",
      "  inflating: ./add_smoke_data/train/labels/fire_train_img_447_jpg.rf.f99f294fa99bbb76aabee22718d0ef62.txt  \n",
      "  inflating: ./add_smoke_data/train/labels/fire_train_img_449_jpg.rf.e6175bb744c5ca33d5ccea18b9dd0273.txt  \n",
      "  inflating: ./add_smoke_data/train/labels/fire_train_img_452_jpg.rf.866c3f1a63563f1fee44a0f4685e4c07.txt  \n",
      "  inflating: ./add_smoke_data/train/labels/fire_train_img_453_jpg.rf.00e15efe3f063ab5c8b7874a8a2a1ad9.txt  \n",
      "  inflating: ./add_smoke_data/train/labels/fire_train_img_605_jpg.rf.f97f9f9446d4f6902f2ce3c148224cbe.txt  \n",
      "  inflating: ./add_smoke_data/train/labels/fire_train_img_606_jpg.rf.485bf17feb70f061036c0b0e128fc644.txt  \n",
      "  inflating: ./add_smoke_data/train/labels/fire_train_img_607_jpg.rf.013bf0365bb8927dffd09c5bf23400a6.txt  \n",
      "  inflating: ./add_smoke_data/train/labels/fire_train_img_608_jpg.rf.8c0f5c794f42889adf15a955d7e25ee3.txt  \n",
      "  inflating: ./add_smoke_data/train/labels/fire_train_img_611_jpg.rf.ba240089f28d395832e9522b6c6cd492.txt  \n",
      "  inflating: ./add_smoke_data/train/labels/fire_train_img_612_jpg.rf.e38a49216914e388ac0860e2aa3feda3.txt  \n",
      "  inflating: ./add_smoke_data/train/labels/fire_train_img_613_jpg.rf.b08c9ec3c211af502d2e5311c76131f8.txt  \n",
      "  inflating: ./add_smoke_data/train/labels/fire_train_img_614_jpg.rf.f9f0ef3546891f4f9bd1b487e8cf0d01.txt  \n",
      "  inflating: ./add_smoke_data/train/labels/fire_train_img_615_jpg.rf.f6bc46beff92e504aa10b199a4a7db12.txt  \n",
      "  inflating: ./add_smoke_data/train/labels/fire_train_img_617_jpg.rf.3fc51ce298c0421fe71d51ec0bfc847f.txt  \n",
      "  inflating: ./add_smoke_data/train/labels/fire_train_img_619_jpg.rf.b8f1533981c0ab309d097f17a32d5770.txt  \n",
      "  inflating: ./add_smoke_data/train/labels/fire_train_img_620_jpg.rf.1072d5a5662b8a550616143d53a53676.txt  \n",
      "  inflating: ./add_smoke_data/train/labels/fire_train_img_621_jpg.rf.19a7d0ae83241cc054583d55c7912d85.txt  \n",
      "  inflating: ./add_smoke_data/train/labels/fire_train_img_622_jpg.rf.5fcecd7d4b7a9208eeb23a070bbdd690.txt  \n",
      "  inflating: ./add_smoke_data/train/labels/fire_train_img_623_jpg.rf.29dc74868851a4f30cf4cd0bddfba51b.txt  \n",
      "  inflating: ./add_smoke_data/train/labels/fire_train_img_625_jpg.rf.c1a11fe774526140739f749b52495f60.txt  \n",
      "  inflating: ./add_smoke_data/train/labels/fire_train_img_626_jpg.rf.180f0fe69a9a0cc65b8531007fca589f.txt  \n",
      "  inflating: ./add_smoke_data/train/labels/fire_train_img_627_jpg.rf.5f2644ecd27f8b1e736dda9f7ebb4a61.txt  \n",
      "  inflating: ./add_smoke_data/train/labels/fire_train_img_629_jpg.rf.fb4a52cbd4db1851475e33e627f2dea1.txt  \n",
      "  inflating: ./add_smoke_data/train/labels/fire_train_img_630_jpg.rf.8972c748a9053f6f34a3ba93cec5fdd7.txt  \n",
      "  inflating: ./add_smoke_data/train/labels/fire_train_img_634_jpg.rf.cf9e8d7be13909da3dbbbd19b55348af.txt  \n",
      "  inflating: ./add_smoke_data/train/labels/fire_train_img_635_jpg.rf.91e1b46518ebfd3609c08a5ca790e122.txt  \n",
      "  inflating: ./add_smoke_data/train/labels/fire_train_img_636_jpg.rf.3ed7662cf66db25b20ba4600f54ec38a.txt  \n",
      "  inflating: ./add_smoke_data/train/labels/fire_train_img_637_jpg.rf.a14a66a692e6313ac49b740b10ec468f.txt  \n",
      "  inflating: ./add_smoke_data/train/labels/fire_train_img_638_jpg.rf.cca57a725ba368bd992b6ad4535562e2.txt  \n",
      "  inflating: ./add_smoke_data/train/labels/fire_train_img_639_jpg.rf.09db35031ca103f8d9b5cf2d0cc20818.txt  \n",
      "  inflating: ./add_smoke_data/train/labels/fire_train_img_640_jpg.rf.c46d20dd82f76dc8ffbcd2d4218ea4a6.txt  \n",
      "  inflating: ./add_smoke_data/train/labels/fire_train_img_641_jpg.rf.ea978962a14ad01d15ebd64377e58853.txt  \n",
      "  inflating: ./add_smoke_data/train/labels/fire_train_img_643_jpg.rf.40b27b73b01e98722162e8b8fe66bc3c.txt  \n",
      "  inflating: ./add_smoke_data/train/labels/fire_train_img_644_jpg.rf.75e6660901044cc39a76ae6db9be7079.txt  \n",
      "  inflating: ./add_smoke_data/train/labels/fire_train_img_647_jpg.rf.d682c4b9163f011755ac6a148fb4e63b.txt  \n",
      "  inflating: ./add_smoke_data/train/labels/fire_train_img_648_jpg.rf.6c006b19a86376d23f5f9f37ac3ab5a7.txt  \n",
      "  inflating: ./add_smoke_data/train/labels/fire_train_img_649_jpg.rf.335adceb3a4ffbabbefa6930ffd2a6c3.txt  \n",
      "  inflating: ./add_smoke_data/train/labels/fire_train_img_650_jpg.rf.32d72faa043d782435c873513b66e309.txt  \n",
      "  inflating: ./add_smoke_data/train/labels/fire_train_img_651_jpg.rf.769f51d7c519280b672f1a89e50fc3b2.txt  \n",
      "  inflating: ./add_smoke_data/train/labels/fire_train_img_652_jpg.rf.f34af213119d2182fdf4e48277357c00.txt  \n",
      "  inflating: ./add_smoke_data/train/labels/fire_train_img_653_jpg.rf.e0cd99d2141e681f0ce579a0d95325e3.txt  \n",
      "  inflating: ./add_smoke_data/train/labels/fire_train_img_654_jpg.rf.28c4e50b7f50de97a4955fbdee26d1ca.txt  \n",
      "  inflating: ./add_smoke_data/train/labels/fire_train_img_655_jpg.rf.291811f7138227e1c3cd4d5d8966d1ad.txt  \n",
      "  inflating: ./add_smoke_data/train/labels/fire_train_img_661_jpg.rf.1a66c1331accf5e3eed620c8f934ceda.txt  \n",
      "  inflating: ./add_smoke_data/train/labels/fire_train_img_662_jpg.rf.f5d4fcc2a0cd07f21f6556156f009382.txt  \n",
      "  inflating: ./add_smoke_data/train/labels/fire_train_img_663_jpg.rf.c7401f0130df03a22f70032d6f2ea81e.txt  \n",
      "  inflating: ./add_smoke_data/train/labels/fire_train_img_664_jpg.rf.be6c752a28f72e5bf26242cb7340bc00.txt  \n",
      "  inflating: ./add_smoke_data/train/labels/fire_train_img_665_jpg.rf.565872a1ef396e55061d0e5d429783b6.txt  \n",
      "  inflating: ./add_smoke_data/train/labels/fire_train_img_667_jpg.rf.0038256c76263dabb33905bf456e4975.txt  \n",
      "  inflating: ./add_smoke_data/train/labels/fire_train_img_669_jpg.rf.04470c3e386c6553ecf44d9240919585.txt  \n",
      "  inflating: ./add_smoke_data/train/labels/fire_train_img_711_jpg.rf.e13b0dbc0c3351a4a1ff8e1b3ac0cf58.txt  \n",
      "  inflating: ./add_smoke_data/train/labels/fire_train_img_712_jpg.rf.632bf00f5aa2e8e6d87959d18249807a.txt  \n",
      "  inflating: ./add_smoke_data/train/labels/fire_train_img_713_jpg.rf.d248c94d532b0c82468e1969596e6294.txt  \n",
      "  inflating: ./add_smoke_data/train/labels/fire_train_img_714_jpg.rf.22e4d772e965027f80f3eb5af6121ace.txt  \n",
      "  inflating: ./add_smoke_data/train/labels/fire_train_img_716_jpg.rf.c38b81e66071937cdc3c83580255c6d9.txt  \n",
      "  inflating: ./add_smoke_data/train/labels/fire_train_img_717_jpg.rf.8110b033ddeabb6dca4e1f3a2f432e69.txt  \n",
      "  inflating: ./add_smoke_data/train/labels/fire_train_img_719_jpg.rf.8a063c13c73812dd43bf2286ac8e4e0b.txt  \n",
      "  inflating: ./add_smoke_data/train/labels/fire_train_img_720_jpg.rf.66e4e7baf9aed04001b25d99f2d6edaa.txt  \n",
      "  inflating: ./add_smoke_data/train/labels/fire_train_img_721_jpg.rf.1b1853f395ecb1005265080c6c2e7dc6.txt  \n",
      "  inflating: ./add_smoke_data/train/labels/fire_train_img_725_jpg.rf.5fb5332bdc0a04fa4e4ca147ecc14c0c.txt  \n",
      "  inflating: ./add_smoke_data/train/labels/fire_train_img_726_jpg.rf.0411e344955b6eca3887a95be821eb05.txt  \n",
      "  inflating: ./add_smoke_data/train/labels/fire_train_img_727_jpg.rf.e34c4bdb4cb784beaa5b09074656535c.txt  \n",
      "  inflating: ./add_smoke_data/train/labels/fire_train_img_728_jpg.rf.4aff6e4b24a9ebcd7297e998555bfa7c.txt  \n",
      "  inflating: ./add_smoke_data/train/labels/fire_train_img_729_jpg.rf.fd58b6d9f352d3b14ad7749c905f7d49.txt  \n",
      "  inflating: ./add_smoke_data/train/labels/fire_train_img_730_jpg.rf.79aa92cd833359656e934258ae0eaab9.txt  \n",
      "  inflating: ./add_smoke_data/train/labels/fire_train_img_731_jpg.rf.5ea3b59101e7107f39317d91b3adf98e.txt  \n",
      "  inflating: ./add_smoke_data/train/labels/fire_train_img_732_jpg.rf.f84c15758e5a61232eeca28bcd5a4087.txt  \n",
      "  inflating: ./add_smoke_data/train/labels/fire_train_img_733_jpg.rf.0f0f48e13bfd0c24a53bccf94fa2ad4d.txt  \n",
      "  inflating: ./add_smoke_data/train/labels/fire_train_img_734_jpg.rf.99b2248f2cecfc1a9e60773ebe57af84.txt  \n",
      "  inflating: ./add_smoke_data/train/labels/fire_train_img_736_jpg.rf.2c94470fc0f94ff8297b6808f32e90ea.txt  \n",
      "  inflating: ./add_smoke_data/train/labels/fire_train_img_737_jpg.rf.55e399e3f5f796be85f9ee22660a443e.txt  \n",
      "  inflating: ./add_smoke_data/train/labels/fire_train_img_740_jpg.rf.6adaac45f3e83a2e494a2dda9c5a6b21.txt  \n",
      "  inflating: ./add_smoke_data/train/labels/fire_train_img_741_jpg.rf.7d8dc5feed4c89d562a982b41a36a557.txt  \n",
      "  inflating: ./add_smoke_data/train/labels/fire_train_img_742_jpg.rf.7c5ccab5949d6e063dc5c1459dab9217.txt  \n",
      "  inflating: ./add_smoke_data/train/labels/fire_train_img_743_jpg.rf.fd89b500fb0373869f846699cc91abe4.txt  \n",
      "  inflating: ./add_smoke_data/train/labels/fire_train_img_745_jpg.rf.e5537b735f06e59aa7a307c69e6a14d7.txt  \n",
      "  inflating: ./add_smoke_data/train/labels/fire_train_img_746_jpg.rf.eb796db3789b61c014e721db94947037.txt  \n",
      "  inflating: ./add_smoke_data/train/labels/fire_train_img_747_jpg.rf.60a13b313d299d75cadf6671c5d65157.txt  \n",
      "  inflating: ./add_smoke_data/train/labels/fire_train_img_748_jpg.rf.696adb60f2741647d2580165881f1d84.txt  \n",
      "  inflating: ./add_smoke_data/train/labels/fire_train_img_749_jpg.rf.b5a5f693832c2241d2f299c830f2532b.txt  \n",
      "  inflating: ./add_smoke_data/train/labels/fire_train_img_750_jpg.rf.2d25310b7c5e93a8c0b9b4276775ebfd.txt  \n",
      "  inflating: ./add_smoke_data/train/labels/fire_train_img_752_jpg.rf.43d7465b9b03010b98867db1f4edcc7b.txt  \n",
      "  inflating: ./add_smoke_data/train/labels/fire_train_img_753_jpg.rf.e9708e6e42998899a4cdef25c99c9908.txt  \n",
      "  inflating: ./add_smoke_data/train/labels/fire_train_img_757_jpg.rf.347ebc0eaed7cc555a0462232dd1de29.txt  \n",
      "  inflating: ./add_smoke_data/train/labels/fire_train_img_758_jpg.rf.939620e193a983bdf9ed149b0e35002e.txt  \n",
      "  inflating: ./add_smoke_data/train/labels/fire_train_img_759_jpg.rf.40e5bffd02ed1f0c86329add32933283.txt  \n",
      "  inflating: ./add_smoke_data/train/labels/fire_train_img_760_jpg.rf.b4c666bc2a68e33422b04cce52ec07a4.txt  \n",
      "  inflating: ./add_smoke_data/train/labels/fire_train_img_761_jpg.rf.3204fcf645a82964a679fef70e9aaa13.txt  \n",
      "  inflating: ./add_smoke_data/train/labels/fire_train_img_762_jpg.rf.7688aaf97caece6be9ffe124c5d66f92.txt  \n",
      "  inflating: ./add_smoke_data/train/labels/fire_train_img_763_jpg.rf.1f29e057cfbd216e69d63b9b6d1fe8dc.txt  \n",
      "  inflating: ./add_smoke_data/train/labels/fire_train_img_765_jpg.rf.4b63508995661eb97d23f36753e9e20a.txt  \n",
      "  inflating: ./add_smoke_data/train/labels/fire_train_img_767_jpg.rf.0fbf85545f48b47209a61fefa3788c93.txt  \n",
      "  inflating: ./add_smoke_data/train/labels/fire_train_img_769_jpg.rf.44d918e1c76d399697b54b3f45141029.txt  \n",
      "  inflating: ./add_smoke_data/train/labels/fire_train_img_770_jpg.rf.516f318941b30b16dc8c8d663adc322c.txt  \n",
      "  inflating: ./add_smoke_data/train/labels/fire_train_img_771_jpg.rf.c0303b3d9a302ef6b161bb89a82da7dc.txt  \n",
      "  inflating: ./add_smoke_data/train/labels/fire_train_img_774_jpg.rf.2141511b64f540e3bdfe62280dbf5dcd.txt  \n",
      "  inflating: ./add_smoke_data/train/labels/fire_train_img_776_jpg.rf.23ef0b0a1bb7dd5bd8bce2ae1ba5451d.txt  \n",
      "  inflating: ./add_smoke_data/train/labels/fire_train_img_777_jpg.rf.2922ac6decfc00d67983fbfaf811c0ea.txt  \n",
      "  inflating: ./add_smoke_data/train/labels/fire_train_img_778_jpg.rf.d071352ae99184ed6f1e6b03b65e838b.txt  \n",
      "  inflating: ./add_smoke_data/train/labels/fire_train_img_782_jpg.rf.2f0624958d5931f4a209c0c046e2bade.txt  \n",
      "  inflating: ./add_smoke_data/train/labels/fire_train_img_784_jpg.rf.be9603b22194fd5d3ed2e80a25dc24aa.txt  \n",
      "  inflating: ./add_smoke_data/train/labels/fire_train_img_786_jpg.rf.4d74c6c32995620b063266602161f84b.txt  \n",
      "  inflating: ./add_smoke_data/train/labels/fire_train_img_81_jpg.rf.affe4f7b6d391e54e458f30f19e1da2e.txt  \n",
      "  inflating: ./add_smoke_data/train/labels/fire_train_img_82_jpg.rf.1bce59eaa4c2bc687454ec4c99a83a26.txt  \n",
      "  inflating: ./add_smoke_data/train/labels/fire_train_img_84_jpg.rf.06d2f61811731537e0d565d99a3a109e.txt  \n",
      "  inflating: ./add_smoke_data/train/labels/fire_train_img_87_jpg.rf.b6d6db79866cb5a34b363ad9e6944402.txt  \n",
      "  inflating: ./add_smoke_data/train/labels/fire_train_img_88_jpg.rf.e7c327e1d3b6a525eff708fabd26f900.txt  \n",
      "  inflating: ./add_smoke_data/train/labels/fire_train_img_91_jpg.rf.1c01cfb20612ee5f3e97fa5796d12c9d.txt  \n",
      "  inflating: ./add_smoke_data/train/labels/fire_train_img_92_jpg.rf.8b288f930d8af4daab6480cc51a602e4.txt  \n",
      "  inflating: ./add_smoke_data/train/labels/fire_train_img_94_jpg.rf.f92709ee903482026dd5e53e840b8cde.txt  \n",
      "  inflating: ./add_smoke_data/train/labels/fire_train_img_95_jpg.rf.eaf6318961c06e9f0d381cb0411e3653.txt  \n",
      "  inflating: ./add_smoke_data/train/labels/fire_train_img_96_jpg.rf.64cab05bafc3cfb7dc85f976996194e5.txt  \n",
      "  inflating: ./add_smoke_data/train/labels/fire1-594-_jpg.rf.6e0efec573ae51259e4ac14f4a12797f.txt  \n",
      "  inflating: ./add_smoke_data/train/labels/fire1-594-_jpg.rf.90e66308eca97bc3207ac8b769072de3.txt  \n",
      "  inflating: ./add_smoke_data/train/labels/FireDetectionImage_MirrorWEBFire090_jpg.rf.85f990386c966da64cae10118ed32587.txt  \n",
      "  inflating: ./add_smoke_data/train/labels/FireDetectionImage_MirrorWEBFire090_jpg.rf.9d7e5ade72f9fd49e1d0c53cbfbfd70e.txt  \n",
      "  inflating: ./add_smoke_data/train/labels/FireDetectionImage_MirrorWEBFire090_jpg.rf.e4d1dd8925a70a6c5abc661ada52fee8.txt  \n",
      "  inflating: ./add_smoke_data/train/labels/fires-1-_jpg.rf.8d740b2853c03ecac5612df7e777c433.txt  \n",
      "  inflating: ./add_smoke_data/train/labels/fires-10-_jpg.rf.2ab8a888ba0dc97c5321e2da48c0ab0f.txt  \n",
      "  inflating: ./add_smoke_data/train/labels/fires-100-_jpg.rf.e15b96cb8b20bd0220b1d2d25c540954.txt  \n",
      "  inflating: ./add_smoke_data/train/labels/fires-103-_jpg.rf.daef28516a1c95ae65bead0d445fd25d.txt  \n",
      "  inflating: ./add_smoke_data/train/labels/fires-104-_jpg.rf.d7afec237b75545d3c8e60baf7f4c261.txt  \n",
      "  inflating: ./add_smoke_data/train/labels/fires-108-_jpg.rf.e7881d27c300f963d123caf51e64a925.txt  \n",
      "  inflating: ./add_smoke_data/train/labels/fires-109-_jpg.rf.091b8fc3f61df30ece7713968918f3e5.txt  \n",
      "  inflating: ./add_smoke_data/train/labels/fires-11-_jpg.rf.b5cf0ef5060d7b41bbbdf3523a72cfce.txt  \n",
      "  inflating: ./add_smoke_data/train/labels/fires-110-_jpg.rf.997db60667e61743e7f0da1426b2235a.txt  \n",
      "  inflating: ./add_smoke_data/train/labels/fires-111-_jpg.rf.c0c02b75423e043b2601ea9dc00d71d1.txt  \n",
      "  inflating: ./add_smoke_data/train/labels/fires-112-_jpg.rf.32556e9f38af045412e92d79ead1db7a.txt  \n",
      "  inflating: ./add_smoke_data/train/labels/fires-114-_jpg.rf.075f1b2c489daab8faeb0b596fb32ce3.txt  \n",
      "  inflating: ./add_smoke_data/train/labels/fires-115-_jpg.rf.83edc18353f0bb818f376c3475b22fb3.txt  \n",
      "  inflating: ./add_smoke_data/train/labels/fires-12-_jpg.rf.e9df103b48ede65a4a4766ff7fa201f4.txt  \n",
      "  inflating: ./add_smoke_data/train/labels/fires-13-_jpg.rf.0af06ad19ca21efe02186540e6ab5f40.txt  \n",
      "  inflating: ./add_smoke_data/train/labels/fires-14-_jpg.rf.13ba994b1fc89ccb6d02545588b2e4b7.txt  \n",
      "  inflating: ./add_smoke_data/train/labels/fires-15-_jpg.rf.0c3eea61d1c5d3d2224828bf85047da6.txt  \n",
      "  inflating: ./add_smoke_data/train/labels/fires-16-_jpg.rf.fb1424392b12fa218e929c387b2cea68.txt  \n",
      "  inflating: ./add_smoke_data/train/labels/fires-17-_jpg.rf.0c938939ee02d9821df4bc218ec417e1.txt  \n",
      "  inflating: ./add_smoke_data/train/labels/fires-18-_jpg.rf.f16e592f52f31e03bff97153df2b3172.txt  \n",
      "  inflating: ./add_smoke_data/train/labels/fires-19-_jpg.rf.5b19e5923eb5ad6f67c97ca8d7043eba.txt  \n",
      "  inflating: ./add_smoke_data/train/labels/fires-2-_jpg.rf.1a83038a284684ddcf9ac082c5a4567c.txt  \n",
      "  inflating: ./add_smoke_data/train/labels/fires-20-_jpg.rf.e583ac7496a0420dab66f74277a8d77c.txt  \n",
      "  inflating: ./add_smoke_data/train/labels/fires-21-_jpg.rf.26371360617893f6ddd999529aa4e497.txt  \n",
      "  inflating: ./add_smoke_data/train/labels/fires-24-_jpg.rf.3d7b0d83bdb2920955587cbc987aa147.txt  \n",
      "  inflating: ./add_smoke_data/train/labels/fires-25-_jpg.rf.184187da77c5d1cc5ec72d597489da97.txt  \n",
      "  inflating: ./add_smoke_data/train/labels/fires-26-_jpg.rf.86ee1f18ee3655a130cef7e36297e06c.txt  \n",
      "  inflating: ./add_smoke_data/train/labels/fires-27-_jpg.rf.71e92914d8a15de97113773016402e40.txt  \n",
      "  inflating: ./add_smoke_data/train/labels/fires-28-_jpg.rf.a3dbaf8a62de951e72af4b99a32242c4.txt  \n",
      "  inflating: ./add_smoke_data/train/labels/fires-3-_jpg.rf.2e10e8513e5c60113c8a65131bd9ee04.txt  \n",
      "  inflating: ./add_smoke_data/train/labels/fires-31-_jpg.rf.8b3bc70ffd55899db0df5e8f8dc79734.txt  \n",
      "  inflating: ./add_smoke_data/train/labels/fires-33-_jpg.rf.72a22177ecf47ca9fc34484a2059264b.txt  \n",
      "  inflating: ./add_smoke_data/train/labels/fires-36-_jpg.rf.b2a4ca027bbe58c5829f832d72f938c9.txt  \n",
      "  inflating: ./add_smoke_data/train/labels/fires-37-_jpg.rf.5d1620c0412f5f12d5a90939927c7128.txt  \n",
      "  inflating: ./add_smoke_data/train/labels/fires-38-_jpg.rf.72a76ae8b4dd00883302404864746354.txt  \n",
      "  inflating: ./add_smoke_data/train/labels/fires-39-_jpg.rf.e560ae15e76540c9e6f38cc251541d5b.txt  \n",
      "  inflating: ./add_smoke_data/train/labels/fires-4-_jpg.rf.8c55f7c8ed36b1572d24de9d03ab8e4a.txt  \n",
      "  inflating: ./add_smoke_data/train/labels/fires-40-_jpg.rf.76b006531bcd8226c287d46b92f0a52d.txt  \n",
      "  inflating: ./add_smoke_data/train/labels/fires-42-_jpg.rf.a969f93a1072b191b6085e0ac3b709b0.txt  \n",
      "  inflating: ./add_smoke_data/train/labels/fires-43-_jpg.rf.8519f51ecd98e3e8956e3dbbed540fc5.txt  \n",
      "  inflating: ./add_smoke_data/train/labels/fires-44-_jpg.rf.ccf2ebcffee940fe26890d311f1d7918.txt  \n",
      "  inflating: ./add_smoke_data/train/labels/fires-45-_jpg.rf.28cf7953671b2317085d24aecd989203.txt  \n",
      "  inflating: ./add_smoke_data/train/labels/fires-47-_jpg.rf.6914ad46c78cae7114561da7a8fc4ec1.txt  \n",
      "  inflating: ./add_smoke_data/train/labels/fires-48-_jpg.rf.d9a127b1d131ef9259802027c347da7f.txt  \n",
      "  inflating: ./add_smoke_data/train/labels/fires-49-_jpg.rf.fc7272961500bdc0f65a91380681eeea.txt  \n",
      "  inflating: ./add_smoke_data/train/labels/fires-5-_jpg.rf.04c6db4f69d51c0d76cb1580f9c588d8.txt  \n",
      "  inflating: ./add_smoke_data/train/labels/fires-51-_jpg.rf.971bcc1d778d98eab03934702c3dcef9.txt  \n",
      "  inflating: ./add_smoke_data/train/labels/fires-52-_jpg.rf.ca512b092373f92da67baa4904c4a0ef.txt  \n",
      "  inflating: ./add_smoke_data/train/labels/fires-53-_jpg.rf.6e8f1f75487440aaa4f708bfbc9dc470.txt  \n",
      "  inflating: ./add_smoke_data/train/labels/fires-54-_jpg.rf.3ddfd34ceb91fc3ad57cee3a33910f35.txt  \n",
      "  inflating: ./add_smoke_data/train/labels/fires-55-_jpg.rf.bfa38763555ed2ad4adcdbb7ea06422d.txt  \n",
      "  inflating: ./add_smoke_data/train/labels/fires-56-_jpg.rf.119eb29bdc7638806d3ed3257e5fa742.txt  \n",
      "  inflating: ./add_smoke_data/train/labels/fires-57-_jpg.rf.a22891c40620dbe8051b62ab378fda4c.txt  \n",
      "  inflating: ./add_smoke_data/train/labels/fires-58-_jpg.rf.9644b7f0339164af747cc81b5978aac7.txt  \n",
      "  inflating: ./add_smoke_data/train/labels/fires-59-_jpg.rf.2bfa18e3d3b53719b0108edb6c312579.txt  \n",
      "  inflating: ./add_smoke_data/train/labels/fires-6-_jpg.rf.f0b99682abe346597903b2cb7b2e26d8.txt  \n",
      "  inflating: ./add_smoke_data/train/labels/fires-60-_jpg.rf.14866522c0d131e2064ba570b3c66126.txt  \n",
      "  inflating: ./add_smoke_data/train/labels/fires-61-_jpg.rf.653d17aec8552667a5d41aa501631509.txt  \n",
      "  inflating: ./add_smoke_data/train/labels/fires-62-_jpg.rf.023d9fd5d096ec224d5cdf26cf6808f4.txt  \n",
      "  inflating: ./add_smoke_data/train/labels/fires-63-_jpg.rf.24a9b17bab37f940c2780bd7afd24bd4.txt  \n",
      "  inflating: ./add_smoke_data/train/labels/fires-64-_jpg.rf.4d6df2a40b1a3c16e53c114fa369324d.txt  \n",
      "  inflating: ./add_smoke_data/train/labels/fires-65-_jpg.rf.e0f885c27cc0eb2152984138e550e036.txt  \n",
      "  inflating: ./add_smoke_data/train/labels/fires-68-_jpg.rf.83dc167088db127c5d43a3b9a7504364.txt  \n",
      "  inflating: ./add_smoke_data/train/labels/fires-69-_jpg.rf.d2f5364bbb6a9efe4ae3f91118848c38.txt  \n",
      "  inflating: ./add_smoke_data/train/labels/fires-7-_jpg.rf.12230e0fbd74fc2a30c2fcca5e7c5b85.txt  \n",
      "  inflating: ./add_smoke_data/train/labels/fires-70-_jpg.rf.53bbce3e8afa1118611fd59bca4e4c41.txt  \n",
      "  inflating: ./add_smoke_data/train/labels/fires-71-_jpg.rf.61f9ef75e7f7b5daff842ebdc9731cb3.txt  \n",
      "  inflating: ./add_smoke_data/train/labels/fires-72-_jpg.rf.08c88d7798167aae53565132ac626ddc.txt  \n",
      "  inflating: ./add_smoke_data/train/labels/fires-73-_jpg.rf.6d164fdf5a0b322694631800c3c8bb49.txt  \n",
      "  inflating: ./add_smoke_data/train/labels/fires-74-_jpg.rf.0799db5371645067bfb50c59c13b28a0.txt  \n",
      "  inflating: ./add_smoke_data/train/labels/fires-75-_jpg.rf.8427ccf2467a12b11ec36e00a14e6bf1.txt  \n",
      "  inflating: ./add_smoke_data/train/labels/fires-76-_jpg.rf.00a05d57d726fcaeea70880a63c0fc9f.txt  \n",
      "  inflating: ./add_smoke_data/train/labels/fires-77-_jpg.rf.6a7a51bac4667d037f570d42a2464eae.txt  \n",
      "  inflating: ./add_smoke_data/train/labels/fires-79-_jpg.rf.e44c0e4bfe9d6fd6d333392f55bf990f.txt  \n",
      "  inflating: ./add_smoke_data/train/labels/fires-8-_jpg.rf.22b933267552ba5ebec21127ddf230ff.txt  \n",
      "  inflating: ./add_smoke_data/train/labels/fires-80-_jpg.rf.be41753ed19ff6abd33cd0fafda78468.txt  \n",
      "  inflating: ./add_smoke_data/train/labels/fires-82-_jpg.rf.e23ca34a6e6b5018a9d89a8ff363fdde.txt  \n",
      "  inflating: ./add_smoke_data/train/labels/fires-83-_jpg.rf.c7b0222557a53cca0a133af1707192c3.txt  \n",
      "  inflating: ./add_smoke_data/train/labels/fires-85-_jpg.rf.a09e6812e682bdc0c57e846bf92d6e4b.txt  \n",
      "  inflating: ./add_smoke_data/train/labels/fires-86-_jpg.rf.b900fd7897bfcaa8241f200bb7e5be5b.txt  \n",
      "  inflating: ./add_smoke_data/train/labels/fires-87-_jpg.rf.7a5c1bb7978154406eb552cb56fc67d1.txt  \n",
      "  inflating: ./add_smoke_data/train/labels/fires-88-_jpg.rf.5334c6e5dd916f0e9792930f1f37be37.txt  \n",
      "  inflating: ./add_smoke_data/train/labels/fires-89-_jpg.rf.3011b5a6a7f1bd5d08d643d88a850257.txt  \n",
      "  inflating: ./add_smoke_data/train/labels/fires-91-_jpg.rf.8e42091507536785a787736d6aba68fd.txt  \n",
      "  inflating: ./add_smoke_data/train/labels/fires-92-_jpg.rf.e8086a1134b85f42470b14abffa29234.txt  \n",
      "  inflating: ./add_smoke_data/train/labels/fires-93-_jpg.rf.24fd3298dd5f137859ae322e099e564c.txt  \n",
      "  inflating: ./add_smoke_data/train/labels/fires-94-_jpg.rf.c45206762925e0079b587ddde6ac27c0.txt  \n",
      "  inflating: ./add_smoke_data/train/labels/fires-95-_jpg.rf.1bb9c7f8dbaf6a60b9ffc5ceb8d66327.txt  \n",
      "  inflating: ./add_smoke_data/train/labels/fires-97-_jpg.rf.f3783f85bf703d25021c7617ef040d6b.txt  \n",
      "  inflating: ./add_smoke_data/train/labels/fires-98-_jpg.rf.45115092b0b5d0353612ac838f65275a.txt  \n",
      "  inflating: ./add_smoke_data/train/labels/fires-99-_jpg.rf.1e8ae0274c722c23dc8ebfacdc589e3f.txt  \n",
      "  inflating: ./add_smoke_data/train/labels/H_00223_png.rf.4bade170d192c6b36189f3b700284d6f.txt  \n",
      "  inflating: ./add_smoke_data/train/labels/H_00223_png.rf.548c5aa52ea4d46c44db2ac1c27ea4d1.txt  \n",
      "  inflating: ./add_smoke_data/train/labels/H_00223_png.rf.5d03b0f25f6b4c4564bcbe1a0d5cb1de.txt  \n",
      "  inflating: ./add_smoke_data/train/labels/H_00276_png.rf.70d242a3f0cb34a45a778d661a323935.txt  \n",
      "  inflating: ./add_smoke_data/train/labels/H_00276_png.rf.a7cf790359b224420fbf6c225eb330fe.txt  \n",
      "  inflating: ./add_smoke_data/train/labels/H_00512_png.rf.3fe6d8f6b12b4b202c6f36fdad4ea7c6.txt  \n",
      "  inflating: ./add_smoke_data/train/labels/H_00512_png.rf.60dc90bf1bce1df831dc92aa39a06081.txt  \n",
      "  inflating: ./add_smoke_data/train/labels/H_00512_png.rf.63eb1d589a9e1f626045b9cbd17bc4b5.txt  \n",
      "  inflating: ./add_smoke_data/train/labels/H_00610_png.rf.089caf37df37e5f132b68e54ecc23f85.txt  \n",
      "  inflating: ./add_smoke_data/train/labels/H_00610_png.rf.5fca01202a663ddeb8a368b2d7abc8e8.txt  \n",
      "  inflating: ./add_smoke_data/train/labels/H_00610_png.rf.b45cca348879e3b4a8e1abd67667b795.txt  \n",
      "  inflating: ./add_smoke_data/train/labels/H_00713_png.rf.a80f8d48472862e6aeda7b84ea86030d.txt  \n",
      "  inflating: ./add_smoke_data/train/labels/H_00713_png.rf.be2199d3c1dcc131db550871d755ff23.txt  \n",
      "  inflating: ./add_smoke_data/train/labels/H_00932_png.rf.7e31d338c0a017b4c3c007386353d93d.txt  \n",
      "  inflating: ./add_smoke_data/train/labels/H_00932_png.rf.ab8c533c691452edcd7068298a3759d2.txt  \n",
      "  inflating: ./add_smoke_data/train/labels/H_01336_png.rf.8d443058ee6f9b1d7fa320e515420ae3.txt  \n",
      "  inflating: ./add_smoke_data/train/labels/H_01336_png.rf.b4f4ab7f10407bfae5f6bcdf12a09fc6.txt  \n",
      "  inflating: ./add_smoke_data/train/labels/H_01870_png.rf.3d0359ff5c09c46eeabfa1a6beed0f2a.txt  \n",
      "  inflating: ./add_smoke_data/train/labels/H_01870_png.rf.4eac1f913c00f6b34957e755deb6e502.txt  \n",
      "  inflating: ./add_smoke_data/train/labels/H_02210_png.rf.d929526e6a26c4633826794b825fe24c.txt  \n",
      "  inflating: ./add_smoke_data/train/labels/H_02210_png.rf.e010103437a914f03f459de490492e34.txt  \n",
      "  inflating: ./add_smoke_data/train/labels/H_02532_png.rf.3227cd6927c57d0806699d8c9e868bff.txt  \n",
      "  inflating: ./add_smoke_data/train/labels/H_02532_png.rf.b4e106a29e6b67958b627bd497a5874d.txt  \n",
      "  inflating: ./add_smoke_data/train/labels/H_02686_png.rf.0265a23e6ab88f4011ff5e1153b24451.txt  \n",
      "  inflating: ./add_smoke_data/train/labels/H_02686_png.rf.8e969bd14bb240313eea7de240040e28.txt  \n",
      "  inflating: ./add_smoke_data/train/labels/H_02701_png.rf.22bf27d674d3640c2b2fae5626b2f475.txt  \n",
      "  inflating: ./add_smoke_data/train/labels/H_02701_png.rf.2a55e0a76bcaa0c1d7aae088309657b5.txt  \n",
      "  inflating: ./add_smoke_data/train/labels/H_02701_png.rf.45f87d3470d75bddc504fd6b2f037097.txt  \n",
      "  inflating: ./add_smoke_data/train/labels/H_03460_png.rf.29d972f1eabb27964c9c7a58d9773678.txt  \n",
      "  inflating: ./add_smoke_data/train/labels/H_03460_png.rf.ddaa26bd4c3a16f1653a9124f35ef0b6.txt  \n",
      "  inflating: ./add_smoke_data/train/labels/H_03697_png.rf.2d501cb5e5a87e47af75588b754a0845.txt  \n",
      "  inflating: ./add_smoke_data/train/labels/H_03697_png.rf.edd1f4a156970729f1de7aa3b089a1f2.txt  \n",
      "  inflating: ./add_smoke_data/train/labels/H_04009_png.rf.203cd4ff35194141328ccec8cc2514a0.txt  \n",
      "  inflating: ./add_smoke_data/train/labels/H_04009_png.rf.3b1ba53ed9678b54fe4f260df0e14813.txt  \n",
      "  inflating: ./add_smoke_data/train/labels/H_04009_png.rf.4d04dea906717e6187949dad45f253eb.txt  \n",
      "  inflating: ./add_smoke_data/train/labels/H_04105_png.rf.3069d93b13a81fab6ca5894dbf702be7.txt  \n",
      "  inflating: ./add_smoke_data/train/labels/H_04105_png.rf.96e6369fab2c336d9c713af485d8bb27.txt  \n",
      "  inflating: ./add_smoke_data/train/labels/H_04105_png.rf.aa8873cbca4040c94789f790924e910c.txt  \n",
      "  inflating: ./add_smoke_data/train/labels/H_04446_png.rf.5b6001c7a3c03fd9b1da551bd3100df0.txt  \n",
      "  inflating: ./add_smoke_data/train/labels/H_04446_png.rf.87d8f2a5db2cc34d742fe6f7bc1dcbe5.txt  \n",
      "  inflating: ./add_smoke_data/train/labels/H_04446_png.rf.9e99c595e4777d8cc6ca0f0fed96d1e5.txt  \n",
      "  inflating: ./add_smoke_data/train/labels/H_04836_png.rf.572d92aeb801f5e23ce94ae3a68ce1b4.txt  \n",
      "  inflating: ./add_smoke_data/train/labels/H_04836_png.rf.9baba7ae22d39e4926dff622bcf70bd4.txt  \n",
      "  inflating: ./add_smoke_data/train/labels/H_04922_png.rf.342d12dde06742718dc1306c6038be3f.txt  \n",
      "  inflating: ./add_smoke_data/train/labels/H_04922_png.rf.48eb139f7060eb2fa00e6fb033b8ae0e.txt  \n",
      "  inflating: ./add_smoke_data/train/labels/H_04922_png.rf.ce2ebc2535848ac7f1162b4d84dbb9a7.txt  \n",
      "  inflating: ./add_smoke_data/train/labels/H_04934_png.rf.42394f8e75cd54953e43aed714727dc6.txt  \n",
      "  inflating: ./add_smoke_data/train/labels/H_04934_png.rf.457055004cf2cca1772246fdc8f931e6.txt  \n",
      "  inflating: ./add_smoke_data/train/labels/H_05519_png.rf.3f859c1ee8cac2e669246a0f0dccebfc.txt  \n",
      "  inflating: ./add_smoke_data/train/labels/H_05519_png.rf.a19615e5531033043f9ac496feb78296.txt  \n",
      "  inflating: ./add_smoke_data/train/labels/H_05519_png.rf.fd9e03b5bba151441b975bdd0a538787.txt  \n",
      "  inflating: ./add_smoke_data/train/labels/H_05751_png.rf.5e359c252f7fa863fcfab986f071efd3.txt  \n",
      "  inflating: ./add_smoke_data/train/labels/H_05751_png.rf.677f2354837f44f5355c3557e27ecf8b.txt  \n",
      "  inflating: ./add_smoke_data/train/labels/H_05922_png.rf.0cc4d31d3fab91d3ba1f3b048abfec93.txt  \n",
      "  inflating: ./add_smoke_data/train/labels/H_05922_png.rf.36bcf2c4f18df8881e194d00d1c02a47.txt  \n",
      "  inflating: ./add_smoke_data/train/labels/H_05950_png.rf.1071a7fbe6318a9d28289ddf51d92323.txt  \n",
      "  inflating: ./add_smoke_data/train/labels/H_05950_png.rf.f3dc130fb2b3a1b487ebf66387a4142b.txt  \n",
      "  inflating: ./add_smoke_data/train/labels/H_06089_png.rf.167013934a886ac6665498895debe5b6.txt  \n",
      "  inflating: ./add_smoke_data/train/labels/H_06089_png.rf.8292c85b667e21e0586242bcc879a922.txt  \n",
      "  inflating: ./add_smoke_data/train/labels/H_06142_png.rf.18c49ccf678d2b028962dc9db22541a4.txt  \n",
      "  inflating: ./add_smoke_data/train/labels/H_06142_png.rf.4198e2f21b217e8ebe3bb701f5e60013.txt  \n",
      "  inflating: ./add_smoke_data/train/labels/H_06142_png.rf.5cd652aace30ccf4e503d33e90daa9a9.txt  \n",
      "  inflating: ./add_smoke_data/train/labels/H_06421_png.rf.08a5f79548a279e4d2c349102b187a62.txt  \n",
      "  inflating: ./add_smoke_data/train/labels/H_06421_png.rf.42d9f48872cc1702d43ea94b1cc824fc.txt  \n",
      "  inflating: ./add_smoke_data/train/labels/H_06421_png.rf.e8f3a3f39307b248ce99bf651d650bbf.txt  \n",
      "  inflating: ./add_smoke_data/train/labels/H_06550_png.rf.033534c5a41465bf6309f1ea6f8e368e.txt  \n",
      "  inflating: ./add_smoke_data/train/labels/H_06550_png.rf.14c05ebd1102c8b524d4bfa9fec7378a.txt  \n",
      "  inflating: ./add_smoke_data/train/labels/H_06550_png.rf.b1d21ab8c453412c85446536946e861b.txt  \n",
      "  inflating: ./add_smoke_data/train/labels/H_06665_png.rf.724c19f60dd81d18572d752a21bf00c6.txt  \n",
      "  inflating: ./add_smoke_data/train/labels/H_06665_png.rf.b874738662dabc043d7179a1f9cc97bb.txt  \n",
      "  inflating: ./add_smoke_data/train/labels/H_06665_png.rf.fa4c33d1cf3710a22e421eace2ee7a39.txt  \n",
      "  inflating: ./add_smoke_data/train/labels/H_07407_png.rf.a4e6a3b720d9d0f1fbc6c4d25ae5487b.txt  \n",
      "  inflating: ./add_smoke_data/train/labels/H_07407_png.rf.de76dc0841e95da4907e02d27dd38124.txt  \n",
      "  inflating: ./add_smoke_data/train/labels/H_07554_png.rf.00031f49c41996f39ee2dd9906d8d746.txt  \n",
      "  inflating: ./add_smoke_data/train/labels/H_07554_png.rf.7bba26d4bc7ea7e53b9f0f5825d3f131.txt  \n",
      "  inflating: ./add_smoke_data/train/labels/H_07554_png.rf.884bd17dfc083a96e6c9ccf6bc9dc7ae.txt  \n",
      "  inflating: ./add_smoke_data/train/labels/H_07884_png.rf.2dd0df6d594db151128155835adab29a.txt  \n",
      "  inflating: ./add_smoke_data/train/labels/H_07884_png.rf.49745200c7a5520bed0f7c6bdf18fa1c.txt  \n",
      "  inflating: ./add_smoke_data/train/labels/H_07884_png.rf.a7eaac990279cc4a888c089b85cce764.txt  \n",
      "  inflating: ./add_smoke_data/train/labels/H_08008_png.rf.4d75be809be06ac976bbbd8f3a73d635.txt  \n",
      "  inflating: ./add_smoke_data/train/labels/H_08008_png.rf.d10583818bb28377c2f7004ef45f20bf.txt  \n",
      "  inflating: ./add_smoke_data/train/labels/H_08034_png.rf.94fcf4bbe1515817d7fc14f8018a1bc1.txt  \n",
      "  inflating: ./add_smoke_data/train/labels/H_08034_png.rf.c39bbe8b15bde9ac5ea1a9688dfb5874.txt  \n",
      "  inflating: ./add_smoke_data/train/labels/H_08051_png.rf.9ede790a23bf4d0ac101fec4d3f45d22.txt  \n",
      "  inflating: ./add_smoke_data/train/labels/H_08051_png.rf.af53e6b160f21c6b9aeed2e1cf469660.txt  \n",
      "  inflating: ./add_smoke_data/train/labels/H_08056_png.rf.e3897276971069bbf321e1e7b37e6a68.txt  \n",
      "  inflating: ./add_smoke_data/train/labels/H_08231_png.rf.c12a3d54c50a23198de1b27846ab3148.txt  \n",
      "  inflating: ./add_smoke_data/train/labels/H_08231_png.rf.d8de6a46fe4be1290d8442730fae99df.txt  \n",
      "  inflating: ./add_smoke_data/train/labels/H_08368_png.rf.50c2e4a7548e1552665a7d04b4729301.txt  \n",
      "  inflating: ./add_smoke_data/train/labels/H_08368_png.rf.64fdf54ae582b68ed87e2484720132b7.txt  \n",
      "  inflating: ./add_smoke_data/train/labels/H_08459_png.rf.062a7158a3971e3b2bba49e51a25a11a.txt  \n",
      "  inflating: ./add_smoke_data/train/labels/H_08459_png.rf.1e54e3ed18d9e5a6e65b7a6bf284f567.txt  \n",
      "  inflating: ./add_smoke_data/train/labels/H_08459_png.rf.a99589d81a28b5242c24b2c008f6298a.txt  \n",
      "  inflating: ./add_smoke_data/train/labels/H_08646_png.rf.09ac1934892045c289f437195e0bcdad.txt  \n",
      "  inflating: ./add_smoke_data/train/labels/H_08646_png.rf.590830aac2ea9a97cd08cdfd6ffd9a03.txt  \n",
      "  inflating: ./add_smoke_data/train/labels/H_08646_png.rf.f295eeee9f637ff912fe983b4e694053.txt  \n",
      "  inflating: ./add_smoke_data/train/labels/H_08848_png.rf.1be2bbb6261832fe828c200002692f72.txt  \n",
      "  inflating: ./add_smoke_data/train/labels/H_08848_png.rf.433f23d51d270a8a200642f0ccc49ea3.txt  \n",
      "  inflating: ./add_smoke_data/train/labels/H_08961_png.rf.8f6a411dd5c5163234dded5d2d305a75.txt  \n",
      "  inflating: ./add_smoke_data/train/labels/H_08961_png.rf.ad50ab4139fc924aae8194fe5fb00a1b.txt  \n",
      "  inflating: ./add_smoke_data/train/labels/H_08961_png.rf.e1107ae42941df4df8c81dbe40da9ee5.txt  \n",
      "  inflating: ./add_smoke_data/train/labels/H_09466_png.rf.9d1d78a35040f8f33493c753b7005f54.txt  \n",
      "  inflating: ./add_smoke_data/train/labels/H_09466_png.rf.b1584b3c5cb395d275acfe4e8b95527d.txt  \n",
      "  inflating: ./add_smoke_data/train/labels/image-1-_jpg.rf.9a4897b5a2f2a8c38076839151015b8d.txt  \n",
      "  inflating: ./add_smoke_data/train/labels/image-10-_jpg.rf.9e11171cfb4dd7a2d2a70fa8f742b99e.txt  \n",
      "  inflating: ./add_smoke_data/train/labels/image-100-_jpg.rf.8b9254926c4715b95f499da72339f2ee.txt  \n",
      "  inflating: ./add_smoke_data/train/labels/image-101-_jpg.rf.650276b1db644fd1c2ba8ea32d7357a0.txt  \n",
      "  inflating: ./add_smoke_data/train/labels/image-102-_jpg.rf.62a8d98f994a984e2a2ecbbc35cdbf23.txt  \n",
      "  inflating: ./add_smoke_data/train/labels/image-103-_jpg.rf.696eebaf2552936b8e22aa8b0f449693.txt  \n",
      "  inflating: ./add_smoke_data/train/labels/image-104-_jpg.rf.e79d63f27d3b047248711ab88096e233.txt  \n",
      "  inflating: ./add_smoke_data/train/labels/image-105-_jpg.rf.248b75af89ffd761ccfaa74a20237bb9.txt  \n",
      "  inflating: ./add_smoke_data/train/labels/image-106-_jpg.rf.3ec0f76b341279d991ab4cff7d5394ba.txt  \n",
      "  inflating: ./add_smoke_data/train/labels/image-107-_jpg.rf.0e23aba47222d6fa525aae2cf07bdedb.txt  \n",
      "  inflating: ./add_smoke_data/train/labels/image-11-_jpg.rf.b936a2a358ea9f1eda533765fa4f1ba8.txt  \n",
      "  inflating: ./add_smoke_data/train/labels/image-111-_jpg.rf.572431ee5bf56c2ad90a44b19684e359.txt  \n",
      "  inflating: ./add_smoke_data/train/labels/image-112-_jpg.rf.f2a109ed12b0a604490c37ed2c920c9e.txt  \n",
      "  inflating: ./add_smoke_data/train/labels/image-113-_jpg.rf.baf75999c45bb34daa49bcffced08862.txt  \n",
      "  inflating: ./add_smoke_data/train/labels/image-114-_jpg.rf.6680977442e49523370f223c1084e04d.txt  \n",
      "  inflating: ./add_smoke_data/train/labels/image-115-_jpg.rf.5f04e934495e504b3a4e8cd357d72f49.txt  \n",
      "  inflating: ./add_smoke_data/train/labels/image-117-_jpg.rf.aa1bff849d5ab13fe8fce461940f5d85.txt  \n",
      "  inflating: ./add_smoke_data/train/labels/image-118-_jpg.rf.582dad4262b60c2b250eb281760c81c0.txt  \n",
      "  inflating: ./add_smoke_data/train/labels/image-119-_jpg.rf.99e92690a41af700f6da30b7808aba47.txt  \n",
      "  inflating: ./add_smoke_data/train/labels/image-12-_jpg.rf.b4e961a2d7e5eab113281630ca727819.txt  \n",
      "  inflating: ./add_smoke_data/train/labels/image-120-_jpg.rf.c64baad8d41c8a3b58497de3cc37103d.txt  \n",
      "  inflating: ./add_smoke_data/train/labels/image-121-_jpg.rf.b2777c575bafcd5de1969347a7e7c06d.txt  \n",
      "  inflating: ./add_smoke_data/train/labels/image-123-_jpg.rf.56b1ff8fabf70dad16e9b0a72a7cb7f9.txt  \n",
      "  inflating: ./add_smoke_data/train/labels/image-124-_jpg.rf.ba53e40d6d38ac1c1e7a32c92640941e.txt  \n",
      "  inflating: ./add_smoke_data/train/labels/image-126-_jpg.rf.2897abccff0a12ae46e1c7ab07ca65a3.txt  \n",
      "  inflating: ./add_smoke_data/train/labels/image-127-_jpg.rf.479573ccef8caa6e57076b9d4195036b.txt  \n",
      "  inflating: ./add_smoke_data/train/labels/image-128-_jpg.rf.b9edd946b4b309af7736c305b895853a.txt  \n",
      "  inflating: ./add_smoke_data/train/labels/image-129-_jpg.rf.4c598a8058953fdb009571411221c3fd.txt  \n",
      "  inflating: ./add_smoke_data/train/labels/image-130-_jpg.rf.e9b549530ce9b598b3c3fba1e738ccc4.txt  \n",
      "  inflating: ./add_smoke_data/train/labels/image-131-_jpg.rf.51ef7d91e478ef9b52764f3314ba2fc3.txt  \n",
      "  inflating: ./add_smoke_data/train/labels/image-132-_jpg.rf.b1e94d17ce980a2b9b1cfa5a09dfa39e.txt  \n",
      "  inflating: ./add_smoke_data/train/labels/image-133-_jpg.rf.b9169e0eac8b7f184cfb462aae07518f.txt  \n",
      "  inflating: ./add_smoke_data/train/labels/image-136-_jpg.rf.7d571f876a576f6f1379b340cdba67f4.txt  \n",
      "  inflating: ./add_smoke_data/train/labels/image-137-_jpg.rf.305e98cb757de32e37e6c14526519b3c.txt  \n",
      "  inflating: ./add_smoke_data/train/labels/image-138-_jpg.rf.3198a803f71101fdc37914f4c566b7eb.txt  \n",
      "  inflating: ./add_smoke_data/train/labels/image-139-_jpg.rf.90345c41e4cf9c8cb1c33bf79672d2cf.txt  \n",
      "  inflating: ./add_smoke_data/train/labels/image-14-_jpg.rf.c176f44c5946eef64ca884457827899b.txt  \n",
      "  inflating: ./add_smoke_data/train/labels/image-140-_jpg.rf.24b4cf85b28a4320496f4795c675a777.txt  \n",
      "  inflating: ./add_smoke_data/train/labels/image-141-_jpg.rf.53799c8f489fd24b26ed7194af9b658b.txt  \n",
      "  inflating: ./add_smoke_data/train/labels/image-142-_jpg.rf.e8de6a72a6fa8311748ac6938a0a91b5.txt  \n",
      "  inflating: ./add_smoke_data/train/labels/image-143-_jpg.rf.95db266d60ae4c9cc49306b5e4aa1c4e.txt  \n",
      "  inflating: ./add_smoke_data/train/labels/image-146-_jpg.rf.abf95231f3a950f979c61c0644ad1ea4.txt  \n",
      "  inflating: ./add_smoke_data/train/labels/image-147-_jpg.rf.1035cf7ffb71447540fad9492cb21749.txt  \n",
      "  inflating: ./add_smoke_data/train/labels/image-148-_jpg.rf.40ae72ab9818030c186141be27f22ee8.txt  \n",
      "  inflating: ./add_smoke_data/train/labels/image-149-_jpg.rf.8425e83d554a0403eaddd8b6fb8bf441.txt  \n",
      "  inflating: ./add_smoke_data/train/labels/image-15-_jpg.rf.c88b02372e8dc22ace158c0d408f0b8c.txt  \n",
      "  inflating: ./add_smoke_data/train/labels/image-150-_jpg.rf.894cd24dd70373ba17cc22f92c72638c.txt  \n",
      "  inflating: ./add_smoke_data/train/labels/image-153-_jpg.rf.23dee4370db7edfef564af2fd6c680d3.txt  \n",
      "  inflating: ./add_smoke_data/train/labels/image-156-_jpg.rf.4b90d01b5c0b8ef77c4fb9aea47957f7.txt  \n",
      "  inflating: ./add_smoke_data/train/labels/image-157-_jpg.rf.6aae3e0afd3f7917ef91a5feaf2d68e7.txt  \n",
      "  inflating: ./add_smoke_data/train/labels/image-158-_jpg.rf.97e8c4c18e015415f63173da9f327d57.txt  \n",
      "  inflating: ./add_smoke_data/train/labels/image-16-_jpg.rf.c6575a5d3a25b68223ed265ba738a910.txt  \n",
      "  inflating: ./add_smoke_data/train/labels/image-160-_jpg.rf.6b371deeddf7767fb971f39973c397a9.txt  \n",
      "  inflating: ./add_smoke_data/train/labels/image-161-_jpg.rf.c84b5829a19b40d4ab2cf9c6a2083640.txt  \n",
      "  inflating: ./add_smoke_data/train/labels/image-163-_jpg.rf.7a7bb5d05600b0916c672fca118c5672.txt  \n",
      "  inflating: ./add_smoke_data/train/labels/image-164-_jpg.rf.9a1445a5464195bcafd5886e0903d2ca.txt  \n",
      "  inflating: ./add_smoke_data/train/labels/image-166-_jpg.rf.9bf0403c84a9751a19ce886f34970ffc.txt  \n",
      "  inflating: ./add_smoke_data/train/labels/image-167-_jpg.rf.d01ae1b7fb23ee35a33e14fe292f5c94.txt  \n",
      "  inflating: ./add_smoke_data/train/labels/image-168-_jpg.rf.93a86077a42c1f9793d433b3e353061c.txt  \n",
      "  inflating: ./add_smoke_data/train/labels/image-169-_jpg.rf.c3696c39884a58e403cf7f02f3056410.txt  \n",
      "  inflating: ./add_smoke_data/train/labels/image-17-_jpg.rf.43b184a4621cae33860d4588caf48dce.txt  \n",
      "  inflating: ./add_smoke_data/train/labels/image-170-_jpg.rf.830f06a867acfed4e450d4b59493a215.txt  \n",
      "  inflating: ./add_smoke_data/train/labels/image-171-_jpg.rf.20fe5b9eba35ac4bd50cdc5b53af5e2d.txt  \n",
      "  inflating: ./add_smoke_data/train/labels/image-172-_jpg.rf.0d40721d8e4ac485e23d3215e658858f.txt  \n",
      "  inflating: ./add_smoke_data/train/labels/image-175-_jpg.rf.9cf003d1794c06274ebb34f6326b5472.txt  \n",
      "  inflating: ./add_smoke_data/train/labels/image-176-_jpg.rf.93545435c3a409201ee8ce4761001765.txt  \n",
      "  inflating: ./add_smoke_data/train/labels/image-178-_jpg.rf.edae019509400c6bf63bcd62a176b940.txt  \n",
      "  inflating: ./add_smoke_data/train/labels/image-179-_jpg.rf.49f701c4b397025d4e33e793cdd21783.txt  \n",
      "  inflating: ./add_smoke_data/train/labels/image-18-_jpg.rf.bbd3324778a6d48b8e1becca0c4799f6.txt  \n",
      "  inflating: ./add_smoke_data/train/labels/image-181-_jpg.rf.0f3420b566dbe9eb6c840fd777437ad6.txt  \n",
      "  inflating: ./add_smoke_data/train/labels/image-182-_jpg.rf.c7145a071cdf22eeb5acefbb99e20559.txt  \n",
      "  inflating: ./add_smoke_data/train/labels/image-183-_jpg.rf.21a6f7d76729169c1b3dd7428c4c7d14.txt  \n",
      "  inflating: ./add_smoke_data/train/labels/image-184-_jpg.rf.a81aa412a525410da03b4cfc8a9dc29d.txt  \n",
      "  inflating: ./add_smoke_data/train/labels/image-185-_jpg.rf.32665e1c37993fba0b0ebf95487a12de.txt  \n",
      "  inflating: ./add_smoke_data/train/labels/image-186-_jpg.rf.01bbf723fdd4a2ed84e284cf5a1ee092.txt  \n",
      "  inflating: ./add_smoke_data/train/labels/image-189-_jpg.rf.065b9fed10edc283c1891c2aa60b3ca9.txt  \n",
      "  inflating: ./add_smoke_data/train/labels/image-19-_jpg.rf.8f7d9e83fec239157e10bbed006572dc.txt  \n",
      "  inflating: ./add_smoke_data/train/labels/image-190-_jpg.rf.cdc7d10c47613005b2d382423f70ab6a.txt  \n",
      "  inflating: ./add_smoke_data/train/labels/image-191-_jpg.rf.d7a5d288b45943b9149df56fc1878f34.txt  \n",
      "  inflating: ./add_smoke_data/train/labels/image-192-_jpg.rf.ef6d1fab7211339b0e2d29edb3f87490.txt  \n",
      "  inflating: ./add_smoke_data/train/labels/image-193-_jpg.rf.87215858ed5e588a65d9c8a318e0e4c6.txt  \n",
      "  inflating: ./add_smoke_data/train/labels/image-194-_jpg.rf.93b0d1cd0278fad10de8cb930f0fd866.txt  \n",
      "  inflating: ./add_smoke_data/train/labels/image-195-_jpg.rf.f901605c6c22a9bda21b54c075b85dd3.txt  \n",
      "  inflating: ./add_smoke_data/train/labels/image-196-_jpg.rf.7c92e48dcacf406a1c1a44a192c2fd67.txt  \n",
      "  inflating: ./add_smoke_data/train/labels/image-197-_jpg.rf.83c68f19aa56cd1c033844f697add468.txt  \n",
      "  inflating: ./add_smoke_data/train/labels/image-199-_jpg.rf.a01d6d06d5750a1db3fe5f49054faba7.txt  \n",
      "  inflating: ./add_smoke_data/train/labels/image-2-_jpg.rf.c389e66a7c36136cb4472c0fd9793249.txt  \n",
      "  inflating: ./add_smoke_data/train/labels/image-20-_jpg.rf.960d3e6fae029ae3c92981f92a642d7d.txt  \n",
      "  inflating: ./add_smoke_data/train/labels/image-200-_jpg.rf.956ec0ab250958840935869dff6cc43e.txt  \n",
      "  inflating: ./add_smoke_data/train/labels/image-201-_jpg.rf.20b565b39f06e20864ff8112e6d15faa.txt  \n",
      "  inflating: ./add_smoke_data/train/labels/image-203-_jpg.rf.acb9c31da3e0e3a250f0af80dcab2319.txt  \n",
      "  inflating: ./add_smoke_data/train/labels/image-204-_jpg.rf.094ce4f7da9c5dd30b2e4776de5b787b.txt  \n",
      "  inflating: ./add_smoke_data/train/labels/image-205-_jpg.rf.d90952ab58b3f7de75062dc0443c4382.txt  \n",
      "  inflating: ./add_smoke_data/train/labels/image-206-_jpg.rf.49c56d72a9b745e01db0c6b9310a994f.txt  \n",
      "  inflating: ./add_smoke_data/train/labels/image-207-_jpg.rf.2ab19df5205446a2160fedd62b80e734.txt  \n",
      "  inflating: ./add_smoke_data/train/labels/image-209-_jpg.rf.47496890fd4b62c53d7ee4106d1c2fe3.txt  \n",
      "  inflating: ./add_smoke_data/train/labels/image-21-_jpg.rf.6c5c4f5c9f298c8d90822302131e5656.txt  \n",
      "  inflating: ./add_smoke_data/train/labels/image-210-_jpg.rf.8bc0f7c690b6b221963f018e9defcabe.txt  \n",
      "  inflating: ./add_smoke_data/train/labels/image-212-_jpg.rf.50f5090da97dcd51402981353d45842f.txt  \n",
      "  inflating: ./add_smoke_data/train/labels/image-213-_jpg.rf.bffdcb43992580e7eebcf270033d1fc8.txt  \n",
      "  inflating: ./add_smoke_data/train/labels/image-214-_jpg.rf.7db3fd890050a0323e608476e2d3fdb5.txt  \n",
      "  inflating: ./add_smoke_data/train/labels/image-215-_jpg.rf.5786ed1eea9708d4a80a8d88e165496c.txt  \n",
      "  inflating: ./add_smoke_data/train/labels/image-216-_jpg.rf.294684e55878f2c1a06c7ffdd68cf0c7.txt  \n",
      "  inflating: ./add_smoke_data/train/labels/image-217-_jpg.rf.7dca8c064f63b3cfbd68695caa00f062.txt  \n",
      "  inflating: ./add_smoke_data/train/labels/image-218-_jpg.rf.ab7a62dcfc1f112e974e263be50cd18e.txt  \n",
      "  inflating: ./add_smoke_data/train/labels/image-219-_jpg.rf.010b5f16903856ba2072d5241bb6e0e7.txt  \n",
      "  inflating: ./add_smoke_data/train/labels/image-22-_jpg.rf.f7336abb705909a2752fa3664e0ab918.txt  \n",
      "  inflating: ./add_smoke_data/train/labels/image-220-_jpg.rf.2095ee98bd089a2336ca1c8951df909b.txt  \n",
      "  inflating: ./add_smoke_data/train/labels/image-221-_jpg.rf.df6afd4398cc2686381dac3da96a8877.txt  \n",
      "  inflating: ./add_smoke_data/train/labels/image-222-_jpg.rf.0deb1637735492b60ba5992720ce4aaa.txt  \n",
      "  inflating: ./add_smoke_data/train/labels/image-223-_jpg.rf.ddb950387ed1c8ab6a73d643f75b42f3.txt  \n",
      "  inflating: ./add_smoke_data/train/labels/image-224-_jpg.rf.4f6517a42ac8b160ca32d44872f3aceb.txt  \n",
      "  inflating: ./add_smoke_data/train/labels/image-225-_jpg.rf.821d34dc45dd1105681cea3ad9130fc7.txt  \n",
      "  inflating: ./add_smoke_data/train/labels/image-226-_jpg.rf.96c66d3c6ee14e79c8b94f109c96d50c.txt  \n",
      "  inflating: ./add_smoke_data/train/labels/image-227-_jpg.rf.a2ada84a8e1b9a927ec93101b6425fbc.txt  \n",
      "  inflating: ./add_smoke_data/train/labels/image-228-_jpg.rf.b13c055ca0bd5d57df149e337979a907.txt  \n",
      "  inflating: ./add_smoke_data/train/labels/image-230-_jpg.rf.add3c9154d2df6474c542fefb670f699.txt  \n",
      "  inflating: ./add_smoke_data/train/labels/image-231-_jpg.rf.5c29d7e5e42499d75b9ca6c0a183df53.txt  \n",
      "  inflating: ./add_smoke_data/train/labels/image-232-_jpg.rf.4fb660527feb62b61da8a77d678a82fb.txt  \n",
      "  inflating: ./add_smoke_data/train/labels/image-233-_jpg.rf.6632f018e1fa0f1fdfa1761d2b60c3cc.txt  \n",
      "  inflating: ./add_smoke_data/train/labels/image-234-_jpg.rf.3c6170125126d50619c04383eded951d.txt  \n",
      "  inflating: ./add_smoke_data/train/labels/image-235-_jpg.rf.993b3facbcc4ce8713e726f5ac7188f0.txt  \n",
      "  inflating: ./add_smoke_data/train/labels/image-236-_jpg.rf.edab0adb836d799b189641f073b49338.txt  \n",
      "  inflating: ./add_smoke_data/train/labels/image-237-_jpg.rf.c3b54ab1af7fdd714c179a678ea1b7d9.txt  \n",
      "  inflating: ./add_smoke_data/train/labels/image-238-_jpg.rf.e61384f5176165006f21014d029ab79a.txt  \n",
      "  inflating: ./add_smoke_data/train/labels/image-24-_jpg.rf.6f475693d0602dedf2e912af8685dea4.txt  \n",
      "  inflating: ./add_smoke_data/train/labels/image-240-_jpg.rf.384de0fc4e41e660cb71642ee8403102.txt  \n",
      "  inflating: ./add_smoke_data/train/labels/image-241-_jpg.rf.ee131f60fa755d7facb552a2a98bd640.txt  \n",
      "  inflating: ./add_smoke_data/train/labels/image-244-_jpg.rf.187db697bf32d0dd73505de3f0aaa01c.txt  \n",
      "  inflating: ./add_smoke_data/train/labels/image-246-_jpg.rf.77173b27c5104f490b804ecb354e251b.txt  \n",
      "  inflating: ./add_smoke_data/train/labels/image-247-_jpg.rf.c0c393bb9b706e2b4149fa186d84d3e7.txt  \n",
      "  inflating: ./add_smoke_data/train/labels/image-249-_jpg.rf.c5f66e28bb33e47b662ef67b4ba9c0bd.txt  \n",
      "  inflating: ./add_smoke_data/train/labels/image-251-_jpg.rf.c854b58f0cfad38075031811df57c381.txt  \n",
      "  inflating: ./add_smoke_data/train/labels/image-252-_jpg.rf.4c1afa3ab36c87196d21b564a6737f50.txt  \n",
      "  inflating: ./add_smoke_data/train/labels/image-254-_jpg.rf.7f0f9ee0cd1f2d091a4211b111af3dea.txt  \n",
      "  inflating: ./add_smoke_data/train/labels/image-255-_jpg.rf.a3f04d6da746dc02be645d75dbfd66ee.txt  \n",
      "  inflating: ./add_smoke_data/train/labels/image-256-_jpg.rf.a25c8f71fad6d822106d3c72c5d7be0a.txt  \n",
      "  inflating: ./add_smoke_data/train/labels/image-257-_jpg.rf.61f2e0cc030647e7e5f483e5d320a40d.txt  \n",
      "  inflating: ./add_smoke_data/train/labels/image-258-_jpg.rf.802f505440cad7efe3091b65c0254459.txt  \n",
      "  inflating: ./add_smoke_data/train/labels/image-26-_jpg.rf.ea7744c6ba41099b14023af212aedfc9.txt  \n",
      "  inflating: ./add_smoke_data/train/labels/image-261-_jpg.rf.30db9ab4516c01d5f03bbfe8f401ab27.txt  \n",
      "  inflating: ./add_smoke_data/train/labels/image-262-_jpg.rf.8acfbaba496f20fc72b8c59a25881012.txt  \n",
      "  inflating: ./add_smoke_data/train/labels/image-263-_jpg.rf.59b4cc08f9ca423f182d473bf14ce40a.txt  \n",
      "  inflating: ./add_smoke_data/train/labels/image-264-_jpg.rf.39dd69c07bb9f477c2d5face71edfe93.txt  \n",
      "  inflating: ./add_smoke_data/train/labels/image-266-_jpg.rf.61a7fdd467fc0b11c7bf6ef851bf1e1b.txt  \n",
      "  inflating: ./add_smoke_data/train/labels/image-269-_jpg.rf.8acf6bf2be9b71219f3f4f1e0a95703c.txt  \n",
      "  inflating: ./add_smoke_data/train/labels/image-27-_jpg.rf.42bff352ff93dabfdd7e593daa856ee8.txt  \n",
      "  inflating: ./add_smoke_data/train/labels/image-270-_jpg.rf.4c36f3e1b6cb880b37419281c3e85ad7.txt  \n",
      "  inflating: ./add_smoke_data/train/labels/image-271-_jpg.rf.e3d6aa32e2ceda4948605af0fc7bc314.txt  \n",
      "  inflating: ./add_smoke_data/train/labels/image-272-_jpg.rf.ccbeab5e3dc8ed36c800a14ea86a606e.txt  \n",
      "  inflating: ./add_smoke_data/train/labels/image-273-_jpg.rf.2029767ad3d1a494c8fc973da7dbc3f4.txt  \n",
      "  inflating: ./add_smoke_data/train/labels/image-274-_jpg.rf.3bfc57cab12074798a874d81a190a41b.txt  \n",
      "  inflating: ./add_smoke_data/train/labels/image-275-_jpg.rf.5ea7b3d747dba181472463bc21135d39.txt  \n",
      "  inflating: ./add_smoke_data/train/labels/image-276-_jpg.rf.ac0f4d16dbe7373081637e1614a2ec50.txt  \n",
      "  inflating: ./add_smoke_data/train/labels/image-278-_jpg.rf.7d1ee0976ac5326d6e00a3e7d471c562.txt  \n",
      "  inflating: ./add_smoke_data/train/labels/image-279-_jpg.rf.11092a107411e54ee56ab2d1bb9d33f5.txt  \n",
      "  inflating: ./add_smoke_data/train/labels/image-28-_jpg.rf.1a1c77dd23d826b3a71422d7c7ee164d.txt  \n",
      "  inflating: ./add_smoke_data/train/labels/image-280-_jpg.rf.704f29ac3c7ad139a8e14f9a8506a0b2.txt  \n",
      "  inflating: ./add_smoke_data/train/labels/image-281-_jpg.rf.e49e103e491f4a01a5538d50b8b7400a.txt  \n",
      "  inflating: ./add_smoke_data/train/labels/image-282-_jpg.rf.d5543658cf2a244a17f803bf5ee91b3d.txt  \n",
      "  inflating: ./add_smoke_data/train/labels/image-283-_jpg.rf.2dd657c46d168c632a7c40854225607e.txt  \n",
      "  inflating: ./add_smoke_data/train/labels/image-284-_jpg.rf.8991df66c66adecdade102853eeee803.txt  \n",
      "  inflating: ./add_smoke_data/train/labels/image-286-_jpg.rf.189555891e3b1906dad4204665d30236.txt  \n",
      "  inflating: ./add_smoke_data/train/labels/image-29-_jpg.rf.a0554555b26843447a287a62124fd24d.txt  \n",
      "  inflating: ./add_smoke_data/train/labels/image-290-_jpg.rf.5c8f4800906ce056f9a349f82a561530.txt  \n",
      "  inflating: ./add_smoke_data/train/labels/image-291-_jpg.rf.eb87ba517479d6e2446977296910089f.txt  \n",
      "  inflating: ./add_smoke_data/train/labels/image-292-_jpg.rf.fa04beb76adcf7607f525f1383252a4f.txt  \n",
      "  inflating: ./add_smoke_data/train/labels/image-295-_jpg.rf.1888f876a641216e817625834b33257b.txt  \n",
      "  inflating: ./add_smoke_data/train/labels/image-296-_jpg.rf.669bec692f8b159be43e50b09313628e.txt  \n",
      "  inflating: ./add_smoke_data/train/labels/image-297-_jpg.rf.cb1796cd37ae6c011efa18d4a2bcc593.txt  \n",
      "  inflating: ./add_smoke_data/train/labels/image-298-_jpg.rf.4227035d0270239e7653f4702f516292.txt  \n",
      "  inflating: ./add_smoke_data/train/labels/image-299-_jpg.rf.e8605f4a0337ec35a644cf1c4aec20a9.txt  \n",
      "  inflating: ./add_smoke_data/train/labels/image-3-_jpg.rf.18e24ab43743d758ebb318bd6b7c09b8.txt  \n",
      "  inflating: ./add_smoke_data/train/labels/image-30-_jpg.rf.a840730ddb204df81b8d46fc9550a393.txt  \n",
      "  inflating: ./add_smoke_data/train/labels/image-302-_jpg.rf.12f559438876f3ce03d959aec7fc6ef8.txt  \n",
      "  inflating: ./add_smoke_data/train/labels/image-304-_jpg.rf.9e9dd5313e3280a6de8e2cd113e05a01.txt  \n",
      "  inflating: ./add_smoke_data/train/labels/image-306-_jpg.rf.6b2d3650235086eb80b7ee3122b57eb3.txt  \n",
      "  inflating: ./add_smoke_data/train/labels/image-307-_jpg.rf.2adb799a1a67c17a304f23cab71864bc.txt  \n",
      "  inflating: ./add_smoke_data/train/labels/image-308-_jpg.rf.b8541b005c9784af5208b44b1c17a6b2.txt  \n",
      "  inflating: ./add_smoke_data/train/labels/image-309-_jpg.rf.110554a07b04408744d5bf8a76046a48.txt  \n",
      "  inflating: ./add_smoke_data/train/labels/image-31-_jpg.rf.29bd5e6e6eb85421889844d9cb99e27e.txt  \n",
      "  inflating: ./add_smoke_data/train/labels/image-310-_jpg.rf.b423ca2cd9fa954e3a2a8b836e0dfc8a.txt  \n",
      "  inflating: ./add_smoke_data/train/labels/image-311-_jpg.rf.1c6b1138f40d1cf689141ac9a39b59b5.txt  \n",
      "  inflating: ./add_smoke_data/train/labels/image-312-_jpg.rf.87c217b2548720dd9d92f5630e9060fc.txt  \n",
      "  inflating: ./add_smoke_data/train/labels/image-313-_jpg.rf.cee32dbcfdba5134f99e5be3578e1e5b.txt  \n",
      "  inflating: ./add_smoke_data/train/labels/image-314-_jpg.rf.f8efb16d09b2b31330cc1fe791d9bfaf.txt  \n",
      "  inflating: ./add_smoke_data/train/labels/image-315-_jpg.rf.f2d374b38951bdea13e3e01d9bf452e3.txt  \n",
      "  inflating: ./add_smoke_data/train/labels/image-316-_jpg.rf.32cceb2726e0714636b596db98906ef7.txt  \n",
      "  inflating: ./add_smoke_data/train/labels/image-319-_jpg.rf.e471b888981d22d9205aa2835f196d37.txt  \n",
      "  inflating: ./add_smoke_data/train/labels/image-32-_jpg.rf.a151a39a2ca3d09e04a746c96f681f17.txt  \n",
      "  inflating: ./add_smoke_data/train/labels/image-321-_jpg.rf.ae405c7848ad625b644952a5db9cae1a.txt  \n",
      "  inflating: ./add_smoke_data/train/labels/image-323-_jpg.rf.f47fe65285b59cfee6ecb462bd956d4e.txt  \n",
      "  inflating: ./add_smoke_data/train/labels/image-324-_jpg.rf.4c67c2e57bcbffe3dca15d46e748040b.txt  \n",
      "  inflating: ./add_smoke_data/train/labels/image-325-_jpg.rf.a391639c9915fafbca4894e67a2e3d9b.txt  \n",
      "  inflating: ./add_smoke_data/train/labels/image-327-_jpg.rf.845cb2e94a7c3376dd23b48001c2a3b3.txt  \n",
      "  inflating: ./add_smoke_data/train/labels/image-329-_jpg.rf.85bb2ba433ca8f089372b2a3ffc23e5e.txt  \n",
      "  inflating: ./add_smoke_data/train/labels/image-33-_jpg.rf.fb9e519d788ed76980f91b325b71c50d.txt  \n",
      "  inflating: ./add_smoke_data/train/labels/image-330-_jpg.rf.4c56a8bae992a6dff81352de758dd239.txt  \n",
      "  inflating: ./add_smoke_data/train/labels/image-333-_jpg.rf.3336c4495515cc315f4da2dc0316c042.txt  \n",
      "  inflating: ./add_smoke_data/train/labels/image-336-_jpg.rf.5560721c343e14d26b916e1a0e6bfc66.txt  \n",
      "  inflating: ./add_smoke_data/train/labels/image-338-_jpg.rf.3d3337d96b2f27d4caaa3f8ddcb7d878.txt  \n",
      "  inflating: ./add_smoke_data/train/labels/image-339-_jpg.rf.b7e34c240d8b31fd774dcf747c9a8fac.txt  \n",
      "  inflating: ./add_smoke_data/train/labels/image-34-_jpg.rf.e827614848a7733ab21981185d7bcb20.txt  \n",
      "  inflating: ./add_smoke_data/train/labels/image-341-_jpg.rf.71a74c660c46a3224187348456c58b0d.txt  \n",
      "  inflating: ./add_smoke_data/train/labels/image-342-_jpg.rf.d0b680a2ae56364e3fcf02933ae4f1fb.txt  \n",
      "  inflating: ./add_smoke_data/train/labels/image-343-_jpg.rf.01bfe88905060e3007d22e9fdbfcc16a.txt  \n",
      "  inflating: ./add_smoke_data/train/labels/image-344-_jpg.rf.9c54a8e5eb7eea8763f29ece3abff6ec.txt  \n",
      "  inflating: ./add_smoke_data/train/labels/image-345-_jpg.rf.ebf61195ff75feea28002fd1a33e19fb.txt  \n",
      "  inflating: ./add_smoke_data/train/labels/image-347-_jpg.rf.89ee048ef6b4f3e6d54f3d082b2741a1.txt  \n",
      "  inflating: ./add_smoke_data/train/labels/image-349-_jpg.rf.007750f22f6f0e9e1eab04e13492cd3b.txt  \n",
      "  inflating: ./add_smoke_data/train/labels/image-350-_jpg.rf.c7e112aba650b7c008dc4a5570647b8e.txt  \n",
      "  inflating: ./add_smoke_data/train/labels/image-351-_jpg.rf.b20ed466895c2c0c605ed52217883840.txt  \n",
      "  inflating: ./add_smoke_data/train/labels/image-352-_jpg.rf.2f2518bf884a43f0b47b2bd34a14fee7.txt  \n",
      "  inflating: ./add_smoke_data/train/labels/image-353-_jpg.rf.467403746bb06089c169ac737072eb77.txt  \n",
      "  inflating: ./add_smoke_data/train/labels/image-354-_jpg.rf.49d6601b3c908672499910572b543c8d.txt  \n",
      "  inflating: ./add_smoke_data/train/labels/image-355-_jpg.rf.f76b57a43cba24cc824c82bf3ccdcb22.txt  \n",
      "  inflating: ./add_smoke_data/train/labels/image-356-_jpg.rf.7910ca657214e73a2c964cde23689527.txt  \n",
      "  inflating: ./add_smoke_data/train/labels/image-357-_jpg.rf.27bae9438feef800123b83a4329f86bc.txt  \n",
      "  inflating: ./add_smoke_data/train/labels/image-359-_jpg.rf.3bc724fc41c8bfccb789fe58b8ffad7f.txt  \n",
      "  inflating: ./add_smoke_data/train/labels/image-36-_jpg.rf.7998ec1f4791709d101c4b2e6bf5ed8c.txt  \n",
      "  inflating: ./add_smoke_data/train/labels/image-360-_jpg.rf.036bcc0de90665f43390bf32eaf292e5.txt  \n",
      "  inflating: ./add_smoke_data/train/labels/image-361-_jpg.rf.d5211d8ebf54cf7bb6ab09747cfae214.txt  \n",
      "  inflating: ./add_smoke_data/train/labels/image-362-_jpg.rf.fa533af250f3393700932153a1760934.txt  \n",
      "  inflating: ./add_smoke_data/train/labels/image-363-_jpg.rf.a5ef486aa313d93274cfbcf3c3ba4773.txt  \n",
      "  inflating: ./add_smoke_data/train/labels/image-364-_jpg.rf.36eed19e062456c3baec078de1ff5e19.txt  \n",
      "  inflating: ./add_smoke_data/train/labels/image-368-_jpg.rf.0071e133277573f0c4945d3325ca2eaa.txt  \n",
      "  inflating: ./add_smoke_data/train/labels/image-369-_jpg.rf.c4622d31a67cd188b66b5bb9bad4f8d2.txt  \n",
      "  inflating: ./add_smoke_data/train/labels/image-37-_jpg.rf.37153ac988863ce116e878069ec97982.txt  \n",
      "  inflating: ./add_smoke_data/train/labels/image-370-_jpg.rf.8b10986e010615a4ebc6c6ad55d88ad0.txt  \n",
      "  inflating: ./add_smoke_data/train/labels/image-371-_jpg.rf.34e394e324a62618921c93b54d555fbd.txt  \n",
      "  inflating: ./add_smoke_data/train/labels/image-372-_jpg.rf.38030fac1bdafbfbf212975f98aff69e.txt  \n",
      "  inflating: ./add_smoke_data/train/labels/image-373-_jpg.rf.bcfd38f3b67cf33b12418a805aa4b0fc.txt  \n",
      "  inflating: ./add_smoke_data/train/labels/image-374-_jpg.rf.231a89090226118314ca323788a069b8.txt  \n",
      "  inflating: ./add_smoke_data/train/labels/image-375-_jpg.rf.5975fdd5ffdfcf5c0bd7d76d1d2bc9d6.txt  \n",
      "  inflating: ./add_smoke_data/train/labels/image-376-_jpg.rf.7fd5e5cc87659a8f508a06668549aad4.txt  \n",
      "  inflating: ./add_smoke_data/train/labels/image-377-_jpg.rf.ed860829b1ff2afb7c657c6fc2d5211e.txt  \n",
      "  inflating: ./add_smoke_data/train/labels/image-378-_jpg.rf.508bd116cee8c5abf30e0952b7b49ac7.txt  \n",
      "  inflating: ./add_smoke_data/train/labels/image-379-_jpg.rf.e74365eae79b4264738ec9b3894a1459.txt  \n",
      "  inflating: ./add_smoke_data/train/labels/image-38-_jpg.rf.7cc762bc03127cd9d06c26bd8c5a6738.txt  \n",
      "  inflating: ./add_smoke_data/train/labels/image-380-_jpg.rf.c50c98fe6ed5500db933e678e05e7365.txt  \n",
      "  inflating: ./add_smoke_data/train/labels/image-381-_jpg.rf.56dae71388eb1bd20ab24716da907fec.txt  \n",
      "  inflating: ./add_smoke_data/train/labels/image-382-_jpg.rf.f55255a414d55062c9af1443a9deebac.txt  \n",
      "  inflating: ./add_smoke_data/train/labels/image-383-_jpg.rf.cc477ed54bba7fcdc255901e0a9b8501.txt  \n",
      "  inflating: ./add_smoke_data/train/labels/image-384-_jpg.rf.823b54ac607b68656deb158ce8273b99.txt  \n",
      "  inflating: ./add_smoke_data/train/labels/image-385-_jpg.rf.c6beb5d048b555e4ed8c0770904a059a.txt  \n",
      "  inflating: ./add_smoke_data/train/labels/image-386-_jpg.rf.eccc814cadfabb725de8593b54aa77e5.txt  \n",
      "  inflating: ./add_smoke_data/train/labels/image-389-_jpg.rf.f3cc9b310e7fad449530164515949a10.txt  \n",
      "  inflating: ./add_smoke_data/train/labels/image-390-_jpg.rf.aa78a403da769a3fa179cd166e1657bb.txt  \n",
      "  inflating: ./add_smoke_data/train/labels/image-391-_jpg.rf.128d3f7d8da7e3b3e5a94e0f99dbf7a4.txt  \n",
      "  inflating: ./add_smoke_data/train/labels/image-392-_jpg.rf.f7e67f4adf0c5f50c478b36fa9bc3e68.txt  \n",
      "  inflating: ./add_smoke_data/train/labels/image-393-_jpg.rf.93a3bb5677b214ec7c58d85f3ed89c35.txt  \n",
      "  inflating: ./add_smoke_data/train/labels/image-395-_jpg.rf.12be765ed35393215b0ff834deb55822.txt  \n",
      "  inflating: ./add_smoke_data/train/labels/image-396-_jpg.rf.25b7ae60b4f9b5f4cc5742dc844b1d1f.txt  \n",
      "  inflating: ./add_smoke_data/train/labels/image-397-_jpg.rf.bb0061013316f1640c93de491a2514da.txt  \n",
      "  inflating: ./add_smoke_data/train/labels/image-398-_jpg.rf.195e6d499dda83b02d58c0fda637aae4.txt  \n",
      "  inflating: ./add_smoke_data/train/labels/image-399-_jpg.rf.91a876e6a45a67033894ef472f658914.txt  \n",
      "  inflating: ./add_smoke_data/train/labels/image-4-_jpg.rf.944224896297298eb02f2dad9478ac9e.txt  \n",
      "  inflating: ./add_smoke_data/train/labels/image-40-_jpg.rf.17a2265c364917eba39d5007dee2d76e.txt  \n",
      "  inflating: ./add_smoke_data/train/labels/image-400-_jpg.rf.7c6e8adcff6b79251f21f029f4f2c07e.txt  \n",
      "  inflating: ./add_smoke_data/train/labels/image-402-_jpg.rf.efef5e856ba1d376918641f5184e88f4.txt  \n",
      "  inflating: ./add_smoke_data/train/labels/image-403-_jpg.rf.6ec66c0c764b5d1e6926268639fb9e17.txt  \n",
      "  inflating: ./add_smoke_data/train/labels/image-405-_jpg.rf.2f9f6c5779a3c83da4ce66e06ff0f79d.txt  \n",
      "  inflating: ./add_smoke_data/train/labels/image-406-_jpg.rf.b44782832d9350dc0c16fa01900c3205.txt  \n",
      "  inflating: ./add_smoke_data/train/labels/image-407-_jpg.rf.4b07ebff5924ce132bb475a2dfb5edfa.txt  \n",
      "  inflating: ./add_smoke_data/train/labels/image-408-_jpg.rf.ef6d10b0894c42847163248ad1d4b94a.txt  \n",
      "  inflating: ./add_smoke_data/train/labels/image-409-_jpg.rf.014b09f9c2e05e4736b1d0df4d6007ef.txt  \n",
      "  inflating: ./add_smoke_data/train/labels/image-41-_jpg.rf.f84b6d48e625dd8e8e2f6fcc9138fced.txt  \n",
      "  inflating: ./add_smoke_data/train/labels/image-411-_jpg.rf.2ef8bbe5f6ff9bf78f66a52119c23b65.txt  \n",
      "  inflating: ./add_smoke_data/train/labels/image-412-_jpg.rf.8684ba9935de7dfb97d5c8d581c8c1d3.txt  \n",
      "  inflating: ./add_smoke_data/train/labels/image-413-_jpg.rf.071d625c31bfd9e15ffd9a94b9a94ebb.txt  \n",
      "  inflating: ./add_smoke_data/train/labels/image-414-_jpg.rf.34a970a873a2c9a38fefd7d316d62e85.txt  \n",
      "  inflating: ./add_smoke_data/train/labels/image-415-_jpg.rf.0f53e8fdc5717391e3b1fa7f38911a8e.txt  \n",
      "  inflating: ./add_smoke_data/train/labels/image-416-_jpg.rf.52ed4097b63c6655f196ea1a868251d3.txt  \n",
      "  inflating: ./add_smoke_data/train/labels/image-418-_jpg.rf.68d97312e768e94dfecbf217ade06c7a.txt  \n",
      "  inflating: ./add_smoke_data/train/labels/image-419-_jpg.rf.147c5204eeb0bd5639736debdc9d7339.txt  \n",
      "  inflating: ./add_smoke_data/train/labels/image-42-_jpg.rf.e47cc6beecea875d2c84af91a025bffa.txt  \n",
      "  inflating: ./add_smoke_data/train/labels/image-420-_jpg.rf.5bab724c130b1e66e9d4a3f0a3ef6818.txt  \n",
      "  inflating: ./add_smoke_data/train/labels/image-421-_jpg.rf.feb30bc4b69dc5fcb9819055a8c6c88d.txt  \n",
      "  inflating: ./add_smoke_data/train/labels/image-423-_jpg.rf.f5ad08fdeaaf6bbd7410eb4b1d2c58b5.txt  \n",
      "  inflating: ./add_smoke_data/train/labels/image-427-_jpg.rf.fda34a118a50e0bec83b9d5c694312d3.txt  \n",
      "  inflating: ./add_smoke_data/train/labels/image-428-_jpg.rf.b4984135512b09755db0548e409a18b3.txt  \n",
      "  inflating: ./add_smoke_data/train/labels/image-429-_jpg.rf.2ae55c9ff4c6298da909ef92fe564327.txt  \n",
      "  inflating: ./add_smoke_data/train/labels/image-43-_jpg.rf.2ecfa98fa2d642821e33df2753ad3739.txt  \n",
      "  inflating: ./add_smoke_data/train/labels/image-431-_jpg.rf.53a55926cdc7eaf825a8f393fd4cd576.txt  \n",
      "  inflating: ./add_smoke_data/train/labels/image-433-_jpg.rf.211f7b08788cdebfcd77b5a28455f0df.txt  \n",
      "  inflating: ./add_smoke_data/train/labels/image-437-_jpg.rf.026ce31927b819900772067a5afdcbca.txt  \n",
      "  inflating: ./add_smoke_data/train/labels/image-438-_jpg.rf.9fa2a77e6a32adb54fd884826c1e59e5.txt  \n",
      "  inflating: ./add_smoke_data/train/labels/image-439-_jpg.rf.66a9f806b7008e0184365ac15d04227e.txt  \n",
      "  inflating: ./add_smoke_data/train/labels/image-44-_jpg.rf.45f51e539339f36cca3b5f653d5c7def.txt  \n",
      "  inflating: ./add_smoke_data/train/labels/image-440-_jpg.rf.755cbf4786741127f10d6c061a3804b8.txt  \n",
      "  inflating: ./add_smoke_data/train/labels/image-441-_jpg.rf.04cacba3cfbfcd0ba7728856a0362f52.txt  \n",
      "  inflating: ./add_smoke_data/train/labels/image-442-_jpg.rf.a57f3691f002af1f36493b23c5bd0876.txt  \n",
      "  inflating: ./add_smoke_data/train/labels/image-444-_jpg.rf.cbc4d21235e06cba509bf70f964941ed.txt  \n",
      "  inflating: ./add_smoke_data/train/labels/image-446-_jpg.rf.bb41273c706161b8143552355d988076.txt  \n",
      "  inflating: ./add_smoke_data/train/labels/image-447-_jpg.rf.9c76bc995102d2e4d16fd6645f94691e.txt  \n",
      "  inflating: ./add_smoke_data/train/labels/image-448-_jpg.rf.c9c0443bab0f29ec27b8bc21dbdb9776.txt  \n",
      "  inflating: ./add_smoke_data/train/labels/image-449-_jpg.rf.7db000f40db3cc262a66a6bb2f28e6ec.txt  \n",
      "  inflating: ./add_smoke_data/train/labels/image-450-_jpg.rf.8e8843a2f24429b4654324fa75573723.txt  \n",
      "  inflating: ./add_smoke_data/train/labels/image-451-_jpg.rf.91e5a53cb21e4c74274d824b1fdf6086.txt  \n",
      "  inflating: ./add_smoke_data/train/labels/image-453-_jpg.rf.60453ce28252cca02b8e6def6f5c4269.txt  \n",
      "  inflating: ./add_smoke_data/train/labels/image-454-_jpg.rf.e60ef9a4e67a49b2f6c775d86720516d.txt  \n",
      "  inflating: ./add_smoke_data/train/labels/image-456-_jpg.rf.a6b6641ecbcfcf473a8472c714accc20.txt  \n",
      "  inflating: ./add_smoke_data/train/labels/image-457-_jpg.rf.5c89fb839c3b7b525e710e2e30e23450.txt  \n",
      "  inflating: ./add_smoke_data/train/labels/image-458-_jpg.rf.5f92091744bc0cf751b59fd74cadb8b6.txt  \n",
      "  inflating: ./add_smoke_data/train/labels/image-459-_jpg.rf.911e1d14410f8f02f0cb0e9b028a8570.txt  \n",
      "  inflating: ./add_smoke_data/train/labels/image-46-_jpg.rf.82583d1e57dadd6d18bb24201193819a.txt  \n",
      "  inflating: ./add_smoke_data/train/labels/image-460-_jpg.rf.9c8cd782219bf3af9dd71b7991c32c8a.txt  \n",
      "  inflating: ./add_smoke_data/train/labels/image-461-_jpg.rf.516c90575994c0694b1a11ac47035d2b.txt  \n",
      "  inflating: ./add_smoke_data/train/labels/image-462-_jpg.rf.423ceb386068136595aa0d30557c9dd8.txt  \n",
      "  inflating: ./add_smoke_data/train/labels/image-463-_jpg.rf.8ccfcbe0e29058214fb4fcdfc0e3401f.txt  \n",
      "  inflating: ./add_smoke_data/train/labels/image-464-_jpg.rf.ce39a84bf87f660f74d4021a357cb0ab.txt  \n",
      "  inflating: ./add_smoke_data/train/labels/image-465-_jpg.rf.4e3fb80967c77a17b214f02915e88475.txt  \n",
      "  inflating: ./add_smoke_data/train/labels/image-466-_jpg.rf.6925b8743aa1d4a1679e5157335ba8b9.txt  \n",
      "  inflating: ./add_smoke_data/train/labels/image-467-_jpg.rf.3e7331c5793bcaa312aba1b61573b141.txt  \n",
      "  inflating: ./add_smoke_data/train/labels/image-468-_jpg.rf.eb2cc88590295c9fc642d1fa9cf6f0ac.txt  \n",
      "  inflating: ./add_smoke_data/train/labels/image-469-_jpg.rf.7b65aa4870b8f8bc0d173e9de8d23e03.txt  \n",
      "  inflating: ./add_smoke_data/train/labels/image-47-_jpg.rf.694f8b8b256a13bcc9dbcfd0d7f5a19c.txt  \n",
      "  inflating: ./add_smoke_data/train/labels/image-471-_jpg.rf.b641d490009680c39f9f82c10dcc2799.txt  \n",
      "  inflating: ./add_smoke_data/train/labels/image-472-_jpg.rf.9a8654f1d501d295ba4d8b74dcc5b4e7.txt  \n",
      "  inflating: ./add_smoke_data/train/labels/image-473-_jpg.rf.667648b993926ed84259736257fa58ba.txt  \n",
      "  inflating: ./add_smoke_data/train/labels/image-474-_jpg.rf.c7f6ba9216748f27e17db7e38d365731.txt  \n",
      "  inflating: ./add_smoke_data/train/labels/image-476-_jpg.rf.06f5b639f5faf3d30c19f4d009115aab.txt  \n",
      "  inflating: ./add_smoke_data/train/labels/image-477-_jpg.rf.a6cb9594d99432ad03d22f8e4af2acbd.txt  \n",
      "  inflating: ./add_smoke_data/train/labels/image-478-_jpg.rf.b769daefb40c5ee4a375c2c0915d5a10.txt  \n",
      "  inflating: ./add_smoke_data/train/labels/image-479-_jpg.rf.5c3f5f1c9747d71c39d7940edb45d953.txt  \n",
      "  inflating: ./add_smoke_data/train/labels/image-48-_jpg.rf.651cd31c615b58860c5c65302c8e2feb.txt  \n",
      "  inflating: ./add_smoke_data/train/labels/image-480-_jpg.rf.cc436ef1b66286632d09468897633070.txt  \n",
      "  inflating: ./add_smoke_data/train/labels/image-481-_jpg.rf.b39cfaa14428870422556db1e373b3c6.txt  \n",
      "  inflating: ./add_smoke_data/train/labels/image-482-_jpg.rf.4f4fdef196b7f966cd6d38736a8cbaa3.txt  \n",
      "  inflating: ./add_smoke_data/train/labels/image-483-_jpg.rf.dc0c6360567faa747a81a6dda75606dc.txt  \n",
      "  inflating: ./add_smoke_data/train/labels/image-484-_jpg.rf.17849dd120b0f06d1f91ac13c2edd33d.txt  \n",
      "  inflating: ./add_smoke_data/train/labels/image-485-_jpg.rf.c031567faff61709282eeb6c2f6060a6.txt  \n",
      "  inflating: ./add_smoke_data/train/labels/image-486-_jpg.rf.64eee7368972434abc9ddf8a91552325.txt  \n",
      "  inflating: ./add_smoke_data/train/labels/image-487-_jpg.rf.c97418cd1090b6e7da1cbf946bfc5830.txt  \n",
      "  inflating: ./add_smoke_data/train/labels/image-488-_jpg.rf.4402dd8b7bf57db6c34a9006222cd1e2.txt  \n",
      "  inflating: ./add_smoke_data/train/labels/image-489-_jpg.rf.487e2b7a9cc95588ae767d251e6bfd29.txt  \n",
      "  inflating: ./add_smoke_data/train/labels/image-49-_jpg.rf.ba90d0c10432bb95911d6aa7b4eca3b3.txt  \n",
      "  inflating: ./add_smoke_data/train/labels/image-490-_jpg.rf.a36e41187614c6e80c0b2029408bc578.txt  \n",
      "  inflating: ./add_smoke_data/train/labels/image-491-_jpg.rf.7df74621439614226516ba170560afaa.txt  \n",
      "  inflating: ./add_smoke_data/train/labels/image-492-_jpg.rf.d53e3b47caa34b7e5461ba9f7efe5227.txt  \n",
      "  inflating: ./add_smoke_data/train/labels/image-493-_jpg.rf.6aadc20fca7647f768df4c9777a1c5c8.txt  \n",
      "  inflating: ./add_smoke_data/train/labels/image-495-_jpg.rf.ac5cb0fac52b9f36dcd0db8355a6b6d0.txt  \n",
      "  inflating: ./add_smoke_data/train/labels/image-497-_jpg.rf.d79980acd8ffcf5adda80595d1ee653b.txt  \n",
      "  inflating: ./add_smoke_data/train/labels/image-498-_jpg.rf.3201f591ab49bf67413598b62f3e0320.txt  \n",
      "  inflating: ./add_smoke_data/train/labels/image-499-_jpg.rf.202d014825551b20711885738a5ccdd1.txt  \n",
      "  inflating: ./add_smoke_data/train/labels/image-5-_jpg.rf.fc12af14de58b79f317d474ea2e2b5e3.txt  \n",
      "  inflating: ./add_smoke_data/train/labels/image-50-_jpg.rf.112c28e84156ea3da63e394e960d3517.txt  \n",
      "  inflating: ./add_smoke_data/train/labels/image-500-_jpg.rf.b12c005807fcfb41ece1bac27d09a6da.txt  \n",
      "  inflating: ./add_smoke_data/train/labels/image-501-_jpg.rf.44ad82b0fa6baf47e699254bc0316610.txt  \n",
      "  inflating: ./add_smoke_data/train/labels/image-502-_jpg.rf.6311821a8d0ba8fe8031cb5275a78fb7.txt  \n",
      "  inflating: ./add_smoke_data/train/labels/image-503-_jpg.rf.b1e8a7413e5b99f4e1d2824dfbe246d8.txt  \n",
      "  inflating: ./add_smoke_data/train/labels/image-504-_jpg.rf.dac110527a2a8f7c16f8c6e7a65453df.txt  \n",
      "  inflating: ./add_smoke_data/train/labels/image-506-_jpg.rf.0e26ceec3601564cfd3d1620f29421e7.txt  \n",
      "  inflating: ./add_smoke_data/train/labels/image-507-_jpg.rf.ab3c69650835b0dbd231e82a8eb379ec.txt  \n",
      "  inflating: ./add_smoke_data/train/labels/image-508-_jpg.rf.55efb5288c6f71d72e00b71e32b2bfb4.txt  \n",
      "  inflating: ./add_smoke_data/train/labels/image-509-_jpg.rf.5d94be69058d4f610f9054a13bf27e56.txt  \n",
      "  inflating: ./add_smoke_data/train/labels/image-51-_jpg.rf.2ddd7f3e9b08f82d4174bcbc3c4f7cb3.txt  \n",
      "  inflating: ./add_smoke_data/train/labels/image-511-_jpg.rf.65b23192962db49bd10b00b430704ea0.txt  \n",
      "  inflating: ./add_smoke_data/train/labels/image-512-_jpg.rf.64da57493c945a91d1a64d8cb6e7797b.txt  \n",
      "  inflating: ./add_smoke_data/train/labels/image-515-_jpg.rf.4ee1e4fc70f0e80096d9840064304432.txt  \n",
      "  inflating: ./add_smoke_data/train/labels/image-516-_jpg.rf.70113197b124e6cd9c3c9711b1acd1ad.txt  \n",
      "  inflating: ./add_smoke_data/train/labels/image-518-_jpg.rf.3cb2bbb647074bd4c6e6966c8f4738b7.txt  \n",
      "  inflating: ./add_smoke_data/train/labels/image-519-_jpg.rf.2cd66097c3d21070018c81efae704dd4.txt  \n",
      "  inflating: ./add_smoke_data/train/labels/image-52-_jpg.rf.cdd035f090eaa02c882dd1287254b97b.txt  \n",
      "  inflating: ./add_smoke_data/train/labels/image-520-_jpg.rf.29cb3f7fe43f995d559f4b7d2f70002c.txt  \n",
      "  inflating: ./add_smoke_data/train/labels/image-522-_jpg.rf.9f414fcd7d45a7a9d18a065c6bec1152.txt  \n",
      "  inflating: ./add_smoke_data/train/labels/image-523-_jpg.rf.0c998ae318c48567e74e7c815a93033e.txt  \n",
      "  inflating: ./add_smoke_data/train/labels/image-525-_jpg.rf.593ae5c0cfc8e39d800adac227018128.txt  \n",
      "  inflating: ./add_smoke_data/train/labels/image-526-_jpg.rf.0fdb1742acaea6f40a6d99451d9dce4f.txt  \n",
      "  inflating: ./add_smoke_data/train/labels/image-529-_jpg.rf.93db1d81d7999124b1d23c634c3ed42d.txt  \n",
      "  inflating: ./add_smoke_data/train/labels/image-53-_jpg.rf.1d1f97679aa243c07ba8c5f5e2a39dbf.txt  \n",
      "  inflating: ./add_smoke_data/train/labels/image-530-_jpg.rf.6de4ed7ccedacdc45ac1ba9b90168ea8.txt  \n",
      "  inflating: ./add_smoke_data/train/labels/image-531-_jpg.rf.32216bf8d144ce0d0d0be96618d5dacc.txt  \n",
      "  inflating: ./add_smoke_data/train/labels/image-533-_jpg.rf.d7ad9271b8c2bbed6a06f1b5c26fee4b.txt  \n",
      "  inflating: ./add_smoke_data/train/labels/image-534-_jpg.rf.7e501871af22a760ac94e7880c3e4db6.txt  \n",
      "  inflating: ./add_smoke_data/train/labels/image-535-_jpg.rf.2064290b174d0946bd361d03dcaa0f17.txt  \n",
      "  inflating: ./add_smoke_data/train/labels/image-536-_jpg.rf.0a056f46ca1c8ac420d4fab2e15defa5.txt  \n",
      "  inflating: ./add_smoke_data/train/labels/image-537-_jpg.rf.f69c0c408813f5c5582fb1ee6717f4f7.txt  \n",
      "  inflating: ./add_smoke_data/train/labels/image-539-_jpg.rf.3550ada1c458dc4c536277f41f6416cf.txt  \n",
      "  inflating: ./add_smoke_data/train/labels/image-54-_jpg.rf.bc856284fcd3e8fed9cea91d89ac24ff.txt  \n",
      "  inflating: ./add_smoke_data/train/labels/image-541-_jpg.rf.104c1b8a6e826dc13791fa6078d19026.txt  \n",
      "  inflating: ./add_smoke_data/train/labels/image-542-_jpg.rf.f392489dfd38f5ad09320214cfab7d0a.txt  \n",
      "  inflating: ./add_smoke_data/train/labels/image-544-_jpg.rf.4c79e3ed98e08e0813854c86d064f79f.txt  \n",
      "  inflating: ./add_smoke_data/train/labels/image-545-_jpg.rf.2555fb623a36c82a14fae6c75fe71c9b.txt  \n",
      "  inflating: ./add_smoke_data/train/labels/image-548-_jpg.rf.8d8924f913d7ac4acbddededad87d149.txt  \n",
      "  inflating: ./add_smoke_data/train/labels/image-55-_jpg.rf.2a222b287e5eb52bbdc508059feec443.txt  \n",
      "  inflating: ./add_smoke_data/train/labels/image-550-_jpg.rf.9d51419a7f696b34c839fa6d568bb367.txt  \n",
      "  inflating: ./add_smoke_data/train/labels/image-551-_jpg.rf.eaf0292a66a58d092d941fd4491c0af6.txt  \n",
      "  inflating: ./add_smoke_data/train/labels/image-554-_jpg.rf.385d6913826e44325544d6ea599beeca.txt  \n",
      "  inflating: ./add_smoke_data/train/labels/image-555-_jpg.rf.e11631d2b07e3515d6c3bd5536ead14d.txt  \n",
      "  inflating: ./add_smoke_data/train/labels/image-556-_jpg.rf.4ee926caa0a3950b00796a1f52a804a5.txt  \n",
      "  inflating: ./add_smoke_data/train/labels/image-557-_jpg.rf.e559a916eb149c9e7df4e3cec3b2fccc.txt  \n",
      "  inflating: ./add_smoke_data/train/labels/image-558-_jpg.rf.708e218109dac24bf1ade5ab8a5e7330.txt  \n",
      "  inflating: ./add_smoke_data/train/labels/image-559-_jpg.rf.0c06d2bf4bedf49e2a8f089e3c886760.txt  \n",
      "  inflating: ./add_smoke_data/train/labels/image-560-_jpg.rf.412e3b4d337b32e0dfe08479e87dc4bf.txt  \n",
      "  inflating: ./add_smoke_data/train/labels/image-562-_jpg.rf.f57c89ac2140dd5c79c179ff69c6eed4.txt  \n",
      "  inflating: ./add_smoke_data/train/labels/image-564-_jpg.rf.f80e4614f641861021aff840335840de.txt  \n",
      "  inflating: ./add_smoke_data/train/labels/image-565-_jpg.rf.77d7a643aec9ba2315475806762af155.txt  \n",
      "  inflating: ./add_smoke_data/train/labels/image-566-_jpg.rf.e0c81b793a04c7ff79ea58c4e13af2d8.txt  \n",
      "  inflating: ./add_smoke_data/train/labels/image-568-_jpg.rf.3e18899f09e44a0ad2f88ad991e191b1.txt  \n",
      "  inflating: ./add_smoke_data/train/labels/image-569-_jpg.rf.434b4e1ca6312edaa527daa04f89ab33.txt  \n",
      "  inflating: ./add_smoke_data/train/labels/image-57-_jpg.rf.3ef50a219e2a934ebb30ef54f732e162.txt  \n",
      "  inflating: ./add_smoke_data/train/labels/image-570-_jpg.rf.040e4875077bd93d7c0d1a595712cfe6.txt  \n",
      "  inflating: ./add_smoke_data/train/labels/image-571-_jpg.rf.dbeb042f01cdad4182b2c06289755e69.txt  \n",
      "  inflating: ./add_smoke_data/train/labels/image-572-_jpg.rf.dca6c777583b9d01155915e04672b588.txt  \n",
      "  inflating: ./add_smoke_data/train/labels/image-574-_jpg.rf.8f3f3751913baab63b1bf0fa3f9ba15d.txt  \n",
      "  inflating: ./add_smoke_data/train/labels/image-575-_jpg.rf.ea959afd5dde13911a432bbbfff63610.txt  \n",
      "  inflating: ./add_smoke_data/train/labels/image-577-_jpg.rf.7691cccec0ad5e296c67a7c515049602.txt  \n",
      "  inflating: ./add_smoke_data/train/labels/image-578-_jpg.rf.9ce3e6d74be26c40d1541ca5e783dc97.txt  \n",
      "  inflating: ./add_smoke_data/train/labels/image-58-_jpg.rf.6a2b66c088e2736d9870ea51d57d8e1d.txt  \n",
      "  inflating: ./add_smoke_data/train/labels/image-580-_jpg.rf.ed2e254e02e68533957e809c7b0dc7d2.txt  \n",
      "  inflating: ./add_smoke_data/train/labels/image-581-_jpg.rf.7d8d124bfa644c9c18d5319abc3a95d2.txt  \n",
      "  inflating: ./add_smoke_data/train/labels/image-582-_jpg.rf.859df1e0054545338b08fa7b68807765.txt  \n",
      "  inflating: ./add_smoke_data/train/labels/image-584-_jpg.rf.3ecb295fcae3007db956537dbf5d98e0.txt  \n",
      "  inflating: ./add_smoke_data/train/labels/image-586-_jpg.rf.bebab17fa046794789307c72971a2bbe.txt  \n",
      "  inflating: ./add_smoke_data/train/labels/image-587-_jpg.rf.8ec2e0c3abd38b1375a260ae00c6d380.txt  \n",
      "  inflating: ./add_smoke_data/train/labels/image-588-_jpg.rf.761ed20fe03be181617fe3462b5d15a8.txt  \n",
      "  inflating: ./add_smoke_data/train/labels/image-589-_jpg.rf.7fd8257dd318a7988787b1bff1e5406e.txt  \n",
      "  inflating: ./add_smoke_data/train/labels/image-59-_jpg.rf.222976c591c37d6188eece9992ee6064.txt  \n",
      "  inflating: ./add_smoke_data/train/labels/image-590-_jpg.rf.7603ffff0769d65415b3109036fdb552.txt  \n",
      "  inflating: ./add_smoke_data/train/labels/image-592-_jpg.rf.e7e67054bab8ec4c7f7d1b7253a15309.txt  \n",
      "  inflating: ./add_smoke_data/train/labels/image-594-_jpg.rf.9a07cc100f39e34c3c10137e31cac07f.txt  \n",
      "  inflating: ./add_smoke_data/train/labels/image-595-_jpg.rf.a88edb675665d07538ee68fac4897be1.txt  \n",
      "  inflating: ./add_smoke_data/train/labels/image-597-_jpg.rf.2bb6dcf032aa559c3de7538b715e35b6.txt  \n",
      "  inflating: ./add_smoke_data/train/labels/image-598-_jpg.rf.aa277473fd25b763aadce05f331d6db3.txt  \n",
      "  inflating: ./add_smoke_data/train/labels/image-6-_jpg.rf.16b06748e4f6da836db37870506e0893.txt  \n",
      "  inflating: ./add_smoke_data/train/labels/image-60-_jpg.rf.516534fa8a6db763bbbc565d6225f16d.txt  \n",
      "  inflating: ./add_smoke_data/train/labels/image-600-_jpg.rf.40b5035ea7be9b00f80297e2847bc7db.txt  \n",
      "  inflating: ./add_smoke_data/train/labels/image-601-_jpg.rf.2840ccf5d7208154ba70c1277029723f.txt  \n",
      "  inflating: ./add_smoke_data/train/labels/image-602-_jpg.rf.94d66803ee1c64ba6de5a47d55d720ae.txt  \n",
      "  inflating: ./add_smoke_data/train/labels/image-604-_jpg.rf.9c60661719e9e6a7a65114d853bb9eb3.txt  \n",
      "  inflating: ./add_smoke_data/train/labels/image-606-_jpg.rf.722e846a9a98efd3fa85d377b724a263.txt  \n",
      "  inflating: ./add_smoke_data/train/labels/image-609-_jpg.rf.8b1ee636fd8d9387374ab4491fa4cf92.txt  \n",
      "  inflating: ./add_smoke_data/train/labels/image-61-_jpg.rf.d09df4d0448274828a4242ed50777ba8.txt  \n",
      "  inflating: ./add_smoke_data/train/labels/image-612-_jpg.rf.3f096aec04a419a9efa398a5cd5c2202.txt  \n",
      "  inflating: ./add_smoke_data/train/labels/image-613-_jpg.rf.22b34736f53fdb9d1d99b40f9b0d9296.txt  \n",
      "  inflating: ./add_smoke_data/train/labels/image-615-_jpg.rf.5901d3fe4a362632f126ab6a2765600c.txt  \n",
      "  inflating: ./add_smoke_data/train/labels/image-616-_jpg.rf.f16a0f00433a5570ef7c6c77750a0555.txt  \n",
      "  inflating: ./add_smoke_data/train/labels/image-617-_jpg.rf.144b27ca473677d548912a6cef21b0f6.txt  \n",
      "  inflating: ./add_smoke_data/train/labels/image-618-_jpg.rf.b14db14b4e36113249e97d2ddc6ea9fd.txt  \n",
      "  inflating: ./add_smoke_data/train/labels/image-62-_jpg.rf.cebf2f898452a9caee14c8c6fa5c521c.txt  \n",
      "  inflating: ./add_smoke_data/train/labels/image-620-_jpg.rf.58a2175dba2addda9fca01855b59945e.txt  \n",
      "  inflating: ./add_smoke_data/train/labels/image-621-_jpg.rf.fbf72eb9d2a82063ce7194601abd65f7.txt  \n",
      "  inflating: ./add_smoke_data/train/labels/image-622-_jpg.rf.fe70e8a6865ed5d71ca41fd41b6dba7f.txt  \n",
      "  inflating: ./add_smoke_data/train/labels/image-623-_jpg.rf.469e546ae3d4f3029bed23fa2bc2da8c.txt  \n",
      "  inflating: ./add_smoke_data/train/labels/image-624-_jpg.rf.d6af55d021fc46e95d5cb9778aaf8749.txt  \n",
      "  inflating: ./add_smoke_data/train/labels/image-625-_jpg.rf.9a4fea46b36759e94f9f13368fcd3738.txt  \n",
      "  inflating: ./add_smoke_data/train/labels/image-626-_jpg.rf.b03fe40db425684fb2e567fae9e23b0e.txt  \n",
      "  inflating: ./add_smoke_data/train/labels/image-627-_jpg.rf.19139f8502135af0116ae5f2a2daff53.txt  \n",
      "  inflating: ./add_smoke_data/train/labels/image-628-_jpg.rf.c52c2891be6e34d0ccaba0e380854c07.txt  \n",
      "  inflating: ./add_smoke_data/train/labels/image-629-_jpg.rf.2e3cd6fc3f7a0818cb5b209371f6a4bc.txt  \n",
      "  inflating: ./add_smoke_data/train/labels/image-63-_jpg.rf.8d44985a0bb2ca08ff503b9e9df968ca.txt  \n",
      "  inflating: ./add_smoke_data/train/labels/image-630-_jpg.rf.f64c744b23eff5e72121a78019754bd9.txt  \n",
      "  inflating: ./add_smoke_data/train/labels/image-631-_jpg.rf.3ad36738c44c41788e31580624df21b9.txt  \n",
      "  inflating: ./add_smoke_data/train/labels/image-632-_jpg.rf.e75cd566cd75b6c4efb7284484a85202.txt  \n",
      "  inflating: ./add_smoke_data/train/labels/image-635-_jpg.rf.909329aff26fca0b84f19a0148672d78.txt  \n",
      "  inflating: ./add_smoke_data/train/labels/image-636-_jpg.rf.c0959b2371ee0097fa3583f1f69fe1e3.txt  \n",
      "  inflating: ./add_smoke_data/train/labels/image-637-_jpg.rf.5a9e3236655b26eb3d837fa7ca29bcc2.txt  \n",
      "  inflating: ./add_smoke_data/train/labels/image-638-_jpg.rf.fb610d31941f44f0d47cb70133031016.txt  \n",
      "  inflating: ./add_smoke_data/train/labels/image-64-_jpg.rf.d77f56d3a70c0a92ce7a151aedabdc7a.txt  \n",
      "  inflating: ./add_smoke_data/train/labels/image-640-_jpg.rf.1d045b27f43dea27a6b7d74a7c2a8c5c.txt  \n",
      "  inflating: ./add_smoke_data/train/labels/image-642-_jpg.rf.2a0b39e0e7c010183128229a3f7bbe52.txt  \n",
      "  inflating: ./add_smoke_data/train/labels/image-645-_jpg.rf.111d7cd0f48d1aa6500657c43cf2e70f.txt  \n",
      "  inflating: ./add_smoke_data/train/labels/image-646-_jpg.rf.40de2e2d0e1f8db61ac236c38740959d.txt  \n",
      "  inflating: ./add_smoke_data/train/labels/image-647-_jpg.rf.942ef58ea50ef03f488c03e42f758881.txt  \n",
      "  inflating: ./add_smoke_data/train/labels/image-649-_jpg.rf.5062a536de7e3432c28d8eb0d70cbc55.txt  \n",
      "  inflating: ./add_smoke_data/train/labels/image-650-_jpg.rf.28de0b36f1aace1de8406c14cf77548f.txt  \n",
      "  inflating: ./add_smoke_data/train/labels/image-651-_jpg.rf.2a7d0fadcac6ef60acfc4dbe40687674.txt  \n",
      "  inflating: ./add_smoke_data/train/labels/image-652-_jpg.rf.63bde4755efd7f9735fa333600921f7b.txt  \n",
      "  inflating: ./add_smoke_data/train/labels/image-653-_jpg.rf.22c265e781e79224eec07bc3117707f0.txt  \n",
      "  inflating: ./add_smoke_data/train/labels/image-654-_jpg.rf.5296137ad0cd2a769bf3e0a122f20634.txt  \n",
      "  inflating: ./add_smoke_data/train/labels/image-655-_jpg.rf.5dca9104cc3448b2757f2789aadc8af1.txt  \n",
      "  inflating: ./add_smoke_data/train/labels/image-656-_jpg.rf.cc03badbb64c3596abb38cd9569d96df.txt  \n",
      "  inflating: ./add_smoke_data/train/labels/image-658-_jpg.rf.7ed2a2d3901fd7e1cfe2721186079864.txt  \n",
      "  inflating: ./add_smoke_data/train/labels/image-659-_jpg.rf.bb8b27d744bd95473580c46a3f496db1.txt  \n",
      "  inflating: ./add_smoke_data/train/labels/image-66-_jpg.rf.cf06fa7d20f3c5e63adbea42856aacf7.txt  \n",
      "  inflating: ./add_smoke_data/train/labels/image-661-_jpg.rf.7f1ef20876b2d2c5a558f83358d62698.txt  \n",
      "  inflating: ./add_smoke_data/train/labels/image-662-_jpg.rf.86aaee7baf375d8abe7d9bde54992568.txt  \n",
      "  inflating: ./add_smoke_data/train/labels/image-665-_jpg.rf.6c9ef597b9c0279c26ef1d48d9c50029.txt  \n",
      "  inflating: ./add_smoke_data/train/labels/image-666-_jpg.rf.7eb66cf9ac42aacf98133f0718069ea9.txt  \n",
      "  inflating: ./add_smoke_data/train/labels/image-667-_jpg.rf.2f60943b1b5ac52d5b985cb1ef6d7bf3.txt  \n",
      "  inflating: ./add_smoke_data/train/labels/image-668-_jpg.rf.acb1b6c101be623857f58a062a072e20.txt  \n",
      "  inflating: ./add_smoke_data/train/labels/image-669-_jpg.rf.c19776242054fa7b94c8b177c900893d.txt  \n",
      "  inflating: ./add_smoke_data/train/labels/image-67-_jpg.rf.2457eca5f2606a0bf7d4feca83a62b85.txt  \n",
      "  inflating: ./add_smoke_data/train/labels/image-670-_jpg.rf.fde27c172e2a8f0192b794b244426568.txt  \n",
      "  inflating: ./add_smoke_data/train/labels/image-672-_jpg.rf.822dfe7cd7d12a5d20a2c4b93ee41d95.txt  \n",
      "  inflating: ./add_smoke_data/train/labels/image-673-_jpg.rf.e0b9754fa15bb72cabcf74968c846ca7.txt  \n",
      "  inflating: ./add_smoke_data/train/labels/image-674-_jpg.rf.eac1310df359732b4ea62a6a69d82bea.txt  \n",
      "  inflating: ./add_smoke_data/train/labels/image-675-_jpg.rf.9c37aa0a452ae12a5018d369ab831056.txt  \n",
      "  inflating: ./add_smoke_data/train/labels/image-676-_jpg.rf.74b948207b7e562b3d329f4560dbb93e.txt  \n",
      "  inflating: ./add_smoke_data/train/labels/image-677-_jpg.rf.c06cf9b6c8b4fa533ee6561d255a3778.txt  \n",
      "  inflating: ./add_smoke_data/train/labels/image-679-_jpg.rf.d6829fafe5fcc2db0041fd984720b6e0.txt  \n",
      "  inflating: ./add_smoke_data/train/labels/image-681-_jpg.rf.8f93ac2da09666e804f4b5e3b5cf34fd.txt  \n",
      "  inflating: ./add_smoke_data/train/labels/image-682-_jpg.rf.4537bbf1ff64e6fd4d3654de8ba991cf.txt  \n",
      "  inflating: ./add_smoke_data/train/labels/image-685-_jpg.rf.9f975c0fd1add6048fd565ee9c789eda.txt  \n",
      "  inflating: ./add_smoke_data/train/labels/image-689-_jpg.rf.7472bdf63f3f7101b4ec356da4384cff.txt  \n",
      "  inflating: ./add_smoke_data/train/labels/image-69-_jpg.rf.ebf173bb13ef23cf44c735113d4b9662.txt  \n",
      "  inflating: ./add_smoke_data/train/labels/image-691-_jpg.rf.151569cf31f33df470b6780b28927d92.txt  \n",
      "  inflating: ./add_smoke_data/train/labels/image-692-_jpg.rf.fada4beee34e3304ded43b15510ffb0f.txt  \n",
      "  inflating: ./add_smoke_data/train/labels/image-693-_jpg.rf.417b880021e5d8635d83d3d9cf1d3e0f.txt  \n",
      "  inflating: ./add_smoke_data/train/labels/image-695-_jpg.rf.960b90464933625aaa8fd4c8d77f5021.txt  \n",
      "  inflating: ./add_smoke_data/train/labels/image-696-_jpg.rf.3e3e0154a554df196ba24f7aac501f81.txt  \n",
      "  inflating: ./add_smoke_data/train/labels/image-698-_jpg.rf.baf4ba5842555b936946e23fda217516.txt  \n",
      "  inflating: ./add_smoke_data/train/labels/image-699-_jpg.rf.e3676db5864b5526646a72f3aa026c6b.txt  \n",
      "  inflating: ./add_smoke_data/train/labels/image-70-_jpg.rf.4500181fdd8cb1a4b16aad41cae72815.txt  \n",
      "  inflating: ./add_smoke_data/train/labels/image-700-_jpg.rf.770400ab320c58a2ab7f686ee686e29c.txt  \n",
      "  inflating: ./add_smoke_data/train/labels/image-701-_jpg.rf.fdae0e29da8029c29d5817cbfd1721cb.txt  \n",
      "  inflating: ./add_smoke_data/train/labels/image-702-_jpg.rf.2c42bbcc9b87d25c24cfb5cd72aa18a2.txt  \n",
      "  inflating: ./add_smoke_data/train/labels/image-703-_jpg.rf.7ca38ec02381f832ffdfdcef31b4c288.txt  \n",
      "  inflating: ./add_smoke_data/train/labels/image-704-_jpg.rf.93601a3820aa3d0cbae263ae8641ba0e.txt  \n",
      "  inflating: ./add_smoke_data/train/labels/image-705-_jpg.rf.260539ec5060c668a8c8b0ae64d52688.txt  \n",
      "  inflating: ./add_smoke_data/train/labels/image-706-_jpg.rf.36cd7b3a98aec3c352f3969e08905a1b.txt  \n",
      "  inflating: ./add_smoke_data/train/labels/image-707-_jpg.rf.672ba9b5b0db3791887e8c4cd266e861.txt  \n",
      "  inflating: ./add_smoke_data/train/labels/image-708-_jpg.rf.a14dd5b598ddbe59012371187cd3cb96.txt  \n",
      "  inflating: ./add_smoke_data/train/labels/image-71-_jpg.rf.22ba6e6dd9b3803aebf40673be13ba2a.txt  \n",
      "  inflating: ./add_smoke_data/train/labels/image-712-_jpg.rf.b19ece81704bb2c24c626a5f04b4b197.txt  \n",
      "  inflating: ./add_smoke_data/train/labels/image-713-_jpg.rf.dee35c5370a9d4893d4d6c07726be0d0.txt  \n",
      "  inflating: ./add_smoke_data/train/labels/image-715-_jpg.rf.3be95f371af8ac70d28ac05a54d71db2.txt  \n",
      "  inflating: ./add_smoke_data/train/labels/image-716-_jpg.rf.c3344ef654db09fc273528922df50b72.txt  \n",
      "  inflating: ./add_smoke_data/train/labels/image-717-_jpg.rf.1df3a7bc847d7a976c74ca2c0ee8cd7e.txt  \n",
      "  inflating: ./add_smoke_data/train/labels/image-718-_jpg.rf.c0b948cb00fe02b5498625e630455fc9.txt  \n",
      "  inflating: ./add_smoke_data/train/labels/image-72-_jpg.rf.4843f292f4bc9bb6d145514ffd1cc4fe.txt  \n",
      "  inflating: ./add_smoke_data/train/labels/image-720-_jpg.rf.0d00d5375c08639c7e3a09fec30f1646.txt  \n",
      "  inflating: ./add_smoke_data/train/labels/image-721-_jpg.rf.739c346dc2bee5497e4285da353927c8.txt  \n",
      "  inflating: ./add_smoke_data/train/labels/image-722-_jpg.rf.a07e28a26b3b3390da396cb59a43ab04.txt  \n",
      "  inflating: ./add_smoke_data/train/labels/image-723-_jpg.rf.85e6148ea01ccac2d70053837971efcc.txt  \n",
      "  inflating: ./add_smoke_data/train/labels/image-724-_jpg.rf.0809c25be5f713fe009417ee9e42d23d.txt  \n",
      "  inflating: ./add_smoke_data/train/labels/image-725-_jpg.rf.c906cb5021fff1579ffa9fd81dd74123.txt  \n",
      "  inflating: ./add_smoke_data/train/labels/image-726-_jpg.rf.256e726b30809374fd9cf7e89cce4b20.txt  \n",
      "  inflating: ./add_smoke_data/train/labels/image-727-_jpg.rf.2ed465543383ba7474110c6b7c5d1347.txt  \n",
      "  inflating: ./add_smoke_data/train/labels/image-729-_jpg.rf.73e9ca5984c2bed5e43db1c781ac2a1c.txt  \n",
      "  inflating: ./add_smoke_data/train/labels/image-73-_jpg.rf.c5ceb707ea6ea53058e96de093ee838f.txt  \n",
      "  inflating: ./add_smoke_data/train/labels/image-730-_jpg.rf.bb9e9ec058c5f30e7e04244d44c616ae.txt  \n",
      "  inflating: ./add_smoke_data/train/labels/image-731-_jpg.rf.2b272b6398294700cb3a2383949ac255.txt  \n",
      "  inflating: ./add_smoke_data/train/labels/image-734-_jpg.rf.afa4f5340b3e2881b901754ee6d09f90.txt  \n",
      "  inflating: ./add_smoke_data/train/labels/image-736-_jpg.rf.e0b191137e05373e0a09e63f059360de.txt  \n",
      "  inflating: ./add_smoke_data/train/labels/image-737-_jpg.rf.cadac9d956bd06b061189e3dc362463f.txt  \n",
      "  inflating: ./add_smoke_data/train/labels/image-739-_jpg.rf.b3d30057be9e7d83726daccbad349ee2.txt  \n",
      "  inflating: ./add_smoke_data/train/labels/image-740-_jpg.rf.41620b89b540f96bad5ec5e0edb1221b.txt  \n",
      "  inflating: ./add_smoke_data/train/labels/image-741-_jpg.rf.56a91acd1ed096925017f7018de1c364.txt  \n",
      "  inflating: ./add_smoke_data/train/labels/image-742-_jpg.rf.3b854ee51410f162701f29cfa06a226e.txt  \n",
      "  inflating: ./add_smoke_data/train/labels/image-743-_jpg.rf.bb534dd38b6468eb3b81850f6a9276b9.txt  \n",
      "  inflating: ./add_smoke_data/train/labels/image-746-_jpg.rf.dd6c4caa2b931dc970cabfe0c02f4892.txt  \n",
      "  inflating: ./add_smoke_data/train/labels/image-747-_jpg.rf.3beea770abd83e6f645bd28d47a0123d.txt  \n",
      "  inflating: ./add_smoke_data/train/labels/image-75-_jpg.rf.e7e5a3a0829a71e122fc74e14ad2ee59.txt  \n",
      "  inflating: ./add_smoke_data/train/labels/image-750-_jpg.rf.3b1615fc9f88a9ef2a52d6f1f7b112fa.txt  \n",
      "  inflating: ./add_smoke_data/train/labels/image-754-_jpg.rf.125a0b4d963b1a0b84c5b65d15f0f09e.txt  \n",
      "  inflating: ./add_smoke_data/train/labels/image-755-_jpg.rf.46e903f6e5600dfd548f7da8a4c629a5.txt  \n",
      "  inflating: ./add_smoke_data/train/labels/image-756-_jpg.rf.9bc7db519072e4cc77ac79f313f412a7.txt  \n",
      "  inflating: ./add_smoke_data/train/labels/image-757-_jpg.rf.864aff1e62c0a0df16349b9afe894661.txt  \n",
      "  inflating: ./add_smoke_data/train/labels/image-76-_jpg.rf.a133d226f543961a937acd1af3e4630b.txt  \n",
      "  inflating: ./add_smoke_data/train/labels/image-760-_jpg.rf.b7c23feb08986a2db8cdf1bab24cbd2c.txt  \n",
      "  inflating: ./add_smoke_data/train/labels/image-762-_jpg.rf.12703c96992230435d4628a2acdf06d0.txt  \n",
      "  inflating: ./add_smoke_data/train/labels/image-763-_jpg.rf.f77e28bbfce5333664449f745728dccb.txt  \n",
      "  inflating: ./add_smoke_data/train/labels/image-764-_jpg.rf.410b964348b932dd19e47804c864b648.txt  \n",
      "  inflating: ./add_smoke_data/train/labels/image-767-_jpg.rf.41301a6c6f0d68d8da3418278d5e6e2a.txt  \n",
      "  inflating: ./add_smoke_data/train/labels/image-768-_jpg.rf.71ddf6e524351928e135fbce6257c47c.txt  \n",
      "  inflating: ./add_smoke_data/train/labels/image-772-_jpg.rf.9d637e95a5527d092b4deafea8928e8c.txt  \n",
      "  inflating: ./add_smoke_data/train/labels/image-773-_jpg.rf.002b9142e764083a2f8d31b4c3615505.txt  \n",
      "  inflating: ./add_smoke_data/train/labels/image-775-_jpg.rf.cbb193703ecbae58c6a3d7bc8f97caed.txt  \n",
      "  inflating: ./add_smoke_data/train/labels/image-776-_jpg.rf.382c9f2bbccf7a8a2885cc96b34a78d0.txt  \n",
      "  inflating: ./add_smoke_data/train/labels/image-777-_jpg.rf.2d0c4006790f695113e1290ba12ab7d8.txt  \n",
      "  inflating: ./add_smoke_data/train/labels/image-78-_jpg.rf.871b5f94ee802b85e13eba9cc331f44f.txt  \n",
      "  inflating: ./add_smoke_data/train/labels/image-780-_jpg.rf.fddf797316be2696bb613c3955b6619f.txt  \n",
      "  inflating: ./add_smoke_data/train/labels/image-781-_jpg.rf.dd245955ecf53fe671d92ef1fba53fd5.txt  \n",
      "  inflating: ./add_smoke_data/train/labels/image-782-_jpg.rf.4b1d19a0bf7564f41e31b8aadeed7a21.txt  \n",
      "  inflating: ./add_smoke_data/train/labels/image-783-_jpg.rf.2d6cecc689c2dcbba6dadae530aa8e92.txt  \n",
      "  inflating: ./add_smoke_data/train/labels/image-784-_jpg.rf.b2ae1fc1884594f6781f907ec3111ac6.txt  \n",
      "  inflating: ./add_smoke_data/train/labels/image-786-_jpg.rf.e82663b2afa3ff47567a52244aadc1e0.txt  \n",
      "  inflating: ./add_smoke_data/train/labels/image-787-_jpg.rf.b9da8fab3d22ea897e1a5e99ed4fe17e.txt  \n",
      "  inflating: ./add_smoke_data/train/labels/image-788-_jpg.rf.82ff9a0f4764d40868ee34bd027d44b3.txt  \n",
      "  inflating: ./add_smoke_data/train/labels/image-789-_jpg.rf.60ad35c761c82cf83f7268cfc6ed8680.txt  \n",
      "  inflating: ./add_smoke_data/train/labels/image-79-_jpg.rf.bd944ae0f45e488dc925ea3f83013e45.txt  \n",
      "  inflating: ./add_smoke_data/train/labels/image-791-_jpg.rf.497fc1b0f043801cb75aa4f500f9f73f.txt  \n",
      "  inflating: ./add_smoke_data/train/labels/image-793-_jpg.rf.2036d8cc62158c89282f514e8aabcdbc.txt  \n",
      "  inflating: ./add_smoke_data/train/labels/image-794-_jpg.rf.ea7d64a3665ddafde46882a9d360208d.txt  \n",
      "  inflating: ./add_smoke_data/train/labels/image-795-_jpg.rf.00a396e1b3ad1dab4f31f06c18223abe.txt  \n",
      "  inflating: ./add_smoke_data/train/labels/image-796-_jpg.rf.c9417372b66daf3cfbe1cb9b438fa6bc.txt  \n",
      "  inflating: ./add_smoke_data/train/labels/image-798-_jpg.rf.f9292e57af5f324a7e672ad7670d1f96.txt  \n",
      "  inflating: ./add_smoke_data/train/labels/image-799-_jpg.rf.14fb9266a34e115fad8611324b4bcfe1.txt  \n",
      "  inflating: ./add_smoke_data/train/labels/image-8-_jpg.rf.54899819c57b508b76e679a720380d76.txt  \n",
      "  inflating: ./add_smoke_data/train/labels/image-800-_jpg.rf.75a58bc639ec385b213df4983415b315.txt  \n",
      "  inflating: ./add_smoke_data/train/labels/image-801-_jpg.rf.f9bec67e4c127261ccb44dee6c3b0202.txt  \n",
      "  inflating: ./add_smoke_data/train/labels/image-804-_jpg.rf.197e81c0ecf1237439d20a3458a0f228.txt  \n",
      "  inflating: ./add_smoke_data/train/labels/image-805-_jpg.rf.27a72d6f7d4f784aac06b7c4afac71f8.txt  \n",
      "  inflating: ./add_smoke_data/train/labels/image-806-_jpg.rf.725e814ae0d3758252045c38d95c3269.txt  \n",
      "  inflating: ./add_smoke_data/train/labels/image-807-_jpg.rf.ab198e7907485ffebd03aab0b81ab413.txt  \n",
      "  inflating: ./add_smoke_data/train/labels/image-808-_jpg.rf.01ccf3e05348d57c733b6d0c09a90fb0.txt  \n",
      "  inflating: ./add_smoke_data/train/labels/image-809-_jpg.rf.3e25386acb3846a5b0f0042ef8a148d5.txt  \n",
      "  inflating: ./add_smoke_data/train/labels/image-81-_jpg.rf.3566b7d5e2d6dc00e704c77bae93345c.txt  \n",
      "  inflating: ./add_smoke_data/train/labels/image-810-_jpg.rf.12bb2a748574464f00b15d7f5cf8ded5.txt  \n",
      "  inflating: ./add_smoke_data/train/labels/image-812-_jpg.rf.2cf643d98f39886519ffe58e2e1af3bb.txt  \n",
      "  inflating: ./add_smoke_data/train/labels/image-813-_jpg.rf.8a2a9f0387b51f70c842843adc3c5b47.txt  \n",
      "  inflating: ./add_smoke_data/train/labels/image-815-_jpg.rf.ab68f1f98cf08b1e2f95233ec15a11ba.txt  \n",
      "  inflating: ./add_smoke_data/train/labels/image-817-_jpg.rf.9642790b12ffb7b42d29cf1a4055fefd.txt  \n",
      "  inflating: ./add_smoke_data/train/labels/image-819-_jpg.rf.7a10711a6e6ffcd99cf70c915ced0834.txt  \n",
      "  inflating: ./add_smoke_data/train/labels/image-82-_jpg.rf.696d78b7ed913719d54729a50b7089e2.txt  \n",
      "  inflating: ./add_smoke_data/train/labels/image-821-_jpg.rf.f46ed0f6a09cac3a40f9529992fd94b4.txt  \n",
      "  inflating: ./add_smoke_data/train/labels/image-822-_jpg.rf.c51a516969e3c8157cba5a3158c4775a.txt  \n",
      "  inflating: ./add_smoke_data/train/labels/image-823-_jpg.rf.811ca355f48642f45aa53e2e714be8db.txt  \n",
      "  inflating: ./add_smoke_data/train/labels/image-824-_jpg.rf.e84d3dd4ec48536d59867fe93614ac46.txt  \n",
      "  inflating: ./add_smoke_data/train/labels/image-825-_jpg.rf.fe9ff661a3c2413fb24f8e9ffc4c4811.txt  \n",
      "  inflating: ./add_smoke_data/train/labels/image-826-_jpg.rf.162ebb9e3d954e5beff36dcf353da284.txt  \n",
      "  inflating: ./add_smoke_data/train/labels/image-827-_jpg.rf.60264ac4aadedc8a621998e61089c60d.txt  \n",
      "  inflating: ./add_smoke_data/train/labels/image-828-_jpg.rf.aa91972035c7b91d43582439f06b5959.txt  \n",
      "  inflating: ./add_smoke_data/train/labels/image-829-_jpg.rf.adda057a7bd6b1ca3af9348d0a408673.txt  \n",
      "  inflating: ./add_smoke_data/train/labels/image-83-_jpg.rf.7f7840114698c457a817f13220cd193e.txt  \n",
      "  inflating: ./add_smoke_data/train/labels/image-830-_jpg.rf.6b33e7501a94c2113bfbb7b2284729da.txt  \n",
      "  inflating: ./add_smoke_data/train/labels/image-832-_jpg.rf.9f80d7d2ac09a54f8e10ce7091fb01f1.txt  \n",
      "  inflating: ./add_smoke_data/train/labels/image-833-_jpg.rf.d6651c9105295371ec71ddb467a559ac.txt  \n",
      "  inflating: ./add_smoke_data/train/labels/image-834-_jpg.rf.3181e3bbbad3201d58bbac772eb44bc2.txt  \n",
      "  inflating: ./add_smoke_data/train/labels/image-835-_jpg.rf.506732d90fd558061c19a4a87331a008.txt  \n",
      "  inflating: ./add_smoke_data/train/labels/image-836-_jpg.rf.7e6204e366ef33445577bbc4e05db405.txt  \n",
      "  inflating: ./add_smoke_data/train/labels/image-837-_jpg.rf.330e8ef587756a3722490834544f4e85.txt  \n",
      "  inflating: ./add_smoke_data/train/labels/image-839-_jpg.rf.c5eebb1aeb071ddc2994a0386a390a48.txt  \n",
      "  inflating: ./add_smoke_data/train/labels/image-84-_jpg.rf.c5e37c6f1431d7e230379acd5bd1f9c4.txt  \n",
      "  inflating: ./add_smoke_data/train/labels/image-840-_jpg.rf.120ea1c4700ba7b29ae6c4576def53cb.txt  \n",
      "  inflating: ./add_smoke_data/train/labels/image-841-_jpg.rf.56dff906d1d0197d5d734d3ab5d9b043.txt  \n",
      "  inflating: ./add_smoke_data/train/labels/image-842-_jpg.rf.067129432b73b1002e5296aa06ef1ac1.txt  \n",
      "  inflating: ./add_smoke_data/train/labels/image-844-_jpg.rf.ebe811b68b78e5640816d027c0315f1d.txt  \n",
      "  inflating: ./add_smoke_data/train/labels/image-845-_jpg.rf.248cc00f112b2e5d94a97dbbeb8e3f7d.txt  \n",
      "  inflating: ./add_smoke_data/train/labels/image-847-_jpg.rf.8a91c9ae5ff0ebad458268d5c22e7424.txt  \n",
      "  inflating: ./add_smoke_data/train/labels/image-848-_jpg.rf.0442b327fea1f859053baa84edb7e036.txt  \n",
      "  inflating: ./add_smoke_data/train/labels/image-849-_jpg.rf.1768d3e61cde684fdb6904e64a98242a.txt  \n",
      "  inflating: ./add_smoke_data/train/labels/image-85-_jpg.rf.47d17e614c2619a5c172cc8ba191f00a.txt  \n",
      "  inflating: ./add_smoke_data/train/labels/image-850-_jpg.rf.d19cc419b663a749a2c6b57c2f726646.txt  \n",
      "  inflating: ./add_smoke_data/train/labels/image-851-_jpg.rf.49a0ccd3ed17858a8576ef516d07abc9.txt  \n",
      "  inflating: ./add_smoke_data/train/labels/image-852-_jpg.rf.90876eaba3fedff08ace64ec588000c0.txt  \n",
      "  inflating: ./add_smoke_data/train/labels/image-853-_jpg.rf.d90d349e43e52cbfa4e33af7dae00260.txt  \n",
      "  inflating: ./add_smoke_data/train/labels/image-854-_jpg.rf.5d0ededf2190dd5bf1c03cb871742c3c.txt  \n",
      "  inflating: ./add_smoke_data/train/labels/image-855-_jpg.rf.8906970ac4646ee80d8502ec8fa272a0.txt  \n",
      "  inflating: ./add_smoke_data/train/labels/image-856-_jpg.rf.ff577edcf28a2431dc929ecdd584362a.txt  \n",
      "  inflating: ./add_smoke_data/train/labels/image-857-_jpg.rf.6635d4ee228d420f482a195900e9c327.txt  \n",
      "  inflating: ./add_smoke_data/train/labels/image-858-_jpg.rf.7d8bef63bb1d2aef76c47029f7da5e8a.txt  \n",
      "  inflating: ./add_smoke_data/train/labels/image-86-_jpg.rf.0cac7b13150a00babd171a7425713c01.txt  \n",
      "  inflating: ./add_smoke_data/train/labels/image-860-_jpg.rf.a960145edd5b00148406935176b38a27.txt  \n",
      "  inflating: ./add_smoke_data/train/labels/image-861-_jpg.rf.cc03d9a9b96a9f8d0d9b90363097c4d8.txt  \n",
      "  inflating: ./add_smoke_data/train/labels/image-862-_jpg.rf.68d29a43f29351ff9a6bc3e94b3e9564.txt  \n",
      "  inflating: ./add_smoke_data/train/labels/image-865-_jpg.rf.0c5e098e725de0ba257c5193e61a7943.txt  \n",
      "  inflating: ./add_smoke_data/train/labels/image-867-_jpg.rf.70e8175b7125e28e9fefc82c51e72ca0.txt  \n",
      "  inflating: ./add_smoke_data/train/labels/image-868-_jpg.rf.aa53b0e603b995e5ce40b0037818081a.txt  \n",
      "  inflating: ./add_smoke_data/train/labels/image-870-_jpg.rf.0442f7ca0bdc0a7d9b53d3232a3a5050.txt  \n",
      "  inflating: ./add_smoke_data/train/labels/image-871-_jpg.rf.5f8f5405a0ae555bd1910a31e6b5c9c0.txt  \n",
      "  inflating: ./add_smoke_data/train/labels/image-874-_jpg.rf.66ab6628abc6482513e2cd44ba3d8e5a.txt  \n",
      "  inflating: ./add_smoke_data/train/labels/image-875-_jpg.rf.5d584d98c0e9708be0bb36b6bf495cd8.txt  \n",
      "  inflating: ./add_smoke_data/train/labels/image-876-_jpg.rf.0038fc119f83c36531a7598e5280b3e6.txt  \n",
      "  inflating: ./add_smoke_data/train/labels/image-877-_jpg.rf.45089f0cca82c187c519773cb1892b2f.txt  \n",
      "  inflating: ./add_smoke_data/train/labels/image-878-_jpg.rf.ac25330dfd21b544a379af2493109d45.txt  \n",
      "  inflating: ./add_smoke_data/train/labels/image-880-_jpg.rf.6fbb1cfa76502aa3b60ddcb1ff0f0f10.txt  \n",
      "  inflating: ./add_smoke_data/train/labels/image-881-_jpg.rf.c7833f81022cd99c1ad1e0d372035824.txt  \n",
      "  inflating: ./add_smoke_data/train/labels/image-882-_jpg.rf.7c2af791e0f722c00e4343dab609b2e0.txt  \n",
      "  inflating: ./add_smoke_data/train/labels/image-883-_jpg.rf.f52ca6827eca970f522bb693f14afecf.txt  \n",
      "  inflating: ./add_smoke_data/train/labels/image-884-_jpg.rf.4831e6d131976c47d8c8847044ec007e.txt  \n",
      "  inflating: ./add_smoke_data/train/labels/image-885-_jpg.rf.f3deed5101166104b449705f457c9f17.txt  \n",
      "  inflating: ./add_smoke_data/train/labels/image-886-_jpg.rf.4c202daa08dc7e7c1be32d9dda1fe1db.txt  \n",
      "  inflating: ./add_smoke_data/train/labels/image-887-_jpg.rf.a93b05dda8094c5592b5b818686ef8c6.txt  \n",
      "  inflating: ./add_smoke_data/train/labels/image-888-_jpg.rf.7a0cbdc9c5ec006a633a3fba3bfd44bb.txt  \n",
      "  inflating: ./add_smoke_data/train/labels/image-889-_jpg.rf.7c1776d2bb91e013ac9e7a4f8de7f3d3.txt  \n",
      "  inflating: ./add_smoke_data/train/labels/image-89-_jpg.rf.444cf0da0cbb07f7e77cdc1e318ec14f.txt  \n",
      "  inflating: ./add_smoke_data/train/labels/image-890-_jpg.rf.b6e1a7bd81b9c4f9e46d59d67349733c.txt  \n",
      "  inflating: ./add_smoke_data/train/labels/image-891-_jpg.rf.0abff9c0b51c676652bb708699caf7ae.txt  \n",
      "  inflating: ./add_smoke_data/train/labels/image-892-_jpg.rf.d9a67efacfd0c33723f65e71d49a57ea.txt  \n",
      "  inflating: ./add_smoke_data/train/labels/image-893-_jpg.rf.c5122703ee318b83edb18fb636a3e333.txt  \n",
      "  inflating: ./add_smoke_data/train/labels/image-894-_jpg.rf.e679b04b922c5796376f9e7dd7e75fd1.txt  \n",
      "  inflating: ./add_smoke_data/train/labels/image-895-_jpg.rf.bce5f3cee17b9b3bbb814ec412dc86e6.txt  \n",
      "  inflating: ./add_smoke_data/train/labels/image-898-_jpg.rf.7969c0a2416745e3dd75b700cd67202c.txt  \n",
      "  inflating: ./add_smoke_data/train/labels/image-899-_jpg.rf.65d55df6c7e2b6153604bc577064535e.txt  \n",
      "  inflating: ./add_smoke_data/train/labels/image-9-_jpg.rf.ce9a920a02bfdc873260603a58e2ac6a.txt  \n",
      "  inflating: ./add_smoke_data/train/labels/image-90-_jpg.rf.b5023bcd9412595893155e4f1bee3bb9.txt  \n",
      "  inflating: ./add_smoke_data/train/labels/image-902-_jpg.rf.be8b950f8255567c6c4170f2b72b8ec4.txt  \n",
      "  inflating: ./add_smoke_data/train/labels/image-903-_jpg.rf.178e02914ba33c877a4b627af5c4e6af.txt  \n",
      "  inflating: ./add_smoke_data/train/labels/image-905-_jpg.rf.555a404b19086be87f77ae692af8d3dc.txt  \n",
      "  inflating: ./add_smoke_data/train/labels/image-906-_jpg.rf.84819dfadddd2c04a0630941ed63f835.txt  \n",
      "  inflating: ./add_smoke_data/train/labels/image-907-_jpg.rf.66ac9a96c25e046435196c21b8f09ecc.txt  \n",
      "  inflating: ./add_smoke_data/train/labels/image-908-_jpg.rf.93553199e45bf79fd3b9fa29096ee7c6.txt  \n",
      "  inflating: ./add_smoke_data/train/labels/image-909-_jpg.rf.2a1f5bdae50bc22f21cc24ac3bcc74ef.txt  \n",
      "  inflating: ./add_smoke_data/train/labels/image-91-_jpg.rf.5496fc28f7995f96355f235e35a11e55.txt  \n",
      "  inflating: ./add_smoke_data/train/labels/image-910-_jpg.rf.f43eaad2376ea44cfff4e6a9f43b5c43.txt  \n",
      "  inflating: ./add_smoke_data/train/labels/image-911-_jpg.rf.bbc155566d80508cbc45d50d5abafef2.txt  \n",
      "  inflating: ./add_smoke_data/train/labels/image-913-_jpg.rf.54683ed1a7827b8fa5d45062d48a8176.txt  \n",
      "  inflating: ./add_smoke_data/train/labels/image-914-_jpg.rf.d479ec40268b6488f3b5f35b833559ee.txt  \n",
      "  inflating: ./add_smoke_data/train/labels/image-915-_jpg.rf.55c094dddae04a813bed4e90f9d1acb3.txt  \n",
      "  inflating: ./add_smoke_data/train/labels/image-916-_jpg.rf.26578684b3b0df04673dff8ad72dc047.txt  \n",
      "  inflating: ./add_smoke_data/train/labels/image-917-_jpg.rf.27aae727513ebdb5c38bfdb287432212.txt  \n",
      "  inflating: ./add_smoke_data/train/labels/image-918-_jpg.rf.cbbb722a0f8b220ab6b58945920b2407.txt  \n",
      "  inflating: ./add_smoke_data/train/labels/image-919-_jpg.rf.068113b82d25f512ed6461bacc852eb6.txt  \n",
      "  inflating: ./add_smoke_data/train/labels/image-92-_jpg.rf.3fa7b00dbed8ed9eb2e1dd31fed54f14.txt  \n",
      "  inflating: ./add_smoke_data/train/labels/image-920-_jpg.rf.eb8979ab230bad9a038b5c5aa772555b.txt  \n",
      "  inflating: ./add_smoke_data/train/labels/image-921-_jpg.rf.f92adb8d5c87d5b5026f5a76c5529277.txt  \n",
      "  inflating: ./add_smoke_data/train/labels/image-922-_jpg.rf.c1fb8236c23378ce5e06adc577fd1f78.txt  \n",
      "  inflating: ./add_smoke_data/train/labels/image-923-_jpg.rf.8997376e812bcfdd120f5e677b883dcd.txt  \n",
      "  inflating: ./add_smoke_data/train/labels/image-924-_jpg.rf.1ae4bd4e1a0d007dd3471b82ba92b65a.txt  \n",
      "  inflating: ./add_smoke_data/train/labels/image-925-_jpg.rf.359dc585598ffbfe70fcd485e10e77e3.txt  \n",
      "  inflating: ./add_smoke_data/train/labels/image-926-_jpg.rf.4ee4beed666f7007ebd5a250d3b90fcf.txt  \n",
      "  inflating: ./add_smoke_data/train/labels/image-928-_jpg.rf.9c6e86ba76a4877faf4e5db280f22aed.txt  \n",
      "  inflating: ./add_smoke_data/train/labels/image-930-_jpg.rf.fc15d942c709be719afa9a8553b9de9d.txt  \n",
      "  inflating: ./add_smoke_data/train/labels/image-931-_jpg.rf.ea73f2be2605cc17c581bc43a9dc720f.txt  \n",
      "  inflating: ./add_smoke_data/train/labels/image-932-_jpg.rf.687cee56581e208cf9b24e252a724181.txt  \n",
      "  inflating: ./add_smoke_data/train/labels/image-933-_jpg.rf.fab459e1af7f169c883dbcd6a273c179.txt  \n",
      "  inflating: ./add_smoke_data/train/labels/image-934-_jpg.rf.d716525ee0e4be097f0c1a1042509562.txt  \n",
      "  inflating: ./add_smoke_data/train/labels/image-935-_jpg.rf.bf58c708f60d80fbeb73fc3f86759522.txt  \n",
      "  inflating: ./add_smoke_data/train/labels/image-936-_jpg.rf.e2b9eb5757881c310dfdc801b1305001.txt  \n",
      "  inflating: ./add_smoke_data/train/labels/image-937-_jpg.rf.03f71b420d96befa44612bfb07b7e903.txt  \n",
      "  inflating: ./add_smoke_data/train/labels/image-939-_jpg.rf.d47df02771f1b71d8902238b9ea3eb96.txt  \n",
      "  inflating: ./add_smoke_data/train/labels/image-94-_jpg.rf.7ad210f17158b30bae1ec253a5ef223a.txt  \n",
      "  inflating: ./add_smoke_data/train/labels/image-940-_jpg.rf.7237ad2e0c128b93a51ab53f92e70469.txt  \n",
      "  inflating: ./add_smoke_data/train/labels/image-941-_jpg.rf.afc50a8cf8f57603973d93336c5b240b.txt  \n",
      "  inflating: ./add_smoke_data/train/labels/image-942-_jpg.rf.516e9ae9f90020697629240ace660495.txt  \n",
      "  inflating: ./add_smoke_data/train/labels/image-943-_jpg.rf.dc54e2b33df17a775cb0463ad0d02795.txt  \n",
      "  inflating: ./add_smoke_data/train/labels/image-944-_jpg.rf.c61b715a123023e399f4a45443a18619.txt  \n",
      "  inflating: ./add_smoke_data/train/labels/image-945-_jpg.rf.a7f1488d13d5299c11452536093d6e05.txt  \n",
      "  inflating: ./add_smoke_data/train/labels/image-948-_jpg.rf.cfbe1657732e1797d005157bfe0a64e1.txt  \n",
      "  inflating: ./add_smoke_data/train/labels/image-949-_jpg.rf.80e1e35ce190335e1fb8fe376e4e647e.txt  \n",
      "  inflating: ./add_smoke_data/train/labels/image-950-_jpg.rf.4a3ff224eb79dc4dd4a10bb0f625fdb8.txt  \n",
      "  inflating: ./add_smoke_data/train/labels/image-951-_jpg.rf.c9caca724352082575f48688f8824cfd.txt  \n",
      "  inflating: ./add_smoke_data/train/labels/image-952-_jpg.rf.d28087a8f701025d4f4e4c2d78ff3cd0.txt  \n",
      "  inflating: ./add_smoke_data/train/labels/image-953-_jpg.rf.bd8f3b8e39332b1bba7a0eedbcb5cd03.txt  \n",
      "  inflating: ./add_smoke_data/train/labels/image-955-_jpg.rf.fa4611152e6b05f1d767d49a8997db4c.txt  \n",
      "  inflating: ./add_smoke_data/train/labels/image-956-_jpg.rf.2c2d72e21ed99924081a7b2f2da5fc9c.txt  \n",
      "  inflating: ./add_smoke_data/train/labels/image-957-_jpg.rf.b35b7acdd0e2c98ca17b6415b2ea19c7.txt  \n",
      "  inflating: ./add_smoke_data/train/labels/image-958-_jpg.rf.01f5706e384827213d0ee13394f5f32e.txt  \n",
      "  inflating: ./add_smoke_data/train/labels/image-959-_jpg.rf.c60a0d03bd0672d418e5b649995c733e.txt  \n",
      "  inflating: ./add_smoke_data/train/labels/image-96-_jpg.rf.99912df1f6baa4ea1ce55db6424083c5.txt  \n",
      "  inflating: ./add_smoke_data/train/labels/image-960-_jpg.rf.94962b177da82849502b612bab4cb364.txt  \n",
      "  inflating: ./add_smoke_data/train/labels/image-963-_jpg.rf.82692f7843c743083cc964c271965121.txt  \n",
      "  inflating: ./add_smoke_data/train/labels/image-964-_jpg.rf.c03e4a576a13e4c7e540a40900463653.txt  \n",
      "  inflating: ./add_smoke_data/train/labels/image-965-_jpg.rf.37f6dd3b16bfedb14c9585f3c2db290b.txt  \n",
      "  inflating: ./add_smoke_data/train/labels/image-967-_jpg.rf.c84f91222893f6b949093f9468071ed4.txt  \n",
      "  inflating: ./add_smoke_data/train/labels/image-968-_jpg.rf.dd1ad4f3c6ab9c92ad5eba3d044eda99.txt  \n",
      "  inflating: ./add_smoke_data/train/labels/image-969-_jpg.rf.dea62dd1a64b68a5de98d180ff925e8a.txt  \n",
      "  inflating: ./add_smoke_data/train/labels/image-97-_jpg.rf.487c4e4e909403310f66e1e9121ca274.txt  \n",
      "  inflating: ./add_smoke_data/train/labels/image-970-_jpg.rf.60163e6fec36bc17c1a03f62064974ab.txt  \n",
      "  inflating: ./add_smoke_data/train/labels/image-972-_jpg.rf.ef9833b7be9001d52fe2cf5c568d747c.txt  \n",
      "  inflating: ./add_smoke_data/train/labels/image-974-_jpg.rf.5d760bf2fb32190a4dd1cbe98b457d37.txt  \n",
      "  inflating: ./add_smoke_data/train/labels/image-975-_jpg.rf.377568ee31031601c7bddd713b4eaa2a.txt  \n",
      "  inflating: ./add_smoke_data/train/labels/image-98-_jpg.rf.8d2250fa7911d5bb4bfa8849da71d6f6.txt  \n",
      "  inflating: ./add_smoke_data/train/labels/image-99-_jpg.rf.2c3f5874a8aee7680471f088055347ba.txt  \n",
      "  inflating: ./add_smoke_data/train/labels/images4-1-_jpg.rf.2e6b8668ca234ab6ef3544bac707ea80.txt  \n",
      "  inflating: ./add_smoke_data/train/labels/images4-10-_jpg.rf.790b9fcf2c59be2b3d6a3f2333a66bc8.txt  \n",
      "  inflating: ./add_smoke_data/train/labels/images4-100-_jpg.rf.d50fa9600439f66e6176a474549e8924.txt  \n",
      "  inflating: ./add_smoke_data/train/labels/images4-101-_jpg.rf.e3456f0e66a721e44725c605676ee079.txt  \n",
      "  inflating: ./add_smoke_data/train/labels/images4-102-_jpg.rf.2e06f7da4aec67cf0fb52953eef3a267.txt  \n",
      "  inflating: ./add_smoke_data/train/labels/images4-103-_jpg.rf.9cc3c4d2a673ba477ffd6bc6b9197149.txt  \n",
      "  inflating: ./add_smoke_data/train/labels/images4-104-_jpg.rf.b3bccbb0bcb1f5848c66b46d2aaf59df.txt  \n",
      "  inflating: ./add_smoke_data/train/labels/images4-106-_jpg.rf.8a6e9a9d0bf3691f4fdbb9b53bfd9c4f.txt  \n",
      "  inflating: ./add_smoke_data/train/labels/images4-107-_jpg.rf.d3a4f1a3a7567401991e1b592f1e1acd.txt  \n",
      "  inflating: ./add_smoke_data/train/labels/images4-109-_jpg.rf.03ffb680ca83ce4f1125dd1c5d77f2d8.txt  \n",
      "  inflating: ./add_smoke_data/train/labels/images4-110-_jpg.rf.1bbe3bd83ddea37a2a5b81f83785cf2c.txt  \n",
      "  inflating: ./add_smoke_data/train/labels/images4-112-_jpg.rf.306555f66e83263b169ba075f7ace12e.txt  \n",
      "  inflating: ./add_smoke_data/train/labels/images4-113-_jpg.rf.62d94098a00be47ca77a0c5d5730df43.txt  \n",
      "  inflating: ./add_smoke_data/train/labels/images4-114-_jpg.rf.e1b3bf1462f0099b4a65f5458726dc4b.txt  \n",
      "  inflating: ./add_smoke_data/train/labels/images4-116-_jpg.rf.db229001f38e34a06abc3b0dab414650.txt  \n",
      "  inflating: ./add_smoke_data/train/labels/images4-118-_jpg.rf.37fa2db48a07ccb5138589a26610e459.txt  \n",
      "  inflating: ./add_smoke_data/train/labels/images4-12-_jpg.rf.2b78ece90baa1ec2c83c3cf2bcf388a3.txt  \n",
      "  inflating: ./add_smoke_data/train/labels/images4-120-_jpg.rf.646cf1bc5ba0d8e42ac57571978e4f9f.txt  \n",
      "  inflating: ./add_smoke_data/train/labels/images4-122-_jpg.rf.55eb687252066d2f26b0f23b0e02ac1b.txt  \n",
      "  inflating: ./add_smoke_data/train/labels/images4-123-_jpg.rf.97f440ee8b0520be7b4a78c40deacac5.txt  \n",
      "  inflating: ./add_smoke_data/train/labels/images4-125-_jpg.rf.92574f18c45574f64304594041504219.txt  \n",
      "  inflating: ./add_smoke_data/train/labels/images4-126-_jpg.rf.20233cb2ca51a5c5d101422b50f71776.txt  \n",
      "  inflating: ./add_smoke_data/train/labels/images4-127-_jpg.rf.118f320219c59b70a3fea8a6c15e339e.txt  \n",
      "  inflating: ./add_smoke_data/train/labels/images4-129-_jpg.rf.58ad64b2cf2ffd6769f525cdcf7b7abd.txt  \n",
      "  inflating: ./add_smoke_data/train/labels/images4-13-_jpg.rf.6b4285d4b49df29b73eeadc615cf23ed.txt  \n",
      "  inflating: ./add_smoke_data/train/labels/images4-130-_jpg.rf.6c79b64dfbb369709456abe63c069b0b.txt  \n",
      "  inflating: ./add_smoke_data/train/labels/images4-131-_jpg.rf.12138f8f531226915f9dd35834043813.txt  \n",
      "  inflating: ./add_smoke_data/train/labels/images4-132-_jpg.rf.a7ddebc81994ed6b0637909807d97f91.txt  \n",
      "  inflating: ./add_smoke_data/train/labels/images4-133-_jpg.rf.9d8993ec457dd8aef6cf2ad0f9d629c0.txt  \n",
      "  inflating: ./add_smoke_data/train/labels/images4-134-_jpg.rf.0ce1c0349510315531213197bcb82d3b.txt  \n",
      "  inflating: ./add_smoke_data/train/labels/images4-135-_jpg.rf.bc325bac39d6bf1c6cfaf1f3f7b0e282.txt  \n",
      "  inflating: ./add_smoke_data/train/labels/images4-136-_jpg.rf.785a683180a655382a96a5f082104333.txt  \n",
      "  inflating: ./add_smoke_data/train/labels/images4-137-_jpg.rf.efc564f5c7cd970bbfadc3978907f916.txt  \n",
      "  inflating: ./add_smoke_data/train/labels/images4-138-_jpg.rf.ce8b034d9991a7f268f0616d3211f573.txt  \n",
      "  inflating: ./add_smoke_data/train/labels/images4-14-_jpg.rf.6fe5087abc693424331a0548faef59cb.txt  \n",
      "  inflating: ./add_smoke_data/train/labels/images4-140-_jpg.rf.b947b25757615fd55bbe83bb8319e38a.txt  \n",
      "  inflating: ./add_smoke_data/train/labels/images4-141-_jpg.rf.57e3b3454cf51780d76d5268f23431ff.txt  \n",
      "  inflating: ./add_smoke_data/train/labels/images4-142-_jpg.rf.49fb810df36f138d93ab7622ab8e24d6.txt  \n",
      "  inflating: ./add_smoke_data/train/labels/images4-143-_jpg.rf.93d68d2b6bb746b78928940776b5cc4a.txt  \n",
      "  inflating: ./add_smoke_data/train/labels/images4-144-_jpg.rf.b416454fc55e565135a924f30f76e5ad.txt  \n",
      "  inflating: ./add_smoke_data/train/labels/images4-145-_jpg.rf.6aaeac554131648fcba440e5faa5d694.txt  \n",
      "  inflating: ./add_smoke_data/train/labels/images4-146-_jpg.rf.2bc752f0a0df552126678d13c43c9a2d.txt  \n",
      "  inflating: ./add_smoke_data/train/labels/images4-147-_jpg.rf.a28f0a33af4b5567cdc221354786a0fb.txt  \n",
      "  inflating: ./add_smoke_data/train/labels/images4-148-_jpg.rf.d1f607726ef51ac443adda3a4635ab0d.txt  \n",
      "  inflating: ./add_smoke_data/train/labels/images4-149-_jpg.rf.9c6631d46587ad71e88dc59a967ece3e.txt  \n",
      "  inflating: ./add_smoke_data/train/labels/images4-15-_jpg.rf.72e2db43e9100454686e9da21353f4df.txt  \n",
      "  inflating: ./add_smoke_data/train/labels/images4-150-_jpg.rf.e122b40c903e946a97851269e406676e.txt  \n",
      "  inflating: ./add_smoke_data/train/labels/images4-151-_jpg.rf.56afd0da0835b9bfe1693cb326191661.txt  \n",
      "  inflating: ./add_smoke_data/train/labels/images4-152-_jpg.rf.403aec4148fe822fb34d34eb9da6b9fe.txt  \n",
      "  inflating: ./add_smoke_data/train/labels/images4-153-_jpg.rf.5781aa3fefce11cf5bb98a5f86dae305.txt  \n",
      "  inflating: ./add_smoke_data/train/labels/images4-154-_jpg.rf.0d3607eecbfa830b96b7a6beae4ef696.txt  \n",
      "  inflating: ./add_smoke_data/train/labels/images4-155-_jpg.rf.456083a411d2c7c98b607c35005eea75.txt  \n",
      "  inflating: ./add_smoke_data/train/labels/images4-157-_jpg.rf.ab31ab7bffb5b01750a04c7673bca017.txt  \n",
      "  inflating: ./add_smoke_data/train/labels/images4-16-_jpg.rf.044149ed6866860bf94622aab571048d.txt  \n",
      "  inflating: ./add_smoke_data/train/labels/images4-160-_jpg.rf.20def2cb622b787dfc3581de21e6e8ba.txt  \n",
      "  inflating: ./add_smoke_data/train/labels/images4-161-_jpg.rf.f8657677db659100407ce3de618b5094.txt  \n",
      "  inflating: ./add_smoke_data/train/labels/images4-162-_jpg.rf.c16cc59dc673b37b9027bc5ec4a31f1c.txt  \n",
      "  inflating: ./add_smoke_data/train/labels/images4-164-_jpg.rf.3210ab5e640dff88f62a9f82a2e001a9.txt  \n",
      "  inflating: ./add_smoke_data/train/labels/images4-165-_jpg.rf.163f6a0c1bc2c41467f292c48a368ecc.txt  \n",
      "  inflating: ./add_smoke_data/train/labels/images4-166-_jpg.rf.f3b1b8768006b10529f8a42328f97259.txt  \n",
      "  inflating: ./add_smoke_data/train/labels/images4-167-_jpg.rf.c396c0019aacf45bf2ac02efea7e0685.txt  \n",
      "  inflating: ./add_smoke_data/train/labels/images4-168-_jpg.rf.f4048a0f42f7c78cf3f04bc71f68adcc.txt  \n",
      "  inflating: ./add_smoke_data/train/labels/images4-169-_jpg.rf.5a09afe212a52cef6f5aae0bf3674bc9.txt  \n",
      "  inflating: ./add_smoke_data/train/labels/images4-17-_jpg.rf.33726e8e3cebaa90bb35f8ebaad0188e.txt  \n",
      "  inflating: ./add_smoke_data/train/labels/images4-170-_jpg.rf.9f2c03fa48a15e961a54e238d90c34fe.txt  \n",
      "  inflating: ./add_smoke_data/train/labels/images4-172-_jpg.rf.baa5d422ec940e4cf6e2cf19e65be160.txt  \n",
      "  inflating: ./add_smoke_data/train/labels/images4-173-_jpg.rf.392a921918ee94798d9fdbc0c7d2a933.txt  \n",
      "  inflating: ./add_smoke_data/train/labels/images4-174-_jpg.rf.1af24779892c8fa66e429639c705a510.txt  \n",
      "  inflating: ./add_smoke_data/train/labels/images4-175-_jpg.rf.fdbf6e1a32716ac05897229f9ae5c965.txt  \n",
      "  inflating: ./add_smoke_data/train/labels/images4-178-_jpg.rf.ca7dffa1427e549bf9c38c57c7f2facc.txt  \n",
      "  inflating: ./add_smoke_data/train/labels/images4-179-_jpg.rf.54ef5b0364038967f5f74757c6f37ae8.txt  \n",
      "  inflating: ./add_smoke_data/train/labels/images4-19-_jpg.rf.70b1e2cea00723541378277422eb8b03.txt  \n",
      "  inflating: ./add_smoke_data/train/labels/images4-2-_jpg.rf.03204270c6cedcc135453e5f9920d92f.txt  \n",
      "  inflating: ./add_smoke_data/train/labels/images4-20-_jpg.rf.4f91440914d342ff7897e5f714b13cd8.txt  \n",
      "  inflating: ./add_smoke_data/train/labels/images4-21-_jpg.rf.14da1eacb5fd7e83a23a438a15d96484.txt  \n",
      "  inflating: ./add_smoke_data/train/labels/images4-22-_jpg.rf.5eb379068abdcea75969a15121581679.txt  \n",
      "  inflating: ./add_smoke_data/train/labels/images4-23-_jpg.rf.871618ad8875d0e19e269c10217354ab.txt  \n",
      "  inflating: ./add_smoke_data/train/labels/images4-25-_jpg.rf.b63b73eda6475a5a5875cb125c6614f0.txt  \n",
      "  inflating: ./add_smoke_data/train/labels/images4-26-_jpg.rf.0097e790cf6b92b6a9ae997cf954ff84.txt  \n",
      "  inflating: ./add_smoke_data/train/labels/images4-27-_jpg.rf.6f823202a12ef5c5e3bd8b031970f412.txt  \n",
      "  inflating: ./add_smoke_data/train/labels/images4-28-_jpg.rf.02b044ec23b9b34b110b48d76b2ea9e3.txt  \n",
      "  inflating: ./add_smoke_data/train/labels/images4-29-_jpg.rf.42f25687c0da91546994ae009f1adb9b.txt  \n",
      "  inflating: ./add_smoke_data/train/labels/images4-30-_jpg.rf.d9a51feab50b18b9f574655e99eb5a45.txt  \n",
      "  inflating: ./add_smoke_data/train/labels/images4-31-_jpg.rf.62b57333346d69f1fd30b46230c44f68.txt  \n",
      "  inflating: ./add_smoke_data/train/labels/images4-32-_jpg.rf.0a02e06412ac61a1ce4b6d4696ec562a.txt  \n",
      "  inflating: ./add_smoke_data/train/labels/images4-34-_jpg.rf.796b1dbbec255b91a9819dc901f43b30.txt  \n",
      "  inflating: ./add_smoke_data/train/labels/images4-35-_jpg.rf.8da5873d918619839302b57196548c7e.txt  \n",
      "  inflating: ./add_smoke_data/train/labels/images4-36-_jpg.rf.6e4a7aa610a41e7289d4178f47caf8d4.txt  \n",
      "  inflating: ./add_smoke_data/train/labels/images4-37-_jpg.rf.439796d493cf40ee650017ab2914715f.txt  \n",
      "  inflating: ./add_smoke_data/train/labels/images4-38-_jpg.rf.105bea059024682be87f781ed2d41f39.txt  \n",
      "  inflating: ./add_smoke_data/train/labels/images4-39-_jpg.rf.fa370ea3b2be575416ca94ad21684db8.txt  \n",
      "  inflating: ./add_smoke_data/train/labels/images4-4-_jpg.rf.0c24d55a5fbe6b545a30ed19610e3f16.txt  \n",
      "  inflating: ./add_smoke_data/train/labels/images4-40-_jpg.rf.c4384c33984bedfa9c4c82a96eed5324.txt  \n",
      "  inflating: ./add_smoke_data/train/labels/images4-41-_jpg.rf.241782e074d488390398a400182d11ea.txt  \n",
      "  inflating: ./add_smoke_data/train/labels/images4-42-_jpg.rf.946570c7077db880fd0554a1ac8cf2a4.txt  \n",
      "  inflating: ./add_smoke_data/train/labels/images4-44-_jpg.rf.fde9e89988007c6bc5b6bd2776d3db8d.txt  \n",
      "  inflating: ./add_smoke_data/train/labels/images4-45-_jpg.rf.5a4ebb0a1bddc91ece7ff0c0291b25b1.txt  \n",
      "  inflating: ./add_smoke_data/train/labels/images4-46-_jpg.rf.16cfb422cca4404f0fab238dab6c7ccf.txt  \n",
      "  inflating: ./add_smoke_data/train/labels/images4-47-_jpg.rf.a82ec2d8f1b8e210d5845064c56eac73.txt  \n",
      "  inflating: ./add_smoke_data/train/labels/images4-5-_jpg.rf.1d36fba9272572b9c69d7f940fdda1e5.txt  \n",
      "  inflating: ./add_smoke_data/train/labels/images4-50-_jpg.rf.fa006529aa3d68d78c9c774442f384ab.txt  \n",
      "  inflating: ./add_smoke_data/train/labels/images4-51-_jpg.rf.2980f97cbcf9bd4122c22fdbba7ff20f.txt  \n",
      "  inflating: ./add_smoke_data/train/labels/images4-52-_jpg.rf.8a3adb672598ab015b71f12a54560e8f.txt  \n",
      "  inflating: ./add_smoke_data/train/labels/images4-55-_jpg.rf.c1c6746d9a20fd3de1b678ecb157897b.txt  \n",
      "  inflating: ./add_smoke_data/train/labels/images4-56-_jpg.rf.0cebe067be2335ed8fd3cd0c43bc5a09.txt  \n",
      "  inflating: ./add_smoke_data/train/labels/images4-57-_jpg.rf.b7ffbcfc69d333f518e352f1dfbc1aca.txt  \n",
      "  inflating: ./add_smoke_data/train/labels/images4-6-_jpg.rf.7b644e674c53e329093f9ff10d84cf46.txt  \n",
      "  inflating: ./add_smoke_data/train/labels/images4-60-_jpg.rf.8404d32644d933ddd47dbdc589bd8da8.txt  \n",
      "  inflating: ./add_smoke_data/train/labels/images4-62-_jpg.rf.bb88b95b0c084418af1f65dfd9caa3e4.txt  \n",
      "  inflating: ./add_smoke_data/train/labels/images4-63-_jpg.rf.27c90f4557ca11ef6c7d7b29862b5be7.txt  \n",
      "  inflating: ./add_smoke_data/train/labels/images4-64-_jpg.rf.3e7cf12eed91910d5b65b4ff81db81af.txt  \n",
      "  inflating: ./add_smoke_data/train/labels/images4-65-_jpg.rf.2beb56c7d9135c8f62546c93344bdc95.txt  \n",
      "  inflating: ./add_smoke_data/train/labels/images4-68-_jpg.rf.d1203165414742b6e2c77c8c1f63112a.txt  \n",
      "  inflating: ./add_smoke_data/train/labels/images4-69-_jpg.rf.8de5564cd99a1fa2ffb4a99875501cf0.txt  \n",
      "  inflating: ./add_smoke_data/train/labels/images4-7-_jpg.rf.b1eaa4889fd0775c7792e5cd862e2baa.txt  \n",
      "  inflating: ./add_smoke_data/train/labels/images4-70-_jpg.rf.539149bb37dbe484dfebb44505c0863a.txt  \n",
      "  inflating: ./add_smoke_data/train/labels/images4-71-_jpg.rf.992fdb569b01d4fdeff05a7cb7832aa6.txt  \n",
      "  inflating: ./add_smoke_data/train/labels/images4-72-_jpg.rf.ba6f943d631d0166cd87e766d0dbae8f.txt  \n",
      "  inflating: ./add_smoke_data/train/labels/images4-73-_jpg.rf.3da7c3078bc8a70293ccb6cc48df2d21.txt  \n",
      "  inflating: ./add_smoke_data/train/labels/images4-74-_jpg.rf.021020c85317df4ae87c83392497b0aa.txt  \n",
      "  inflating: ./add_smoke_data/train/labels/images4-75-_jpg.rf.c860fd5456f0eacdc88a83ef5b56e999.txt  \n",
      "  inflating: ./add_smoke_data/train/labels/images4-77-_jpg.rf.8b65d82b9c62c504aae1baefb0bbf383.txt  \n",
      "  inflating: ./add_smoke_data/train/labels/images4-79-_jpg.rf.457a0eb7f9122b95778b8cbefe8883dd.txt  \n",
      "  inflating: ./add_smoke_data/train/labels/images4-8-_jpg.rf.17a916aa91a5805f0941ba3c44152606.txt  \n",
      "  inflating: ./add_smoke_data/train/labels/images4-80-_jpg.rf.570d00960ecb00e56f8647890d816568.txt  \n",
      "  inflating: ./add_smoke_data/train/labels/images4-81-_jpg.rf.4ca0d4f5c971ca848f185cd0e2ca18d7.txt  \n",
      "  inflating: ./add_smoke_data/train/labels/images4-82-_jpg.rf.3c31f0ce879fd3f7b4daa884916c0d16.txt  \n",
      "  inflating: ./add_smoke_data/train/labels/images4-83-_jpg.rf.e9d8120092a0633e968b7433aeb71591.txt  \n",
      "  inflating: ./add_smoke_data/train/labels/images4-84-_jpg.rf.7e6f258b1f037f3f07eed9223dcaf183.txt  \n",
      "  inflating: ./add_smoke_data/train/labels/images4-85-_jpg.rf.1cb075fcb7373079cfe470bb1978c747.txt  \n",
      "  inflating: ./add_smoke_data/train/labels/images4-86-_jpg.rf.6928bd0767a5145b9f9085931c8b9a97.txt  \n",
      "  inflating: ./add_smoke_data/train/labels/images4-87-_jpg.rf.55d5fd28ed55b79aece41004a6ecb3a0.txt  \n",
      "  inflating: ./add_smoke_data/train/labels/images4-89-_jpg.rf.60ac6044ffd3e96e19cc79daddf6dbc1.txt  \n",
      "  inflating: ./add_smoke_data/train/labels/images4-9-_jpg.rf.45e1ed5ad93ed02e2d3a3427b01706c5.txt  \n",
      "  inflating: ./add_smoke_data/train/labels/images4-90-_jpg.rf.00225e7053b3e18432ee5b74f6f1862e.txt  \n",
      "  inflating: ./add_smoke_data/train/labels/images4-92-_jpg.rf.249e85aacd1e425e76888960dd6ad966.txt  \n",
      "  inflating: ./add_smoke_data/train/labels/images4-93-_jpg.rf.9a8f60d05d9652dfd11a770dba9c395a.txt  \n",
      "  inflating: ./add_smoke_data/train/labels/images4-95-_jpg.rf.73cf892ba918e40dc8c7fe3434ef754e.txt  \n",
      "  inflating: ./add_smoke_data/train/labels/images4-96-_jpg.rf.c6c4cf92b0b7d312c7bf3c437130588a.txt  \n",
      "  inflating: ./add_smoke_data/train/labels/images4-97-_jpg.rf.9b431f5d05fb1645b90d338073e2dbfd.txt  \n",
      "  inflating: ./add_smoke_data/train/labels/images4-98-_jpg.rf.cc98c3ac8920228405f7e6600676e800.txt  \n",
      "  inflating: ./add_smoke_data/train/labels/images4-99-_jpg.rf.d997f6cf119de4e9d7b26f624067eaf5.txt  \n",
      "  inflating: ./add_smoke_data/train/labels/L_00477_png.rf.1ca417c571c8c9d51d8d08bee3c9d6d4.txt  \n",
      "  inflating: ./add_smoke_data/train/labels/L_00477_png.rf.3a180f297fe29e5fc32bd79bf9571e46.txt  \n",
      "  inflating: ./add_smoke_data/train/labels/L_00511_png.rf.91851caa7264f41ad4a149388bf097c5.txt  \n",
      "  inflating: ./add_smoke_data/train/labels/L_00511_png.rf.cdf27ed45450084263367c9aca378cb8.txt  \n",
      "  inflating: ./add_smoke_data/train/labels/L_00729_png.rf.4fa97e7b9a044f2f102cf79947a7d5e0.txt  \n",
      "  inflating: ./add_smoke_data/train/labels/L_00729_png.rf.92278f9be873504c5883d8725161788c.txt  \n",
      "  inflating: ./add_smoke_data/train/labels/L_00729_png.rf.f7862f299d80725cf78ffa9e896a053c.txt  \n",
      "  inflating: ./add_smoke_data/train/labels/L_00841_png.rf.1201976359003b976015236c17e60c3b.txt  \n",
      "  inflating: ./add_smoke_data/train/labels/L_00841_png.rf.33cb4ab671393a9fadd4b863b45fce64.txt  \n",
      "  inflating: ./add_smoke_data/train/labels/L_00841_png.rf.b6627bceabd5db422fee0ed5830a69b3.txt  \n",
      "  inflating: ./add_smoke_data/train/labels/L_00975_png.rf.2b2182bc51c8f322084126178f1f01d5.txt  \n",
      "  inflating: ./add_smoke_data/train/labels/L_00975_png.rf.909760491f51789ea0c83c6f83df7582.txt  \n",
      "  inflating: ./add_smoke_data/train/labels/L_00975_png.rf.b2c76f56657a2c9be687801f6de3e4b4.txt  \n",
      "  inflating: ./add_smoke_data/train/labels/L_01064_png.rf.149aae081d6b67d0725a9a5ce9a5d50d.txt  \n",
      "  inflating: ./add_smoke_data/train/labels/L_01064_png.rf.d0cf156cf773179f04c6b987622b3d5e.txt  \n",
      "  inflating: ./add_smoke_data/train/labels/L_01118_png.rf.2add029ab041f7b635c70a901c170ced.txt  \n",
      "  inflating: ./add_smoke_data/train/labels/L_01118_png.rf.7faf829a332c431c2d2603cedad38890.txt  \n",
      "  inflating: ./add_smoke_data/train/labels/L_01118_png.rf.9f2ade512429085b7cdf69198c24be1b.txt  \n",
      "  inflating: ./add_smoke_data/train/labels/L_01371_png.rf.10a43881c187684905e65168d01380d2.txt  \n",
      "  inflating: ./add_smoke_data/train/labels/L_01371_png.rf.25ce98901238a0e32df4cf2f7ac83011.txt  \n",
      "  inflating: ./add_smoke_data/train/labels/L_01379_png.rf.48cf5f719a42bc357b73b364af5facff.txt  \n",
      "  inflating: ./add_smoke_data/train/labels/L_01379_png.rf.689865575e8fbdf0acc4802aab1d7b78.txt  \n",
      "  inflating: ./add_smoke_data/train/labels/L_01379_png.rf.adb362741d593e68ae57dea62ba4a5de.txt  \n",
      "  inflating: ./add_smoke_data/train/labels/L_01596_png.rf.23b3daa92e7255ca9e32f905af2953be.txt  \n",
      "  inflating: ./add_smoke_data/train/labels/L_01596_png.rf.557e3c87f7983ddc1e6abc5a604a4206.txt  \n",
      "  inflating: ./add_smoke_data/train/labels/L_01805_png.rf.4117b5200239510ffb84279d1f59e487.txt  \n",
      "  inflating: ./add_smoke_data/train/labels/L_01805_png.rf.a057acacf4a5c1471c9749b345bb2f51.txt  \n",
      "  inflating: ./add_smoke_data/train/labels/L_01805_png.rf.bb70399f05a3b704c2cd63961a01c622.txt  \n",
      "  inflating: ./add_smoke_data/train/labels/L_01825_png.rf.38a06cf6d2c06f7b4ac6386675def9b4.txt  \n",
      "  inflating: ./add_smoke_data/train/labels/L_01825_png.rf.4a644022571ecad7df27edd2c1232e2f.txt  \n",
      "  inflating: ./add_smoke_data/train/labels/L_01839_png.rf.6853908aef84515ac18e13652901d0e3.txt  \n",
      "  inflating: ./add_smoke_data/train/labels/L_01839_png.rf.97642b42a80447dc9cf2bdd2ed1a2d1a.txt  \n",
      "  inflating: ./add_smoke_data/train/labels/L_01839_png.rf.b2ca05ba808e8559eb5e950f41223cfc.txt  \n",
      "  inflating: ./add_smoke_data/train/labels/L_01852_png.rf.27740e82a87ef61dba2e9cbe41d70d99.txt  \n",
      "  inflating: ./add_smoke_data/train/labels/L_01852_png.rf.c43bfcca374af0c16b9d4007ef29e7ec.txt  \n",
      "  inflating: ./add_smoke_data/train/labels/L_02246_png.rf.4a978419d95b9ce9c74949d00fd758c1.txt  \n",
      "  inflating: ./add_smoke_data/train/labels/L_02246_png.rf.576b9bcc87e73fa3cb26c4f4964f785c.txt  \n",
      "  inflating: ./add_smoke_data/train/labels/L_02246_png.rf.c799dd599cca29065270e4e52fe11d1e.txt  \n",
      "  inflating: ./add_smoke_data/train/labels/L_02338_png.rf.150d41522a68e70e25b33c1dc46be1e8.txt  \n",
      "  inflating: ./add_smoke_data/train/labels/L_02338_png.rf.1f5fdab9a8138124387feba459169419.txt  \n",
      "  inflating: ./add_smoke_data/train/labels/L_02380_png.rf.8ad5c5c404825b420e963113f0565b11.txt  \n",
      "  inflating: ./add_smoke_data/train/labels/L_02380_png.rf.a465d6d5426e37c6a6bf836b12492576.txt  \n",
      "  inflating: ./add_smoke_data/train/labels/L_02710_png.rf.8244cec85d685ecb6b21bb6e348e45e8.txt  \n",
      "  inflating: ./add_smoke_data/train/labels/L_02710_png.rf.bec06a04a068100115a1f8973656a9fa.txt  \n",
      "  inflating: ./add_smoke_data/train/labels/L_02710_png.rf.c1a0facde54a388a4145b6b6b70b5190.txt  \n",
      "  inflating: ./add_smoke_data/train/labels/L_03066_png.rf.0e343fb2e0ba2bfec4f86cee4efc7f3e.txt  \n",
      "  inflating: ./add_smoke_data/train/labels/L_03066_png.rf.a66610925c41120d702d2bf0dedd347a.txt  \n",
      "  inflating: ./add_smoke_data/train/labels/L_03266_png.rf.446eaae169ec9b94a8cb586180095773.txt  \n",
      "  inflating: ./add_smoke_data/train/labels/L_03266_png.rf.ae3507fa87feadeba884900a261e6728.txt  \n",
      "  inflating: ./add_smoke_data/train/labels/L_03266_png.rf.c3a23e5fba66c8f23a1d2e8af6e1e87a.txt  \n",
      "  inflating: ./add_smoke_data/train/labels/L_03381_png.rf.41fdb6a548e049cc8ff3db6ee0dd0db2.txt  \n",
      "  inflating: ./add_smoke_data/train/labels/L_03381_png.rf.ba1e0ec0b2e5677b9d63b1b6bcf2d43d.txt  \n",
      "  inflating: ./add_smoke_data/train/labels/L_03589_png.rf.0e00c9f31c60b69bd5bc206fe2ecc5a1.txt  \n",
      "  inflating: ./add_smoke_data/train/labels/L_03589_png.rf.597fb8791efadacf43085083f560e2eb.txt  \n",
      "  inflating: ./add_smoke_data/train/labels/L_03632_png.rf.2ef10ce01258a07256d7a5238fe1ec5e.txt  \n",
      "  inflating: ./add_smoke_data/train/labels/L_03632_png.rf.dbd91fd192742f886ab1ddfc67313b34.txt  \n",
      "  inflating: ./add_smoke_data/train/labels/L_03785_png.rf.bf82de95151fcdd11fd3a0f0941112a0.txt  \n",
      "  inflating: ./add_smoke_data/train/labels/L_03785_png.rf.ea6f9076669e92c8408fd0511e54363f.txt  \n",
      "  inflating: ./add_smoke_data/train/labels/L_03795_png.rf.75f38da975f5186dc41b9e3b22c5ead0.txt  \n",
      "  inflating: ./add_smoke_data/train/labels/L_03795_png.rf.a41e5699a6350f5e4cc2ed866fbd0f4f.txt  \n",
      "  inflating: ./add_smoke_data/train/labels/L_03838_png.rf.1d87282140f981efe1bab340374b8d33.txt  \n",
      "  inflating: ./add_smoke_data/train/labels/L_03925_png.rf.0cba56bab16f9941e7dc06225f3fc810.txt  \n",
      "  inflating: ./add_smoke_data/train/labels/L_03925_png.rf.224b8ab594f333c1f6d073a799d2d955.txt  \n",
      "  inflating: ./add_smoke_data/train/labels/L_03925_png.rf.cde23e2cdcc6c7d37558e485e31aee51.txt  \n",
      "  inflating: ./add_smoke_data/train/labels/L_04017_png.rf.3b565bad3c9249d3e6f79717d529e288.txt  \n",
      "  inflating: ./add_smoke_data/train/labels/L_04017_png.rf.7b76baf63e0e0e1eef037477327c1666.txt  \n",
      "  inflating: ./add_smoke_data/train/labels/L_04071_png.rf.102b85a3afc395ca35f4e7994befde58.txt  \n",
      "  inflating: ./add_smoke_data/train/labels/L_04071_png.rf.bdc136c89c62abeda9d99d4f7f40a683.txt  \n",
      "  inflating: ./add_smoke_data/train/labels/L_04342_png.rf.0eabcc88c3fff0a4de7ac042d19a6e87.txt  \n",
      "  inflating: ./add_smoke_data/train/labels/L_04342_png.rf.2ac0e68ce7e0aaaead74b500d023c7a6.txt  \n",
      "  inflating: ./add_smoke_data/train/labels/L_04369_png.rf.02f1d9fc4ee8ae27a17e1944f9afb909.txt  \n",
      "  inflating: ./add_smoke_data/train/labels/L_04369_png.rf.98b789850fc8adb3b3785433b5d56467.txt  \n",
      "  inflating: ./add_smoke_data/train/labels/L_04369_png.rf.fac297feebc74ae85245bc29938de69d.txt  \n",
      "  inflating: ./add_smoke_data/train/labels/L_04407_png.rf.9f00a8004523cb65651205c812b3e2c9.txt  \n",
      "  inflating: ./add_smoke_data/train/labels/L_04407_png.rf.d6cda255fb550207b37d361a7a9e9c71.txt  \n",
      "  inflating: ./add_smoke_data/train/labels/L_04783_png.rf.1bc38f6e87fafef96fe37c1fdf0f0654.txt  \n",
      "  inflating: ./add_smoke_data/train/labels/L_04783_png.rf.22cd3b32ab11b6886695b6690727a64e.txt  \n",
      "  inflating: ./add_smoke_data/train/labels/L_04783_png.rf.3a69188b5e2ea19e733e2a71c677869e.txt  \n",
      "  inflating: ./add_smoke_data/train/labels/L_04836_png.rf.6f28b25323f02ccadd9d2d2bdbb46b07.txt  \n",
      "  inflating: ./add_smoke_data/train/labels/L_04836_png.rf.d12563fadb0a15565657958a33c18c72.txt  \n",
      "  inflating: ./add_smoke_data/train/labels/L_04836_png.rf.fd8c018fbfbd8e3e796601d405dd3377.txt  \n",
      "  inflating: ./add_smoke_data/train/labels/L_04862_png.rf.7c2ac410e9bf7b62c9cd84e660fa26c9.txt  \n",
      "  inflating: ./add_smoke_data/train/labels/L_04862_png.rf.82d41bf399b2d9f69dfd905eac833f39.txt  \n",
      "  inflating: ./add_smoke_data/train/labels/L_04862_png.rf.a5d99c47a1bb64e68a0a106b409f6bd6.txt  \n",
      "  inflating: ./add_smoke_data/train/labels/M_00147_png.rf.6c96cad098bcd7c2bf12b657bcabf9d9.txt  \n",
      "  inflating: ./add_smoke_data/train/labels/M_00147_png.rf.894e7a85a49bc5c5ecb368f71e2f1ce1.txt  \n",
      "  inflating: ./add_smoke_data/train/labels/M_00259_png.rf.1662a3f643082bb83260269dae4ada93.txt  \n",
      "  inflating: ./add_smoke_data/train/labels/M_00259_png.rf.445048c104c5fa97c583d8daffecd20e.txt  \n",
      "  inflating: ./add_smoke_data/train/labels/M_00259_png.rf.e2d7571e3b24c1bcf877dc87ef30dfe6.txt  \n",
      "  inflating: ./add_smoke_data/train/labels/M_00629_png.rf.4d7cff1db92b54ae12f6fffdbe1003a8.txt  \n",
      "  inflating: ./add_smoke_data/train/labels/M_00629_png.rf.f188a40499f7bd570d7dcbc62fa0c17c.txt  \n",
      "  inflating: ./add_smoke_data/train/labels/M_00815_png.rf.94c821776cb8f15cc5a9a8568d7a72f8.txt  \n",
      "  inflating: ./add_smoke_data/train/labels/M_01584_png.rf.316f78c45c7fd9ed266d0bb20e3af5c7.txt  \n",
      "  inflating: ./add_smoke_data/train/labels/M_01584_png.rf.58891b4d3d678a26231616757c4a04eb.txt  \n",
      "  inflating: ./add_smoke_data/train/labels/M_01617_png.rf.478fb2c4464a86609f291bcf470831df.txt  \n",
      "  inflating: ./add_smoke_data/train/labels/M_01617_png.rf.aae1b4700ba4ea2cdf63a59b5a06d13e.txt  \n",
      "  inflating: ./add_smoke_data/train/labels/M_01647_png.rf.612182e8e847cb0e1f28c4fc6491edbe.txt  \n",
      "  inflating: ./add_smoke_data/train/labels/M_01647_png.rf.ee8582f15aabf2682bebebe921d8a7e2.txt  \n",
      "  inflating: ./add_smoke_data/train/labels/M_01939_png.rf.5ae57ad816c1e7f5a5b8cde33494fbd4.txt  \n",
      "  inflating: ./add_smoke_data/train/labels/M_01939_png.rf.dd128b13ea3995a70f86689876a3e261.txt  \n",
      "  inflating: ./add_smoke_data/train/labels/M_01939_png.rf.edaa1ae6a46af4cf428b18e425663741.txt  \n",
      "  inflating: ./add_smoke_data/train/labels/M_02072_png.rf.7e6f33e7677af7ed224fc65604d0444e.txt  \n",
      "  inflating: ./add_smoke_data/train/labels/M_02072_png.rf.a4fb346ec82ecf91dab2c7cff6de7d3a.txt  \n",
      "  inflating: ./add_smoke_data/train/labels/M_02122_png.rf.345efea82f425c8628c214ee620819e3.txt  \n",
      "  inflating: ./add_smoke_data/train/labels/M_02149_png.rf.c56ae313fa3532341a3b322f286e5a3e.txt  \n",
      "  inflating: ./add_smoke_data/train/labels/M_02149_png.rf.cdaccc0d2411d4248f1fb92c336fc189.txt  \n",
      "  inflating: ./add_smoke_data/train/labels/M_02209_png.rf.2318cf8e1718f99e2bb73b18e31b69d0.txt  \n",
      "  inflating: ./add_smoke_data/train/labels/M_02209_png.rf.f47ff3778050176f659986d7050dfbf5.txt  \n",
      "  inflating: ./add_smoke_data/train/labels/M_02271_png.rf.5e31c0ac813f807ff87f3401ba6fe481.txt  \n",
      "  inflating: ./add_smoke_data/train/labels/M_02477_png.rf.21c4b1eacaf951ead1630988fd4cc4f9.txt  \n",
      "  inflating: ./add_smoke_data/train/labels/M_02477_png.rf.fbaba2593874f101c51651418e84a35e.txt  \n",
      "  inflating: ./add_smoke_data/train/labels/M_02512_png.rf.4afdfa5ee39f044147950430bec38c72.txt  \n",
      "  inflating: ./add_smoke_data/train/labels/M_02512_png.rf.55a6ba178bb70ead7ea3cc9feafab5b5.txt  \n",
      "  inflating: ./add_smoke_data/train/labels/M_02523_png.rf.ac61af204e8edd79730fb2cb208a3d94.txt  \n",
      "  inflating: ./add_smoke_data/train/labels/M_02523_png.rf.e45a09eaf14abfa7b87d539e333566c1.txt  \n",
      "  inflating: ./add_smoke_data/train/labels/M_02711_png.rf.37779db23004aa8e70a074ecde935f73.txt  \n",
      "  inflating: ./add_smoke_data/train/labels/M_02711_png.rf.abc42223feeb3f788e5a8f725b65dfc8.txt  \n",
      "  inflating: ./add_smoke_data/train/labels/M_02800_png.rf.0422476f33b53e84f31167a290c64cbf.txt  \n",
      "  inflating: ./add_smoke_data/train/labels/M_02800_png.rf.181368e31eea7ce291da38b3c0ac1d5c.txt  \n",
      "  inflating: ./add_smoke_data/train/labels/M_02800_png.rf.7f1b51cf1d4a43f82bd695d7a2767f58.txt  \n",
      "  inflating: ./add_smoke_data/train/labels/M_03116_png.rf.335aad185c633e4a9feec9c4f417642a.txt  \n",
      "  inflating: ./add_smoke_data/train/labels/M_03116_png.rf.5d5e410b3b15c79e3351cd7c53f62cf0.txt  \n",
      "  inflating: ./add_smoke_data/train/labels/M_03116_png.rf.a46bfec461147a6e80d0ac4c10bccd26.txt  \n",
      "  inflating: ./add_smoke_data/train/labels/M_03169_png.rf.2cb621cec30687cf9483a48718481d38.txt  \n",
      "  inflating: ./add_smoke_data/train/labels/M_03169_png.rf.6b9147920726dc2f4d1d42739bebc098.txt  \n",
      "  inflating: ./add_smoke_data/train/labels/M_03169_png.rf.6f5d6ba4052c6a1d3a6013be57f0be0c.txt  \n",
      "  inflating: ./add_smoke_data/train/labels/M_03198_png.rf.174e63618ab3f8fa9a0ca57a759be47e.txt  \n",
      "  inflating: ./add_smoke_data/train/labels/M_03198_png.rf.a0257c221f7ef2700683bd9a6b2b1928.txt  \n",
      "  inflating: ./add_smoke_data/train/labels/M_03198_png.rf.a51077f48f72831134a0a1397ee4e01c.txt  \n",
      "  inflating: ./add_smoke_data/train/labels/M_03253_png.rf.5beaf4e5594e166691d0d5ec4c2b407b.txt  \n",
      "  inflating: ./add_smoke_data/train/labels/M_03253_png.rf.6683e406bdd31494f34d96a84d0877c1.txt  \n",
      "  inflating: ./add_smoke_data/train/labels/M_03253_png.rf.8490528938a4b51529f40ea8b81205a9.txt  \n",
      "  inflating: ./add_smoke_data/train/labels/M_03461_png.rf.03f75fc42e5ac7ba52ed0a7334e2b107.txt  \n",
      "  inflating: ./add_smoke_data/train/labels/M_03461_png.rf.6c507873fbf944134a666dcd1dba60b6.txt  \n",
      "  inflating: ./add_smoke_data/train/labels/M_03461_png.rf.84f24b329d38571275ec769d16cb9353.txt  \n",
      "  inflating: ./add_smoke_data/train/labels/M_03735_png.rf.223044ac6195b9b3a651fe3f5e1a3d40.txt  \n",
      "  inflating: ./add_smoke_data/train/labels/M_03735_png.rf.43fa6dd6e6f3be02636b65dc83c45099.txt  \n",
      "  inflating: ./add_smoke_data/train/labels/M_04226_png.rf.03f5755274f3bf7ceaa6702eab79e5d2.txt  \n",
      "  inflating: ./add_smoke_data/train/labels/M_04226_png.rf.4a22c6694d58a673213e7087f49fcc76.txt  \n",
      "  inflating: ./add_smoke_data/train/labels/M_04226_png.rf.c301c1796df4329147d6f35a90f43f86.txt  \n",
      "  inflating: ./add_smoke_data/train/labels/M_04625_png.rf.f3ca9375f46974361cff7cb3b4340278.txt  \n",
      "  inflating: ./add_smoke_data/train/labels/M_04625_png.rf.f401b927b33b6888e2793083324e9a7a.txt  \n",
      "  inflating: ./add_smoke_data/train/labels/M_05076_png.rf.2afeb1b6ece1a70ee66b329cb874ebae.txt  \n",
      "  inflating: ./add_smoke_data/train/labels/M_05076_png.rf.bea87cb9fa1fc4c850770e434c90ed84.txt  \n",
      "  inflating: ./add_smoke_data/train/labels/M_05133_png.rf.220136cc6c7960171000a53f9cc1bbd9.txt  \n",
      "  inflating: ./add_smoke_data/train/labels/M_05133_png.rf.36f99005e7fbb3ec247862d593f5a083.txt  \n",
      "  inflating: ./add_smoke_data/train/labels/M_05133_png.rf.9519761909d38d3ec0cb29cb54483b5b.txt  \n",
      "  inflating: ./add_smoke_data/train/labels/M_05472_png.rf.12c371d66caa25ac0b862c44c08aca23.txt  \n",
      "  inflating: ./add_smoke_data/train/labels/M_05472_png.rf.3ec12143ee33041a11600e4bf75aeaf9.txt  \n",
      "  inflating: ./add_smoke_data/train/labels/M_05497_png.rf.b4e68ecfaaa22d4dd50505324ea0c892.txt  \n",
      "  inflating: ./add_smoke_data/train/labels/M_05497_png.rf.bbbda6a06cfaac05b864be7fbbce432c.txt  \n",
      "  inflating: ./add_smoke_data/train/labels/M_05497_png.rf.fc8cc10925a26c3714affb1c49b98a3a.txt  \n",
      "  inflating: ./add_smoke_data/train/labels/M_05627_png.rf.75725d9f77aa2b5351ee5e6933567aa7.txt  \n",
      "  inflating: ./add_smoke_data/train/labels/M_05627_png.rf.c03418d5add1b7a3fddb17906c0fc7dc.txt  \n",
      "  inflating: ./add_smoke_data/train/labels/M_05741_png.rf.302f60d35945cf300cb3a89b50893f79.txt  \n",
      "  inflating: ./add_smoke_data/train/labels/M_05741_png.rf.ccece945dbd5634f564404a8fa5b1d9d.txt  \n",
      "  inflating: ./add_smoke_data/train/labels/M_05741_png.rf.f4414ea879c571bba45468798926c3c7.txt  \n",
      "  inflating: ./add_smoke_data/train/labels/M_05962_png.rf.54c89e88247623a2b9e90e274728ee0e.txt  \n",
      "  inflating: ./add_smoke_data/train/labels/M_05962_png.rf.874d089156b9369980f10aa53acedd6b.txt  \n",
      "  inflating: ./add_smoke_data/train/labels/M_06048_png.rf.021468f1c6c1a49f10ae33296cb18d3a.txt  \n",
      "  inflating: ./add_smoke_data/train/labels/M_06048_png.rf.17af579ec79509ada6a73acaa0598274.txt  \n",
      "  inflating: ./add_smoke_data/train/labels/M_06142_png.rf.cfeb58aacff680d4cf6ec0a2a6c7c3e3.txt  \n",
      "  inflating: ./add_smoke_data/train/labels/M_06283_png.rf.1ba792ff36f46ef3fbda415d00862060.txt  \n",
      "  inflating: ./add_smoke_data/train/labels/M_06283_png.rf.2e05d5bc7dd64a08882fedf08d771825.txt  \n",
      "  inflating: ./add_smoke_data/train/labels/M_06291_png.rf.4b3bb23e9d9588ce9888c32bf8d6ac96.txt  \n",
      "  inflating: ./add_smoke_data/train/labels/M_06291_png.rf.a6366a0bda981b94cd04a249285c39aa.txt  \n",
      "  inflating: ./add_smoke_data/train/labels/M_06291_png.rf.bb861d079ce1da7011b5108eb5250d23.txt  \n",
      "  inflating: ./add_smoke_data/train/labels/M_06386_png.rf.0e5ddaa4adf1c552f0f08a9695010da9.txt  \n",
      "  inflating: ./add_smoke_data/train/labels/M_06386_png.rf.9bedce945f4ac9adf316521b0b935be1.txt  \n",
      "  inflating: ./add_smoke_data/train/labels/M_06386_png.rf.fbfa6ddd5be954e8ef906fe00dcc1344.txt  \n",
      "  inflating: ./add_smoke_data/train/labels/M_07081_png.rf.8e919b60aec2d127077f40e8dfaa50f0.txt  \n",
      "  inflating: ./add_smoke_data/train/labels/M_07081_png.rf.be53892a3604ac6fa127806a4b220f9b.txt  \n",
      "  inflating: ./add_smoke_data/train/labels/M_07081_png.rf.fe08dc23842a8c7ce81112448db3f1bb.txt  \n",
      "  inflating: ./add_smoke_data/train/labels/M_07198_png.rf.3c17981531eaf9dc115f2cd8068e5904.txt  \n",
      "  inflating: ./add_smoke_data/train/labels/M_07198_png.rf.7b9e53635de17c2155ef8af06d275f30.txt  \n",
      "  inflating: ./add_smoke_data/train/labels/M_07239_png.rf.6e6a0e4f0bc000cd0a4d056d45c0ec0c.txt  \n",
      "  inflating: ./add_smoke_data/train/labels/M_07239_png.rf.b737e305bdf317e4627ae732dea52476.txt  \n",
      "  inflating: ./add_smoke_data/train/labels/M_07318_png.rf.5e25d295d3ab95ae271083372282326a.txt  \n",
      "  inflating: ./add_smoke_data/train/labels/M_07318_png.rf.764d2243297ce10c6d0395a4697a5b26.txt  \n",
      "  inflating: ./add_smoke_data/train/labels/M_07318_png.rf.91d819a5bd5fb2ad3fddf3e59382d3d6.txt  \n",
      "  inflating: ./add_smoke_data/train/labels/M_07623_png.rf.3ecee513345877e484139183d6cd1bba.txt  \n",
      "  inflating: ./add_smoke_data/train/labels/M_07623_png.rf.6683b93c1b5a29cb1a56618eeb0d08d5.txt  \n",
      "  inflating: ./add_smoke_data/train/labels/M_07701_png.rf.393eb467ea2c1d0403f9b45070960a93.txt  \n",
      "  inflating: ./add_smoke_data/train/labels/M_07701_png.rf.7b65417dcc753647d2bbdb734362d8c3.txt  \n",
      "  inflating: ./add_smoke_data/train/labels/M_07701_png.rf.c7c82b81acf456225e75c17623269df4.txt  \n",
      "  inflating: ./add_smoke_data/train/labels/M_07871_png.rf.86ad68502fa1da266d8b7dca6b275c2c.txt  \n",
      "  inflating: ./add_smoke_data/train/labels/M_07871_png.rf.a9a603bc8a4359c594a9a072e5c5d9c2.txt  \n",
      "  inflating: ./add_smoke_data/train/labels/M_07934_png.rf.322c28c49281696595b53145763ea3fe.txt  \n",
      "  inflating: ./add_smoke_data/train/labels/M_07934_png.rf.a5ccb14e6918dbe53b122d1a7bb6d255.txt  \n",
      "  inflating: ./add_smoke_data/train/labels/M_07999_png.rf.0d54987cd632d6d06fb0a25f591220d1.txt  \n",
      "  inflating: ./add_smoke_data/train/labels/M_07999_png.rf.dd9b43c220e0dfa74b991dff420209e0.txt  \n",
      "  inflating: ./add_smoke_data/train/labels/M_07999_png.rf.fbf9528ababfe6d727f8dfb7e7a70432.txt  \n",
      "  inflating: ./add_smoke_data/train/labels/M_08142_png.rf.25092210a3067062e71e4d1b3b9399e8.txt  \n",
      "  inflating: ./add_smoke_data/train/labels/M_08142_png.rf.71925e12ced5332bd604c913fe6ac7f6.txt  \n",
      "  inflating: ./add_smoke_data/train/labels/M_08142_png.rf.c86595ca1caa5743eb65d6c9dc43ae98.txt  \n",
      "  inflating: ./add_smoke_data/train/labels/M_08228_png.rf.2015580393107e27fb20aae284311c53.txt  \n",
      "  inflating: ./add_smoke_data/train/labels/M_08263_png.rf.12296fc30991356dc4a4e64f6092e313.txt  \n",
      "  inflating: ./add_smoke_data/train/labels/M_08263_png.rf.cda05b5f76f69040396c7775d117ec78.txt  \n",
      "  inflating: ./add_smoke_data/train/labels/M_08773_png.rf.c8c90f2248c425ef03ae7bf2303f6f91.txt  \n",
      "  inflating: ./add_smoke_data/train/labels/M_08911_png.rf.339ef016524c47d76c8dddd368141855.txt  \n",
      "  inflating: ./add_smoke_data/train/labels/M_08911_png.rf.8d59dcdc494370f2c5929945425e11bd.txt  \n",
      "  inflating: ./add_smoke_data/train/labels/M_09128_png.rf.52dd6df73b3d15b6cda66b59d3b81bf7.txt  \n",
      "  inflating: ./add_smoke_data/train/labels/M_09128_png.rf.849638ae2479af738d5adc243f69f5fa.txt  \n",
      "  inflating: ./add_smoke_data/train/labels/M_09161_png.rf.4ba82f837e8615ecada8109a3dcd93d5.txt  \n",
      "  inflating: ./add_smoke_data/train/labels/M_09161_png.rf.f6461b254961e3f2163ab2f6e5dc960c.txt  \n",
      "  inflating: ./add_smoke_data/train/labels/M_09309_png.rf.b7de5ceb17f47974ffd405f0315d735a.txt  \n",
      "  inflating: ./add_smoke_data/train/labels/M_09309_png.rf.dbce2a537765c53f2619c5cc40713f52.txt  \n",
      "  inflating: ./add_smoke_data/train/labels/M_09309_png.rf.de206bb9fd8e1c88d4234b9057f20eba.txt  \n",
      "  inflating: ./add_smoke_data/train/labels/M_09391_png.rf.3a98b77b99ae88c8a199f8656f8ed817.txt  \n",
      "  inflating: ./add_smoke_data/train/labels/M_09391_png.rf.4f23b8f9b72c496ace36597dcb276b8d.txt  \n",
      "  inflating: ./add_smoke_data/train/labels/M_09391_png.rf.e4502b69bed286b26245baab7c36e0a1.txt  \n",
      "  inflating: ./add_smoke_data/train/labels/M_09393_png.rf.dec8bb9a563460681402a7ed44009ccc.txt  \n",
      "  inflating: ./add_smoke_data/train/labels/M_09571_png.rf.4ed67846c6005fb478ecf7a8b7698efc.txt  \n",
      "  inflating: ./add_smoke_data/train/labels/M_09571_png.rf.7eab7d0a306b4b2f4512ce2527b2b41e.txt  \n",
      "  inflating: ./add_smoke_data/train/labels/M_09577_png.rf.ed884441dcbb51e28151f5e02fce947f.txt  \n",
      "  inflating: ./add_smoke_data/train/labels/M_09577_png.rf.f1a13924d2bc80dde4e3d703bba696a1.txt  \n",
      "  inflating: ./add_smoke_data/train/labels/M_09795_png.rf.7bc9ff0640e16a6c190ae9b39d860ad5.txt  \n",
      "  inflating: ./add_smoke_data/train/labels/M_09795_png.rf.a002068f6927a080484ba29dc29d2578.txt  \n",
      "  inflating: ./add_smoke_data/train/labels/M_09890_png.rf.a586fe4509a633604f4b7556484df1b1.txt  \n",
      "  inflating: ./add_smoke_data/train/labels/M_10439_png.rf.0817f03377e6fd0334ae9f35b8d512d9.txt  \n",
      "  inflating: ./add_smoke_data/train/labels/M_10439_png.rf.74abcdbf9d197d81c4f2df869e7519d6.txt  \n",
      "  inflating: ./add_smoke_data/train/labels/M_11033_png.rf.28ecc6b0aeebad1adad9777479a2e8b5.txt  \n",
      "  inflating: ./add_smoke_data/train/labels/M_11033_png.rf.7e95b1f10178a58b7a5d153d00b06b69.txt  \n",
      "  inflating: ./add_smoke_data/train/labels/M_11033_png.rf.89b4731d8a0a0a77d6cb6c805a87d396.txt  \n",
      "  inflating: ./add_smoke_data/train/labels/M_11544_png.rf.105e1728aa53da4fcc576ed0897a8983.txt  \n",
      "  inflating: ./add_smoke_data/train/labels/M_11544_png.rf.9be121493a82b57f7a472591586ede78.txt  \n",
      "  inflating: ./add_smoke_data/train/labels/M_11947_png.rf.25174d24674e22494ebc76a0f26852e8.txt  \n",
      "  inflating: ./add_smoke_data/train/labels/M_11947_png.rf.57ee0a5412676d37792a6b954bfaaea1.txt  \n",
      "  inflating: ./add_smoke_data/train/labels/M_11947_png.rf.7e269791ae7f12ce10f7db782653e99c.txt  \n",
      "  inflating: ./add_smoke_data/train/labels/M_13002_png.rf.72461b4de0e0179b1b5ef6bbd311e8d6.txt  \n",
      "  inflating: ./add_smoke_data/train/labels/M_13002_png.rf.952716a12f515856fcef4c114b650a94.txt  \n",
      "  inflating: ./add_smoke_data/train/labels/M_13213_png.rf.280b64b325103759f626893f5dc18053.txt  \n",
      "  inflating: ./add_smoke_data/train/labels/M_13213_png.rf.b9462228f1099b1b1716bfea6462c8e1.txt  \n",
      "  inflating: ./add_smoke_data/train/labels/M_13662_png.rf.4c5edf15db405cd27d7d7bcf7aad0312.txt  \n",
      "  inflating: ./add_smoke_data/train/labels/M_13662_png.rf.5c706745e5c9ef90f55d86ba21a5d492.txt  \n",
      "  inflating: ./add_smoke_data/train/labels/M_13662_png.rf.ab713582c0b5b3e18cb2f1229f8d79a9.txt  \n",
      "  inflating: ./add_smoke_data/train/labels/M_14021_png.rf.8fbec0d4e800bd5bd28a0f374ba54ef3.txt  \n",
      "  inflating: ./add_smoke_data/train/labels/M_14021_png.rf.d491335b6614fefa69bd8c031e7eee7f.txt  \n",
      "  inflating: ./add_smoke_data/train/labels/MirrorWEBFire1358_jpg.rf.d97a5ee738d55d89a8029fc6f486c08f.txt  \n",
      "  inflating: ./add_smoke_data/train/labels/MirrorWEBFire1358_jpg.rf.d993fb0865b66d3366c15e7336081251.txt  \n",
      "  inflating: ./add_smoke_data/train/labels/MirrorWEBFire2034_jpg.rf.57790269a1481eb787a45b78ad0573ec.txt  \n",
      "  inflating: ./add_smoke_data/train/labels/MirrorWEBFire2034_jpg.rf.99d2eaa788274df98cd73d806c0f3267.txt  \n",
      "  inflating: ./add_smoke_data/train/labels/MirrorWEBSmoke2281_jpg.rf.0835f60738475a0bbbf93fe8e79e1e12.txt  \n",
      "  inflating: ./add_smoke_data/train/labels/MirrorWEBSmoke2281_jpg.rf.e05cd162e9ce5da08274225765a6da9f.txt  \n",
      "  inflating: ./add_smoke_data/train/labels/MirrorWEBSmoke2378_jpg.rf.5e1fbf7228b8f185bd0c483830b9935b.txt  \n",
      "  inflating: ./add_smoke_data/train/labels/new_fire_40_jpg.rf.3cda4485d94e17e486bb21fac5d8eeab.txt  \n",
      "  inflating: ./add_smoke_data/train/labels/new_fire_40_jpg.rf.b58d34dd6efb142ee57684e21c7842af.txt  \n",
      "  inflating: ./add_smoke_data/train/labels/new_fire_fire-89_png_jpg.rf.b67334970cd197d94fb0c6416d0ed40a.txt  \n",
      "  inflating: ./add_smoke_data/train/labels/new_fire_fire-89_png_jpg.rf.ea006c6ae9c5de49005183940132eddf.txt  \n",
      "  inflating: ./add_smoke_data/train/labels/new_fire_fire-95_png_jpg.rf.74f51ad59bda70028415ef5895535544.txt  \n",
      "  inflating: ./add_smoke_data/train/labels/new_fire_fire-95_png_jpg.rf.78d6b8f3aa91a589ae164a73f182a8c2.txt  \n",
      "  inflating: ./add_smoke_data/train/labels/NoiseWEBFire1091_jpg.rf.5989491a1c13950d78ff22556f8dd538.txt  \n",
      "  inflating: ./add_smoke_data/train/labels/NoiseWEBFire1091_jpg.rf.e6dcc9511636ca920bdb9c9d52fe4939.txt  \n",
      "  inflating: ./add_smoke_data/train/labels/NoiseWEBFire1091_jpg.rf.e8aa7b9cd2ccd523f99764d6e6ea89e2.txt  \n",
      "  inflating: ./add_smoke_data/train/labels/NoiseWEBFire1107_jpg.rf.130b7b9562f9de46e773ed561fbc0fb4.txt  \n",
      "  inflating: ./add_smoke_data/train/labels/NoiseWEBFire1107_jpg.rf.47a7f8d608fd8a2c0b7128c93bfe1aa8.txt  \n",
      "  inflating: ./add_smoke_data/train/labels/NoiseWEBFire1107_jpg.rf.652360e846af380bae6c6ef511e881a1.txt  \n",
      "  inflating: ./add_smoke_data/train/labels/NoiseWEBFire1355_jpg.rf.35905e95ec26ac5ceef3c4ff5cbec01f.txt  \n",
      "  inflating: ./add_smoke_data/train/labels/NoiseWEBFire1355_jpg.rf.8a96e7f031e2e0a31eb8e195217a0f85.txt  \n",
      "  inflating: ./add_smoke_data/train/labels/NoiseWEBFire1355_jpg.rf.b98c16abdf153c59b85786c638d48bde.txt  \n",
      "  inflating: ./add_smoke_data/train/labels/NoiseWEBFP1264_jpg.rf.1f79b43321f54bf6e9062a8ff2892543.txt  \n",
      "  inflating: ./add_smoke_data/train/labels/NoiseWEBFP1264_jpg.rf.950283004c685a550cf28ef3b03942e7.txt  \n",
      "  inflating: ./add_smoke_data/train/labels/NoiseWEBFP1264_jpg.rf.9c0d47fe4c829b69b5d2d22c5100e7e7.txt  \n",
      "  inflating: ./add_smoke_data/train/labels/NoiseWEBFP1265_jpg.rf.6c1012929ddafc2f0fc255b55a724261.txt  \n",
      "  inflating: ./add_smoke_data/train/labels/NoiseWEBFP1265_jpg.rf.f397c7397d1558b733115af8fa33beb6.txt  \n",
      "  inflating: ./add_smoke_data/train/labels/NoiseWEBSmoke038_jpg.rf.30b40541c75b28372cc0ebf5016204c4.txt  \n",
      "  inflating: ./add_smoke_data/train/labels/NoiseWEBSmoke038_jpg.rf.6dd63506929c62bcf610a8903a617922.txt  \n",
      "  inflating: ./add_smoke_data/train/labels/NoiseWEBSmoke038_jpg.rf.cedb92141801116a27e269f33b819bca.txt  \n",
      "  inflating: ./add_smoke_data/train/labels/NoiseWEBSmoke095_jpg.rf.931a8b44be50aab5dcb99946d0b830c4.txt  \n",
      "  inflating: ./add_smoke_data/train/labels/NoiseWEBSmoke095_jpg.rf.eabf5fe1cb4559d66e94659375a62138.txt  \n",
      "  inflating: ./add_smoke_data/train/labels/NoiseWEBSmoke1241_jpg.rf.0053b97ce2bbffbdbaf7ca42d5d0dd3e.txt  \n",
      "  inflating: ./add_smoke_data/train/labels/NoiseWEBSmoke1241_jpg.rf.f8fedf1003aaf14a592ed180b70aecf5.txt  \n",
      "  inflating: ./add_smoke_data/train/labels/NoiseWEBSmoke1795_jpg.rf.0111f387664ac836e8ee83b8a3ad7202.txt  \n",
      "  inflating: ./add_smoke_data/train/labels/NoiseWEBSmoke1795_jpg.rf.8f03b2c453611b122303dc9d6ab60ec1.txt  \n",
      "  inflating: ./add_smoke_data/train/labels/NoiseWEBSmoke1892_jpg.rf.3727fca03cee2a887c35a2d85528e805.txt  \n",
      "  inflating: ./add_smoke_data/train/labels/NoiseWEBSmoke1892_jpg.rf.45c1bff7745ad28038a65297d2a9450a.txt  \n",
      "  inflating: ./add_smoke_data/train/labels/NoiseWEBSmoke2153_jpg.rf.292a27480e70771e185d865d9a8026d0.txt  \n",
      "  inflating: ./add_smoke_data/train/labels/NoiseWEBSmoke2153_jpg.rf.822ac0a6c9755c222df00f49e73b4a23.txt  \n",
      "  inflating: ./add_smoke_data/train/labels/NoiseWEBSmoke2509_jpg.rf.bb9a54f5e2aa04a904088a320446b8bc.txt  \n",
      "  inflating: ./add_smoke_data/train/labels/NoiseWEBSmoke2509_jpg.rf.cb2a6eb3772fada61f8cb65455951de8.txt  \n",
      "  inflating: ./add_smoke_data/train/labels/NoiseWEBSmoke2854_jpg.rf.8b96e249e60e5ce79300a5ca009a5ac6.txt  \n",
      "  inflating: ./add_smoke_data/train/labels/NoiseWEBSmoke2854_jpg.rf.a59fb0aaf94f44ab1eb4ed76b2bddbb0.txt  \n",
      "  inflating: ./add_smoke_data/train/labels/NoiseWEBSmoke2854_jpg.rf.d7ef9105a622568abdeb1a005980ae05.txt  \n",
      "  inflating: ./add_smoke_data/train/labels/NoiseWEBSmoke2924_jpg.rf.173d61a0caca947922cef60aff50484d.txt  \n",
      "  inflating: ./add_smoke_data/train/labels/NoiseWEBSmoke2924_jpg.rf.e8319a1146ab6bd6d3eae5b5d6fd0486.txt  \n",
      "  inflating: ./add_smoke_data/train/labels/NoiseWEBSmoke2952_jpg.rf.79dad8b57fc12bbce9d7e94b68e6d1b9.txt  \n",
      "  inflating: ./add_smoke_data/train/labels/NoiseWEBSmoke2952_jpg.rf.911006030916d6f91daae170a0a41847.txt  \n",
      "  inflating: ./add_smoke_data/train/labels/NoiseWEBSmoke3015_jpg.rf.2b32361cac0715b18ae3c5ad4d45a375.txt  \n",
      "  inflating: ./add_smoke_data/train/labels/NoiseWEBSmoke3015_jpg.rf.6a59c303a240f042e576e0ccd4b5881e.txt  \n",
      "  inflating: ./add_smoke_data/train/labels/NoiseWEBSmoke3015_jpg.rf.b3d5d78e93ea365ee025a9969fedb8f3.txt  \n",
      "  inflating: ./add_smoke_data/train/labels/NoiseWEBSmoke3223_jpg.rf.6f22433a247d814c77fef2eb404840b9.txt  \n",
      "  inflating: ./add_smoke_data/train/labels/NoiseWEBSmoke3223_jpg.rf.89ec828032101107509e306c60b3af96.txt  \n",
      "  inflating: ./add_smoke_data/train/labels/NoiseWEBSmoke3325_jpg.rf.2809c6b8f19b338a4d472025803e2c78.txt  \n",
      "  inflating: ./add_smoke_data/train/labels/NoiseWEBSmoke3325_jpg.rf.3abaebc9b5a3de113787d42cc07cd014.txt  \n",
      "  inflating: ./add_smoke_data/train/labels/NoiseWEBSmoke3325_jpg.rf.84067610b9b7d1f09542e84bbe73f18d.txt  \n",
      "  inflating: ./add_smoke_data/train/labels/NoiseWEBSmoke3351_jpg.rf.49837280de4606b931d6944512b0bcaf.txt  \n",
      "  inflating: ./add_smoke_data/train/labels/NoiseWEBSmoke3351_jpg.rf.734bc0b2875308c031ca04bc128b4ad3.txt  \n",
      "  inflating: ./add_smoke_data/train/labels/NoiseWEBSmoke3351_jpg.rf.d17bb1620cdbdb71d1352990f91beaa3.txt  \n",
      "  inflating: ./add_smoke_data/train/labels/NoiseWEBSmoke343_jpg.rf.a2513775c6fecd533e7a128175bc58f3.txt  \n",
      "  inflating: ./add_smoke_data/train/labels/NoiseWEBSmoke343_jpg.rf.d29ab7724dca04d9108e7a6446b4399d.txt  \n",
      "  inflating: ./add_smoke_data/train/labels/NoiseWEBSmoke356_jpg.rf.385891d81c62b6d2baf178373e57565c.txt  \n",
      "  inflating: ./add_smoke_data/train/labels/NoiseWEBSmoke356_jpg.rf.d06d6451862cfbb99700dc21f6c1b4eb.txt  \n",
      "  inflating: ./add_smoke_data/train/labels/NoiseWEBSmoke378_jpg.rf.03a59730f35dd5f0776e10b59b960011.txt  \n",
      "  inflating: ./add_smoke_data/train/labels/NoiseWEBSmoke378_jpg.rf.1c7cf24ca42f620c1e392bf865e6a49f.txt  \n",
      "  inflating: ./add_smoke_data/train/labels/NoiseWEBSmoke378_jpg.rf.6f818d8cc2a3242dfde3cfc02ac43dac.txt  \n",
      "  inflating: ./add_smoke_data/train/labels/photo-1-_jpg.rf.f58a6916f75ffe70ab07ed9ca69b8505.txt  \n",
      "  inflating: ./add_smoke_data/train/labels/photo-10-_jpg.rf.f033cb624913ce4ca51dba6b59a25d12.txt  \n",
      "  inflating: ./add_smoke_data/train/labels/photo-12-_jpg.rf.3315e76e1157c0043fa2fe9a9c3cfca4.txt  \n",
      "  inflating: ./add_smoke_data/train/labels/photo-13-_jpg.rf.ae88d4c76c288438569a922cb1a48f07.txt  \n",
      "  inflating: ./add_smoke_data/train/labels/photo-15-_jpg.rf.3a09bb81f9483abe3152b848451b903b.txt  \n",
      "  inflating: ./add_smoke_data/train/labels/photo-16-_jpg.rf.9285273c1a7c2d85d75dd691a1fec6e7.txt  \n",
      "  inflating: ./add_smoke_data/train/labels/photo-17-_jpg.rf.15f416b315867504d84b3733ff7681d3.txt  \n",
      "  inflating: ./add_smoke_data/train/labels/photo-18-_jpg.rf.f61336660835fb772befb491082e97ef.txt  \n",
      "  inflating: ./add_smoke_data/train/labels/photo-2-_jpg.rf.b09c51ac9f9f09b62ac28d137d3fba52.txt  \n",
      "  inflating: ./add_smoke_data/train/labels/photo-20-_jpg.rf.e8823fd1b837c7c485b1eb97305079df.txt  \n",
      "  inflating: ./add_smoke_data/train/labels/photo-21-_jpg.rf.dbfc0b477a576fe997906fa3d09b5c55.txt  \n",
      "  inflating: ./add_smoke_data/train/labels/photo-22-_jpg.rf.9848c08a4a65f7e229c132b2b974e061.txt  \n",
      "  inflating: ./add_smoke_data/train/labels/photo-23-_jpg.rf.df20824c8e13c63fadae38375ba9e4a0.txt  \n",
      "  inflating: ./add_smoke_data/train/labels/photo-24-_jpg.rf.0170a4e0bd086467234e40a4f7f76df9.txt  \n",
      "  inflating: ./add_smoke_data/train/labels/photo-25-_jpg.rf.563dd4ffeccc1c2f6de9332cb6ce4f90.txt  \n",
      "  inflating: ./add_smoke_data/train/labels/photo-26-_jpg.rf.75aa721452f4801a40b7f8fdade2fab3.txt  \n",
      "  inflating: ./add_smoke_data/train/labels/photo-28-_jpg.rf.f06a3a5a55489c09289ec2cdbfaa85f3.txt  \n",
      "  inflating: ./add_smoke_data/train/labels/photo-29-_jpg.rf.3de139b4102f49c43edece068e32fd64.txt  \n",
      "  inflating: ./add_smoke_data/train/labels/photo-31-_jpg.rf.6f34625b103d05bfd2a4674b35e7e2dd.txt  \n",
      "  inflating: ./add_smoke_data/train/labels/photo-32-_jpg.rf.fe067a79b4a7d92432f7024d170abc45.txt  \n",
      "  inflating: ./add_smoke_data/train/labels/photo-33-_jpg.rf.59de7fa6fab751377cc34fa5f742735b.txt  \n",
      "  inflating: ./add_smoke_data/train/labels/photo-34-_jpg.rf.ba2bcbbc2386ab204079c9bf717ead0f.txt  \n",
      "  inflating: ./add_smoke_data/train/labels/photo-35-_jpg.rf.a676805a8f60639285d5ff14a123dc77.txt  \n",
      "  inflating: ./add_smoke_data/train/labels/photo-36-_jpg.rf.a3d0195b91625c215e3f3fbbaa7ce467.txt  \n",
      "  inflating: ./add_smoke_data/train/labels/photo-5-_jpg.rf.dc05ed8d333aa401f66c6c1a457d47d6.txt  \n",
      "  inflating: ./add_smoke_data/train/labels/photo-6-_jpg.rf.48349a7c70a56b54b99a7411f6bdf427.txt  \n",
      "  inflating: ./add_smoke_data/train/labels/photo-8-_jpg.rf.06521cc7cd609d646e6b0adb935e0feb.txt  \n",
      "  inflating: ./add_smoke_data/train/labels/S3-N0806MF07551_jpg.rf.7c43d46e866736f2e9aba9eaf13ae388.txt  \n",
      "  inflating: ./add_smoke_data/train/labels/S3-N0806MF07559_jpg.rf.664da35aff03e6c3110fa86fd2f076fe.txt  \n",
      "  inflating: ./add_smoke_data/train/labels/S3-N0806MF07560_jpg.rf.c3fc5a02745beaa4dbaa1f288f6e9145.txt  \n",
      "  inflating: ./add_smoke_data/train/labels/S3-N0806MF07561_jpg.rf.1b437d974f87366bae4092a08edc0c0a.txt  \n",
      "  inflating: ./add_smoke_data/train/labels/S3-N0806MF07567_jpg.rf.0511351b9db7e5f33686e3c8a0fd829f.txt  \n",
      "  inflating: ./add_smoke_data/train/labels/S3-N0806MF07607_jpg.rf.052d7cc2b0129963e8168a621a17ad96.txt  \n",
      "  inflating: ./add_smoke_data/train/labels/S3-N0806MF07608_jpg.rf.f7cb55501fcb10af9354ed52ba1029d9.txt  \n",
      "  inflating: ./add_smoke_data/train/labels/S3-N0806MF07609_jpg.rf.7384ca4ead84012e851c0c32adc5f9da.txt  \n",
      "  inflating: ./add_smoke_data/train/labels/S3-N0806MF07610_jpg.rf.803720903ce598bfc347e04f18219cf1.txt  \n",
      "  inflating: ./add_smoke_data/train/labels/S3-N0806MF07614_jpg.rf.01371ec880c6a6b19fba314f4b64cff1.txt  \n",
      "  inflating: ./add_smoke_data/train/labels/S3-N0806MF07615_jpg.rf.84c830e882b22e0a24b2b2aceea3f0f9.txt  \n",
      "  inflating: ./add_smoke_data/train/labels/S3-N0806MF07617_jpg.rf.df52698133fb7661da46b7577b989f04.txt  \n",
      "  inflating: ./add_smoke_data/train/labels/S3-N0806MF07618_jpg.rf.311bddd2d5ad603d64fdef5f891d361f.txt  \n",
      "  inflating: ./add_smoke_data/train/labels/S3-N0806MF07652_jpg.rf.862bd91ec68ac9deccade8e0b20c3c85.txt  \n",
      "  inflating: ./add_smoke_data/train/labels/S3-N0806MF07653_jpg.rf.9f56a34ec17d1aa0b9593b505f9d17e0.txt  \n",
      "  inflating: ./add_smoke_data/train/labels/S3-N0806MF07654_jpg.rf.8474e812825fa290a38fe520c78230bb.txt  \n",
      "  inflating: ./add_smoke_data/train/labels/S3-N0806MF07660_jpg.rf.73edb448a93bc5e8a017eaae590ecf06.txt  \n",
      "  inflating: ./add_smoke_data/train/labels/S3-N0806MF07661_jpg.rf.2af11de45ed3220df5bb9f7f63dc761c.txt  \n",
      "  inflating: ./add_smoke_data/train/labels/S3-N1448MF01836_jpg.rf.326b2bd30ae7c224acf05413c726b63e.txt  \n",
      "  inflating: ./add_smoke_data/train/labels/S3-N1448MF01837_jpg.rf.6038ef4b01566c0268e7d67c42e486f1.txt  \n",
      "  inflating: ./add_smoke_data/train/labels/S3-N1448MF01861_jpg.rf.c1d34bc8d7d246f43e8bed0a4ec59105.txt  \n",
      "  inflating: ./add_smoke_data/train/labels/S3-N1448MF01862_jpg.rf.0456827e52416b310f66c23cba5e5809.txt  \n",
      "  inflating: ./add_smoke_data/train/labels/S3-N1448MF02044_jpg.rf.a85715248367027c871c6dd462f6885c.txt  \n",
      "  inflating: ./add_smoke_data/train/labels/S3-N1448MF02055_jpg.rf.0488bb1b3d1e6152ebdcee29381237db.txt  \n",
      "  inflating: ./add_smoke_data/train/labels/S3-N1448MF02056_jpg.rf.5501eaf4c9c2413012beecc58fa635b7.txt  \n",
      "  inflating: ./add_smoke_data/train/labels/S3-N1448MF02057_jpg.rf.3fffbedc27f2afdca5206bd0c9ebb4a7.txt  \n",
      "  inflating: ./add_smoke_data/train/labels/S3-N1448MF02067_jpg.rf.7909b36ef63cf08c332a982fa97e534c.txt  \n",
      "  inflating: ./add_smoke_data/train/labels/S3-N1448MF02068_jpg.rf.1c312f6b387514f12927228bcf4b9775.txt  \n",
      "  inflating: ./add_smoke_data/train/labels/S3-N1448MF02069_jpg.rf.fc17808a99ca81915f8fe6659e7d8867.txt  \n",
      "  inflating: ./add_smoke_data/train/labels/S3-N1451MF01549_jpg.rf.b185ed1925f797b333172f54c0deb020.txt  \n",
      "  inflating: ./add_smoke_data/train/labels/S3-N1451MF01550_jpg.rf.88b3db564fa70804e652b409fbedf984.txt  \n",
      "  inflating: ./add_smoke_data/train/labels/S3-N1451MF01574_jpg.rf.75c3575134ce03e142c74b616f01f0fa.txt  \n",
      "  inflating: ./add_smoke_data/train/labels/S3-N1451MF01921_jpg.rf.6bb92d73f3b1160b353213509ee87e60.txt  \n",
      "  inflating: ./add_smoke_data/train/labels/S3-N1451MF01922_jpg.rf.a30baa5f7a33941df69b43285d813f6e.txt  \n",
      "  inflating: ./add_smoke_data/train/labels/S3-N1451MF01923_jpg.rf.e1bf2f5821c7e0c13b7201216258a58a.txt  \n",
      "  inflating: ./add_smoke_data/train/labels/S3-N1451MF01933_jpg.rf.0d8967faa4a7af641aaac6c819115c03.txt  \n",
      "  inflating: ./add_smoke_data/train/labels/S3-N1451MF01935_jpg.rf.00be55b8ef2d3f3055cf0f1388e925a7.txt  \n",
      "  inflating: ./add_smoke_data/train/labels/S3-N1451MF01946_jpg.rf.4708acd77da3f16a13d35b5f0bc2c207.txt  \n",
      "  inflating: ./add_smoke_data/train/labels/S3-N1451MF01947_jpg.rf.7676fd9a30d640ebec2bc897028f5c3d.txt  \n",
      "  inflating: ./add_smoke_data/train/labels/S3-N1452MF01596_jpg.rf.70deb078a5db6b85672f03308ca0c06e.txt  \n",
      "  inflating: ./add_smoke_data/train/labels/S3-N1452MF01597_jpg.rf.3ade82573c2d178a916710760b9e3f39.txt  \n",
      "  inflating: ./add_smoke_data/train/labels/S3-N1452MF01598_jpg.rf.23d4b0530fb0ba761164ca2476aeb471.txt  \n",
      "  inflating: ./add_smoke_data/train/labels/S3-N1452MF01608_jpg.rf.3d73b82180564baf78177c13bd29a9c4.txt  \n",
      "  inflating: ./add_smoke_data/train/labels/S3-N1452MF01609_jpg.rf.38db539bc3d89d12e6e53e194d271aee.txt  \n",
      "  inflating: ./add_smoke_data/train/labels/S3-N1452MF01610_jpg.rf.23bc817703d6b30d6dc307c2aa6bbcc3.txt  \n",
      "  inflating: ./add_smoke_data/train/labels/S3-N1452MF01620_jpg.rf.097c7d5ed2182374eebec22e45558f63.txt  \n",
      "  inflating: ./add_smoke_data/train/labels/S3-N1452MF01621_jpg.rf.6a3b0e2db301ef47813d45166a7dc623.txt  \n",
      "  inflating: ./add_smoke_data/train/labels/S3-N1452MF01622_jpg.rf.9765570bb43a41c0e19656e6667e435f.txt  \n",
      "  inflating: ./add_smoke_data/train/labels/S3-N1452MF01826_jpg.rf.2ed61450bd12bb2a6d233d654cb0de7f.txt  \n",
      "  inflating: ./add_smoke_data/train/labels/S3-N1452MF01827_jpg.rf.daafd7acd978de4f76addca7ccf7cf8b.txt  \n",
      "  inflating: ./add_smoke_data/train/labels/S3-N1452MF01839_jpg.rf.d52164ce79879931a37ddcca5afd6a5e.txt  \n",
      "  inflating: ./add_smoke_data/train/labels/S3-N1452MF01850_jpg.rf.0704645f39b67ac98635edd8b0d40b67.txt  \n",
      "  inflating: ./add_smoke_data/train/labels/S3-N1452MF01851_jpg.rf.d93f63b901b24ff31e5874b827ca3b7c.txt  \n",
      "  inflating: ./add_smoke_data/train/labels/S3-N1452MF01852_jpg.rf.d40ceffc81a51ae34995f64b427786cc.txt  \n",
      "  inflating: ./add_smoke_data/train/labels/S3-N1453MF00891_jpg.rf.102d4415a73d797a8381d0de0890f026.txt  \n",
      "  inflating: ./add_smoke_data/train/labels/S3-N1453MF01091_jpg.rf.1bcfd3538e5fd9bfb0c434931414e2eb.txt  \n",
      "  inflating: ./add_smoke_data/train/labels/S3-N1453MF01092_jpg.rf.4eef35334d70b60535ee8e886a80befa.txt  \n",
      "  inflating: ./add_smoke_data/train/labels/S3-N1453MF01093_jpg.rf.c3da8e37aae41b630005692230d0f622.txt  \n",
      "  inflating: ./add_smoke_data/train/labels/S3-N1453MF01153_jpg.rf.d4316e44710d726ed48fc7399b3c5384.txt  \n",
      "  inflating: ./add_smoke_data/train/labels/S3-N1453MF01155_jpg.rf.ce7c8a7bec3f1fd18449fb418d087e3f.txt  \n",
      "  inflating: ./add_smoke_data/train/labels/S3-N1453MF01165_jpg.rf.e9b6fc4b34017379b1f9bcc59535b7b4.txt  \n",
      "  inflating: ./add_smoke_data/train/labels/S3-N1453MF01167_jpg.rf.4a134e7c42514cdd1c0ade1eded2e0a8.txt  \n",
      "  inflating: ./add_smoke_data/train/labels/S3-N1453MF01335_jpg.rf.f1cbbb208b94963c21694d900e127c6c.txt  \n",
      "  inflating: ./add_smoke_data/train/labels/S3-N1453MF01336_jpg.rf.7719aed138af179c16cf62f263d08063.txt  \n",
      "  inflating: ./add_smoke_data/train/labels/S3-N1453MF01337_jpg.rf.d3c3aa5f779dc699c33880c6a083c44a.txt  \n",
      "  inflating: ./add_smoke_data/train/labels/S3-N1453MF01338_jpg.rf.5d1c93f5984f9a6772d1dd49c6e48e89.txt  \n",
      "  inflating: ./add_smoke_data/train/labels/S3-N1453MF01347_jpg.rf.5b8439b25a9d1987680be86e6cba06a9.txt  \n",
      "  inflating: ./add_smoke_data/train/labels/S3-N1453MF01348_jpg.rf.e15f821e3d2a5a2081479b45832eacbf.txt  \n",
      "  inflating: ./add_smoke_data/train/labels/S3-N1453MF01349_jpg.rf.f89c70cfe7b3eec602dc039d8a0692ba.txt  \n",
      "  inflating: ./add_smoke_data/train/labels/S3-N1453MF01350_jpg.rf.85a23822903995a5bb30f0e601bebebe.txt  \n",
      "  inflating: ./add_smoke_data/train/labels/S3-N1453MF01360_jpg.rf.5a825fd1388720158cced860533f1607.txt  \n",
      "  inflating: ./add_smoke_data/train/labels/S3-N1453MF01361_jpg.rf.40b7afb42dc618bdfa8cb1b9f7dd32f0.txt  \n",
      "  inflating: ./add_smoke_data/train/labels/S3-N1453MF01362_jpg.rf.1a1dc0771f1aefc72e0b18f5bd4e91d4.txt  \n",
      "  inflating: ./add_smoke_data/train/labels/S3-N1454MF01114_jpg.rf.bef2f78724c63e2ab3f361025f5a64d8.txt  \n",
      "  inflating: ./add_smoke_data/train/labels/S3-N1454MF01358_jpg.rf.4f8d0fa5addf3655e2e4b70261e621c3.txt  \n",
      "  inflating: ./add_smoke_data/train/labels/S3-N1454MF01359_jpg.rf.1d6f2b0aa0c91d6cea5d4a733113e300.txt  \n",
      "  inflating: ./add_smoke_data/train/labels/S3-N1454MF01370_jpg.rf.38192439908d52306d4a4b9deaf6cf7c.txt  \n",
      "  inflating: ./add_smoke_data/train/labels/S3-N1454MF01371_jpg.rf.03e7f698e4e47561e63ac2ad52d43989.txt  \n",
      "  inflating: ./add_smoke_data/train/labels/S3-N1455MF01630_jpg.rf.4c1f19e1e20c53372e70e6eccaca0b16.txt  \n",
      "  inflating: ./add_smoke_data/train/labels/S3-N1455MF01631_jpg.rf.2c6a6f43e02dcefac340dfae1cd516fc.txt  \n",
      "  inflating: ./add_smoke_data/train/labels/S3-N1455MF01641_jpg.rf.a6eaf8a50696d11bdad7e2a810d581db.txt  \n",
      "  inflating: ./add_smoke_data/train/labels/S3-N1455MF01643_jpg.rf.5406397d1d165a403b0672179a399f41.txt  \n",
      "  inflating: ./add_smoke_data/train/labels/S3-N1455MF01653_jpg.rf.7643efa8047a9731457523f937abd358.txt  \n",
      "  inflating: ./add_smoke_data/train/labels/S3-N1455MF01655_jpg.rf.fc0ad051db91e4821cfa423238fa76bd.txt  \n",
      "  inflating: ./add_smoke_data/train/labels/S3-N1455MF01923_jpg.rf.ed2f45518c4a2fd0fb6881364900c111.txt  \n",
      "  inflating: ./add_smoke_data/train/labels/S3-N1455MF01924_jpg.rf.a94f38dd4bddcda13064670b37797d5e.txt  \n",
      "  inflating: ./add_smoke_data/train/labels/S3-N1455MF01933_jpg.rf.cc64363407f191ba20bc8cb51ef40e92.txt  \n",
      "  inflating: ./add_smoke_data/train/labels/S3-N1455MF01934_jpg.rf.39cae268d714d74bf12a3e81518b7c21.txt  \n",
      "  inflating: ./add_smoke_data/train/labels/S3-N1455MF01936_jpg.rf.3829bf02a4f8a019b21fa28cb57f8019.txt  \n",
      "  inflating: ./add_smoke_data/train/labels/S3-N1455MF01945_jpg.rf.7ee4723ede36b09936ea9dfaf203e8c4.txt  \n",
      "  inflating: ./add_smoke_data/train/labels/S3-N1455MF01946_jpg.rf.74a178ce16b601345b4db57ff1c0772a.txt  \n",
      "  inflating: ./add_smoke_data/train/labels/S3-N1455MF01948_jpg.rf.833886dc574b33c3f3aab0a8bd6d9486.txt  \n",
      "  inflating: ./add_smoke_data/train/labels/S3-N1456MF00746_jpg.rf.478866b23e080a3b00fa097a3f1a082d.txt  \n",
      "  inflating: ./add_smoke_data/train/labels/S3-N1456MF00756_jpg.rf.f132567eb155d9bad1e67129e2eced63.txt  \n",
      "  inflating: ./add_smoke_data/train/labels/S3-N1456MF00758_jpg.rf.4761f1dce044088db98c463069654ac1.txt  \n",
      "  inflating: ./add_smoke_data/train/labels/S3-N1456MF01018_jpg.rf.3a93fb9ad2d4563f588cee2a1fd70c49.txt  \n",
      "  inflating: ./add_smoke_data/train/labels/S3-N1456MF01019_jpg.rf.7737041c38df57a827e855eec6458b3d.txt  \n",
      "  inflating: ./add_smoke_data/train/labels/S3-N1456MF01020_jpg.rf.3bcfbfaa6c5667016df186ed5bddf65e.txt  \n",
      "  inflating: ./add_smoke_data/train/labels/S3-N1456MF01021_jpg.rf.ad4db52701c2d8502d2952c1d623bff8.txt  \n",
      "  inflating: ./add_smoke_data/train/labels/S3-N1456MF01022_jpg.rf.1933f449c18ffb40f7895208f054eb57.txt  \n",
      "  inflating: ./add_smoke_data/train/labels/S3-N1456MF01309_jpg.rf.833044bd28a49c355580959dc834068c.txt  \n",
      "  inflating: ./add_smoke_data/train/labels/S3-N1456MF01310_jpg.rf.462eec42d955dc7f8221e5a746e0bc53.txt  \n",
      "  inflating: ./add_smoke_data/train/labels/S3-N1456MF01311_jpg.rf.b8526a49688c68f35ead88637d0efc6e.txt  \n",
      "  inflating: ./add_smoke_data/train/labels/S3-N1457MF01424_jpg.rf.1f5341f49e4f4d5cb34d7fb17f07cd26.txt  \n",
      "  inflating: ./add_smoke_data/train/labels/S3-N1457MF01635_jpg.rf.fecbcf132e1e5567ad7c529e8ad19993.txt  \n",
      "  inflating: ./add_smoke_data/train/labels/S3-N1457MF01636_jpg.rf.72e6dbdc53b68467b3680ad51e2db175.txt  \n",
      "  inflating: ./add_smoke_data/train/labels/S3-N1457MF01649_jpg.rf.a4f99c7eb3c472db8646157fbd6be561.txt  \n",
      "  inflating: ./add_smoke_data/train/labels/S3-N1457MF01650_jpg.rf.b01460c35c6b269f2701e9121955eb04.txt  \n",
      "  inflating: ./add_smoke_data/train/labels/S3-N1457MF01651_jpg.rf.a34ba978b6260e2a9f9dbbba58b21c2d.txt  \n",
      "  inflating: ./add_smoke_data/train/labels/S3-N1457MF01844_jpg.rf.59248329bdaeeb3bb8edac8d551f49a3.txt  \n",
      "  inflating: ./add_smoke_data/train/labels/S3-N1457MF01845_jpg.rf.ab6b295dab589c781f78a3a5bae2f755.txt  \n",
      "  inflating: ./add_smoke_data/train/labels/WEBFire054_jpg.rf.58f5bf4e10c6be67d03057b97fd1da72.txt  \n",
      "  inflating: ./add_smoke_data/train/labels/WEBFire054_jpg.rf.d13e7979642dce3bcf97fc02db1e5373.txt  \n",
      "  inflating: ./add_smoke_data/train/labels/WEBFire054_jpg.rf.d77ddc5892135715252c050e4276bea9.txt  \n",
      "  inflating: ./add_smoke_data/train/labels/WEBFire1091_jpg.rf.62d99772c0fc56e39a440e82eddcaa45.txt  \n",
      "  inflating: ./add_smoke_data/train/labels/WEBFire1091_jpg.rf.653ff60b9bc665f8057cf63d259353d1.txt  \n",
      "  inflating: ./add_smoke_data/train/labels/WEBFire1354_jpg.rf.b53c45b6930d3136a964dac760c69038.txt  \n",
      "  inflating: ./add_smoke_data/train/labels/WEBFire1354_jpg.rf.ebc2065d98ccb68faed2773c5ffa14cc.txt  \n",
      "  inflating: ./add_smoke_data/train/labels/WEBFire1356_jpg.rf.706fcd52f1aab4d5b24dc6cd04b2d456.txt  \n",
      "  inflating: ./add_smoke_data/train/labels/WEBFire1356_jpg.rf.b7bd1a162914078ffce896f14e4a1b51.txt  \n",
      "  inflating: ./add_smoke_data/train/labels/WEBFire1394_jpg.rf.d69670400f4cbd5b53ca889afcca5304.txt  \n",
      "  inflating: ./add_smoke_data/train/labels/WEBFire1394_jpg.rf.df973b0135567c194d1951b74abee8da.txt  \n",
      "  inflating: ./add_smoke_data/train/labels/WEBFire1430_jpg.rf.7f9083a9affc2aa4e764742e3b36315c.txt  \n",
      "  inflating: ./add_smoke_data/train/labels/WEBFire1430_jpg.rf.a0e312b293bb654e08e1dfc8e075ee86.txt  \n",
      "  inflating: ./add_smoke_data/train/labels/WEBFire1430_jpg.rf.e7b498e654594d2b9cdf3013885f2344.txt  \n",
      "  inflating: ./add_smoke_data/train/labels/WEBFire250_jpg.rf.8a6ec910e490630385c7e4eb1f2e8ec0.txt  \n",
      "  inflating: ./add_smoke_data/train/labels/WEBFire250_jpg.rf.ab9156c25685cd29e81d06c02ec60550.txt  \n",
      "  inflating: ./add_smoke_data/train/labels/WEBFire253_jpg.rf.f3ec919b5ff41f0134d7de1d58a4935e.txt  \n",
      "  inflating: ./add_smoke_data/train/labels/WEBFire611_jpg.rf.7f29373584085b8f137aaed2e7df39c3.txt  \n",
      "  inflating: ./add_smoke_data/train/labels/WEBFire611_jpg.rf.9848095a19a567047f8ddc9e8e3456f2.txt  \n",
      "  inflating: ./add_smoke_data/train/labels/WEBFire611_jpg.rf.c1bc9f059906334cf309a25db6eec240.txt  \n",
      "  inflating: ./add_smoke_data/train/labels/WEBFire785_jpg.rf.399b46cd6e0673ea381fd12b9ed3de0d.txt  \n",
      "  inflating: ./add_smoke_data/train/labels/WEBFire785_jpg.rf.d547acc5978c4ec16affeb2f7786bf97.txt  \n",
      "  inflating: ./add_smoke_data/train/labels/WEBSmoke003_jpg.rf.1ae6e52af8ae3623581f87938d5fc0a1.txt  \n",
      "  inflating: ./add_smoke_data/train/labels/WEBSmoke003_jpg.rf.748e36ea5bdbbe14c639deaffa0e456a.txt  \n",
      "  inflating: ./add_smoke_data/train/labels/WEBSmoke099_jpg.rf.01823b55c9508c04012d7ee209d70601.txt  \n",
      "  inflating: ./add_smoke_data/train/labels/WEBSmoke099_jpg.rf.17c07f53d9794a87442b0044e1432f5d.txt  \n",
      "  inflating: ./add_smoke_data/train/labels/WEBSmoke099_jpg.rf.e027174ea7beea72aa01cfdc3adef1c4.txt  \n",
      "  inflating: ./add_smoke_data/train/labels/WEBSmoke1209_jpg.rf.45df488b1d043b8acc3e48633f1bd0c7.txt  \n",
      "  inflating: ./add_smoke_data/train/labels/WEBSmoke1209_jpg.rf.8b4d1c8b9b6c162e6930d6ede7e7d7a1.txt  \n",
      "  inflating: ./add_smoke_data/train/labels/WEBSmoke1735_jpg.rf.93b877aa3c92c81bf63cfd9e111faf5d.txt  \n",
      "  inflating: ./add_smoke_data/train/labels/WEBSmoke1735_jpg.rf.fbb1b6c1ee89da190705b2e2624a0de4.txt  \n",
      "  inflating: ./add_smoke_data/train/labels/WEBSmoke2289_jpg.rf.29db3c5c452b8c7d04948c84d75f4a37.txt  \n",
      "  inflating: ./add_smoke_data/train/labels/WEBSmoke2289_jpg.rf.71df38f859c79e4877a9d5c1c27416e8.txt  \n",
      "  inflating: ./add_smoke_data/train/labels/WEBSmoke2311_jpg.rf.24d53c903e044f1d41db2866996e4b17.txt  \n",
      "  inflating: ./add_smoke_data/train/labels/WEBSmoke2311_jpg.rf.8aa7613bdc9b34cd3f6d8b3c117a3553.txt  \n",
      "  inflating: ./add_smoke_data/train/labels/WEBSmoke2332_jpg.rf.181d1a743be265c45a29c23c986f1c64.txt  \n",
      "  inflating: ./add_smoke_data/train/labels/WEBSmoke2332_jpg.rf.c15d9b2f209b7cb29345fbcff9aa316b.txt  \n",
      "  inflating: ./add_smoke_data/train/labels/WEBSmoke2332_jpg.rf.e8a42c2ac480d6c396271f05aebabca2.txt  \n",
      "  inflating: ./add_smoke_data/train/labels/WEBSmoke2334_jpg.rf.91fc5dfcf48f2643036b7e40b642be6a.txt  \n",
      "  inflating: ./add_smoke_data/train/labels/WEBSmoke2334_jpg.rf.c1fed072883e372fa130ae7c42d304dc.txt  \n",
      "  inflating: ./add_smoke_data/train/labels/WEBSmoke2334_jpg.rf.ea3d985cfeb3806f250c8e325ec5f569.txt  \n",
      "  inflating: ./add_smoke_data/train/labels/WEBSmoke2411_jpg.rf.34fe4e78d1048dee8a0ba3096d732aae.txt  \n",
      "  inflating: ./add_smoke_data/train/labels/WEBSmoke2411_jpg.rf.a42be343b698812ab855476de8287a49.txt  \n",
      "   creating: ./add_smoke_data/valid/\n",
      "   creating: ./add_smoke_data/valid/images/\n",
      "  inflating: ./add_smoke_data/valid/images/772_jpg.rf.c91ea57d24d036fd7a7595fd2107fe80.jpg  \n",
      "  inflating: ./add_smoke_data/valid/images/937_jpg.rf.7b39fe00ed7ac649972c8016276752d4.jpg  \n",
      "  inflating: ./add_smoke_data/valid/images/fire_test_img_110_jpg.rf.652ea7943e63d71382b3183aa4c90513.jpg  \n",
      "  inflating: ./add_smoke_data/valid/images/fire_test_img_111_jpg.rf.10e3ab666c1ff7ce806668723b09781c.jpg  \n",
      "  inflating: ./add_smoke_data/valid/images/fire_test_img_119_jpg.rf.19830c42bdff18bcbf546a4709d0a072.jpg  \n",
      "  inflating: ./add_smoke_data/valid/images/fire_test_img_125_jpg.rf.9916270d904e0d4808f176de8bf774cd.jpg  \n",
      "  inflating: ./add_smoke_data/valid/images/fire_test_img_126_jpg.rf.ae5cbabf25be69647c2db2c5a8267c77.jpg  \n",
      "  inflating: ./add_smoke_data/valid/images/fire_test_img_142_jpg.rf.07a7344e2751a4c08a499bd2259101bf.jpg  \n",
      "  inflating: ./add_smoke_data/valid/images/fire_test_img_145_jpg.rf.ff7aba0b6be32d861482ca7435947da0.jpg  \n",
      "  inflating: ./add_smoke_data/valid/images/fire_test_img_226_jpg.rf.c6d8284a367f897444317ddd1102c6f7.jpg  \n",
      "  inflating: ./add_smoke_data/valid/images/fire_test_img_259_jpg.rf.a03deee5a5017fd49a06f93b269a726b.jpg  \n",
      "  inflating: ./add_smoke_data/valid/images/fire_test_img_261_jpg.rf.723e8dbacd32b4b72cd32781fbf2fedb.jpg  \n",
      "  inflating: ./add_smoke_data/valid/images/fire_train_img_345_jpg.rf.20707a586728cb39eb893d1db978b481.jpg  \n",
      "  inflating: ./add_smoke_data/valid/images/fire_train_img_346_jpg.rf.ec874f8d6f28ec5253d1493288c9ec84.jpg  \n",
      "  inflating: ./add_smoke_data/valid/images/fire_train_img_347_jpg.rf.21dd4def24381d21448f31c55fece8af.jpg  \n",
      "  inflating: ./add_smoke_data/valid/images/fire_train_img_353_jpg.rf.4ccb339a06914460ce021d0ea5c01e2c.jpg  \n",
      "  inflating: ./add_smoke_data/valid/images/fire_train_img_355_jpg.rf.5081a160219af3c028a27e678d398ec7.jpg  \n",
      "  inflating: ./add_smoke_data/valid/images/fire_train_img_357_jpg.rf.ddfaf3a269eac0ba96df41229ae1e81c.jpg  \n",
      "  inflating: ./add_smoke_data/valid/images/fire_train_img_358_jpg.rf.1e52a3c331bdcc8df7fec5123d1bd1bd.jpg  \n",
      "  inflating: ./add_smoke_data/valid/images/fire_train_img_367_jpg.rf.8db82fddffe494b70e46604ee380fe9e.jpg  \n",
      "  inflating: ./add_smoke_data/valid/images/fire_train_img_368_jpg.rf.28ce1f19e7db56f841ec9e4aa1f0ab7e.jpg  \n",
      "  inflating: ./add_smoke_data/valid/images/fire_train_img_373_jpg.rf.65e452aa5227e21da1281643721ec159.jpg  \n",
      "  inflating: ./add_smoke_data/valid/images/fire_train_img_374_jpg.rf.f5cb4bcc569cc28b0d3a951c0cc651ba.jpg  \n",
      "  inflating: ./add_smoke_data/valid/images/fire_train_img_380_jpg.rf.efe2a92baf9e2afff36fbedf2fab4f94.jpg  \n",
      "  inflating: ./add_smoke_data/valid/images/fire_train_img_389_jpg.rf.6e0959dc75ad21a38e03c8ca43879309.jpg  \n",
      "  inflating: ./add_smoke_data/valid/images/fire_train_img_393_jpg.rf.ceef6c4460f5c8d576ec680c2e5ef799.jpg  \n",
      "  inflating: ./add_smoke_data/valid/images/fire_train_img_396_jpg.rf.8303da76913544e5419a112b96a4fc44.jpg  \n",
      "  inflating: ./add_smoke_data/valid/images/fire_train_img_397_jpg.rf.a5935e99766e6bc92d334169ef0123a2.jpg  \n",
      "  inflating: ./add_smoke_data/valid/images/fire_train_img_399_jpg.rf.8c46cdd627ef3c09aa4d09d9ab7ee6a9.jpg  \n",
      "  inflating: ./add_smoke_data/valid/images/fire_train_img_403_jpg.rf.fa61687d1a98c9bdf4f5a6bd2a0f552e.jpg  \n",
      "  inflating: ./add_smoke_data/valid/images/fire_train_img_406_jpg.rf.6c981df9ba9a5babf055d557c525dd35.jpg  \n",
      "  inflating: ./add_smoke_data/valid/images/fire_train_img_413_jpg.rf.288108afaa9b7a416e6c3dbfb79d4cd1.jpg  \n",
      "  inflating: ./add_smoke_data/valid/images/fire_train_img_414_jpg.rf.cb46339d6f717f88e4fa97a054ce8602.jpg  \n",
      "  inflating: ./add_smoke_data/valid/images/fire_train_img_416_jpg.rf.475dd301816ed40647a1bb1d0cd567ca.jpg  \n",
      "  inflating: ./add_smoke_data/valid/images/fire_train_img_422_jpg.rf.cab05f0e31f0f72669e816020036a8fc.jpg  \n",
      "  inflating: ./add_smoke_data/valid/images/fire_train_img_430_jpg.rf.94331a816ac3432bf5870821e088ad68.jpg  \n",
      "  inflating: ./add_smoke_data/valid/images/fire_train_img_431_jpg.rf.2b89c94405899d9d79e6a938c524c772.jpg  \n",
      "  inflating: ./add_smoke_data/valid/images/fire_train_img_437_jpg.rf.9c9ee97ca6811f830721087a11f3105f.jpg  \n",
      "  inflating: ./add_smoke_data/valid/images/fire_train_img_439_jpg.rf.d023ca608dda1cbab2c1841c01894eac.jpg  \n",
      "  inflating: ./add_smoke_data/valid/images/fire_train_img_448_jpg.rf.4fd18039f29cf864d00f364046b51a8e.jpg  \n",
      "  inflating: ./add_smoke_data/valid/images/fire_train_img_450_jpg.rf.8c6bee574884705e7cc09b32d0150ea3.jpg  \n",
      "  inflating: ./add_smoke_data/valid/images/fire_train_img_451_jpg.rf.2e1b9c8513899a457c75ab0818292dc5.jpg  \n",
      "  inflating: ./add_smoke_data/valid/images/fire_train_img_609_jpg.rf.be6cb74145b1c60ef7b2bdfb3db19b91.jpg  \n",
      "  inflating: ./add_smoke_data/valid/images/fire_train_img_616_jpg.rf.35de5a57b569fd64d01c6edc8696ac64.jpg  \n",
      "  inflating: ./add_smoke_data/valid/images/fire_train_img_618_jpg.rf.a7d06384c619de63e2fc5aeecabc5a40.jpg  \n",
      "  inflating: ./add_smoke_data/valid/images/fire_train_img_624_jpg.rf.2f614a0e5f91742cd1dba8b85070eb47.jpg  \n",
      "  inflating: ./add_smoke_data/valid/images/fire_train_img_631_jpg.rf.5dd17f177c0469a3c29323a0c9e246f8.jpg  \n",
      "  inflating: ./add_smoke_data/valid/images/fire_train_img_633_jpg.rf.17cc2716080d166a5bdb863ec58888c5.jpg  \n",
      "  inflating: ./add_smoke_data/valid/images/fire_train_img_642_jpg.rf.09bbd7c3f5e7da62123f18d8089f8776.jpg  \n",
      "  inflating: ./add_smoke_data/valid/images/fire_train_img_645_jpg.rf.8d7ab904cd5f9db666d7331ba1a2d072.jpg  \n",
      "  inflating: ./add_smoke_data/valid/images/fire_train_img_646_jpg.rf.243160aa162a57367e29bb0c1820d0de.jpg  \n",
      "  inflating: ./add_smoke_data/valid/images/fire_train_img_666_jpg.rf.041e668b7b3332d8af81bb16ed0f513c.jpg  \n",
      "  inflating: ./add_smoke_data/valid/images/fire_train_img_668_jpg.rf.b2702d00ed57003cec390e9f830b6e96.jpg  \n",
      "  inflating: ./add_smoke_data/valid/images/fire_train_img_715_jpg.rf.397af47d15fef625cb4239ce3af59c56.jpg  \n",
      "  inflating: ./add_smoke_data/valid/images/fire_train_img_718_jpg.rf.2c9c9e8b58af8e8447c86cd6cb0bb2dd.jpg  \n",
      "  inflating: ./add_smoke_data/valid/images/fire_train_img_722_jpg.rf.86c9714156827f735341a88da1352cec.jpg  \n",
      "  inflating: ./add_smoke_data/valid/images/fire_train_img_724_jpg.rf.d266609f1636116955084dc347efd51a.jpg  \n",
      "  inflating: ./add_smoke_data/valid/images/fire_train_img_739_jpg.rf.f24030e3780e96c51f5587ba58b71847.jpg  \n",
      "  inflating: ./add_smoke_data/valid/images/fire_train_img_744_jpg.rf.a4592d5b230d34aa1abd7de91eb55147.jpg  \n",
      "  inflating: ./add_smoke_data/valid/images/fire_train_img_751_jpg.rf.aefd74dffafc5f276f1d2b540f1ec9cb.jpg  \n",
      "  inflating: ./add_smoke_data/valid/images/fire_train_img_755_jpg.rf.69e91b1852c4ba12e11b9233917f6ad2.jpg  \n",
      "  inflating: ./add_smoke_data/valid/images/fire_train_img_756_jpg.rf.d72e27428f9edb1e3be92b170c841ddb.jpg  \n",
      "  inflating: ./add_smoke_data/valid/images/fire_train_img_766_jpg.rf.16b86b720bbfee64c6cd64f4871dfba4.jpg  \n",
      "  inflating: ./add_smoke_data/valid/images/fire_train_img_768_jpg.rf.cbdb7478eddaa5102b6fe071ad978eae.jpg  \n",
      "  inflating: ./add_smoke_data/valid/images/fire_train_img_773_jpg.rf.46a1fa10ec73926c53c26cb0144bc1e1.jpg  \n",
      "  inflating: ./add_smoke_data/valid/images/fire_train_img_775_jpg.rf.9625023e65733ecf165965bc7ba43b40.jpg  \n",
      "  inflating: ./add_smoke_data/valid/images/fire_train_img_783_jpg.rf.d18eb93b179894ba315a94bdb18733cf.jpg  \n",
      "  inflating: ./add_smoke_data/valid/images/fire_train_img_785_jpg.rf.5d4fe47e4e108e076ac15ee6f2dc0c31.jpg  \n",
      "  inflating: ./add_smoke_data/valid/images/fire_train_img_85_jpg.rf.1327b02a56d13d3d923d3f2d6505f99c.jpg  \n",
      "  inflating: ./add_smoke_data/valid/images/fire_train_img_86_jpg.rf.87f739862abb84b0f91596395580037d.jpg  \n",
      "  inflating: ./add_smoke_data/valid/images/fire_train_img_89_jpg.rf.93ccbd72e4c262fc52ae626c6042da8b.jpg  \n",
      "  inflating: ./add_smoke_data/valid/images/fire_train_img_93_jpg.rf.db131edefb6557ea2553ac1f5d5d6029.jpg  \n",
      "  inflating: ./add_smoke_data/valid/images/fire1-1238-_jpg.rf.7607df8214d39a3fdcae56f22d10c687.jpg  \n",
      "  inflating: ./add_smoke_data/valid/images/fire1-1384-_jpg.rf.d7c04788b112032e5d2411900d8b2080.jpg  \n",
      "  inflating: ./add_smoke_data/valid/images/fires-101-_jpg.rf.a91e1bb933276f45eed740011e11ac93.jpg  \n",
      "  inflating: ./add_smoke_data/valid/images/fires-102-_jpg.rf.6c47c939d30800ca4793e1444798abc7.jpg  \n",
      "  inflating: ./add_smoke_data/valid/images/fires-105-_jpg.rf.0230ac39cbfd3fac0cf4515f5201cfda.jpg  \n",
      "  inflating: ./add_smoke_data/valid/images/fires-106-_jpg.rf.b9a99d95b222cec730bd3db3a34d350c.jpg  \n",
      "  inflating: ./add_smoke_data/valid/images/fires-107-_jpg.rf.ff03aecdd2e764f2d8a275ec820a89e4.jpg  \n",
      "  inflating: ./add_smoke_data/valid/images/fires-113-_jpg.rf.5be87defcbd1a17e6fafb0b47d0302d3.jpg  \n",
      "  inflating: ./add_smoke_data/valid/images/fires-22-_jpg.rf.7e02c65c05f1752ea621a9d6d84a3936.jpg  \n",
      "  inflating: ./add_smoke_data/valid/images/fires-23-_jpg.rf.cc6d0a984d4a6355118971a5cb293070.jpg  \n",
      "  inflating: ./add_smoke_data/valid/images/fires-30-_jpg.rf.bc7ec3245ce6c418548603dac69774cf.jpg  \n",
      "  inflating: ./add_smoke_data/valid/images/fires-32-_jpg.rf.d7abd6ee2d3acaffb8ec60dafd935824.jpg  \n",
      "  inflating: ./add_smoke_data/valid/images/fires-34-_jpg.rf.837fb38bad962a0076f291bed099e9b8.jpg  \n",
      "  inflating: ./add_smoke_data/valid/images/fires-35-_jpg.rf.1d55fb7da294c4fc90760834c639f4a0.jpg  \n",
      "  inflating: ./add_smoke_data/valid/images/fires-41-_jpg.rf.ced37cbbe3033c317743d0fdeb663ecc.jpg  \n",
      "  inflating: ./add_smoke_data/valid/images/fires-46-_jpg.rf.665edf6fc8ed3d470df93f4bd6477ab9.jpg  \n",
      "  inflating: ./add_smoke_data/valid/images/fires-50-_jpg.rf.e16bde2cbc3bdeb42b184bdfa0f25332.jpg  \n",
      "  inflating: ./add_smoke_data/valid/images/fires-66-_jpg.rf.8117138935a6339b68914b85650959f3.jpg  \n",
      "  inflating: ./add_smoke_data/valid/images/fires-67-_jpg.rf.95bd4c3888a7890b9ba36a2c97463ae6.jpg  \n",
      "  inflating: ./add_smoke_data/valid/images/fires-78-_jpg.rf.2c1cb32b916093718a755c115d73557b.jpg  \n",
      "  inflating: ./add_smoke_data/valid/images/fires-81-_jpg.rf.5a74bea454293fd44557fa1083e3a102.jpg  \n",
      "  inflating: ./add_smoke_data/valid/images/fires-84-_jpg.rf.5dd93fd3b96ce5d7ee0b2f6f52b3f638.jpg  \n",
      "  inflating: ./add_smoke_data/valid/images/fires-9-_jpg.rf.f497846780ff95347dda05a95ec111dd.jpg  \n",
      "  inflating: ./add_smoke_data/valid/images/fires-96-_jpg.rf.c1dabb7e691391fb372796909348bd8e.jpg  \n",
      "  inflating: ./add_smoke_data/valid/images/H_00300_png.rf.3e2477a70d015cd50a9e7226e7356da9.jpg  \n",
      "  inflating: ./add_smoke_data/valid/images/H_00387_png.rf.5db9fd2777de7e0e8b1afce63bde3255.jpg  \n",
      "  inflating: ./add_smoke_data/valid/images/H_00715_png.rf.1c8d3b36475bfe086c0da464f1fa1500.jpg  \n",
      "  inflating: ./add_smoke_data/valid/images/H_02118_png.rf.7c0c8a7156d0478f0b7304e89b6a20d7.jpg  \n",
      "  inflating: ./add_smoke_data/valid/images/H_02292_png.rf.92012e12bd76170171f93a5b73feb184.jpg  \n",
      "  inflating: ./add_smoke_data/valid/images/H_04143_png.rf.21ee687c26280fe075ee1ed29a6b4ba1.jpg  \n",
      "  inflating: ./add_smoke_data/valid/images/H_04213_png.rf.d356b1f70d10e600e8dbbd509b650078.jpg  \n",
      "  inflating: ./add_smoke_data/valid/images/H_04637_png.rf.fe361ed6c208128353e8d3b49aa1d0f3.jpg  \n",
      "  inflating: ./add_smoke_data/valid/images/H_05218_png.rf.0ad0d4e2d564b54b1678724a9bdcc004.jpg  \n",
      "  inflating: ./add_smoke_data/valid/images/H_06831_png.rf.c8c5c518ed99bb1a2d2a9c197dc4a736.jpg  \n",
      "  inflating: ./add_smoke_data/valid/images/H_07140_png.rf.47e5431d047e43c59b54937d9567130d.jpg  \n",
      "  inflating: ./add_smoke_data/valid/images/H_07826_png.rf.46b21fee7fd1388bf21ccb5322f06053.jpg  \n",
      "  inflating: ./add_smoke_data/valid/images/H_09814_png.rf.63d2e7315f2e028ffbfc6c05f672404a.jpg  \n",
      "  inflating: ./add_smoke_data/valid/images/image-108-_jpg.rf.b53e4a130e9d0d0c01fbb9292b3fb60b.jpg  \n",
      "  inflating: ./add_smoke_data/valid/images/image-109-_jpg.rf.e1599e52b743866d1c15f30bfb50616b.jpg  \n",
      "  inflating: ./add_smoke_data/valid/images/image-110-_jpg.rf.f936a52fed4a13605fd076eec4a3d051.jpg  \n",
      "  inflating: ./add_smoke_data/valid/images/image-116-_jpg.rf.74abba882c9de75cddf6ae783fda2125.jpg  \n",
      "  inflating: ./add_smoke_data/valid/images/image-122-_jpg.rf.c08f4764d72d15459baf33ed316b9f48.jpg  \n",
      "  inflating: ./add_smoke_data/valid/images/image-125-_jpg.rf.c5971dc54c15c41afacf0511799836ee.jpg  \n",
      "  inflating: ./add_smoke_data/valid/images/image-13-_jpg.rf.50c1460799c1bcc3e12e82be35c1aaf7.jpg  \n",
      "  inflating: ./add_smoke_data/valid/images/image-134-_jpg.rf.b2e80ece7f5058bd1c3ea1c0b3742a6a.jpg  \n",
      "  inflating: ./add_smoke_data/valid/images/image-135-_jpg.rf.9d7c4f2297f1a7f55e7cc52464f431c2.jpg  \n",
      "  inflating: ./add_smoke_data/valid/images/image-144-_jpg.rf.2b2e012941fbdef71d8f8f48ba482344.jpg  \n",
      "  inflating: ./add_smoke_data/valid/images/image-145-_jpg.rf.532b357af1d1effbeff39afc2c56bc55.jpg  \n",
      "  inflating: ./add_smoke_data/valid/images/image-152-_jpg.rf.43df60f3ba244b672d3387c30bc5f373.jpg  \n",
      "  inflating: ./add_smoke_data/valid/images/image-154-_jpg.rf.3e207b65ed908aabfff6c0379cc159d5.jpg  \n",
      "  inflating: ./add_smoke_data/valid/images/image-155-_jpg.rf.a96dcab811bb6a7a6fa5ede536d985c5.jpg  \n",
      "  inflating: ./add_smoke_data/valid/images/image-159-_jpg.rf.f7d2988544baed6649a820659edfb13a.jpg  \n",
      "  inflating: ./add_smoke_data/valid/images/image-162-_jpg.rf.090fe50172090cab5f63f670cd8f2e56.jpg  \n",
      "  inflating: ./add_smoke_data/valid/images/image-165-_jpg.rf.9d66e31764d55d2603038c12752a2532.jpg  \n",
      "  inflating: ./add_smoke_data/valid/images/image-173-_jpg.rf.09e5aa7de1f8376d0480160825781f18.jpg  \n",
      "  inflating: ./add_smoke_data/valid/images/image-177-_jpg.rf.c84024d7ff0091834e39258f089adabb.jpg  \n",
      "  inflating: ./add_smoke_data/valid/images/image-187-_jpg.rf.5cc5bedbb8afb5ac23b84cdaa3f8ef4d.jpg  \n",
      "  inflating: ./add_smoke_data/valid/images/image-188-_jpg.rf.d01771268615527cbe712c3299043c16.jpg  \n",
      "  inflating: ./add_smoke_data/valid/images/image-202-_jpg.rf.62192845989d6cc25145ae4755289ab1.jpg  \n",
      "  inflating: ./add_smoke_data/valid/images/image-208-_jpg.rf.f0b4afc1dafcf5749f611a61597f8bbc.jpg  \n",
      "  inflating: ./add_smoke_data/valid/images/image-211-_jpg.rf.d3e8fc575e5892ddb1a5b067549320d8.jpg  \n",
      "  inflating: ./add_smoke_data/valid/images/image-229-_jpg.rf.6eb22f9788bbf4185b5bf6f09bcdf778.jpg  \n",
      "  inflating: ./add_smoke_data/valid/images/image-242-_jpg.rf.af5f0cd90dd5d90a0f5b73b0e90d55b6.jpg  \n",
      "  inflating: ./add_smoke_data/valid/images/image-243-_jpg.rf.d857123c398146d6938f9a6698e824f3.jpg  \n",
      "  inflating: ./add_smoke_data/valid/images/image-245-_jpg.rf.14c151578f1c08a8f6dc281c48fc1ddf.jpg  \n",
      "  inflating: ./add_smoke_data/valid/images/image-25-_jpg.rf.5cf3b7bc0ef1523c674cb3e187b90db7.jpg  \n",
      "  inflating: ./add_smoke_data/valid/images/image-250-_jpg.rf.ecb78aa6bf61d2c15e1b28a7761016b5.jpg  \n",
      "  inflating: ./add_smoke_data/valid/images/image-253-_jpg.rf.f00e6836b6a657aca6886ce249cf6ae9.jpg  \n",
      "  inflating: ./add_smoke_data/valid/images/image-260-_jpg.rf.bc81b3625778b65bf1717fccc314ed99.jpg  \n",
      "  inflating: ./add_smoke_data/valid/images/image-265-_jpg.rf.3e5ddf9c9888b8a4bc7762a3df795adc.jpg  \n",
      "  inflating: ./add_smoke_data/valid/images/image-277-_jpg.rf.dbcd08ff0b71b94f48298b0461ca3d81.jpg  \n",
      "  inflating: ./add_smoke_data/valid/images/image-287-_jpg.rf.ccbc6e57b25b09180a661c778e4a854a.jpg  \n",
      "  inflating: ./add_smoke_data/valid/images/image-288-_jpg.rf.95c4af9da7b25bb89d5662fac6d053ef.jpg  \n",
      "  inflating: ./add_smoke_data/valid/images/image-293-_jpg.rf.7e2354ed10cdbd33b68ac1e7f0207623.jpg  \n",
      "  inflating: ./add_smoke_data/valid/images/image-294-_jpg.rf.e9b1f6ca2da9678697e5818151e9f6ad.jpg  \n",
      "  inflating: ./add_smoke_data/valid/images/image-300-_jpg.rf.ee90ef8aa7e26b88bc32d2bcf1e763b3.jpg  \n",
      "  inflating: ./add_smoke_data/valid/images/image-301-_jpg.rf.a057b08074e887cf1c00b29a5ca81086.jpg  \n",
      "  inflating: ./add_smoke_data/valid/images/image-303-_jpg.rf.a883fa07f97769f85e36c9bcbf477aa1.jpg  \n",
      "  inflating: ./add_smoke_data/valid/images/image-305-_jpg.rf.01efaeefd3506943f94068083d7506b0.jpg  \n",
      "  inflating: ./add_smoke_data/valid/images/image-318-_jpg.rf.59bda11c759519162693c5cae51ceeac.jpg  \n",
      "  inflating: ./add_smoke_data/valid/images/image-320-_jpg.rf.6ddc3f4d61e0e21596634b514de77a18.jpg  \n",
      "  inflating: ./add_smoke_data/valid/images/image-322-_jpg.rf.67b94a3632e77148e39dc6cc735f401b.jpg  \n",
      "  inflating: ./add_smoke_data/valid/images/image-326-_jpg.rf.6803cfdfa3221ffe1db2394311b3fb64.jpg  \n",
      "  inflating: ./add_smoke_data/valid/images/image-331-_jpg.rf.434a449ad7e879b302840a8c327df88a.jpg  \n",
      "  inflating: ./add_smoke_data/valid/images/image-332-_jpg.rf.709a97c8f547c99548e7c11958cd285c.jpg  \n",
      "  inflating: ./add_smoke_data/valid/images/image-334-_jpg.rf.f0813f9cd3ed8c536bd62058d3c00fea.jpg  \n",
      "  inflating: ./add_smoke_data/valid/images/image-335-_jpg.rf.96e3933f2a059ed003c73fdd1815d4aa.jpg  \n",
      "  inflating: ./add_smoke_data/valid/images/image-337-_jpg.rf.2d3b67422fae8d9ca27919f73227834d.jpg  \n",
      "  inflating: ./add_smoke_data/valid/images/image-346-_jpg.rf.98476cef3f72896edee7e9afeb0223d6.jpg  \n",
      "  inflating: ./add_smoke_data/valid/images/image-348-_jpg.rf.a368984ee4d8ee1a7bd7f791c55fd399.jpg  \n",
      "  inflating: ./add_smoke_data/valid/images/image-35-_jpg.rf.9ee67dd78213a55d1729a0d694724d78.jpg  \n",
      "  inflating: ./add_smoke_data/valid/images/image-358-_jpg.rf.a9dbdeeb7b235611005d6b76e7daeabe.jpg  \n",
      "  inflating: ./add_smoke_data/valid/images/image-365-_jpg.rf.a04598519d8c4e5090231038715306cf.jpg  \n",
      "  inflating: ./add_smoke_data/valid/images/image-366-_jpg.rf.5464789eb2c846261de8379562104bdc.jpg  \n",
      "  inflating: ./add_smoke_data/valid/images/image-387-_jpg.rf.554fb27ae3723fcec370a49c3f559a9f.jpg  \n",
      "  inflating: ./add_smoke_data/valid/images/image-388-_jpg.rf.f7eefeeace4d0332b0c5a00c8dc5f184.jpg  \n",
      "  inflating: ./add_smoke_data/valid/images/image-39-_jpg.rf.0d4854475f581052cb72467aa641693e.jpg  \n",
      "  inflating: ./add_smoke_data/valid/images/image-401-_jpg.rf.2b487ce29bf48a57d21608f64a50112e.jpg  \n",
      "  inflating: ./add_smoke_data/valid/images/image-404-_jpg.rf.2a6b2b7df89fa6ed45536f8819a96005.jpg  \n",
      "  inflating: ./add_smoke_data/valid/images/image-410-_jpg.rf.7984c9c0bc2a10565c2d61ff2908a916.jpg  \n",
      "  inflating: ./add_smoke_data/valid/images/image-417-_jpg.rf.4bc7dd15bc228581e3edaba4b932e2d7.jpg  \n",
      "  inflating: ./add_smoke_data/valid/images/image-422-_jpg.rf.fe9fa6519cdd69279a046353b573e860.jpg  \n",
      "  inflating: ./add_smoke_data/valid/images/image-424-_jpg.rf.43d204c0027c3613c3fd538072e96de6.jpg  \n",
      "  inflating: ./add_smoke_data/valid/images/image-425-_jpg.rf.b1c3d2842fa5be6487de6d33648e316f.jpg  \n",
      "  inflating: ./add_smoke_data/valid/images/image-430-_jpg.rf.d9713996a412fc80b869f57443ff0640.jpg  \n",
      "  inflating: ./add_smoke_data/valid/images/image-432-_jpg.rf.8d2ec4592aa37a46ab9b9c59784f3724.jpg  \n",
      "  inflating: ./add_smoke_data/valid/images/image-434-_jpg.rf.1eb898f7f3b350d3b993a2562ed5aea4.jpg  \n",
      "  inflating: ./add_smoke_data/valid/images/image-436-_jpg.rf.0b2d854ec28b7fe2ddb16c5a8834138c.jpg  \n",
      "  inflating: ./add_smoke_data/valid/images/image-443-_jpg.rf.3b64cde6fc427d2bf38a58c789f6bde9.jpg  \n",
      "  inflating: ./add_smoke_data/valid/images/image-45-_jpg.rf.cced8961efea42d103ec065256a2ab2d.jpg  \n",
      "  inflating: ./add_smoke_data/valid/images/image-452-_jpg.rf.b91acf34d571f063195b096adba9e433.jpg  \n",
      "  inflating: ./add_smoke_data/valid/images/image-455-_jpg.rf.6b1b8c0b1186ce6aaecad7f92aa8c161.jpg  \n",
      "  inflating: ./add_smoke_data/valid/images/image-470-_jpg.rf.96bbf1c289f87af36d30336ae0d7710a.jpg  \n",
      "  inflating: ./add_smoke_data/valid/images/image-475-_jpg.rf.ebebfe37f5ca72c596ffc91ac77429fd.jpg  \n",
      "  inflating: ./add_smoke_data/valid/images/image-494-_jpg.rf.721903ad7e28d49d1054e5426bbf30fb.jpg  \n",
      "  inflating: ./add_smoke_data/valid/images/image-505-_jpg.rf.4a506d9101b4dfa07f6410c0e5a67239.jpg  \n",
      "  inflating: ./add_smoke_data/valid/images/image-510-_jpg.rf.acf7fd3cbb365b3c22e3c9336d3bc191.jpg  \n",
      "  inflating: ./add_smoke_data/valid/images/image-514-_jpg.rf.2402523628f250fc621c08c998e4bbff.jpg  \n",
      "  inflating: ./add_smoke_data/valid/images/image-517-_jpg.rf.d0b6367f0957474762d7cd52c77c4f2f.jpg  \n",
      "  inflating: ./add_smoke_data/valid/images/image-528-_jpg.rf.a3d030469368c9e75d447626ac9e9b8e.jpg  \n",
      "  inflating: ./add_smoke_data/valid/images/image-538-_jpg.rf.8434b31358d0165533fe86e39607f8c7.jpg  \n",
      "  inflating: ./add_smoke_data/valid/images/image-546-_jpg.rf.1716326f2e93b5ee19ce572501a911c9.jpg  \n",
      "  inflating: ./add_smoke_data/valid/images/image-547-_jpg.rf.2361f09bb39aa3265a1523b70c713191.jpg  \n",
      "  inflating: ./add_smoke_data/valid/images/image-549-_jpg.rf.426df5bd85f77f1a1f61cb7572adf724.jpg  \n",
      "  inflating: ./add_smoke_data/valid/images/image-552-_jpg.rf.45eaee3c2e0751cddcbd548560c56ca0.jpg  \n",
      "  inflating: ./add_smoke_data/valid/images/image-553-_jpg.rf.3a78e59a40630cd5c39ca873564cd557.jpg  \n",
      "  inflating: ./add_smoke_data/valid/images/image-56-_jpg.rf.5f8578cf9a83862a3aab5fa4cd0207c9.jpg  \n",
      "  inflating: ./add_smoke_data/valid/images/image-561-_jpg.rf.ee75039a79d221266a53d1922faf1848.jpg  \n",
      "  inflating: ./add_smoke_data/valid/images/image-573-_jpg.rf.1ea904384d7acb05cfce64d572b2da9f.jpg  \n",
      "  inflating: ./add_smoke_data/valid/images/image-576-_jpg.rf.7d260e3f76bbd2ce3cd4a3aa1e2df05a.jpg  \n",
      "  inflating: ./add_smoke_data/valid/images/image-583-_jpg.rf.751597081a1579b03edc687473ff7f9e.jpg  \n",
      "  inflating: ./add_smoke_data/valid/images/image-585-_jpg.rf.32492a16f2e10457afe3ec98ef422992.jpg  \n",
      "  inflating: ./add_smoke_data/valid/images/image-591-_jpg.rf.57e97ec90f9f328dff2851fc4897053d.jpg  \n",
      "  inflating: ./add_smoke_data/valid/images/image-593-_jpg.rf.df0df30198f0a71731a71bed8c1ef311.jpg  \n",
      "  inflating: ./add_smoke_data/valid/images/image-596-_jpg.rf.f0cd2e53a1e4cdcec0e9a2233eeb555a.jpg  \n",
      "  inflating: ./add_smoke_data/valid/images/image-599-_jpg.rf.809a212936bc8a5b29fd351eb3e9e885.jpg  \n",
      "  inflating: ./add_smoke_data/valid/images/image-603-_jpg.rf.1a28859a785bd25552c7d66bd9c2de0e.jpg  \n",
      "  inflating: ./add_smoke_data/valid/images/image-605-_jpg.rf.025cfd060865b9989f2dd2f122f8c880.jpg  \n",
      "  inflating: ./add_smoke_data/valid/images/image-607-_jpg.rf.399e2482f2e8fab0dd5175909c5f332d.jpg  \n",
      "  inflating: ./add_smoke_data/valid/images/image-608-_jpg.rf.3a9c08d84bb00078f3c64e5a47078577.jpg  \n",
      "  inflating: ./add_smoke_data/valid/images/image-610-_jpg.rf.363b82101f7c5d84f990654b3c13b89b.jpg  \n",
      "  inflating: ./add_smoke_data/valid/images/image-611-_jpg.rf.7c6aa78898450a5c0c013084fd4bb4ec.jpg  \n",
      "  inflating: ./add_smoke_data/valid/images/image-614-_jpg.rf.863ff97c90ae36a3b8ac72444e198d9f.jpg  \n",
      "  inflating: ./add_smoke_data/valid/images/image-619-_jpg.rf.71d53574030591eb3aed13138d939d3f.jpg  \n",
      "  inflating: ./add_smoke_data/valid/images/image-634-_jpg.rf.6c1aa1a353358186e435f3c1a79a68c4.jpg  \n",
      "  inflating: ./add_smoke_data/valid/images/image-639-_jpg.rf.ebd4e897c93f0bb390a1600f6c1d817d.jpg  \n",
      "  inflating: ./add_smoke_data/valid/images/image-641-_jpg.rf.cff45d8d5a5a386055de0887b7777528.jpg  \n",
      "  inflating: ./add_smoke_data/valid/images/image-644-_jpg.rf.fe1a3a89f1513eca64d307b9bdbdd0c5.jpg  \n",
      "  inflating: ./add_smoke_data/valid/images/image-648-_jpg.rf.fa1ed3963ec885ee91c342d8de90b081.jpg  \n",
      "  inflating: ./add_smoke_data/valid/images/image-65-_jpg.rf.eb387406c128b17bc3da170ffedd5a77.jpg  \n",
      "  inflating: ./add_smoke_data/valid/images/image-657-_jpg.rf.384d4991c5a419792e39995bab78cc03.jpg  \n",
      "  inflating: ./add_smoke_data/valid/images/image-660-_jpg.rf.6803d58b0e8a0a7c6325260c3df6a4aa.jpg  \n",
      "  inflating: ./add_smoke_data/valid/images/image-663-_jpg.rf.880e291bc47acf6b839bfd4c3922dc1f.jpg  \n",
      "  inflating: ./add_smoke_data/valid/images/image-664-_jpg.rf.e0d72581d9d46309e52bc29513391242.jpg  \n",
      "  inflating: ./add_smoke_data/valid/images/image-671-_jpg.rf.f96112ef912d8db5c59771981057fe8c.jpg  \n",
      "  inflating: ./add_smoke_data/valid/images/image-678-_jpg.rf.f5ddb30920b5c1e142fd8f8b2369c662.jpg  \n",
      "  inflating: ./add_smoke_data/valid/images/image-68-_jpg.rf.5013a56cbcf65b49b7aa07924d7a9256.jpg  \n",
      "  inflating: ./add_smoke_data/valid/images/image-680-_jpg.rf.d032428baccf3b65b80f18e66a4d1932.jpg  \n",
      "  inflating: ./add_smoke_data/valid/images/image-683-_jpg.rf.d96fe0464285338d7917bc27af98da8d.jpg  \n",
      "  inflating: ./add_smoke_data/valid/images/image-686-_jpg.rf.b2bbf14a0be3b4e48019738996cd4269.jpg  \n",
      "  inflating: ./add_smoke_data/valid/images/image-687-_jpg.rf.42942750a422a25413ed85f8ba80db8b.jpg  \n",
      "  inflating: ./add_smoke_data/valid/images/image-688-_jpg.rf.f678b0a5abf88fc38ea8852a62663a41.jpg  \n",
      "  inflating: ./add_smoke_data/valid/images/image-690-_jpg.rf.c45e3a68d30e8b5b8867bdeffcff4f89.jpg  \n",
      "  inflating: ./add_smoke_data/valid/images/image-697-_jpg.rf.efb079f8f7fc4a42750c03797a14d156.jpg  \n",
      "  inflating: ./add_smoke_data/valid/images/image-7-_jpg.rf.372c7510d6423a0e92a48630ac9f08f2.jpg  \n",
      "  inflating: ./add_smoke_data/valid/images/image-709-_jpg.rf.f3fd9d111eb2ea4509730f48127cb308.jpg  \n",
      "  inflating: ./add_smoke_data/valid/images/image-710-_jpg.rf.f32d98a9fda2f92618e291bd5ebcbbf6.jpg  \n",
      "  inflating: ./add_smoke_data/valid/images/image-711-_jpg.rf.a7de5f57f34a0f14da05531990405c53.jpg  \n",
      "  inflating: ./add_smoke_data/valid/images/image-714-_jpg.rf.7717129c84bc7c403745c1a55a7f6ac0.jpg  \n",
      "  inflating: ./add_smoke_data/valid/images/image-719-_jpg.rf.c959153c0afce37b056f1fb129ddb21c.jpg  \n",
      "  inflating: ./add_smoke_data/valid/images/image-732-_jpg.rf.e267706bc577e435a396f2153388c687.jpg  \n",
      "  inflating: ./add_smoke_data/valid/images/image-733-_jpg.rf.f86bdf0ca3295f4412f30afbe7e42459.jpg  \n",
      "  inflating: ./add_smoke_data/valid/images/image-738-_jpg.rf.35613ad74482d261f343eac5ea2c061f.jpg  \n",
      "  inflating: ./add_smoke_data/valid/images/image-74-_jpg.rf.92c460f2e338201a8aabf9cfd186d425.jpg  \n",
      "  inflating: ./add_smoke_data/valid/images/image-751-_jpg.rf.4f05a799a611c0f69046f9fe918ea8db.jpg  \n",
      "  inflating: ./add_smoke_data/valid/images/image-758-_jpg.rf.1d9e1b1b44cd8a77aab5b944b4f50427.jpg  \n",
      "  inflating: ./add_smoke_data/valid/images/image-761-_jpg.rf.ceb318f89a3e601bcdbcf7f4ba8889e5.jpg  \n",
      "  inflating: ./add_smoke_data/valid/images/image-765-_jpg.rf.0266fff0425be446e6df8b5e320dc873.jpg  \n",
      "  inflating: ./add_smoke_data/valid/images/image-766-_jpg.rf.58989ebb01086f55689fbd21b4259cf6.jpg  \n",
      "  inflating: ./add_smoke_data/valid/images/image-769-_jpg.rf.55543f7ab72111ed8940b24b9447c30c.jpg  \n",
      "  inflating: ./add_smoke_data/valid/images/image-77-_jpg.rf.8e625d8cf73da58acf7ffcab851eca19.jpg  \n",
      "  inflating: ./add_smoke_data/valid/images/image-771-_jpg.rf.509820ed0f2a09f07c02d0627c90fd34.jpg  \n",
      "  inflating: ./add_smoke_data/valid/images/image-778-_jpg.rf.03d9c39be76a547f5bd76b1c19dea41d.jpg  \n",
      "  inflating: ./add_smoke_data/valid/images/image-779-_jpg.rf.498cbf3b7abfe234134aecc7d62db154.jpg  \n",
      "  inflating: ./add_smoke_data/valid/images/image-785-_jpg.rf.79ba826139b1c28eee63f8645ed184bb.jpg  \n",
      "  inflating: ./add_smoke_data/valid/images/image-790-_jpg.rf.0715882ad382f138ff1265cd4b1bdac0.jpg  \n",
      "  inflating: ./add_smoke_data/valid/images/image-792-_jpg.rf.a57a2d51856773f4a5a89b4a8ea1c024.jpg  \n",
      "  inflating: ./add_smoke_data/valid/images/image-797-_jpg.rf.5ac918e67ce59f38c81c6123da2cf322.jpg  \n",
      "  inflating: ./add_smoke_data/valid/images/image-802-_jpg.rf.4249c75588a227d176973a397f48f920.jpg  \n",
      "  inflating: ./add_smoke_data/valid/images/image-803-_jpg.rf.e5aca7f22ca932420678b300f4e539a0.jpg  \n",
      "  inflating: ./add_smoke_data/valid/images/image-814-_jpg.rf.57fb27efb51f64aaba781afd90815246.jpg  \n",
      "  inflating: ./add_smoke_data/valid/images/image-816-_jpg.rf.32ece0500df4ef6014f4f03c1366093e.jpg  \n",
      "  inflating: ./add_smoke_data/valid/images/image-818-_jpg.rf.3369f4d920277493c870b3f08f993827.jpg  \n",
      "  inflating: ./add_smoke_data/valid/images/image-820-_jpg.rf.51a65ba2b80c4fe197b89a0c49d711f0.jpg  \n",
      "  inflating: ./add_smoke_data/valid/images/image-831-_jpg.rf.1bf0ad6965a12f6ba95e21cfcebf9120.jpg  \n",
      "  inflating: ./add_smoke_data/valid/images/image-843-_jpg.rf.399d534a7bac2dfa99629613cb8966ea.jpg  \n",
      "  inflating: ./add_smoke_data/valid/images/image-863-_jpg.rf.bfda06120954e864f60d7d70d69fc47a.jpg  \n",
      "  inflating: ./add_smoke_data/valid/images/image-864-_jpg.rf.ade0d59e3f2089dd5832a59b1f676ec2.jpg  \n",
      "  inflating: ./add_smoke_data/valid/images/image-866-_jpg.rf.6b92d8451ecfaa27013ce24ae7fd9dee.jpg  \n",
      "  inflating: ./add_smoke_data/valid/images/image-869-_jpg.rf.50b8a8c9c1a1539799701e4696cf273d.jpg  \n",
      "  inflating: ./add_smoke_data/valid/images/image-87-_jpg.rf.15faaeab1f303bdb1e163747849da422.jpg  \n",
      "  inflating: ./add_smoke_data/valid/images/image-872-_jpg.rf.e40563c8c3a08f64ede2e063df21a7c9.jpg  \n",
      "  inflating: ./add_smoke_data/valid/images/image-879-_jpg.rf.4acde6c45ddd999c9f93ce63a7098387.jpg  \n",
      "  inflating: ./add_smoke_data/valid/images/image-88-_jpg.rf.6d50d343533268be4259d3d4a529115a.jpg  \n",
      "  inflating: ./add_smoke_data/valid/images/image-897-_jpg.rf.da5f802c9492486995a0ecf4ee513400.jpg  \n",
      "  inflating: ./add_smoke_data/valid/images/image-900-_jpg.rf.e45d7263b8b49e25c3c93128fee7ab1c.jpg  \n",
      "  inflating: ./add_smoke_data/valid/images/image-901-_jpg.rf.d344ae6e8f4f220bdcc962085ac00ac9.jpg  \n",
      "  inflating: ./add_smoke_data/valid/images/image-904-_jpg.rf.a5ba06270964a5359f476e271e8bb5ee.jpg  \n",
      "  inflating: ./add_smoke_data/valid/images/image-912-_jpg.rf.8e162e051d5078d02917a2ad18103cbb.jpg  \n",
      "  inflating: ./add_smoke_data/valid/images/image-927-_jpg.rf.ce8354ab43e0e5437efdf7399321a584.jpg  \n",
      "  inflating: ./add_smoke_data/valid/images/image-929-_jpg.rf.62c9df129f443d2d1ca124abe9a22a73.jpg  \n",
      "  inflating: ./add_smoke_data/valid/images/image-93-_jpg.rf.30ec3d9072d34d5df9dbc71b21dcc160.jpg  \n",
      "  inflating: ./add_smoke_data/valid/images/image-938-_jpg.rf.ec7a19829935898851b694021459762c.jpg  \n",
      "  inflating: ./add_smoke_data/valid/images/image-946-_jpg.rf.b74d27240bd681e6c0bfbc1c1d200673.jpg  \n",
      "  inflating: ./add_smoke_data/valid/images/image-95-_jpg.rf.b514115151488d91ba5a7a824ba3d645.jpg  \n",
      "  inflating: ./add_smoke_data/valid/images/image-954-_jpg.rf.32c778df9921d531254c9029a99b926c.jpg  \n",
      "  inflating: ./add_smoke_data/valid/images/image-961-_jpg.rf.94deecd110e03e56f73c0d51f55d5c54.jpg  \n",
      "  inflating: ./add_smoke_data/valid/images/image-962-_jpg.rf.9c029650ea62cbff0dae7c197b0ed103.jpg  \n",
      "  inflating: ./add_smoke_data/valid/images/image-966-_jpg.rf.67a42d8d2d02f18e02ef0548ddf9180d.jpg  \n",
      "  inflating: ./add_smoke_data/valid/images/image-971-_jpg.rf.4029d5a718809c7ade4c85db8992bada.jpg  \n",
      "  inflating: ./add_smoke_data/valid/images/image-973-_jpg.rf.968356ab81019b4b3a5a6a42fa42dce3.jpg  \n",
      "  inflating: ./add_smoke_data/valid/images/image-977-_jpg.rf.dbed8e2fd7ea27d346a9ab4c8de760a0.jpg  \n",
      "  inflating: ./add_smoke_data/valid/images/image-978-_jpg.rf.cf026d6802ef9bb286bb105faf6a04d3.jpg  \n",
      "  inflating: ./add_smoke_data/valid/images/images4-105-_jpg.rf.b655034835b3ae3167b6e9bc8a3e51d7.jpg  \n",
      "  inflating: ./add_smoke_data/valid/images/images4-108-_jpg.rf.c97f93441ba74925df9d5c2e369c594f.jpg  \n",
      "  inflating: ./add_smoke_data/valid/images/images4-111-_jpg.rf.4c4dbe6d32676b5d39657ba27eddf5ea.jpg  \n",
      "  inflating: ./add_smoke_data/valid/images/images4-115-_jpg.rf.50f4a14ba28f54a846470b82afa049d9.jpg  \n",
      "  inflating: ./add_smoke_data/valid/images/images4-117-_jpg.rf.ff45529ba3c4a77f8b1ae27eecb83277.jpg  \n",
      "  inflating: ./add_smoke_data/valid/images/images4-119-_jpg.rf.5d331481a7c91dbbeade9e778d6c288a.jpg  \n",
      "  inflating: ./add_smoke_data/valid/images/images4-121-_jpg.rf.4d5ad013b47dae7e3b1bbb926af8fd7a.jpg  \n",
      "  inflating: ./add_smoke_data/valid/images/images4-124-_jpg.rf.0f1ee09fce3918e14bd4134c38d8edb1.jpg  \n",
      "  inflating: ./add_smoke_data/valid/images/images4-128-_jpg.rf.e36ff799afda725adf20a9b831e78cc5.jpg  \n",
      "  inflating: ./add_smoke_data/valid/images/images4-139-_jpg.rf.2176083ca48662c272d3930db6855732.jpg  \n",
      "  inflating: ./add_smoke_data/valid/images/images4-156-_jpg.rf.66d76c6e60b9414af09bbeeca9c298e5.jpg  \n",
      "  inflating: ./add_smoke_data/valid/images/images4-158-_jpg.rf.9392608330793eac1e91d654b2b9a4dc.jpg  \n",
      "  inflating: ./add_smoke_data/valid/images/images4-163-_jpg.rf.4f7c82134e79829e5a6204443edb24c2.jpg  \n",
      "  inflating: ./add_smoke_data/valid/images/images4-171-_jpg.rf.f1758a930890333fa15aa6c59f15511f.jpg  \n",
      "  inflating: ./add_smoke_data/valid/images/images4-177-_jpg.rf.25592a1cf5d336a90377eb452865a901.jpg  \n",
      "  inflating: ./add_smoke_data/valid/images/images4-18-_jpg.rf.441bc1245f1df4d2845f53bc1438dd55.jpg  \n",
      "  inflating: ./add_smoke_data/valid/images/images4-180-_jpg.rf.2c1151edda6bbdd283cd48a201190cd2.jpg  \n",
      "  inflating: ./add_smoke_data/valid/images/images4-181-_jpg.rf.0fdbc5380179630040a1e9ec780f536b.jpg  \n",
      "  inflating: ./add_smoke_data/valid/images/images4-182-_jpg.rf.76c0bba2afb5ff777bc6e267d8cad32b.jpg  \n",
      "  inflating: ./add_smoke_data/valid/images/images4-24-_jpg.rf.e1575f87bf77aa0b60d5fece16e159dc.jpg  \n",
      "  inflating: ./add_smoke_data/valid/images/images4-3-_jpg.rf.bfd87ef7663cce03be0731519ebd6883.jpg  \n",
      "  inflating: ./add_smoke_data/valid/images/images4-33-_jpg.rf.d77a5dfdb84508008abe929ba4d4e59d.jpg  \n",
      "  inflating: ./add_smoke_data/valid/images/images4-48-_jpg.rf.762fd66b1fad0ad550415c7a9367b129.jpg  \n",
      "  inflating: ./add_smoke_data/valid/images/images4-49-_jpg.rf.ba5e7ccd74a9d563aa5abd1d35a2f9a9.jpg  \n",
      "  inflating: ./add_smoke_data/valid/images/images4-53-_jpg.rf.e5cfe35dcd8544592624b7a808fdb719.jpg  \n",
      "  inflating: ./add_smoke_data/valid/images/images4-54-_jpg.rf.57c561644784ad5b2570aac0f85c1fe5.jpg  \n",
      "  inflating: ./add_smoke_data/valid/images/images4-61-_jpg.rf.1a45f178e68c05705da181f2b4f4ca6c.jpg  \n",
      "  inflating: ./add_smoke_data/valid/images/images4-66-_jpg.rf.faa0d9d99cf604011251509eb87c309b.jpg  \n",
      "  inflating: ./add_smoke_data/valid/images/images4-76-_jpg.rf.0c19197cd95fb1121fdfb91e8fa0aae0.jpg  \n",
      "  inflating: ./add_smoke_data/valid/images/images4-78-_jpg.rf.65d027812ff363f60f1066c9252135e1.jpg  \n",
      "  inflating: ./add_smoke_data/valid/images/images4-88-_jpg.rf.c6b419e6ed1a71cd2a0ea54d786c9f23.jpg  \n",
      "  inflating: ./add_smoke_data/valid/images/images4-94-_jpg.rf.af896f95c7104776ad02e074a826deb7.jpg  \n",
      "  inflating: ./add_smoke_data/valid/images/L_01616_png.rf.f66b80ccd3abf8d70cfe10e83e559c13.jpg  \n",
      "  inflating: ./add_smoke_data/valid/images/L_01651_png.rf.e499fea285738f4cca0687b962c7ffe1.jpg  \n",
      "  inflating: ./add_smoke_data/valid/images/L_01834_png.rf.47f69eef0e261eba2325754453d7fb30.jpg  \n",
      "  inflating: ./add_smoke_data/valid/images/L_03478_png.rf.e629257eddaf87c5331228a17703d6a4.jpg  \n",
      "  inflating: ./add_smoke_data/valid/images/L_03888_png.rf.6ba2fdba4c3eadc6db82b9d31cbebcaa.jpg  \n",
      "  inflating: ./add_smoke_data/valid/images/L_04405_png.rf.d2bdf7a6b9e62de0f96ca2bd538e6f00.jpg  \n",
      "  inflating: ./add_smoke_data/valid/images/L_04680_png.rf.a1e56256857c678f827c85e861734fc3.jpg  \n",
      "  inflating: ./add_smoke_data/valid/images/M_00474_png.rf.b9935abdfa02a677734f5af21e78f6ad.jpg  \n",
      "  inflating: ./add_smoke_data/valid/images/M_00537_png.rf.395f2c236422766acd6ee840066c460b.jpg  \n",
      "  inflating: ./add_smoke_data/valid/images/M_01202_png.rf.e0430df4bf0afd462be2776c6f03e4c6.jpg  \n",
      "  inflating: ./add_smoke_data/valid/images/M_01253_png.rf.b51389cd2d7399a9667b37897a11bdf2.jpg  \n",
      "  inflating: ./add_smoke_data/valid/images/M_02589_png.rf.8c1c35a6cf96a17a7621f8f01ae56a2d.jpg  \n",
      "  inflating: ./add_smoke_data/valid/images/M_03207_png.rf.5121c483dec5d64abb20fae0550846c5.jpg  \n",
      "  inflating: ./add_smoke_data/valid/images/M_04529_png.rf.598ee18452f1446af566248cf39f5f5a.jpg  \n",
      "  inflating: ./add_smoke_data/valid/images/M_05427_png.rf.bf9d4f7e01d4eb0935387a4daac700e2.jpg  \n",
      "  inflating: ./add_smoke_data/valid/images/M_06080_png.rf.1865eef49d09e7e887edd0abbc9ef5f1.jpg  \n",
      "  inflating: ./add_smoke_data/valid/images/M_06523_png.rf.250f30d93c7000805c7f4c717ce0fa32.jpg  \n",
      "  inflating: ./add_smoke_data/valid/images/M_07057_png.rf.c3451500db8cc467f05eb67330b2b273.jpg  \n",
      "  inflating: ./add_smoke_data/valid/images/M_07090_png.rf.779f5f3212fb872fe0a312ad75dd27bf.jpg  \n",
      "  inflating: ./add_smoke_data/valid/images/M_07790_png.rf.278ca4108018436cf536281d29949c79.jpg  \n",
      "  inflating: ./add_smoke_data/valid/images/M_09257_png.rf.a02b6ba9540d962120d6d4fe8ee2f868.jpg  \n",
      "  inflating: ./add_smoke_data/valid/images/M_10393_png.rf.cd1e69a98f128379dd9aafde4b4b4a3b.jpg  \n",
      "  inflating: ./add_smoke_data/valid/images/M_14819_png.rf.d0366b01b9c96a24f9c064cc9d5be791.jpg  \n",
      "  inflating: ./add_smoke_data/valid/images/MirrorWEBSmoke2999_jpg.rf.640c5a70199fcfc26ddb6af872925b6d.jpg  \n",
      "  inflating: ./add_smoke_data/valid/images/new_fire_fire-62_png_jpg.rf.13cbee7ef626c91eeb28169ff32a2184.jpg  \n",
      "  inflating: ./add_smoke_data/valid/images/new_fire_fire-7_png_jpg.rf.7f9cce3cd5173a6c6c0108bdb87e2658.jpg  \n",
      "  inflating: ./add_smoke_data/valid/images/NoiseWEBFire1305_jpg.rf.e30d81a261237e78488bf300763d036b.jpg  \n",
      "  inflating: ./add_smoke_data/valid/images/NoiseWEBFire1378_jpg.rf.6c543bbe534dc04fd8fcb964e430e0a9.jpg  \n",
      "  inflating: ./add_smoke_data/valid/images/NoiseWEBFire1433_jpg.rf.c53ae675acabf674f7180794a5fdf525.jpg  \n",
      "  inflating: ./add_smoke_data/valid/images/NoiseWEBFire152_jpg.rf.e55ce62a969f101d02b65f553bdb86de.jpg  \n",
      "  inflating: ./add_smoke_data/valid/images/NoiseWEBFire174_jpg.rf.f1f8708446a8f44380729ffa1cb724e8.jpg  \n",
      "  inflating: ./add_smoke_data/valid/images/NoiseWEBFire188_jpg.rf.c256a90e961898d1fee5dd0d28919dc4.jpg  \n",
      "  inflating: ./add_smoke_data/valid/images/NoiseWEBSmoke2032_jpg.rf.fa53d6830a0f6efa5f1774a5036f1c43.jpg  \n",
      "  inflating: ./add_smoke_data/valid/images/NoiseWEBSmoke2255_jpg.rf.7bd3d165da7e90780c5964d4cbce3a62.jpg  \n",
      "  inflating: ./add_smoke_data/valid/images/NoiseWEBSmoke292_jpg.rf.389125e6bcf1b214cce479c7badbf738.jpg  \n",
      "  inflating: ./add_smoke_data/valid/images/NoiseWEBSmoke2951_jpg.rf.49c03ac6661e8a27d40794cb26a2e2a6.jpg  \n",
      "  inflating: ./add_smoke_data/valid/images/NoiseWEBSmoke2954_jpg.rf.b1aeb36fcbae30dc3cf4c565db3abad6.jpg  \n",
      "  inflating: ./add_smoke_data/valid/images/NoiseWEBSmoke3245_jpg.rf.f0f9d32724e6acaaeefd0a6aae54e342.jpg  \n",
      "  inflating: ./add_smoke_data/valid/images/photo-11-_jpg.rf.0df8ac77c4bd79be6865a38e62dd7960.jpg  \n",
      "  inflating: ./add_smoke_data/valid/images/photo-14-_jpg.rf.f1848d2ff7bb57210b49ae1e54b8e847.jpg  \n",
      "  inflating: ./add_smoke_data/valid/images/photo-3-_jpg.rf.1043b4374c189480369a0e7250aafde9.jpg  \n",
      "  inflating: ./add_smoke_data/valid/images/photo-30-_jpg.rf.95553a1fecd368d7a68adf796480b4ed.jpg  \n",
      "  inflating: ./add_smoke_data/valid/images/photo-37-_jpg.rf.02c5358b3947892e2c44ac5292e73290.jpg  \n",
      "  inflating: ./add_smoke_data/valid/images/photo-4-_jpg.rf.788730e7949ec8f11ba03ae57f4f6aa7.jpg  \n",
      "  inflating: ./add_smoke_data/valid/images/photo-7-_jpg.rf.5a25f5ae15174ca2b72d3581387ef436.jpg  \n",
      "  inflating: ./add_smoke_data/valid/images/S3-N0806MF07552_jpg.rf.18aebff88ae67111f4fd6bb0ec2d6cd4.jpg  \n",
      "  inflating: ./add_smoke_data/valid/images/S3-N0806MF07553_jpg.rf.891ad310f3d67845815e9129b258da7a.jpg  \n",
      "  inflating: ./add_smoke_data/valid/images/S3-N0806MF07568_jpg.rf.30aa3fafd78beb4e0cd7e2f5846a938a.jpg  \n",
      "  inflating: ./add_smoke_data/valid/images/S3-N0806MF07569_jpg.rf.95a2c51fb9a4c36676e9c03667204ca1.jpg  \n",
      "  inflating: ./add_smoke_data/valid/images/S3-N0806MF07606_jpg.rf.a6e45e2c41a56a294e4dd2c8a6778561.jpg  \n",
      "  inflating: ./add_smoke_data/valid/images/S3-N0806MF07616_jpg.rf.a6899951ed80ac09175750801e63a3d7.jpg  \n",
      "  inflating: ./add_smoke_data/valid/images/S3-N0806MF07662_jpg.rf.3978eb6f813d6cb79da51970857fa4f2.jpg  \n",
      "  inflating: ./add_smoke_data/valid/images/S3-N1448MF01848_jpg.rf.cce8110ce267fddf08073cf03795495f.jpg  \n",
      "  inflating: ./add_smoke_data/valid/images/S3-N1448MF01849_jpg.rf.f02da72e1644f3cf481f70b4a9687b53.jpg  \n",
      "  inflating: ./add_smoke_data/valid/images/S3-N1448MF01860_jpg.rf.c7ec184a3dd062f8dab079424926b349.jpg  \n",
      "  inflating: ./add_smoke_data/valid/images/S3-N1448MF02043_jpg.rf.2365b1cf0a519b3b2b0ca0b779a879fc.jpg  \n",
      "  inflating: ./add_smoke_data/valid/images/S3-N1448MF02045_jpg.rf.df12dc2d220c02c6bce9b0bdb70ed9c1.jpg  \n",
      "  inflating: ./add_smoke_data/valid/images/S3-N1451MF01548_jpg.rf.ecd647a8179438586f690dad99105e5f.jpg  \n",
      "  inflating: ./add_smoke_data/valid/images/S3-N1451MF01561_jpg.rf.411b4c549a7c1187025793c31dca1adb.jpg  \n",
      "  inflating: ./add_smoke_data/valid/images/S3-N1451MF01573_jpg.rf.6a77fccb7c7ef371e5fc6f065d669577.jpg  \n",
      "  inflating: ./add_smoke_data/valid/images/S3-N1451MF01945_jpg.rf.dc43f62a144a845fff3df4ec28430355.jpg  \n",
      "  inflating: ./add_smoke_data/valid/images/S3-N1452MF01828_jpg.rf.a259f3d7425c73217c6ee3e27da74aef.jpg  \n",
      "  inflating: ./add_smoke_data/valid/images/S3-N1452MF01838_jpg.rf.2d8d4f8b676c3b4c7c718b4d8bfae71f.jpg  \n",
      "  inflating: ./add_smoke_data/valid/images/S3-N1452MF01840_jpg.rf.bf675ac3738b47f3b8b3a217b8df210a.jpg  \n",
      "  inflating: ./add_smoke_data/valid/images/S3-N1453MF01154_jpg.rf.5da76033164e4584b21e216fae7718b4.jpg  \n",
      "  inflating: ./add_smoke_data/valid/images/S3-N1453MF01166_jpg.rf.e6a201b348946f4852b933f252da7705.jpg  \n",
      "  inflating: ./add_smoke_data/valid/images/S3-N1454MF01345_jpg.rf.f912bfde604b672b527c8df0706ed587.jpg  \n",
      "  inflating: ./add_smoke_data/valid/images/S3-N1454MF01346_jpg.rf.4360fb183a5464d10d8d67e8b04babab.jpg  \n",
      "  inflating: ./add_smoke_data/valid/images/S3-N1454MF01347_jpg.rf.bddb8b04b5184579d3ee7564fdc49a6d.jpg  \n",
      "  inflating: ./add_smoke_data/valid/images/S3-N1454MF01357_jpg.rf.f66d36ccfe7c389e8219486969cab112.jpg  \n",
      "  inflating: ./add_smoke_data/valid/images/S3-N1454MF01369_jpg.rf.5d4273622d08d76c689c8be142fc6f5a.jpg  \n",
      "  inflating: ./add_smoke_data/valid/images/S3-N1455MF01642_jpg.rf.95c3e73dd7667b671a025b91ea6ec0c8.jpg  \n",
      "  inflating: ./add_smoke_data/valid/images/S3-N1455MF01920_jpg.rf.c0a339335601607845cb29bad59dc24a.jpg  \n",
      "  inflating: ./add_smoke_data/valid/images/S3-N1455MF01921_jpg.rf.99211e83c58a2a5db8dca0f010f7d6f8.jpg  \n",
      "  inflating: ./add_smoke_data/valid/images/S3-N1455MF01922_jpg.rf.1fa3e5f847efd5ac657b5b3a7990b997.jpg  \n",
      "  inflating: ./add_smoke_data/valid/images/S3-N1455MF01932_jpg.rf.b3f09d415e8d666686bdd21c1b4bd5e7.jpg  \n",
      "  inflating: ./add_smoke_data/valid/images/S3-N1455MF01935_jpg.rf.6d3ad61dedf44b3e43492bc2f3e95af7.jpg  \n",
      "  inflating: ./add_smoke_data/valid/images/S3-N1455MF01947_jpg.rf.1517f51216b19697c62d04d6ffce95e0.jpg  \n",
      "  inflating: ./add_smoke_data/valid/images/S3-N1456MF00744_jpg.rf.2d6c4cf7767c2e141484e169f4f71e65.jpg  \n",
      "  inflating: ./add_smoke_data/valid/images/S3-N1456MF00745_jpg.rf.35841718f5e74ba9a2546503b76b6eeb.jpg  \n",
      "  inflating: ./add_smoke_data/valid/images/S3-N1456MF00757_jpg.rf.b9a974cb6226977e82077a6f404965e7.jpg  \n",
      "  inflating: ./add_smoke_data/valid/images/S3-N1456MF01023_jpg.rf.6acc43690b961167116ae5cee67ada3d.jpg  \n",
      "  inflating: ./add_smoke_data/valid/images/S3-N1456MF01312_jpg.rf.159da932512afa7a18d4014523095290.jpg  \n",
      "  inflating: ./add_smoke_data/valid/images/S3-N1457MF01423_jpg.rf.d1a9ef316d7d7a1707ea11770aa2dd8f.jpg  \n",
      "  inflating: ./add_smoke_data/valid/images/S3-N1457MF01634_jpg.rf.4becb57c1d3306a851a11c1387842296.jpg  \n",
      "  inflating: ./add_smoke_data/valid/images/WEBFire1090_jpg.rf.899293b597c38e1289adb0d5cdba35c6.jpg  \n",
      "  inflating: ./add_smoke_data/valid/images/WEBFire152_jpg.rf.75b571dc88235204688d1a0ec43cc75e.jpg  \n",
      "  inflating: ./add_smoke_data/valid/images/WEBFire1631_jpg.rf.831be112854ee422ec6f399143a7aa83.jpg  \n",
      "  inflating: ./add_smoke_data/valid/images/WEBFire1695_jpg.rf.3fb625e2296160c3c926658a1bd5e725.jpg  \n",
      "  inflating: ./add_smoke_data/valid/images/WEBFire1754_jpg.rf.8b8e7964bab2260b83bf22f0e1294a2b.jpg  \n",
      "  inflating: ./add_smoke_data/valid/images/WEBFire1959_jpg.rf.306329a4baa5c7f36e0418824e23648d.jpg  \n",
      "  inflating: ./add_smoke_data/valid/images/WEBFire2050_jpg.rf.eccad6bfe0a73cf9a209b5807d9cf2cf.jpg  \n",
      "  inflating: ./add_smoke_data/valid/images/WEBFire2132_jpg.rf.c4ae575e349bde12b732592e6cc8152f.jpg  \n",
      "  inflating: ./add_smoke_data/valid/images/WEBFire2237_jpg.rf.820be6ef3b5802043032c715d1caffec.jpg  \n",
      "  inflating: ./add_smoke_data/valid/images/WEBFire572_jpg.rf.c2445d2f4a4fb8a375cdbbcf0d7ac73c.jpg  \n",
      "  inflating: ./add_smoke_data/valid/images/WEBSmoke038_jpg.rf.b1ed9d627a5fcd8e617262b160f72e22.jpg  \n",
      "  inflating: ./add_smoke_data/valid/images/WEBSmoke045_jpg.rf.579f4ff7ac676c2fa86fe8441ca535c6.jpg  \n",
      "  inflating: ./add_smoke_data/valid/images/WEBSmoke1654_jpg.rf.e2bed6f75f095f30742185a30f1ac10f.jpg  \n",
      "  inflating: ./add_smoke_data/valid/images/WEBSmoke2287_jpg.rf.a7db0721fa35faf4a5393e0d73a1288f.jpg  \n",
      "  inflating: ./add_smoke_data/valid/images/WEBSmoke2368_jpg.rf.7cf4d0d99a7678defd1f4884c2aba32b.jpg  \n",
      "   creating: ./add_smoke_data/valid/labels/\n",
      "  inflating: ./add_smoke_data/valid/labels/772_jpg.rf.c91ea57d24d036fd7a7595fd2107fe80.txt  \n",
      "  inflating: ./add_smoke_data/valid/labels/937_jpg.rf.7b39fe00ed7ac649972c8016276752d4.txt  \n",
      "  inflating: ./add_smoke_data/valid/labels/fire_test_img_110_jpg.rf.652ea7943e63d71382b3183aa4c90513.txt  \n",
      "  inflating: ./add_smoke_data/valid/labels/fire_test_img_111_jpg.rf.10e3ab666c1ff7ce806668723b09781c.txt  \n",
      "  inflating: ./add_smoke_data/valid/labels/fire_test_img_119_jpg.rf.19830c42bdff18bcbf546a4709d0a072.txt  \n",
      "  inflating: ./add_smoke_data/valid/labels/fire_test_img_125_jpg.rf.9916270d904e0d4808f176de8bf774cd.txt  \n",
      "  inflating: ./add_smoke_data/valid/labels/fire_test_img_126_jpg.rf.ae5cbabf25be69647c2db2c5a8267c77.txt  \n",
      "  inflating: ./add_smoke_data/valid/labels/fire_test_img_142_jpg.rf.07a7344e2751a4c08a499bd2259101bf.txt  \n",
      "  inflating: ./add_smoke_data/valid/labels/fire_test_img_145_jpg.rf.ff7aba0b6be32d861482ca7435947da0.txt  \n",
      "  inflating: ./add_smoke_data/valid/labels/fire_test_img_226_jpg.rf.c6d8284a367f897444317ddd1102c6f7.txt  \n",
      "  inflating: ./add_smoke_data/valid/labels/fire_test_img_259_jpg.rf.a03deee5a5017fd49a06f93b269a726b.txt  \n",
      "  inflating: ./add_smoke_data/valid/labels/fire_test_img_261_jpg.rf.723e8dbacd32b4b72cd32781fbf2fedb.txt  \n",
      "  inflating: ./add_smoke_data/valid/labels/fire_train_img_345_jpg.rf.20707a586728cb39eb893d1db978b481.txt  \n",
      "  inflating: ./add_smoke_data/valid/labels/fire_train_img_346_jpg.rf.ec874f8d6f28ec5253d1493288c9ec84.txt  \n",
      "  inflating: ./add_smoke_data/valid/labels/fire_train_img_347_jpg.rf.21dd4def24381d21448f31c55fece8af.txt  \n",
      "  inflating: ./add_smoke_data/valid/labels/fire_train_img_353_jpg.rf.4ccb339a06914460ce021d0ea5c01e2c.txt  \n",
      "  inflating: ./add_smoke_data/valid/labels/fire_train_img_355_jpg.rf.5081a160219af3c028a27e678d398ec7.txt  \n",
      "  inflating: ./add_smoke_data/valid/labels/fire_train_img_357_jpg.rf.ddfaf3a269eac0ba96df41229ae1e81c.txt  \n",
      "  inflating: ./add_smoke_data/valid/labels/fire_train_img_358_jpg.rf.1e52a3c331bdcc8df7fec5123d1bd1bd.txt  \n",
      "  inflating: ./add_smoke_data/valid/labels/fire_train_img_367_jpg.rf.8db82fddffe494b70e46604ee380fe9e.txt  \n",
      "  inflating: ./add_smoke_data/valid/labels/fire_train_img_368_jpg.rf.28ce1f19e7db56f841ec9e4aa1f0ab7e.txt  \n",
      "  inflating: ./add_smoke_data/valid/labels/fire_train_img_373_jpg.rf.65e452aa5227e21da1281643721ec159.txt  \n",
      "  inflating: ./add_smoke_data/valid/labels/fire_train_img_374_jpg.rf.f5cb4bcc569cc28b0d3a951c0cc651ba.txt  \n",
      "  inflating: ./add_smoke_data/valid/labels/fire_train_img_380_jpg.rf.efe2a92baf9e2afff36fbedf2fab4f94.txt  \n",
      "  inflating: ./add_smoke_data/valid/labels/fire_train_img_389_jpg.rf.6e0959dc75ad21a38e03c8ca43879309.txt  \n",
      "  inflating: ./add_smoke_data/valid/labels/fire_train_img_393_jpg.rf.ceef6c4460f5c8d576ec680c2e5ef799.txt  \n",
      "  inflating: ./add_smoke_data/valid/labels/fire_train_img_396_jpg.rf.8303da76913544e5419a112b96a4fc44.txt  \n",
      "  inflating: ./add_smoke_data/valid/labels/fire_train_img_397_jpg.rf.a5935e99766e6bc92d334169ef0123a2.txt  \n",
      "  inflating: ./add_smoke_data/valid/labels/fire_train_img_399_jpg.rf.8c46cdd627ef3c09aa4d09d9ab7ee6a9.txt  \n",
      "  inflating: ./add_smoke_data/valid/labels/fire_train_img_403_jpg.rf.fa61687d1a98c9bdf4f5a6bd2a0f552e.txt  \n",
      "  inflating: ./add_smoke_data/valid/labels/fire_train_img_406_jpg.rf.6c981df9ba9a5babf055d557c525dd35.txt  \n",
      "  inflating: ./add_smoke_data/valid/labels/fire_train_img_413_jpg.rf.288108afaa9b7a416e6c3dbfb79d4cd1.txt  \n",
      "  inflating: ./add_smoke_data/valid/labels/fire_train_img_414_jpg.rf.cb46339d6f717f88e4fa97a054ce8602.txt  \n",
      "  inflating: ./add_smoke_data/valid/labels/fire_train_img_416_jpg.rf.475dd301816ed40647a1bb1d0cd567ca.txt  \n",
      "  inflating: ./add_smoke_data/valid/labels/fire_train_img_422_jpg.rf.cab05f0e31f0f72669e816020036a8fc.txt  \n",
      "  inflating: ./add_smoke_data/valid/labels/fire_train_img_430_jpg.rf.94331a816ac3432bf5870821e088ad68.txt  \n",
      "  inflating: ./add_smoke_data/valid/labels/fire_train_img_431_jpg.rf.2b89c94405899d9d79e6a938c524c772.txt  \n",
      "  inflating: ./add_smoke_data/valid/labels/fire_train_img_437_jpg.rf.9c9ee97ca6811f830721087a11f3105f.txt  \n",
      "  inflating: ./add_smoke_data/valid/labels/fire_train_img_439_jpg.rf.d023ca608dda1cbab2c1841c01894eac.txt  \n",
      "  inflating: ./add_smoke_data/valid/labels/fire_train_img_448_jpg.rf.4fd18039f29cf864d00f364046b51a8e.txt  \n",
      "  inflating: ./add_smoke_data/valid/labels/fire_train_img_450_jpg.rf.8c6bee574884705e7cc09b32d0150ea3.txt  \n",
      "  inflating: ./add_smoke_data/valid/labels/fire_train_img_451_jpg.rf.2e1b9c8513899a457c75ab0818292dc5.txt  \n",
      "  inflating: ./add_smoke_data/valid/labels/fire_train_img_609_jpg.rf.be6cb74145b1c60ef7b2bdfb3db19b91.txt  \n",
      "  inflating: ./add_smoke_data/valid/labels/fire_train_img_616_jpg.rf.35de5a57b569fd64d01c6edc8696ac64.txt  \n",
      "  inflating: ./add_smoke_data/valid/labels/fire_train_img_618_jpg.rf.a7d06384c619de63e2fc5aeecabc5a40.txt  \n",
      "  inflating: ./add_smoke_data/valid/labels/fire_train_img_624_jpg.rf.2f614a0e5f91742cd1dba8b85070eb47.txt  \n",
      "  inflating: ./add_smoke_data/valid/labels/fire_train_img_631_jpg.rf.5dd17f177c0469a3c29323a0c9e246f8.txt  \n",
      "  inflating: ./add_smoke_data/valid/labels/fire_train_img_633_jpg.rf.17cc2716080d166a5bdb863ec58888c5.txt  \n",
      "  inflating: ./add_smoke_data/valid/labels/fire_train_img_642_jpg.rf.09bbd7c3f5e7da62123f18d8089f8776.txt  \n",
      "  inflating: ./add_smoke_data/valid/labels/fire_train_img_645_jpg.rf.8d7ab904cd5f9db666d7331ba1a2d072.txt  \n",
      "  inflating: ./add_smoke_data/valid/labels/fire_train_img_646_jpg.rf.243160aa162a57367e29bb0c1820d0de.txt  \n",
      "  inflating: ./add_smoke_data/valid/labels/fire_train_img_666_jpg.rf.041e668b7b3332d8af81bb16ed0f513c.txt  \n",
      "  inflating: ./add_smoke_data/valid/labels/fire_train_img_668_jpg.rf.b2702d00ed57003cec390e9f830b6e96.txt  \n",
      "  inflating: ./add_smoke_data/valid/labels/fire_train_img_715_jpg.rf.397af47d15fef625cb4239ce3af59c56.txt  \n",
      "  inflating: ./add_smoke_data/valid/labels/fire_train_img_718_jpg.rf.2c9c9e8b58af8e8447c86cd6cb0bb2dd.txt  \n",
      "  inflating: ./add_smoke_data/valid/labels/fire_train_img_722_jpg.rf.86c9714156827f735341a88da1352cec.txt  \n",
      "  inflating: ./add_smoke_data/valid/labels/fire_train_img_724_jpg.rf.d266609f1636116955084dc347efd51a.txt  \n",
      "  inflating: ./add_smoke_data/valid/labels/fire_train_img_739_jpg.rf.f24030e3780e96c51f5587ba58b71847.txt  \n",
      "  inflating: ./add_smoke_data/valid/labels/fire_train_img_744_jpg.rf.a4592d5b230d34aa1abd7de91eb55147.txt  \n",
      "  inflating: ./add_smoke_data/valid/labels/fire_train_img_751_jpg.rf.aefd74dffafc5f276f1d2b540f1ec9cb.txt  \n",
      "  inflating: ./add_smoke_data/valid/labels/fire_train_img_755_jpg.rf.69e91b1852c4ba12e11b9233917f6ad2.txt  \n",
      "  inflating: ./add_smoke_data/valid/labels/fire_train_img_756_jpg.rf.d72e27428f9edb1e3be92b170c841ddb.txt  \n",
      "  inflating: ./add_smoke_data/valid/labels/fire_train_img_766_jpg.rf.16b86b720bbfee64c6cd64f4871dfba4.txt  \n",
      "  inflating: ./add_smoke_data/valid/labels/fire_train_img_768_jpg.rf.cbdb7478eddaa5102b6fe071ad978eae.txt  \n",
      "  inflating: ./add_smoke_data/valid/labels/fire_train_img_773_jpg.rf.46a1fa10ec73926c53c26cb0144bc1e1.txt  \n",
      "  inflating: ./add_smoke_data/valid/labels/fire_train_img_775_jpg.rf.9625023e65733ecf165965bc7ba43b40.txt  \n",
      "  inflating: ./add_smoke_data/valid/labels/fire_train_img_783_jpg.rf.d18eb93b179894ba315a94bdb18733cf.txt  \n",
      "  inflating: ./add_smoke_data/valid/labels/fire_train_img_785_jpg.rf.5d4fe47e4e108e076ac15ee6f2dc0c31.txt  \n",
      "  inflating: ./add_smoke_data/valid/labels/fire_train_img_85_jpg.rf.1327b02a56d13d3d923d3f2d6505f99c.txt  \n",
      "  inflating: ./add_smoke_data/valid/labels/fire_train_img_86_jpg.rf.87f739862abb84b0f91596395580037d.txt  \n",
      "  inflating: ./add_smoke_data/valid/labels/fire_train_img_89_jpg.rf.93ccbd72e4c262fc52ae626c6042da8b.txt  \n",
      "  inflating: ./add_smoke_data/valid/labels/fire_train_img_93_jpg.rf.db131edefb6557ea2553ac1f5d5d6029.txt  \n",
      "  inflating: ./add_smoke_data/valid/labels/fire1-1238-_jpg.rf.7607df8214d39a3fdcae56f22d10c687.txt  \n",
      "  inflating: ./add_smoke_data/valid/labels/fire1-1384-_jpg.rf.d7c04788b112032e5d2411900d8b2080.txt  \n",
      "  inflating: ./add_smoke_data/valid/labels/fires-101-_jpg.rf.a91e1bb933276f45eed740011e11ac93.txt  \n",
      "  inflating: ./add_smoke_data/valid/labels/fires-102-_jpg.rf.6c47c939d30800ca4793e1444798abc7.txt  \n",
      "  inflating: ./add_smoke_data/valid/labels/fires-105-_jpg.rf.0230ac39cbfd3fac0cf4515f5201cfda.txt  \n",
      "  inflating: ./add_smoke_data/valid/labels/fires-106-_jpg.rf.b9a99d95b222cec730bd3db3a34d350c.txt  \n",
      "  inflating: ./add_smoke_data/valid/labels/fires-107-_jpg.rf.ff03aecdd2e764f2d8a275ec820a89e4.txt  \n",
      "  inflating: ./add_smoke_data/valid/labels/fires-113-_jpg.rf.5be87defcbd1a17e6fafb0b47d0302d3.txt  \n",
      "  inflating: ./add_smoke_data/valid/labels/fires-22-_jpg.rf.7e02c65c05f1752ea621a9d6d84a3936.txt  \n",
      "  inflating: ./add_smoke_data/valid/labels/fires-23-_jpg.rf.cc6d0a984d4a6355118971a5cb293070.txt  \n",
      "  inflating: ./add_smoke_data/valid/labels/fires-30-_jpg.rf.bc7ec3245ce6c418548603dac69774cf.txt  \n",
      "  inflating: ./add_smoke_data/valid/labels/fires-32-_jpg.rf.d7abd6ee2d3acaffb8ec60dafd935824.txt  \n",
      "  inflating: ./add_smoke_data/valid/labels/fires-34-_jpg.rf.837fb38bad962a0076f291bed099e9b8.txt  \n",
      "  inflating: ./add_smoke_data/valid/labels/fires-35-_jpg.rf.1d55fb7da294c4fc90760834c639f4a0.txt  \n",
      "  inflating: ./add_smoke_data/valid/labels/fires-41-_jpg.rf.ced37cbbe3033c317743d0fdeb663ecc.txt  \n",
      "  inflating: ./add_smoke_data/valid/labels/fires-46-_jpg.rf.665edf6fc8ed3d470df93f4bd6477ab9.txt  \n",
      "  inflating: ./add_smoke_data/valid/labels/fires-50-_jpg.rf.e16bde2cbc3bdeb42b184bdfa0f25332.txt  \n",
      "  inflating: ./add_smoke_data/valid/labels/fires-66-_jpg.rf.8117138935a6339b68914b85650959f3.txt  \n",
      "  inflating: ./add_smoke_data/valid/labels/fires-67-_jpg.rf.95bd4c3888a7890b9ba36a2c97463ae6.txt  \n",
      "  inflating: ./add_smoke_data/valid/labels/fires-78-_jpg.rf.2c1cb32b916093718a755c115d73557b.txt  \n",
      "  inflating: ./add_smoke_data/valid/labels/fires-81-_jpg.rf.5a74bea454293fd44557fa1083e3a102.txt  \n",
      "  inflating: ./add_smoke_data/valid/labels/fires-84-_jpg.rf.5dd93fd3b96ce5d7ee0b2f6f52b3f638.txt  \n",
      "  inflating: ./add_smoke_data/valid/labels/fires-9-_jpg.rf.f497846780ff95347dda05a95ec111dd.txt  \n",
      "  inflating: ./add_smoke_data/valid/labels/fires-96-_jpg.rf.c1dabb7e691391fb372796909348bd8e.txt  \n",
      "  inflating: ./add_smoke_data/valid/labels/H_00300_png.rf.3e2477a70d015cd50a9e7226e7356da9.txt  \n",
      "  inflating: ./add_smoke_data/valid/labels/H_00387_png.rf.5db9fd2777de7e0e8b1afce63bde3255.txt  \n",
      "  inflating: ./add_smoke_data/valid/labels/H_00715_png.rf.1c8d3b36475bfe086c0da464f1fa1500.txt  \n",
      "  inflating: ./add_smoke_data/valid/labels/H_02118_png.rf.7c0c8a7156d0478f0b7304e89b6a20d7.txt  \n",
      "  inflating: ./add_smoke_data/valid/labels/H_02292_png.rf.92012e12bd76170171f93a5b73feb184.txt  \n",
      "  inflating: ./add_smoke_data/valid/labels/H_04143_png.rf.21ee687c26280fe075ee1ed29a6b4ba1.txt  \n",
      "  inflating: ./add_smoke_data/valid/labels/H_04213_png.rf.d356b1f70d10e600e8dbbd509b650078.txt  \n",
      "  inflating: ./add_smoke_data/valid/labels/H_04637_png.rf.fe361ed6c208128353e8d3b49aa1d0f3.txt  \n",
      "  inflating: ./add_smoke_data/valid/labels/H_05218_png.rf.0ad0d4e2d564b54b1678724a9bdcc004.txt  \n",
      "  inflating: ./add_smoke_data/valid/labels/H_06831_png.rf.c8c5c518ed99bb1a2d2a9c197dc4a736.txt  \n",
      "  inflating: ./add_smoke_data/valid/labels/H_07140_png.rf.47e5431d047e43c59b54937d9567130d.txt  \n",
      "  inflating: ./add_smoke_data/valid/labels/H_07826_png.rf.46b21fee7fd1388bf21ccb5322f06053.txt  \n",
      "  inflating: ./add_smoke_data/valid/labels/H_09814_png.rf.63d2e7315f2e028ffbfc6c05f672404a.txt  \n",
      "  inflating: ./add_smoke_data/valid/labels/image-108-_jpg.rf.b53e4a130e9d0d0c01fbb9292b3fb60b.txt  \n",
      "  inflating: ./add_smoke_data/valid/labels/image-109-_jpg.rf.e1599e52b743866d1c15f30bfb50616b.txt  \n",
      "  inflating: ./add_smoke_data/valid/labels/image-110-_jpg.rf.f936a52fed4a13605fd076eec4a3d051.txt  \n",
      "  inflating: ./add_smoke_data/valid/labels/image-116-_jpg.rf.74abba882c9de75cddf6ae783fda2125.txt  \n",
      "  inflating: ./add_smoke_data/valid/labels/image-122-_jpg.rf.c08f4764d72d15459baf33ed316b9f48.txt  \n",
      "  inflating: ./add_smoke_data/valid/labels/image-125-_jpg.rf.c5971dc54c15c41afacf0511799836ee.txt  \n",
      "  inflating: ./add_smoke_data/valid/labels/image-13-_jpg.rf.50c1460799c1bcc3e12e82be35c1aaf7.txt  \n",
      "  inflating: ./add_smoke_data/valid/labels/image-134-_jpg.rf.b2e80ece7f5058bd1c3ea1c0b3742a6a.txt  \n",
      "  inflating: ./add_smoke_data/valid/labels/image-135-_jpg.rf.9d7c4f2297f1a7f55e7cc52464f431c2.txt  \n",
      "  inflating: ./add_smoke_data/valid/labels/image-144-_jpg.rf.2b2e012941fbdef71d8f8f48ba482344.txt  \n",
      "  inflating: ./add_smoke_data/valid/labels/image-145-_jpg.rf.532b357af1d1effbeff39afc2c56bc55.txt  \n",
      "  inflating: ./add_smoke_data/valid/labels/image-152-_jpg.rf.43df60f3ba244b672d3387c30bc5f373.txt  \n",
      "  inflating: ./add_smoke_data/valid/labels/image-154-_jpg.rf.3e207b65ed908aabfff6c0379cc159d5.txt  \n",
      "  inflating: ./add_smoke_data/valid/labels/image-155-_jpg.rf.a96dcab811bb6a7a6fa5ede536d985c5.txt  \n",
      "  inflating: ./add_smoke_data/valid/labels/image-159-_jpg.rf.f7d2988544baed6649a820659edfb13a.txt  \n",
      "  inflating: ./add_smoke_data/valid/labels/image-162-_jpg.rf.090fe50172090cab5f63f670cd8f2e56.txt  \n",
      "  inflating: ./add_smoke_data/valid/labels/image-165-_jpg.rf.9d66e31764d55d2603038c12752a2532.txt  \n",
      "  inflating: ./add_smoke_data/valid/labels/image-173-_jpg.rf.09e5aa7de1f8376d0480160825781f18.txt  \n",
      "  inflating: ./add_smoke_data/valid/labels/image-177-_jpg.rf.c84024d7ff0091834e39258f089adabb.txt  \n",
      "  inflating: ./add_smoke_data/valid/labels/image-187-_jpg.rf.5cc5bedbb8afb5ac23b84cdaa3f8ef4d.txt  \n",
      "  inflating: ./add_smoke_data/valid/labels/image-188-_jpg.rf.d01771268615527cbe712c3299043c16.txt  \n",
      "  inflating: ./add_smoke_data/valid/labels/image-202-_jpg.rf.62192845989d6cc25145ae4755289ab1.txt  \n",
      "  inflating: ./add_smoke_data/valid/labels/image-208-_jpg.rf.f0b4afc1dafcf5749f611a61597f8bbc.txt  \n",
      "  inflating: ./add_smoke_data/valid/labels/image-211-_jpg.rf.d3e8fc575e5892ddb1a5b067549320d8.txt  \n",
      "  inflating: ./add_smoke_data/valid/labels/image-229-_jpg.rf.6eb22f9788bbf4185b5bf6f09bcdf778.txt  \n",
      "  inflating: ./add_smoke_data/valid/labels/image-242-_jpg.rf.af5f0cd90dd5d90a0f5b73b0e90d55b6.txt  \n",
      "  inflating: ./add_smoke_data/valid/labels/image-243-_jpg.rf.d857123c398146d6938f9a6698e824f3.txt  \n",
      "  inflating: ./add_smoke_data/valid/labels/image-245-_jpg.rf.14c151578f1c08a8f6dc281c48fc1ddf.txt  \n",
      "  inflating: ./add_smoke_data/valid/labels/image-25-_jpg.rf.5cf3b7bc0ef1523c674cb3e187b90db7.txt  \n",
      "  inflating: ./add_smoke_data/valid/labels/image-250-_jpg.rf.ecb78aa6bf61d2c15e1b28a7761016b5.txt  \n",
      "  inflating: ./add_smoke_data/valid/labels/image-253-_jpg.rf.f00e6836b6a657aca6886ce249cf6ae9.txt  \n",
      "  inflating: ./add_smoke_data/valid/labels/image-260-_jpg.rf.bc81b3625778b65bf1717fccc314ed99.txt  \n",
      "  inflating: ./add_smoke_data/valid/labels/image-265-_jpg.rf.3e5ddf9c9888b8a4bc7762a3df795adc.txt  \n",
      "  inflating: ./add_smoke_data/valid/labels/image-277-_jpg.rf.dbcd08ff0b71b94f48298b0461ca3d81.txt  \n",
      "  inflating: ./add_smoke_data/valid/labels/image-287-_jpg.rf.ccbc6e57b25b09180a661c778e4a854a.txt  \n",
      "  inflating: ./add_smoke_data/valid/labels/image-288-_jpg.rf.95c4af9da7b25bb89d5662fac6d053ef.txt  \n",
      "  inflating: ./add_smoke_data/valid/labels/image-293-_jpg.rf.7e2354ed10cdbd33b68ac1e7f0207623.txt  \n",
      "  inflating: ./add_smoke_data/valid/labels/image-294-_jpg.rf.e9b1f6ca2da9678697e5818151e9f6ad.txt  \n",
      "  inflating: ./add_smoke_data/valid/labels/image-300-_jpg.rf.ee90ef8aa7e26b88bc32d2bcf1e763b3.txt  \n",
      "  inflating: ./add_smoke_data/valid/labels/image-301-_jpg.rf.a057b08074e887cf1c00b29a5ca81086.txt  \n",
      "  inflating: ./add_smoke_data/valid/labels/image-303-_jpg.rf.a883fa07f97769f85e36c9bcbf477aa1.txt  \n",
      "  inflating: ./add_smoke_data/valid/labels/image-305-_jpg.rf.01efaeefd3506943f94068083d7506b0.txt  \n",
      "  inflating: ./add_smoke_data/valid/labels/image-318-_jpg.rf.59bda11c759519162693c5cae51ceeac.txt  \n",
      "  inflating: ./add_smoke_data/valid/labels/image-320-_jpg.rf.6ddc3f4d61e0e21596634b514de77a18.txt  \n",
      "  inflating: ./add_smoke_data/valid/labels/image-322-_jpg.rf.67b94a3632e77148e39dc6cc735f401b.txt  \n",
      "  inflating: ./add_smoke_data/valid/labels/image-326-_jpg.rf.6803cfdfa3221ffe1db2394311b3fb64.txt  \n",
      "  inflating: ./add_smoke_data/valid/labels/image-331-_jpg.rf.434a449ad7e879b302840a8c327df88a.txt  \n",
      "  inflating: ./add_smoke_data/valid/labels/image-332-_jpg.rf.709a97c8f547c99548e7c11958cd285c.txt  \n",
      "  inflating: ./add_smoke_data/valid/labels/image-334-_jpg.rf.f0813f9cd3ed8c536bd62058d3c00fea.txt  \n",
      "  inflating: ./add_smoke_data/valid/labels/image-335-_jpg.rf.96e3933f2a059ed003c73fdd1815d4aa.txt  \n",
      "  inflating: ./add_smoke_data/valid/labels/image-337-_jpg.rf.2d3b67422fae8d9ca27919f73227834d.txt  \n",
      "  inflating: ./add_smoke_data/valid/labels/image-346-_jpg.rf.98476cef3f72896edee7e9afeb0223d6.txt  \n",
      "  inflating: ./add_smoke_data/valid/labels/image-348-_jpg.rf.a368984ee4d8ee1a7bd7f791c55fd399.txt  \n",
      "  inflating: ./add_smoke_data/valid/labels/image-35-_jpg.rf.9ee67dd78213a55d1729a0d694724d78.txt  \n",
      "  inflating: ./add_smoke_data/valid/labels/image-358-_jpg.rf.a9dbdeeb7b235611005d6b76e7daeabe.txt  \n",
      "  inflating: ./add_smoke_data/valid/labels/image-365-_jpg.rf.a04598519d8c4e5090231038715306cf.txt  \n",
      "  inflating: ./add_smoke_data/valid/labels/image-366-_jpg.rf.5464789eb2c846261de8379562104bdc.txt  \n",
      "  inflating: ./add_smoke_data/valid/labels/image-387-_jpg.rf.554fb27ae3723fcec370a49c3f559a9f.txt  \n",
      "  inflating: ./add_smoke_data/valid/labels/image-388-_jpg.rf.f7eefeeace4d0332b0c5a00c8dc5f184.txt  \n",
      "  inflating: ./add_smoke_data/valid/labels/image-39-_jpg.rf.0d4854475f581052cb72467aa641693e.txt  \n",
      "  inflating: ./add_smoke_data/valid/labels/image-401-_jpg.rf.2b487ce29bf48a57d21608f64a50112e.txt  \n",
      "  inflating: ./add_smoke_data/valid/labels/image-404-_jpg.rf.2a6b2b7df89fa6ed45536f8819a96005.txt  \n",
      "  inflating: ./add_smoke_data/valid/labels/image-410-_jpg.rf.7984c9c0bc2a10565c2d61ff2908a916.txt  \n",
      "  inflating: ./add_smoke_data/valid/labels/image-417-_jpg.rf.4bc7dd15bc228581e3edaba4b932e2d7.txt  \n",
      "  inflating: ./add_smoke_data/valid/labels/image-422-_jpg.rf.fe9fa6519cdd69279a046353b573e860.txt  \n",
      "  inflating: ./add_smoke_data/valid/labels/image-424-_jpg.rf.43d204c0027c3613c3fd538072e96de6.txt  \n",
      "  inflating: ./add_smoke_data/valid/labels/image-425-_jpg.rf.b1c3d2842fa5be6487de6d33648e316f.txt  \n",
      "  inflating: ./add_smoke_data/valid/labels/image-430-_jpg.rf.d9713996a412fc80b869f57443ff0640.txt  \n",
      "  inflating: ./add_smoke_data/valid/labels/image-432-_jpg.rf.8d2ec4592aa37a46ab9b9c59784f3724.txt  \n",
      "  inflating: ./add_smoke_data/valid/labels/image-434-_jpg.rf.1eb898f7f3b350d3b993a2562ed5aea4.txt  \n",
      "  inflating: ./add_smoke_data/valid/labels/image-436-_jpg.rf.0b2d854ec28b7fe2ddb16c5a8834138c.txt  \n",
      "  inflating: ./add_smoke_data/valid/labels/image-443-_jpg.rf.3b64cde6fc427d2bf38a58c789f6bde9.txt  \n",
      "  inflating: ./add_smoke_data/valid/labels/image-45-_jpg.rf.cced8961efea42d103ec065256a2ab2d.txt  \n",
      "  inflating: ./add_smoke_data/valid/labels/image-452-_jpg.rf.b91acf34d571f063195b096adba9e433.txt  \n",
      "  inflating: ./add_smoke_data/valid/labels/image-455-_jpg.rf.6b1b8c0b1186ce6aaecad7f92aa8c161.txt  \n",
      "  inflating: ./add_smoke_data/valid/labels/image-470-_jpg.rf.96bbf1c289f87af36d30336ae0d7710a.txt  \n",
      "  inflating: ./add_smoke_data/valid/labels/image-475-_jpg.rf.ebebfe37f5ca72c596ffc91ac77429fd.txt  \n",
      "  inflating: ./add_smoke_data/valid/labels/image-494-_jpg.rf.721903ad7e28d49d1054e5426bbf30fb.txt  \n",
      "  inflating: ./add_smoke_data/valid/labels/image-505-_jpg.rf.4a506d9101b4dfa07f6410c0e5a67239.txt  \n",
      "  inflating: ./add_smoke_data/valid/labels/image-510-_jpg.rf.acf7fd3cbb365b3c22e3c9336d3bc191.txt  \n",
      "  inflating: ./add_smoke_data/valid/labels/image-514-_jpg.rf.2402523628f250fc621c08c998e4bbff.txt  \n",
      "  inflating: ./add_smoke_data/valid/labels/image-517-_jpg.rf.d0b6367f0957474762d7cd52c77c4f2f.txt  \n",
      "  inflating: ./add_smoke_data/valid/labels/image-528-_jpg.rf.a3d030469368c9e75d447626ac9e9b8e.txt  \n",
      "  inflating: ./add_smoke_data/valid/labels/image-538-_jpg.rf.8434b31358d0165533fe86e39607f8c7.txt  \n",
      "  inflating: ./add_smoke_data/valid/labels/image-546-_jpg.rf.1716326f2e93b5ee19ce572501a911c9.txt  \n",
      "  inflating: ./add_smoke_data/valid/labels/image-547-_jpg.rf.2361f09bb39aa3265a1523b70c713191.txt  \n",
      "  inflating: ./add_smoke_data/valid/labels/image-549-_jpg.rf.426df5bd85f77f1a1f61cb7572adf724.txt  \n",
      "  inflating: ./add_smoke_data/valid/labels/image-552-_jpg.rf.45eaee3c2e0751cddcbd548560c56ca0.txt  \n",
      "  inflating: ./add_smoke_data/valid/labels/image-553-_jpg.rf.3a78e59a40630cd5c39ca873564cd557.txt  \n",
      "  inflating: ./add_smoke_data/valid/labels/image-56-_jpg.rf.5f8578cf9a83862a3aab5fa4cd0207c9.txt  \n",
      "  inflating: ./add_smoke_data/valid/labels/image-561-_jpg.rf.ee75039a79d221266a53d1922faf1848.txt  \n",
      "  inflating: ./add_smoke_data/valid/labels/image-573-_jpg.rf.1ea904384d7acb05cfce64d572b2da9f.txt  \n",
      "  inflating: ./add_smoke_data/valid/labels/image-576-_jpg.rf.7d260e3f76bbd2ce3cd4a3aa1e2df05a.txt  \n",
      "  inflating: ./add_smoke_data/valid/labels/image-583-_jpg.rf.751597081a1579b03edc687473ff7f9e.txt  \n",
      "  inflating: ./add_smoke_data/valid/labels/image-585-_jpg.rf.32492a16f2e10457afe3ec98ef422992.txt  \n",
      "  inflating: ./add_smoke_data/valid/labels/image-591-_jpg.rf.57e97ec90f9f328dff2851fc4897053d.txt  \n",
      "  inflating: ./add_smoke_data/valid/labels/image-593-_jpg.rf.df0df30198f0a71731a71bed8c1ef311.txt  \n",
      "  inflating: ./add_smoke_data/valid/labels/image-596-_jpg.rf.f0cd2e53a1e4cdcec0e9a2233eeb555a.txt  \n",
      "  inflating: ./add_smoke_data/valid/labels/image-599-_jpg.rf.809a212936bc8a5b29fd351eb3e9e885.txt  \n",
      "  inflating: ./add_smoke_data/valid/labels/image-603-_jpg.rf.1a28859a785bd25552c7d66bd9c2de0e.txt  \n",
      "  inflating: ./add_smoke_data/valid/labels/image-605-_jpg.rf.025cfd060865b9989f2dd2f122f8c880.txt  \n",
      "  inflating: ./add_smoke_data/valid/labels/image-607-_jpg.rf.399e2482f2e8fab0dd5175909c5f332d.txt  \n",
      "  inflating: ./add_smoke_data/valid/labels/image-608-_jpg.rf.3a9c08d84bb00078f3c64e5a47078577.txt  \n",
      "  inflating: ./add_smoke_data/valid/labels/image-610-_jpg.rf.363b82101f7c5d84f990654b3c13b89b.txt  \n",
      "  inflating: ./add_smoke_data/valid/labels/image-611-_jpg.rf.7c6aa78898450a5c0c013084fd4bb4ec.txt  \n",
      "  inflating: ./add_smoke_data/valid/labels/image-614-_jpg.rf.863ff97c90ae36a3b8ac72444e198d9f.txt  \n",
      "  inflating: ./add_smoke_data/valid/labels/image-619-_jpg.rf.71d53574030591eb3aed13138d939d3f.txt  \n",
      "  inflating: ./add_smoke_data/valid/labels/image-634-_jpg.rf.6c1aa1a353358186e435f3c1a79a68c4.txt  \n",
      "  inflating: ./add_smoke_data/valid/labels/image-639-_jpg.rf.ebd4e897c93f0bb390a1600f6c1d817d.txt  \n",
      "  inflating: ./add_smoke_data/valid/labels/image-641-_jpg.rf.cff45d8d5a5a386055de0887b7777528.txt  \n",
      "  inflating: ./add_smoke_data/valid/labels/image-644-_jpg.rf.fe1a3a89f1513eca64d307b9bdbdd0c5.txt  \n",
      "  inflating: ./add_smoke_data/valid/labels/image-648-_jpg.rf.fa1ed3963ec885ee91c342d8de90b081.txt  \n",
      "  inflating: ./add_smoke_data/valid/labels/image-65-_jpg.rf.eb387406c128b17bc3da170ffedd5a77.txt  \n",
      "  inflating: ./add_smoke_data/valid/labels/image-657-_jpg.rf.384d4991c5a419792e39995bab78cc03.txt  \n",
      "  inflating: ./add_smoke_data/valid/labels/image-660-_jpg.rf.6803d58b0e8a0a7c6325260c3df6a4aa.txt  \n",
      "  inflating: ./add_smoke_data/valid/labels/image-663-_jpg.rf.880e291bc47acf6b839bfd4c3922dc1f.txt  \n",
      "  inflating: ./add_smoke_data/valid/labels/image-664-_jpg.rf.e0d72581d9d46309e52bc29513391242.txt  \n",
      "  inflating: ./add_smoke_data/valid/labels/image-671-_jpg.rf.f96112ef912d8db5c59771981057fe8c.txt  \n",
      "  inflating: ./add_smoke_data/valid/labels/image-678-_jpg.rf.f5ddb30920b5c1e142fd8f8b2369c662.txt  \n",
      "  inflating: ./add_smoke_data/valid/labels/image-68-_jpg.rf.5013a56cbcf65b49b7aa07924d7a9256.txt  \n",
      "  inflating: ./add_smoke_data/valid/labels/image-680-_jpg.rf.d032428baccf3b65b80f18e66a4d1932.txt  \n",
      "  inflating: ./add_smoke_data/valid/labels/image-683-_jpg.rf.d96fe0464285338d7917bc27af98da8d.txt  \n",
      "  inflating: ./add_smoke_data/valid/labels/image-686-_jpg.rf.b2bbf14a0be3b4e48019738996cd4269.txt  \n",
      "  inflating: ./add_smoke_data/valid/labels/image-687-_jpg.rf.42942750a422a25413ed85f8ba80db8b.txt  \n",
      "  inflating: ./add_smoke_data/valid/labels/image-688-_jpg.rf.f678b0a5abf88fc38ea8852a62663a41.txt  \n",
      "  inflating: ./add_smoke_data/valid/labels/image-690-_jpg.rf.c45e3a68d30e8b5b8867bdeffcff4f89.txt  \n",
      "  inflating: ./add_smoke_data/valid/labels/image-697-_jpg.rf.efb079f8f7fc4a42750c03797a14d156.txt  \n",
      "  inflating: ./add_smoke_data/valid/labels/image-7-_jpg.rf.372c7510d6423a0e92a48630ac9f08f2.txt  \n",
      "  inflating: ./add_smoke_data/valid/labels/image-709-_jpg.rf.f3fd9d111eb2ea4509730f48127cb308.txt  \n",
      "  inflating: ./add_smoke_data/valid/labels/image-710-_jpg.rf.f32d98a9fda2f92618e291bd5ebcbbf6.txt  \n",
      "  inflating: ./add_smoke_data/valid/labels/image-711-_jpg.rf.a7de5f57f34a0f14da05531990405c53.txt  \n",
      "  inflating: ./add_smoke_data/valid/labels/image-714-_jpg.rf.7717129c84bc7c403745c1a55a7f6ac0.txt  \n",
      "  inflating: ./add_smoke_data/valid/labels/image-719-_jpg.rf.c959153c0afce37b056f1fb129ddb21c.txt  \n",
      "  inflating: ./add_smoke_data/valid/labels/image-732-_jpg.rf.e267706bc577e435a396f2153388c687.txt  \n",
      "  inflating: ./add_smoke_data/valid/labels/image-733-_jpg.rf.f86bdf0ca3295f4412f30afbe7e42459.txt  \n",
      "  inflating: ./add_smoke_data/valid/labels/image-738-_jpg.rf.35613ad74482d261f343eac5ea2c061f.txt  \n",
      "  inflating: ./add_smoke_data/valid/labels/image-74-_jpg.rf.92c460f2e338201a8aabf9cfd186d425.txt  \n",
      "  inflating: ./add_smoke_data/valid/labels/image-751-_jpg.rf.4f05a799a611c0f69046f9fe918ea8db.txt  \n",
      "  inflating: ./add_smoke_data/valid/labels/image-758-_jpg.rf.1d9e1b1b44cd8a77aab5b944b4f50427.txt  \n",
      "  inflating: ./add_smoke_data/valid/labels/image-761-_jpg.rf.ceb318f89a3e601bcdbcf7f4ba8889e5.txt  \n",
      "  inflating: ./add_smoke_data/valid/labels/image-765-_jpg.rf.0266fff0425be446e6df8b5e320dc873.txt  \n",
      "  inflating: ./add_smoke_data/valid/labels/image-766-_jpg.rf.58989ebb01086f55689fbd21b4259cf6.txt  \n",
      "  inflating: ./add_smoke_data/valid/labels/image-769-_jpg.rf.55543f7ab72111ed8940b24b9447c30c.txt  \n",
      "  inflating: ./add_smoke_data/valid/labels/image-77-_jpg.rf.8e625d8cf73da58acf7ffcab851eca19.txt  \n",
      "  inflating: ./add_smoke_data/valid/labels/image-771-_jpg.rf.509820ed0f2a09f07c02d0627c90fd34.txt  \n",
      "  inflating: ./add_smoke_data/valid/labels/image-778-_jpg.rf.03d9c39be76a547f5bd76b1c19dea41d.txt  \n",
      "  inflating: ./add_smoke_data/valid/labels/image-779-_jpg.rf.498cbf3b7abfe234134aecc7d62db154.txt  \n",
      "  inflating: ./add_smoke_data/valid/labels/image-785-_jpg.rf.79ba826139b1c28eee63f8645ed184bb.txt  \n",
      "  inflating: ./add_smoke_data/valid/labels/image-790-_jpg.rf.0715882ad382f138ff1265cd4b1bdac0.txt  \n",
      "  inflating: ./add_smoke_data/valid/labels/image-792-_jpg.rf.a57a2d51856773f4a5a89b4a8ea1c024.txt  \n",
      "  inflating: ./add_smoke_data/valid/labels/image-797-_jpg.rf.5ac918e67ce59f38c81c6123da2cf322.txt  \n",
      "  inflating: ./add_smoke_data/valid/labels/image-802-_jpg.rf.4249c75588a227d176973a397f48f920.txt  \n",
      "  inflating: ./add_smoke_data/valid/labels/image-803-_jpg.rf.e5aca7f22ca932420678b300f4e539a0.txt  \n",
      "  inflating: ./add_smoke_data/valid/labels/image-814-_jpg.rf.57fb27efb51f64aaba781afd90815246.txt  \n",
      "  inflating: ./add_smoke_data/valid/labels/image-816-_jpg.rf.32ece0500df4ef6014f4f03c1366093e.txt  \n",
      "  inflating: ./add_smoke_data/valid/labels/image-818-_jpg.rf.3369f4d920277493c870b3f08f993827.txt  \n",
      "  inflating: ./add_smoke_data/valid/labels/image-820-_jpg.rf.51a65ba2b80c4fe197b89a0c49d711f0.txt  \n",
      "  inflating: ./add_smoke_data/valid/labels/image-831-_jpg.rf.1bf0ad6965a12f6ba95e21cfcebf9120.txt  \n",
      "  inflating: ./add_smoke_data/valid/labels/image-843-_jpg.rf.399d534a7bac2dfa99629613cb8966ea.txt  \n",
      "  inflating: ./add_smoke_data/valid/labels/image-863-_jpg.rf.bfda06120954e864f60d7d70d69fc47a.txt  \n",
      "  inflating: ./add_smoke_data/valid/labels/image-864-_jpg.rf.ade0d59e3f2089dd5832a59b1f676ec2.txt  \n",
      "  inflating: ./add_smoke_data/valid/labels/image-866-_jpg.rf.6b92d8451ecfaa27013ce24ae7fd9dee.txt  \n",
      "  inflating: ./add_smoke_data/valid/labels/image-869-_jpg.rf.50b8a8c9c1a1539799701e4696cf273d.txt  \n",
      "  inflating: ./add_smoke_data/valid/labels/image-87-_jpg.rf.15faaeab1f303bdb1e163747849da422.txt  \n",
      "  inflating: ./add_smoke_data/valid/labels/image-872-_jpg.rf.e40563c8c3a08f64ede2e063df21a7c9.txt  \n",
      "  inflating: ./add_smoke_data/valid/labels/image-879-_jpg.rf.4acde6c45ddd999c9f93ce63a7098387.txt  \n",
      "  inflating: ./add_smoke_data/valid/labels/image-88-_jpg.rf.6d50d343533268be4259d3d4a529115a.txt  \n",
      "  inflating: ./add_smoke_data/valid/labels/image-897-_jpg.rf.da5f802c9492486995a0ecf4ee513400.txt  \n",
      "  inflating: ./add_smoke_data/valid/labels/image-900-_jpg.rf.e45d7263b8b49e25c3c93128fee7ab1c.txt  \n",
      "  inflating: ./add_smoke_data/valid/labels/image-901-_jpg.rf.d344ae6e8f4f220bdcc962085ac00ac9.txt  \n",
      "  inflating: ./add_smoke_data/valid/labels/image-904-_jpg.rf.a5ba06270964a5359f476e271e8bb5ee.txt  \n",
      "  inflating: ./add_smoke_data/valid/labels/image-912-_jpg.rf.8e162e051d5078d02917a2ad18103cbb.txt  \n",
      "  inflating: ./add_smoke_data/valid/labels/image-927-_jpg.rf.ce8354ab43e0e5437efdf7399321a584.txt  \n",
      "  inflating: ./add_smoke_data/valid/labels/image-929-_jpg.rf.62c9df129f443d2d1ca124abe9a22a73.txt  \n",
      "  inflating: ./add_smoke_data/valid/labels/image-93-_jpg.rf.30ec3d9072d34d5df9dbc71b21dcc160.txt  \n",
      "  inflating: ./add_smoke_data/valid/labels/image-938-_jpg.rf.ec7a19829935898851b694021459762c.txt  \n",
      "  inflating: ./add_smoke_data/valid/labels/image-946-_jpg.rf.b74d27240bd681e6c0bfbc1c1d200673.txt  \n",
      "  inflating: ./add_smoke_data/valid/labels/image-95-_jpg.rf.b514115151488d91ba5a7a824ba3d645.txt  \n",
      "  inflating: ./add_smoke_data/valid/labels/image-954-_jpg.rf.32c778df9921d531254c9029a99b926c.txt  \n",
      "  inflating: ./add_smoke_data/valid/labels/image-961-_jpg.rf.94deecd110e03e56f73c0d51f55d5c54.txt  \n",
      "  inflating: ./add_smoke_data/valid/labels/image-962-_jpg.rf.9c029650ea62cbff0dae7c197b0ed103.txt  \n",
      "  inflating: ./add_smoke_data/valid/labels/image-966-_jpg.rf.67a42d8d2d02f18e02ef0548ddf9180d.txt  \n",
      "  inflating: ./add_smoke_data/valid/labels/image-971-_jpg.rf.4029d5a718809c7ade4c85db8992bada.txt  \n",
      "  inflating: ./add_smoke_data/valid/labels/image-973-_jpg.rf.968356ab81019b4b3a5a6a42fa42dce3.txt  \n",
      "  inflating: ./add_smoke_data/valid/labels/image-977-_jpg.rf.dbed8e2fd7ea27d346a9ab4c8de760a0.txt  \n",
      "  inflating: ./add_smoke_data/valid/labels/image-978-_jpg.rf.cf026d6802ef9bb286bb105faf6a04d3.txt  \n",
      "  inflating: ./add_smoke_data/valid/labels/images4-105-_jpg.rf.b655034835b3ae3167b6e9bc8a3e51d7.txt  \n",
      "  inflating: ./add_smoke_data/valid/labels/images4-108-_jpg.rf.c97f93441ba74925df9d5c2e369c594f.txt  \n",
      "  inflating: ./add_smoke_data/valid/labels/images4-111-_jpg.rf.4c4dbe6d32676b5d39657ba27eddf5ea.txt  \n",
      "  inflating: ./add_smoke_data/valid/labels/images4-115-_jpg.rf.50f4a14ba28f54a846470b82afa049d9.txt  \n",
      "  inflating: ./add_smoke_data/valid/labels/images4-117-_jpg.rf.ff45529ba3c4a77f8b1ae27eecb83277.txt  \n",
      "  inflating: ./add_smoke_data/valid/labels/images4-119-_jpg.rf.5d331481a7c91dbbeade9e778d6c288a.txt  \n",
      "  inflating: ./add_smoke_data/valid/labels/images4-121-_jpg.rf.4d5ad013b47dae7e3b1bbb926af8fd7a.txt  \n",
      "  inflating: ./add_smoke_data/valid/labels/images4-124-_jpg.rf.0f1ee09fce3918e14bd4134c38d8edb1.txt  \n",
      "  inflating: ./add_smoke_data/valid/labels/images4-128-_jpg.rf.e36ff799afda725adf20a9b831e78cc5.txt  \n",
      "  inflating: ./add_smoke_data/valid/labels/images4-139-_jpg.rf.2176083ca48662c272d3930db6855732.txt  \n",
      "  inflating: ./add_smoke_data/valid/labels/images4-156-_jpg.rf.66d76c6e60b9414af09bbeeca9c298e5.txt  \n",
      "  inflating: ./add_smoke_data/valid/labels/images4-158-_jpg.rf.9392608330793eac1e91d654b2b9a4dc.txt  \n",
      "  inflating: ./add_smoke_data/valid/labels/images4-163-_jpg.rf.4f7c82134e79829e5a6204443edb24c2.txt  \n",
      "  inflating: ./add_smoke_data/valid/labels/images4-171-_jpg.rf.f1758a930890333fa15aa6c59f15511f.txt  \n",
      "  inflating: ./add_smoke_data/valid/labels/images4-177-_jpg.rf.25592a1cf5d336a90377eb452865a901.txt  \n",
      "  inflating: ./add_smoke_data/valid/labels/images4-18-_jpg.rf.441bc1245f1df4d2845f53bc1438dd55.txt  \n",
      "  inflating: ./add_smoke_data/valid/labels/images4-180-_jpg.rf.2c1151edda6bbdd283cd48a201190cd2.txt  \n",
      "  inflating: ./add_smoke_data/valid/labels/images4-181-_jpg.rf.0fdbc5380179630040a1e9ec780f536b.txt  \n",
      "  inflating: ./add_smoke_data/valid/labels/images4-182-_jpg.rf.76c0bba2afb5ff777bc6e267d8cad32b.txt  \n",
      "  inflating: ./add_smoke_data/valid/labels/images4-24-_jpg.rf.e1575f87bf77aa0b60d5fece16e159dc.txt  \n",
      "  inflating: ./add_smoke_data/valid/labels/images4-3-_jpg.rf.bfd87ef7663cce03be0731519ebd6883.txt  \n",
      "  inflating: ./add_smoke_data/valid/labels/images4-33-_jpg.rf.d77a5dfdb84508008abe929ba4d4e59d.txt  \n",
      "  inflating: ./add_smoke_data/valid/labels/images4-48-_jpg.rf.762fd66b1fad0ad550415c7a9367b129.txt  \n",
      "  inflating: ./add_smoke_data/valid/labels/images4-49-_jpg.rf.ba5e7ccd74a9d563aa5abd1d35a2f9a9.txt  \n",
      "  inflating: ./add_smoke_data/valid/labels/images4-53-_jpg.rf.e5cfe35dcd8544592624b7a808fdb719.txt  \n",
      "  inflating: ./add_smoke_data/valid/labels/images4-54-_jpg.rf.57c561644784ad5b2570aac0f85c1fe5.txt  \n",
      "  inflating: ./add_smoke_data/valid/labels/images4-61-_jpg.rf.1a45f178e68c05705da181f2b4f4ca6c.txt  \n",
      "  inflating: ./add_smoke_data/valid/labels/images4-66-_jpg.rf.faa0d9d99cf604011251509eb87c309b.txt  \n",
      "  inflating: ./add_smoke_data/valid/labels/images4-76-_jpg.rf.0c19197cd95fb1121fdfb91e8fa0aae0.txt  \n",
      "  inflating: ./add_smoke_data/valid/labels/images4-78-_jpg.rf.65d027812ff363f60f1066c9252135e1.txt  \n",
      "  inflating: ./add_smoke_data/valid/labels/images4-88-_jpg.rf.c6b419e6ed1a71cd2a0ea54d786c9f23.txt  \n",
      "  inflating: ./add_smoke_data/valid/labels/images4-94-_jpg.rf.af896f95c7104776ad02e074a826deb7.txt  \n",
      "  inflating: ./add_smoke_data/valid/labels/L_01616_png.rf.f66b80ccd3abf8d70cfe10e83e559c13.txt  \n",
      "  inflating: ./add_smoke_data/valid/labels/L_01651_png.rf.e499fea285738f4cca0687b962c7ffe1.txt  \n",
      "  inflating: ./add_smoke_data/valid/labels/L_01834_png.rf.47f69eef0e261eba2325754453d7fb30.txt  \n",
      "  inflating: ./add_smoke_data/valid/labels/L_03478_png.rf.e629257eddaf87c5331228a17703d6a4.txt  \n",
      "  inflating: ./add_smoke_data/valid/labels/L_03888_png.rf.6ba2fdba4c3eadc6db82b9d31cbebcaa.txt  \n",
      "  inflating: ./add_smoke_data/valid/labels/L_04405_png.rf.d2bdf7a6b9e62de0f96ca2bd538e6f00.txt  \n",
      "  inflating: ./add_smoke_data/valid/labels/L_04680_png.rf.a1e56256857c678f827c85e861734fc3.txt  \n",
      "  inflating: ./add_smoke_data/valid/labels/M_00474_png.rf.b9935abdfa02a677734f5af21e78f6ad.txt  \n",
      "  inflating: ./add_smoke_data/valid/labels/M_00537_png.rf.395f2c236422766acd6ee840066c460b.txt  \n",
      "  inflating: ./add_smoke_data/valid/labels/M_01202_png.rf.e0430df4bf0afd462be2776c6f03e4c6.txt  \n",
      "  inflating: ./add_smoke_data/valid/labels/M_01253_png.rf.b51389cd2d7399a9667b37897a11bdf2.txt  \n",
      "  inflating: ./add_smoke_data/valid/labels/M_02589_png.rf.8c1c35a6cf96a17a7621f8f01ae56a2d.txt  \n",
      "  inflating: ./add_smoke_data/valid/labels/M_03207_png.rf.5121c483dec5d64abb20fae0550846c5.txt  \n",
      "  inflating: ./add_smoke_data/valid/labels/M_04529_png.rf.598ee18452f1446af566248cf39f5f5a.txt  \n",
      "  inflating: ./add_smoke_data/valid/labels/M_05427_png.rf.bf9d4f7e01d4eb0935387a4daac700e2.txt  \n",
      "  inflating: ./add_smoke_data/valid/labels/M_06080_png.rf.1865eef49d09e7e887edd0abbc9ef5f1.txt  \n",
      "  inflating: ./add_smoke_data/valid/labels/M_06523_png.rf.250f30d93c7000805c7f4c717ce0fa32.txt  \n",
      "  inflating: ./add_smoke_data/valid/labels/M_07057_png.rf.c3451500db8cc467f05eb67330b2b273.txt  \n",
      "  inflating: ./add_smoke_data/valid/labels/M_07090_png.rf.779f5f3212fb872fe0a312ad75dd27bf.txt  \n",
      "  inflating: ./add_smoke_data/valid/labels/M_07790_png.rf.278ca4108018436cf536281d29949c79.txt  \n",
      "  inflating: ./add_smoke_data/valid/labels/M_09257_png.rf.a02b6ba9540d962120d6d4fe8ee2f868.txt  \n",
      "  inflating: ./add_smoke_data/valid/labels/M_10393_png.rf.cd1e69a98f128379dd9aafde4b4b4a3b.txt  \n",
      "  inflating: ./add_smoke_data/valid/labels/M_14819_png.rf.d0366b01b9c96a24f9c064cc9d5be791.txt  \n",
      "  inflating: ./add_smoke_data/valid/labels/MirrorWEBSmoke2999_jpg.rf.640c5a70199fcfc26ddb6af872925b6d.txt  \n",
      "  inflating: ./add_smoke_data/valid/labels/new_fire_fire-62_png_jpg.rf.13cbee7ef626c91eeb28169ff32a2184.txt  \n",
      "  inflating: ./add_smoke_data/valid/labels/new_fire_fire-7_png_jpg.rf.7f9cce3cd5173a6c6c0108bdb87e2658.txt  \n"
     ]
    },
    {
     "data": {
      "text/plain": [
       "0"
      ]
     },
     "execution_count": 2,
     "metadata": {},
     "output_type": "execute_result"
    },
    {
     "name": "stdout",
     "output_type": "stream",
     "text": [
      "  inflating: ./add_smoke_data/valid/labels/NoiseWEBFire1305_jpg.rf.e30d81a261237e78488bf300763d036b.txt  \n",
      "  inflating: ./add_smoke_data/valid/labels/NoiseWEBFire1378_jpg.rf.6c543bbe534dc04fd8fcb964e430e0a9.txt  \n",
      "  inflating: ./add_smoke_data/valid/labels/NoiseWEBFire1433_jpg.rf.c53ae675acabf674f7180794a5fdf525.txt  \n",
      "  inflating: ./add_smoke_data/valid/labels/NoiseWEBFire152_jpg.rf.e55ce62a969f101d02b65f553bdb86de.txt  \n",
      "  inflating: ./add_smoke_data/valid/labels/NoiseWEBFire174_jpg.rf.f1f8708446a8f44380729ffa1cb724e8.txt  \n",
      "  inflating: ./add_smoke_data/valid/labels/NoiseWEBFire188_jpg.rf.c256a90e961898d1fee5dd0d28919dc4.txt  \n",
      "  inflating: ./add_smoke_data/valid/labels/NoiseWEBSmoke2032_jpg.rf.fa53d6830a0f6efa5f1774a5036f1c43.txt  \n",
      "  inflating: ./add_smoke_data/valid/labels/NoiseWEBSmoke2255_jpg.rf.7bd3d165da7e90780c5964d4cbce3a62.txt  \n",
      "  inflating: ./add_smoke_data/valid/labels/NoiseWEBSmoke292_jpg.rf.389125e6bcf1b214cce479c7badbf738.txt  \n",
      "  inflating: ./add_smoke_data/valid/labels/NoiseWEBSmoke2951_jpg.rf.49c03ac6661e8a27d40794cb26a2e2a6.txt  \n",
      "  inflating: ./add_smoke_data/valid/labels/NoiseWEBSmoke2954_jpg.rf.b1aeb36fcbae30dc3cf4c565db3abad6.txt  \n",
      "  inflating: ./add_smoke_data/valid/labels/NoiseWEBSmoke3245_jpg.rf.f0f9d32724e6acaaeefd0a6aae54e342.txt  \n",
      "  inflating: ./add_smoke_data/valid/labels/photo-11-_jpg.rf.0df8ac77c4bd79be6865a38e62dd7960.txt  \n",
      "  inflating: ./add_smoke_data/valid/labels/photo-14-_jpg.rf.f1848d2ff7bb57210b49ae1e54b8e847.txt  \n",
      "  inflating: ./add_smoke_data/valid/labels/photo-3-_jpg.rf.1043b4374c189480369a0e7250aafde9.txt  \n",
      "  inflating: ./add_smoke_data/valid/labels/photo-30-_jpg.rf.95553a1fecd368d7a68adf796480b4ed.txt  \n",
      "  inflating: ./add_smoke_data/valid/labels/photo-37-_jpg.rf.02c5358b3947892e2c44ac5292e73290.txt  \n",
      "  inflating: ./add_smoke_data/valid/labels/photo-4-_jpg.rf.788730e7949ec8f11ba03ae57f4f6aa7.txt  \n",
      "  inflating: ./add_smoke_data/valid/labels/photo-7-_jpg.rf.5a25f5ae15174ca2b72d3581387ef436.txt  \n",
      "  inflating: ./add_smoke_data/valid/labels/S3-N0806MF07552_jpg.rf.18aebff88ae67111f4fd6bb0ec2d6cd4.txt  \n",
      "  inflating: ./add_smoke_data/valid/labels/S3-N0806MF07553_jpg.rf.891ad310f3d67845815e9129b258da7a.txt  \n",
      "  inflating: ./add_smoke_data/valid/labels/S3-N0806MF07568_jpg.rf.30aa3fafd78beb4e0cd7e2f5846a938a.txt  \n",
      "  inflating: ./add_smoke_data/valid/labels/S3-N0806MF07569_jpg.rf.95a2c51fb9a4c36676e9c03667204ca1.txt  \n",
      "  inflating: ./add_smoke_data/valid/labels/S3-N0806MF07606_jpg.rf.a6e45e2c41a56a294e4dd2c8a6778561.txt  \n",
      "  inflating: ./add_smoke_data/valid/labels/S3-N0806MF07616_jpg.rf.a6899951ed80ac09175750801e63a3d7.txt  \n",
      "  inflating: ./add_smoke_data/valid/labels/S3-N0806MF07662_jpg.rf.3978eb6f813d6cb79da51970857fa4f2.txt  \n",
      "  inflating: ./add_smoke_data/valid/labels/S3-N1448MF01848_jpg.rf.cce8110ce267fddf08073cf03795495f.txt  \n",
      "  inflating: ./add_smoke_data/valid/labels/S3-N1448MF01849_jpg.rf.f02da72e1644f3cf481f70b4a9687b53.txt  \n",
      "  inflating: ./add_smoke_data/valid/labels/S3-N1448MF01860_jpg.rf.c7ec184a3dd062f8dab079424926b349.txt  \n",
      "  inflating: ./add_smoke_data/valid/labels/S3-N1448MF02043_jpg.rf.2365b1cf0a519b3b2b0ca0b779a879fc.txt  \n",
      "  inflating: ./add_smoke_data/valid/labels/S3-N1448MF02045_jpg.rf.df12dc2d220c02c6bce9b0bdb70ed9c1.txt  \n",
      "  inflating: ./add_smoke_data/valid/labels/S3-N1451MF01548_jpg.rf.ecd647a8179438586f690dad99105e5f.txt  \n",
      "  inflating: ./add_smoke_data/valid/labels/S3-N1451MF01561_jpg.rf.411b4c549a7c1187025793c31dca1adb.txt  \n",
      "  inflating: ./add_smoke_data/valid/labels/S3-N1451MF01573_jpg.rf.6a77fccb7c7ef371e5fc6f065d669577.txt  \n",
      "  inflating: ./add_smoke_data/valid/labels/S3-N1451MF01945_jpg.rf.dc43f62a144a845fff3df4ec28430355.txt  \n",
      "  inflating: ./add_smoke_data/valid/labels/S3-N1452MF01828_jpg.rf.a259f3d7425c73217c6ee3e27da74aef.txt  \n",
      "  inflating: ./add_smoke_data/valid/labels/S3-N1452MF01838_jpg.rf.2d8d4f8b676c3b4c7c718b4d8bfae71f.txt  \n",
      "  inflating: ./add_smoke_data/valid/labels/S3-N1452MF01840_jpg.rf.bf675ac3738b47f3b8b3a217b8df210a.txt  \n",
      "  inflating: ./add_smoke_data/valid/labels/S3-N1453MF01154_jpg.rf.5da76033164e4584b21e216fae7718b4.txt  \n",
      "  inflating: ./add_smoke_data/valid/labels/S3-N1453MF01166_jpg.rf.e6a201b348946f4852b933f252da7705.txt  \n",
      "  inflating: ./add_smoke_data/valid/labels/S3-N1454MF01345_jpg.rf.f912bfde604b672b527c8df0706ed587.txt  \n",
      "  inflating: ./add_smoke_data/valid/labels/S3-N1454MF01346_jpg.rf.4360fb183a5464d10d8d67e8b04babab.txt  \n",
      "  inflating: ./add_smoke_data/valid/labels/S3-N1454MF01347_jpg.rf.bddb8b04b5184579d3ee7564fdc49a6d.txt  \n",
      "  inflating: ./add_smoke_data/valid/labels/S3-N1454MF01357_jpg.rf.f66d36ccfe7c389e8219486969cab112.txt  \n",
      "  inflating: ./add_smoke_data/valid/labels/S3-N1454MF01369_jpg.rf.5d4273622d08d76c689c8be142fc6f5a.txt  \n",
      "  inflating: ./add_smoke_data/valid/labels/S3-N1455MF01642_jpg.rf.95c3e73dd7667b671a025b91ea6ec0c8.txt  \n",
      "  inflating: ./add_smoke_data/valid/labels/S3-N1455MF01920_jpg.rf.c0a339335601607845cb29bad59dc24a.txt  \n",
      "  inflating: ./add_smoke_data/valid/labels/S3-N1455MF01921_jpg.rf.99211e83c58a2a5db8dca0f010f7d6f8.txt  \n",
      "  inflating: ./add_smoke_data/valid/labels/S3-N1455MF01922_jpg.rf.1fa3e5f847efd5ac657b5b3a7990b997.txt  \n",
      "  inflating: ./add_smoke_data/valid/labels/S3-N1455MF01932_jpg.rf.b3f09d415e8d666686bdd21c1b4bd5e7.txt  \n",
      "  inflating: ./add_smoke_data/valid/labels/S3-N1455MF01935_jpg.rf.6d3ad61dedf44b3e43492bc2f3e95af7.txt  \n",
      "  inflating: ./add_smoke_data/valid/labels/S3-N1455MF01947_jpg.rf.1517f51216b19697c62d04d6ffce95e0.txt  \n",
      "  inflating: ./add_smoke_data/valid/labels/S3-N1456MF00744_jpg.rf.2d6c4cf7767c2e141484e169f4f71e65.txt  \n",
      "  inflating: ./add_smoke_data/valid/labels/S3-N1456MF00745_jpg.rf.35841718f5e74ba9a2546503b76b6eeb.txt  \n",
      "  inflating: ./add_smoke_data/valid/labels/S3-N1456MF00757_jpg.rf.b9a974cb6226977e82077a6f404965e7.txt  \n",
      "  inflating: ./add_smoke_data/valid/labels/S3-N1456MF01023_jpg.rf.6acc43690b961167116ae5cee67ada3d.txt  \n",
      "  inflating: ./add_smoke_data/valid/labels/S3-N1456MF01312_jpg.rf.159da932512afa7a18d4014523095290.txt  \n",
      "  inflating: ./add_smoke_data/valid/labels/S3-N1457MF01423_jpg.rf.d1a9ef316d7d7a1707ea11770aa2dd8f.txt  \n",
      "  inflating: ./add_smoke_data/valid/labels/S3-N1457MF01634_jpg.rf.4becb57c1d3306a851a11c1387842296.txt  \n",
      "  inflating: ./add_smoke_data/valid/labels/WEBFire1090_jpg.rf.899293b597c38e1289adb0d5cdba35c6.txt  \n",
      "  inflating: ./add_smoke_data/valid/labels/WEBFire152_jpg.rf.75b571dc88235204688d1a0ec43cc75e.txt  \n",
      "  inflating: ./add_smoke_data/valid/labels/WEBFire1631_jpg.rf.831be112854ee422ec6f399143a7aa83.txt  \n",
      "  inflating: ./add_smoke_data/valid/labels/WEBFire1695_jpg.rf.3fb625e2296160c3c926658a1bd5e725.txt  \n",
      "  inflating: ./add_smoke_data/valid/labels/WEBFire1754_jpg.rf.8b8e7964bab2260b83bf22f0e1294a2b.txt  \n",
      "  inflating: ./add_smoke_data/valid/labels/WEBFire1959_jpg.rf.306329a4baa5c7f36e0418824e23648d.txt  \n",
      "  inflating: ./add_smoke_data/valid/labels/WEBFire2050_jpg.rf.eccad6bfe0a73cf9a209b5807d9cf2cf.txt  \n",
      "  inflating: ./add_smoke_data/valid/labels/WEBFire2132_jpg.rf.c4ae575e349bde12b732592e6cc8152f.txt  \n",
      "  inflating: ./add_smoke_data/valid/labels/WEBFire2237_jpg.rf.820be6ef3b5802043032c715d1caffec.txt  \n",
      "  inflating: ./add_smoke_data/valid/labels/WEBFire572_jpg.rf.c2445d2f4a4fb8a375cdbbcf0d7ac73c.txt  \n",
      "  inflating: ./add_smoke_data/valid/labels/WEBSmoke038_jpg.rf.b1ed9d627a5fcd8e617262b160f72e22.txt  \n",
      "  inflating: ./add_smoke_data/valid/labels/WEBSmoke045_jpg.rf.579f4ff7ac676c2fa86fe8441ca535c6.txt  \n",
      "  inflating: ./add_smoke_data/valid/labels/WEBSmoke1654_jpg.rf.e2bed6f75f095f30742185a30f1ac10f.txt  \n",
      "  inflating: ./add_smoke_data/valid/labels/WEBSmoke2287_jpg.rf.a7db0721fa35faf4a5393e0d73a1288f.txt  \n",
      "  inflating: ./add_smoke_data/valid/labels/WEBSmoke2368_jpg.rf.7cf4d0d99a7678defd1f4884c2aba32b.txt  \n"
     ]
    }
   ],
   "source": [
    "file_name = \"add_smoke_data.zip\"\n",
    "output_dir = \".\"\n",
    "os.system(\"unzip \"+file_name+\" -d \"+output_dir)"
   ]
  },
  {
   "cell_type": "code",
   "execution_count": 4,
   "id": "42172db1",
   "metadata": {},
   "outputs": [
    {
     "name": "stdout",
     "output_type": "stream",
     "text": [
      "Cloning into 'add_smoke_yolov8s_0507'...\n",
      "remote: Enumerating objects: 25004, done.\u001b[K\n",
      "remote: Counting objects: 100% (471/471), done.\u001b[K\n",
      "remote: Compressing objects: 100% (360/360), done.\u001b[K\n",
      "remote: Total 25004 (delta 274), reused 235 (delta 110), pack-reused 24533\u001b[K\n",
      "Receiving objects: 100% (25004/25004), 14.89 MiB | 10.91 MiB/s, done.\n",
      "Resolving deltas: 100% (17590/17590), done.\n"
     ]
    }
   ],
   "source": [
    "!git clone https://github.com/ultralytics/ultralytics.git add_smoke_yolov8s_0507"
   ]
  },
  {
   "cell_type": "code",
   "execution_count": 2,
   "id": "75e681d1",
   "metadata": {},
   "outputs": [
    {
     "name": "stdout",
     "output_type": "stream",
     "text": [
      "/raid/coss27/add_smoke_yolov8s_0507/ultralytics\n"
     ]
    }
   ],
   "source": [
    "%cd /raid/coss27/add_smoke_yolov8s_0507/ultralytics"
   ]
  },
  {
   "cell_type": "code",
   "execution_count": 4,
   "id": "afad70d9",
   "metadata": {},
   "outputs": [
    {
     "name": "stdout",
     "output_type": "stream",
     "text": [
      "Defaulting to user installation because normal site-packages is not writeable\n",
      "\u001b[33mWARNING: Ignoring invalid distribution -umpy (/abr/coss27/.local/lib/python3.8/site-packages)\u001b[0m\u001b[33m\n",
      "\u001b[0m\u001b[33mWARNING: Ignoring invalid distribution -umpy (/abr/coss27/.local/lib/python3.8/site-packages)\u001b[0m\u001b[33m\n",
      "\u001b[0mLooking in indexes: https://pypi.org/simple, https://pypi.ngc.nvidia.com\n",
      "Requirement already satisfied: ultralytics in /abr/coss27/.local/lib/python3.8/site-packages (8.1.38)\n",
      "Requirement already satisfied: matplotlib>=3.3.0 in /usr/local/lib/python3.8/dist-packages (from ultralytics) (3.7.1)\n",
      "Requirement already satisfied: opencv-python>=4.6.0 in /abr/coss27/.local/lib/python3.8/site-packages (from ultralytics) (4.9.0.80)\n",
      "Requirement already satisfied: pillow>=7.1.2 in /abr/coss27/.local/lib/python3.8/site-packages (from ultralytics) (10.3.0)\n",
      "Requirement already satisfied: pyyaml>=5.3.1 in /usr/local/lib/python3.8/dist-packages (from ultralytics) (6.0)\n",
      "Requirement already satisfied: requests>=2.23.0 in /usr/local/lib/python3.8/dist-packages (from ultralytics) (2.28.2)\n",
      "Requirement already satisfied: scipy>=1.4.1 in /usr/local/lib/python3.8/dist-packages (from ultralytics) (1.10.1)\n",
      "Requirement already satisfied: torch>=1.8.0 in /usr/local/lib/python3.8/dist-packages (from ultralytics) (2.1.0a0+fe05266)\n",
      "Requirement already satisfied: torchvision>=0.9.0 in /usr/local/lib/python3.8/dist-packages (from ultralytics) (0.15.0a0)\n",
      "Requirement already satisfied: tqdm>=4.64.0 in /usr/local/lib/python3.8/dist-packages (from ultralytics) (4.65.0)\n",
      "Requirement already satisfied: psutil in /usr/local/lib/python3.8/dist-packages (from ultralytics) (5.9.4)\n",
      "Requirement already satisfied: py-cpuinfo in /abr/coss27/.local/lib/python3.8/site-packages (from ultralytics) (9.0.0)\n",
      "Requirement already satisfied: thop>=0.1.1 in /abr/coss27/.local/lib/python3.8/site-packages (from ultralytics) (0.1.1.post2209072238)\n",
      "Requirement already satisfied: pandas>=1.1.4 in /usr/local/lib/python3.8/dist-packages (from ultralytics) (1.5.2)\n",
      "Requirement already satisfied: seaborn>=0.11.0 in /usr/local/lib/python3.8/dist-packages (from ultralytics) (0.12.2)\n",
      "Requirement already satisfied: contourpy>=1.0.1 in /usr/local/lib/python3.8/dist-packages (from matplotlib>=3.3.0->ultralytics) (1.0.7)\n",
      "Requirement already satisfied: cycler>=0.10 in /abr/coss27/.local/lib/python3.8/site-packages (from matplotlib>=3.3.0->ultralytics) (0.10.0)\n",
      "Requirement already satisfied: fonttools>=4.22.0 in /usr/local/lib/python3.8/dist-packages (from matplotlib>=3.3.0->ultralytics) (4.39.3)\n",
      "Requirement already satisfied: kiwisolver>=1.0.1 in /usr/local/lib/python3.8/dist-packages (from matplotlib>=3.3.0->ultralytics) (1.4.4)\n",
      "Requirement already satisfied: numpy>=1.20 in /abr/coss27/.local/lib/python3.8/site-packages (from matplotlib>=3.3.0->ultralytics) (1.24.4)\n",
      "Requirement already satisfied: packaging>=20.0 in /usr/local/lib/python3.8/dist-packages (from matplotlib>=3.3.0->ultralytics) (23.0)\n",
      "Requirement already satisfied: pyparsing>=2.3.1 in /usr/local/lib/python3.8/dist-packages (from matplotlib>=3.3.0->ultralytics) (3.0.9)\n",
      "Requirement already satisfied: python-dateutil>=2.7 in /usr/local/lib/python3.8/dist-packages (from matplotlib>=3.3.0->ultralytics) (2.8.2)\n",
      "Requirement already satisfied: importlib-resources>=3.2.0 in /usr/local/lib/python3.8/dist-packages (from matplotlib>=3.3.0->ultralytics) (5.12.0)\n",
      "Requirement already satisfied: pytz>=2020.1 in /usr/local/lib/python3.8/dist-packages (from pandas>=1.1.4->ultralytics) (2023.3)\n",
      "Requirement already satisfied: charset-normalizer<4,>=2 in /usr/local/lib/python3.8/dist-packages (from requests>=2.23.0->ultralytics) (3.1.0)\n",
      "Requirement already satisfied: idna<4,>=2.5 in /abr/coss27/.local/lib/python3.8/site-packages (from requests>=2.23.0->ultralytics) (2.10)\n",
      "Requirement already satisfied: urllib3<1.27,>=1.21.1 in /usr/local/lib/python3.8/dist-packages (from requests>=2.23.0->ultralytics) (1.26.15)\n",
      "Requirement already satisfied: certifi>=2017.4.17 in /abr/coss27/.local/lib/python3.8/site-packages (from requests>=2.23.0->ultralytics) (2023.7.22)\n",
      "Requirement already satisfied: filelock in /usr/local/lib/python3.8/dist-packages (from torch>=1.8.0->ultralytics) (3.11.0)\n",
      "Requirement already satisfied: typing-extensions in /usr/local/lib/python3.8/dist-packages (from torch>=1.8.0->ultralytics) (4.5.0)\n",
      "Requirement already satisfied: sympy in /usr/local/lib/python3.8/dist-packages (from torch>=1.8.0->ultralytics) (1.11.1)\n",
      "Requirement already satisfied: networkx in /usr/local/lib/python3.8/dist-packages (from torch>=1.8.0->ultralytics) (2.6.3)\n",
      "Requirement already satisfied: jinja2 in /usr/local/lib/python3.8/dist-packages (from torch>=1.8.0->ultralytics) (3.1.2)\n",
      "Requirement already satisfied: six in /usr/local/lib/python3.8/dist-packages (from cycler>=0.10->matplotlib>=3.3.0->ultralytics) (1.16.0)\n",
      "Requirement already satisfied: zipp>=3.1.0 in /usr/local/lib/python3.8/dist-packages (from importlib-resources>=3.2.0->matplotlib>=3.3.0->ultralytics) (3.15.0)\n",
      "Requirement already satisfied: MarkupSafe>=2.0 in /usr/local/lib/python3.8/dist-packages (from jinja2->torch>=1.8.0->ultralytics) (2.1.2)\n",
      "Requirement already satisfied: mpmath>=0.19 in /usr/local/lib/python3.8/dist-packages (from sympy->torch>=1.8.0->ultralytics) (1.3.0)\n",
      "\u001b[33mWARNING: Ignoring invalid distribution -umpy (/abr/coss27/.local/lib/python3.8/site-packages)\u001b[0m\u001b[33m\n",
      "\u001b[0m\u001b[33mWARNING: Ignoring invalid distribution -umpy (/abr/coss27/.local/lib/python3.8/site-packages)\u001b[0m\u001b[33m\n",
      "\u001b[0m"
     ]
    }
   ],
   "source": [
    "!pip install ultralytics"
   ]
  },
  {
   "cell_type": "code",
   "execution_count": 13,
   "id": "d332358f",
   "metadata": {},
   "outputs": [
    {
     "name": "stdout",
     "output_type": "stream",
     "text": [
      "/bin/bash: yolo: command not found\r\n"
     ]
    }
   ],
   "source": [
    "!yolo detect train data='/raid/coss27/add_smoke_data/data.yaml' model='yolov8s.pt' epochs=200 batch=32 imgsz=640"
   ]
  },
  {
   "cell_type": "code",
   "execution_count": 15,
   "id": "69abcd22",
   "metadata": {},
   "outputs": [
    {
     "name": "stdout",
     "output_type": "stream",
     "text": [
      "Transferred 355/355 items from pretrained weights\n",
      "New https://pypi.org/project/ultralytics/8.2.10 available 😃 Update with 'pip install -U ultralytics'\n",
      "Ultralytics YOLOv8.1.38 🚀 Python-3.8.10 torch-2.1.0a0+fe05266 CUDA:0 (NVIDIA RTX A6000, 48677MiB)\n",
      "\u001b[34m\u001b[1mengine/trainer: \u001b[0mtask=detect, mode=train, model=yolov8s.yaml, data=/raid/coss27/add_smoke_data/data.yaml, epochs=200, time=None, patience=100, batch=32, imgsz=640, save=True, save_period=-1, cache=False, device=None, workers=8, project=None, name=train2, exist_ok=False, pretrained=True, optimizer=auto, verbose=True, seed=0, deterministic=True, single_cls=False, rect=False, cos_lr=False, close_mosaic=10, resume=False, amp=True, fraction=1.0, profile=False, freeze=None, multi_scale=False, overlap_mask=True, mask_ratio=4, dropout=0.0, val=True, split=val, save_json=False, save_hybrid=False, conf=None, iou=0.7, max_det=300, half=False, dnn=False, plots=True, source=None, vid_stride=1, stream_buffer=False, visualize=False, augment=False, agnostic_nms=False, classes=None, retina_masks=False, embed=None, show=False, save_frames=False, save_txt=False, save_conf=False, save_crop=False, show_labels=True, show_conf=True, show_boxes=True, line_width=None, format=torchscript, keras=False, optimize=False, int8=False, dynamic=False, simplify=False, opset=None, workspace=4, nms=False, lr0=0.01, lrf=0.01, momentum=0.937, weight_decay=0.0005, warmup_epochs=3.0, warmup_momentum=0.8, warmup_bias_lr=0.1, box=7.5, cls=0.5, dfl=1.5, pose=12.0, kobj=1.0, label_smoothing=0.0, nbs=64, hsv_h=0.015, hsv_s=0.7, hsv_v=0.4, degrees=0.0, translate=0.1, scale=0.5, shear=0.0, perspective=0.0, flipud=0.0, fliplr=0.5, bgr=0.0, mosaic=1.0, mixup=0.0, copy_paste=0.0, auto_augment=randaugment, erasing=0.4, crop_fraction=1.0, cfg=None, tracker=botsort.yaml, save_dir=runs/detect/train2\n",
      "Overriding model.yaml nc=80 with nc=2\n",
      "\n",
      "                   from  n    params  module                                       arguments                     \n",
      "  0                  -1  1       928  ultralytics.nn.modules.conv.Conv             [3, 32, 3, 2]                 \n",
      "  1                  -1  1     18560  ultralytics.nn.modules.conv.Conv             [32, 64, 3, 2]                \n",
      "  2                  -1  1     29056  ultralytics.nn.modules.block.C2f             [64, 64, 1, True]             \n",
      "  3                  -1  1     73984  ultralytics.nn.modules.conv.Conv             [64, 128, 3, 2]               \n",
      "  4                  -1  2    197632  ultralytics.nn.modules.block.C2f             [128, 128, 2, True]           \n",
      "  5                  -1  1    295424  ultralytics.nn.modules.conv.Conv             [128, 256, 3, 2]              \n",
      "  6                  -1  2    788480  ultralytics.nn.modules.block.C2f             [256, 256, 2, True]           \n",
      "  7                  -1  1   1180672  ultralytics.nn.modules.conv.Conv             [256, 512, 3, 2]              \n",
      "  8                  -1  1   1838080  ultralytics.nn.modules.block.C2f             [512, 512, 1, True]           \n",
      "  9                  -1  1    656896  ultralytics.nn.modules.block.SPPF            [512, 512, 5]                 \n",
      " 10                  -1  1         0  torch.nn.modules.upsampling.Upsample         [None, 2, 'nearest']          \n",
      " 11             [-1, 6]  1         0  ultralytics.nn.modules.conv.Concat           [1]                           \n",
      " 12                  -1  1    591360  ultralytics.nn.modules.block.C2f             [768, 256, 1]                 \n",
      " 13                  -1  1         0  torch.nn.modules.upsampling.Upsample         [None, 2, 'nearest']          \n",
      " 14             [-1, 4]  1         0  ultralytics.nn.modules.conv.Concat           [1]                           \n",
      " 15                  -1  1    148224  ultralytics.nn.modules.block.C2f             [384, 128, 1]                 \n",
      " 16                  -1  1    147712  ultralytics.nn.modules.conv.Conv             [128, 128, 3, 2]              \n",
      " 17            [-1, 12]  1         0  ultralytics.nn.modules.conv.Concat           [1]                           \n",
      " 18                  -1  1    493056  ultralytics.nn.modules.block.C2f             [384, 256, 1]                 \n",
      " 19                  -1  1    590336  ultralytics.nn.modules.conv.Conv             [256, 256, 3, 2]              \n",
      " 20             [-1, 9]  1         0  ultralytics.nn.modules.conv.Concat           [1]                           \n",
      " 21                  -1  1   1969152  ultralytics.nn.modules.block.C2f             [768, 512, 1]                 \n",
      " 22        [15, 18, 21]  1   2116822  ultralytics.nn.modules.head.Detect           [2, [128, 256, 512]]          \n",
      "YOLOv8s summary: 225 layers, 11136374 parameters, 11136358 gradients, 28.6 GFLOPs\n",
      "\n",
      "Transferred 349/355 items from pretrained weights\n",
      "\u001b[34m\u001b[1mTensorBoard: \u001b[0mStart with 'tensorboard --logdir runs/detect/train2', view at http://localhost:6006/\n",
      "Freezing layer 'model.22.dfl.conv.weight'\n",
      "\u001b[34m\u001b[1mAMP: \u001b[0mrunning Automatic Mixed Precision (AMP) checks with YOLOv8n...\n",
      "Downloading https://github.com/ultralytics/assets/releases/download/v8.1.0/yolov8n.pt to 'yolov8n.pt'...\n"
     ]
    },
    {
     "name": "stderr",
     "output_type": "stream",
     "text": [
      "100%|██████████| 6.23M/6.23M [00:00<00:00, 76.6MB/s]\n"
     ]
    },
    {
     "name": "stdout",
     "output_type": "stream",
     "text": [
      "\u001b[34m\u001b[1mAMP: \u001b[0mchecks passed ✅\n"
     ]
    },
    {
     "name": "stderr",
     "output_type": "stream",
     "text": [
      "\u001b[34m\u001b[1mtrain: \u001b[0mScanning /raid/coss27/add_smoke_data/train/labels... 1802 images, 0 backgrounds, 0 corrupt: 100%|██████████| 1802/1802 [00:00<00:00, 1849.60it/s]"
     ]
    },
    {
     "name": "stdout",
     "output_type": "stream",
     "text": [
      "\u001b[34m\u001b[1mtrain: \u001b[0mNew cache created: /raid/coss27/add_smoke_data/train/labels.cache\n"
     ]
    },
    {
     "name": "stderr",
     "output_type": "stream",
     "text": [
      "\n",
      "/usr/local/lib/python3.8/dist-packages/torch/utils/data/dataloader.py:561: UserWarning: This DataLoader will create 8 worker processes in total. Our suggested max number of worker in current system is 2, which is smaller than what this DataLoader is going to create. Please be aware that excessive worker creation might get DataLoader running slow or even freeze, lower the worker number to avoid potential slowness/freeze if necessary.\n",
      "  warnings.warn(_create_warning_msg(\n",
      "\u001b[34m\u001b[1mval: \u001b[0mScanning /raid/coss27/add_smoke_data/valid/labels... 427 images, 0 backgrounds, 0 corrupt: 100%|██████████| 427/427 [00:00<00:00, 1934.11it/s]"
     ]
    },
    {
     "name": "stdout",
     "output_type": "stream",
     "text": [
      "\u001b[34m\u001b[1mval: \u001b[0mNew cache created: /raid/coss27/add_smoke_data/valid/labels.cache\n"
     ]
    },
    {
     "name": "stderr",
     "output_type": "stream",
     "text": [
      "\n",
      "/usr/local/lib/python3.8/dist-packages/torch/utils/data/dataloader.py:561: UserWarning: This DataLoader will create 16 worker processes in total. Our suggested max number of worker in current system is 2, which is smaller than what this DataLoader is going to create. Please be aware that excessive worker creation might get DataLoader running slow or even freeze, lower the worker number to avoid potential slowness/freeze if necessary.\n",
      "  warnings.warn(_create_warning_msg(\n"
     ]
    },
    {
     "name": "stdout",
     "output_type": "stream",
     "text": [
      "Plotting labels to runs/detect/train2/labels.jpg... \n",
      "\u001b[34m\u001b[1moptimizer:\u001b[0m 'optimizer=auto' found, ignoring 'lr0=0.01' and 'momentum=0.937' and determining best 'optimizer', 'lr0' and 'momentum' automatically... \n",
      "\u001b[34m\u001b[1moptimizer:\u001b[0m AdamW(lr=0.001667, momentum=0.9) with parameter groups 57 weight(decay=0.0), 64 weight(decay=0.0005), 63 bias(decay=0.0)\n",
      "\u001b[34m\u001b[1mTensorBoard: \u001b[0mmodel graph visualization added ✅\n",
      "Image sizes 640 train, 640 val\n",
      "Using 8 dataloader workers\n",
      "Logging results to \u001b[1mruns/detect/train2\u001b[0m\n",
      "Starting training for 200 epochs...\n",
      "\n",
      "      Epoch    GPU_mem   box_loss   cls_loss   dfl_loss  Instances       Size\n"
     ]
    },
    {
     "name": "stderr",
     "output_type": "stream",
     "text": [
      "      1/200         8G      1.705      2.704      1.764         18        640: 100%|██████████| 57/57 [00:28<00:00,  2.02it/s]\n",
      "                 Class     Images  Instances      Box(P          R      mAP50  mAP50-95): 100%|██████████| 7/7 [00:03<00:00,  2.13it/s]"
     ]
    },
    {
     "name": "stdout",
     "output_type": "stream",
     "text": [
      "                   all        427        663      0.202      0.219       0.13     0.0529\n"
     ]
    },
    {
     "name": "stderr",
     "output_type": "stream",
     "text": [
      "\n"
     ]
    },
    {
     "name": "stdout",
     "output_type": "stream",
     "text": [
      "\n",
      "      Epoch    GPU_mem   box_loss   cls_loss   dfl_loss  Instances       Size\n"
     ]
    },
    {
     "name": "stderr",
     "output_type": "stream",
     "text": [
      "      2/200      7.49G       1.79      2.138      1.883         30        640: 100%|██████████| 57/57 [00:20<00:00,  2.73it/s]\n",
      "                 Class     Images  Instances      Box(P          R      mAP50  mAP50-95): 100%|██████████| 7/7 [00:06<00:00,  1.08it/s]"
     ]
    },
    {
     "name": "stdout",
     "output_type": "stream",
     "text": [
      "                   all        427        663     0.0126      0.164    0.00697    0.00212\n"
     ]
    },
    {
     "name": "stderr",
     "output_type": "stream",
     "text": [
      "\n"
     ]
    },
    {
     "name": "stdout",
     "output_type": "stream",
     "text": [
      "\n",
      "      Epoch    GPU_mem   box_loss   cls_loss   dfl_loss  Instances       Size\n"
     ]
    },
    {
     "name": "stderr",
     "output_type": "stream",
     "text": [
      "      3/200      7.49G      1.829      2.097      1.902         23        640: 100%|██████████| 57/57 [00:20<00:00,  2.76it/s]\n",
      "                 Class     Images  Instances      Box(P          R      mAP50  mAP50-95): 100%|██████████| 7/7 [00:06<00:00,  1.02it/s]"
     ]
    },
    {
     "name": "stdout",
     "output_type": "stream",
     "text": [
      "                   all        427        663     0.0743      0.304      0.035     0.0113\n"
     ]
    },
    {
     "name": "stderr",
     "output_type": "stream",
     "text": [
      "\n"
     ]
    },
    {
     "name": "stdout",
     "output_type": "stream",
     "text": [
      "\n",
      "      Epoch    GPU_mem   box_loss   cls_loss   dfl_loss  Instances       Size\n"
     ]
    },
    {
     "name": "stderr",
     "output_type": "stream",
     "text": [
      "      4/200      7.52G       1.84      2.115        1.9         34        640: 100%|██████████| 57/57 [00:20<00:00,  2.77it/s]\n",
      "                 Class     Images  Instances      Box(P          R      mAP50  mAP50-95): 100%|██████████| 7/7 [00:06<00:00,  1.02it/s]"
     ]
    },
    {
     "name": "stdout",
     "output_type": "stream",
     "text": [
      "                   all        427        663      0.166      0.139       0.11     0.0413\n"
     ]
    },
    {
     "name": "stderr",
     "output_type": "stream",
     "text": [
      "\n"
     ]
    },
    {
     "name": "stdout",
     "output_type": "stream",
     "text": [
      "\n",
      "      Epoch    GPU_mem   box_loss   cls_loss   dfl_loss  Instances       Size\n"
     ]
    },
    {
     "name": "stderr",
     "output_type": "stream",
     "text": [
      "      5/200      7.49G      1.781      2.004      1.854         16        640: 100%|██████████| 57/57 [00:20<00:00,  2.81it/s]\n",
      "                 Class     Images  Instances      Box(P          R      mAP50  mAP50-95): 100%|██████████| 7/7 [00:06<00:00,  1.03it/s]"
     ]
    },
    {
     "name": "stdout",
     "output_type": "stream",
     "text": [
      "                   all        427        663      0.274      0.276      0.208      0.088\n"
     ]
    },
    {
     "name": "stderr",
     "output_type": "stream",
     "text": [
      "\n"
     ]
    },
    {
     "name": "stdout",
     "output_type": "stream",
     "text": [
      "\n",
      "      Epoch    GPU_mem   box_loss   cls_loss   dfl_loss  Instances       Size\n"
     ]
    },
    {
     "name": "stderr",
     "output_type": "stream",
     "text": [
      "      6/200      7.51G      1.742      1.953      1.845         24        640: 100%|██████████| 57/57 [00:20<00:00,  2.83it/s]\n",
      "                 Class     Images  Instances      Box(P          R      mAP50  mAP50-95): 100%|██████████| 7/7 [00:06<00:00,  1.01it/s]"
     ]
    },
    {
     "name": "stdout",
     "output_type": "stream",
     "text": [
      "                   all        427        663      0.377       0.38      0.295      0.108\n"
     ]
    },
    {
     "name": "stderr",
     "output_type": "stream",
     "text": [
      "\n"
     ]
    },
    {
     "name": "stdout",
     "output_type": "stream",
     "text": [
      "\n",
      "      Epoch    GPU_mem   box_loss   cls_loss   dfl_loss  Instances       Size\n"
     ]
    },
    {
     "name": "stderr",
     "output_type": "stream",
     "text": [
      "      7/200      7.49G       1.68       1.86      1.769         20        640: 100%|██████████| 57/57 [00:20<00:00,  2.79it/s]\n",
      "                 Class     Images  Instances      Box(P          R      mAP50  mAP50-95): 100%|██████████| 7/7 [00:06<00:00,  1.06it/s]"
     ]
    },
    {
     "name": "stdout",
     "output_type": "stream",
     "text": [
      "                   all        427        663      0.362      0.311      0.237     0.0953\n"
     ]
    },
    {
     "name": "stderr",
     "output_type": "stream",
     "text": [
      "\n"
     ]
    },
    {
     "name": "stdout",
     "output_type": "stream",
     "text": [
      "\n",
      "      Epoch    GPU_mem   box_loss   cls_loss   dfl_loss  Instances       Size\n"
     ]
    },
    {
     "name": "stderr",
     "output_type": "stream",
     "text": [
      "      8/200       7.5G      1.639      1.795      1.747         19        640: 100%|██████████| 57/57 [00:20<00:00,  2.72it/s]\n",
      "                 Class     Images  Instances      Box(P          R      mAP50  mAP50-95): 100%|██████████| 7/7 [00:06<00:00,  1.13it/s]"
     ]
    },
    {
     "name": "stdout",
     "output_type": "stream",
     "text": [
      "                   all        427        663       0.44      0.385      0.352      0.135\n"
     ]
    },
    {
     "name": "stderr",
     "output_type": "stream",
     "text": [
      "\n"
     ]
    },
    {
     "name": "stdout",
     "output_type": "stream",
     "text": [
      "\n",
      "      Epoch    GPU_mem   box_loss   cls_loss   dfl_loss  Instances       Size\n"
     ]
    },
    {
     "name": "stderr",
     "output_type": "stream",
     "text": [
      "      9/200      7.49G      1.613      1.724      1.712         32        640: 100%|██████████| 57/57 [00:20<00:00,  2.76it/s]\n",
      "                 Class     Images  Instances      Box(P          R      mAP50  mAP50-95): 100%|██████████| 7/7 [00:06<00:00,  1.10it/s]"
     ]
    },
    {
     "name": "stdout",
     "output_type": "stream",
     "text": [
      "                   all        427        663      0.512       0.48      0.451      0.189\n"
     ]
    },
    {
     "name": "stderr",
     "output_type": "stream",
     "text": [
      "\n"
     ]
    },
    {
     "name": "stdout",
     "output_type": "stream",
     "text": [
      "\n",
      "      Epoch    GPU_mem   box_loss   cls_loss   dfl_loss  Instances       Size\n"
     ]
    },
    {
     "name": "stderr",
     "output_type": "stream",
     "text": [
      "     10/200      7.51G      1.602      1.684      1.714         18        640: 100%|██████████| 57/57 [00:20<00:00,  2.80it/s]\n",
      "                 Class     Images  Instances      Box(P          R      mAP50  mAP50-95): 100%|██████████| 7/7 [00:06<00:00,  1.07it/s]"
     ]
    },
    {
     "name": "stdout",
     "output_type": "stream",
     "text": [
      "                   all        427        663      0.521      0.492      0.485      0.238\n"
     ]
    },
    {
     "name": "stderr",
     "output_type": "stream",
     "text": [
      "\n"
     ]
    },
    {
     "name": "stdout",
     "output_type": "stream",
     "text": [
      "\n",
      "      Epoch    GPU_mem   box_loss   cls_loss   dfl_loss  Instances       Size\n"
     ]
    },
    {
     "name": "stderr",
     "output_type": "stream",
     "text": [
      "     11/200      7.49G      1.561      1.628      1.679         30        640: 100%|██████████| 57/57 [00:20<00:00,  2.76it/s]\n",
      "                 Class     Images  Instances      Box(P          R      mAP50  mAP50-95): 100%|██████████| 7/7 [00:06<00:00,  1.11it/s]"
     ]
    },
    {
     "name": "stdout",
     "output_type": "stream",
     "text": [
      "                   all        427        663      0.548      0.484       0.48      0.222\n"
     ]
    },
    {
     "name": "stderr",
     "output_type": "stream",
     "text": [
      "\n"
     ]
    },
    {
     "name": "stdout",
     "output_type": "stream",
     "text": [
      "\n",
      "      Epoch    GPU_mem   box_loss   cls_loss   dfl_loss  Instances       Size\n"
     ]
    },
    {
     "name": "stderr",
     "output_type": "stream",
     "text": [
      "     12/200      7.51G      1.529      1.544      1.638         20        640: 100%|██████████| 57/57 [00:20<00:00,  2.83it/s]\n",
      "                 Class     Images  Instances      Box(P          R      mAP50  mAP50-95): 100%|██████████| 7/7 [00:06<00:00,  1.03it/s]"
     ]
    },
    {
     "name": "stdout",
     "output_type": "stream",
     "text": [
      "                   all        427        663      0.617      0.519      0.552      0.262\n"
     ]
    },
    {
     "name": "stderr",
     "output_type": "stream",
     "text": [
      "\n"
     ]
    },
    {
     "name": "stdout",
     "output_type": "stream",
     "text": [
      "\n",
      "      Epoch    GPU_mem   box_loss   cls_loss   dfl_loss  Instances       Size\n"
     ]
    },
    {
     "name": "stderr",
     "output_type": "stream",
     "text": [
      "     13/200      7.49G      1.518      1.543      1.634         24        640: 100%|██████████| 57/57 [00:19<00:00,  2.86it/s]\n",
      "                 Class     Images  Instances      Box(P          R      mAP50  mAP50-95): 100%|██████████| 7/7 [00:06<00:00,  1.01it/s]"
     ]
    },
    {
     "name": "stdout",
     "output_type": "stream",
     "text": [
      "                   all        427        663       0.63      0.522      0.577      0.291\n"
     ]
    },
    {
     "name": "stderr",
     "output_type": "stream",
     "text": [
      "\n"
     ]
    },
    {
     "name": "stdout",
     "output_type": "stream",
     "text": [
      "\n",
      "      Epoch    GPU_mem   box_loss   cls_loss   dfl_loss  Instances       Size\n"
     ]
    },
    {
     "name": "stderr",
     "output_type": "stream",
     "text": [
      "     14/200      7.51G      1.499      1.525      1.619         22        640: 100%|██████████| 57/57 [00:20<00:00,  2.83it/s]\n",
      "                 Class     Images  Instances      Box(P          R      mAP50  mAP50-95): 100%|██████████| 7/7 [00:06<00:00,  1.03it/s]"
     ]
    },
    {
     "name": "stdout",
     "output_type": "stream",
     "text": [
      "                   all        427        663      0.589      0.521       0.54      0.271\n"
     ]
    },
    {
     "name": "stderr",
     "output_type": "stream",
     "text": [
      "\n"
     ]
    },
    {
     "name": "stdout",
     "output_type": "stream",
     "text": [
      "\n",
      "      Epoch    GPU_mem   box_loss   cls_loss   dfl_loss  Instances       Size\n"
     ]
    },
    {
     "name": "stderr",
     "output_type": "stream",
     "text": [
      "     15/200      7.49G      1.484      1.525      1.615         31        640: 100%|██████████| 57/57 [00:20<00:00,  2.81it/s]\n",
      "                 Class     Images  Instances      Box(P          R      mAP50  mAP50-95): 100%|██████████| 7/7 [00:06<00:00,  1.06it/s]"
     ]
    },
    {
     "name": "stdout",
     "output_type": "stream",
     "text": [
      "                   all        427        663      0.542      0.468      0.474      0.227\n"
     ]
    },
    {
     "name": "stderr",
     "output_type": "stream",
     "text": [
      "\n"
     ]
    },
    {
     "name": "stdout",
     "output_type": "stream",
     "text": [
      "\n",
      "      Epoch    GPU_mem   box_loss   cls_loss   dfl_loss  Instances       Size\n"
     ]
    },
    {
     "name": "stderr",
     "output_type": "stream",
     "text": [
      "     16/200      7.51G      1.476      1.471      1.608         24        640: 100%|██████████| 57/57 [00:20<00:00,  2.75it/s]\n",
      "                 Class     Images  Instances      Box(P          R      mAP50  mAP50-95): 100%|██████████| 7/7 [00:06<00:00,  1.16it/s]"
     ]
    },
    {
     "name": "stdout",
     "output_type": "stream",
     "text": [
      "                   all        427        663      0.562      0.497      0.524       0.27\n"
     ]
    },
    {
     "name": "stderr",
     "output_type": "stream",
     "text": [
      "\n"
     ]
    },
    {
     "name": "stdout",
     "output_type": "stream",
     "text": [
      "\n",
      "      Epoch    GPU_mem   box_loss   cls_loss   dfl_loss  Instances       Size\n"
     ]
    },
    {
     "name": "stderr",
     "output_type": "stream",
     "text": [
      "     17/200      7.49G      1.475      1.444      1.608         22        640: 100%|██████████| 57/57 [00:20<00:00,  2.82it/s]\n",
      "                 Class     Images  Instances      Box(P          R      mAP50  mAP50-95): 100%|██████████| 7/7 [00:06<00:00,  1.04it/s]"
     ]
    },
    {
     "name": "stdout",
     "output_type": "stream",
     "text": [
      "                   all        427        663      0.622      0.532      0.553      0.294\n"
     ]
    },
    {
     "name": "stderr",
     "output_type": "stream",
     "text": [
      "\n"
     ]
    },
    {
     "name": "stdout",
     "output_type": "stream",
     "text": [
      "\n",
      "      Epoch    GPU_mem   box_loss   cls_loss   dfl_loss  Instances       Size\n"
     ]
    },
    {
     "name": "stderr",
     "output_type": "stream",
     "text": [
      "     18/200      7.51G      1.489      1.461      1.608         26        640: 100%|██████████| 57/57 [00:20<00:00,  2.84it/s]\n",
      "                 Class     Images  Instances      Box(P          R      mAP50  mAP50-95): 100%|██████████| 7/7 [00:06<00:00,  1.03it/s]"
     ]
    },
    {
     "name": "stdout",
     "output_type": "stream",
     "text": [
      "                   all        427        663      0.597      0.464      0.509      0.253\n"
     ]
    },
    {
     "name": "stderr",
     "output_type": "stream",
     "text": [
      "\n"
     ]
    },
    {
     "name": "stdout",
     "output_type": "stream",
     "text": [
      "\n",
      "      Epoch    GPU_mem   box_loss   cls_loss   dfl_loss  Instances       Size\n"
     ]
    },
    {
     "name": "stderr",
     "output_type": "stream",
     "text": [
      "     19/200      7.49G      1.439      1.388       1.58         29        640: 100%|██████████| 57/57 [00:20<00:00,  2.84it/s]\n",
      "                 Class     Images  Instances      Box(P          R      mAP50  mAP50-95): 100%|██████████| 7/7 [00:06<00:00,  1.00it/s]"
     ]
    },
    {
     "name": "stdout",
     "output_type": "stream",
     "text": [
      "                   all        427        663      0.705      0.519      0.596        0.3\n"
     ]
    },
    {
     "name": "stderr",
     "output_type": "stream",
     "text": [
      "\n"
     ]
    },
    {
     "name": "stdout",
     "output_type": "stream",
     "text": [
      "\n",
      "      Epoch    GPU_mem   box_loss   cls_loss   dfl_loss  Instances       Size\n"
     ]
    },
    {
     "name": "stderr",
     "output_type": "stream",
     "text": [
      "     20/200      7.51G      1.435      1.375      1.565         18        640: 100%|██████████| 57/57 [00:20<00:00,  2.77it/s]\n",
      "                 Class     Images  Instances      Box(P          R      mAP50  mAP50-95): 100%|██████████| 7/7 [00:06<00:00,  1.10it/s]"
     ]
    },
    {
     "name": "stdout",
     "output_type": "stream",
     "text": [
      "                   all        427        663      0.664      0.526      0.595      0.294\n"
     ]
    },
    {
     "name": "stderr",
     "output_type": "stream",
     "text": [
      "\n"
     ]
    },
    {
     "name": "stdout",
     "output_type": "stream",
     "text": [
      "\n",
      "      Epoch    GPU_mem   box_loss   cls_loss   dfl_loss  Instances       Size\n"
     ]
    },
    {
     "name": "stderr",
     "output_type": "stream",
     "text": [
      "     21/200      7.49G      1.406      1.332      1.531         25        640: 100%|██████████| 57/57 [00:20<00:00,  2.82it/s]\n",
      "                 Class     Images  Instances      Box(P          R      mAP50  mAP50-95): 100%|██████████| 7/7 [00:06<00:00,  1.06it/s]"
     ]
    },
    {
     "name": "stdout",
     "output_type": "stream",
     "text": [
      "                   all        427        663      0.588      0.595        0.6       0.31\n"
     ]
    },
    {
     "name": "stderr",
     "output_type": "stream",
     "text": [
      "\n"
     ]
    },
    {
     "name": "stdout",
     "output_type": "stream",
     "text": [
      "\n",
      "      Epoch    GPU_mem   box_loss   cls_loss   dfl_loss  Instances       Size\n"
     ]
    },
    {
     "name": "stderr",
     "output_type": "stream",
     "text": [
      "     22/200      7.51G      1.415      1.331      1.541         32        640: 100%|██████████| 57/57 [00:20<00:00,  2.78it/s]\n",
      "                 Class     Images  Instances      Box(P          R      mAP50  mAP50-95): 100%|██████████| 7/7 [00:06<00:00,  1.08it/s]"
     ]
    },
    {
     "name": "stdout",
     "output_type": "stream",
     "text": [
      "                   all        427        663      0.715      0.607      0.665      0.363\n"
     ]
    },
    {
     "name": "stderr",
     "output_type": "stream",
     "text": [
      "\n"
     ]
    },
    {
     "name": "stdout",
     "output_type": "stream",
     "text": [
      "\n",
      "      Epoch    GPU_mem   box_loss   cls_loss   dfl_loss  Instances       Size\n"
     ]
    },
    {
     "name": "stderr",
     "output_type": "stream",
     "text": [
      "     23/200      7.49G      1.413      1.322       1.54         25        640: 100%|██████████| 57/57 [00:20<00:00,  2.82it/s]\n",
      "                 Class     Images  Instances      Box(P          R      mAP50  mAP50-95): 100%|██████████| 7/7 [00:06<00:00,  1.03it/s]"
     ]
    },
    {
     "name": "stdout",
     "output_type": "stream",
     "text": [
      "                   all        427        663      0.642      0.415      0.491      0.251\n"
     ]
    },
    {
     "name": "stderr",
     "output_type": "stream",
     "text": [
      "\n"
     ]
    },
    {
     "name": "stdout",
     "output_type": "stream",
     "text": [
      "\n",
      "      Epoch    GPU_mem   box_loss   cls_loss   dfl_loss  Instances       Size\n"
     ]
    },
    {
     "name": "stderr",
     "output_type": "stream",
     "text": [
      "     24/200      7.51G      1.358      1.218      1.498         27        640: 100%|██████████| 57/57 [00:20<00:00,  2.77it/s]\n",
      "                 Class     Images  Instances      Box(P          R      mAP50  mAP50-95): 100%|██████████| 7/7 [00:06<00:00,  1.09it/s]"
     ]
    },
    {
     "name": "stdout",
     "output_type": "stream",
     "text": [
      "                   all        427        663      0.742      0.607      0.673       0.37\n"
     ]
    },
    {
     "name": "stderr",
     "output_type": "stream",
     "text": [
      "\n"
     ]
    },
    {
     "name": "stdout",
     "output_type": "stream",
     "text": [
      "\n",
      "      Epoch    GPU_mem   box_loss   cls_loss   dfl_loss  Instances       Size\n"
     ]
    },
    {
     "name": "stderr",
     "output_type": "stream",
     "text": [
      "     25/200      7.49G      1.362      1.247      1.511         32        640: 100%|██████████| 57/57 [00:20<00:00,  2.81it/s]\n",
      "                 Class     Images  Instances      Box(P          R      mAP50  mAP50-95): 100%|██████████| 7/7 [00:06<00:00,  1.06it/s]"
     ]
    },
    {
     "name": "stdout",
     "output_type": "stream",
     "text": [
      "                   all        427        663      0.762      0.577      0.679      0.372\n"
     ]
    },
    {
     "name": "stderr",
     "output_type": "stream",
     "text": [
      "\n"
     ]
    },
    {
     "name": "stdout",
     "output_type": "stream",
     "text": [
      "\n",
      "      Epoch    GPU_mem   box_loss   cls_loss   dfl_loss  Instances       Size\n"
     ]
    },
    {
     "name": "stderr",
     "output_type": "stream",
     "text": [
      "     26/200      7.51G      1.355       1.26      1.495         24        640: 100%|██████████| 57/57 [00:20<00:00,  2.83it/s]\n",
      "                 Class     Images  Instances      Box(P          R      mAP50  mAP50-95): 100%|██████████| 7/7 [00:06<00:00,  1.04it/s]"
     ]
    },
    {
     "name": "stdout",
     "output_type": "stream",
     "text": [
      "                   all        427        663      0.767      0.598      0.674       0.36\n"
     ]
    },
    {
     "name": "stderr",
     "output_type": "stream",
     "text": [
      "\n"
     ]
    },
    {
     "name": "stdout",
     "output_type": "stream",
     "text": [
      "\n",
      "      Epoch    GPU_mem   box_loss   cls_loss   dfl_loss  Instances       Size\n"
     ]
    },
    {
     "name": "stderr",
     "output_type": "stream",
     "text": [
      "     27/200      7.49G       1.36      1.219      1.497         34        640: 100%|██████████| 57/57 [00:20<00:00,  2.80it/s]\n",
      "                 Class     Images  Instances      Box(P          R      mAP50  mAP50-95): 100%|██████████| 7/7 [00:06<00:00,  1.10it/s]"
     ]
    },
    {
     "name": "stdout",
     "output_type": "stream",
     "text": [
      "                   all        427        663       0.74      0.524      0.653       0.35\n"
     ]
    },
    {
     "name": "stderr",
     "output_type": "stream",
     "text": [
      "\n"
     ]
    },
    {
     "name": "stdout",
     "output_type": "stream",
     "text": [
      "\n",
      "      Epoch    GPU_mem   box_loss   cls_loss   dfl_loss  Instances       Size\n"
     ]
    },
    {
     "name": "stderr",
     "output_type": "stream",
     "text": [
      "     28/200      7.51G      1.339      1.201      1.486         23        640: 100%|██████████| 57/57 [00:20<00:00,  2.79it/s]\n",
      "                 Class     Images  Instances      Box(P          R      mAP50  mAP50-95): 100%|██████████| 7/7 [00:06<00:00,  1.08it/s]"
     ]
    },
    {
     "name": "stdout",
     "output_type": "stream",
     "text": [
      "                   all        427        663      0.684       0.62      0.673      0.359\n"
     ]
    },
    {
     "name": "stderr",
     "output_type": "stream",
     "text": [
      "\n"
     ]
    },
    {
     "name": "stdout",
     "output_type": "stream",
     "text": [
      "\n",
      "      Epoch    GPU_mem   box_loss   cls_loss   dfl_loss  Instances       Size\n"
     ]
    },
    {
     "name": "stderr",
     "output_type": "stream",
     "text": [
      "     29/200      7.49G      1.325      1.178      1.477         28        640: 100%|██████████| 57/57 [00:20<00:00,  2.84it/s]\n",
      "                 Class     Images  Instances      Box(P          R      mAP50  mAP50-95): 100%|██████████| 7/7 [00:06<00:00,  1.03it/s]"
     ]
    },
    {
     "name": "stdout",
     "output_type": "stream",
     "text": [
      "                   all        427        663      0.734      0.571      0.651      0.364\n"
     ]
    },
    {
     "name": "stderr",
     "output_type": "stream",
     "text": [
      "\n"
     ]
    },
    {
     "name": "stdout",
     "output_type": "stream",
     "text": [
      "\n",
      "      Epoch    GPU_mem   box_loss   cls_loss   dfl_loss  Instances       Size\n"
     ]
    },
    {
     "name": "stderr",
     "output_type": "stream",
     "text": [
      "     30/200      7.51G      1.335      1.201      1.481         32        640: 100%|██████████| 57/57 [00:20<00:00,  2.83it/s]\n",
      "                 Class     Images  Instances      Box(P          R      mAP50  mAP50-95): 100%|██████████| 7/7 [00:06<00:00,  1.03it/s]"
     ]
    },
    {
     "name": "stdout",
     "output_type": "stream",
     "text": [
      "                   all        427        663      0.769      0.604      0.682      0.367\n"
     ]
    },
    {
     "name": "stderr",
     "output_type": "stream",
     "text": [
      "\n"
     ]
    },
    {
     "name": "stdout",
     "output_type": "stream",
     "text": [
      "\n",
      "      Epoch    GPU_mem   box_loss   cls_loss   dfl_loss  Instances       Size\n"
     ]
    },
    {
     "name": "stderr",
     "output_type": "stream",
     "text": [
      "     31/200      7.49G      1.308      1.165      1.463         18        640: 100%|██████████| 57/57 [00:20<00:00,  2.85it/s]\n",
      "                 Class     Images  Instances      Box(P          R      mAP50  mAP50-95): 100%|██████████| 7/7 [00:06<00:00,  1.03it/s]\n"
     ]
    },
    {
     "name": "stdout",
     "output_type": "stream",
     "text": [
      "                   all        427        663      0.737      0.594      0.658      0.346\n",
      "\n",
      "      Epoch    GPU_mem   box_loss   cls_loss   dfl_loss  Instances       Size\n"
     ]
    },
    {
     "name": "stderr",
     "output_type": "stream",
     "text": [
      "     32/200      7.51G      1.288      1.138      1.452         29        640: 100%|██████████| 57/57 [00:20<00:00,  2.78it/s]\n",
      "                 Class     Images  Instances      Box(P          R      mAP50  mAP50-95): 100%|██████████| 7/7 [00:06<00:00,  1.14it/s]"
     ]
    },
    {
     "name": "stdout",
     "output_type": "stream",
     "text": [
      "                   all        427        663      0.691      0.629      0.672      0.373\n"
     ]
    },
    {
     "name": "stderr",
     "output_type": "stream",
     "text": [
      "\n"
     ]
    },
    {
     "name": "stdout",
     "output_type": "stream",
     "text": [
      "\n",
      "      Epoch    GPU_mem   box_loss   cls_loss   dfl_loss  Instances       Size\n"
     ]
    },
    {
     "name": "stderr",
     "output_type": "stream",
     "text": [
      "     33/200      7.49G      1.282      1.145      1.453         21        640: 100%|██████████| 57/57 [00:19<00:00,  2.86it/s]\n",
      "                 Class     Images  Instances      Box(P          R      mAP50  mAP50-95): 100%|██████████| 7/7 [00:06<00:00,  1.05it/s]"
     ]
    },
    {
     "name": "stdout",
     "output_type": "stream",
     "text": [
      "                   all        427        663      0.761       0.61      0.706        0.4\n"
     ]
    },
    {
     "name": "stderr",
     "output_type": "stream",
     "text": [
      "\n"
     ]
    },
    {
     "name": "stdout",
     "output_type": "stream",
     "text": [
      "\n",
      "      Epoch    GPU_mem   box_loss   cls_loss   dfl_loss  Instances       Size\n"
     ]
    },
    {
     "name": "stderr",
     "output_type": "stream",
     "text": [
      "     34/200      7.51G      1.289       1.13      1.457         30        640: 100%|██████████| 57/57 [00:19<00:00,  2.87it/s]\n",
      "                 Class     Images  Instances      Box(P          R      mAP50  mAP50-95): 100%|██████████| 7/7 [00:06<00:00,  1.04it/s]"
     ]
    },
    {
     "name": "stdout",
     "output_type": "stream",
     "text": [
      "                   all        427        663      0.735      0.636      0.708      0.377\n"
     ]
    },
    {
     "name": "stderr",
     "output_type": "stream",
     "text": [
      "\n"
     ]
    },
    {
     "name": "stdout",
     "output_type": "stream",
     "text": [
      "\n",
      "      Epoch    GPU_mem   box_loss   cls_loss   dfl_loss  Instances       Size\n"
     ]
    },
    {
     "name": "stderr",
     "output_type": "stream",
     "text": [
      "     35/200      7.49G      1.276       1.09      1.433         21        640: 100%|██████████| 57/57 [00:19<00:00,  2.86it/s]\n",
      "                 Class     Images  Instances      Box(P          R      mAP50  mAP50-95): 100%|██████████| 7/7 [00:06<00:00,  1.03it/s]"
     ]
    },
    {
     "name": "stdout",
     "output_type": "stream",
     "text": [
      "                   all        427        663      0.734      0.639      0.703      0.377\n"
     ]
    },
    {
     "name": "stderr",
     "output_type": "stream",
     "text": [
      "\n"
     ]
    },
    {
     "name": "stdout",
     "output_type": "stream",
     "text": [
      "\n",
      "      Epoch    GPU_mem   box_loss   cls_loss   dfl_loss  Instances       Size\n"
     ]
    },
    {
     "name": "stderr",
     "output_type": "stream",
     "text": [
      "     36/200      7.51G      1.257      1.084      1.414         39        640: 100%|██████████| 57/57 [00:20<00:00,  2.83it/s]\n",
      "                 Class     Images  Instances      Box(P          R      mAP50  mAP50-95): 100%|██████████| 7/7 [00:06<00:00,  1.06it/s]"
     ]
    },
    {
     "name": "stdout",
     "output_type": "stream",
     "text": [
      "                   all        427        663      0.719      0.624        0.7      0.394\n"
     ]
    },
    {
     "name": "stderr",
     "output_type": "stream",
     "text": [
      "\n"
     ]
    },
    {
     "name": "stdout",
     "output_type": "stream",
     "text": [
      "\n",
      "      Epoch    GPU_mem   box_loss   cls_loss   dfl_loss  Instances       Size\n"
     ]
    },
    {
     "name": "stderr",
     "output_type": "stream",
     "text": [
      "     37/200      7.49G      1.257      1.089      1.421         31        640: 100%|██████████| 57/57 [00:20<00:00,  2.84it/s]\n",
      "                 Class     Images  Instances      Box(P          R      mAP50  mAP50-95): 100%|██████████| 7/7 [00:06<00:00,  1.05it/s]"
     ]
    },
    {
     "name": "stdout",
     "output_type": "stream",
     "text": [
      "                   all        427        663      0.802      0.638      0.732       0.42\n"
     ]
    },
    {
     "name": "stderr",
     "output_type": "stream",
     "text": [
      "\n"
     ]
    },
    {
     "name": "stdout",
     "output_type": "stream",
     "text": [
      "\n",
      "      Epoch    GPU_mem   box_loss   cls_loss   dfl_loss  Instances       Size\n"
     ]
    },
    {
     "name": "stderr",
     "output_type": "stream",
     "text": [
      "     38/200      7.51G      1.249      1.059      1.417         22        640: 100%|██████████| 57/57 [00:20<00:00,  2.84it/s]\n",
      "                 Class     Images  Instances      Box(P          R      mAP50  mAP50-95): 100%|██████████| 7/7 [00:06<00:00,  1.04it/s]"
     ]
    },
    {
     "name": "stdout",
     "output_type": "stream",
     "text": [
      "                   all        427        663      0.805      0.641      0.739      0.416\n"
     ]
    },
    {
     "name": "stderr",
     "output_type": "stream",
     "text": [
      "\n"
     ]
    },
    {
     "name": "stdout",
     "output_type": "stream",
     "text": [
      "\n",
      "      Epoch    GPU_mem   box_loss   cls_loss   dfl_loss  Instances       Size\n"
     ]
    },
    {
     "name": "stderr",
     "output_type": "stream",
     "text": [
      "     39/200      7.49G      1.252      1.083      1.418         26        640: 100%|██████████| 57/57 [00:20<00:00,  2.81it/s]\n",
      "                 Class     Images  Instances      Box(P          R      mAP50  mAP50-95): 100%|██████████| 7/7 [00:06<00:00,  1.11it/s]"
     ]
    },
    {
     "name": "stdout",
     "output_type": "stream",
     "text": [
      "                   all        427        663      0.818      0.664      0.752      0.423\n"
     ]
    },
    {
     "name": "stderr",
     "output_type": "stream",
     "text": [
      "\n"
     ]
    },
    {
     "name": "stdout",
     "output_type": "stream",
     "text": [
      "\n",
      "      Epoch    GPU_mem   box_loss   cls_loss   dfl_loss  Instances       Size\n"
     ]
    },
    {
     "name": "stderr",
     "output_type": "stream",
     "text": [
      "     40/200      7.51G      1.224       1.03      1.399         23        640: 100%|██████████| 57/57 [00:20<00:00,  2.82it/s]\n",
      "                 Class     Images  Instances      Box(P          R      mAP50  mAP50-95): 100%|██████████| 7/7 [00:06<00:00,  1.09it/s]"
     ]
    },
    {
     "name": "stdout",
     "output_type": "stream",
     "text": [
      "                   all        427        663      0.773      0.663      0.743      0.426\n"
     ]
    },
    {
     "name": "stderr",
     "output_type": "stream",
     "text": [
      "\n"
     ]
    },
    {
     "name": "stdout",
     "output_type": "stream",
     "text": [
      "\n",
      "      Epoch    GPU_mem   box_loss   cls_loss   dfl_loss  Instances       Size\n"
     ]
    },
    {
     "name": "stderr",
     "output_type": "stream",
     "text": [
      "     41/200      7.49G      1.221      1.035      1.391         25        640: 100%|██████████| 57/57 [00:20<00:00,  2.83it/s]\n",
      "                 Class     Images  Instances      Box(P          R      mAP50  mAP50-95): 100%|██████████| 7/7 [00:06<00:00,  1.09it/s]\n"
     ]
    },
    {
     "name": "stdout",
     "output_type": "stream",
     "text": [
      "                   all        427        663      0.759       0.61      0.693      0.392\n",
      "\n",
      "      Epoch    GPU_mem   box_loss   cls_loss   dfl_loss  Instances       Size\n"
     ]
    },
    {
     "name": "stderr",
     "output_type": "stream",
     "text": [
      "     42/200      7.51G      1.213      1.033      1.383         27        640: 100%|██████████| 57/57 [00:20<00:00,  2.81it/s]\n",
      "                 Class     Images  Instances      Box(P          R      mAP50  mAP50-95): 100%|██████████| 7/7 [00:06<00:00,  1.12it/s]"
     ]
    },
    {
     "name": "stdout",
     "output_type": "stream",
     "text": [
      "                   all        427        663      0.721      0.671      0.696      0.401\n"
     ]
    },
    {
     "name": "stderr",
     "output_type": "stream",
     "text": [
      "\n"
     ]
    },
    {
     "name": "stdout",
     "output_type": "stream",
     "text": [
      "\n",
      "      Epoch    GPU_mem   box_loss   cls_loss   dfl_loss  Instances       Size\n"
     ]
    },
    {
     "name": "stderr",
     "output_type": "stream",
     "text": [
      "     43/200      7.49G      1.196     0.9947      1.377         25        640: 100%|██████████| 57/57 [00:20<00:00,  2.85it/s]\n",
      "                 Class     Images  Instances      Box(P          R      mAP50  mAP50-95): 100%|██████████| 7/7 [00:06<00:00,  1.08it/s]"
     ]
    },
    {
     "name": "stdout",
     "output_type": "stream",
     "text": [
      "                   all        427        663      0.787      0.669      0.748      0.424\n"
     ]
    },
    {
     "name": "stderr",
     "output_type": "stream",
     "text": [
      "\n"
     ]
    },
    {
     "name": "stdout",
     "output_type": "stream",
     "text": [
      "\n",
      "      Epoch    GPU_mem   box_loss   cls_loss   dfl_loss  Instances       Size\n"
     ]
    },
    {
     "name": "stderr",
     "output_type": "stream",
     "text": [
      "     44/200      7.51G      1.211      1.008      1.376         18        640: 100%|██████████| 57/57 [00:20<00:00,  2.81it/s]\n",
      "                 Class     Images  Instances      Box(P          R      mAP50  mAP50-95): 100%|██████████| 7/7 [00:06<00:00,  1.11it/s]"
     ]
    },
    {
     "name": "stdout",
     "output_type": "stream",
     "text": [
      "                   all        427        663      0.803      0.665      0.732      0.416\n"
     ]
    },
    {
     "name": "stderr",
     "output_type": "stream",
     "text": [
      "\n"
     ]
    },
    {
     "name": "stdout",
     "output_type": "stream",
     "text": [
      "\n",
      "      Epoch    GPU_mem   box_loss   cls_loss   dfl_loss  Instances       Size\n"
     ]
    },
    {
     "name": "stderr",
     "output_type": "stream",
     "text": [
      "     45/200      7.49G      1.197     0.9734       1.37         24        640: 100%|██████████| 57/57 [00:20<00:00,  2.83it/s]\n",
      "                 Class     Images  Instances      Box(P          R      mAP50  mAP50-95): 100%|██████████| 7/7 [00:06<00:00,  1.09it/s]"
     ]
    },
    {
     "name": "stdout",
     "output_type": "stream",
     "text": [
      "                   all        427        663      0.759      0.655      0.728      0.418\n"
     ]
    },
    {
     "name": "stderr",
     "output_type": "stream",
     "text": [
      "\n"
     ]
    },
    {
     "name": "stdout",
     "output_type": "stream",
     "text": [
      "\n",
      "      Epoch    GPU_mem   box_loss   cls_loss   dfl_loss  Instances       Size\n"
     ]
    },
    {
     "name": "stderr",
     "output_type": "stream",
     "text": [
      "     46/200      7.51G      1.211     0.9929      1.383         20        640: 100%|██████████| 57/57 [00:20<00:00,  2.81it/s]\n",
      "                 Class     Images  Instances      Box(P          R      mAP50  mAP50-95): 100%|██████████| 7/7 [00:06<00:00,  1.08it/s]"
     ]
    },
    {
     "name": "stdout",
     "output_type": "stream",
     "text": [
      "                   all        427        663      0.742      0.651      0.725      0.424\n"
     ]
    },
    {
     "name": "stderr",
     "output_type": "stream",
     "text": [
      "\n"
     ]
    },
    {
     "name": "stdout",
     "output_type": "stream",
     "text": [
      "\n",
      "      Epoch    GPU_mem   box_loss   cls_loss   dfl_loss  Instances       Size\n"
     ]
    },
    {
     "name": "stderr",
     "output_type": "stream",
     "text": [
      "     47/200      7.49G      1.178     0.9778      1.371         16        640: 100%|██████████| 57/57 [00:19<00:00,  2.89it/s]\n",
      "                 Class     Images  Instances      Box(P          R      mAP50  mAP50-95): 100%|██████████| 7/7 [00:06<00:00,  1.02it/s]"
     ]
    },
    {
     "name": "stdout",
     "output_type": "stream",
     "text": [
      "                   all        427        663      0.779      0.686      0.741      0.432\n"
     ]
    },
    {
     "name": "stderr",
     "output_type": "stream",
     "text": [
      "\n"
     ]
    },
    {
     "name": "stdout",
     "output_type": "stream",
     "text": [
      "\n",
      "      Epoch    GPU_mem   box_loss   cls_loss   dfl_loss  Instances       Size\n"
     ]
    },
    {
     "name": "stderr",
     "output_type": "stream",
     "text": [
      "     48/200      7.51G      1.181     0.9703      1.357         31        640: 100%|██████████| 57/57 [00:20<00:00,  2.83it/s]\n",
      "                 Class     Images  Instances      Box(P          R      mAP50  mAP50-95): 100%|██████████| 7/7 [00:06<00:00,  1.05it/s]"
     ]
    },
    {
     "name": "stdout",
     "output_type": "stream",
     "text": [
      "                   all        427        663       0.76      0.685       0.75      0.447\n"
     ]
    },
    {
     "name": "stderr",
     "output_type": "stream",
     "text": [
      "\n"
     ]
    },
    {
     "name": "stdout",
     "output_type": "stream",
     "text": [
      "\n",
      "      Epoch    GPU_mem   box_loss   cls_loss   dfl_loss  Instances       Size\n"
     ]
    },
    {
     "name": "stderr",
     "output_type": "stream",
     "text": [
      "     49/200      7.49G      1.164     0.9346      1.353         31        640: 100%|██████████| 57/57 [00:20<00:00,  2.85it/s]\n",
      "                 Class     Images  Instances      Box(P          R      mAP50  mAP50-95): 100%|██████████| 7/7 [00:06<00:00,  1.07it/s]"
     ]
    },
    {
     "name": "stdout",
     "output_type": "stream",
     "text": [
      "                   all        427        663      0.782      0.691      0.754      0.435\n"
     ]
    },
    {
     "name": "stderr",
     "output_type": "stream",
     "text": [
      "\n"
     ]
    },
    {
     "name": "stdout",
     "output_type": "stream",
     "text": [
      "\n",
      "      Epoch    GPU_mem   box_loss   cls_loss   dfl_loss  Instances       Size\n"
     ]
    },
    {
     "name": "stderr",
     "output_type": "stream",
     "text": [
      "     50/200      7.51G      1.165     0.9447      1.351         30        640: 100%|██████████| 57/57 [00:20<00:00,  2.81it/s]\n",
      "                 Class     Images  Instances      Box(P          R      mAP50  mAP50-95): 100%|██████████| 7/7 [00:06<00:00,  1.11it/s]"
     ]
    },
    {
     "name": "stdout",
     "output_type": "stream",
     "text": [
      "                   all        427        663      0.827      0.669       0.76      0.446\n"
     ]
    },
    {
     "name": "stderr",
     "output_type": "stream",
     "text": [
      "\n"
     ]
    },
    {
     "name": "stdout",
     "output_type": "stream",
     "text": [
      "\n",
      "      Epoch    GPU_mem   box_loss   cls_loss   dfl_loss  Instances       Size\n"
     ]
    },
    {
     "name": "stderr",
     "output_type": "stream",
     "text": [
      "     51/200      7.49G      1.141     0.9338       1.34         29        640: 100%|██████████| 57/57 [00:20<00:00,  2.83it/s]\n",
      "                 Class     Images  Instances      Box(P          R      mAP50  mAP50-95): 100%|██████████| 7/7 [00:06<00:00,  1.06it/s]"
     ]
    },
    {
     "name": "stdout",
     "output_type": "stream",
     "text": [
      "                   all        427        663      0.746      0.675      0.743      0.448\n"
     ]
    },
    {
     "name": "stderr",
     "output_type": "stream",
     "text": [
      "\n"
     ]
    },
    {
     "name": "stdout",
     "output_type": "stream",
     "text": [
      "\n",
      "      Epoch    GPU_mem   box_loss   cls_loss   dfl_loss  Instances       Size\n"
     ]
    },
    {
     "name": "stderr",
     "output_type": "stream",
     "text": [
      "     52/200      7.51G       1.16     0.9352      1.344         25        640: 100%|██████████| 57/57 [00:20<00:00,  2.84it/s]\n",
      "                 Class     Images  Instances      Box(P          R      mAP50  mAP50-95): 100%|██████████| 7/7 [00:06<00:00,  1.08it/s]"
     ]
    },
    {
     "name": "stdout",
     "output_type": "stream",
     "text": [
      "                   all        427        663      0.798      0.696      0.756      0.447\n"
     ]
    },
    {
     "name": "stderr",
     "output_type": "stream",
     "text": [
      "\n"
     ]
    },
    {
     "name": "stdout",
     "output_type": "stream",
     "text": [
      "\n",
      "      Epoch    GPU_mem   box_loss   cls_loss   dfl_loss  Instances       Size\n"
     ]
    },
    {
     "name": "stderr",
     "output_type": "stream",
     "text": [
      "     53/200      7.49G      1.161     0.9112      1.335         28        640: 100%|██████████| 57/57 [00:20<00:00,  2.82it/s]\n",
      "                 Class     Images  Instances      Box(P          R      mAP50  mAP50-95): 100%|██████████| 7/7 [00:06<00:00,  1.08it/s]"
     ]
    },
    {
     "name": "stdout",
     "output_type": "stream",
     "text": [
      "                   all        427        663      0.816      0.663      0.754      0.431\n"
     ]
    },
    {
     "name": "stderr",
     "output_type": "stream",
     "text": [
      "\n"
     ]
    },
    {
     "name": "stdout",
     "output_type": "stream",
     "text": [
      "\n",
      "      Epoch    GPU_mem   box_loss   cls_loss   dfl_loss  Instances       Size\n"
     ]
    },
    {
     "name": "stderr",
     "output_type": "stream",
     "text": [
      "     54/200      7.51G      1.145     0.9047      1.327         32        640: 100%|██████████| 57/57 [00:20<00:00,  2.85it/s]\n",
      "                 Class     Images  Instances      Box(P          R      mAP50  mAP50-95): 100%|██████████| 7/7 [00:06<00:00,  1.05it/s]"
     ]
    },
    {
     "name": "stdout",
     "output_type": "stream",
     "text": [
      "                   all        427        663      0.815      0.696      0.776      0.453\n"
     ]
    },
    {
     "name": "stderr",
     "output_type": "stream",
     "text": [
      "\n"
     ]
    },
    {
     "name": "stdout",
     "output_type": "stream",
     "text": [
      "\n",
      "      Epoch    GPU_mem   box_loss   cls_loss   dfl_loss  Instances       Size\n"
     ]
    },
    {
     "name": "stderr",
     "output_type": "stream",
     "text": [
      "     55/200      7.49G      1.122     0.8894      1.315         19        640: 100%|██████████| 57/57 [00:19<00:00,  2.87it/s]\n",
      "                 Class     Images  Instances      Box(P          R      mAP50  mAP50-95): 100%|██████████| 7/7 [00:06<00:00,  1.05it/s]"
     ]
    },
    {
     "name": "stdout",
     "output_type": "stream",
     "text": [
      "                   all        427        663      0.789      0.701      0.763       0.44\n"
     ]
    },
    {
     "name": "stderr",
     "output_type": "stream",
     "text": [
      "\n"
     ]
    },
    {
     "name": "stdout",
     "output_type": "stream",
     "text": [
      "\n",
      "      Epoch    GPU_mem   box_loss   cls_loss   dfl_loss  Instances       Size\n"
     ]
    },
    {
     "name": "stderr",
     "output_type": "stream",
     "text": [
      "     56/200      7.51G      1.108     0.8575      1.309         31        640: 100%|██████████| 57/57 [00:20<00:00,  2.83it/s]\n",
      "                 Class     Images  Instances      Box(P          R      mAP50  mAP50-95): 100%|██████████| 7/7 [00:06<00:00,  1.06it/s]"
     ]
    },
    {
     "name": "stdout",
     "output_type": "stream",
     "text": [
      "                   all        427        663      0.797      0.669      0.753      0.438\n"
     ]
    },
    {
     "name": "stderr",
     "output_type": "stream",
     "text": [
      "\n"
     ]
    },
    {
     "name": "stdout",
     "output_type": "stream",
     "text": [
      "\n",
      "      Epoch    GPU_mem   box_loss   cls_loss   dfl_loss  Instances       Size\n"
     ]
    },
    {
     "name": "stderr",
     "output_type": "stream",
     "text": [
      "     57/200      7.49G        1.1     0.8622      1.305         30        640: 100%|██████████| 57/57 [00:20<00:00,  2.82it/s]\n",
      "                 Class     Images  Instances      Box(P          R      mAP50  mAP50-95): 100%|██████████| 7/7 [00:06<00:00,  1.09it/s]"
     ]
    },
    {
     "name": "stdout",
     "output_type": "stream",
     "text": [
      "                   all        427        663      0.822       0.69       0.77      0.458\n"
     ]
    },
    {
     "name": "stderr",
     "output_type": "stream",
     "text": [
      "\n"
     ]
    },
    {
     "name": "stdout",
     "output_type": "stream",
     "text": [
      "\n",
      "      Epoch    GPU_mem   box_loss   cls_loss   dfl_loss  Instances       Size\n"
     ]
    },
    {
     "name": "stderr",
     "output_type": "stream",
     "text": [
      "     58/200      7.51G      1.133     0.9039      1.328         25        640: 100%|██████████| 57/57 [00:19<00:00,  2.86it/s]\n",
      "                 Class     Images  Instances      Box(P          R      mAP50  mAP50-95): 100%|██████████| 7/7 [00:06<00:00,  1.05it/s]"
     ]
    },
    {
     "name": "stdout",
     "output_type": "stream",
     "text": [
      "                   all        427        663        0.8      0.702      0.759      0.447\n"
     ]
    },
    {
     "name": "stderr",
     "output_type": "stream",
     "text": [
      "\n"
     ]
    },
    {
     "name": "stdout",
     "output_type": "stream",
     "text": [
      "\n",
      "      Epoch    GPU_mem   box_loss   cls_loss   dfl_loss  Instances       Size\n"
     ]
    },
    {
     "name": "stderr",
     "output_type": "stream",
     "text": [
      "     59/200      7.49G      1.109     0.8566      1.312         23        640: 100%|██████████| 57/57 [00:19<00:00,  2.87it/s]\n",
      "                 Class     Images  Instances      Box(P          R      mAP50  mAP50-95): 100%|██████████| 7/7 [00:06<00:00,  1.05it/s]"
     ]
    },
    {
     "name": "stdout",
     "output_type": "stream",
     "text": [
      "                   all        427        663      0.804      0.707      0.769      0.438\n"
     ]
    },
    {
     "name": "stderr",
     "output_type": "stream",
     "text": [
      "\n"
     ]
    },
    {
     "name": "stdout",
     "output_type": "stream",
     "text": [
      "\n",
      "      Epoch    GPU_mem   box_loss   cls_loss   dfl_loss  Instances       Size\n"
     ]
    },
    {
     "name": "stderr",
     "output_type": "stream",
     "text": [
      "     60/200      7.51G      1.117     0.8714      1.318         32        640: 100%|██████████| 57/57 [00:20<00:00,  2.79it/s]\n",
      "                 Class     Images  Instances      Box(P          R      mAP50  mAP50-95): 100%|██████████| 7/7 [00:06<00:00,  1.14it/s]"
     ]
    },
    {
     "name": "stdout",
     "output_type": "stream",
     "text": [
      "                   all        427        663      0.765      0.744      0.779      0.461\n"
     ]
    },
    {
     "name": "stderr",
     "output_type": "stream",
     "text": [
      "\n"
     ]
    },
    {
     "name": "stdout",
     "output_type": "stream",
     "text": [
      "\n",
      "      Epoch    GPU_mem   box_loss   cls_loss   dfl_loss  Instances       Size\n"
     ]
    },
    {
     "name": "stderr",
     "output_type": "stream",
     "text": [
      "     61/200      7.49G      1.076     0.8215      1.272         21        640: 100%|██████████| 57/57 [00:19<00:00,  2.86it/s]\n",
      "                 Class     Images  Instances      Box(P          R      mAP50  mAP50-95): 100%|██████████| 7/7 [00:06<00:00,  1.03it/s]"
     ]
    },
    {
     "name": "stdout",
     "output_type": "stream",
     "text": [
      "                   all        427        663       0.79      0.714      0.759      0.442\n"
     ]
    },
    {
     "name": "stderr",
     "output_type": "stream",
     "text": [
      "\n"
     ]
    },
    {
     "name": "stdout",
     "output_type": "stream",
     "text": [
      "\n",
      "      Epoch    GPU_mem   box_loss   cls_loss   dfl_loss  Instances       Size\n"
     ]
    },
    {
     "name": "stderr",
     "output_type": "stream",
     "text": [
      "     62/200      7.51G      1.077     0.8181      1.285         23        640: 100%|██████████| 57/57 [00:20<00:00,  2.82it/s]\n",
      "                 Class     Images  Instances      Box(P          R      mAP50  mAP50-95): 100%|██████████| 7/7 [00:06<00:00,  1.10it/s]"
     ]
    },
    {
     "name": "stdout",
     "output_type": "stream",
     "text": [
      "                   all        427        663      0.789      0.642      0.711      0.421\n"
     ]
    },
    {
     "name": "stderr",
     "output_type": "stream",
     "text": [
      "\n"
     ]
    },
    {
     "name": "stdout",
     "output_type": "stream",
     "text": [
      "\n",
      "      Epoch    GPU_mem   box_loss   cls_loss   dfl_loss  Instances       Size\n"
     ]
    },
    {
     "name": "stderr",
     "output_type": "stream",
     "text": [
      "     63/200      7.49G      1.088      0.836      1.287         29        640: 100%|██████████| 57/57 [00:20<00:00,  2.81it/s]\n",
      "                 Class     Images  Instances      Box(P          R      mAP50  mAP50-95): 100%|██████████| 7/7 [00:06<00:00,  1.09it/s]"
     ]
    },
    {
     "name": "stdout",
     "output_type": "stream",
     "text": [
      "                   all        427        663      0.819      0.741      0.792      0.462\n"
     ]
    },
    {
     "name": "stderr",
     "output_type": "stream",
     "text": [
      "\n"
     ]
    },
    {
     "name": "stdout",
     "output_type": "stream",
     "text": [
      "\n",
      "      Epoch    GPU_mem   box_loss   cls_loss   dfl_loss  Instances       Size\n"
     ]
    },
    {
     "name": "stderr",
     "output_type": "stream",
     "text": [
      "     64/200      7.51G       1.07     0.8176      1.274         19        640: 100%|██████████| 57/57 [00:20<00:00,  2.84it/s]\n",
      "                 Class     Images  Instances      Box(P          R      mAP50  mAP50-95): 100%|██████████| 7/7 [00:06<00:00,  1.05it/s]"
     ]
    },
    {
     "name": "stdout",
     "output_type": "stream",
     "text": [
      "                   all        427        663       0.81      0.669      0.736      0.437\n"
     ]
    },
    {
     "name": "stderr",
     "output_type": "stream",
     "text": [
      "\n"
     ]
    },
    {
     "name": "stdout",
     "output_type": "stream",
     "text": [
      "\n",
      "      Epoch    GPU_mem   box_loss   cls_loss   dfl_loss  Instances       Size\n"
     ]
    },
    {
     "name": "stderr",
     "output_type": "stream",
     "text": [
      "     65/200      7.49G      1.056     0.8107       1.28         23        640: 100%|██████████| 57/57 [00:20<00:00,  2.83it/s]\n",
      "                 Class     Images  Instances      Box(P          R      mAP50  mAP50-95): 100%|██████████| 7/7 [00:06<00:00,  1.07it/s]"
     ]
    },
    {
     "name": "stdout",
     "output_type": "stream",
     "text": [
      "                   all        427        663      0.788      0.696      0.762      0.458\n"
     ]
    },
    {
     "name": "stderr",
     "output_type": "stream",
     "text": [
      "\n"
     ]
    },
    {
     "name": "stdout",
     "output_type": "stream",
     "text": [
      "\n",
      "      Epoch    GPU_mem   box_loss   cls_loss   dfl_loss  Instances       Size\n"
     ]
    },
    {
     "name": "stderr",
     "output_type": "stream",
     "text": [
      "     66/200      7.51G      1.061     0.7928      1.276         25        640: 100%|██████████| 57/57 [00:20<00:00,  2.84it/s]\n",
      "                 Class     Images  Instances      Box(P          R      mAP50  mAP50-95): 100%|██████████| 7/7 [00:06<00:00,  1.06it/s]"
     ]
    },
    {
     "name": "stdout",
     "output_type": "stream",
     "text": [
      "                   all        427        663      0.824      0.719       0.77      0.456\n"
     ]
    },
    {
     "name": "stderr",
     "output_type": "stream",
     "text": [
      "\n"
     ]
    },
    {
     "name": "stdout",
     "output_type": "stream",
     "text": [
      "\n",
      "      Epoch    GPU_mem   box_loss   cls_loss   dfl_loss  Instances       Size\n"
     ]
    },
    {
     "name": "stderr",
     "output_type": "stream",
     "text": [
      "     67/200      7.49G      1.051     0.7742      1.265         44        640: 100%|██████████| 57/57 [00:20<00:00,  2.85it/s]\n",
      "                 Class     Images  Instances      Box(P          R      mAP50  mAP50-95): 100%|██████████| 7/7 [00:06<00:00,  1.05it/s]"
     ]
    },
    {
     "name": "stdout",
     "output_type": "stream",
     "text": [
      "                   all        427        663      0.815      0.701      0.777      0.467\n"
     ]
    },
    {
     "name": "stderr",
     "output_type": "stream",
     "text": [
      "\n"
     ]
    },
    {
     "name": "stdout",
     "output_type": "stream",
     "text": [
      "\n",
      "      Epoch    GPU_mem   box_loss   cls_loss   dfl_loss  Instances       Size\n"
     ]
    },
    {
     "name": "stderr",
     "output_type": "stream",
     "text": [
      "     68/200      7.51G      1.028     0.7772      1.261         22        640: 100%|██████████| 57/57 [00:20<00:00,  2.83it/s]\n",
      "                 Class     Images  Instances      Box(P          R      mAP50  mAP50-95): 100%|██████████| 7/7 [00:06<00:00,  1.09it/s]"
     ]
    },
    {
     "name": "stdout",
     "output_type": "stream",
     "text": [
      "                   all        427        663      0.844      0.666      0.774      0.445\n"
     ]
    },
    {
     "name": "stderr",
     "output_type": "stream",
     "text": [
      "\n"
     ]
    },
    {
     "name": "stdout",
     "output_type": "stream",
     "text": [
      "\n",
      "      Epoch    GPU_mem   box_loss   cls_loss   dfl_loss  Instances       Size\n"
     ]
    },
    {
     "name": "stderr",
     "output_type": "stream",
     "text": [
      "     69/200      7.49G      1.033     0.7884       1.26         17        640: 100%|██████████| 57/57 [00:20<00:00,  2.83it/s]\n",
      "                 Class     Images  Instances      Box(P          R      mAP50  mAP50-95): 100%|██████████| 7/7 [00:06<00:00,  1.05it/s]"
     ]
    },
    {
     "name": "stdout",
     "output_type": "stream",
     "text": [
      "                   all        427        663      0.848      0.727      0.792      0.475\n"
     ]
    },
    {
     "name": "stderr",
     "output_type": "stream",
     "text": [
      "\n"
     ]
    },
    {
     "name": "stdout",
     "output_type": "stream",
     "text": [
      "\n",
      "      Epoch    GPU_mem   box_loss   cls_loss   dfl_loss  Instances       Size\n"
     ]
    },
    {
     "name": "stderr",
     "output_type": "stream",
     "text": [
      "     70/200       7.5G      1.059     0.7824      1.268         22        640: 100%|██████████| 57/57 [00:20<00:00,  2.82it/s]\n",
      "                 Class     Images  Instances      Box(P          R      mAP50  mAP50-95): 100%|██████████| 7/7 [00:06<00:00,  1.09it/s]"
     ]
    },
    {
     "name": "stdout",
     "output_type": "stream",
     "text": [
      "                   all        427        663      0.835      0.716      0.786      0.474\n"
     ]
    },
    {
     "name": "stderr",
     "output_type": "stream",
     "text": [
      "\n"
     ]
    },
    {
     "name": "stdout",
     "output_type": "stream",
     "text": [
      "\n",
      "      Epoch    GPU_mem   box_loss   cls_loss   dfl_loss  Instances       Size\n"
     ]
    },
    {
     "name": "stderr",
     "output_type": "stream",
     "text": [
      "     71/200      7.49G      1.022     0.7593      1.252         18        640: 100%|██████████| 57/57 [00:20<00:00,  2.83it/s]\n",
      "                 Class     Images  Instances      Box(P          R      mAP50  mAP50-95): 100%|██████████| 7/7 [00:06<00:00,  1.06it/s]"
     ]
    },
    {
     "name": "stdout",
     "output_type": "stream",
     "text": [
      "                   all        427        663      0.829      0.735      0.798      0.478\n"
     ]
    },
    {
     "name": "stderr",
     "output_type": "stream",
     "text": [
      "\n"
     ]
    },
    {
     "name": "stdout",
     "output_type": "stream",
     "text": [
      "\n",
      "      Epoch    GPU_mem   box_loss   cls_loss   dfl_loss  Instances       Size\n"
     ]
    },
    {
     "name": "stderr",
     "output_type": "stream",
     "text": [
      "     72/200      7.51G      1.037     0.7979      1.261         23        640: 100%|██████████| 57/57 [00:20<00:00,  2.82it/s]\n",
      "                 Class     Images  Instances      Box(P          R      mAP50  mAP50-95): 100%|██████████| 7/7 [00:06<00:00,  1.08it/s]"
     ]
    },
    {
     "name": "stdout",
     "output_type": "stream",
     "text": [
      "                   all        427        663      0.856      0.704      0.801      0.474\n"
     ]
    },
    {
     "name": "stderr",
     "output_type": "stream",
     "text": [
      "\n"
     ]
    },
    {
     "name": "stdout",
     "output_type": "stream",
     "text": [
      "\n",
      "      Epoch    GPU_mem   box_loss   cls_loss   dfl_loss  Instances       Size\n"
     ]
    },
    {
     "name": "stderr",
     "output_type": "stream",
     "text": [
      "     73/200      7.49G      1.041     0.7779       1.26         29        640: 100%|██████████| 57/57 [00:20<00:00,  2.83it/s]\n",
      "                 Class     Images  Instances      Box(P          R      mAP50  mAP50-95): 100%|██████████| 7/7 [00:06<00:00,  1.09it/s]"
     ]
    },
    {
     "name": "stdout",
     "output_type": "stream",
     "text": [
      "                   all        427        663      0.809      0.696      0.761      0.463\n"
     ]
    },
    {
     "name": "stderr",
     "output_type": "stream",
     "text": [
      "\n"
     ]
    },
    {
     "name": "stdout",
     "output_type": "stream",
     "text": [
      "\n",
      "      Epoch    GPU_mem   box_loss   cls_loss   dfl_loss  Instances       Size\n"
     ]
    },
    {
     "name": "stderr",
     "output_type": "stream",
     "text": [
      "     74/200      7.51G      1.002     0.7422      1.234         20        640: 100%|██████████| 57/57 [00:20<00:00,  2.82it/s]\n",
      "                 Class     Images  Instances      Box(P          R      mAP50  mAP50-95): 100%|██████████| 7/7 [00:06<00:00,  1.10it/s]"
     ]
    },
    {
     "name": "stdout",
     "output_type": "stream",
     "text": [
      "                   all        427        663      0.851      0.702      0.796       0.48\n"
     ]
    },
    {
     "name": "stderr",
     "output_type": "stream",
     "text": [
      "\n"
     ]
    },
    {
     "name": "stdout",
     "output_type": "stream",
     "text": [
      "\n",
      "      Epoch    GPU_mem   box_loss   cls_loss   dfl_loss  Instances       Size\n"
     ]
    },
    {
     "name": "stderr",
     "output_type": "stream",
     "text": [
      "     75/200      7.49G      1.002     0.7455      1.224         19        640: 100%|██████████| 57/57 [00:20<00:00,  2.85it/s]\n",
      "                 Class     Images  Instances      Box(P          R      mAP50  mAP50-95): 100%|██████████| 7/7 [00:06<00:00,  1.06it/s]"
     ]
    },
    {
     "name": "stdout",
     "output_type": "stream",
     "text": [
      "                   all        427        663       0.85      0.699      0.784      0.471\n"
     ]
    },
    {
     "name": "stderr",
     "output_type": "stream",
     "text": [
      "\n"
     ]
    },
    {
     "name": "stdout",
     "output_type": "stream",
     "text": [
      "\n",
      "      Epoch    GPU_mem   box_loss   cls_loss   dfl_loss  Instances       Size\n"
     ]
    },
    {
     "name": "stderr",
     "output_type": "stream",
     "text": [
      "     76/200      7.51G     0.9878      0.717      1.223         32        640: 100%|██████████| 57/57 [00:20<00:00,  2.82it/s]\n",
      "                 Class     Images  Instances      Box(P          R      mAP50  mAP50-95): 100%|██████████| 7/7 [00:06<00:00,  1.07it/s]"
     ]
    },
    {
     "name": "stdout",
     "output_type": "stream",
     "text": [
      "                   all        427        663      0.828      0.675       0.77      0.461\n"
     ]
    },
    {
     "name": "stderr",
     "output_type": "stream",
     "text": [
      "\n"
     ]
    },
    {
     "name": "stdout",
     "output_type": "stream",
     "text": [
      "\n",
      "      Epoch    GPU_mem   box_loss   cls_loss   dfl_loss  Instances       Size\n"
     ]
    },
    {
     "name": "stderr",
     "output_type": "stream",
     "text": [
      "     77/200      7.49G      1.004     0.7345      1.227         30        640: 100%|██████████| 57/57 [00:20<00:00,  2.81it/s]\n",
      "                 Class     Images  Instances      Box(P          R      mAP50  mAP50-95): 100%|██████████| 7/7 [00:06<00:00,  1.12it/s]"
     ]
    },
    {
     "name": "stdout",
     "output_type": "stream",
     "text": [
      "                   all        427        663      0.812      0.729      0.788      0.481\n"
     ]
    },
    {
     "name": "stderr",
     "output_type": "stream",
     "text": [
      "\n"
     ]
    },
    {
     "name": "stdout",
     "output_type": "stream",
     "text": [
      "\n",
      "      Epoch    GPU_mem   box_loss   cls_loss   dfl_loss  Instances       Size\n"
     ]
    },
    {
     "name": "stderr",
     "output_type": "stream",
     "text": [
      "     78/200      7.51G     0.9835      0.736      1.222         24        640: 100%|██████████| 57/57 [00:20<00:00,  2.81it/s]\n",
      "                 Class     Images  Instances      Box(P          R      mAP50  mAP50-95): 100%|██████████| 7/7 [00:06<00:00,  1.09it/s]"
     ]
    },
    {
     "name": "stdout",
     "output_type": "stream",
     "text": [
      "                   all        427        663      0.813      0.713      0.782      0.476\n"
     ]
    },
    {
     "name": "stderr",
     "output_type": "stream",
     "text": [
      "\n"
     ]
    },
    {
     "name": "stdout",
     "output_type": "stream",
     "text": [
      "\n",
      "      Epoch    GPU_mem   box_loss   cls_loss   dfl_loss  Instances       Size\n"
     ]
    },
    {
     "name": "stderr",
     "output_type": "stream",
     "text": [
      "     79/200      7.49G       1.01     0.7252      1.228         34        640: 100%|██████████| 57/57 [00:19<00:00,  2.88it/s]\n",
      "                 Class     Images  Instances      Box(P          R      mAP50  mAP50-95): 100%|██████████| 7/7 [00:06<00:00,  1.02it/s]"
     ]
    },
    {
     "name": "stdout",
     "output_type": "stream",
     "text": [
      "                   all        427        663      0.853      0.672      0.769      0.467\n"
     ]
    },
    {
     "name": "stderr",
     "output_type": "stream",
     "text": [
      "\n"
     ]
    },
    {
     "name": "stdout",
     "output_type": "stream",
     "text": [
      "\n",
      "      Epoch    GPU_mem   box_loss   cls_loss   dfl_loss  Instances       Size\n"
     ]
    },
    {
     "name": "stderr",
     "output_type": "stream",
     "text": [
      "     80/200       7.5G      0.971     0.7033      1.211         27        640: 100%|██████████| 57/57 [00:20<00:00,  2.83it/s]\n",
      "                 Class     Images  Instances      Box(P          R      mAP50  mAP50-95): 100%|██████████| 7/7 [00:06<00:00,  1.08it/s]"
     ]
    },
    {
     "name": "stdout",
     "output_type": "stream",
     "text": [
      "                   all        427        663      0.834      0.698      0.791      0.474\n"
     ]
    },
    {
     "name": "stderr",
     "output_type": "stream",
     "text": [
      "\n"
     ]
    },
    {
     "name": "stdout",
     "output_type": "stream",
     "text": [
      "\n",
      "      Epoch    GPU_mem   box_loss   cls_loss   dfl_loss  Instances       Size\n"
     ]
    },
    {
     "name": "stderr",
     "output_type": "stream",
     "text": [
      "     81/200      7.49G     0.9906     0.7261      1.227         32        640: 100%|██████████| 57/57 [00:20<00:00,  2.83it/s]\n",
      "                 Class     Images  Instances      Box(P          R      mAP50  mAP50-95): 100%|██████████| 7/7 [00:06<00:00,  1.09it/s]"
     ]
    },
    {
     "name": "stdout",
     "output_type": "stream",
     "text": [
      "                   all        427        663      0.818      0.717      0.798      0.483\n"
     ]
    },
    {
     "name": "stderr",
     "output_type": "stream",
     "text": [
      "\n"
     ]
    },
    {
     "name": "stdout",
     "output_type": "stream",
     "text": [
      "\n",
      "      Epoch    GPU_mem   box_loss   cls_loss   dfl_loss  Instances       Size\n"
     ]
    },
    {
     "name": "stderr",
     "output_type": "stream",
     "text": [
      "     82/200      7.51G     0.9763     0.7084       1.21         19        640: 100%|██████████| 57/57 [00:20<00:00,  2.82it/s]\n",
      "                 Class     Images  Instances      Box(P          R      mAP50  mAP50-95): 100%|██████████| 7/7 [00:06<00:00,  1.08it/s]"
     ]
    },
    {
     "name": "stdout",
     "output_type": "stream",
     "text": [
      "                   all        427        663      0.864      0.691      0.777      0.467\n"
     ]
    },
    {
     "name": "stderr",
     "output_type": "stream",
     "text": [
      "\n"
     ]
    },
    {
     "name": "stdout",
     "output_type": "stream",
     "text": [
      "\n",
      "      Epoch    GPU_mem   box_loss   cls_loss   dfl_loss  Instances       Size\n"
     ]
    },
    {
     "name": "stderr",
     "output_type": "stream",
     "text": [
      "     83/200      7.49G     0.9523     0.6897      1.203         33        640: 100%|██████████| 57/57 [00:20<00:00,  2.80it/s]\n",
      "                 Class     Images  Instances      Box(P          R      mAP50  mAP50-95): 100%|██████████| 7/7 [00:06<00:00,  1.13it/s]"
     ]
    },
    {
     "name": "stdout",
     "output_type": "stream",
     "text": [
      "                   all        427        663      0.832       0.73      0.789      0.479\n"
     ]
    },
    {
     "name": "stderr",
     "output_type": "stream",
     "text": [
      "\n"
     ]
    },
    {
     "name": "stdout",
     "output_type": "stream",
     "text": [
      "\n",
      "      Epoch    GPU_mem   box_loss   cls_loss   dfl_loss  Instances       Size\n"
     ]
    },
    {
     "name": "stderr",
     "output_type": "stream",
     "text": [
      "     84/200      7.51G     0.9737     0.6867      1.208         21        640: 100%|██████████| 57/57 [00:20<00:00,  2.80it/s]\n",
      "                 Class     Images  Instances      Box(P          R      mAP50  mAP50-95): 100%|██████████| 7/7 [00:06<00:00,  1.12it/s]"
     ]
    },
    {
     "name": "stdout",
     "output_type": "stream",
     "text": [
      "                   all        427        663      0.855      0.728        0.8      0.477\n"
     ]
    },
    {
     "name": "stderr",
     "output_type": "stream",
     "text": [
      "\n"
     ]
    },
    {
     "name": "stdout",
     "output_type": "stream",
     "text": [
      "\n",
      "      Epoch    GPU_mem   box_loss   cls_loss   dfl_loss  Instances       Size\n"
     ]
    },
    {
     "name": "stderr",
     "output_type": "stream",
     "text": [
      "     85/200      7.49G     0.9712     0.6932      1.208         20        640: 100%|██████████| 57/57 [00:20<00:00,  2.83it/s]\n",
      "                 Class     Images  Instances      Box(P          R      mAP50  mAP50-95): 100%|██████████| 7/7 [00:06<00:00,  1.06it/s]"
     ]
    },
    {
     "name": "stdout",
     "output_type": "stream",
     "text": [
      "                   all        427        663      0.829      0.673      0.768      0.463\n"
     ]
    },
    {
     "name": "stderr",
     "output_type": "stream",
     "text": [
      "\n"
     ]
    },
    {
     "name": "stdout",
     "output_type": "stream",
     "text": [
      "\n",
      "      Epoch    GPU_mem   box_loss   cls_loss   dfl_loss  Instances       Size\n"
     ]
    },
    {
     "name": "stderr",
     "output_type": "stream",
     "text": [
      "     86/200      7.51G     0.9486     0.6785       1.19         32        640: 100%|██████████| 57/57 [00:20<00:00,  2.76it/s]\n",
      "                 Class     Images  Instances      Box(P          R      mAP50  mAP50-95): 100%|██████████| 7/7 [00:06<00:00,  1.16it/s]"
     ]
    },
    {
     "name": "stdout",
     "output_type": "stream",
     "text": [
      "                   all        427        663      0.858      0.688      0.791      0.484\n"
     ]
    },
    {
     "name": "stderr",
     "output_type": "stream",
     "text": [
      "\n"
     ]
    },
    {
     "name": "stdout",
     "output_type": "stream",
     "text": [
      "\n",
      "      Epoch    GPU_mem   box_loss   cls_loss   dfl_loss  Instances       Size\n"
     ]
    },
    {
     "name": "stderr",
     "output_type": "stream",
     "text": [
      "     87/200      7.49G     0.9704     0.7121      1.215         29        640: 100%|██████████| 57/57 [00:20<00:00,  2.81it/s]\n",
      "                 Class     Images  Instances      Box(P          R      mAP50  mAP50-95): 100%|██████████| 7/7 [00:06<00:00,  1.09it/s]"
     ]
    },
    {
     "name": "stdout",
     "output_type": "stream",
     "text": [
      "                   all        427        663      0.848      0.676       0.77      0.465\n"
     ]
    },
    {
     "name": "stderr",
     "output_type": "stream",
     "text": [
      "\n"
     ]
    },
    {
     "name": "stdout",
     "output_type": "stream",
     "text": [
      "\n",
      "      Epoch    GPU_mem   box_loss   cls_loss   dfl_loss  Instances       Size\n"
     ]
    },
    {
     "name": "stderr",
     "output_type": "stream",
     "text": [
      "     88/200      7.51G      0.956     0.7133        1.2         22        640: 100%|██████████| 57/57 [00:20<00:00,  2.78it/s]\n",
      "                 Class     Images  Instances      Box(P          R      mAP50  mAP50-95): 100%|██████████| 7/7 [00:06<00:00,  1.09it/s]"
     ]
    },
    {
     "name": "stdout",
     "output_type": "stream",
     "text": [
      "                   all        427        663      0.873      0.713      0.799      0.487\n"
     ]
    },
    {
     "name": "stderr",
     "output_type": "stream",
     "text": [
      "\n"
     ]
    },
    {
     "name": "stdout",
     "output_type": "stream",
     "text": [
      "\n",
      "      Epoch    GPU_mem   box_loss   cls_loss   dfl_loss  Instances       Size\n"
     ]
    },
    {
     "name": "stderr",
     "output_type": "stream",
     "text": [
      "     89/200      7.49G     0.9494     0.6885        1.2         31        640: 100%|██████████| 57/57 [00:20<00:00,  2.79it/s]\n",
      "                 Class     Images  Instances      Box(P          R      mAP50  mAP50-95): 100%|██████████| 7/7 [00:06<00:00,  1.10it/s]"
     ]
    },
    {
     "name": "stdout",
     "output_type": "stream",
     "text": [
      "                   all        427        663       0.86      0.714      0.797      0.482\n"
     ]
    },
    {
     "name": "stderr",
     "output_type": "stream",
     "text": [
      "\n"
     ]
    },
    {
     "name": "stdout",
     "output_type": "stream",
     "text": [
      "\n",
      "      Epoch    GPU_mem   box_loss   cls_loss   dfl_loss  Instances       Size\n"
     ]
    },
    {
     "name": "stderr",
     "output_type": "stream",
     "text": [
      "     90/200      7.51G     0.9526      0.692      1.196         30        640: 100%|██████████| 57/57 [00:20<00:00,  2.78it/s]\n",
      "                 Class     Images  Instances      Box(P          R      mAP50  mAP50-95): 100%|██████████| 7/7 [00:06<00:00,  1.08it/s]"
     ]
    },
    {
     "name": "stdout",
     "output_type": "stream",
     "text": [
      "                   all        427        663      0.825       0.72      0.775      0.469\n"
     ]
    },
    {
     "name": "stderr",
     "output_type": "stream",
     "text": [
      "\n"
     ]
    },
    {
     "name": "stdout",
     "output_type": "stream",
     "text": [
      "\n",
      "      Epoch    GPU_mem   box_loss   cls_loss   dfl_loss  Instances       Size\n"
     ]
    },
    {
     "name": "stderr",
     "output_type": "stream",
     "text": [
      "     91/200      7.49G     0.9482     0.6664      1.192         17        640: 100%|██████████| 57/57 [00:20<00:00,  2.79it/s]\n",
      "                 Class     Images  Instances      Box(P          R      mAP50  mAP50-95): 100%|██████████| 7/7 [00:06<00:00,  1.08it/s]"
     ]
    },
    {
     "name": "stdout",
     "output_type": "stream",
     "text": [
      "                   all        427        663      0.836      0.698      0.773      0.473\n"
     ]
    },
    {
     "name": "stderr",
     "output_type": "stream",
     "text": [
      "\n"
     ]
    },
    {
     "name": "stdout",
     "output_type": "stream",
     "text": [
      "\n",
      "      Epoch    GPU_mem   box_loss   cls_loss   dfl_loss  Instances       Size\n"
     ]
    },
    {
     "name": "stderr",
     "output_type": "stream",
     "text": [
      "     92/200       7.5G     0.9245     0.6522      1.177         26        640: 100%|██████████| 57/57 [00:20<00:00,  2.83it/s]\n",
      "                 Class     Images  Instances      Box(P          R      mAP50  mAP50-95): 100%|██████████| 7/7 [00:06<00:00,  1.07it/s]"
     ]
    },
    {
     "name": "stdout",
     "output_type": "stream",
     "text": [
      "                   all        427        663      0.846      0.707      0.791      0.487\n"
     ]
    },
    {
     "name": "stderr",
     "output_type": "stream",
     "text": [
      "\n"
     ]
    },
    {
     "name": "stdout",
     "output_type": "stream",
     "text": [
      "\n",
      "      Epoch    GPU_mem   box_loss   cls_loss   dfl_loss  Instances       Size\n"
     ]
    },
    {
     "name": "stderr",
     "output_type": "stream",
     "text": [
      "     93/200      7.49G     0.9295     0.6592      1.179         22        640: 100%|██████████| 57/57 [00:20<00:00,  2.84it/s]\n",
      "                 Class     Images  Instances      Box(P          R      mAP50  mAP50-95): 100%|██████████| 7/7 [00:06<00:00,  1.03it/s]"
     ]
    },
    {
     "name": "stdout",
     "output_type": "stream",
     "text": [
      "                   all        427        663      0.841      0.716       0.79      0.483\n"
     ]
    },
    {
     "name": "stderr",
     "output_type": "stream",
     "text": [
      "\n"
     ]
    },
    {
     "name": "stdout",
     "output_type": "stream",
     "text": [
      "\n",
      "      Epoch    GPU_mem   box_loss   cls_loss   dfl_loss  Instances       Size\n"
     ]
    },
    {
     "name": "stderr",
     "output_type": "stream",
     "text": [
      "     94/200      7.51G     0.9326      0.654      1.175         19        640: 100%|██████████| 57/57 [00:20<00:00,  2.82it/s]\n",
      "                 Class     Images  Instances      Box(P          R      mAP50  mAP50-95): 100%|██████████| 7/7 [00:06<00:00,  1.04it/s]"
     ]
    },
    {
     "name": "stdout",
     "output_type": "stream",
     "text": [
      "                   all        427        663      0.852      0.693      0.789      0.483\n"
     ]
    },
    {
     "name": "stderr",
     "output_type": "stream",
     "text": [
      "\n"
     ]
    },
    {
     "name": "stdout",
     "output_type": "stream",
     "text": [
      "\n",
      "      Epoch    GPU_mem   box_loss   cls_loss   dfl_loss  Instances       Size\n"
     ]
    },
    {
     "name": "stderr",
     "output_type": "stream",
     "text": [
      "     95/200      7.49G     0.9336     0.6645      1.186         27        640: 100%|██████████| 57/57 [00:20<00:00,  2.84it/s]\n",
      "                 Class     Images  Instances      Box(P          R      mAP50  mAP50-95): 100%|██████████| 7/7 [00:06<00:00,  1.04it/s]"
     ]
    },
    {
     "name": "stdout",
     "output_type": "stream",
     "text": [
      "                   all        427        663      0.817      0.721      0.786      0.478\n"
     ]
    },
    {
     "name": "stderr",
     "output_type": "stream",
     "text": [
      "\n"
     ]
    },
    {
     "name": "stdout",
     "output_type": "stream",
     "text": [
      "\n",
      "      Epoch    GPU_mem   box_loss   cls_loss   dfl_loss  Instances       Size\n"
     ]
    },
    {
     "name": "stderr",
     "output_type": "stream",
     "text": [
      "     96/200      7.51G     0.9197     0.6519      1.177         27        640: 100%|██████████| 57/57 [00:20<00:00,  2.74it/s]\n",
      "                 Class     Images  Instances      Box(P          R      mAP50  mAP50-95): 100%|██████████| 7/7 [00:06<00:00,  1.12it/s]"
     ]
    },
    {
     "name": "stdout",
     "output_type": "stream",
     "text": [
      "                   all        427        663       0.85      0.725      0.797      0.491\n"
     ]
    },
    {
     "name": "stderr",
     "output_type": "stream",
     "text": [
      "\n"
     ]
    },
    {
     "name": "stdout",
     "output_type": "stream",
     "text": [
      "\n",
      "      Epoch    GPU_mem   box_loss   cls_loss   dfl_loss  Instances       Size\n"
     ]
    },
    {
     "name": "stderr",
     "output_type": "stream",
     "text": [
      "     97/200      7.49G     0.9087     0.6366      1.168         31        640: 100%|██████████| 57/57 [00:20<00:00,  2.84it/s]\n",
      "                 Class     Images  Instances      Box(P          R      mAP50  mAP50-95): 100%|██████████| 7/7 [00:06<00:00,  1.03it/s]"
     ]
    },
    {
     "name": "stdout",
     "output_type": "stream",
     "text": [
      "                   all        427        663      0.843       0.71      0.783      0.476\n"
     ]
    },
    {
     "name": "stderr",
     "output_type": "stream",
     "text": [
      "\n"
     ]
    },
    {
     "name": "stdout",
     "output_type": "stream",
     "text": [
      "\n",
      "      Epoch    GPU_mem   box_loss   cls_loss   dfl_loss  Instances       Size\n"
     ]
    },
    {
     "name": "stderr",
     "output_type": "stream",
     "text": [
      "     98/200      7.51G     0.9059     0.6289      1.158         28        640: 100%|██████████| 57/57 [00:20<00:00,  2.80it/s]\n",
      "                 Class     Images  Instances      Box(P          R      mAP50  mAP50-95): 100%|██████████| 7/7 [00:06<00:00,  1.07it/s]"
     ]
    },
    {
     "name": "stdout",
     "output_type": "stream",
     "text": [
      "                   all        427        663      0.852      0.708      0.798      0.487\n"
     ]
    },
    {
     "name": "stderr",
     "output_type": "stream",
     "text": [
      "\n"
     ]
    },
    {
     "name": "stdout",
     "output_type": "stream",
     "text": [
      "\n",
      "      Epoch    GPU_mem   box_loss   cls_loss   dfl_loss  Instances       Size\n"
     ]
    },
    {
     "name": "stderr",
     "output_type": "stream",
     "text": [
      "     99/200      7.49G     0.9002     0.6293      1.162         29        640: 100%|██████████| 57/57 [00:20<00:00,  2.81it/s]\n",
      "                 Class     Images  Instances      Box(P          R      mAP50  mAP50-95): 100%|██████████| 7/7 [00:06<00:00,  1.06it/s]"
     ]
    },
    {
     "name": "stdout",
     "output_type": "stream",
     "text": [
      "                   all        427        663      0.857      0.739      0.803      0.495\n"
     ]
    },
    {
     "name": "stderr",
     "output_type": "stream",
     "text": [
      "\n"
     ]
    },
    {
     "name": "stdout",
     "output_type": "stream",
     "text": [
      "\n",
      "      Epoch    GPU_mem   box_loss   cls_loss   dfl_loss  Instances       Size\n"
     ]
    },
    {
     "name": "stderr",
     "output_type": "stream",
     "text": [
      "    100/200      7.51G     0.8956     0.6325      1.159         26        640: 100%|██████████| 57/57 [00:19<00:00,  2.86it/s]\n",
      "                 Class     Images  Instances      Box(P          R      mAP50  mAP50-95): 100%|██████████| 7/7 [00:06<00:00,  1.04it/s]"
     ]
    },
    {
     "name": "stdout",
     "output_type": "stream",
     "text": [
      "                   all        427        663      0.822      0.738      0.799      0.493\n"
     ]
    },
    {
     "name": "stderr",
     "output_type": "stream",
     "text": [
      "\n"
     ]
    },
    {
     "name": "stdout",
     "output_type": "stream",
     "text": [
      "\n",
      "      Epoch    GPU_mem   box_loss   cls_loss   dfl_loss  Instances       Size\n"
     ]
    },
    {
     "name": "stderr",
     "output_type": "stream",
     "text": [
      "    101/200      7.49G     0.8946     0.6316      1.164         20        640: 100%|██████████| 57/57 [00:20<00:00,  2.85it/s]\n",
      "                 Class     Images  Instances      Box(P          R      mAP50  mAP50-95): 100%|██████████| 7/7 [00:06<00:00,  1.05it/s]"
     ]
    },
    {
     "name": "stdout",
     "output_type": "stream",
     "text": [
      "                   all        427        663      0.845      0.723      0.786      0.481\n"
     ]
    },
    {
     "name": "stderr",
     "output_type": "stream",
     "text": [
      "\n"
     ]
    },
    {
     "name": "stdout",
     "output_type": "stream",
     "text": [
      "\n",
      "      Epoch    GPU_mem   box_loss   cls_loss   dfl_loss  Instances       Size\n"
     ]
    },
    {
     "name": "stderr",
     "output_type": "stream",
     "text": [
      "    102/200      7.51G     0.8978     0.6317      1.168         28        640: 100%|██████████| 57/57 [00:20<00:00,  2.84it/s]\n",
      "                 Class     Images  Instances      Box(P          R      mAP50  mAP50-95): 100%|██████████| 7/7 [00:06<00:00,  1.06it/s]"
     ]
    },
    {
     "name": "stdout",
     "output_type": "stream",
     "text": [
      "                   all        427        663       0.85      0.713      0.791      0.479\n"
     ]
    },
    {
     "name": "stderr",
     "output_type": "stream",
     "text": [
      "\n"
     ]
    },
    {
     "name": "stdout",
     "output_type": "stream",
     "text": [
      "\n",
      "      Epoch    GPU_mem   box_loss   cls_loss   dfl_loss  Instances       Size\n"
     ]
    },
    {
     "name": "stderr",
     "output_type": "stream",
     "text": [
      "    103/200      7.49G     0.8736     0.6093      1.151         17        640: 100%|██████████| 57/57 [00:20<00:00,  2.84it/s]\n",
      "                 Class     Images  Instances      Box(P          R      mAP50  mAP50-95): 100%|██████████| 7/7 [00:06<00:00,  1.07it/s]"
     ]
    },
    {
     "name": "stdout",
     "output_type": "stream",
     "text": [
      "                   all        427        663      0.837      0.725        0.8      0.497\n"
     ]
    },
    {
     "name": "stderr",
     "output_type": "stream",
     "text": [
      "\n"
     ]
    },
    {
     "name": "stdout",
     "output_type": "stream",
     "text": [
      "\n",
      "      Epoch    GPU_mem   box_loss   cls_loss   dfl_loss  Instances       Size\n"
     ]
    },
    {
     "name": "stderr",
     "output_type": "stream",
     "text": [
      "    104/200      7.51G     0.8712     0.6171      1.143         21        640: 100%|██████████| 57/57 [00:20<00:00,  2.82it/s]\n",
      "                 Class     Images  Instances      Box(P          R      mAP50  mAP50-95): 100%|██████████| 7/7 [00:06<00:00,  1.12it/s]"
     ]
    },
    {
     "name": "stdout",
     "output_type": "stream",
     "text": [
      "                   all        427        663      0.861      0.722      0.793      0.477\n"
     ]
    },
    {
     "name": "stderr",
     "output_type": "stream",
     "text": [
      "\n"
     ]
    },
    {
     "name": "stdout",
     "output_type": "stream",
     "text": [
      "\n",
      "      Epoch    GPU_mem   box_loss   cls_loss   dfl_loss  Instances       Size\n"
     ]
    },
    {
     "name": "stderr",
     "output_type": "stream",
     "text": [
      "    105/200      7.49G     0.8745     0.6089      1.146         29        640: 100%|██████████| 57/57 [00:20<00:00,  2.79it/s]\n",
      "                 Class     Images  Instances      Box(P          R      mAP50  mAP50-95): 100%|██████████| 7/7 [00:06<00:00,  1.09it/s]"
     ]
    },
    {
     "name": "stdout",
     "output_type": "stream",
     "text": [
      "                   all        427        663      0.871      0.709      0.797      0.485\n"
     ]
    },
    {
     "name": "stderr",
     "output_type": "stream",
     "text": [
      "\n"
     ]
    },
    {
     "name": "stdout",
     "output_type": "stream",
     "text": [
      "\n",
      "      Epoch    GPU_mem   box_loss   cls_loss   dfl_loss  Instances       Size\n"
     ]
    },
    {
     "name": "stderr",
     "output_type": "stream",
     "text": [
      "    106/200      7.51G     0.8717      0.604      1.146         26        640: 100%|██████████| 57/57 [00:20<00:00,  2.81it/s]\n",
      "                 Class     Images  Instances      Box(P          R      mAP50  mAP50-95): 100%|██████████| 7/7 [00:06<00:00,  1.08it/s]"
     ]
    },
    {
     "name": "stdout",
     "output_type": "stream",
     "text": [
      "                   all        427        663      0.861      0.735      0.794      0.485\n"
     ]
    },
    {
     "name": "stderr",
     "output_type": "stream",
     "text": [
      "\n"
     ]
    },
    {
     "name": "stdout",
     "output_type": "stream",
     "text": [
      "\n",
      "      Epoch    GPU_mem   box_loss   cls_loss   dfl_loss  Instances       Size\n"
     ]
    },
    {
     "name": "stderr",
     "output_type": "stream",
     "text": [
      "    107/200      7.49G     0.8731      0.602      1.139         29        640: 100%|██████████| 57/57 [00:20<00:00,  2.82it/s]\n",
      "                 Class     Images  Instances      Box(P          R      mAP50  mAP50-95): 100%|██████████| 7/7 [00:06<00:00,  1.08it/s]"
     ]
    },
    {
     "name": "stdout",
     "output_type": "stream",
     "text": [
      "                   all        427        663      0.823      0.743      0.777       0.48\n"
     ]
    },
    {
     "name": "stderr",
     "output_type": "stream",
     "text": [
      "\n"
     ]
    },
    {
     "name": "stdout",
     "output_type": "stream",
     "text": [
      "\n",
      "      Epoch    GPU_mem   box_loss   cls_loss   dfl_loss  Instances       Size\n"
     ]
    },
    {
     "name": "stderr",
     "output_type": "stream",
     "text": [
      "    108/200      7.51G     0.8749     0.6075      1.138         17        640: 100%|██████████| 57/57 [00:20<00:00,  2.83it/s]\n",
      "                 Class     Images  Instances      Box(P          R      mAP50  mAP50-95): 100%|██████████| 7/7 [00:06<00:00,  1.07it/s]"
     ]
    },
    {
     "name": "stdout",
     "output_type": "stream",
     "text": [
      "                   all        427        663      0.857      0.715      0.797      0.489\n"
     ]
    },
    {
     "name": "stderr",
     "output_type": "stream",
     "text": [
      "\n"
     ]
    },
    {
     "name": "stdout",
     "output_type": "stream",
     "text": [
      "\n",
      "      Epoch    GPU_mem   box_loss   cls_loss   dfl_loss  Instances       Size\n"
     ]
    },
    {
     "name": "stderr",
     "output_type": "stream",
     "text": [
      "    109/200      7.49G     0.8577     0.6017      1.138         30        640: 100%|██████████| 57/57 [00:20<00:00,  2.83it/s]\n",
      "                 Class     Images  Instances      Box(P          R      mAP50  mAP50-95): 100%|██████████| 7/7 [00:06<00:00,  1.09it/s]"
     ]
    },
    {
     "name": "stdout",
     "output_type": "stream",
     "text": [
      "                   all        427        663      0.833      0.714      0.778      0.477\n"
     ]
    },
    {
     "name": "stderr",
     "output_type": "stream",
     "text": [
      "\n"
     ]
    },
    {
     "name": "stdout",
     "output_type": "stream",
     "text": [
      "\n",
      "      Epoch    GPU_mem   box_loss   cls_loss   dfl_loss  Instances       Size\n"
     ]
    },
    {
     "name": "stderr",
     "output_type": "stream",
     "text": [
      "    110/200      7.51G     0.8746     0.6076       1.14         37        640: 100%|██████████| 57/57 [00:20<00:00,  2.80it/s]\n",
      "                 Class     Images  Instances      Box(P          R      mAP50  mAP50-95): 100%|██████████| 7/7 [00:06<00:00,  1.09it/s]"
     ]
    },
    {
     "name": "stdout",
     "output_type": "stream",
     "text": [
      "                   all        427        663      0.781      0.765      0.792      0.489\n"
     ]
    },
    {
     "name": "stderr",
     "output_type": "stream",
     "text": [
      "\n"
     ]
    },
    {
     "name": "stdout",
     "output_type": "stream",
     "text": [
      "\n",
      "      Epoch    GPU_mem   box_loss   cls_loss   dfl_loss  Instances       Size\n"
     ]
    },
    {
     "name": "stderr",
     "output_type": "stream",
     "text": [
      "    111/200      7.49G     0.8405     0.5891      1.132         27        640: 100%|██████████| 57/57 [00:19<00:00,  2.85it/s]\n",
      "                 Class     Images  Instances      Box(P          R      mAP50  mAP50-95): 100%|██████████| 7/7 [00:06<00:00,  1.05it/s]"
     ]
    },
    {
     "name": "stdout",
     "output_type": "stream",
     "text": [
      "                   all        427        663      0.781      0.745      0.783      0.485\n"
     ]
    },
    {
     "name": "stderr",
     "output_type": "stream",
     "text": [
      "\n"
     ]
    },
    {
     "name": "stdout",
     "output_type": "stream",
     "text": [
      "\n",
      "      Epoch    GPU_mem   box_loss   cls_loss   dfl_loss  Instances       Size\n"
     ]
    },
    {
     "name": "stderr",
     "output_type": "stream",
     "text": [
      "    112/200      7.51G     0.8352     0.5816      1.126         24        640: 100%|██████████| 57/57 [00:20<00:00,  2.79it/s]\n",
      "                 Class     Images  Instances      Box(P          R      mAP50  mAP50-95): 100%|██████████| 7/7 [00:06<00:00,  1.14it/s]"
     ]
    },
    {
     "name": "stdout",
     "output_type": "stream",
     "text": [
      "                   all        427        663      0.848      0.705      0.774       0.48\n"
     ]
    },
    {
     "name": "stderr",
     "output_type": "stream",
     "text": [
      "\n"
     ]
    },
    {
     "name": "stdout",
     "output_type": "stream",
     "text": [
      "\n",
      "      Epoch    GPU_mem   box_loss   cls_loss   dfl_loss  Instances       Size\n"
     ]
    },
    {
     "name": "stderr",
     "output_type": "stream",
     "text": [
      "    113/200      7.49G     0.8485     0.5878      1.127         32        640: 100%|██████████| 57/57 [00:20<00:00,  2.82it/s]\n",
      "                 Class     Images  Instances      Box(P          R      mAP50  mAP50-95): 100%|██████████| 7/7 [00:06<00:00,  1.08it/s]"
     ]
    },
    {
     "name": "stdout",
     "output_type": "stream",
     "text": [
      "                   all        427        663       0.86      0.695      0.774      0.475\n"
     ]
    },
    {
     "name": "stderr",
     "output_type": "stream",
     "text": [
      "\n"
     ]
    },
    {
     "name": "stdout",
     "output_type": "stream",
     "text": [
      "\n",
      "      Epoch    GPU_mem   box_loss   cls_loss   dfl_loss  Instances       Size\n"
     ]
    },
    {
     "name": "stderr",
     "output_type": "stream",
     "text": [
      "    114/200      7.51G     0.8457     0.5992      1.133         23        640: 100%|██████████| 57/57 [00:20<00:00,  2.85it/s]\n",
      "                 Class     Images  Instances      Box(P          R      mAP50  mAP50-95): 100%|██████████| 7/7 [00:06<00:00,  1.05it/s]"
     ]
    },
    {
     "name": "stdout",
     "output_type": "stream",
     "text": [
      "                   all        427        663       0.87      0.732      0.798      0.481\n"
     ]
    },
    {
     "name": "stderr",
     "output_type": "stream",
     "text": [
      "\n"
     ]
    },
    {
     "name": "stdout",
     "output_type": "stream",
     "text": [
      "\n",
      "      Epoch    GPU_mem   box_loss   cls_loss   dfl_loss  Instances       Size\n"
     ]
    },
    {
     "name": "stderr",
     "output_type": "stream",
     "text": [
      "    115/200      7.49G     0.8263     0.5658      1.124         32        640: 100%|██████████| 57/57 [00:20<00:00,  2.83it/s]\n",
      "                 Class     Images  Instances      Box(P          R      mAP50  mAP50-95): 100%|██████████| 7/7 [00:06<00:00,  1.07it/s]"
     ]
    },
    {
     "name": "stdout",
     "output_type": "stream",
     "text": [
      "                   all        427        663      0.826      0.733      0.779      0.478\n"
     ]
    },
    {
     "name": "stderr",
     "output_type": "stream",
     "text": [
      "\n"
     ]
    },
    {
     "name": "stdout",
     "output_type": "stream",
     "text": [
      "\n",
      "      Epoch    GPU_mem   box_loss   cls_loss   dfl_loss  Instances       Size\n"
     ]
    },
    {
     "name": "stderr",
     "output_type": "stream",
     "text": [
      "    116/200       7.5G     0.8353      0.567      1.126         36        640: 100%|██████████| 57/57 [00:20<00:00,  2.80it/s]\n",
      "                 Class     Images  Instances      Box(P          R      mAP50  mAP50-95): 100%|██████████| 7/7 [00:06<00:00,  1.12it/s]"
     ]
    },
    {
     "name": "stdout",
     "output_type": "stream",
     "text": [
      "                   all        427        663      0.831      0.718       0.79      0.494\n"
     ]
    },
    {
     "name": "stderr",
     "output_type": "stream",
     "text": [
      "\n"
     ]
    },
    {
     "name": "stdout",
     "output_type": "stream",
     "text": [
      "\n",
      "      Epoch    GPU_mem   box_loss   cls_loss   dfl_loss  Instances       Size\n"
     ]
    },
    {
     "name": "stderr",
     "output_type": "stream",
     "text": [
      "    117/200      7.49G     0.8187     0.5621      1.106         27        640: 100%|██████████| 57/57 [00:20<00:00,  2.81it/s]\n",
      "                 Class     Images  Instances      Box(P          R      mAP50  mAP50-95): 100%|██████████| 7/7 [00:06<00:00,  1.08it/s]"
     ]
    },
    {
     "name": "stdout",
     "output_type": "stream",
     "text": [
      "                   all        427        663       0.86      0.708      0.783      0.485\n"
     ]
    },
    {
     "name": "stderr",
     "output_type": "stream",
     "text": [
      "\n"
     ]
    },
    {
     "name": "stdout",
     "output_type": "stream",
     "text": [
      "\n",
      "      Epoch    GPU_mem   box_loss   cls_loss   dfl_loss  Instances       Size\n"
     ]
    },
    {
     "name": "stderr",
     "output_type": "stream",
     "text": [
      "    118/200      7.51G     0.8176     0.5554      1.109         22        640: 100%|██████████| 57/57 [00:20<00:00,  2.83it/s]\n",
      "                 Class     Images  Instances      Box(P          R      mAP50  mAP50-95): 100%|██████████| 7/7 [00:06<00:00,  1.06it/s]"
     ]
    },
    {
     "name": "stdout",
     "output_type": "stream",
     "text": [
      "                   all        427        663      0.812      0.744      0.798      0.497\n"
     ]
    },
    {
     "name": "stderr",
     "output_type": "stream",
     "text": [
      "\n"
     ]
    },
    {
     "name": "stdout",
     "output_type": "stream",
     "text": [
      "\n",
      "      Epoch    GPU_mem   box_loss   cls_loss   dfl_loss  Instances       Size\n"
     ]
    },
    {
     "name": "stderr",
     "output_type": "stream",
     "text": [
      "    119/200      7.49G     0.8107     0.5509      1.111         23        640: 100%|██████████| 57/57 [00:20<00:00,  2.83it/s]\n",
      "                 Class     Images  Instances      Box(P          R      mAP50  mAP50-95): 100%|██████████| 7/7 [00:06<00:00,  1.07it/s]"
     ]
    },
    {
     "name": "stdout",
     "output_type": "stream",
     "text": [
      "                   all        427        663      0.864      0.719      0.794      0.494\n"
     ]
    },
    {
     "name": "stderr",
     "output_type": "stream",
     "text": [
      "\n"
     ]
    },
    {
     "name": "stdout",
     "output_type": "stream",
     "text": [
      "\n",
      "      Epoch    GPU_mem   box_loss   cls_loss   dfl_loss  Instances       Size\n"
     ]
    },
    {
     "name": "stderr",
     "output_type": "stream",
     "text": [
      "    120/200       7.5G       0.81      0.541      1.105         23        640: 100%|██████████| 57/57 [00:20<00:00,  2.80it/s]\n",
      "                 Class     Images  Instances      Box(P          R      mAP50  mAP50-95): 100%|██████████| 7/7 [00:06<00:00,  1.08it/s]"
     ]
    },
    {
     "name": "stdout",
     "output_type": "stream",
     "text": [
      "                   all        427        663      0.803       0.75      0.781      0.484\n"
     ]
    },
    {
     "name": "stderr",
     "output_type": "stream",
     "text": [
      "\n"
     ]
    },
    {
     "name": "stdout",
     "output_type": "stream",
     "text": [
      "\n",
      "      Epoch    GPU_mem   box_loss   cls_loss   dfl_loss  Instances       Size\n"
     ]
    },
    {
     "name": "stderr",
     "output_type": "stream",
     "text": [
      "    121/200      7.49G     0.8117     0.5574       1.11         26        640: 100%|██████████| 57/57 [00:20<00:00,  2.85it/s]\n",
      "                 Class     Images  Instances      Box(P          R      mAP50  mAP50-95): 100%|██████████| 7/7 [00:06<00:00,  1.05it/s]"
     ]
    },
    {
     "name": "stdout",
     "output_type": "stream",
     "text": [
      "                   all        427        663      0.864      0.715      0.785      0.485\n"
     ]
    },
    {
     "name": "stderr",
     "output_type": "stream",
     "text": [
      "\n"
     ]
    },
    {
     "name": "stdout",
     "output_type": "stream",
     "text": [
      "\n",
      "      Epoch    GPU_mem   box_loss   cls_loss   dfl_loss  Instances       Size\n"
     ]
    },
    {
     "name": "stderr",
     "output_type": "stream",
     "text": [
      "    122/200      7.51G       0.82     0.5451      1.111         27        640: 100%|██████████| 57/57 [00:19<00:00,  2.85it/s]\n",
      "                 Class     Images  Instances      Box(P          R      mAP50  mAP50-95): 100%|██████████| 7/7 [00:06<00:00,  1.06it/s]"
     ]
    },
    {
     "name": "stdout",
     "output_type": "stream",
     "text": [
      "                   all        427        663      0.841      0.725      0.792      0.493\n"
     ]
    },
    {
     "name": "stderr",
     "output_type": "stream",
     "text": [
      "\n"
     ]
    },
    {
     "name": "stdout",
     "output_type": "stream",
     "text": [
      "\n",
      "      Epoch    GPU_mem   box_loss   cls_loss   dfl_loss  Instances       Size\n"
     ]
    },
    {
     "name": "stderr",
     "output_type": "stream",
     "text": [
      "    123/200      7.49G       0.79      0.535       1.09         24        640: 100%|██████████| 57/57 [00:20<00:00,  2.83it/s]\n",
      "                 Class     Images  Instances      Box(P          R      mAP50  mAP50-95): 100%|██████████| 7/7 [00:06<00:00,  1.08it/s]"
     ]
    },
    {
     "name": "stdout",
     "output_type": "stream",
     "text": [
      "                   all        427        663      0.855      0.711       0.78      0.481\n"
     ]
    },
    {
     "name": "stderr",
     "output_type": "stream",
     "text": [
      "\n"
     ]
    },
    {
     "name": "stdout",
     "output_type": "stream",
     "text": [
      "\n",
      "      Epoch    GPU_mem   box_loss   cls_loss   dfl_loss  Instances       Size\n"
     ]
    },
    {
     "name": "stderr",
     "output_type": "stream",
     "text": [
      "    124/200      7.51G     0.8035     0.5478      1.109         32        640: 100%|██████████| 57/57 [00:20<00:00,  2.82it/s]\n",
      "                 Class     Images  Instances      Box(P          R      mAP50  mAP50-95): 100%|██████████| 7/7 [00:06<00:00,  1.07it/s]"
     ]
    },
    {
     "name": "stdout",
     "output_type": "stream",
     "text": [
      "                   all        427        663      0.894      0.705      0.802      0.503\n"
     ]
    },
    {
     "name": "stderr",
     "output_type": "stream",
     "text": [
      "\n"
     ]
    },
    {
     "name": "stdout",
     "output_type": "stream",
     "text": [
      "\n",
      "      Epoch    GPU_mem   box_loss   cls_loss   dfl_loss  Instances       Size\n"
     ]
    },
    {
     "name": "stderr",
     "output_type": "stream",
     "text": [
      "    125/200      7.49G     0.7913     0.5301      1.088         25        640: 100%|██████████| 57/57 [00:20<00:00,  2.78it/s]\n",
      "                 Class     Images  Instances      Box(P          R      mAP50  mAP50-95): 100%|██████████| 7/7 [00:06<00:00,  1.13it/s]"
     ]
    },
    {
     "name": "stdout",
     "output_type": "stream",
     "text": [
      "                   all        427        663       0.86      0.734      0.804      0.492\n"
     ]
    },
    {
     "name": "stderr",
     "output_type": "stream",
     "text": [
      "\n"
     ]
    },
    {
     "name": "stdout",
     "output_type": "stream",
     "text": [
      "\n",
      "      Epoch    GPU_mem   box_loss   cls_loss   dfl_loss  Instances       Size\n"
     ]
    },
    {
     "name": "stderr",
     "output_type": "stream",
     "text": [
      "    126/200      7.51G     0.7898     0.5326      1.092         20        640: 100%|██████████| 57/57 [00:20<00:00,  2.82it/s]\n",
      "                 Class     Images  Instances      Box(P          R      mAP50  mAP50-95): 100%|██████████| 7/7 [00:06<00:00,  1.09it/s]"
     ]
    },
    {
     "name": "stdout",
     "output_type": "stream",
     "text": [
      "                   all        427        663      0.842      0.731      0.785      0.491\n"
     ]
    },
    {
     "name": "stderr",
     "output_type": "stream",
     "text": [
      "\n"
     ]
    },
    {
     "name": "stdout",
     "output_type": "stream",
     "text": [
      "\n",
      "      Epoch    GPU_mem   box_loss   cls_loss   dfl_loss  Instances       Size\n"
     ]
    },
    {
     "name": "stderr",
     "output_type": "stream",
     "text": [
      "    127/200      7.49G     0.7997     0.5527      1.101         33        640: 100%|██████████| 57/57 [00:20<00:00,  2.84it/s]\n",
      "                 Class     Images  Instances      Box(P          R      mAP50  mAP50-95): 100%|██████████| 7/7 [00:06<00:00,  1.04it/s]"
     ]
    },
    {
     "name": "stdout",
     "output_type": "stream",
     "text": [
      "                   all        427        663      0.814      0.724      0.785      0.481\n"
     ]
    },
    {
     "name": "stderr",
     "output_type": "stream",
     "text": [
      "\n"
     ]
    },
    {
     "name": "stdout",
     "output_type": "stream",
     "text": [
      "\n",
      "      Epoch    GPU_mem   box_loss   cls_loss   dfl_loss  Instances       Size\n"
     ]
    },
    {
     "name": "stderr",
     "output_type": "stream",
     "text": [
      "    128/200      7.51G     0.8048     0.5327      1.098         28        640: 100%|██████████| 57/57 [00:19<00:00,  2.88it/s]\n",
      "                 Class     Images  Instances      Box(P          R      mAP50  mAP50-95): 100%|██████████| 7/7 [00:06<00:00,  1.03it/s]"
     ]
    },
    {
     "name": "stdout",
     "output_type": "stream",
     "text": [
      "                   all        427        663       0.85      0.688      0.782      0.483\n"
     ]
    },
    {
     "name": "stderr",
     "output_type": "stream",
     "text": [
      "\n"
     ]
    },
    {
     "name": "stdout",
     "output_type": "stream",
     "text": [
      "\n",
      "      Epoch    GPU_mem   box_loss   cls_loss   dfl_loss  Instances       Size\n"
     ]
    },
    {
     "name": "stderr",
     "output_type": "stream",
     "text": [
      "    129/200      7.49G     0.7786     0.5355       1.09         31        640: 100%|██████████| 57/57 [00:20<00:00,  2.81it/s]\n",
      "                 Class     Images  Instances      Box(P          R      mAP50  mAP50-95): 100%|██████████| 7/7 [00:06<00:00,  1.09it/s]"
     ]
    },
    {
     "name": "stdout",
     "output_type": "stream",
     "text": [
      "                   all        427        663      0.848      0.711      0.787       0.49\n"
     ]
    },
    {
     "name": "stderr",
     "output_type": "stream",
     "text": [
      "\n"
     ]
    },
    {
     "name": "stdout",
     "output_type": "stream",
     "text": [
      "\n",
      "      Epoch    GPU_mem   box_loss   cls_loss   dfl_loss  Instances       Size\n"
     ]
    },
    {
     "name": "stderr",
     "output_type": "stream",
     "text": [
      "    130/200      7.51G     0.7933     0.5472      1.104         32        640: 100%|██████████| 57/57 [00:20<00:00,  2.85it/s]\n",
      "                 Class     Images  Instances      Box(P          R      mAP50  mAP50-95): 100%|██████████| 7/7 [00:06<00:00,  1.07it/s]"
     ]
    },
    {
     "name": "stdout",
     "output_type": "stream",
     "text": [
      "                   all        427        663      0.876      0.731      0.807      0.502\n"
     ]
    },
    {
     "name": "stderr",
     "output_type": "stream",
     "text": [
      "\n"
     ]
    },
    {
     "name": "stdout",
     "output_type": "stream",
     "text": [
      "\n",
      "      Epoch    GPU_mem   box_loss   cls_loss   dfl_loss  Instances       Size\n"
     ]
    },
    {
     "name": "stderr",
     "output_type": "stream",
     "text": [
      "    131/200      7.49G     0.7883     0.5277      1.099         26        640: 100%|██████████| 57/57 [00:20<00:00,  2.82it/s]\n",
      "                 Class     Images  Instances      Box(P          R      mAP50  mAP50-95): 100%|██████████| 7/7 [00:06<00:00,  1.10it/s]"
     ]
    },
    {
     "name": "stdout",
     "output_type": "stream",
     "text": [
      "                   all        427        663      0.865      0.716      0.783      0.489\n"
     ]
    },
    {
     "name": "stderr",
     "output_type": "stream",
     "text": [
      "\n"
     ]
    },
    {
     "name": "stdout",
     "output_type": "stream",
     "text": [
      "\n",
      "      Epoch    GPU_mem   box_loss   cls_loss   dfl_loss  Instances       Size\n"
     ]
    },
    {
     "name": "stderr",
     "output_type": "stream",
     "text": [
      "    132/200      7.51G     0.7754     0.5261      1.095         28        640: 100%|██████████| 57/57 [00:19<00:00,  2.86it/s]\n",
      "                 Class     Images  Instances      Box(P          R      mAP50  mAP50-95): 100%|██████████| 7/7 [00:06<00:00,  1.05it/s]"
     ]
    },
    {
     "name": "stdout",
     "output_type": "stream",
     "text": [
      "                   all        427        663      0.825       0.73      0.795       0.49\n"
     ]
    },
    {
     "name": "stderr",
     "output_type": "stream",
     "text": [
      "\n"
     ]
    },
    {
     "name": "stdout",
     "output_type": "stream",
     "text": [
      "\n",
      "      Epoch    GPU_mem   box_loss   cls_loss   dfl_loss  Instances       Size\n"
     ]
    },
    {
     "name": "stderr",
     "output_type": "stream",
     "text": [
      "    133/200      7.49G     0.7673     0.5175      1.082         33        640: 100%|██████████| 57/57 [00:19<00:00,  2.86it/s]\n",
      "                 Class     Images  Instances      Box(P          R      mAP50  mAP50-95): 100%|██████████| 7/7 [00:06<00:00,  1.05it/s]"
     ]
    },
    {
     "name": "stdout",
     "output_type": "stream",
     "text": [
      "                   all        427        663       0.84      0.718       0.79      0.481\n"
     ]
    },
    {
     "name": "stderr",
     "output_type": "stream",
     "text": [
      "\n"
     ]
    },
    {
     "name": "stdout",
     "output_type": "stream",
     "text": [
      "\n",
      "      Epoch    GPU_mem   box_loss   cls_loss   dfl_loss  Instances       Size\n"
     ]
    },
    {
     "name": "stderr",
     "output_type": "stream",
     "text": [
      "    134/200      7.51G     0.7627      0.515      1.079         30        640: 100%|██████████| 57/57 [00:20<00:00,  2.85it/s]\n",
      "                 Class     Images  Instances      Box(P          R      mAP50  mAP50-95): 100%|██████████| 7/7 [00:06<00:00,  1.05it/s]"
     ]
    },
    {
     "name": "stdout",
     "output_type": "stream",
     "text": [
      "                   all        427        663      0.877      0.705      0.796      0.489\n"
     ]
    },
    {
     "name": "stderr",
     "output_type": "stream",
     "text": [
      "\n"
     ]
    },
    {
     "name": "stdout",
     "output_type": "stream",
     "text": [
      "\n",
      "      Epoch    GPU_mem   box_loss   cls_loss   dfl_loss  Instances       Size\n"
     ]
    },
    {
     "name": "stderr",
     "output_type": "stream",
     "text": [
      "    135/200      7.49G     0.7508     0.5179      1.076         34        640: 100%|██████████| 57/57 [00:20<00:00,  2.83it/s]\n",
      "                 Class     Images  Instances      Box(P          R      mAP50  mAP50-95): 100%|██████████| 7/7 [00:06<00:00,  1.08it/s]"
     ]
    },
    {
     "name": "stdout",
     "output_type": "stream",
     "text": [
      "                   all        427        663       0.87       0.72      0.795       0.49\n"
     ]
    },
    {
     "name": "stderr",
     "output_type": "stream",
     "text": [
      "\n"
     ]
    },
    {
     "name": "stdout",
     "output_type": "stream",
     "text": [
      "\n",
      "      Epoch    GPU_mem   box_loss   cls_loss   dfl_loss  Instances       Size\n"
     ]
    },
    {
     "name": "stderr",
     "output_type": "stream",
     "text": [
      "    136/200      7.51G     0.7428     0.5034      1.069         23        640: 100%|██████████| 57/57 [00:19<00:00,  2.85it/s]\n",
      "                 Class     Images  Instances      Box(P          R      mAP50  mAP50-95): 100%|██████████| 7/7 [00:06<00:00,  1.04it/s]"
     ]
    },
    {
     "name": "stdout",
     "output_type": "stream",
     "text": [
      "                   all        427        663      0.865      0.737       0.81      0.504\n"
     ]
    },
    {
     "name": "stderr",
     "output_type": "stream",
     "text": [
      "\n"
     ]
    },
    {
     "name": "stdout",
     "output_type": "stream",
     "text": [
      "\n",
      "      Epoch    GPU_mem   box_loss   cls_loss   dfl_loss  Instances       Size\n"
     ]
    },
    {
     "name": "stderr",
     "output_type": "stream",
     "text": [
      "    137/200      7.49G     0.7507     0.4958      1.074         28        640: 100%|██████████| 57/57 [00:20<00:00,  2.83it/s]\n",
      "                 Class     Images  Instances      Box(P          R      mAP50  mAP50-95): 100%|██████████| 7/7 [00:06<00:00,  1.09it/s]"
     ]
    },
    {
     "name": "stdout",
     "output_type": "stream",
     "text": [
      "                   all        427        663      0.817      0.732      0.787      0.489\n"
     ]
    },
    {
     "name": "stderr",
     "output_type": "stream",
     "text": [
      "\n"
     ]
    },
    {
     "name": "stdout",
     "output_type": "stream",
     "text": [
      "\n",
      "      Epoch    GPU_mem   box_loss   cls_loss   dfl_loss  Instances       Size\n"
     ]
    },
    {
     "name": "stderr",
     "output_type": "stream",
     "text": [
      "    138/200      7.51G     0.7492     0.4977      1.068         33        640: 100%|██████████| 57/57 [00:20<00:00,  2.77it/s]\n",
      "                 Class     Images  Instances      Box(P          R      mAP50  mAP50-95): 100%|██████████| 7/7 [00:06<00:00,  1.16it/s]"
     ]
    },
    {
     "name": "stdout",
     "output_type": "stream",
     "text": [
      "                   all        427        663      0.858       0.73      0.797      0.498\n"
     ]
    },
    {
     "name": "stderr",
     "output_type": "stream",
     "text": [
      "\n"
     ]
    },
    {
     "name": "stdout",
     "output_type": "stream",
     "text": [
      "\n",
      "      Epoch    GPU_mem   box_loss   cls_loss   dfl_loss  Instances       Size\n"
     ]
    },
    {
     "name": "stderr",
     "output_type": "stream",
     "text": [
      "    139/200      7.49G     0.7353     0.4919      1.066         30        640: 100%|██████████| 57/57 [00:20<00:00,  2.84it/s]\n",
      "                 Class     Images  Instances      Box(P          R      mAP50  mAP50-95): 100%|██████████| 7/7 [00:06<00:00,  1.08it/s]"
     ]
    },
    {
     "name": "stdout",
     "output_type": "stream",
     "text": [
      "                   all        427        663      0.866      0.719      0.794      0.485\n"
     ]
    },
    {
     "name": "stderr",
     "output_type": "stream",
     "text": [
      "\n"
     ]
    },
    {
     "name": "stdout",
     "output_type": "stream",
     "text": [
      "\n",
      "      Epoch    GPU_mem   box_loss   cls_loss   dfl_loss  Instances       Size\n"
     ]
    },
    {
     "name": "stderr",
     "output_type": "stream",
     "text": [
      "    140/200      7.51G     0.7632     0.5044      1.071         26        640: 100%|██████████| 57/57 [00:20<00:00,  2.79it/s]\n",
      "                 Class     Images  Instances      Box(P          R      mAP50  mAP50-95): 100%|██████████| 7/7 [00:06<00:00,  1.07it/s]"
     ]
    },
    {
     "name": "stdout",
     "output_type": "stream",
     "text": [
      "                   all        427        663      0.823      0.737      0.791      0.496\n"
     ]
    },
    {
     "name": "stderr",
     "output_type": "stream",
     "text": [
      "\n"
     ]
    },
    {
     "name": "stdout",
     "output_type": "stream",
     "text": [
      "\n",
      "      Epoch    GPU_mem   box_loss   cls_loss   dfl_loss  Instances       Size\n"
     ]
    },
    {
     "name": "stderr",
     "output_type": "stream",
     "text": [
      "    141/200      7.49G     0.7431     0.4872       1.07         30        640: 100%|██████████| 57/57 [00:20<00:00,  2.83it/s]\n",
      "                 Class     Images  Instances      Box(P          R      mAP50  mAP50-95): 100%|██████████| 7/7 [00:06<00:00,  1.08it/s]"
     ]
    },
    {
     "name": "stdout",
     "output_type": "stream",
     "text": [
      "                   all        427        663      0.873      0.696      0.785      0.487\n"
     ]
    },
    {
     "name": "stderr",
     "output_type": "stream",
     "text": [
      "\n"
     ]
    },
    {
     "name": "stdout",
     "output_type": "stream",
     "text": [
      "\n",
      "      Epoch    GPU_mem   box_loss   cls_loss   dfl_loss  Instances       Size\n"
     ]
    },
    {
     "name": "stderr",
     "output_type": "stream",
     "text": [
      "    142/200      7.51G     0.7354     0.4994       1.07         32        640: 100%|██████████| 57/57 [00:20<00:00,  2.79it/s]\n",
      "                 Class     Images  Instances      Box(P          R      mAP50  mAP50-95): 100%|██████████| 7/7 [00:06<00:00,  1.09it/s]"
     ]
    },
    {
     "name": "stdout",
     "output_type": "stream",
     "text": [
      "                   all        427        663      0.864      0.739      0.805       0.51\n"
     ]
    },
    {
     "name": "stderr",
     "output_type": "stream",
     "text": [
      "\n"
     ]
    },
    {
     "name": "stdout",
     "output_type": "stream",
     "text": [
      "\n",
      "      Epoch    GPU_mem   box_loss   cls_loss   dfl_loss  Instances       Size\n"
     ]
    },
    {
     "name": "stderr",
     "output_type": "stream",
     "text": [
      "    143/200      7.49G     0.7356     0.5027      1.071         28        640: 100%|██████████| 57/57 [00:19<00:00,  2.85it/s]\n",
      "                 Class     Images  Instances      Box(P          R      mAP50  mAP50-95): 100%|██████████| 7/7 [00:06<00:00,  1.05it/s]"
     ]
    },
    {
     "name": "stdout",
     "output_type": "stream",
     "text": [
      "                   all        427        663      0.859      0.719      0.787      0.495\n"
     ]
    },
    {
     "name": "stderr",
     "output_type": "stream",
     "text": [
      "\n"
     ]
    },
    {
     "name": "stdout",
     "output_type": "stream",
     "text": [
      "\n",
      "      Epoch    GPU_mem   box_loss   cls_loss   dfl_loss  Instances       Size\n"
     ]
    },
    {
     "name": "stderr",
     "output_type": "stream",
     "text": [
      "    144/200       7.5G     0.7431     0.4992      1.072         28        640: 100%|██████████| 57/57 [00:20<00:00,  2.83it/s]\n",
      "                 Class     Images  Instances      Box(P          R      mAP50  mAP50-95): 100%|██████████| 7/7 [00:06<00:00,  1.07it/s]"
     ]
    },
    {
     "name": "stdout",
     "output_type": "stream",
     "text": [
      "                   all        427        663      0.871       0.72      0.786      0.493\n"
     ]
    },
    {
     "name": "stderr",
     "output_type": "stream",
     "text": [
      "\n"
     ]
    },
    {
     "name": "stdout",
     "output_type": "stream",
     "text": [
      "\n",
      "      Epoch    GPU_mem   box_loss   cls_loss   dfl_loss  Instances       Size\n"
     ]
    },
    {
     "name": "stderr",
     "output_type": "stream",
     "text": [
      "    145/200      7.49G     0.7359      0.496      1.072         22        640: 100%|██████████| 57/57 [00:19<00:00,  2.88it/s]\n",
      "                 Class     Images  Instances      Box(P          R      mAP50  mAP50-95): 100%|██████████| 7/7 [00:06<00:00,  1.02it/s]"
     ]
    },
    {
     "name": "stdout",
     "output_type": "stream",
     "text": [
      "                   all        427        663      0.888      0.719      0.797      0.497\n"
     ]
    },
    {
     "name": "stderr",
     "output_type": "stream",
     "text": [
      "\n"
     ]
    },
    {
     "name": "stdout",
     "output_type": "stream",
     "text": [
      "\n",
      "      Epoch    GPU_mem   box_loss   cls_loss   dfl_loss  Instances       Size\n"
     ]
    },
    {
     "name": "stderr",
     "output_type": "stream",
     "text": [
      "    146/200      7.51G     0.7305     0.4913      1.065         29        640: 100%|██████████| 57/57 [00:20<00:00,  2.80it/s]\n",
      "                 Class     Images  Instances      Box(P          R      mAP50  mAP50-95): 100%|██████████| 7/7 [00:06<00:00,  1.10it/s]"
     ]
    },
    {
     "name": "stdout",
     "output_type": "stream",
     "text": [
      "                   all        427        663      0.879      0.716      0.795      0.498\n"
     ]
    },
    {
     "name": "stderr",
     "output_type": "stream",
     "text": [
      "\n"
     ]
    },
    {
     "name": "stdout",
     "output_type": "stream",
     "text": [
      "\n",
      "      Epoch    GPU_mem   box_loss   cls_loss   dfl_loss  Instances       Size\n"
     ]
    },
    {
     "name": "stderr",
     "output_type": "stream",
     "text": [
      "    147/200      7.49G     0.7092     0.4788      1.056         34        640: 100%|██████████| 57/57 [00:20<00:00,  2.84it/s]\n",
      "                 Class     Images  Instances      Box(P          R      mAP50  mAP50-95): 100%|██████████| 7/7 [00:06<00:00,  1.05it/s]"
     ]
    },
    {
     "name": "stdout",
     "output_type": "stream",
     "text": [
      "                   all        427        663      0.889      0.712      0.799      0.495\n"
     ]
    },
    {
     "name": "stderr",
     "output_type": "stream",
     "text": [
      "\n"
     ]
    },
    {
     "name": "stdout",
     "output_type": "stream",
     "text": [
      "\n",
      "      Epoch    GPU_mem   box_loss   cls_loss   dfl_loss  Instances       Size\n"
     ]
    },
    {
     "name": "stderr",
     "output_type": "stream",
     "text": [
      "    148/200      7.51G     0.7043     0.4648       1.05         33        640: 100%|██████████| 57/57 [00:20<00:00,  2.79it/s]\n",
      "                 Class     Images  Instances      Box(P          R      mAP50  mAP50-95): 100%|██████████| 7/7 [00:06<00:00,  1.11it/s]"
     ]
    },
    {
     "name": "stdout",
     "output_type": "stream",
     "text": [
      "                   all        427        663      0.873      0.716        0.8      0.505\n"
     ]
    },
    {
     "name": "stderr",
     "output_type": "stream",
     "text": [
      "\n"
     ]
    },
    {
     "name": "stdout",
     "output_type": "stream",
     "text": [
      "\n",
      "      Epoch    GPU_mem   box_loss   cls_loss   dfl_loss  Instances       Size\n"
     ]
    },
    {
     "name": "stderr",
     "output_type": "stream",
     "text": [
      "    149/200      7.49G     0.7394     0.4944      1.064         38        640: 100%|██████████| 57/57 [00:20<00:00,  2.84it/s]\n",
      "                 Class     Images  Instances      Box(P          R      mAP50  mAP50-95): 100%|██████████| 7/7 [00:06<00:00,  1.08it/s]"
     ]
    },
    {
     "name": "stdout",
     "output_type": "stream",
     "text": [
      "                   all        427        663      0.847      0.734      0.799      0.501\n"
     ]
    },
    {
     "name": "stderr",
     "output_type": "stream",
     "text": [
      "\n"
     ]
    },
    {
     "name": "stdout",
     "output_type": "stream",
     "text": [
      "\n",
      "      Epoch    GPU_mem   box_loss   cls_loss   dfl_loss  Instances       Size\n"
     ]
    },
    {
     "name": "stderr",
     "output_type": "stream",
     "text": [
      "    150/200       7.5G     0.7098     0.4683       1.05         21        640: 100%|██████████| 57/57 [00:20<00:00,  2.82it/s]\n",
      "                 Class     Images  Instances      Box(P          R      mAP50  mAP50-95): 100%|██████████| 7/7 [00:06<00:00,  1.09it/s]"
     ]
    },
    {
     "name": "stdout",
     "output_type": "stream",
     "text": [
      "                   all        427        663      0.855      0.748      0.811      0.501\n"
     ]
    },
    {
     "name": "stderr",
     "output_type": "stream",
     "text": [
      "\n"
     ]
    },
    {
     "name": "stdout",
     "output_type": "stream",
     "text": [
      "\n",
      "      Epoch    GPU_mem   box_loss   cls_loss   dfl_loss  Instances       Size\n"
     ]
    },
    {
     "name": "stderr",
     "output_type": "stream",
     "text": [
      "    151/200      7.49G     0.7095     0.4743      1.054         17        640: 100%|██████████| 57/57 [00:20<00:00,  2.85it/s]\n",
      "                 Class     Images  Instances      Box(P          R      mAP50  mAP50-95): 100%|██████████| 7/7 [00:06<00:00,  1.06it/s]"
     ]
    },
    {
     "name": "stdout",
     "output_type": "stream",
     "text": [
      "                   all        427        663      0.883      0.736      0.798      0.505\n"
     ]
    },
    {
     "name": "stderr",
     "output_type": "stream",
     "text": [
      "\n"
     ]
    },
    {
     "name": "stdout",
     "output_type": "stream",
     "text": [
      "\n",
      "      Epoch    GPU_mem   box_loss   cls_loss   dfl_loss  Instances       Size\n"
     ]
    },
    {
     "name": "stderr",
     "output_type": "stream",
     "text": [
      "    152/200      7.51G     0.7104     0.4669      1.053         35        640: 100%|██████████| 57/57 [00:19<00:00,  2.85it/s]\n",
      "                 Class     Images  Instances      Box(P          R      mAP50  mAP50-95): 100%|██████████| 7/7 [00:06<00:00,  1.06it/s]"
     ]
    },
    {
     "name": "stdout",
     "output_type": "stream",
     "text": [
      "                   all        427        663      0.854      0.748      0.801      0.495\n"
     ]
    },
    {
     "name": "stderr",
     "output_type": "stream",
     "text": [
      "\n"
     ]
    },
    {
     "name": "stdout",
     "output_type": "stream",
     "text": [
      "\n",
      "      Epoch    GPU_mem   box_loss   cls_loss   dfl_loss  Instances       Size\n"
     ]
    },
    {
     "name": "stderr",
     "output_type": "stream",
     "text": [
      "    153/200      7.49G     0.7043     0.4734      1.045         37        640: 100%|██████████| 57/57 [00:20<00:00,  2.81it/s]\n",
      "                 Class     Images  Instances      Box(P          R      mAP50  mAP50-95): 100%|██████████| 7/7 [00:06<00:00,  1.11it/s]"
     ]
    },
    {
     "name": "stdout",
     "output_type": "stream",
     "text": [
      "                   all        427        663      0.883      0.746      0.806       0.51\n"
     ]
    },
    {
     "name": "stderr",
     "output_type": "stream",
     "text": [
      "\n"
     ]
    },
    {
     "name": "stdout",
     "output_type": "stream",
     "text": [
      "\n",
      "      Epoch    GPU_mem   box_loss   cls_loss   dfl_loss  Instances       Size\n"
     ]
    },
    {
     "name": "stderr",
     "output_type": "stream",
     "text": [
      "    154/200      7.51G     0.7009     0.4615      1.043         18        640: 100%|██████████| 57/57 [00:20<00:00,  2.82it/s]\n",
      "                 Class     Images  Instances      Box(P          R      mAP50  mAP50-95): 100%|██████████| 7/7 [00:06<00:00,  1.09it/s]"
     ]
    },
    {
     "name": "stdout",
     "output_type": "stream",
     "text": [
      "                   all        427        663      0.876      0.717      0.795      0.497\n"
     ]
    },
    {
     "name": "stderr",
     "output_type": "stream",
     "text": [
      "\n"
     ]
    },
    {
     "name": "stdout",
     "output_type": "stream",
     "text": [
      "\n",
      "      Epoch    GPU_mem   box_loss   cls_loss   dfl_loss  Instances       Size\n"
     ]
    },
    {
     "name": "stderr",
     "output_type": "stream",
     "text": [
      "    155/200      7.49G     0.7093     0.4704      1.053         19        640: 100%|██████████| 57/57 [00:19<00:00,  2.86it/s]\n",
      "                 Class     Images  Instances      Box(P          R      mAP50  mAP50-95): 100%|██████████| 7/7 [00:06<00:00,  1.06it/s]"
     ]
    },
    {
     "name": "stdout",
     "output_type": "stream",
     "text": [
      "                   all        427        663      0.859      0.722      0.796      0.501\n"
     ]
    },
    {
     "name": "stderr",
     "output_type": "stream",
     "text": [
      "\n"
     ]
    },
    {
     "name": "stdout",
     "output_type": "stream",
     "text": [
      "\n",
      "      Epoch    GPU_mem   box_loss   cls_loss   dfl_loss  Instances       Size\n"
     ]
    },
    {
     "name": "stderr",
     "output_type": "stream",
     "text": [
      "    156/200      7.51G     0.6969     0.4643      1.047         52        640: 100%|██████████| 57/57 [00:20<00:00,  2.84it/s]\n",
      "                 Class     Images  Instances      Box(P          R      mAP50  mAP50-95): 100%|██████████| 7/7 [00:06<00:00,  1.07it/s]"
     ]
    },
    {
     "name": "stdout",
     "output_type": "stream",
     "text": [
      "                   all        427        663      0.869      0.734      0.802        0.5\n"
     ]
    },
    {
     "name": "stderr",
     "output_type": "stream",
     "text": [
      "\n"
     ]
    },
    {
     "name": "stdout",
     "output_type": "stream",
     "text": [
      "\n",
      "      Epoch    GPU_mem   box_loss   cls_loss   dfl_loss  Instances       Size\n"
     ]
    },
    {
     "name": "stderr",
     "output_type": "stream",
     "text": [
      "    157/200      7.49G     0.6882     0.4507      1.041         20        640: 100%|██████████| 57/57 [00:20<00:00,  2.81it/s]\n",
      "                 Class     Images  Instances      Box(P          R      mAP50  mAP50-95): 100%|██████████| 7/7 [00:06<00:00,  1.11it/s]"
     ]
    },
    {
     "name": "stdout",
     "output_type": "stream",
     "text": [
      "                   all        427        663       0.88      0.732      0.805      0.499\n"
     ]
    },
    {
     "name": "stderr",
     "output_type": "stream",
     "text": [
      "\n"
     ]
    },
    {
     "name": "stdout",
     "output_type": "stream",
     "text": [
      "\n",
      "      Epoch    GPU_mem   box_loss   cls_loss   dfl_loss  Instances       Size\n"
     ]
    },
    {
     "name": "stderr",
     "output_type": "stream",
     "text": [
      "    158/200      7.51G     0.6868     0.4591      1.048         23        640: 100%|██████████| 57/57 [00:19<00:00,  2.88it/s]\n",
      "                 Class     Images  Instances      Box(P          R      mAP50  mAP50-95): 100%|██████████| 7/7 [00:06<00:00,  1.06it/s]"
     ]
    },
    {
     "name": "stdout",
     "output_type": "stream",
     "text": [
      "                   all        427        663      0.905      0.715       0.81      0.506\n"
     ]
    },
    {
     "name": "stderr",
     "output_type": "stream",
     "text": [
      "\n"
     ]
    },
    {
     "name": "stdout",
     "output_type": "stream",
     "text": [
      "\n",
      "      Epoch    GPU_mem   box_loss   cls_loss   dfl_loss  Instances       Size\n"
     ]
    },
    {
     "name": "stderr",
     "output_type": "stream",
     "text": [
      "    159/200      7.49G     0.6926     0.4652      1.044         35        640: 100%|██████████| 57/57 [00:20<00:00,  2.82it/s]\n",
      "                 Class     Images  Instances      Box(P          R      mAP50  mAP50-95): 100%|██████████| 7/7 [00:06<00:00,  1.08it/s]"
     ]
    },
    {
     "name": "stdout",
     "output_type": "stream",
     "text": [
      "                   all        427        663      0.854      0.749      0.807        0.5\n"
     ]
    },
    {
     "name": "stderr",
     "output_type": "stream",
     "text": [
      "\n"
     ]
    },
    {
     "name": "stdout",
     "output_type": "stream",
     "text": [
      "\n",
      "      Epoch    GPU_mem   box_loss   cls_loss   dfl_loss  Instances       Size\n"
     ]
    },
    {
     "name": "stderr",
     "output_type": "stream",
     "text": [
      "    160/200      7.51G     0.6832     0.4565       1.04         24        640: 100%|██████████| 57/57 [00:20<00:00,  2.80it/s]\n",
      "                 Class     Images  Instances      Box(P          R      mAP50  mAP50-95): 100%|██████████| 7/7 [00:06<00:00,  1.11it/s]"
     ]
    },
    {
     "name": "stdout",
     "output_type": "stream",
     "text": [
      "                   all        427        663      0.884      0.736      0.813      0.507\n"
     ]
    },
    {
     "name": "stderr",
     "output_type": "stream",
     "text": [
      "\n"
     ]
    },
    {
     "name": "stdout",
     "output_type": "stream",
     "text": [
      "\n",
      "      Epoch    GPU_mem   box_loss   cls_loss   dfl_loss  Instances       Size\n"
     ]
    },
    {
     "name": "stderr",
     "output_type": "stream",
     "text": [
      "    161/200      7.49G     0.6752     0.4453      1.035         24        640: 100%|██████████| 57/57 [00:20<00:00,  2.81it/s]\n",
      "                 Class     Images  Instances      Box(P          R      mAP50  mAP50-95): 100%|██████████| 7/7 [00:06<00:00,  1.11it/s]"
     ]
    },
    {
     "name": "stdout",
     "output_type": "stream",
     "text": [
      "                   all        427        663      0.848      0.743      0.808      0.514\n"
     ]
    },
    {
     "name": "stderr",
     "output_type": "stream",
     "text": [
      "\n"
     ]
    },
    {
     "name": "stdout",
     "output_type": "stream",
     "text": [
      "\n",
      "      Epoch    GPU_mem   box_loss   cls_loss   dfl_loss  Instances       Size\n"
     ]
    },
    {
     "name": "stderr",
     "output_type": "stream",
     "text": [
      "    162/200      7.51G     0.6876     0.4522      1.036         29        640: 100%|██████████| 57/57 [00:20<00:00,  2.77it/s]\n",
      "                 Class     Images  Instances      Box(P          R      mAP50  mAP50-95): 100%|██████████| 7/7 [00:06<00:00,  1.13it/s]"
     ]
    },
    {
     "name": "stdout",
     "output_type": "stream",
     "text": [
      "                   all        427        663      0.889      0.727      0.815      0.501\n"
     ]
    },
    {
     "name": "stderr",
     "output_type": "stream",
     "text": [
      "\n"
     ]
    },
    {
     "name": "stdout",
     "output_type": "stream",
     "text": [
      "\n",
      "      Epoch    GPU_mem   box_loss   cls_loss   dfl_loss  Instances       Size\n"
     ]
    },
    {
     "name": "stderr",
     "output_type": "stream",
     "text": [
      "    163/200      7.49G     0.6607     0.4385      1.027         36        640: 100%|██████████| 57/57 [00:19<00:00,  2.86it/s]\n",
      "                 Class     Images  Instances      Box(P          R      mAP50  mAP50-95): 100%|██████████| 7/7 [00:06<00:00,  1.06it/s]"
     ]
    },
    {
     "name": "stdout",
     "output_type": "stream",
     "text": [
      "                   all        427        663      0.871      0.727      0.807      0.496\n"
     ]
    },
    {
     "name": "stderr",
     "output_type": "stream",
     "text": [
      "\n"
     ]
    },
    {
     "name": "stdout",
     "output_type": "stream",
     "text": [
      "\n",
      "      Epoch    GPU_mem   box_loss   cls_loss   dfl_loss  Instances       Size\n"
     ]
    },
    {
     "name": "stderr",
     "output_type": "stream",
     "text": [
      "    164/200      7.51G     0.6718     0.4493       1.04         16        640: 100%|██████████| 57/57 [00:20<00:00,  2.83it/s]\n",
      "                 Class     Images  Instances      Box(P          R      mAP50  mAP50-95): 100%|██████████| 7/7 [00:06<00:00,  1.09it/s]"
     ]
    },
    {
     "name": "stdout",
     "output_type": "stream",
     "text": [
      "                   all        427        663      0.906      0.705      0.796       0.49\n"
     ]
    },
    {
     "name": "stderr",
     "output_type": "stream",
     "text": [
      "\n"
     ]
    },
    {
     "name": "stdout",
     "output_type": "stream",
     "text": [
      "\n",
      "      Epoch    GPU_mem   box_loss   cls_loss   dfl_loss  Instances       Size\n"
     ]
    },
    {
     "name": "stderr",
     "output_type": "stream",
     "text": [
      "    165/200      7.49G     0.6684     0.4378      1.033         27        640: 100%|██████████| 57/57 [00:20<00:00,  2.84it/s]\n",
      "                 Class     Images  Instances      Box(P          R      mAP50  mAP50-95): 100%|██████████| 7/7 [00:06<00:00,  1.07it/s]"
     ]
    },
    {
     "name": "stdout",
     "output_type": "stream",
     "text": [
      "                   all        427        663      0.871      0.726      0.797      0.492\n"
     ]
    },
    {
     "name": "stderr",
     "output_type": "stream",
     "text": [
      "\n"
     ]
    },
    {
     "name": "stdout",
     "output_type": "stream",
     "text": [
      "\n",
      "      Epoch    GPU_mem   box_loss   cls_loss   dfl_loss  Instances       Size\n"
     ]
    },
    {
     "name": "stderr",
     "output_type": "stream",
     "text": [
      "    166/200       7.5G     0.6687     0.4427      1.027         24        640: 100%|██████████| 57/57 [00:20<00:00,  2.82it/s]\n",
      "                 Class     Images  Instances      Box(P          R      mAP50  mAP50-95): 100%|██████████| 7/7 [00:06<00:00,  1.05it/s]"
     ]
    },
    {
     "name": "stdout",
     "output_type": "stream",
     "text": [
      "                   all        427        663      0.848      0.742        0.8      0.493\n"
     ]
    },
    {
     "name": "stderr",
     "output_type": "stream",
     "text": [
      "\n"
     ]
    },
    {
     "name": "stdout",
     "output_type": "stream",
     "text": [
      "\n",
      "      Epoch    GPU_mem   box_loss   cls_loss   dfl_loss  Instances       Size\n"
     ]
    },
    {
     "name": "stderr",
     "output_type": "stream",
     "text": [
      "    167/200      7.49G     0.6775     0.4432      1.036         28        640: 100%|██████████| 57/57 [00:19<00:00,  2.87it/s]\n",
      "                 Class     Images  Instances      Box(P          R      mAP50  mAP50-95): 100%|██████████| 7/7 [00:06<00:00,  1.03it/s]"
     ]
    },
    {
     "name": "stdout",
     "output_type": "stream",
     "text": [
      "                   all        427        663      0.878      0.718      0.802      0.502\n"
     ]
    },
    {
     "name": "stderr",
     "output_type": "stream",
     "text": [
      "\n"
     ]
    },
    {
     "name": "stdout",
     "output_type": "stream",
     "text": [
      "\n",
      "      Epoch    GPU_mem   box_loss   cls_loss   dfl_loss  Instances       Size\n"
     ]
    },
    {
     "name": "stderr",
     "output_type": "stream",
     "text": [
      "    168/200      7.51G     0.6546     0.4283      1.029         26        640: 100%|██████████| 57/57 [00:20<00:00,  2.82it/s]\n",
      "                 Class     Images  Instances      Box(P          R      mAP50  mAP50-95): 100%|██████████| 7/7 [00:06<00:00,  1.10it/s]"
     ]
    },
    {
     "name": "stdout",
     "output_type": "stream",
     "text": [
      "                   all        427        663      0.838      0.744      0.799      0.507\n"
     ]
    },
    {
     "name": "stderr",
     "output_type": "stream",
     "text": [
      "\n"
     ]
    },
    {
     "name": "stdout",
     "output_type": "stream",
     "text": [
      "\n",
      "      Epoch    GPU_mem   box_loss   cls_loss   dfl_loss  Instances       Size\n"
     ]
    },
    {
     "name": "stderr",
     "output_type": "stream",
     "text": [
      "    169/200      7.49G     0.6542     0.4286      1.027         34        640: 100%|██████████| 57/57 [00:20<00:00,  2.83it/s]\n",
      "                 Class     Images  Instances      Box(P          R      mAP50  mAP50-95): 100%|██████████| 7/7 [00:06<00:00,  1.05it/s]"
     ]
    },
    {
     "name": "stdout",
     "output_type": "stream",
     "text": [
      "                   all        427        663      0.865      0.734      0.791      0.505\n"
     ]
    },
    {
     "name": "stderr",
     "output_type": "stream",
     "text": [
      "\n"
     ]
    },
    {
     "name": "stdout",
     "output_type": "stream",
     "text": [
      "\n",
      "      Epoch    GPU_mem   box_loss   cls_loss   dfl_loss  Instances       Size\n"
     ]
    },
    {
     "name": "stderr",
     "output_type": "stream",
     "text": [
      "    170/200      7.51G     0.6526     0.4183      1.023         21        640: 100%|██████████| 57/57 [00:20<00:00,  2.83it/s]\n",
      "                 Class     Images  Instances      Box(P          R      mAP50  mAP50-95): 100%|██████████| 7/7 [00:06<00:00,  1.04it/s]"
     ]
    },
    {
     "name": "stdout",
     "output_type": "stream",
     "text": [
      "                   all        427        663      0.841      0.728      0.786      0.499\n"
     ]
    },
    {
     "name": "stderr",
     "output_type": "stream",
     "text": [
      "\n"
     ]
    },
    {
     "name": "stdout",
     "output_type": "stream",
     "text": [
      "\n",
      "      Epoch    GPU_mem   box_loss   cls_loss   dfl_loss  Instances       Size\n"
     ]
    },
    {
     "name": "stderr",
     "output_type": "stream",
     "text": [
      "    171/200      7.49G     0.6545     0.4313      1.027         26        640: 100%|██████████| 57/57 [00:19<00:00,  2.86it/s]\n",
      "                 Class     Images  Instances      Box(P          R      mAP50  mAP50-95): 100%|██████████| 7/7 [00:06<00:00,  1.06it/s]"
     ]
    },
    {
     "name": "stdout",
     "output_type": "stream",
     "text": [
      "                   all        427        663      0.852      0.733      0.798      0.502\n"
     ]
    },
    {
     "name": "stderr",
     "output_type": "stream",
     "text": [
      "\n"
     ]
    },
    {
     "name": "stdout",
     "output_type": "stream",
     "text": [
      "\n",
      "      Epoch    GPU_mem   box_loss   cls_loss   dfl_loss  Instances       Size\n"
     ]
    },
    {
     "name": "stderr",
     "output_type": "stream",
     "text": [
      "    172/200      7.51G       0.64     0.4181      1.016         29        640: 100%|██████████| 57/57 [00:19<00:00,  2.86it/s]\n",
      "                 Class     Images  Instances      Box(P          R      mAP50  mAP50-95): 100%|██████████| 7/7 [00:06<00:00,  1.05it/s]"
     ]
    },
    {
     "name": "stdout",
     "output_type": "stream",
     "text": [
      "                   all        427        663      0.888      0.711      0.794      0.505\n"
     ]
    },
    {
     "name": "stderr",
     "output_type": "stream",
     "text": [
      "\n"
     ]
    },
    {
     "name": "stdout",
     "output_type": "stream",
     "text": [
      "\n",
      "      Epoch    GPU_mem   box_loss   cls_loss   dfl_loss  Instances       Size\n"
     ]
    },
    {
     "name": "stderr",
     "output_type": "stream",
     "text": [
      "    173/200      7.49G     0.6451     0.4229      1.023         28        640: 100%|██████████| 57/57 [00:20<00:00,  2.80it/s]\n",
      "                 Class     Images  Instances      Box(P          R      mAP50  mAP50-95): 100%|██████████| 7/7 [00:06<00:00,  1.12it/s]"
     ]
    },
    {
     "name": "stdout",
     "output_type": "stream",
     "text": [
      "                   all        427        663       0.89      0.695      0.786        0.5\n"
     ]
    },
    {
     "name": "stderr",
     "output_type": "stream",
     "text": [
      "\n"
     ]
    },
    {
     "name": "stdout",
     "output_type": "stream",
     "text": [
      "\n",
      "      Epoch    GPU_mem   box_loss   cls_loss   dfl_loss  Instances       Size\n"
     ]
    },
    {
     "name": "stderr",
     "output_type": "stream",
     "text": [
      "    174/200      7.51G     0.6477     0.4295      1.025         11        640: 100%|██████████| 57/57 [00:20<00:00,  2.80it/s]\n",
      "                 Class     Images  Instances      Box(P          R      mAP50  mAP50-95): 100%|██████████| 7/7 [00:06<00:00,  1.11it/s]"
     ]
    },
    {
     "name": "stdout",
     "output_type": "stream",
     "text": [
      "                   all        427        663      0.885      0.725      0.801      0.501\n"
     ]
    },
    {
     "name": "stderr",
     "output_type": "stream",
     "text": [
      "\n"
     ]
    },
    {
     "name": "stdout",
     "output_type": "stream",
     "text": [
      "\n",
      "      Epoch    GPU_mem   box_loss   cls_loss   dfl_loss  Instances       Size\n"
     ]
    },
    {
     "name": "stderr",
     "output_type": "stream",
     "text": [
      "    175/200      7.49G     0.6448     0.4151      1.018         21        640: 100%|██████████| 57/57 [00:19<00:00,  2.88it/s]\n",
      "                 Class     Images  Instances      Box(P          R      mAP50  mAP50-95): 100%|██████████| 7/7 [00:06<00:00,  1.04it/s]"
     ]
    },
    {
     "name": "stdout",
     "output_type": "stream",
     "text": [
      "                   all        427        663      0.889      0.711      0.804      0.499\n"
     ]
    },
    {
     "name": "stderr",
     "output_type": "stream",
     "text": [
      "\n"
     ]
    },
    {
     "name": "stdout",
     "output_type": "stream",
     "text": [
      "\n",
      "      Epoch    GPU_mem   box_loss   cls_loss   dfl_loss  Instances       Size\n"
     ]
    },
    {
     "name": "stderr",
     "output_type": "stream",
     "text": [
      "    176/200      7.51G     0.6417     0.4184      1.019         24        640: 100%|██████████| 57/57 [00:20<00:00,  2.81it/s]\n",
      "                 Class     Images  Instances      Box(P          R      mAP50  mAP50-95): 100%|██████████| 7/7 [00:06<00:00,  1.11it/s]"
     ]
    },
    {
     "name": "stdout",
     "output_type": "stream",
     "text": [
      "                   all        427        663      0.864      0.727      0.799      0.499\n"
     ]
    },
    {
     "name": "stderr",
     "output_type": "stream",
     "text": [
      "\n"
     ]
    },
    {
     "name": "stdout",
     "output_type": "stream",
     "text": [
      "\n",
      "      Epoch    GPU_mem   box_loss   cls_loss   dfl_loss  Instances       Size\n"
     ]
    },
    {
     "name": "stderr",
     "output_type": "stream",
     "text": [
      "    177/200      7.49G     0.6391      0.425      1.026         25        640: 100%|██████████| 57/57 [00:20<00:00,  2.82it/s]\n",
      "                 Class     Images  Instances      Box(P          R      mAP50  mAP50-95): 100%|██████████| 7/7 [00:06<00:00,  1.10it/s]"
     ]
    },
    {
     "name": "stdout",
     "output_type": "stream",
     "text": [
      "                   all        427        663      0.912      0.715        0.8      0.497\n"
     ]
    },
    {
     "name": "stderr",
     "output_type": "stream",
     "text": [
      "\n"
     ]
    },
    {
     "name": "stdout",
     "output_type": "stream",
     "text": [
      "\n",
      "      Epoch    GPU_mem   box_loss   cls_loss   dfl_loss  Instances       Size\n"
     ]
    },
    {
     "name": "stderr",
     "output_type": "stream",
     "text": [
      "    178/200       7.5G     0.6358     0.4179      1.018         28        640: 100%|██████████| 57/57 [00:20<00:00,  2.83it/s]\n",
      "                 Class     Images  Instances      Box(P          R      mAP50  mAP50-95): 100%|██████████| 7/7 [00:06<00:00,  1.06it/s]"
     ]
    },
    {
     "name": "stdout",
     "output_type": "stream",
     "text": [
      "                   all        427        663      0.867       0.74      0.805        0.5\n"
     ]
    },
    {
     "name": "stderr",
     "output_type": "stream",
     "text": [
      "\n"
     ]
    },
    {
     "name": "stdout",
     "output_type": "stream",
     "text": [
      "\n",
      "      Epoch    GPU_mem   box_loss   cls_loss   dfl_loss  Instances       Size\n"
     ]
    },
    {
     "name": "stderr",
     "output_type": "stream",
     "text": [
      "    179/200      7.49G     0.6282     0.4111      1.014         24        640: 100%|██████████| 57/57 [00:20<00:00,  2.81it/s]\n",
      "                 Class     Images  Instances      Box(P          R      mAP50  mAP50-95): 100%|██████████| 7/7 [00:06<00:00,  1.07it/s]"
     ]
    },
    {
     "name": "stdout",
     "output_type": "stream",
     "text": [
      "                   all        427        663      0.874      0.713      0.796      0.496\n"
     ]
    },
    {
     "name": "stderr",
     "output_type": "stream",
     "text": [
      "\n"
     ]
    },
    {
     "name": "stdout",
     "output_type": "stream",
     "text": [
      "\n",
      "      Epoch    GPU_mem   box_loss   cls_loss   dfl_loss  Instances       Size\n"
     ]
    },
    {
     "name": "stderr",
     "output_type": "stream",
     "text": [
      "    180/200      7.51G     0.6395     0.4124      1.016         29        640: 100%|██████████| 57/57 [00:20<00:00,  2.79it/s]\n",
      "                 Class     Images  Instances      Box(P          R      mAP50  mAP50-95): 100%|██████████| 7/7 [00:06<00:00,  1.08it/s]"
     ]
    },
    {
     "name": "stdout",
     "output_type": "stream",
     "text": [
      "                   all        427        663      0.876      0.724        0.8      0.498\n"
     ]
    },
    {
     "name": "stderr",
     "output_type": "stream",
     "text": [
      "\n"
     ]
    },
    {
     "name": "stdout",
     "output_type": "stream",
     "text": [
      "\n",
      "      Epoch    GPU_mem   box_loss   cls_loss   dfl_loss  Instances       Size\n"
     ]
    },
    {
     "name": "stderr",
     "output_type": "stream",
     "text": [
      "    181/200      7.49G     0.6253     0.4078       1.01         21        640: 100%|██████████| 57/57 [00:20<00:00,  2.83it/s]\n",
      "                 Class     Images  Instances      Box(P          R      mAP50  mAP50-95): 100%|██████████| 7/7 [00:06<00:00,  1.05it/s]"
     ]
    },
    {
     "name": "stdout",
     "output_type": "stream",
     "text": [
      "                   all        427        663      0.898      0.715      0.801      0.499\n"
     ]
    },
    {
     "name": "stderr",
     "output_type": "stream",
     "text": [
      "\n"
     ]
    },
    {
     "name": "stdout",
     "output_type": "stream",
     "text": [
      "\n",
      "      Epoch    GPU_mem   box_loss   cls_loss   dfl_loss  Instances       Size\n"
     ]
    },
    {
     "name": "stderr",
     "output_type": "stream",
     "text": [
      "    182/200      7.51G      0.627     0.4168      1.006         32        640: 100%|██████████| 57/57 [00:20<00:00,  2.80it/s]\n",
      "                 Class     Images  Instances      Box(P          R      mAP50  mAP50-95): 100%|██████████| 7/7 [00:06<00:00,  1.08it/s]"
     ]
    },
    {
     "name": "stdout",
     "output_type": "stream",
     "text": [
      "                   all        427        663      0.857      0.725      0.796      0.502\n"
     ]
    },
    {
     "name": "stderr",
     "output_type": "stream",
     "text": [
      "\n"
     ]
    },
    {
     "name": "stdout",
     "output_type": "stream",
     "text": [
      "\n",
      "      Epoch    GPU_mem   box_loss   cls_loss   dfl_loss  Instances       Size\n"
     ]
    },
    {
     "name": "stderr",
     "output_type": "stream",
     "text": [
      "    183/200      7.49G     0.6198     0.4123      1.017         26        640: 100%|██████████| 57/57 [00:20<00:00,  2.83it/s]\n",
      "                 Class     Images  Instances      Box(P          R      mAP50  mAP50-95): 100%|██████████| 7/7 [00:06<00:00,  1.05it/s]"
     ]
    },
    {
     "name": "stdout",
     "output_type": "stream",
     "text": [
      "                   all        427        663       0.85      0.726      0.791      0.493\n"
     ]
    },
    {
     "name": "stderr",
     "output_type": "stream",
     "text": [
      "\n"
     ]
    },
    {
     "name": "stdout",
     "output_type": "stream",
     "text": [
      "\n",
      "      Epoch    GPU_mem   box_loss   cls_loss   dfl_loss  Instances       Size\n"
     ]
    },
    {
     "name": "stderr",
     "output_type": "stream",
     "text": [
      "    184/200      7.51G     0.6238     0.4183      1.013         26        640: 100%|██████████| 57/57 [00:20<00:00,  2.79it/s]\n",
      "                 Class     Images  Instances      Box(P          R      mAP50  mAP50-95): 100%|██████████| 7/7 [00:06<00:00,  1.15it/s]"
     ]
    },
    {
     "name": "stdout",
     "output_type": "stream",
     "text": [
      "                   all        427        663      0.862      0.722      0.794      0.494\n"
     ]
    },
    {
     "name": "stderr",
     "output_type": "stream",
     "text": [
      "\n"
     ]
    },
    {
     "name": "stdout",
     "output_type": "stream",
     "text": [
      "\n",
      "      Epoch    GPU_mem   box_loss   cls_loss   dfl_loss  Instances       Size\n"
     ]
    },
    {
     "name": "stderr",
     "output_type": "stream",
     "text": [
      "    185/200      7.49G     0.6056     0.3989      1.004         26        640: 100%|██████████| 57/57 [00:20<00:00,  2.84it/s]\n",
      "                 Class     Images  Instances      Box(P          R      mAP50  mAP50-95): 100%|██████████| 7/7 [00:06<00:00,  1.06it/s]"
     ]
    },
    {
     "name": "stdout",
     "output_type": "stream",
     "text": [
      "                   all        427        663      0.874      0.713      0.801        0.5\n"
     ]
    },
    {
     "name": "stderr",
     "output_type": "stream",
     "text": [
      "\n"
     ]
    },
    {
     "name": "stdout",
     "output_type": "stream",
     "text": [
      "\n",
      "      Epoch    GPU_mem   box_loss   cls_loss   dfl_loss  Instances       Size\n"
     ]
    },
    {
     "name": "stderr",
     "output_type": "stream",
     "text": [
      "    186/200      7.51G     0.6123     0.4032     0.9983         27        640: 100%|██████████| 57/57 [00:19<00:00,  2.87it/s]\n",
      "                 Class     Images  Instances      Box(P          R      mAP50  mAP50-95): 100%|██████████| 7/7 [00:06<00:00,  1.03it/s]"
     ]
    },
    {
     "name": "stdout",
     "output_type": "stream",
     "text": [
      "                   all        427        663      0.869      0.717      0.799      0.502\n"
     ]
    },
    {
     "name": "stderr",
     "output_type": "stream",
     "text": [
      "\n"
     ]
    },
    {
     "name": "stdout",
     "output_type": "stream",
     "text": [
      "\n",
      "      Epoch    GPU_mem   box_loss   cls_loss   dfl_loss  Instances       Size\n"
     ]
    },
    {
     "name": "stderr",
     "output_type": "stream",
     "text": [
      "    187/200      7.49G     0.6051     0.3975      1.001         27        640: 100%|██████████| 57/57 [00:20<00:00,  2.82it/s]\n",
      "                 Class     Images  Instances      Box(P          R      mAP50  mAP50-95): 100%|██████████| 7/7 [00:06<00:00,  1.07it/s]"
     ]
    },
    {
     "name": "stdout",
     "output_type": "stream",
     "text": [
      "                   all        427        663      0.907      0.692      0.798      0.502\n"
     ]
    },
    {
     "name": "stderr",
     "output_type": "stream",
     "text": [
      "\n"
     ]
    },
    {
     "name": "stdout",
     "output_type": "stream",
     "text": [
      "\n",
      "      Epoch    GPU_mem   box_loss   cls_loss   dfl_loss  Instances       Size\n"
     ]
    },
    {
     "name": "stderr",
     "output_type": "stream",
     "text": [
      "    188/200      7.51G     0.5954     0.3914          1         38        640: 100%|██████████| 57/57 [00:20<00:00,  2.84it/s]\n",
      "                 Class     Images  Instances      Box(P          R      mAP50  mAP50-95): 100%|██████████| 7/7 [00:06<00:00,  1.09it/s]"
     ]
    },
    {
     "name": "stdout",
     "output_type": "stream",
     "text": [
      "                   all        427        663      0.859      0.741      0.804      0.502\n"
     ]
    },
    {
     "name": "stderr",
     "output_type": "stream",
     "text": [
      "\n"
     ]
    },
    {
     "name": "stdout",
     "output_type": "stream",
     "text": [
      "\n",
      "      Epoch    GPU_mem   box_loss   cls_loss   dfl_loss  Instances       Size\n"
     ]
    },
    {
     "name": "stderr",
     "output_type": "stream",
     "text": [
      "    189/200      7.49G     0.6114     0.3944      1.004         21        640: 100%|██████████| 57/57 [00:19<00:00,  2.86it/s]\n",
      "                 Class     Images  Instances      Box(P          R      mAP50  mAP50-95): 100%|██████████| 7/7 [00:06<00:00,  1.07it/s]"
     ]
    },
    {
     "name": "stdout",
     "output_type": "stream",
     "text": [
      "                   all        427        663      0.902      0.719      0.812      0.506\n"
     ]
    },
    {
     "name": "stderr",
     "output_type": "stream",
     "text": [
      "\n"
     ]
    },
    {
     "name": "stdout",
     "output_type": "stream",
     "text": [
      "\n",
      "      Epoch    GPU_mem   box_loss   cls_loss   dfl_loss  Instances       Size\n"
     ]
    },
    {
     "name": "stderr",
     "output_type": "stream",
     "text": [
      "    190/200      7.51G     0.5953     0.3888          1         31        640: 100%|██████████| 57/57 [00:20<00:00,  2.83it/s]\n",
      "                 Class     Images  Instances      Box(P          R      mAP50  mAP50-95): 100%|██████████| 7/7 [00:06<00:00,  1.08it/s]"
     ]
    },
    {
     "name": "stdout",
     "output_type": "stream",
     "text": [
      "                   all        427        663      0.902      0.705      0.808      0.507\n"
     ]
    },
    {
     "name": "stderr",
     "output_type": "stream",
     "text": [
      "\n"
     ]
    },
    {
     "name": "stdout",
     "output_type": "stream",
     "text": [
      "Closing dataloader mosaic\n"
     ]
    },
    {
     "name": "stderr",
     "output_type": "stream",
     "text": [
      "/usr/local/lib/python3.8/dist-packages/torch/utils/data/dataloader.py:561: UserWarning: This DataLoader will create 8 worker processes in total. Our suggested max number of worker in current system is 2, which is smaller than what this DataLoader is going to create. Please be aware that excessive worker creation might get DataLoader running slow or even freeze, lower the worker number to avoid potential slowness/freeze if necessary.\n",
      "  warnings.warn(_create_warning_msg(\n"
     ]
    },
    {
     "name": "stdout",
     "output_type": "stream",
     "text": [
      "\n",
      "      Epoch    GPU_mem   box_loss   cls_loss   dfl_loss  Instances       Size\n"
     ]
    },
    {
     "name": "stderr",
     "output_type": "stream",
     "text": [
      "    191/200      8.07G     0.5471     0.3165     0.9522         12        640: 100%|██████████| 57/57 [00:25<00:00,  2.21it/s]\n",
      "                 Class     Images  Instances      Box(P          R      mAP50  mAP50-95): 100%|██████████| 7/7 [00:06<00:00,  1.15it/s]"
     ]
    },
    {
     "name": "stdout",
     "output_type": "stream",
     "text": [
      "                   all        427        663      0.873       0.73      0.804      0.504\n"
     ]
    },
    {
     "name": "stderr",
     "output_type": "stream",
     "text": [
      "\n"
     ]
    },
    {
     "name": "stdout",
     "output_type": "stream",
     "text": [
      "\n",
      "      Epoch    GPU_mem   box_loss   cls_loss   dfl_loss  Instances       Size\n"
     ]
    },
    {
     "name": "stderr",
     "output_type": "stream",
     "text": [
      "    192/200      7.51G     0.5272     0.3017     0.9377         13        640: 100%|██████████| 57/57 [00:19<00:00,  2.93it/s]\n",
      "                 Class     Images  Instances      Box(P          R      mAP50  mAP50-95): 100%|██████████| 7/7 [00:05<00:00,  1.23it/s]"
     ]
    },
    {
     "name": "stdout",
     "output_type": "stream",
     "text": [
      "                   all        427        663      0.872      0.726        0.8      0.509\n"
     ]
    },
    {
     "name": "stderr",
     "output_type": "stream",
     "text": [
      "\n"
     ]
    },
    {
     "name": "stdout",
     "output_type": "stream",
     "text": [
      "\n",
      "      Epoch    GPU_mem   box_loss   cls_loss   dfl_loss  Instances       Size\n"
     ]
    },
    {
     "name": "stderr",
     "output_type": "stream",
     "text": [
      "    193/200      7.49G     0.5095     0.2931     0.9298         13        640: 100%|██████████| 57/57 [00:19<00:00,  2.97it/s]\n",
      "                 Class     Images  Instances      Box(P          R      mAP50  mAP50-95): 100%|██████████| 7/7 [00:05<00:00,  1.22it/s]"
     ]
    },
    {
     "name": "stdout",
     "output_type": "stream",
     "text": [
      "                   all        427        663      0.874      0.724      0.811      0.514\n"
     ]
    },
    {
     "name": "stderr",
     "output_type": "stream",
     "text": [
      "\n"
     ]
    },
    {
     "name": "stdout",
     "output_type": "stream",
     "text": [
      "\n",
      "      Epoch    GPU_mem   box_loss   cls_loss   dfl_loss  Instances       Size\n"
     ]
    },
    {
     "name": "stderr",
     "output_type": "stream",
     "text": [
      "    194/200      7.51G     0.5103     0.2869     0.9387         12        640: 100%|██████████| 57/57 [00:19<00:00,  2.90it/s]\n",
      "                 Class     Images  Instances      Box(P          R      mAP50  mAP50-95): 100%|██████████| 7/7 [00:05<00:00,  1.33it/s]"
     ]
    },
    {
     "name": "stdout",
     "output_type": "stream",
     "text": [
      "                   all        427        663      0.887      0.733       0.82      0.516\n"
     ]
    },
    {
     "name": "stderr",
     "output_type": "stream",
     "text": [
      "\n"
     ]
    },
    {
     "name": "stdout",
     "output_type": "stream",
     "text": [
      "\n",
      "      Epoch    GPU_mem   box_loss   cls_loss   dfl_loss  Instances       Size\n"
     ]
    },
    {
     "name": "stderr",
     "output_type": "stream",
     "text": [
      "    195/200      7.49G     0.4935     0.2846     0.9232         13        640: 100%|██████████| 57/57 [00:19<00:00,  2.97it/s]\n",
      "                 Class     Images  Instances      Box(P          R      mAP50  mAP50-95): 100%|██████████| 7/7 [00:05<00:00,  1.29it/s]"
     ]
    },
    {
     "name": "stdout",
     "output_type": "stream",
     "text": [
      "                   all        427        663      0.878      0.729      0.815      0.513\n"
     ]
    },
    {
     "name": "stderr",
     "output_type": "stream",
     "text": [
      "\n"
     ]
    },
    {
     "name": "stdout",
     "output_type": "stream",
     "text": [
      "\n",
      "      Epoch    GPU_mem   box_loss   cls_loss   dfl_loss  Instances       Size\n"
     ]
    },
    {
     "name": "stderr",
     "output_type": "stream",
     "text": [
      "    196/200      7.51G     0.4934     0.2821     0.9209         14        640: 100%|██████████| 57/57 [00:19<00:00,  2.93it/s]\n",
      "                 Class     Images  Instances      Box(P          R      mAP50  mAP50-95): 100%|██████████| 7/7 [00:05<00:00,  1.32it/s]"
     ]
    },
    {
     "name": "stdout",
     "output_type": "stream",
     "text": [
      "                   all        427        663      0.871      0.734      0.818      0.516\n"
     ]
    },
    {
     "name": "stderr",
     "output_type": "stream",
     "text": [
      "\n"
     ]
    },
    {
     "name": "stdout",
     "output_type": "stream",
     "text": [
      "\n",
      "      Epoch    GPU_mem   box_loss   cls_loss   dfl_loss  Instances       Size\n"
     ]
    },
    {
     "name": "stderr",
     "output_type": "stream",
     "text": [
      "    197/200      7.49G     0.5095     0.2908      0.941         20        640: 100%|██████████| 57/57 [00:19<00:00,  2.95it/s]\n",
      "                 Class     Images  Instances      Box(P          R      mAP50  mAP50-95): 100%|██████████| 7/7 [00:05<00:00,  1.26it/s]"
     ]
    },
    {
     "name": "stdout",
     "output_type": "stream",
     "text": [
      "                   all        427        663      0.876      0.738      0.819      0.517\n"
     ]
    },
    {
     "name": "stderr",
     "output_type": "stream",
     "text": [
      "\n"
     ]
    },
    {
     "name": "stdout",
     "output_type": "stream",
     "text": [
      "\n",
      "      Epoch    GPU_mem   box_loss   cls_loss   dfl_loss  Instances       Size\n"
     ]
    },
    {
     "name": "stderr",
     "output_type": "stream",
     "text": [
      "    198/200      7.51G     0.4818     0.2792     0.9212         13        640: 100%|██████████| 57/57 [00:19<00:00,  2.94it/s]\n",
      "                 Class     Images  Instances      Box(P          R      mAP50  mAP50-95): 100%|██████████| 7/7 [00:05<00:00,  1.25it/s]"
     ]
    },
    {
     "name": "stdout",
     "output_type": "stream",
     "text": [
      "                   all        427        663      0.872      0.731      0.817      0.514\n"
     ]
    },
    {
     "name": "stderr",
     "output_type": "stream",
     "text": [
      "\n"
     ]
    },
    {
     "name": "stdout",
     "output_type": "stream",
     "text": [
      "\n",
      "      Epoch    GPU_mem   box_loss   cls_loss   dfl_loss  Instances       Size\n"
     ]
    },
    {
     "name": "stderr",
     "output_type": "stream",
     "text": [
      "    199/200      7.49G     0.4862     0.2759     0.9173         16        640: 100%|██████████| 57/57 [00:19<00:00,  3.00it/s]\n",
      "                 Class     Images  Instances      Box(P          R      mAP50  mAP50-95): 100%|██████████| 7/7 [00:05<00:00,  1.24it/s]"
     ]
    },
    {
     "name": "stdout",
     "output_type": "stream",
     "text": [
      "                   all        427        663       0.85      0.746      0.813      0.514\n"
     ]
    },
    {
     "name": "stderr",
     "output_type": "stream",
     "text": [
      "\n"
     ]
    },
    {
     "name": "stdout",
     "output_type": "stream",
     "text": [
      "\n",
      "      Epoch    GPU_mem   box_loss   cls_loss   dfl_loss  Instances       Size\n"
     ]
    },
    {
     "name": "stderr",
     "output_type": "stream",
     "text": [
      "    200/200      7.51G     0.4862     0.2784     0.9177         12        640: 100%|██████████| 57/57 [00:19<00:00,  2.95it/s]\n",
      "                 Class     Images  Instances      Box(P          R      mAP50  mAP50-95): 100%|██████████| 7/7 [00:05<00:00,  1.27it/s]"
     ]
    },
    {
     "name": "stdout",
     "output_type": "stream",
     "text": [
      "                   all        427        663       0.86      0.733      0.813      0.515\n"
     ]
    },
    {
     "name": "stderr",
     "output_type": "stream",
     "text": [
      "\n"
     ]
    },
    {
     "name": "stdout",
     "output_type": "stream",
     "text": [
      "\n",
      "200 epochs completed in 1.552 hours.\n",
      "Optimizer stripped from runs/detect/train2/weights/last.pt, 22.5MB\n",
      "Optimizer stripped from runs/detect/train2/weights/best.pt, 22.5MB\n",
      "\n",
      "Validating runs/detect/train2/weights/best.pt...\n",
      "Ultralytics YOLOv8.1.38 🚀 Python-3.8.10 torch-2.1.0a0+fe05266 CUDA:0 (NVIDIA RTX A6000, 48677MiB)\n",
      "YOLOv8s summary (fused): 168 layers, 11126358 parameters, 0 gradients, 28.4 GFLOPs\n"
     ]
    },
    {
     "name": "stderr",
     "output_type": "stream",
     "text": [
      "                 Class     Images  Instances      Box(P          R      mAP50  mAP50-95): 100%|██████████| 7/7 [00:04<00:00,  1.48it/s]\n"
     ]
    },
    {
     "name": "stdout",
     "output_type": "stream",
     "text": [
      "                   all        427        663      0.878      0.738      0.819      0.517\n",
      "                  fire        427        441      0.892      0.844      0.906      0.586\n",
      "                 smoke        427        222      0.864      0.631      0.733      0.448\n",
      "Speed: 2.0ms preprocess, 1.3ms inference, 0.0ms loss, 1.3ms postprocess per image\n",
      "Results saved to \u001b[1mruns/detect/train2\u001b[0m\n"
     ]
    }
   ],
   "source": [
    "from ultralytics import YOLO\n",
    "\n",
    "# Load a model\n",
    "model = YOLO('yolov8s.yaml')  # build a new model from YAML\n",
    "model = YOLO('yolov8s.pt')  # load a pretrained model (recommended for training)\n",
    "model = YOLO('yolov8s.yaml').load('yolov8s.pt')  # build from YAML and transfer weights\n",
    "\n",
    "# Train the model\n",
    "results = model.train(data='/raid/coss27/add_smoke_data/data.yaml', epochs=200, batch=32, imgsz=640)"
   ]
  },
  {
   "cell_type": "code",
   "execution_count": 6,
   "id": "17504039",
   "metadata": {},
   "outputs": [
    {
     "name": "stdout",
     "output_type": "stream",
     "text": [
      "Ultralytics YOLOv8.1.38 🚀 Python-3.8.10 torch-2.1.0a0+fe05266 CUDA:0 (NVIDIA RTX A6000, 48677MiB)\n",
      "YOLOv8s summary (fused): 168 layers, 11126358 parameters, 0 gradients, 28.4 GFLOPs\n"
     ]
    },
    {
     "name": "stderr",
     "output_type": "stream",
     "text": [
      "\u001b[34m\u001b[1mval: \u001b[0mScanning /raid/coss27/dataset_yolov8/valid/labels.cache... 357 images, 0 backgrounds, 0 corrupt: 100%|██████████| 357/357 [00:00<?, ?it/s]\n",
      "/usr/local/lib/python3.8/dist-packages/torch/utils/data/dataloader.py:561: UserWarning: This DataLoader will create 8 worker processes in total. Our suggested max number of worker in current system is 2, which is smaller than what this DataLoader is going to create. Please be aware that excessive worker creation might get DataLoader running slow or even freeze, lower the worker number to avoid potential slowness/freeze if necessary.\n",
      "  warnings.warn(_create_warning_msg(\n",
      "                 Class     Images  Instances      Box(P          R      mAP50  mAP50-95): 100%|██████████| 23/23 [00:05<00:00,  4.52it/s]\n"
     ]
    },
    {
     "name": "stdout",
     "output_type": "stream",
     "text": [
      "                   all        357        567      0.895      0.791      0.873      0.553\n",
      "                  fire        357        441      0.912      0.844      0.913      0.594\n",
      "                 smoke        357        126      0.878      0.739      0.833      0.513\n",
      "Speed: 1.8ms preprocess, 4.7ms inference, 0.0ms loss, 2.5ms postprocess per image\n",
      "Results saved to \u001b[1mruns/detect/val2\u001b[0m\n"
     ]
    }
   ],
   "source": [
    "from ultralytics import YOLO\n",
    "\n",
    "# Load a model\n",
    "model2 = YOLO('/raid/coss27/add_smoke_yolov8s_0507/ultralytics/runs/detect/train2/weights/best.pt')\n",
    "\n",
    "# Customize validation settings\n",
    "validation_results = model2.val(data='/raid/coss27/dataset_yolov8/data.yaml')"
   ]
  },
  {
   "cell_type": "code",
   "execution_count": 19,
   "id": "829df4e0",
   "metadata": {},
   "outputs": [
    {
     "name": "stdout",
     "output_type": "stream",
     "text": [
      "/raid/coss27\n"
     ]
    }
   ],
   "source": [
    "%cd /raid/coss27"
   ]
  },
  {
   "cell_type": "code",
   "execution_count": 21,
   "id": "cd379c39",
   "metadata": {},
   "outputs": [
    {
     "name": "stdout",
     "output_type": "stream",
     "text": [
      "Ultralytics YOLOv8.1.38 🚀 Python-3.8.10 torch-2.1.0a0+fe05266 CUDA:0 (NVIDIA RTX A6000, 48677MiB)\n",
      "Model summary (fused): 168 layers, 11126358 parameters, 0 gradients, 28.4 GFLOPs\n"
     ]
    },
    {
     "name": "stderr",
     "output_type": "stream",
     "text": [
      "\u001b[34m\u001b[1mval: \u001b[0mScanning /raid/coss27/add_smoke_data/valid/labels.cache... 427 images, 0 backgrounds, 0 corrupt: 100%|██████████| 427/427 [00:00<?, ?it/s]\n",
      "/usr/local/lib/python3.8/dist-packages/torch/utils/data/dataloader.py:561: UserWarning: This DataLoader will create 8 worker processes in total. Our suggested max number of worker in current system is 2, which is smaller than what this DataLoader is going to create. Please be aware that excessive worker creation might get DataLoader running slow or even freeze, lower the worker number to avoid potential slowness/freeze if necessary.\n",
      "  warnings.warn(_create_warning_msg(\n",
      "                 Class     Images  Instances      Box(P          R      mAP50  mAP50-95): 100%|██████████| 27/27 [00:05<00:00,  4.59it/s]\n"
     ]
    },
    {
     "name": "stdout",
     "output_type": "stream",
     "text": [
      "                   all        427        663      0.849      0.645      0.725      0.445\n",
      "                  fire        427        441      0.873      0.839      0.871      0.558\n",
      "                 smoke        427        222      0.825       0.45      0.579      0.333\n",
      "Speed: 1.5ms preprocess, 2.5ms inference, 0.0ms loss, 1.3ms postprocess per image\n",
      "Results saved to \u001b[1mruns/detect/val\u001b[0m\n"
     ]
    }
   ],
   "source": [
    "# Load a model\n",
    "yolo8s_best = YOLO('/raid/coss27/yolo8s_best.pt')\n",
    "\n",
    "# Customize validation settings\n",
    "validation_results_yolo8s_best = yolo8s_best.val(data='/raid/coss27/add_smoke_data/data.yaml')"
   ]
  },
  {
   "cell_type": "code",
   "execution_count": 10,
   "id": "63c17990",
   "metadata": {
    "scrolled": true
   },
   "outputs": [
    {
     "name": "stderr",
     "output_type": "stream",
     "text": [
      "Exception ignored in: <function _MultiProcessingDataLoaderIter.__del__ at 0x7fd31926f790>\n",
      "Traceback (most recent call last):\n",
      "  File \"/usr/local/lib/python3.8/dist-packages/torch/utils/data/dataloader.py\", line 1479, in __del__\n",
      "    self._shutdown_workers()\n",
      "  File \"/usr/local/lib/python3.8/dist-packages/torch/utils/data/dataloader.py\", line 1443, in _shutdown_workers\n",
      "    w.join(timeout=_utils.MP_STATUS_CHECK_INTERVAL)\n",
      "  File \"/usr/lib/python3.8/multiprocessing/process.py\", line 149, in join\n",
      "    res = self._popen.wait(timeout)\n",
      "  File \"/usr/lib/python3.8/multiprocessing/popen_fork.py\", line 44, in wait\n",
      "    if not wait([self.sentinel], timeout):\n",
      "  File \"/usr/lib/python3.8/multiprocessing/connection.py\", line 931, in wait\n",
      "    ready = selector.select(timeout)\n",
      "  File \"/usr/lib/python3.8/selectors.py\", line 415, in select\n",
      "    fd_event_list = self._selector.poll(timeout)\n",
      "KeyboardInterrupt: \n"
     ]
    },
    {
     "name": "stdout",
     "output_type": "stream",
     "text": [
      "Ultralytics YOLOv8.1.38 🚀 Python-3.8.10 torch-2.1.0a0+fe05266 CUDA:0 (NVIDIA RTX A6000, 48677MiB)\n",
      "YOLOv8s summary (fused): 168 layers, 11126358 parameters, 0 gradients, 28.4 GFLOPs\n"
     ]
    },
    {
     "name": "stderr",
     "output_type": "stream",
     "text": [
      "\u001b[34m\u001b[1mval: \u001b[0mScanning /raid/coss27/dataset_yolov5/test/labels... 87 images, 0 backgrounds, 0 corrupt: 100%|██████████| 87/87 [00:00<00:00, 1793.21it/s]"
     ]
    },
    {
     "name": "stdout",
     "output_type": "stream",
     "text": [
      "\u001b[34m\u001b[1mval: \u001b[0mNew cache created: /raid/coss27/dataset_yolov5/test/labels.cache\n"
     ]
    },
    {
     "name": "stderr",
     "output_type": "stream",
     "text": [
      "\n",
      "/usr/local/lib/python3.8/dist-packages/torch/utils/data/dataloader.py:561: UserWarning: This DataLoader will create 8 worker processes in total. Our suggested max number of worker in current system is 2, which is smaller than what this DataLoader is going to create. Please be aware that excessive worker creation might get DataLoader running slow or even freeze, lower the worker number to avoid potential slowness/freeze if necessary.\n",
      "  warnings.warn(_create_warning_msg(\n",
      "                 Class     Images  Instances      Box(P          R      mAP50  mAP50-95): 100%|██████████| 6/6 [00:03<00:00,  1.79it/s]\n"
     ]
    },
    {
     "name": "stdout",
     "output_type": "stream",
     "text": [
      "                   all         87        136      0.883      0.782       0.84      0.506\n",
      "                  fire         87        108      0.941       0.89      0.949      0.621\n",
      "                 smoke         87         28      0.825      0.674       0.73      0.391\n",
      "Speed: 5.5ms preprocess, 5.3ms inference, 0.0ms loss, 2.2ms postprocess per image\n",
      "Results saved to \u001b[1mruns/detect/val5\u001b[0m\n"
     ]
    }
   ],
   "source": [
    "from ultralytics import YOLO\n",
    "\n",
    "# Load a model\n",
    "model2 = YOLO('/raid/coss27/add_smoke_yolov8s_0507/ultralytics/runs/detect/train2/weights/best.pt')\n",
    "\n",
    "# Customize validation settings\n",
    "validation_results = model2.val(data='/raid/coss27/dataset_yolov5/data.yaml')"
   ]
  },
  {
   "cell_type": "code",
   "execution_count": 3,
   "id": "8815d21b",
   "metadata": {
    "scrolled": true
   },
   "outputs": [
    {
     "name": "stdout",
     "output_type": "stream",
     "text": [
      "Transferred 355/355 items from pretrained weights\n",
      "New https://pypi.org/project/ultralytics/8.2.16 available 😃 Update with 'pip install -U ultralytics'\n",
      "Ultralytics YOLOv8.1.38 🚀 Python-3.8.10 torch-2.1.0a0+fe05266 CUDA:0 (NVIDIA RTX A6000, 48677MiB)\n",
      "\u001b[34m\u001b[1mengine/trainer: \u001b[0mtask=detect, mode=train, model=yolov8s.yaml, data=/raid/coss27/datasets/add_smoke_data/data.yaml, epochs=100, time=None, patience=100, batch=32, imgsz=640, save=True, save_period=-1, cache=False, device=None, workers=8, project=None, name=train3, exist_ok=False, pretrained=True, optimizer=auto, verbose=True, seed=0, deterministic=True, single_cls=False, rect=False, cos_lr=False, close_mosaic=10, resume=False, amp=True, fraction=1.0, profile=False, freeze=None, multi_scale=False, overlap_mask=True, mask_ratio=4, dropout=0.0, val=True, split=val, save_json=False, save_hybrid=False, conf=None, iou=0.7, max_det=300, half=False, dnn=False, plots=True, source=None, vid_stride=1, stream_buffer=False, visualize=False, augment=False, agnostic_nms=False, classes=None, retina_masks=False, embed=None, show=False, save_frames=False, save_txt=False, save_conf=False, save_crop=False, show_labels=True, show_conf=True, show_boxes=True, line_width=None, format=torchscript, keras=False, optimize=False, int8=False, dynamic=False, simplify=False, opset=None, workspace=4, nms=False, lr0=0.01, lrf=0.01, momentum=0.937, weight_decay=0.0005, warmup_epochs=3.0, warmup_momentum=0.8, warmup_bias_lr=0.1, box=7.5, cls=0.5, dfl=1.5, pose=12.0, kobj=1.0, label_smoothing=0.0, nbs=64, hsv_h=0.015, hsv_s=0.7, hsv_v=0.4, degrees=0.0, translate=0.1, scale=0.5, shear=0.0, perspective=0.0, flipud=0.0, fliplr=0.5, bgr=0.0, mosaic=1.0, mixup=0.0, copy_paste=0.0, auto_augment=randaugment, erasing=0.4, crop_fraction=1.0, cfg=None, tracker=botsort.yaml, save_dir=runs/detect/train3\n",
      "Overriding model.yaml nc=80 with nc=2\n",
      "\n",
      "                   from  n    params  module                                       arguments                     \n",
      "  0                  -1  1       928  ultralytics.nn.modules.conv.Conv             [3, 32, 3, 2]                 \n",
      "  1                  -1  1     18560  ultralytics.nn.modules.conv.Conv             [32, 64, 3, 2]                \n",
      "  2                  -1  1     29056  ultralytics.nn.modules.block.C2f             [64, 64, 1, True]             \n",
      "  3                  -1  1     73984  ultralytics.nn.modules.conv.Conv             [64, 128, 3, 2]               \n",
      "  4                  -1  2    197632  ultralytics.nn.modules.block.C2f             [128, 128, 2, True]           \n",
      "  5                  -1  1    295424  ultralytics.nn.modules.conv.Conv             [128, 256, 3, 2]              \n",
      "  6                  -1  2    788480  ultralytics.nn.modules.block.C2f             [256, 256, 2, True]           \n",
      "  7                  -1  1   1180672  ultralytics.nn.modules.conv.Conv             [256, 512, 3, 2]              \n",
      "  8                  -1  1   1838080  ultralytics.nn.modules.block.C2f             [512, 512, 1, True]           \n",
      "  9                  -1  1    656896  ultralytics.nn.modules.block.SPPF            [512, 512, 5]                 \n",
      " 10                  -1  1         0  torch.nn.modules.upsampling.Upsample         [None, 2, 'nearest']          \n",
      " 11             [-1, 6]  1         0  ultralytics.nn.modules.conv.Concat           [1]                           \n",
      " 12                  -1  1    591360  ultralytics.nn.modules.block.C2f             [768, 256, 1]                 \n",
      " 13                  -1  1         0  torch.nn.modules.upsampling.Upsample         [None, 2, 'nearest']          \n",
      " 14             [-1, 4]  1         0  ultralytics.nn.modules.conv.Concat           [1]                           \n",
      " 15                  -1  1    148224  ultralytics.nn.modules.block.C2f             [384, 128, 1]                 \n",
      " 16                  -1  1    147712  ultralytics.nn.modules.conv.Conv             [128, 128, 3, 2]              \n",
      " 17            [-1, 12]  1         0  ultralytics.nn.modules.conv.Concat           [1]                           \n",
      " 18                  -1  1    493056  ultralytics.nn.modules.block.C2f             [384, 256, 1]                 \n",
      " 19                  -1  1    590336  ultralytics.nn.modules.conv.Conv             [256, 256, 3, 2]              \n",
      " 20             [-1, 9]  1         0  ultralytics.nn.modules.conv.Concat           [1]                           \n",
      " 21                  -1  1   1969152  ultralytics.nn.modules.block.C2f             [768, 512, 1]                 \n",
      " 22        [15, 18, 21]  1   2116822  ultralytics.nn.modules.head.Detect           [2, [128, 256, 512]]          \n",
      "YOLOv8s summary: 225 layers, 11136374 parameters, 11136358 gradients, 28.6 GFLOPs\n",
      "\n",
      "Transferred 349/355 items from pretrained weights\n",
      "\u001b[34m\u001b[1mTensorBoard: \u001b[0mStart with 'tensorboard --logdir runs/detect/train3', view at http://localhost:6006/\n",
      "Freezing layer 'model.22.dfl.conv.weight'\n",
      "\u001b[34m\u001b[1mAMP: \u001b[0mrunning Automatic Mixed Precision (AMP) checks with YOLOv8n...\n",
      "\u001b[34m\u001b[1mAMP: \u001b[0mchecks passed ✅\n"
     ]
    },
    {
     "name": "stderr",
     "output_type": "stream",
     "text": [
      "\u001b[34m\u001b[1mtrain: \u001b[0mScanning /raid/coss27/datasets/add_smoke_data/train/labels.cache... 2413 images, 0 backgrounds, 0 corrupt: 100%|██████████| 2413/2413 [00:00<?, ?it/s]\n",
      "/usr/local/lib/python3.8/dist-packages/torch/utils/data/dataloader.py:561: UserWarning: This DataLoader will create 8 worker processes in total. Our suggested max number of worker in current system is 2, which is smaller than what this DataLoader is going to create. Please be aware that excessive worker creation might get DataLoader running slow or even freeze, lower the worker number to avoid potential slowness/freeze if necessary.\n",
      "  warnings.warn(_create_warning_msg(\n",
      "\u001b[34m\u001b[1mval: \u001b[0mScanning /raid/coss27/datasets/add_smoke_data/valid/labels.cache... 598 images, 0 backgrounds, 0 corrupt: 100%|██████████| 598/598 [00:00<?, ?it/s]"
     ]
    },
    {
     "name": "stdout",
     "output_type": "stream",
     "text": [
      "WARNING ⚠️ Box and segment counts should be equal, but got len(segments) = 1, len(boxes) = 983. To resolve this only boxes will be used and all segments will be removed. To avoid this please supply either a detect or segment dataset, not a detect-segment mixed dataset.\n"
     ]
    },
    {
     "name": "stderr",
     "output_type": "stream",
     "text": [
      "\n",
      "/usr/local/lib/python3.8/dist-packages/torch/utils/data/dataloader.py:561: UserWarning: This DataLoader will create 16 worker processes in total. Our suggested max number of worker in current system is 2, which is smaller than what this DataLoader is going to create. Please be aware that excessive worker creation might get DataLoader running slow or even freeze, lower the worker number to avoid potential slowness/freeze if necessary.\n",
      "  warnings.warn(_create_warning_msg(\n"
     ]
    },
    {
     "name": "stdout",
     "output_type": "stream",
     "text": [
      "Plotting labels to runs/detect/train3/labels.jpg... \n",
      "\u001b[34m\u001b[1moptimizer:\u001b[0m 'optimizer=auto' found, ignoring 'lr0=0.01' and 'momentum=0.937' and determining best 'optimizer', 'lr0' and 'momentum' automatically... \n",
      "\u001b[34m\u001b[1moptimizer:\u001b[0m AdamW(lr=0.001667, momentum=0.9) with parameter groups 57 weight(decay=0.0), 64 weight(decay=0.0005), 63 bias(decay=0.0)\n",
      "\u001b[34m\u001b[1mTensorBoard: \u001b[0mmodel graph visualization added ✅\n",
      "Image sizes 640 train, 640 val\n",
      "Using 8 dataloader workers\n",
      "Logging results to \u001b[1mruns/detect/train3\u001b[0m\n",
      "Starting training for 100 epochs...\n",
      "\n",
      "      Epoch    GPU_mem   box_loss   cls_loss   dfl_loss  Instances       Size\n"
     ]
    },
    {
     "name": "stderr",
     "output_type": "stream",
     "text": [
      "      1/100      7.99G      1.775      2.666      1.798         36        640: 100%|██████████| 76/76 [00:36<00:00,  2.09it/s]\n",
      "                 Class     Images  Instances      Box(P          R      mAP50  mAP50-95): 100%|██████████| 10/10 [00:04<00:00,  2.08it/s]"
     ]
    },
    {
     "name": "stdout",
     "output_type": "stream",
     "text": [
      "                   all        598        983      0.198      0.498      0.178     0.0626\n"
     ]
    },
    {
     "name": "stderr",
     "output_type": "stream",
     "text": [
      "\n"
     ]
    },
    {
     "name": "stdout",
     "output_type": "stream",
     "text": [
      "\n",
      "      Epoch    GPU_mem   box_loss   cls_loss   dfl_loss  Instances       Size\n"
     ]
    },
    {
     "name": "stderr",
     "output_type": "stream",
     "text": [
      "      2/100      7.48G      1.849      2.177      1.869         37        640: 100%|██████████| 76/76 [00:28<00:00,  2.62it/s]\n",
      "                 Class     Images  Instances      Box(P          R      mAP50  mAP50-95): 100%|██████████| 10/10 [00:07<00:00,  1.26it/s]\n"
     ]
    },
    {
     "name": "stdout",
     "output_type": "stream",
     "text": [
      "                   all        598        983       0.28      0.302      0.191      0.069\n",
      "\n",
      "      Epoch    GPU_mem   box_loss   cls_loss   dfl_loss  Instances       Size\n"
     ]
    },
    {
     "name": "stderr",
     "output_type": "stream",
     "text": [
      "      3/100      7.34G      1.837      2.057      1.854         27        640: 100%|██████████| 76/76 [00:28<00:00,  2.66it/s]\n",
      "                 Class     Images  Instances      Box(P          R      mAP50  mAP50-95): 100%|██████████| 10/10 [00:08<00:00,  1.23it/s]\n"
     ]
    },
    {
     "name": "stdout",
     "output_type": "stream",
     "text": [
      "                   all        598        983     0.0623      0.183     0.0362    0.00971\n",
      "\n",
      "      Epoch    GPU_mem   box_loss   cls_loss   dfl_loss  Instances       Size\n"
     ]
    },
    {
     "name": "stderr",
     "output_type": "stream",
     "text": [
      "      4/100      7.34G      1.853      2.065      1.867         29        640: 100%|██████████| 76/76 [00:28<00:00,  2.68it/s]\n",
      "                 Class     Images  Instances      Box(P          R      mAP50  mAP50-95): 100%|██████████| 10/10 [00:08<00:00,  1.24it/s]\n"
     ]
    },
    {
     "name": "stdout",
     "output_type": "stream",
     "text": [
      "                   all        598        983       0.22      0.332      0.184     0.0676\n",
      "\n",
      "      Epoch    GPU_mem   box_loss   cls_loss   dfl_loss  Instances       Size\n"
     ]
    },
    {
     "name": "stderr",
     "output_type": "stream",
     "text": [
      "      5/100      7.34G       1.77      1.948      1.811         30        640: 100%|██████████| 76/76 [00:28<00:00,  2.65it/s]\n",
      "                 Class     Images  Instances      Box(P          R      mAP50  mAP50-95): 100%|██████████| 10/10 [00:07<00:00,  1.26it/s]"
     ]
    },
    {
     "name": "stdout",
     "output_type": "stream",
     "text": [
      "                   all        598        983      0.385      0.376      0.277      0.105\n"
     ]
    },
    {
     "name": "stderr",
     "output_type": "stream",
     "text": [
      "\n"
     ]
    },
    {
     "name": "stdout",
     "output_type": "stream",
     "text": [
      "\n",
      "      Epoch    GPU_mem   box_loss   cls_loss   dfl_loss  Instances       Size\n"
     ]
    },
    {
     "name": "stderr",
     "output_type": "stream",
     "text": [
      "      6/100      7.34G      1.744      1.874      1.768         32        640: 100%|██████████| 76/76 [00:28<00:00,  2.65it/s]\n",
      "                 Class     Images  Instances      Box(P          R      mAP50  mAP50-95): 100%|██████████| 10/10 [00:07<00:00,  1.30it/s]\n"
     ]
    },
    {
     "name": "stdout",
     "output_type": "stream",
     "text": [
      "                   all        598        983      0.425      0.345      0.325       0.14\n",
      "\n",
      "      Epoch    GPU_mem   box_loss   cls_loss   dfl_loss  Instances       Size\n"
     ]
    },
    {
     "name": "stderr",
     "output_type": "stream",
     "text": [
      "      7/100      7.34G      1.681      1.772      1.722         47        640: 100%|██████████| 76/76 [00:28<00:00,  2.66it/s]\n",
      "                 Class     Images  Instances      Box(P          R      mAP50  mAP50-95): 100%|██████████| 10/10 [00:07<00:00,  1.29it/s]"
     ]
    },
    {
     "name": "stdout",
     "output_type": "stream",
     "text": [
      "                   all        598        983      0.337      0.304      0.267      0.109\n"
     ]
    },
    {
     "name": "stderr",
     "output_type": "stream",
     "text": [
      "\n"
     ]
    },
    {
     "name": "stdout",
     "output_type": "stream",
     "text": [
      "\n",
      "      Epoch    GPU_mem   box_loss   cls_loss   dfl_loss  Instances       Size\n"
     ]
    },
    {
     "name": "stderr",
     "output_type": "stream",
     "text": [
      "      8/100      7.34G      1.676       1.73      1.713         31        640: 100%|██████████| 76/76 [00:28<00:00,  2.64it/s]\n",
      "                 Class     Images  Instances      Box(P          R      mAP50  mAP50-95): 100%|██████████| 10/10 [00:07<00:00,  1.35it/s]"
     ]
    },
    {
     "name": "stdout",
     "output_type": "stream",
     "text": [
      "                   all        598        983       0.51       0.41        0.4      0.176\n"
     ]
    },
    {
     "name": "stderr",
     "output_type": "stream",
     "text": [
      "\n"
     ]
    },
    {
     "name": "stdout",
     "output_type": "stream",
     "text": [
      "\n",
      "      Epoch    GPU_mem   box_loss   cls_loss   dfl_loss  Instances       Size\n"
     ]
    },
    {
     "name": "stderr",
     "output_type": "stream",
     "text": [
      "      9/100      7.34G      1.627      1.665      1.676         22        640: 100%|██████████| 76/76 [00:28<00:00,  2.69it/s]\n",
      "                 Class     Images  Instances      Box(P          R      mAP50  mAP50-95): 100%|██████████| 10/10 [00:07<00:00,  1.27it/s]\n"
     ]
    },
    {
     "name": "stdout",
     "output_type": "stream",
     "text": [
      "                   all        598        983      0.534      0.449      0.445      0.208\n",
      "\n",
      "      Epoch    GPU_mem   box_loss   cls_loss   dfl_loss  Instances       Size\n"
     ]
    },
    {
     "name": "stderr",
     "output_type": "stream",
     "text": [
      "     10/100      7.34G      1.617      1.645      1.673         34        640: 100%|██████████| 76/76 [00:28<00:00,  2.67it/s]\n",
      "                 Class     Images  Instances      Box(P          R      mAP50  mAP50-95): 100%|██████████| 10/10 [00:07<00:00,  1.30it/s]\n"
     ]
    },
    {
     "name": "stdout",
     "output_type": "stream",
     "text": [
      "                   all        598        983      0.568      0.427      0.457      0.215\n",
      "\n",
      "      Epoch    GPU_mem   box_loss   cls_loss   dfl_loss  Instances       Size\n"
     ]
    },
    {
     "name": "stderr",
     "output_type": "stream",
     "text": [
      "     11/100      7.34G      1.575      1.558      1.629         36        640: 100%|██████████| 76/76 [00:28<00:00,  2.71it/s]\n",
      "                 Class     Images  Instances      Box(P          R      mAP50  mAP50-95): 100%|██████████| 10/10 [00:07<00:00,  1.26it/s]\n"
     ]
    },
    {
     "name": "stdout",
     "output_type": "stream",
     "text": [
      "                   all        598        983      0.564       0.48      0.509      0.244\n",
      "\n",
      "      Epoch    GPU_mem   box_loss   cls_loss   dfl_loss  Instances       Size\n"
     ]
    },
    {
     "name": "stderr",
     "output_type": "stream",
     "text": [
      "     12/100      7.34G      1.574      1.552      1.632         29        640: 100%|██████████| 76/76 [00:28<00:00,  2.69it/s]\n",
      "                 Class     Images  Instances      Box(P          R      mAP50  mAP50-95): 100%|██████████| 10/10 [00:07<00:00,  1.29it/s]\n"
     ]
    },
    {
     "name": "stdout",
     "output_type": "stream",
     "text": [
      "                   all        598        983      0.587      0.503      0.503      0.254\n",
      "\n",
      "      Epoch    GPU_mem   box_loss   cls_loss   dfl_loss  Instances       Size\n"
     ]
    },
    {
     "name": "stderr",
     "output_type": "stream",
     "text": [
      "     13/100      7.34G       1.56      1.499      1.609         22        640: 100%|██████████| 76/76 [00:28<00:00,  2.68it/s]\n",
      "                 Class     Images  Instances      Box(P          R      mAP50  mAP50-95): 100%|██████████| 10/10 [00:07<00:00,  1.29it/s]"
     ]
    },
    {
     "name": "stdout",
     "output_type": "stream",
     "text": [
      "                   all        598        983       0.62      0.441      0.487      0.239\n"
     ]
    },
    {
     "name": "stderr",
     "output_type": "stream",
     "text": [
      "\n"
     ]
    },
    {
     "name": "stdout",
     "output_type": "stream",
     "text": [
      "\n",
      "      Epoch    GPU_mem   box_loss   cls_loss   dfl_loss  Instances       Size\n"
     ]
    },
    {
     "name": "stderr",
     "output_type": "stream",
     "text": [
      "     14/100      7.34G      1.526      1.446      1.592         26        640: 100%|██████████| 76/76 [00:28<00:00,  2.64it/s]\n",
      "                 Class     Images  Instances      Box(P          R      mAP50  mAP50-95): 100%|██████████| 10/10 [00:07<00:00,  1.31it/s]"
     ]
    },
    {
     "name": "stdout",
     "output_type": "stream",
     "text": [
      "                   all        598        983      0.579      0.471      0.499      0.241\n"
     ]
    },
    {
     "name": "stderr",
     "output_type": "stream",
     "text": [
      "\n"
     ]
    },
    {
     "name": "stdout",
     "output_type": "stream",
     "text": [
      "\n",
      "      Epoch    GPU_mem   box_loss   cls_loss   dfl_loss  Instances       Size\n"
     ]
    },
    {
     "name": "stderr",
     "output_type": "stream",
     "text": [
      "     15/100      7.34G      1.494      1.419      1.561         28        640: 100%|██████████| 76/76 [00:28<00:00,  2.68it/s]\n",
      "                 Class     Images  Instances      Box(P          R      mAP50  mAP50-95): 100%|██████████| 10/10 [00:07<00:00,  1.31it/s]"
     ]
    },
    {
     "name": "stdout",
     "output_type": "stream",
     "text": [
      "                   all        598        983      0.607      0.473      0.524      0.268\n"
     ]
    },
    {
     "name": "stderr",
     "output_type": "stream",
     "text": [
      "\n"
     ]
    },
    {
     "name": "stdout",
     "output_type": "stream",
     "text": [
      "\n",
      "      Epoch    GPU_mem   box_loss   cls_loss   dfl_loss  Instances       Size\n"
     ]
    },
    {
     "name": "stderr",
     "output_type": "stream",
     "text": [
      "     16/100      7.34G      1.464      1.386      1.564         47        640: 100%|██████████| 76/76 [00:28<00:00,  2.68it/s]\n",
      "                 Class     Images  Instances      Box(P          R      mAP50  mAP50-95): 100%|██████████| 10/10 [00:07<00:00,  1.28it/s]\n"
     ]
    },
    {
     "name": "stdout",
     "output_type": "stream",
     "text": [
      "                   all        598        983      0.653      0.494      0.548      0.276\n",
      "\n",
      "      Epoch    GPU_mem   box_loss   cls_loss   dfl_loss  Instances       Size\n"
     ]
    },
    {
     "name": "stderr",
     "output_type": "stream",
     "text": [
      "     17/100      7.34G      1.455      1.352      1.542         30        640: 100%|██████████| 76/76 [00:28<00:00,  2.68it/s]\n",
      "                 Class     Images  Instances      Box(P          R      mAP50  mAP50-95): 100%|██████████| 10/10 [00:07<00:00,  1.29it/s]"
     ]
    },
    {
     "name": "stdout",
     "output_type": "stream",
     "text": [
      "                   all        598        983      0.648      0.535      0.585      0.314\n"
     ]
    },
    {
     "name": "stderr",
     "output_type": "stream",
     "text": [
      "\n"
     ]
    },
    {
     "name": "stdout",
     "output_type": "stream",
     "text": [
      "\n",
      "      Epoch    GPU_mem   box_loss   cls_loss   dfl_loss  Instances       Size\n"
     ]
    },
    {
     "name": "stderr",
     "output_type": "stream",
     "text": [
      "     18/100      7.34G      1.455      1.347      1.543         29        640: 100%|██████████| 76/76 [00:28<00:00,  2.70it/s]\n",
      "                 Class     Images  Instances      Box(P          R      mAP50  mAP50-95): 100%|██████████| 10/10 [00:07<00:00,  1.29it/s]"
     ]
    },
    {
     "name": "stdout",
     "output_type": "stream",
     "text": [
      "                   all        598        983      0.619      0.522      0.563      0.284\n"
     ]
    },
    {
     "name": "stderr",
     "output_type": "stream",
     "text": [
      "\n"
     ]
    },
    {
     "name": "stdout",
     "output_type": "stream",
     "text": [
      "\n",
      "      Epoch    GPU_mem   box_loss   cls_loss   dfl_loss  Instances       Size\n"
     ]
    },
    {
     "name": "stderr",
     "output_type": "stream",
     "text": [
      "     19/100      7.34G       1.44      1.282      1.528         34        640: 100%|██████████| 76/76 [00:28<00:00,  2.68it/s]\n",
      "                 Class     Images  Instances      Box(P          R      mAP50  mAP50-95): 100%|██████████| 10/10 [00:07<00:00,  1.29it/s]\n"
     ]
    },
    {
     "name": "stdout",
     "output_type": "stream",
     "text": [
      "                   all        598        983      0.689      0.523      0.556      0.287\n",
      "\n",
      "      Epoch    GPU_mem   box_loss   cls_loss   dfl_loss  Instances       Size\n"
     ]
    },
    {
     "name": "stderr",
     "output_type": "stream",
     "text": [
      "     20/100      7.34G      1.421      1.265      1.515         27        640: 100%|██████████| 76/76 [00:28<00:00,  2.62it/s]\n",
      "                 Class     Images  Instances      Box(P          R      mAP50  mAP50-95): 100%|██████████| 10/10 [00:07<00:00,  1.38it/s]\n"
     ]
    },
    {
     "name": "stdout",
     "output_type": "stream",
     "text": [
      "                   all        598        983      0.609      0.557      0.569        0.3\n",
      "\n",
      "      Epoch    GPU_mem   box_loss   cls_loss   dfl_loss  Instances       Size\n"
     ]
    },
    {
     "name": "stderr",
     "output_type": "stream",
     "text": [
      "     21/100      7.34G      1.435      1.278      1.519         36        640: 100%|██████████| 76/76 [00:28<00:00,  2.67it/s]\n",
      "                 Class     Images  Instances      Box(P          R      mAP50  mAP50-95): 100%|██████████| 10/10 [00:07<00:00,  1.35it/s]\n"
     ]
    },
    {
     "name": "stdout",
     "output_type": "stream",
     "text": [
      "                   all        598        983      0.673      0.548      0.588      0.318\n",
      "\n",
      "      Epoch    GPU_mem   box_loss   cls_loss   dfl_loss  Instances       Size\n"
     ]
    },
    {
     "name": "stderr",
     "output_type": "stream",
     "text": [
      "     22/100      7.34G      1.409      1.263        1.5         36        640: 100%|██████████| 76/76 [00:28<00:00,  2.67it/s]\n",
      "                 Class     Images  Instances      Box(P          R      mAP50  mAP50-95): 100%|██████████| 10/10 [00:07<00:00,  1.31it/s]\n"
     ]
    },
    {
     "name": "stdout",
     "output_type": "stream",
     "text": [
      "                   all        598        983      0.591      0.532       0.55      0.295\n",
      "\n",
      "      Epoch    GPU_mem   box_loss   cls_loss   dfl_loss  Instances       Size\n"
     ]
    },
    {
     "name": "stderr",
     "output_type": "stream",
     "text": [
      "     23/100      7.34G      1.399      1.241      1.501         34        640: 100%|██████████| 76/76 [00:28<00:00,  2.65it/s]\n",
      "                 Class     Images  Instances      Box(P          R      mAP50  mAP50-95): 100%|██████████| 10/10 [00:07<00:00,  1.35it/s]\n"
     ]
    },
    {
     "name": "stdout",
     "output_type": "stream",
     "text": [
      "                   all        598        983      0.651      0.571      0.597      0.324\n",
      "\n",
      "      Epoch    GPU_mem   box_loss   cls_loss   dfl_loss  Instances       Size\n"
     ]
    },
    {
     "name": "stderr",
     "output_type": "stream",
     "text": [
      "     24/100      7.34G      1.383      1.214      1.482         25        640: 100%|██████████| 76/76 [00:28<00:00,  2.67it/s]\n",
      "                 Class     Images  Instances      Box(P          R      mAP50  mAP50-95): 100%|██████████| 10/10 [00:07<00:00,  1.33it/s]"
     ]
    },
    {
     "name": "stdout",
     "output_type": "stream",
     "text": [
      "                   all        598        983      0.676      0.552      0.604      0.318\n"
     ]
    },
    {
     "name": "stderr",
     "output_type": "stream",
     "text": [
      "\n"
     ]
    },
    {
     "name": "stdout",
     "output_type": "stream",
     "text": [
      "\n",
      "      Epoch    GPU_mem   box_loss   cls_loss   dfl_loss  Instances       Size\n"
     ]
    },
    {
     "name": "stderr",
     "output_type": "stream",
     "text": [
      "     25/100      7.34G      1.365      1.197      1.479         38        640: 100%|██████████| 76/76 [00:28<00:00,  2.65it/s]\n",
      "                 Class     Images  Instances      Box(P          R      mAP50  mAP50-95): 100%|██████████| 10/10 [00:07<00:00,  1.34it/s]\n"
     ]
    },
    {
     "name": "stdout",
     "output_type": "stream",
     "text": [
      "                   all        598        983       0.74      0.562      0.619      0.341\n",
      "\n",
      "      Epoch    GPU_mem   box_loss   cls_loss   dfl_loss  Instances       Size\n"
     ]
    },
    {
     "name": "stderr",
     "output_type": "stream",
     "text": [
      "     26/100      7.34G      1.355       1.18      1.467         24        640: 100%|██████████| 76/76 [00:28<00:00,  2.68it/s]\n",
      "                 Class     Images  Instances      Box(P          R      mAP50  mAP50-95): 100%|██████████| 10/10 [00:07<00:00,  1.32it/s]"
     ]
    },
    {
     "name": "stdout",
     "output_type": "stream",
     "text": [
      "                   all        598        983      0.676      0.528        0.6      0.318\n"
     ]
    },
    {
     "name": "stderr",
     "output_type": "stream",
     "text": [
      "\n"
     ]
    },
    {
     "name": "stdout",
     "output_type": "stream",
     "text": [
      "\n",
      "      Epoch    GPU_mem   box_loss   cls_loss   dfl_loss  Instances       Size\n"
     ]
    },
    {
     "name": "stderr",
     "output_type": "stream",
     "text": [
      "     27/100      7.34G      1.353      1.183       1.46         29        640: 100%|██████████| 76/76 [00:28<00:00,  2.70it/s]\n",
      "                 Class     Images  Instances      Box(P          R      mAP50  mAP50-95): 100%|██████████| 10/10 [00:07<00:00,  1.26it/s]\n"
     ]
    },
    {
     "name": "stdout",
     "output_type": "stream",
     "text": [
      "                   all        598        983       0.63      0.566      0.596      0.327\n",
      "\n",
      "      Epoch    GPU_mem   box_loss   cls_loss   dfl_loss  Instances       Size\n"
     ]
    },
    {
     "name": "stderr",
     "output_type": "stream",
     "text": [
      "     28/100      7.34G      1.344      1.145       1.45         32        640: 100%|██████████| 76/76 [00:27<00:00,  2.72it/s]\n",
      "                 Class     Images  Instances      Box(P          R      mAP50  mAP50-95): 100%|██████████| 10/10 [00:07<00:00,  1.26it/s]"
     ]
    },
    {
     "name": "stdout",
     "output_type": "stream",
     "text": [
      "                   all        598        983      0.724      0.585      0.659      0.375\n"
     ]
    },
    {
     "name": "stderr",
     "output_type": "stream",
     "text": [
      "\n"
     ]
    },
    {
     "name": "stdout",
     "output_type": "stream",
     "text": [
      "\n",
      "      Epoch    GPU_mem   box_loss   cls_loss   dfl_loss  Instances       Size\n"
     ]
    },
    {
     "name": "stderr",
     "output_type": "stream",
     "text": [
      "     29/100      7.34G      1.347       1.15      1.454         30        640: 100%|██████████| 76/76 [00:28<00:00,  2.67it/s]\n",
      "                 Class     Images  Instances      Box(P          R      mAP50  mAP50-95): 100%|██████████| 10/10 [00:07<00:00,  1.30it/s]"
     ]
    },
    {
     "name": "stdout",
     "output_type": "stream",
     "text": [
      "                   all        598        983       0.72      0.555       0.63      0.348\n"
     ]
    },
    {
     "name": "stderr",
     "output_type": "stream",
     "text": [
      "\n"
     ]
    },
    {
     "name": "stdout",
     "output_type": "stream",
     "text": [
      "\n",
      "      Epoch    GPU_mem   box_loss   cls_loss   dfl_loss  Instances       Size\n"
     ]
    },
    {
     "name": "stderr",
     "output_type": "stream",
     "text": [
      "     30/100      7.34G      1.323       1.12      1.434         29        640: 100%|██████████| 76/76 [00:28<00:00,  2.70it/s]\n",
      "                 Class     Images  Instances      Box(P          R      mAP50  mAP50-95): 100%|██████████| 10/10 [00:07<00:00,  1.29it/s]\n"
     ]
    },
    {
     "name": "stdout",
     "output_type": "stream",
     "text": [
      "                   all        598        983      0.733      0.549      0.642      0.353\n",
      "\n",
      "      Epoch    GPU_mem   box_loss   cls_loss   dfl_loss  Instances       Size\n"
     ]
    },
    {
     "name": "stderr",
     "output_type": "stream",
     "text": [
      "     31/100      7.34G      1.321      1.104      1.424         45        640: 100%|██████████| 76/76 [00:28<00:00,  2.68it/s]\n",
      "                 Class     Images  Instances      Box(P          R      mAP50  mAP50-95): 100%|██████████| 10/10 [00:07<00:00,  1.29it/s]"
     ]
    },
    {
     "name": "stdout",
     "output_type": "stream",
     "text": [
      "                   all        598        983      0.702      0.571      0.642      0.352\n"
     ]
    },
    {
     "name": "stderr",
     "output_type": "stream",
     "text": [
      "\n"
     ]
    },
    {
     "name": "stdout",
     "output_type": "stream",
     "text": [
      "\n",
      "      Epoch    GPU_mem   box_loss   cls_loss   dfl_loss  Instances       Size\n"
     ]
    },
    {
     "name": "stderr",
     "output_type": "stream",
     "text": [
      "     32/100      7.34G        1.3      1.131      1.419         27        640: 100%|██████████| 76/76 [00:28<00:00,  2.64it/s]\n",
      "                 Class     Images  Instances      Box(P          R      mAP50  mAP50-95): 100%|██████████| 10/10 [00:07<00:00,  1.37it/s]"
     ]
    },
    {
     "name": "stdout",
     "output_type": "stream",
     "text": [
      "                   all        598        983      0.751      0.623      0.687      0.387\n"
     ]
    },
    {
     "name": "stderr",
     "output_type": "stream",
     "text": [
      "\n"
     ]
    },
    {
     "name": "stdout",
     "output_type": "stream",
     "text": [
      "\n",
      "      Epoch    GPU_mem   box_loss   cls_loss   dfl_loss  Instances       Size\n"
     ]
    },
    {
     "name": "stderr",
     "output_type": "stream",
     "text": [
      "     33/100      7.34G      1.265      1.058      1.404         37        640: 100%|██████████| 76/76 [00:28<00:00,  2.70it/s]\n",
      "                 Class     Images  Instances      Box(P          R      mAP50  mAP50-95): 100%|██████████| 10/10 [00:07<00:00,  1.27it/s]\n"
     ]
    },
    {
     "name": "stdout",
     "output_type": "stream",
     "text": [
      "                   all        598        983      0.666      0.626      0.672      0.373\n",
      "\n",
      "      Epoch    GPU_mem   box_loss   cls_loss   dfl_loss  Instances       Size\n"
     ]
    },
    {
     "name": "stderr",
     "output_type": "stream",
     "text": [
      "     34/100      7.34G      1.276      1.076      1.407         25        640: 100%|██████████| 76/76 [00:28<00:00,  2.69it/s]\n",
      "                 Class     Images  Instances      Box(P          R      mAP50  mAP50-95): 100%|██████████| 10/10 [00:07<00:00,  1.29it/s]\n"
     ]
    },
    {
     "name": "stdout",
     "output_type": "stream",
     "text": [
      "                   all        598        983      0.738      0.606      0.677      0.389\n",
      "\n",
      "      Epoch    GPU_mem   box_loss   cls_loss   dfl_loss  Instances       Size\n"
     ]
    },
    {
     "name": "stderr",
     "output_type": "stream",
     "text": [
      "     35/100      7.34G      1.287      1.057      1.407         34        640: 100%|██████████| 76/76 [00:28<00:00,  2.65it/s]\n",
      "                 Class     Images  Instances      Box(P          R      mAP50  mAP50-95): 100%|██████████| 10/10 [00:07<00:00,  1.32it/s]"
     ]
    },
    {
     "name": "stdout",
     "output_type": "stream",
     "text": [
      "                   all        598        983      0.736      0.605      0.668      0.376\n"
     ]
    },
    {
     "name": "stderr",
     "output_type": "stream",
     "text": [
      "\n"
     ]
    },
    {
     "name": "stdout",
     "output_type": "stream",
     "text": [
      "\n",
      "      Epoch    GPU_mem   box_loss   cls_loss   dfl_loss  Instances       Size\n"
     ]
    },
    {
     "name": "stderr",
     "output_type": "stream",
     "text": [
      "     36/100      7.34G      1.255      1.035       1.39         23        640: 100%|██████████| 76/76 [00:28<00:00,  2.68it/s]\n",
      "                 Class     Images  Instances      Box(P          R      mAP50  mAP50-95): 100%|██████████| 10/10 [00:07<00:00,  1.29it/s]\n"
     ]
    },
    {
     "name": "stdout",
     "output_type": "stream",
     "text": [
      "                   all        598        983      0.748      0.616       0.68      0.396\n",
      "\n",
      "      Epoch    GPU_mem   box_loss   cls_loss   dfl_loss  Instances       Size\n"
     ]
    },
    {
     "name": "stderr",
     "output_type": "stream",
     "text": [
      "     37/100      7.34G      1.239      1.017      1.385         33        640: 100%|██████████| 76/76 [00:28<00:00,  2.68it/s]\n",
      "                 Class     Images  Instances      Box(P          R      mAP50  mAP50-95): 100%|██████████| 10/10 [00:07<00:00,  1.28it/s]\n"
     ]
    },
    {
     "name": "stdout",
     "output_type": "stream",
     "text": [
      "                   all        598        983      0.746      0.596      0.686      0.382\n",
      "\n",
      "      Epoch    GPU_mem   box_loss   cls_loss   dfl_loss  Instances       Size\n"
     ]
    },
    {
     "name": "stderr",
     "output_type": "stream",
     "text": [
      "     38/100      7.34G      1.253      1.027      1.385         40        640: 100%|██████████| 76/76 [00:28<00:00,  2.68it/s]\n",
      "                 Class     Images  Instances      Box(P          R      mAP50  mAP50-95): 100%|██████████| 10/10 [00:07<00:00,  1.28it/s]\n"
     ]
    },
    {
     "name": "stdout",
     "output_type": "stream",
     "text": [
      "                   all        598        983       0.74      0.587      0.658      0.367\n",
      "\n",
      "      Epoch    GPU_mem   box_loss   cls_loss   dfl_loss  Instances       Size\n"
     ]
    },
    {
     "name": "stderr",
     "output_type": "stream",
     "text": [
      "     39/100      7.34G      1.243      1.013      1.388         35        640: 100%|██████████| 76/76 [00:28<00:00,  2.69it/s]\n",
      "                 Class     Images  Instances      Box(P          R      mAP50  mAP50-95): 100%|██████████| 10/10 [00:07<00:00,  1.27it/s]"
     ]
    },
    {
     "name": "stdout",
     "output_type": "stream",
     "text": [
      "                   all        598        983      0.694      0.636      0.678      0.384\n"
     ]
    },
    {
     "name": "stderr",
     "output_type": "stream",
     "text": [
      "\n"
     ]
    },
    {
     "name": "stdout",
     "output_type": "stream",
     "text": [
      "\n",
      "      Epoch    GPU_mem   box_loss   cls_loss   dfl_loss  Instances       Size\n"
     ]
    },
    {
     "name": "stderr",
     "output_type": "stream",
     "text": [
      "     40/100      7.34G      1.234     0.9916      1.373         35        640: 100%|██████████| 76/76 [00:28<00:00,  2.70it/s]\n",
      "                 Class     Images  Instances      Box(P          R      mAP50  mAP50-95): 100%|██████████| 10/10 [00:07<00:00,  1.30it/s]"
     ]
    },
    {
     "name": "stdout",
     "output_type": "stream",
     "text": [
      "                   all        598        983      0.767      0.652        0.7      0.408\n"
     ]
    },
    {
     "name": "stderr",
     "output_type": "stream",
     "text": [
      "\n"
     ]
    },
    {
     "name": "stdout",
     "output_type": "stream",
     "text": [
      "\n",
      "      Epoch    GPU_mem   box_loss   cls_loss   dfl_loss  Instances       Size\n"
     ]
    },
    {
     "name": "stderr",
     "output_type": "stream",
     "text": [
      "     41/100      7.34G       1.23     0.9803      1.358         34        640: 100%|██████████| 76/76 [00:28<00:00,  2.69it/s]\n",
      "                 Class     Images  Instances      Box(P          R      mAP50  mAP50-95): 100%|██████████| 10/10 [00:07<00:00,  1.28it/s]"
     ]
    },
    {
     "name": "stdout",
     "output_type": "stream",
     "text": [
      "                   all        598        983      0.717      0.588      0.671       0.38\n"
     ]
    },
    {
     "name": "stderr",
     "output_type": "stream",
     "text": [
      "\n"
     ]
    },
    {
     "name": "stdout",
     "output_type": "stream",
     "text": [
      "\n",
      "      Epoch    GPU_mem   box_loss   cls_loss   dfl_loss  Instances       Size\n"
     ]
    },
    {
     "name": "stderr",
     "output_type": "stream",
     "text": [
      "     42/100      7.34G      1.213     0.9666      1.361         24        640: 100%|██████████| 76/76 [00:28<00:00,  2.68it/s]\n",
      "                 Class     Images  Instances      Box(P          R      mAP50  mAP50-95): 100%|██████████| 10/10 [00:07<00:00,  1.30it/s]"
     ]
    },
    {
     "name": "stdout",
     "output_type": "stream",
     "text": [
      "                   all        598        983      0.699      0.655      0.692        0.4\n"
     ]
    },
    {
     "name": "stderr",
     "output_type": "stream",
     "text": [
      "\n"
     ]
    },
    {
     "name": "stdout",
     "output_type": "stream",
     "text": [
      "\n",
      "      Epoch    GPU_mem   box_loss   cls_loss   dfl_loss  Instances       Size\n"
     ]
    },
    {
     "name": "stderr",
     "output_type": "stream",
     "text": [
      "     43/100      7.34G      1.217     0.9662      1.359         36        640: 100%|██████████| 76/76 [00:28<00:00,  2.67it/s]\n",
      "                 Class     Images  Instances      Box(P          R      mAP50  mAP50-95): 100%|██████████| 10/10 [00:07<00:00,  1.29it/s]\n"
     ]
    },
    {
     "name": "stdout",
     "output_type": "stream",
     "text": [
      "                   all        598        983      0.714      0.609      0.654      0.371\n",
      "\n",
      "      Epoch    GPU_mem   box_loss   cls_loss   dfl_loss  Instances       Size\n"
     ]
    },
    {
     "name": "stderr",
     "output_type": "stream",
     "text": [
      "     44/100      7.34G      1.204     0.9574      1.362         28        640: 100%|██████████| 76/76 [00:28<00:00,  2.67it/s]\n",
      "                 Class     Images  Instances      Box(P          R      mAP50  mAP50-95): 100%|██████████| 10/10 [00:07<00:00,  1.35it/s]"
     ]
    },
    {
     "name": "stdout",
     "output_type": "stream",
     "text": [
      "                   all        598        983      0.753      0.621      0.705      0.404\n"
     ]
    },
    {
     "name": "stderr",
     "output_type": "stream",
     "text": [
      "\n"
     ]
    },
    {
     "name": "stdout",
     "output_type": "stream",
     "text": [
      "\n",
      "      Epoch    GPU_mem   box_loss   cls_loss   dfl_loss  Instances       Size\n"
     ]
    },
    {
     "name": "stderr",
     "output_type": "stream",
     "text": [
      "     45/100      7.34G      1.177     0.9435      1.339         34        640: 100%|██████████| 76/76 [00:28<00:00,  2.67it/s]\n",
      "                 Class     Images  Instances      Box(P          R      mAP50  mAP50-95): 100%|██████████| 10/10 [00:07<00:00,  1.30it/s]"
     ]
    },
    {
     "name": "stdout",
     "output_type": "stream",
     "text": [
      "                   all        598        983      0.707      0.677      0.697      0.401\n"
     ]
    },
    {
     "name": "stderr",
     "output_type": "stream",
     "text": [
      "\n"
     ]
    },
    {
     "name": "stdout",
     "output_type": "stream",
     "text": [
      "\n",
      "      Epoch    GPU_mem   box_loss   cls_loss   dfl_loss  Instances       Size\n"
     ]
    },
    {
     "name": "stderr",
     "output_type": "stream",
     "text": [
      "     46/100      7.34G      1.185     0.9191      1.336         44        640: 100%|██████████| 76/76 [00:28<00:00,  2.67it/s]\n",
      "                 Class     Images  Instances      Box(P          R      mAP50  mAP50-95): 100%|██████████| 10/10 [00:07<00:00,  1.33it/s]"
     ]
    },
    {
     "name": "stdout",
     "output_type": "stream",
     "text": [
      "                   all        598        983      0.776      0.635       0.71      0.406\n"
     ]
    },
    {
     "name": "stderr",
     "output_type": "stream",
     "text": [
      "\n"
     ]
    },
    {
     "name": "stdout",
     "output_type": "stream",
     "text": [
      "\n",
      "      Epoch    GPU_mem   box_loss   cls_loss   dfl_loss  Instances       Size\n"
     ]
    },
    {
     "name": "stderr",
     "output_type": "stream",
     "text": [
      "     47/100      7.34G      1.172     0.9074      1.322         26        640: 100%|██████████| 76/76 [00:28<00:00,  2.65it/s]\n",
      "                 Class     Images  Instances      Box(P          R      mAP50  mAP50-95): 100%|██████████| 10/10 [00:07<00:00,  1.31it/s]\n"
     ]
    },
    {
     "name": "stdout",
     "output_type": "stream",
     "text": [
      "                   all        598        983      0.762      0.593      0.691      0.395\n",
      "\n",
      "      Epoch    GPU_mem   box_loss   cls_loss   dfl_loss  Instances       Size\n"
     ]
    },
    {
     "name": "stderr",
     "output_type": "stream",
     "text": [
      "     48/100      7.34G      1.158     0.8908      1.307         30        640: 100%|██████████| 76/76 [00:28<00:00,  2.66it/s]\n",
      "                 Class     Images  Instances      Box(P          R      mAP50  mAP50-95): 100%|██████████| 10/10 [00:07<00:00,  1.31it/s]"
     ]
    },
    {
     "name": "stdout",
     "output_type": "stream",
     "text": [
      "                   all        598        983      0.719      0.649      0.691      0.393\n"
     ]
    },
    {
     "name": "stderr",
     "output_type": "stream",
     "text": [
      "\n"
     ]
    },
    {
     "name": "stdout",
     "output_type": "stream",
     "text": [
      "\n",
      "      Epoch    GPU_mem   box_loss   cls_loss   dfl_loss  Instances       Size\n"
     ]
    },
    {
     "name": "stderr",
     "output_type": "stream",
     "text": [
      "     49/100      7.34G      1.155     0.8893      1.314         28        640: 100%|██████████| 76/76 [00:28<00:00,  2.68it/s]\n",
      "                 Class     Images  Instances      Box(P          R      mAP50  mAP50-95): 100%|██████████| 10/10 [00:07<00:00,  1.30it/s]"
     ]
    },
    {
     "name": "stdout",
     "output_type": "stream",
     "text": [
      "                   all        598        983      0.762      0.617      0.709      0.416\n"
     ]
    },
    {
     "name": "stderr",
     "output_type": "stream",
     "text": [
      "\n"
     ]
    },
    {
     "name": "stdout",
     "output_type": "stream",
     "text": [
      "\n",
      "      Epoch    GPU_mem   box_loss   cls_loss   dfl_loss  Instances       Size\n"
     ]
    },
    {
     "name": "stderr",
     "output_type": "stream",
     "text": [
      "     50/100      7.34G      1.135     0.8912      1.303         23        640: 100%|██████████| 76/76 [00:28<00:00,  2.69it/s]\n",
      "                 Class     Images  Instances      Box(P          R      mAP50  mAP50-95): 100%|██████████| 10/10 [00:07<00:00,  1.32it/s]"
     ]
    },
    {
     "name": "stdout",
     "output_type": "stream",
     "text": [
      "                   all        598        983      0.751      0.622      0.699      0.396\n"
     ]
    },
    {
     "name": "stderr",
     "output_type": "stream",
     "text": [
      "\n"
     ]
    },
    {
     "name": "stdout",
     "output_type": "stream",
     "text": [
      "\n",
      "      Epoch    GPU_mem   box_loss   cls_loss   dfl_loss  Instances       Size\n"
     ]
    },
    {
     "name": "stderr",
     "output_type": "stream",
     "text": [
      "     51/100      7.33G      1.137     0.8725      1.304         25        640: 100%|██████████| 76/76 [00:28<00:00,  2.65it/s]\n",
      "                 Class     Images  Instances      Box(P          R      mAP50  mAP50-95): 100%|██████████| 10/10 [00:07<00:00,  1.33it/s]"
     ]
    },
    {
     "name": "stdout",
     "output_type": "stream",
     "text": [
      "                   all        598        983       0.75      0.638      0.697      0.405\n"
     ]
    },
    {
     "name": "stderr",
     "output_type": "stream",
     "text": [
      "\n"
     ]
    },
    {
     "name": "stdout",
     "output_type": "stream",
     "text": [
      "\n",
      "      Epoch    GPU_mem   box_loss   cls_loss   dfl_loss  Instances       Size\n"
     ]
    },
    {
     "name": "stderr",
     "output_type": "stream",
     "text": [
      "     52/100      7.34G       1.12     0.8503      1.285         37        640: 100%|██████████| 76/76 [00:28<00:00,  2.66it/s]\n",
      "                 Class     Images  Instances      Box(P          R      mAP50  mAP50-95): 100%|██████████| 10/10 [00:07<00:00,  1.32it/s]\n"
     ]
    },
    {
     "name": "stdout",
     "output_type": "stream",
     "text": [
      "                   all        598        983      0.776      0.628      0.711      0.416\n",
      "\n",
      "      Epoch    GPU_mem   box_loss   cls_loss   dfl_loss  Instances       Size\n"
     ]
    },
    {
     "name": "stderr",
     "output_type": "stream",
     "text": [
      "     53/100      7.34G      1.112     0.8444      1.296         27        640: 100%|██████████| 76/76 [00:28<00:00,  2.69it/s]\n",
      "                 Class     Images  Instances      Box(P          R      mAP50  mAP50-95): 100%|██████████| 10/10 [00:07<00:00,  1.27it/s]"
     ]
    },
    {
     "name": "stdout",
     "output_type": "stream",
     "text": [
      "                   all        598        983      0.764      0.626      0.708      0.413\n"
     ]
    },
    {
     "name": "stderr",
     "output_type": "stream",
     "text": [
      "\n"
     ]
    }
   ],
   "source": [
    "# 0516\n",
    "\n",
    "from ultralytics import YOLO\n",
    "\n",
    "# Load a model\n",
    "model = YOLO('yolov8s.yaml')  # build a new model from YAML\n",
    "model = YOLO('yolov8s.pt')  # load a pretrained model (recommended for training)\n",
    "model = YOLO('yolov8s.yaml').load('yolov8s.pt')  # build from YAML and transfer weights\n",
    "\n",
    "# Train the model\n",
    "results = model.train(data='/raid/coss27/datasets/add_smoke_data/data.yaml', epochs=100, batch=32, imgsz=640)"
   ]
  },
  {
   "cell_type": "code",
   "execution_count": 7,
   "id": "4b602306",
   "metadata": {},
   "outputs": [
    {
     "name": "stdout",
     "output_type": "stream",
     "text": [
      "New https://pypi.org/project/ultralytics/8.2.16 available 😃 Update with 'pip install -U ultralytics'\n",
      "Ultralytics YOLOv8.1.38 🚀 Python-3.8.10 torch-2.1.0a0+fe05266 CUDA:0 (NVIDIA RTX A6000, 48677MiB)\n",
      "\u001b[34m\u001b[1mengine/trainer: \u001b[0mtask=detect, mode=train, model=runs/detect/train3/weights/last.pt, data=/raid/coss27/datasets/add_smoke_data/data.yaml, epochs=100, time=None, patience=100, batch=32, imgsz=640, save=True, save_period=-1, cache=False, device=None, workers=8, project=None, name=train3, exist_ok=False, pretrained=True, optimizer=auto, verbose=True, seed=0, deterministic=True, single_cls=False, rect=False, cos_lr=False, close_mosaic=10, resume=False, amp=True, fraction=1.0, profile=False, freeze=None, multi_scale=False, overlap_mask=True, mask_ratio=4, dropout=0.0, val=True, split=val, save_json=False, save_hybrid=False, conf=None, iou=0.7, max_det=300, half=False, dnn=False, plots=True, source=None, vid_stride=1, stream_buffer=False, visualize=False, augment=False, agnostic_nms=False, classes=None, retina_masks=False, embed=None, show=False, save_frames=False, save_txt=False, save_conf=False, save_crop=False, show_labels=True, show_conf=True, show_boxes=True, line_width=None, format=torchscript, keras=False, optimize=False, int8=False, dynamic=False, simplify=False, opset=None, workspace=4, nms=False, lr0=0.01, lrf=0.01, momentum=0.937, weight_decay=0.0005, warmup_epochs=3.0, warmup_momentum=0.8, warmup_bias_lr=0.0, box=7.5, cls=0.5, dfl=1.5, pose=12.0, kobj=1.0, label_smoothing=0.0, nbs=64, hsv_h=0.015, hsv_s=0.7, hsv_v=0.4, degrees=0.0, translate=0.1, scale=0.5, shear=0.0, perspective=0.0, flipud=0.0, fliplr=0.5, bgr=0.0, mosaic=1.0, mixup=0.0, copy_paste=0.0, auto_augment=randaugment, erasing=0.4, crop_fraction=1.0, cfg=None, tracker=botsort.yaml, save_dir=runs/detect/train3\n",
      "\u001b[34m\u001b[1mTensorBoard: \u001b[0mStart with 'tensorboard --logdir runs/detect/train3', view at http://localhost:6006/\n",
      "\n",
      "                   from  n    params  module                                       arguments                     \n",
      "  0                  -1  1       928  ultralytics.nn.modules.conv.Conv             [3, 32, 3, 2]                 \n",
      "  1                  -1  1     18560  ultralytics.nn.modules.conv.Conv             [32, 64, 3, 2]                \n",
      "  2                  -1  1     29056  ultralytics.nn.modules.block.C2f             [64, 64, 1, True]             \n",
      "  3                  -1  1     73984  ultralytics.nn.modules.conv.Conv             [64, 128, 3, 2]               \n",
      "  4                  -1  2    197632  ultralytics.nn.modules.block.C2f             [128, 128, 2, True]           \n",
      "  5                  -1  1    295424  ultralytics.nn.modules.conv.Conv             [128, 256, 3, 2]              \n",
      "  6                  -1  2    788480  ultralytics.nn.modules.block.C2f             [256, 256, 2, True]           \n",
      "  7                  -1  1   1180672  ultralytics.nn.modules.conv.Conv             [256, 512, 3, 2]              \n",
      "  8                  -1  1   1838080  ultralytics.nn.modules.block.C2f             [512, 512, 1, True]           \n",
      "  9                  -1  1    656896  ultralytics.nn.modules.block.SPPF            [512, 512, 5]                 \n",
      " 10                  -1  1         0  torch.nn.modules.upsampling.Upsample         [None, 2, 'nearest']          \n",
      " 11             [-1, 6]  1         0  ultralytics.nn.modules.conv.Concat           [1]                           \n",
      " 12                  -1  1    591360  ultralytics.nn.modules.block.C2f             [768, 256, 1]                 \n",
      " 13                  -1  1         0  torch.nn.modules.upsampling.Upsample         [None, 2, 'nearest']          \n",
      " 14             [-1, 4]  1         0  ultralytics.nn.modules.conv.Concat           [1]                           \n",
      " 15                  -1  1    148224  ultralytics.nn.modules.block.C2f             [384, 128, 1]                 \n",
      " 16                  -1  1    147712  ultralytics.nn.modules.conv.Conv             [128, 128, 3, 2]              \n",
      " 17            [-1, 12]  1         0  ultralytics.nn.modules.conv.Concat           [1]                           \n",
      " 18                  -1  1    493056  ultralytics.nn.modules.block.C2f             [384, 256, 1]                 \n",
      " 19                  -1  1    590336  ultralytics.nn.modules.conv.Conv             [256, 256, 3, 2]              \n",
      " 20             [-1, 9]  1         0  ultralytics.nn.modules.conv.Concat           [1]                           \n",
      " 21                  -1  1   1969152  ultralytics.nn.modules.block.C2f             [768, 512, 1]                 \n",
      " 22        [15, 18, 21]  1   2116822  ultralytics.nn.modules.head.Detect           [2, [128, 256, 512]]          \n",
      "YOLOv8s summary: 225 layers, 11136374 parameters, 11136358 gradients, 28.6 GFLOPs\n",
      "\n",
      "Transferred 355/355 items from pretrained weights\n",
      "Freezing layer 'model.22.dfl.conv.weight'\n",
      "\u001b[34m\u001b[1mAMP: \u001b[0mrunning Automatic Mixed Precision (AMP) checks with YOLOv8n...\n",
      "\u001b[34m\u001b[1mAMP: \u001b[0mchecks passed ✅\n"
     ]
    },
    {
     "name": "stderr",
     "output_type": "stream",
     "text": [
      "\u001b[34m\u001b[1mtrain: \u001b[0mScanning /raid/coss27/datasets/add_smoke_data/train/labels.cache... 2413 images, 0 backgrounds, 0 corrupt: 100%|██████████| 2413/2413 [00:00<?, ?it/s]\n",
      "/usr/local/lib/python3.8/dist-packages/torch/utils/data/dataloader.py:561: UserWarning: This DataLoader will create 8 worker processes in total. Our suggested max number of worker in current system is 2, which is smaller than what this DataLoader is going to create. Please be aware that excessive worker creation might get DataLoader running slow or even freeze, lower the worker number to avoid potential slowness/freeze if necessary.\n",
      "  warnings.warn(_create_warning_msg(\n",
      "\u001b[34m\u001b[1mval: \u001b[0mScanning /raid/coss27/datasets/add_smoke_data/valid/labels.cache... 598 images, 0 backgrounds, 0 corrupt: 100%|██████████| 598/598 [00:00<?, ?it/s]"
     ]
    },
    {
     "name": "stdout",
     "output_type": "stream",
     "text": [
      "WARNING ⚠️ Box and segment counts should be equal, but got len(segments) = 1, len(boxes) = 983. To resolve this only boxes will be used and all segments will be removed. To avoid this please supply either a detect or segment dataset, not a detect-segment mixed dataset.\n"
     ]
    },
    {
     "name": "stderr",
     "output_type": "stream",
     "text": [
      "\n",
      "/usr/local/lib/python3.8/dist-packages/torch/utils/data/dataloader.py:561: UserWarning: This DataLoader will create 16 worker processes in total. Our suggested max number of worker in current system is 2, which is smaller than what this DataLoader is going to create. Please be aware that excessive worker creation might get DataLoader running slow or even freeze, lower the worker number to avoid potential slowness/freeze if necessary.\n",
      "  warnings.warn(_create_warning_msg(\n"
     ]
    },
    {
     "name": "stdout",
     "output_type": "stream",
     "text": [
      "Plotting labels to runs/detect/train3/labels.jpg... \n",
      "\u001b[34m\u001b[1moptimizer:\u001b[0m 'optimizer=auto' found, ignoring 'lr0=0.01' and 'momentum=0.937' and determining best 'optimizer', 'lr0' and 'momentum' automatically... \n",
      "\u001b[34m\u001b[1moptimizer:\u001b[0m AdamW(lr=0.001667, momentum=0.9) with parameter groups 57 weight(decay=0.0), 64 weight(decay=0.0005), 63 bias(decay=0.0)\n",
      "Resuming training from runs/detect/train3/weights/last.pt from epoch 79 to 100 total epochs\n",
      "\u001b[34m\u001b[1mTensorBoard: \u001b[0mmodel graph visualization added ✅\n",
      "Image sizes 640 train, 640 val\n",
      "Using 8 dataloader workers\n",
      "Logging results to \u001b[1mruns/detect/train3\u001b[0m\n",
      "Starting training for 100 epochs...\n",
      "\n",
      "      Epoch    GPU_mem   box_loss   cls_loss   dfl_loss  Instances       Size\n"
     ]
    },
    {
     "name": "stderr",
     "output_type": "stream",
     "text": [
      "     79/100      13.9G     0.8704     0.6186      1.129         36        640: 100%|██████████| 76/76 [00:29<00:00,  2.54it/s]\n",
      "                 Class     Images  Instances      Box(P          R      mAP50  mAP50-95): 100%|██████████| 10/10 [00:07<00:00,  1.42it/s]"
     ]
    },
    {
     "name": "stdout",
     "output_type": "stream",
     "text": [
      "                   all        598        983      0.763      0.701      0.753      0.446\n"
     ]
    },
    {
     "name": "stderr",
     "output_type": "stream",
     "text": [
      "\n"
     ]
    },
    {
     "name": "stdout",
     "output_type": "stream",
     "text": [
      "\n",
      "      Epoch    GPU_mem   box_loss   cls_loss   dfl_loss  Instances       Size\n"
     ]
    },
    {
     "name": "stderr",
     "output_type": "stream",
     "text": [
      "     80/100      13.9G     0.8629     0.6012      1.123         37        640: 100%|██████████| 76/76 [00:29<00:00,  2.62it/s]\n",
      "                 Class     Images  Instances      Box(P          R      mAP50  mAP50-95): 100%|██████████| 10/10 [00:07<00:00,  1.29it/s]"
     ]
    },
    {
     "name": "stdout",
     "output_type": "stream",
     "text": [
      "                   all        598        983      0.791       0.69      0.755      0.452\n"
     ]
    },
    {
     "name": "stderr",
     "output_type": "stream",
     "text": [
      "\n"
     ]
    },
    {
     "name": "stdout",
     "output_type": "stream",
     "text": [
      "\n",
      "      Epoch    GPU_mem   box_loss   cls_loss   dfl_loss  Instances       Size\n"
     ]
    },
    {
     "name": "stderr",
     "output_type": "stream",
     "text": [
      "     81/100      13.9G     0.8383     0.5767       1.11         27        640: 100%|██████████| 76/76 [00:28<00:00,  2.65it/s]\n",
      "                 Class     Images  Instances      Box(P          R      mAP50  mAP50-95): 100%|██████████| 10/10 [00:07<00:00,  1.31it/s]"
     ]
    },
    {
     "name": "stdout",
     "output_type": "stream",
     "text": [
      "                   all        598        983      0.733      0.725      0.754      0.451\n"
     ]
    },
    {
     "name": "stderr",
     "output_type": "stream",
     "text": [
      "\n"
     ]
    },
    {
     "name": "stdout",
     "output_type": "stream",
     "text": [
      "\n",
      "      Epoch    GPU_mem   box_loss   cls_loss   dfl_loss  Instances       Size\n"
     ]
    },
    {
     "name": "stderr",
     "output_type": "stream",
     "text": [
      "     82/100      13.7G     0.8451     0.5905      1.114         29        640: 100%|██████████| 76/76 [00:28<00:00,  2.65it/s]\n",
      "                 Class     Images  Instances      Box(P          R      mAP50  mAP50-95): 100%|██████████| 10/10 [00:07<00:00,  1.27it/s]"
     ]
    },
    {
     "name": "stdout",
     "output_type": "stream",
     "text": [
      "                   all        598        983      0.804      0.689      0.766      0.456\n"
     ]
    },
    {
     "name": "stderr",
     "output_type": "stream",
     "text": [
      "\n"
     ]
    },
    {
     "name": "stdout",
     "output_type": "stream",
     "text": [
      "\n",
      "      Epoch    GPU_mem   box_loss   cls_loss   dfl_loss  Instances       Size\n"
     ]
    },
    {
     "name": "stderr",
     "output_type": "stream",
     "text": [
      "     83/100      13.7G     0.8212     0.5809      1.101         30        640: 100%|██████████| 76/76 [00:29<00:00,  2.61it/s]\n",
      "                 Class     Images  Instances      Box(P          R      mAP50  mAP50-95): 100%|██████████| 10/10 [00:07<00:00,  1.34it/s]"
     ]
    },
    {
     "name": "stdout",
     "output_type": "stream",
     "text": [
      "                   all        598        983      0.782      0.684      0.757      0.448\n"
     ]
    },
    {
     "name": "stderr",
     "output_type": "stream",
     "text": [
      "\n"
     ]
    },
    {
     "name": "stdout",
     "output_type": "stream",
     "text": [
      "\n",
      "      Epoch    GPU_mem   box_loss   cls_loss   dfl_loss  Instances       Size\n"
     ]
    },
    {
     "name": "stderr",
     "output_type": "stream",
     "text": [
      "     84/100      13.7G      0.814     0.5584      1.104         32        640: 100%|██████████| 76/76 [00:28<00:00,  2.67it/s]\n",
      "                 Class     Images  Instances      Box(P          R      mAP50  mAP50-95): 100%|██████████| 10/10 [00:07<00:00,  1.27it/s]"
     ]
    },
    {
     "name": "stdout",
     "output_type": "stream",
     "text": [
      "                   all        598        983      0.788      0.692      0.768      0.459\n"
     ]
    },
    {
     "name": "stderr",
     "output_type": "stream",
     "text": [
      "\n"
     ]
    },
    {
     "name": "stdout",
     "output_type": "stream",
     "text": [
      "\n",
      "      Epoch    GPU_mem   box_loss   cls_loss   dfl_loss  Instances       Size\n"
     ]
    },
    {
     "name": "stderr",
     "output_type": "stream",
     "text": [
      "     85/100      13.7G     0.8198     0.5649      1.105         47        640: 100%|██████████| 76/76 [00:28<00:00,  2.65it/s]\n",
      "                 Class     Images  Instances      Box(P          R      mAP50  mAP50-95): 100%|██████████| 10/10 [00:07<00:00,  1.34it/s]"
     ]
    },
    {
     "name": "stdout",
     "output_type": "stream",
     "text": [
      "                   all        598        983      0.765      0.707      0.763      0.455\n"
     ]
    },
    {
     "name": "stderr",
     "output_type": "stream",
     "text": [
      "\n"
     ]
    },
    {
     "name": "stdout",
     "output_type": "stream",
     "text": [
      "\n",
      "      Epoch    GPU_mem   box_loss   cls_loss   dfl_loss  Instances       Size\n"
     ]
    },
    {
     "name": "stderr",
     "output_type": "stream",
     "text": [
      "     86/100      13.7G     0.8279     0.5713       1.11         31        640: 100%|██████████| 76/76 [00:28<00:00,  2.63it/s]\n",
      "                 Class     Images  Instances      Box(P          R      mAP50  mAP50-95): 100%|██████████| 10/10 [00:07<00:00,  1.30it/s]\n"
     ]
    },
    {
     "name": "stdout",
     "output_type": "stream",
     "text": [
      "                   all        598        983      0.773      0.712      0.763      0.462\n",
      "\n",
      "      Epoch    GPU_mem   box_loss   cls_loss   dfl_loss  Instances       Size\n"
     ]
    },
    {
     "name": "stderr",
     "output_type": "stream",
     "text": [
      "     87/100      13.7G     0.8072     0.5458      1.096         22        640: 100%|██████████| 76/76 [00:28<00:00,  2.67it/s]\n",
      "                 Class     Images  Instances      Box(P          R      mAP50  mAP50-95): 100%|██████████| 10/10 [00:07<00:00,  1.28it/s]\n"
     ]
    },
    {
     "name": "stdout",
     "output_type": "stream",
     "text": [
      "                   all        598        983      0.775      0.691      0.758      0.464\n",
      "\n",
      "      Epoch    GPU_mem   box_loss   cls_loss   dfl_loss  Instances       Size\n"
     ]
    },
    {
     "name": "stderr",
     "output_type": "stream",
     "text": [
      "     88/100      13.7G     0.8031     0.5519      1.097         34        640: 100%|██████████| 76/76 [00:29<00:00,  2.61it/s]\n",
      "                 Class     Images  Instances      Box(P          R      mAP50  mAP50-95): 100%|██████████| 10/10 [00:07<00:00,  1.35it/s]"
     ]
    },
    {
     "name": "stdout",
     "output_type": "stream",
     "text": [
      "                   all        598        983      0.755      0.706      0.755      0.453\n"
     ]
    },
    {
     "name": "stderr",
     "output_type": "stream",
     "text": [
      "\n"
     ]
    },
    {
     "name": "stdout",
     "output_type": "stream",
     "text": [
      "\n",
      "      Epoch    GPU_mem   box_loss   cls_loss   dfl_loss  Instances       Size\n"
     ]
    },
    {
     "name": "stderr",
     "output_type": "stream",
     "text": [
      "     89/100      13.7G     0.8862     0.6072      1.141         36        640: 100%|██████████| 76/76 [00:28<00:00,  2.65it/s]\n",
      "                 Class     Images  Instances      Box(P          R      mAP50  mAP50-95): 100%|██████████| 10/10 [00:07<00:00,  1.32it/s]"
     ]
    },
    {
     "name": "stdout",
     "output_type": "stream",
     "text": [
      "                   all        598        983      0.792      0.707      0.772      0.469\n"
     ]
    },
    {
     "name": "stderr",
     "output_type": "stream",
     "text": [
      "\n"
     ]
    },
    {
     "name": "stdout",
     "output_type": "stream",
     "text": [
      "\n",
      "      Epoch    GPU_mem   box_loss   cls_loss   dfl_loss  Instances       Size\n"
     ]
    },
    {
     "name": "stderr",
     "output_type": "stream",
     "text": [
      "     90/100      13.7G     0.8913     0.6102      1.144         29        640: 100%|██████████| 76/76 [00:28<00:00,  2.65it/s]\n",
      "                 Class     Images  Instances      Box(P          R      mAP50  mAP50-95): 100%|██████████| 10/10 [00:07<00:00,  1.33it/s]\n"
     ]
    },
    {
     "name": "stdout",
     "output_type": "stream",
     "text": [
      "                   all        598        983      0.789      0.704      0.772      0.471\n",
      "Closing dataloader mosaic\n"
     ]
    },
    {
     "name": "stderr",
     "output_type": "stream",
     "text": [
      "/usr/local/lib/python3.8/dist-packages/torch/utils/data/dataloader.py:561: UserWarning: This DataLoader will create 8 worker processes in total. Our suggested max number of worker in current system is 2, which is smaller than what this DataLoader is going to create. Please be aware that excessive worker creation might get DataLoader running slow or even freeze, lower the worker number to avoid potential slowness/freeze if necessary.\n",
      "  warnings.warn(_create_warning_msg(\n"
     ]
    },
    {
     "name": "stdout",
     "output_type": "stream",
     "text": [
      "\n",
      "      Epoch    GPU_mem   box_loss   cls_loss   dfl_loss  Instances       Size\n"
     ]
    },
    {
     "name": "stderr",
     "output_type": "stream",
     "text": [
      "     91/100      14.3G     0.8354     0.5165      1.114         20        640: 100%|██████████| 76/76 [00:33<00:00,  2.24it/s]\n",
      "                 Class     Images  Instances      Box(P          R      mAP50  mAP50-95): 100%|██████████| 10/10 [00:06<00:00,  1.62it/s]"
     ]
    },
    {
     "name": "stdout",
     "output_type": "stream",
     "text": [
      "                   all        598        983      0.796      0.688      0.771      0.461\n"
     ]
    },
    {
     "name": "stderr",
     "output_type": "stream",
     "text": [
      "\n"
     ]
    },
    {
     "name": "stdout",
     "output_type": "stream",
     "text": [
      "\n",
      "      Epoch    GPU_mem   box_loss   cls_loss   dfl_loss  Instances       Size\n"
     ]
    },
    {
     "name": "stderr",
     "output_type": "stream",
     "text": [
      "     92/100      13.7G     0.8187     0.4912      1.094         15        640: 100%|██████████| 76/76 [00:26<00:00,  2.86it/s]\n",
      "                 Class     Images  Instances      Box(P          R      mAP50  mAP50-95): 100%|██████████| 10/10 [00:07<00:00,  1.37it/s]"
     ]
    },
    {
     "name": "stdout",
     "output_type": "stream",
     "text": [
      "                   all        598        983      0.829      0.664      0.761      0.463\n"
     ]
    },
    {
     "name": "stderr",
     "output_type": "stream",
     "text": [
      "\n"
     ]
    },
    {
     "name": "stdout",
     "output_type": "stream",
     "text": [
      "\n",
      "      Epoch    GPU_mem   box_loss   cls_loss   dfl_loss  Instances       Size\n"
     ]
    },
    {
     "name": "stderr",
     "output_type": "stream",
     "text": [
      "     93/100      13.7G      0.808     0.4811      1.096         20        640: 100%|██████████| 76/76 [00:26<00:00,  2.86it/s]\n",
      "                 Class     Images  Instances      Box(P          R      mAP50  mAP50-95): 100%|██████████| 10/10 [00:07<00:00,  1.40it/s]\n"
     ]
    },
    {
     "name": "stdout",
     "output_type": "stream",
     "text": [
      "                   all        598        983       0.82      0.669      0.762      0.465\n",
      "\n",
      "      Epoch    GPU_mem   box_loss   cls_loss   dfl_loss  Instances       Size\n"
     ]
    },
    {
     "name": "stderr",
     "output_type": "stream",
     "text": [
      "     94/100      13.7G     0.7861      0.467       1.08         23        640: 100%|██████████| 76/76 [00:26<00:00,  2.84it/s]\n",
      "                 Class     Images  Instances      Box(P          R      mAP50  mAP50-95): 100%|██████████| 10/10 [00:06<00:00,  1.47it/s]"
     ]
    },
    {
     "name": "stdout",
     "output_type": "stream",
     "text": [
      "                   all        598        983      0.794      0.674       0.76      0.463\n"
     ]
    },
    {
     "name": "stderr",
     "output_type": "stream",
     "text": [
      "\n"
     ]
    },
    {
     "name": "stdout",
     "output_type": "stream",
     "text": [
      "\n",
      "      Epoch    GPU_mem   box_loss   cls_loss   dfl_loss  Instances       Size\n"
     ]
    },
    {
     "name": "stderr",
     "output_type": "stream",
     "text": [
      "     95/100      13.7G     0.7781     0.4662      1.081         24        640: 100%|██████████| 76/76 [00:26<00:00,  2.91it/s]\n",
      "                 Class     Images  Instances      Box(P          R      mAP50  mAP50-95): 100%|██████████| 10/10 [00:07<00:00,  1.35it/s]"
     ]
    },
    {
     "name": "stdout",
     "output_type": "stream",
     "text": [
      "                   all        598        983      0.799      0.668       0.76      0.462\n"
     ]
    },
    {
     "name": "stderr",
     "output_type": "stream",
     "text": [
      "\n"
     ]
    },
    {
     "name": "stdout",
     "output_type": "stream",
     "text": [
      "\n",
      "      Epoch    GPU_mem   box_loss   cls_loss   dfl_loss  Instances       Size\n"
     ]
    },
    {
     "name": "stderr",
     "output_type": "stream",
     "text": [
      "     96/100      13.7G       0.78     0.4583      1.067         18        640: 100%|██████████| 76/76 [00:26<00:00,  2.83it/s]\n",
      "                 Class     Images  Instances      Box(P          R      mAP50  mAP50-95): 100%|██████████| 10/10 [00:06<00:00,  1.47it/s]"
     ]
    },
    {
     "name": "stdout",
     "output_type": "stream",
     "text": [
      "                   all        598        983       0.78      0.687      0.758      0.469\n"
     ]
    },
    {
     "name": "stderr",
     "output_type": "stream",
     "text": [
      "\n"
     ]
    },
    {
     "name": "stdout",
     "output_type": "stream",
     "text": [
      "\n",
      "      Epoch    GPU_mem   box_loss   cls_loss   dfl_loss  Instances       Size\n"
     ]
    },
    {
     "name": "stderr",
     "output_type": "stream",
     "text": [
      "     97/100      13.7G     0.7571     0.4467      1.057         13        640: 100%|██████████| 76/76 [00:26<00:00,  2.87it/s]\n",
      "                 Class     Images  Instances      Box(P          R      mAP50  mAP50-95): 100%|██████████| 10/10 [00:07<00:00,  1.38it/s]"
     ]
    },
    {
     "name": "stdout",
     "output_type": "stream",
     "text": [
      "                   all        598        983      0.771      0.683       0.76      0.467\n"
     ]
    },
    {
     "name": "stderr",
     "output_type": "stream",
     "text": [
      "\n"
     ]
    },
    {
     "name": "stdout",
     "output_type": "stream",
     "text": [
      "\n",
      "      Epoch    GPU_mem   box_loss   cls_loss   dfl_loss  Instances       Size\n"
     ]
    },
    {
     "name": "stderr",
     "output_type": "stream",
     "text": [
      "     98/100      13.7G     0.7518     0.4413      1.057         17        640: 100%|██████████| 76/76 [00:26<00:00,  2.87it/s]\n",
      "                 Class     Images  Instances      Box(P          R      mAP50  mAP50-95): 100%|██████████| 10/10 [00:07<00:00,  1.42it/s]"
     ]
    },
    {
     "name": "stdout",
     "output_type": "stream",
     "text": [
      "                   all        598        983      0.804      0.685      0.771      0.472\n"
     ]
    },
    {
     "name": "stderr",
     "output_type": "stream",
     "text": [
      "\n"
     ]
    },
    {
     "name": "stdout",
     "output_type": "stream",
     "text": [
      "\n",
      "      Epoch    GPU_mem   box_loss   cls_loss   dfl_loss  Instances       Size\n"
     ]
    },
    {
     "name": "stderr",
     "output_type": "stream",
     "text": [
      "     99/100      13.7G       0.74     0.4407      1.049         16        640: 100%|██████████| 76/76 [00:26<00:00,  2.86it/s]\n",
      "                 Class     Images  Instances      Box(P          R      mAP50  mAP50-95): 100%|██████████| 10/10 [00:06<00:00,  1.45it/s]\n"
     ]
    },
    {
     "name": "stdout",
     "output_type": "stream",
     "text": [
      "                   all        598        983      0.808       0.68      0.768       0.47\n",
      "\n",
      "      Epoch    GPU_mem   box_loss   cls_loss   dfl_loss  Instances       Size\n"
     ]
    },
    {
     "name": "stderr",
     "output_type": "stream",
     "text": [
      "    100/100      13.7G      0.738     0.4381      1.053         22        640: 100%|██████████| 76/76 [00:26<00:00,  2.87it/s]\n",
      "                 Class     Images  Instances      Box(P          R      mAP50  mAP50-95): 100%|██████████| 10/10 [00:07<00:00,  1.41it/s]"
     ]
    },
    {
     "name": "stdout",
     "output_type": "stream",
     "text": [
      "                   all        598        983      0.801       0.68      0.766      0.469\n"
     ]
    },
    {
     "name": "stderr",
     "output_type": "stream",
     "text": [
      "\n"
     ]
    },
    {
     "name": "stdout",
     "output_type": "stream",
     "text": [
      "\n",
      "22 epochs completed in 0.225 hours.\n",
      "Optimizer stripped from runs/detect/train3/weights/last.pt, 22.5MB\n",
      "Optimizer stripped from runs/detect/train3/weights/best.pt, 22.5MB\n",
      "\n",
      "Validating runs/detect/train3/weights/best.pt...\n",
      "Ultralytics YOLOv8.1.38 🚀 Python-3.8.10 torch-2.1.0a0+fe05266 CUDA:0 (NVIDIA RTX A6000, 48677MiB)\n",
      "YOLOv8s summary (fused): 168 layers, 11126358 parameters, 0 gradients, 28.4 GFLOPs\n"
     ]
    },
    {
     "name": "stderr",
     "output_type": "stream",
     "text": [
      "                 Class     Images  Instances      Box(P          R      mAP50  mAP50-95): 100%|██████████| 10/10 [00:05<00:00,  1.75it/s]\n"
     ]
    },
    {
     "name": "stdout",
     "output_type": "stream",
     "text": [
      "                   all        598        983      0.803      0.685      0.771      0.472\n",
      "                  fire        598        761      0.833      0.758      0.846      0.516\n",
      "                 smoke        598        222      0.773      0.613      0.696      0.428\n",
      "Speed: 2.0ms preprocess, 1.3ms inference, 0.0ms loss, 1.2ms postprocess per image\n",
      "Results saved to \u001b[1mruns/detect/train3\u001b[0m\n"
     ]
    },
    {
     "data": {
      "text/plain": [
       "ultralytics.utils.metrics.DetMetrics object with attributes:\n",
       "\n",
       "ap_class_index: array([0, 1])\n",
       "box: ultralytics.utils.metrics.Metric object\n",
       "confusion_matrix: <ultralytics.utils.metrics.ConfusionMatrix object at 0x7ff825cd7a90>\n",
       "curves: ['Precision-Recall(B)', 'F1-Confidence(B)', 'Precision-Confidence(B)', 'Recall-Confidence(B)']\n",
       "curves_results: [[array([          0,    0.001001,    0.002002,    0.003003,    0.004004,    0.005005,    0.006006,    0.007007,    0.008008,    0.009009,     0.01001,    0.011011,    0.012012,    0.013013,    0.014014,    0.015015,    0.016016,    0.017017,    0.018018,    0.019019,     0.02002,    0.021021,    0.022022,    0.023023,\n",
       "          0.024024,    0.025025,    0.026026,    0.027027,    0.028028,    0.029029,     0.03003,    0.031031,    0.032032,    0.033033,    0.034034,    0.035035,    0.036036,    0.037037,    0.038038,    0.039039,     0.04004,    0.041041,    0.042042,    0.043043,    0.044044,    0.045045,    0.046046,    0.047047,\n",
       "          0.048048,    0.049049,     0.05005,    0.051051,    0.052052,    0.053053,    0.054054,    0.055055,    0.056056,    0.057057,    0.058058,    0.059059,     0.06006,    0.061061,    0.062062,    0.063063,    0.064064,    0.065065,    0.066066,    0.067067,    0.068068,    0.069069,     0.07007,    0.071071,\n",
       "          0.072072,    0.073073,    0.074074,    0.075075,    0.076076,    0.077077,    0.078078,    0.079079,     0.08008,    0.081081,    0.082082,    0.083083,    0.084084,    0.085085,    0.086086,    0.087087,    0.088088,    0.089089,     0.09009,    0.091091,    0.092092,    0.093093,    0.094094,    0.095095,\n",
       "          0.096096,    0.097097,    0.098098,    0.099099,      0.1001,      0.1011,      0.1021,      0.1031,      0.1041,     0.10511,     0.10611,     0.10711,     0.10811,     0.10911,     0.11011,     0.11111,     0.11211,     0.11311,     0.11411,     0.11512,     0.11612,     0.11712,     0.11812,     0.11912,\n",
       "           0.12012,     0.12112,     0.12212,     0.12312,     0.12412,     0.12513,     0.12613,     0.12713,     0.12813,     0.12913,     0.13013,     0.13113,     0.13213,     0.13313,     0.13413,     0.13514,     0.13614,     0.13714,     0.13814,     0.13914,     0.14014,     0.14114,     0.14214,     0.14314,\n",
       "           0.14414,     0.14515,     0.14615,     0.14715,     0.14815,     0.14915,     0.15015,     0.15115,     0.15215,     0.15315,     0.15415,     0.15516,     0.15616,     0.15716,     0.15816,     0.15916,     0.16016,     0.16116,     0.16216,     0.16316,     0.16416,     0.16517,     0.16617,     0.16717,\n",
       "           0.16817,     0.16917,     0.17017,     0.17117,     0.17217,     0.17317,     0.17417,     0.17518,     0.17618,     0.17718,     0.17818,     0.17918,     0.18018,     0.18118,     0.18218,     0.18318,     0.18418,     0.18519,     0.18619,     0.18719,     0.18819,     0.18919,     0.19019,     0.19119,\n",
       "           0.19219,     0.19319,     0.19419,      0.1952,      0.1962,      0.1972,      0.1982,      0.1992,      0.2002,      0.2012,      0.2022,      0.2032,      0.2042,     0.20521,     0.20621,     0.20721,     0.20821,     0.20921,     0.21021,     0.21121,     0.21221,     0.21321,     0.21421,     0.21522,\n",
       "           0.21622,     0.21722,     0.21822,     0.21922,     0.22022,     0.22122,     0.22222,     0.22322,     0.22422,     0.22523,     0.22623,     0.22723,     0.22823,     0.22923,     0.23023,     0.23123,     0.23223,     0.23323,     0.23423,     0.23524,     0.23624,     0.23724,     0.23824,     0.23924,\n",
       "           0.24024,     0.24124,     0.24224,     0.24324,     0.24424,     0.24525,     0.24625,     0.24725,     0.24825,     0.24925,     0.25025,     0.25125,     0.25225,     0.25325,     0.25425,     0.25526,     0.25626,     0.25726,     0.25826,     0.25926,     0.26026,     0.26126,     0.26226,     0.26326,\n",
       "           0.26426,     0.26527,     0.26627,     0.26727,     0.26827,     0.26927,     0.27027,     0.27127,     0.27227,     0.27327,     0.27427,     0.27528,     0.27628,     0.27728,     0.27828,     0.27928,     0.28028,     0.28128,     0.28228,     0.28328,     0.28428,     0.28529,     0.28629,     0.28729,\n",
       "           0.28829,     0.28929,     0.29029,     0.29129,     0.29229,     0.29329,     0.29429,      0.2953,      0.2963,      0.2973,      0.2983,      0.2993,      0.3003,      0.3013,      0.3023,      0.3033,      0.3043,     0.30531,     0.30631,     0.30731,     0.30831,     0.30931,     0.31031,     0.31131,\n",
       "           0.31231,     0.31331,     0.31431,     0.31532,     0.31632,     0.31732,     0.31832,     0.31932,     0.32032,     0.32132,     0.32232,     0.32332,     0.32432,     0.32533,     0.32633,     0.32733,     0.32833,     0.32933,     0.33033,     0.33133,     0.33233,     0.33333,     0.33433,     0.33534,\n",
       "           0.33634,     0.33734,     0.33834,     0.33934,     0.34034,     0.34134,     0.34234,     0.34334,     0.34434,     0.34535,     0.34635,     0.34735,     0.34835,     0.34935,     0.35035,     0.35135,     0.35235,     0.35335,     0.35435,     0.35536,     0.35636,     0.35736,     0.35836,     0.35936,\n",
       "           0.36036,     0.36136,     0.36236,     0.36336,     0.36436,     0.36537,     0.36637,     0.36737,     0.36837,     0.36937,     0.37037,     0.37137,     0.37237,     0.37337,     0.37437,     0.37538,     0.37638,     0.37738,     0.37838,     0.37938,     0.38038,     0.38138,     0.38238,     0.38338,\n",
       "           0.38438,     0.38539,     0.38639,     0.38739,     0.38839,     0.38939,     0.39039,     0.39139,     0.39239,     0.39339,     0.39439,      0.3954,      0.3964,      0.3974,      0.3984,      0.3994,      0.4004,      0.4014,      0.4024,      0.4034,      0.4044,     0.40541,     0.40641,     0.40741,\n",
       "           0.40841,     0.40941,     0.41041,     0.41141,     0.41241,     0.41341,     0.41441,     0.41542,     0.41642,     0.41742,     0.41842,     0.41942,     0.42042,     0.42142,     0.42242,     0.42342,     0.42442,     0.42543,     0.42643,     0.42743,     0.42843,     0.42943,     0.43043,     0.43143,\n",
       "           0.43243,     0.43343,     0.43443,     0.43544,     0.43644,     0.43744,     0.43844,     0.43944,     0.44044,     0.44144,     0.44244,     0.44344,     0.44444,     0.44545,     0.44645,     0.44745,     0.44845,     0.44945,     0.45045,     0.45145,     0.45245,     0.45345,     0.45445,     0.45546,\n",
       "           0.45646,     0.45746,     0.45846,     0.45946,     0.46046,     0.46146,     0.46246,     0.46346,     0.46446,     0.46547,     0.46647,     0.46747,     0.46847,     0.46947,     0.47047,     0.47147,     0.47247,     0.47347,     0.47447,     0.47548,     0.47648,     0.47748,     0.47848,     0.47948,\n",
       "           0.48048,     0.48148,     0.48248,     0.48348,     0.48448,     0.48549,     0.48649,     0.48749,     0.48849,     0.48949,     0.49049,     0.49149,     0.49249,     0.49349,     0.49449,      0.4955,      0.4965,      0.4975,      0.4985,      0.4995,      0.5005,      0.5015,      0.5025,      0.5035,\n",
       "            0.5045,     0.50551,     0.50651,     0.50751,     0.50851,     0.50951,     0.51051,     0.51151,     0.51251,     0.51351,     0.51451,     0.51552,     0.51652,     0.51752,     0.51852,     0.51952,     0.52052,     0.52152,     0.52252,     0.52352,     0.52452,     0.52553,     0.52653,     0.52753,\n",
       "           0.52853,     0.52953,     0.53053,     0.53153,     0.53253,     0.53353,     0.53453,     0.53554,     0.53654,     0.53754,     0.53854,     0.53954,     0.54054,     0.54154,     0.54254,     0.54354,     0.54454,     0.54555,     0.54655,     0.54755,     0.54855,     0.54955,     0.55055,     0.55155,\n",
       "           0.55255,     0.55355,     0.55455,     0.55556,     0.55656,     0.55756,     0.55856,     0.55956,     0.56056,     0.56156,     0.56256,     0.56356,     0.56456,     0.56557,     0.56657,     0.56757,     0.56857,     0.56957,     0.57057,     0.57157,     0.57257,     0.57357,     0.57457,     0.57558,\n",
       "           0.57658,     0.57758,     0.57858,     0.57958,     0.58058,     0.58158,     0.58258,     0.58358,     0.58458,     0.58559,     0.58659,     0.58759,     0.58859,     0.58959,     0.59059,     0.59159,     0.59259,     0.59359,     0.59459,      0.5956,      0.5966,      0.5976,      0.5986,      0.5996,\n",
       "            0.6006,      0.6016,      0.6026,      0.6036,      0.6046,     0.60561,     0.60661,     0.60761,     0.60861,     0.60961,     0.61061,     0.61161,     0.61261,     0.61361,     0.61461,     0.61562,     0.61662,     0.61762,     0.61862,     0.61962,     0.62062,     0.62162,     0.62262,     0.62362,\n",
       "           0.62462,     0.62563,     0.62663,     0.62763,     0.62863,     0.62963,     0.63063,     0.63163,     0.63263,     0.63363,     0.63463,     0.63564,     0.63664,     0.63764,     0.63864,     0.63964,     0.64064,     0.64164,     0.64264,     0.64364,     0.64464,     0.64565,     0.64665,     0.64765,\n",
       "           0.64865,     0.64965,     0.65065,     0.65165,     0.65265,     0.65365,     0.65465,     0.65566,     0.65666,     0.65766,     0.65866,     0.65966,     0.66066,     0.66166,     0.66266,     0.66366,     0.66466,     0.66567,     0.66667,     0.66767,     0.66867,     0.66967,     0.67067,     0.67167,\n",
       "           0.67267,     0.67367,     0.67467,     0.67568,     0.67668,     0.67768,     0.67868,     0.67968,     0.68068,     0.68168,     0.68268,     0.68368,     0.68468,     0.68569,     0.68669,     0.68769,     0.68869,     0.68969,     0.69069,     0.69169,     0.69269,     0.69369,     0.69469,      0.6957,\n",
       "            0.6967,      0.6977,      0.6987,      0.6997,      0.7007,      0.7017,      0.7027,      0.7037,      0.7047,     0.70571,     0.70671,     0.70771,     0.70871,     0.70971,     0.71071,     0.71171,     0.71271,     0.71371,     0.71471,     0.71572,     0.71672,     0.71772,     0.71872,     0.71972,\n",
       "           0.72072,     0.72172,     0.72272,     0.72372,     0.72472,     0.72573,     0.72673,     0.72773,     0.72873,     0.72973,     0.73073,     0.73173,     0.73273,     0.73373,     0.73473,     0.73574,     0.73674,     0.73774,     0.73874,     0.73974,     0.74074,     0.74174,     0.74274,     0.74374,\n",
       "           0.74474,     0.74575,     0.74675,     0.74775,     0.74875,     0.74975,     0.75075,     0.75175,     0.75275,     0.75375,     0.75475,     0.75576,     0.75676,     0.75776,     0.75876,     0.75976,     0.76076,     0.76176,     0.76276,     0.76376,     0.76476,     0.76577,     0.76677,     0.76777,\n",
       "           0.76877,     0.76977,     0.77077,     0.77177,     0.77277,     0.77377,     0.77477,     0.77578,     0.77678,     0.77778,     0.77878,     0.77978,     0.78078,     0.78178,     0.78278,     0.78378,     0.78478,     0.78579,     0.78679,     0.78779,     0.78879,     0.78979,     0.79079,     0.79179,\n",
       "           0.79279,     0.79379,     0.79479,      0.7958,      0.7968,      0.7978,      0.7988,      0.7998,      0.8008,      0.8018,      0.8028,      0.8038,      0.8048,     0.80581,     0.80681,     0.80781,     0.80881,     0.80981,     0.81081,     0.81181,     0.81281,     0.81381,     0.81481,     0.81582,\n",
       "           0.81682,     0.81782,     0.81882,     0.81982,     0.82082,     0.82182,     0.82282,     0.82382,     0.82482,     0.82583,     0.82683,     0.82783,     0.82883,     0.82983,     0.83083,     0.83183,     0.83283,     0.83383,     0.83483,     0.83584,     0.83684,     0.83784,     0.83884,     0.83984,\n",
       "           0.84084,     0.84184,     0.84284,     0.84384,     0.84484,     0.84585,     0.84685,     0.84785,     0.84885,     0.84985,     0.85085,     0.85185,     0.85285,     0.85385,     0.85485,     0.85586,     0.85686,     0.85786,     0.85886,     0.85986,     0.86086,     0.86186,     0.86286,     0.86386,\n",
       "           0.86486,     0.86587,     0.86687,     0.86787,     0.86887,     0.86987,     0.87087,     0.87187,     0.87287,     0.87387,     0.87487,     0.87588,     0.87688,     0.87788,     0.87888,     0.87988,     0.88088,     0.88188,     0.88288,     0.88388,     0.88488,     0.88589,     0.88689,     0.88789,\n",
       "           0.88889,     0.88989,     0.89089,     0.89189,     0.89289,     0.89389,     0.89489,      0.8959,      0.8969,      0.8979,      0.8989,      0.8999,      0.9009,      0.9019,      0.9029,      0.9039,      0.9049,     0.90591,     0.90691,     0.90791,     0.90891,     0.90991,     0.91091,     0.91191,\n",
       "           0.91291,     0.91391,     0.91491,     0.91592,     0.91692,     0.91792,     0.91892,     0.91992,     0.92092,     0.92192,     0.92292,     0.92392,     0.92492,     0.92593,     0.92693,     0.92793,     0.92893,     0.92993,     0.93093,     0.93193,     0.93293,     0.93393,     0.93493,     0.93594,\n",
       "           0.93694,     0.93794,     0.93894,     0.93994,     0.94094,     0.94194,     0.94294,     0.94394,     0.94494,     0.94595,     0.94695,     0.94795,     0.94895,     0.94995,     0.95095,     0.95195,     0.95295,     0.95395,     0.95495,     0.95596,     0.95696,     0.95796,     0.95896,     0.95996,\n",
       "           0.96096,     0.96196,     0.96296,     0.96396,     0.96496,     0.96597,     0.96697,     0.96797,     0.96897,     0.96997,     0.97097,     0.97197,     0.97297,     0.97397,     0.97497,     0.97598,     0.97698,     0.97798,     0.97898,     0.97998,     0.98098,     0.98198,     0.98298,     0.98398,\n",
       "           0.98498,     0.98599,     0.98699,     0.98799,     0.98899,     0.98999,     0.99099,     0.99199,     0.99299,     0.99399,     0.99499,       0.996,       0.997,       0.998,       0.999,           1]), array([[          1,           1,           1, ...,   0.0057516,   0.0028758,           0],\n",
       "       [          1,           1,           1, ...,   0.0018072,  0.00090358,           0]]), 'Recall', 'Precision'], [array([          0,    0.001001,    0.002002,    0.003003,    0.004004,    0.005005,    0.006006,    0.007007,    0.008008,    0.009009,     0.01001,    0.011011,    0.012012,    0.013013,    0.014014,    0.015015,    0.016016,    0.017017,    0.018018,    0.019019,     0.02002,    0.021021,    0.022022,    0.023023,\n",
       "          0.024024,    0.025025,    0.026026,    0.027027,    0.028028,    0.029029,     0.03003,    0.031031,    0.032032,    0.033033,    0.034034,    0.035035,    0.036036,    0.037037,    0.038038,    0.039039,     0.04004,    0.041041,    0.042042,    0.043043,    0.044044,    0.045045,    0.046046,    0.047047,\n",
       "          0.048048,    0.049049,     0.05005,    0.051051,    0.052052,    0.053053,    0.054054,    0.055055,    0.056056,    0.057057,    0.058058,    0.059059,     0.06006,    0.061061,    0.062062,    0.063063,    0.064064,    0.065065,    0.066066,    0.067067,    0.068068,    0.069069,     0.07007,    0.071071,\n",
       "          0.072072,    0.073073,    0.074074,    0.075075,    0.076076,    0.077077,    0.078078,    0.079079,     0.08008,    0.081081,    0.082082,    0.083083,    0.084084,    0.085085,    0.086086,    0.087087,    0.088088,    0.089089,     0.09009,    0.091091,    0.092092,    0.093093,    0.094094,    0.095095,\n",
       "          0.096096,    0.097097,    0.098098,    0.099099,      0.1001,      0.1011,      0.1021,      0.1031,      0.1041,     0.10511,     0.10611,     0.10711,     0.10811,     0.10911,     0.11011,     0.11111,     0.11211,     0.11311,     0.11411,     0.11512,     0.11612,     0.11712,     0.11812,     0.11912,\n",
       "           0.12012,     0.12112,     0.12212,     0.12312,     0.12412,     0.12513,     0.12613,     0.12713,     0.12813,     0.12913,     0.13013,     0.13113,     0.13213,     0.13313,     0.13413,     0.13514,     0.13614,     0.13714,     0.13814,     0.13914,     0.14014,     0.14114,     0.14214,     0.14314,\n",
       "           0.14414,     0.14515,     0.14615,     0.14715,     0.14815,     0.14915,     0.15015,     0.15115,     0.15215,     0.15315,     0.15415,     0.15516,     0.15616,     0.15716,     0.15816,     0.15916,     0.16016,     0.16116,     0.16216,     0.16316,     0.16416,     0.16517,     0.16617,     0.16717,\n",
       "           0.16817,     0.16917,     0.17017,     0.17117,     0.17217,     0.17317,     0.17417,     0.17518,     0.17618,     0.17718,     0.17818,     0.17918,     0.18018,     0.18118,     0.18218,     0.18318,     0.18418,     0.18519,     0.18619,     0.18719,     0.18819,     0.18919,     0.19019,     0.19119,\n",
       "           0.19219,     0.19319,     0.19419,      0.1952,      0.1962,      0.1972,      0.1982,      0.1992,      0.2002,      0.2012,      0.2022,      0.2032,      0.2042,     0.20521,     0.20621,     0.20721,     0.20821,     0.20921,     0.21021,     0.21121,     0.21221,     0.21321,     0.21421,     0.21522,\n",
       "           0.21622,     0.21722,     0.21822,     0.21922,     0.22022,     0.22122,     0.22222,     0.22322,     0.22422,     0.22523,     0.22623,     0.22723,     0.22823,     0.22923,     0.23023,     0.23123,     0.23223,     0.23323,     0.23423,     0.23524,     0.23624,     0.23724,     0.23824,     0.23924,\n",
       "           0.24024,     0.24124,     0.24224,     0.24324,     0.24424,     0.24525,     0.24625,     0.24725,     0.24825,     0.24925,     0.25025,     0.25125,     0.25225,     0.25325,     0.25425,     0.25526,     0.25626,     0.25726,     0.25826,     0.25926,     0.26026,     0.26126,     0.26226,     0.26326,\n",
       "           0.26426,     0.26527,     0.26627,     0.26727,     0.26827,     0.26927,     0.27027,     0.27127,     0.27227,     0.27327,     0.27427,     0.27528,     0.27628,     0.27728,     0.27828,     0.27928,     0.28028,     0.28128,     0.28228,     0.28328,     0.28428,     0.28529,     0.28629,     0.28729,\n",
       "           0.28829,     0.28929,     0.29029,     0.29129,     0.29229,     0.29329,     0.29429,      0.2953,      0.2963,      0.2973,      0.2983,      0.2993,      0.3003,      0.3013,      0.3023,      0.3033,      0.3043,     0.30531,     0.30631,     0.30731,     0.30831,     0.30931,     0.31031,     0.31131,\n",
       "           0.31231,     0.31331,     0.31431,     0.31532,     0.31632,     0.31732,     0.31832,     0.31932,     0.32032,     0.32132,     0.32232,     0.32332,     0.32432,     0.32533,     0.32633,     0.32733,     0.32833,     0.32933,     0.33033,     0.33133,     0.33233,     0.33333,     0.33433,     0.33534,\n",
       "           0.33634,     0.33734,     0.33834,     0.33934,     0.34034,     0.34134,     0.34234,     0.34334,     0.34434,     0.34535,     0.34635,     0.34735,     0.34835,     0.34935,     0.35035,     0.35135,     0.35235,     0.35335,     0.35435,     0.35536,     0.35636,     0.35736,     0.35836,     0.35936,\n",
       "           0.36036,     0.36136,     0.36236,     0.36336,     0.36436,     0.36537,     0.36637,     0.36737,     0.36837,     0.36937,     0.37037,     0.37137,     0.37237,     0.37337,     0.37437,     0.37538,     0.37638,     0.37738,     0.37838,     0.37938,     0.38038,     0.38138,     0.38238,     0.38338,\n",
       "           0.38438,     0.38539,     0.38639,     0.38739,     0.38839,     0.38939,     0.39039,     0.39139,     0.39239,     0.39339,     0.39439,      0.3954,      0.3964,      0.3974,      0.3984,      0.3994,      0.4004,      0.4014,      0.4024,      0.4034,      0.4044,     0.40541,     0.40641,     0.40741,\n",
       "           0.40841,     0.40941,     0.41041,     0.41141,     0.41241,     0.41341,     0.41441,     0.41542,     0.41642,     0.41742,     0.41842,     0.41942,     0.42042,     0.42142,     0.42242,     0.42342,     0.42442,     0.42543,     0.42643,     0.42743,     0.42843,     0.42943,     0.43043,     0.43143,\n",
       "           0.43243,     0.43343,     0.43443,     0.43544,     0.43644,     0.43744,     0.43844,     0.43944,     0.44044,     0.44144,     0.44244,     0.44344,     0.44444,     0.44545,     0.44645,     0.44745,     0.44845,     0.44945,     0.45045,     0.45145,     0.45245,     0.45345,     0.45445,     0.45546,\n",
       "           0.45646,     0.45746,     0.45846,     0.45946,     0.46046,     0.46146,     0.46246,     0.46346,     0.46446,     0.46547,     0.46647,     0.46747,     0.46847,     0.46947,     0.47047,     0.47147,     0.47247,     0.47347,     0.47447,     0.47548,     0.47648,     0.47748,     0.47848,     0.47948,\n",
       "           0.48048,     0.48148,     0.48248,     0.48348,     0.48448,     0.48549,     0.48649,     0.48749,     0.48849,     0.48949,     0.49049,     0.49149,     0.49249,     0.49349,     0.49449,      0.4955,      0.4965,      0.4975,      0.4985,      0.4995,      0.5005,      0.5015,      0.5025,      0.5035,\n",
       "            0.5045,     0.50551,     0.50651,     0.50751,     0.50851,     0.50951,     0.51051,     0.51151,     0.51251,     0.51351,     0.51451,     0.51552,     0.51652,     0.51752,     0.51852,     0.51952,     0.52052,     0.52152,     0.52252,     0.52352,     0.52452,     0.52553,     0.52653,     0.52753,\n",
       "           0.52853,     0.52953,     0.53053,     0.53153,     0.53253,     0.53353,     0.53453,     0.53554,     0.53654,     0.53754,     0.53854,     0.53954,     0.54054,     0.54154,     0.54254,     0.54354,     0.54454,     0.54555,     0.54655,     0.54755,     0.54855,     0.54955,     0.55055,     0.55155,\n",
       "           0.55255,     0.55355,     0.55455,     0.55556,     0.55656,     0.55756,     0.55856,     0.55956,     0.56056,     0.56156,     0.56256,     0.56356,     0.56456,     0.56557,     0.56657,     0.56757,     0.56857,     0.56957,     0.57057,     0.57157,     0.57257,     0.57357,     0.57457,     0.57558,\n",
       "           0.57658,     0.57758,     0.57858,     0.57958,     0.58058,     0.58158,     0.58258,     0.58358,     0.58458,     0.58559,     0.58659,     0.58759,     0.58859,     0.58959,     0.59059,     0.59159,     0.59259,     0.59359,     0.59459,      0.5956,      0.5966,      0.5976,      0.5986,      0.5996,\n",
       "            0.6006,      0.6016,      0.6026,      0.6036,      0.6046,     0.60561,     0.60661,     0.60761,     0.60861,     0.60961,     0.61061,     0.61161,     0.61261,     0.61361,     0.61461,     0.61562,     0.61662,     0.61762,     0.61862,     0.61962,     0.62062,     0.62162,     0.62262,     0.62362,\n",
       "           0.62462,     0.62563,     0.62663,     0.62763,     0.62863,     0.62963,     0.63063,     0.63163,     0.63263,     0.63363,     0.63463,     0.63564,     0.63664,     0.63764,     0.63864,     0.63964,     0.64064,     0.64164,     0.64264,     0.64364,     0.64464,     0.64565,     0.64665,     0.64765,\n",
       "           0.64865,     0.64965,     0.65065,     0.65165,     0.65265,     0.65365,     0.65465,     0.65566,     0.65666,     0.65766,     0.65866,     0.65966,     0.66066,     0.66166,     0.66266,     0.66366,     0.66466,     0.66567,     0.66667,     0.66767,     0.66867,     0.66967,     0.67067,     0.67167,\n",
       "           0.67267,     0.67367,     0.67467,     0.67568,     0.67668,     0.67768,     0.67868,     0.67968,     0.68068,     0.68168,     0.68268,     0.68368,     0.68468,     0.68569,     0.68669,     0.68769,     0.68869,     0.68969,     0.69069,     0.69169,     0.69269,     0.69369,     0.69469,      0.6957,\n",
       "            0.6967,      0.6977,      0.6987,      0.6997,      0.7007,      0.7017,      0.7027,      0.7037,      0.7047,     0.70571,     0.70671,     0.70771,     0.70871,     0.70971,     0.71071,     0.71171,     0.71271,     0.71371,     0.71471,     0.71572,     0.71672,     0.71772,     0.71872,     0.71972,\n",
       "           0.72072,     0.72172,     0.72272,     0.72372,     0.72472,     0.72573,     0.72673,     0.72773,     0.72873,     0.72973,     0.73073,     0.73173,     0.73273,     0.73373,     0.73473,     0.73574,     0.73674,     0.73774,     0.73874,     0.73974,     0.74074,     0.74174,     0.74274,     0.74374,\n",
       "           0.74474,     0.74575,     0.74675,     0.74775,     0.74875,     0.74975,     0.75075,     0.75175,     0.75275,     0.75375,     0.75475,     0.75576,     0.75676,     0.75776,     0.75876,     0.75976,     0.76076,     0.76176,     0.76276,     0.76376,     0.76476,     0.76577,     0.76677,     0.76777,\n",
       "           0.76877,     0.76977,     0.77077,     0.77177,     0.77277,     0.77377,     0.77477,     0.77578,     0.77678,     0.77778,     0.77878,     0.77978,     0.78078,     0.78178,     0.78278,     0.78378,     0.78478,     0.78579,     0.78679,     0.78779,     0.78879,     0.78979,     0.79079,     0.79179,\n",
       "           0.79279,     0.79379,     0.79479,      0.7958,      0.7968,      0.7978,      0.7988,      0.7998,      0.8008,      0.8018,      0.8028,      0.8038,      0.8048,     0.80581,     0.80681,     0.80781,     0.80881,     0.80981,     0.81081,     0.81181,     0.81281,     0.81381,     0.81481,     0.81582,\n",
       "           0.81682,     0.81782,     0.81882,     0.81982,     0.82082,     0.82182,     0.82282,     0.82382,     0.82482,     0.82583,     0.82683,     0.82783,     0.82883,     0.82983,     0.83083,     0.83183,     0.83283,     0.83383,     0.83483,     0.83584,     0.83684,     0.83784,     0.83884,     0.83984,\n",
       "           0.84084,     0.84184,     0.84284,     0.84384,     0.84484,     0.84585,     0.84685,     0.84785,     0.84885,     0.84985,     0.85085,     0.85185,     0.85285,     0.85385,     0.85485,     0.85586,     0.85686,     0.85786,     0.85886,     0.85986,     0.86086,     0.86186,     0.86286,     0.86386,\n",
       "           0.86486,     0.86587,     0.86687,     0.86787,     0.86887,     0.86987,     0.87087,     0.87187,     0.87287,     0.87387,     0.87487,     0.87588,     0.87688,     0.87788,     0.87888,     0.87988,     0.88088,     0.88188,     0.88288,     0.88388,     0.88488,     0.88589,     0.88689,     0.88789,\n",
       "           0.88889,     0.88989,     0.89089,     0.89189,     0.89289,     0.89389,     0.89489,      0.8959,      0.8969,      0.8979,      0.8989,      0.8999,      0.9009,      0.9019,      0.9029,      0.9039,      0.9049,     0.90591,     0.90691,     0.90791,     0.90891,     0.90991,     0.91091,     0.91191,\n",
       "           0.91291,     0.91391,     0.91491,     0.91592,     0.91692,     0.91792,     0.91892,     0.91992,     0.92092,     0.92192,     0.92292,     0.92392,     0.92492,     0.92593,     0.92693,     0.92793,     0.92893,     0.92993,     0.93093,     0.93193,     0.93293,     0.93393,     0.93493,     0.93594,\n",
       "           0.93694,     0.93794,     0.93894,     0.93994,     0.94094,     0.94194,     0.94294,     0.94394,     0.94494,     0.94595,     0.94695,     0.94795,     0.94895,     0.94995,     0.95095,     0.95195,     0.95295,     0.95395,     0.95495,     0.95596,     0.95696,     0.95796,     0.95896,     0.95996,\n",
       "           0.96096,     0.96196,     0.96296,     0.96396,     0.96496,     0.96597,     0.96697,     0.96797,     0.96897,     0.96997,     0.97097,     0.97197,     0.97297,     0.97397,     0.97497,     0.97598,     0.97698,     0.97798,     0.97898,     0.97998,     0.98098,     0.98198,     0.98298,     0.98398,\n",
       "           0.98498,     0.98599,     0.98699,     0.98799,     0.98899,     0.98999,     0.99099,     0.99199,     0.99299,     0.99399,     0.99499,       0.996,       0.997,       0.998,       0.999,           1]), array([[    0.30889,     0.30889,     0.37479, ...,           0,           0,           0],\n",
       "       [    0.24349,     0.24349,     0.30076, ...,           0,           0,           0]]), 'Confidence', 'F1'], [array([          0,    0.001001,    0.002002,    0.003003,    0.004004,    0.005005,    0.006006,    0.007007,    0.008008,    0.009009,     0.01001,    0.011011,    0.012012,    0.013013,    0.014014,    0.015015,    0.016016,    0.017017,    0.018018,    0.019019,     0.02002,    0.021021,    0.022022,    0.023023,\n",
       "          0.024024,    0.025025,    0.026026,    0.027027,    0.028028,    0.029029,     0.03003,    0.031031,    0.032032,    0.033033,    0.034034,    0.035035,    0.036036,    0.037037,    0.038038,    0.039039,     0.04004,    0.041041,    0.042042,    0.043043,    0.044044,    0.045045,    0.046046,    0.047047,\n",
       "          0.048048,    0.049049,     0.05005,    0.051051,    0.052052,    0.053053,    0.054054,    0.055055,    0.056056,    0.057057,    0.058058,    0.059059,     0.06006,    0.061061,    0.062062,    0.063063,    0.064064,    0.065065,    0.066066,    0.067067,    0.068068,    0.069069,     0.07007,    0.071071,\n",
       "          0.072072,    0.073073,    0.074074,    0.075075,    0.076076,    0.077077,    0.078078,    0.079079,     0.08008,    0.081081,    0.082082,    0.083083,    0.084084,    0.085085,    0.086086,    0.087087,    0.088088,    0.089089,     0.09009,    0.091091,    0.092092,    0.093093,    0.094094,    0.095095,\n",
       "          0.096096,    0.097097,    0.098098,    0.099099,      0.1001,      0.1011,      0.1021,      0.1031,      0.1041,     0.10511,     0.10611,     0.10711,     0.10811,     0.10911,     0.11011,     0.11111,     0.11211,     0.11311,     0.11411,     0.11512,     0.11612,     0.11712,     0.11812,     0.11912,\n",
       "           0.12012,     0.12112,     0.12212,     0.12312,     0.12412,     0.12513,     0.12613,     0.12713,     0.12813,     0.12913,     0.13013,     0.13113,     0.13213,     0.13313,     0.13413,     0.13514,     0.13614,     0.13714,     0.13814,     0.13914,     0.14014,     0.14114,     0.14214,     0.14314,\n",
       "           0.14414,     0.14515,     0.14615,     0.14715,     0.14815,     0.14915,     0.15015,     0.15115,     0.15215,     0.15315,     0.15415,     0.15516,     0.15616,     0.15716,     0.15816,     0.15916,     0.16016,     0.16116,     0.16216,     0.16316,     0.16416,     0.16517,     0.16617,     0.16717,\n",
       "           0.16817,     0.16917,     0.17017,     0.17117,     0.17217,     0.17317,     0.17417,     0.17518,     0.17618,     0.17718,     0.17818,     0.17918,     0.18018,     0.18118,     0.18218,     0.18318,     0.18418,     0.18519,     0.18619,     0.18719,     0.18819,     0.18919,     0.19019,     0.19119,\n",
       "           0.19219,     0.19319,     0.19419,      0.1952,      0.1962,      0.1972,      0.1982,      0.1992,      0.2002,      0.2012,      0.2022,      0.2032,      0.2042,     0.20521,     0.20621,     0.20721,     0.20821,     0.20921,     0.21021,     0.21121,     0.21221,     0.21321,     0.21421,     0.21522,\n",
       "           0.21622,     0.21722,     0.21822,     0.21922,     0.22022,     0.22122,     0.22222,     0.22322,     0.22422,     0.22523,     0.22623,     0.22723,     0.22823,     0.22923,     0.23023,     0.23123,     0.23223,     0.23323,     0.23423,     0.23524,     0.23624,     0.23724,     0.23824,     0.23924,\n",
       "           0.24024,     0.24124,     0.24224,     0.24324,     0.24424,     0.24525,     0.24625,     0.24725,     0.24825,     0.24925,     0.25025,     0.25125,     0.25225,     0.25325,     0.25425,     0.25526,     0.25626,     0.25726,     0.25826,     0.25926,     0.26026,     0.26126,     0.26226,     0.26326,\n",
       "           0.26426,     0.26527,     0.26627,     0.26727,     0.26827,     0.26927,     0.27027,     0.27127,     0.27227,     0.27327,     0.27427,     0.27528,     0.27628,     0.27728,     0.27828,     0.27928,     0.28028,     0.28128,     0.28228,     0.28328,     0.28428,     0.28529,     0.28629,     0.28729,\n",
       "           0.28829,     0.28929,     0.29029,     0.29129,     0.29229,     0.29329,     0.29429,      0.2953,      0.2963,      0.2973,      0.2983,      0.2993,      0.3003,      0.3013,      0.3023,      0.3033,      0.3043,     0.30531,     0.30631,     0.30731,     0.30831,     0.30931,     0.31031,     0.31131,\n",
       "           0.31231,     0.31331,     0.31431,     0.31532,     0.31632,     0.31732,     0.31832,     0.31932,     0.32032,     0.32132,     0.32232,     0.32332,     0.32432,     0.32533,     0.32633,     0.32733,     0.32833,     0.32933,     0.33033,     0.33133,     0.33233,     0.33333,     0.33433,     0.33534,\n",
       "           0.33634,     0.33734,     0.33834,     0.33934,     0.34034,     0.34134,     0.34234,     0.34334,     0.34434,     0.34535,     0.34635,     0.34735,     0.34835,     0.34935,     0.35035,     0.35135,     0.35235,     0.35335,     0.35435,     0.35536,     0.35636,     0.35736,     0.35836,     0.35936,\n",
       "           0.36036,     0.36136,     0.36236,     0.36336,     0.36436,     0.36537,     0.36637,     0.36737,     0.36837,     0.36937,     0.37037,     0.37137,     0.37237,     0.37337,     0.37437,     0.37538,     0.37638,     0.37738,     0.37838,     0.37938,     0.38038,     0.38138,     0.38238,     0.38338,\n",
       "           0.38438,     0.38539,     0.38639,     0.38739,     0.38839,     0.38939,     0.39039,     0.39139,     0.39239,     0.39339,     0.39439,      0.3954,      0.3964,      0.3974,      0.3984,      0.3994,      0.4004,      0.4014,      0.4024,      0.4034,      0.4044,     0.40541,     0.40641,     0.40741,\n",
       "           0.40841,     0.40941,     0.41041,     0.41141,     0.41241,     0.41341,     0.41441,     0.41542,     0.41642,     0.41742,     0.41842,     0.41942,     0.42042,     0.42142,     0.42242,     0.42342,     0.42442,     0.42543,     0.42643,     0.42743,     0.42843,     0.42943,     0.43043,     0.43143,\n",
       "           0.43243,     0.43343,     0.43443,     0.43544,     0.43644,     0.43744,     0.43844,     0.43944,     0.44044,     0.44144,     0.44244,     0.44344,     0.44444,     0.44545,     0.44645,     0.44745,     0.44845,     0.44945,     0.45045,     0.45145,     0.45245,     0.45345,     0.45445,     0.45546,\n",
       "           0.45646,     0.45746,     0.45846,     0.45946,     0.46046,     0.46146,     0.46246,     0.46346,     0.46446,     0.46547,     0.46647,     0.46747,     0.46847,     0.46947,     0.47047,     0.47147,     0.47247,     0.47347,     0.47447,     0.47548,     0.47648,     0.47748,     0.47848,     0.47948,\n",
       "           0.48048,     0.48148,     0.48248,     0.48348,     0.48448,     0.48549,     0.48649,     0.48749,     0.48849,     0.48949,     0.49049,     0.49149,     0.49249,     0.49349,     0.49449,      0.4955,      0.4965,      0.4975,      0.4985,      0.4995,      0.5005,      0.5015,      0.5025,      0.5035,\n",
       "            0.5045,     0.50551,     0.50651,     0.50751,     0.50851,     0.50951,     0.51051,     0.51151,     0.51251,     0.51351,     0.51451,     0.51552,     0.51652,     0.51752,     0.51852,     0.51952,     0.52052,     0.52152,     0.52252,     0.52352,     0.52452,     0.52553,     0.52653,     0.52753,\n",
       "           0.52853,     0.52953,     0.53053,     0.53153,     0.53253,     0.53353,     0.53453,     0.53554,     0.53654,     0.53754,     0.53854,     0.53954,     0.54054,     0.54154,     0.54254,     0.54354,     0.54454,     0.54555,     0.54655,     0.54755,     0.54855,     0.54955,     0.55055,     0.55155,\n",
       "           0.55255,     0.55355,     0.55455,     0.55556,     0.55656,     0.55756,     0.55856,     0.55956,     0.56056,     0.56156,     0.56256,     0.56356,     0.56456,     0.56557,     0.56657,     0.56757,     0.56857,     0.56957,     0.57057,     0.57157,     0.57257,     0.57357,     0.57457,     0.57558,\n",
       "           0.57658,     0.57758,     0.57858,     0.57958,     0.58058,     0.58158,     0.58258,     0.58358,     0.58458,     0.58559,     0.58659,     0.58759,     0.58859,     0.58959,     0.59059,     0.59159,     0.59259,     0.59359,     0.59459,      0.5956,      0.5966,      0.5976,      0.5986,      0.5996,\n",
       "            0.6006,      0.6016,      0.6026,      0.6036,      0.6046,     0.60561,     0.60661,     0.60761,     0.60861,     0.60961,     0.61061,     0.61161,     0.61261,     0.61361,     0.61461,     0.61562,     0.61662,     0.61762,     0.61862,     0.61962,     0.62062,     0.62162,     0.62262,     0.62362,\n",
       "           0.62462,     0.62563,     0.62663,     0.62763,     0.62863,     0.62963,     0.63063,     0.63163,     0.63263,     0.63363,     0.63463,     0.63564,     0.63664,     0.63764,     0.63864,     0.63964,     0.64064,     0.64164,     0.64264,     0.64364,     0.64464,     0.64565,     0.64665,     0.64765,\n",
       "           0.64865,     0.64965,     0.65065,     0.65165,     0.65265,     0.65365,     0.65465,     0.65566,     0.65666,     0.65766,     0.65866,     0.65966,     0.66066,     0.66166,     0.66266,     0.66366,     0.66466,     0.66567,     0.66667,     0.66767,     0.66867,     0.66967,     0.67067,     0.67167,\n",
       "           0.67267,     0.67367,     0.67467,     0.67568,     0.67668,     0.67768,     0.67868,     0.67968,     0.68068,     0.68168,     0.68268,     0.68368,     0.68468,     0.68569,     0.68669,     0.68769,     0.68869,     0.68969,     0.69069,     0.69169,     0.69269,     0.69369,     0.69469,      0.6957,\n",
       "            0.6967,      0.6977,      0.6987,      0.6997,      0.7007,      0.7017,      0.7027,      0.7037,      0.7047,     0.70571,     0.70671,     0.70771,     0.70871,     0.70971,     0.71071,     0.71171,     0.71271,     0.71371,     0.71471,     0.71572,     0.71672,     0.71772,     0.71872,     0.71972,\n",
       "           0.72072,     0.72172,     0.72272,     0.72372,     0.72472,     0.72573,     0.72673,     0.72773,     0.72873,     0.72973,     0.73073,     0.73173,     0.73273,     0.73373,     0.73473,     0.73574,     0.73674,     0.73774,     0.73874,     0.73974,     0.74074,     0.74174,     0.74274,     0.74374,\n",
       "           0.74474,     0.74575,     0.74675,     0.74775,     0.74875,     0.74975,     0.75075,     0.75175,     0.75275,     0.75375,     0.75475,     0.75576,     0.75676,     0.75776,     0.75876,     0.75976,     0.76076,     0.76176,     0.76276,     0.76376,     0.76476,     0.76577,     0.76677,     0.76777,\n",
       "           0.76877,     0.76977,     0.77077,     0.77177,     0.77277,     0.77377,     0.77477,     0.77578,     0.77678,     0.77778,     0.77878,     0.77978,     0.78078,     0.78178,     0.78278,     0.78378,     0.78478,     0.78579,     0.78679,     0.78779,     0.78879,     0.78979,     0.79079,     0.79179,\n",
       "           0.79279,     0.79379,     0.79479,      0.7958,      0.7968,      0.7978,      0.7988,      0.7998,      0.8008,      0.8018,      0.8028,      0.8038,      0.8048,     0.80581,     0.80681,     0.80781,     0.80881,     0.80981,     0.81081,     0.81181,     0.81281,     0.81381,     0.81481,     0.81582,\n",
       "           0.81682,     0.81782,     0.81882,     0.81982,     0.82082,     0.82182,     0.82282,     0.82382,     0.82482,     0.82583,     0.82683,     0.82783,     0.82883,     0.82983,     0.83083,     0.83183,     0.83283,     0.83383,     0.83483,     0.83584,     0.83684,     0.83784,     0.83884,     0.83984,\n",
       "           0.84084,     0.84184,     0.84284,     0.84384,     0.84484,     0.84585,     0.84685,     0.84785,     0.84885,     0.84985,     0.85085,     0.85185,     0.85285,     0.85385,     0.85485,     0.85586,     0.85686,     0.85786,     0.85886,     0.85986,     0.86086,     0.86186,     0.86286,     0.86386,\n",
       "           0.86486,     0.86587,     0.86687,     0.86787,     0.86887,     0.86987,     0.87087,     0.87187,     0.87287,     0.87387,     0.87487,     0.87588,     0.87688,     0.87788,     0.87888,     0.87988,     0.88088,     0.88188,     0.88288,     0.88388,     0.88488,     0.88589,     0.88689,     0.88789,\n",
       "           0.88889,     0.88989,     0.89089,     0.89189,     0.89289,     0.89389,     0.89489,      0.8959,      0.8969,      0.8979,      0.8989,      0.8999,      0.9009,      0.9019,      0.9029,      0.9039,      0.9049,     0.90591,     0.90691,     0.90791,     0.90891,     0.90991,     0.91091,     0.91191,\n",
       "           0.91291,     0.91391,     0.91491,     0.91592,     0.91692,     0.91792,     0.91892,     0.91992,     0.92092,     0.92192,     0.92292,     0.92392,     0.92492,     0.92593,     0.92693,     0.92793,     0.92893,     0.92993,     0.93093,     0.93193,     0.93293,     0.93393,     0.93493,     0.93594,\n",
       "           0.93694,     0.93794,     0.93894,     0.93994,     0.94094,     0.94194,     0.94294,     0.94394,     0.94494,     0.94595,     0.94695,     0.94795,     0.94895,     0.94995,     0.95095,     0.95195,     0.95295,     0.95395,     0.95495,     0.95596,     0.95696,     0.95796,     0.95896,     0.95996,\n",
       "           0.96096,     0.96196,     0.96296,     0.96396,     0.96496,     0.96597,     0.96697,     0.96797,     0.96897,     0.96997,     0.97097,     0.97197,     0.97297,     0.97397,     0.97497,     0.97598,     0.97698,     0.97798,     0.97898,     0.97998,     0.98098,     0.98198,     0.98298,     0.98398,\n",
       "           0.98498,     0.98599,     0.98699,     0.98799,     0.98899,     0.98999,     0.99099,     0.99199,     0.99299,     0.99399,     0.99499,       0.996,       0.997,       0.998,       0.999,           1]), array([[    0.18498,     0.18498,     0.23466, ...,           1,           1,           1],\n",
       "       [    0.14231,     0.14231,     0.18416, ...,           1,           1,           1]]), 'Confidence', 'Precision'], [array([          0,    0.001001,    0.002002,    0.003003,    0.004004,    0.005005,    0.006006,    0.007007,    0.008008,    0.009009,     0.01001,    0.011011,    0.012012,    0.013013,    0.014014,    0.015015,    0.016016,    0.017017,    0.018018,    0.019019,     0.02002,    0.021021,    0.022022,    0.023023,\n",
       "          0.024024,    0.025025,    0.026026,    0.027027,    0.028028,    0.029029,     0.03003,    0.031031,    0.032032,    0.033033,    0.034034,    0.035035,    0.036036,    0.037037,    0.038038,    0.039039,     0.04004,    0.041041,    0.042042,    0.043043,    0.044044,    0.045045,    0.046046,    0.047047,\n",
       "          0.048048,    0.049049,     0.05005,    0.051051,    0.052052,    0.053053,    0.054054,    0.055055,    0.056056,    0.057057,    0.058058,    0.059059,     0.06006,    0.061061,    0.062062,    0.063063,    0.064064,    0.065065,    0.066066,    0.067067,    0.068068,    0.069069,     0.07007,    0.071071,\n",
       "          0.072072,    0.073073,    0.074074,    0.075075,    0.076076,    0.077077,    0.078078,    0.079079,     0.08008,    0.081081,    0.082082,    0.083083,    0.084084,    0.085085,    0.086086,    0.087087,    0.088088,    0.089089,     0.09009,    0.091091,    0.092092,    0.093093,    0.094094,    0.095095,\n",
       "          0.096096,    0.097097,    0.098098,    0.099099,      0.1001,      0.1011,      0.1021,      0.1031,      0.1041,     0.10511,     0.10611,     0.10711,     0.10811,     0.10911,     0.11011,     0.11111,     0.11211,     0.11311,     0.11411,     0.11512,     0.11612,     0.11712,     0.11812,     0.11912,\n",
       "           0.12012,     0.12112,     0.12212,     0.12312,     0.12412,     0.12513,     0.12613,     0.12713,     0.12813,     0.12913,     0.13013,     0.13113,     0.13213,     0.13313,     0.13413,     0.13514,     0.13614,     0.13714,     0.13814,     0.13914,     0.14014,     0.14114,     0.14214,     0.14314,\n",
       "           0.14414,     0.14515,     0.14615,     0.14715,     0.14815,     0.14915,     0.15015,     0.15115,     0.15215,     0.15315,     0.15415,     0.15516,     0.15616,     0.15716,     0.15816,     0.15916,     0.16016,     0.16116,     0.16216,     0.16316,     0.16416,     0.16517,     0.16617,     0.16717,\n",
       "           0.16817,     0.16917,     0.17017,     0.17117,     0.17217,     0.17317,     0.17417,     0.17518,     0.17618,     0.17718,     0.17818,     0.17918,     0.18018,     0.18118,     0.18218,     0.18318,     0.18418,     0.18519,     0.18619,     0.18719,     0.18819,     0.18919,     0.19019,     0.19119,\n",
       "           0.19219,     0.19319,     0.19419,      0.1952,      0.1962,      0.1972,      0.1982,      0.1992,      0.2002,      0.2012,      0.2022,      0.2032,      0.2042,     0.20521,     0.20621,     0.20721,     0.20821,     0.20921,     0.21021,     0.21121,     0.21221,     0.21321,     0.21421,     0.21522,\n",
       "           0.21622,     0.21722,     0.21822,     0.21922,     0.22022,     0.22122,     0.22222,     0.22322,     0.22422,     0.22523,     0.22623,     0.22723,     0.22823,     0.22923,     0.23023,     0.23123,     0.23223,     0.23323,     0.23423,     0.23524,     0.23624,     0.23724,     0.23824,     0.23924,\n",
       "           0.24024,     0.24124,     0.24224,     0.24324,     0.24424,     0.24525,     0.24625,     0.24725,     0.24825,     0.24925,     0.25025,     0.25125,     0.25225,     0.25325,     0.25425,     0.25526,     0.25626,     0.25726,     0.25826,     0.25926,     0.26026,     0.26126,     0.26226,     0.26326,\n",
       "           0.26426,     0.26527,     0.26627,     0.26727,     0.26827,     0.26927,     0.27027,     0.27127,     0.27227,     0.27327,     0.27427,     0.27528,     0.27628,     0.27728,     0.27828,     0.27928,     0.28028,     0.28128,     0.28228,     0.28328,     0.28428,     0.28529,     0.28629,     0.28729,\n",
       "           0.28829,     0.28929,     0.29029,     0.29129,     0.29229,     0.29329,     0.29429,      0.2953,      0.2963,      0.2973,      0.2983,      0.2993,      0.3003,      0.3013,      0.3023,      0.3033,      0.3043,     0.30531,     0.30631,     0.30731,     0.30831,     0.30931,     0.31031,     0.31131,\n",
       "           0.31231,     0.31331,     0.31431,     0.31532,     0.31632,     0.31732,     0.31832,     0.31932,     0.32032,     0.32132,     0.32232,     0.32332,     0.32432,     0.32533,     0.32633,     0.32733,     0.32833,     0.32933,     0.33033,     0.33133,     0.33233,     0.33333,     0.33433,     0.33534,\n",
       "           0.33634,     0.33734,     0.33834,     0.33934,     0.34034,     0.34134,     0.34234,     0.34334,     0.34434,     0.34535,     0.34635,     0.34735,     0.34835,     0.34935,     0.35035,     0.35135,     0.35235,     0.35335,     0.35435,     0.35536,     0.35636,     0.35736,     0.35836,     0.35936,\n",
       "           0.36036,     0.36136,     0.36236,     0.36336,     0.36436,     0.36537,     0.36637,     0.36737,     0.36837,     0.36937,     0.37037,     0.37137,     0.37237,     0.37337,     0.37437,     0.37538,     0.37638,     0.37738,     0.37838,     0.37938,     0.38038,     0.38138,     0.38238,     0.38338,\n",
       "           0.38438,     0.38539,     0.38639,     0.38739,     0.38839,     0.38939,     0.39039,     0.39139,     0.39239,     0.39339,     0.39439,      0.3954,      0.3964,      0.3974,      0.3984,      0.3994,      0.4004,      0.4014,      0.4024,      0.4034,      0.4044,     0.40541,     0.40641,     0.40741,\n",
       "           0.40841,     0.40941,     0.41041,     0.41141,     0.41241,     0.41341,     0.41441,     0.41542,     0.41642,     0.41742,     0.41842,     0.41942,     0.42042,     0.42142,     0.42242,     0.42342,     0.42442,     0.42543,     0.42643,     0.42743,     0.42843,     0.42943,     0.43043,     0.43143,\n",
       "           0.43243,     0.43343,     0.43443,     0.43544,     0.43644,     0.43744,     0.43844,     0.43944,     0.44044,     0.44144,     0.44244,     0.44344,     0.44444,     0.44545,     0.44645,     0.44745,     0.44845,     0.44945,     0.45045,     0.45145,     0.45245,     0.45345,     0.45445,     0.45546,\n",
       "           0.45646,     0.45746,     0.45846,     0.45946,     0.46046,     0.46146,     0.46246,     0.46346,     0.46446,     0.46547,     0.46647,     0.46747,     0.46847,     0.46947,     0.47047,     0.47147,     0.47247,     0.47347,     0.47447,     0.47548,     0.47648,     0.47748,     0.47848,     0.47948,\n",
       "           0.48048,     0.48148,     0.48248,     0.48348,     0.48448,     0.48549,     0.48649,     0.48749,     0.48849,     0.48949,     0.49049,     0.49149,     0.49249,     0.49349,     0.49449,      0.4955,      0.4965,      0.4975,      0.4985,      0.4995,      0.5005,      0.5015,      0.5025,      0.5035,\n",
       "            0.5045,     0.50551,     0.50651,     0.50751,     0.50851,     0.50951,     0.51051,     0.51151,     0.51251,     0.51351,     0.51451,     0.51552,     0.51652,     0.51752,     0.51852,     0.51952,     0.52052,     0.52152,     0.52252,     0.52352,     0.52452,     0.52553,     0.52653,     0.52753,\n",
       "           0.52853,     0.52953,     0.53053,     0.53153,     0.53253,     0.53353,     0.53453,     0.53554,     0.53654,     0.53754,     0.53854,     0.53954,     0.54054,     0.54154,     0.54254,     0.54354,     0.54454,     0.54555,     0.54655,     0.54755,     0.54855,     0.54955,     0.55055,     0.55155,\n",
       "           0.55255,     0.55355,     0.55455,     0.55556,     0.55656,     0.55756,     0.55856,     0.55956,     0.56056,     0.56156,     0.56256,     0.56356,     0.56456,     0.56557,     0.56657,     0.56757,     0.56857,     0.56957,     0.57057,     0.57157,     0.57257,     0.57357,     0.57457,     0.57558,\n",
       "           0.57658,     0.57758,     0.57858,     0.57958,     0.58058,     0.58158,     0.58258,     0.58358,     0.58458,     0.58559,     0.58659,     0.58759,     0.58859,     0.58959,     0.59059,     0.59159,     0.59259,     0.59359,     0.59459,      0.5956,      0.5966,      0.5976,      0.5986,      0.5996,\n",
       "            0.6006,      0.6016,      0.6026,      0.6036,      0.6046,     0.60561,     0.60661,     0.60761,     0.60861,     0.60961,     0.61061,     0.61161,     0.61261,     0.61361,     0.61461,     0.61562,     0.61662,     0.61762,     0.61862,     0.61962,     0.62062,     0.62162,     0.62262,     0.62362,\n",
       "           0.62462,     0.62563,     0.62663,     0.62763,     0.62863,     0.62963,     0.63063,     0.63163,     0.63263,     0.63363,     0.63463,     0.63564,     0.63664,     0.63764,     0.63864,     0.63964,     0.64064,     0.64164,     0.64264,     0.64364,     0.64464,     0.64565,     0.64665,     0.64765,\n",
       "           0.64865,     0.64965,     0.65065,     0.65165,     0.65265,     0.65365,     0.65465,     0.65566,     0.65666,     0.65766,     0.65866,     0.65966,     0.66066,     0.66166,     0.66266,     0.66366,     0.66466,     0.66567,     0.66667,     0.66767,     0.66867,     0.66967,     0.67067,     0.67167,\n",
       "           0.67267,     0.67367,     0.67467,     0.67568,     0.67668,     0.67768,     0.67868,     0.67968,     0.68068,     0.68168,     0.68268,     0.68368,     0.68468,     0.68569,     0.68669,     0.68769,     0.68869,     0.68969,     0.69069,     0.69169,     0.69269,     0.69369,     0.69469,      0.6957,\n",
       "            0.6967,      0.6977,      0.6987,      0.6997,      0.7007,      0.7017,      0.7027,      0.7037,      0.7047,     0.70571,     0.70671,     0.70771,     0.70871,     0.70971,     0.71071,     0.71171,     0.71271,     0.71371,     0.71471,     0.71572,     0.71672,     0.71772,     0.71872,     0.71972,\n",
       "           0.72072,     0.72172,     0.72272,     0.72372,     0.72472,     0.72573,     0.72673,     0.72773,     0.72873,     0.72973,     0.73073,     0.73173,     0.73273,     0.73373,     0.73473,     0.73574,     0.73674,     0.73774,     0.73874,     0.73974,     0.74074,     0.74174,     0.74274,     0.74374,\n",
       "           0.74474,     0.74575,     0.74675,     0.74775,     0.74875,     0.74975,     0.75075,     0.75175,     0.75275,     0.75375,     0.75475,     0.75576,     0.75676,     0.75776,     0.75876,     0.75976,     0.76076,     0.76176,     0.76276,     0.76376,     0.76476,     0.76577,     0.76677,     0.76777,\n",
       "           0.76877,     0.76977,     0.77077,     0.77177,     0.77277,     0.77377,     0.77477,     0.77578,     0.77678,     0.77778,     0.77878,     0.77978,     0.78078,     0.78178,     0.78278,     0.78378,     0.78478,     0.78579,     0.78679,     0.78779,     0.78879,     0.78979,     0.79079,     0.79179,\n",
       "           0.79279,     0.79379,     0.79479,      0.7958,      0.7968,      0.7978,      0.7988,      0.7998,      0.8008,      0.8018,      0.8028,      0.8038,      0.8048,     0.80581,     0.80681,     0.80781,     0.80881,     0.80981,     0.81081,     0.81181,     0.81281,     0.81381,     0.81481,     0.81582,\n",
       "           0.81682,     0.81782,     0.81882,     0.81982,     0.82082,     0.82182,     0.82282,     0.82382,     0.82482,     0.82583,     0.82683,     0.82783,     0.82883,     0.82983,     0.83083,     0.83183,     0.83283,     0.83383,     0.83483,     0.83584,     0.83684,     0.83784,     0.83884,     0.83984,\n",
       "           0.84084,     0.84184,     0.84284,     0.84384,     0.84484,     0.84585,     0.84685,     0.84785,     0.84885,     0.84985,     0.85085,     0.85185,     0.85285,     0.85385,     0.85485,     0.85586,     0.85686,     0.85786,     0.85886,     0.85986,     0.86086,     0.86186,     0.86286,     0.86386,\n",
       "           0.86486,     0.86587,     0.86687,     0.86787,     0.86887,     0.86987,     0.87087,     0.87187,     0.87287,     0.87387,     0.87487,     0.87588,     0.87688,     0.87788,     0.87888,     0.87988,     0.88088,     0.88188,     0.88288,     0.88388,     0.88488,     0.88589,     0.88689,     0.88789,\n",
       "           0.88889,     0.88989,     0.89089,     0.89189,     0.89289,     0.89389,     0.89489,      0.8959,      0.8969,      0.8979,      0.8989,      0.8999,      0.9009,      0.9019,      0.9029,      0.9039,      0.9049,     0.90591,     0.90691,     0.90791,     0.90891,     0.90991,     0.91091,     0.91191,\n",
       "           0.91291,     0.91391,     0.91491,     0.91592,     0.91692,     0.91792,     0.91892,     0.91992,     0.92092,     0.92192,     0.92292,     0.92392,     0.92492,     0.92593,     0.92693,     0.92793,     0.92893,     0.92993,     0.93093,     0.93193,     0.93293,     0.93393,     0.93493,     0.93594,\n",
       "           0.93694,     0.93794,     0.93894,     0.93994,     0.94094,     0.94194,     0.94294,     0.94394,     0.94494,     0.94595,     0.94695,     0.94795,     0.94895,     0.94995,     0.95095,     0.95195,     0.95295,     0.95395,     0.95495,     0.95596,     0.95696,     0.95796,     0.95896,     0.95996,\n",
       "           0.96096,     0.96196,     0.96296,     0.96396,     0.96496,     0.96597,     0.96697,     0.96797,     0.96897,     0.96997,     0.97097,     0.97197,     0.97297,     0.97397,     0.97497,     0.97598,     0.97698,     0.97798,     0.97898,     0.97998,     0.98098,     0.98198,     0.98298,     0.98398,\n",
       "           0.98498,     0.98599,     0.98699,     0.98799,     0.98899,     0.98999,     0.99099,     0.99199,     0.99299,     0.99399,     0.99499,       0.996,       0.997,       0.998,       0.999,           1]), array([[    0.93561,     0.93561,     0.93035, ...,           0,           0,           0],\n",
       "       [    0.84234,     0.84234,     0.81982, ...,           0,           0,           0]]), 'Confidence', 'Recall']]\n",
       "fitness: 0.5020736725583904\n",
       "keys: ['metrics/precision(B)', 'metrics/recall(B)', 'metrics/mAP50(B)', 'metrics/mAP50-95(B)']\n",
       "maps: array([    0.51627,     0.42811])\n",
       "names: {0: 'fire', 1: 'smoke'}\n",
       "plot: True\n",
       "results_dict: {'metrics/precision(B)': 0.8028212942650964, 'metrics/recall(B)': 0.6854078783119519, 'metrics/mAP50(B)': 0.7710202139425234, 'metrics/mAP50-95(B)': 0.4721907235157089, 'fitness': 0.5020736725583904}\n",
       "save_dir: PosixPath('runs/detect/train3')\n",
       "speed: {'preprocess': 2.003899386096559, 'inference': 1.303251371734517, 'loss': 0.00025596108324950356, 'postprocess': 1.1786505530111766}\n",
       "task: 'detect'"
      ]
     },
     "execution_count": 7,
     "metadata": {},
     "output_type": "execute_result"
    }
   ],
   "source": [
    "from ultralytics import YOLO\n",
    "model = YOLO(\"runs/detect/train3/weights/last.pt\")\n",
    "model.train(resume=True)"
   ]
  },
  {
   "cell_type": "code",
   "execution_count": 3,
   "id": "74fd3ab8",
   "metadata": {
    "scrolled": true
   },
   "outputs": [
    {
     "name": "stdout",
     "output_type": "stream",
     "text": [
      "Transferred 355/355 items from pretrained weights\n",
      "New https://pypi.org/project/ultralytics/8.2.18 available 😃 Update with 'pip install -U ultralytics'\n",
      "Ultralytics YOLOv8.1.38 🚀 Python-3.8.10 torch-2.1.0a0+fe05266 CUDA:0 (NVIDIA RTX A6000, 48677MiB)\n",
      "\u001b[34m\u001b[1mengine/trainer: \u001b[0mtask=detect, mode=train, model=yolov8s.yaml, data=/raid/coss27/datasets/add_smoke_data/data.yaml, epochs=100, time=None, patience=100, batch=128, imgsz=640, save=True, save_period=-1, cache=False, device=None, workers=8, project=None, name=train6, exist_ok=False, pretrained=True, optimizer=auto, verbose=True, seed=0, deterministic=True, single_cls=False, rect=False, cos_lr=False, close_mosaic=10, resume=False, amp=True, fraction=1.0, profile=False, freeze=None, multi_scale=False, overlap_mask=True, mask_ratio=4, dropout=0.0, val=True, split=val, save_json=False, save_hybrid=False, conf=None, iou=0.7, max_det=300, half=False, dnn=False, plots=True, source=None, vid_stride=1, stream_buffer=False, visualize=False, augment=False, agnostic_nms=False, classes=None, retina_masks=False, embed=None, show=False, save_frames=False, save_txt=False, save_conf=False, save_crop=False, show_labels=True, show_conf=True, show_boxes=True, line_width=None, format=torchscript, keras=False, optimize=False, int8=False, dynamic=False, simplify=False, opset=None, workspace=4, nms=False, lr0=0.01, lrf=0.01, momentum=0.937, weight_decay=0.0005, warmup_epochs=3.0, warmup_momentum=0.8, warmup_bias_lr=0.1, box=7.5, cls=0.5, dfl=1.5, pose=12.0, kobj=1.0, label_smoothing=0.0, nbs=64, hsv_h=0.015, hsv_s=0.7, hsv_v=0.4, degrees=0.0, translate=0.1, scale=0.5, shear=0.0, perspective=0.0, flipud=0.0, fliplr=0.5, bgr=0.0, mosaic=1.0, mixup=0.0, copy_paste=0.0, auto_augment=randaugment, erasing=0.4, crop_fraction=1.0, cfg=None, tracker=botsort.yaml, save_dir=runs/detect/train6\n",
      "Overriding model.yaml nc=80 with nc=2\n",
      "\n",
      "                   from  n    params  module                                       arguments                     \n",
      "  0                  -1  1       928  ultralytics.nn.modules.conv.Conv             [3, 32, 3, 2]                 \n",
      "  1                  -1  1     18560  ultralytics.nn.modules.conv.Conv             [32, 64, 3, 2]                \n",
      "  2                  -1  1     29056  ultralytics.nn.modules.block.C2f             [64, 64, 1, True]             \n",
      "  3                  -1  1     73984  ultralytics.nn.modules.conv.Conv             [64, 128, 3, 2]               \n",
      "  4                  -1  2    197632  ultralytics.nn.modules.block.C2f             [128, 128, 2, True]           \n",
      "  5                  -1  1    295424  ultralytics.nn.modules.conv.Conv             [128, 256, 3, 2]              \n",
      "  6                  -1  2    788480  ultralytics.nn.modules.block.C2f             [256, 256, 2, True]           \n",
      "  7                  -1  1   1180672  ultralytics.nn.modules.conv.Conv             [256, 512, 3, 2]              \n",
      "  8                  -1  1   1838080  ultralytics.nn.modules.block.C2f             [512, 512, 1, True]           \n",
      "  9                  -1  1    656896  ultralytics.nn.modules.block.SPPF            [512, 512, 5]                 \n",
      " 10                  -1  1         0  torch.nn.modules.upsampling.Upsample         [None, 2, 'nearest']          \n",
      " 11             [-1, 6]  1         0  ultralytics.nn.modules.conv.Concat           [1]                           \n",
      " 12                  -1  1    591360  ultralytics.nn.modules.block.C2f             [768, 256, 1]                 \n",
      " 13                  -1  1         0  torch.nn.modules.upsampling.Upsample         [None, 2, 'nearest']          \n",
      " 14             [-1, 4]  1         0  ultralytics.nn.modules.conv.Concat           [1]                           \n",
      " 15                  -1  1    148224  ultralytics.nn.modules.block.C2f             [384, 128, 1]                 \n",
      " 16                  -1  1    147712  ultralytics.nn.modules.conv.Conv             [128, 128, 3, 2]              \n",
      " 17            [-1, 12]  1         0  ultralytics.nn.modules.conv.Concat           [1]                           \n",
      " 18                  -1  1    493056  ultralytics.nn.modules.block.C2f             [384, 256, 1]                 \n",
      " 19                  -1  1    590336  ultralytics.nn.modules.conv.Conv             [256, 256, 3, 2]              \n",
      " 20             [-1, 9]  1         0  ultralytics.nn.modules.conv.Concat           [1]                           \n",
      " 21                  -1  1   1969152  ultralytics.nn.modules.block.C2f             [768, 512, 1]                 \n",
      " 22        [15, 18, 21]  1   2116822  ultralytics.nn.modules.head.Detect           [2, [128, 256, 512]]          \n",
      "YOLOv8s summary: 225 layers, 11136374 parameters, 11136358 gradients, 28.6 GFLOPs\n",
      "\n",
      "Transferred 349/355 items from pretrained weights\n",
      "\u001b[34m\u001b[1mTensorBoard: \u001b[0mStart with 'tensorboard --logdir runs/detect/train6', view at http://localhost:6006/\n",
      "Freezing layer 'model.22.dfl.conv.weight'\n",
      "\u001b[34m\u001b[1mAMP: \u001b[0mrunning Automatic Mixed Precision (AMP) checks with YOLOv8n...\n",
      "\u001b[34m\u001b[1mAMP: \u001b[0mchecks passed ✅\n"
     ]
    },
    {
     "name": "stderr",
     "output_type": "stream",
     "text": [
      "\u001b[34m\u001b[1mtrain: \u001b[0mScanning /raid/coss27/datasets/add_smoke_data/train/labels.cache... 2413 images, 0 backgrounds, 0 corrupt: 100%|██████████| 2413/2413 [00:00<?, ?it/s]\n",
      "/usr/local/lib/python3.8/dist-packages/torch/utils/data/dataloader.py:561: UserWarning: This DataLoader will create 8 worker processes in total. Our suggested max number of worker in current system is 2, which is smaller than what this DataLoader is going to create. Please be aware that excessive worker creation might get DataLoader running slow or even freeze, lower the worker number to avoid potential slowness/freeze if necessary.\n",
      "  warnings.warn(_create_warning_msg(\n",
      "\u001b[34m\u001b[1mval: \u001b[0mScanning /raid/coss27/datasets/add_smoke_data/valid/labels.cache... 598 images, 0 backgrounds, 0 corrupt: 100%|██████████| 598/598 [00:00<?, ?it/s]"
     ]
    },
    {
     "name": "stdout",
     "output_type": "stream",
     "text": [
      "WARNING ⚠️ Box and segment counts should be equal, but got len(segments) = 1, len(boxes) = 983. To resolve this only boxes will be used and all segments will be removed. To avoid this please supply either a detect or segment dataset, not a detect-segment mixed dataset.\n"
     ]
    },
    {
     "name": "stderr",
     "output_type": "stream",
     "text": [
      "\n",
      "/usr/local/lib/python3.8/dist-packages/torch/utils/data/dataloader.py:561: UserWarning: This DataLoader will create 16 worker processes in total. Our suggested max number of worker in current system is 2, which is smaller than what this DataLoader is going to create. Please be aware that excessive worker creation might get DataLoader running slow or even freeze, lower the worker number to avoid potential slowness/freeze if necessary.\n",
      "  warnings.warn(_create_warning_msg(\n"
     ]
    },
    {
     "name": "stdout",
     "output_type": "stream",
     "text": [
      "Plotting labels to runs/detect/train6/labels.jpg... \n",
      "\u001b[34m\u001b[1moptimizer:\u001b[0m 'optimizer=auto' found, ignoring 'lr0=0.01' and 'momentum=0.937' and determining best 'optimizer', 'lr0' and 'momentum' automatically... \n",
      "\u001b[34m\u001b[1moptimizer:\u001b[0m AdamW(lr=0.001667, momentum=0.9) with parameter groups 57 weight(decay=0.0), 64 weight(decay=0.001), 63 bias(decay=0.0)\n",
      "\u001b[34m\u001b[1mTensorBoard: \u001b[0mmodel graph visualization added ✅\n",
      "Image sizes 640 train, 640 val\n",
      "Using 8 dataloader workers\n",
      "Logging results to \u001b[1mruns/detect/train6\u001b[0m\n",
      "Starting training for 100 epochs...\n",
      "\n",
      "      Epoch    GPU_mem   box_loss   cls_loss   dfl_loss  Instances       Size\n"
     ]
    },
    {
     "name": "stderr",
     "output_type": "stream",
     "text": [
      "      1/100        30G      1.858      3.887      1.886        267        640: 100%|██████████| 19/19 [00:23<00:00,  1.24s/it]\n",
      "                 Class     Images  Instances      Box(P          R      mAP50  mAP50-95): 100%|██████████| 3/3 [00:14<00:00,  4.72s/it]\n"
     ]
    },
    {
     "name": "stdout",
     "output_type": "stream",
     "text": [
      "                   all        598        983      0.116      0.147     0.0483     0.0194\n",
      "\n",
      "      Epoch    GPU_mem   box_loss   cls_loss   dfl_loss  Instances       Size\n"
     ]
    },
    {
     "name": "stderr",
     "output_type": "stream",
     "text": [
      "      2/100        30G      1.603      1.988      1.641        309        640: 100%|██████████| 19/19 [00:16<00:00,  1.12it/s]\n",
      "                 Class     Images  Instances      Box(P          R      mAP50  mAP50-95): 100%|██████████| 3/3 [00:11<00:00,  3.78s/it]\n"
     ]
    },
    {
     "name": "stdout",
     "output_type": "stream",
     "text": [
      "                   all        598        983       0.19       0.18      0.105     0.0376\n",
      "\n",
      "      Epoch    GPU_mem   box_loss   cls_loss   dfl_loss  Instances       Size\n"
     ]
    },
    {
     "name": "stderr",
     "output_type": "stream",
     "text": [
      "      3/100      30.1G      1.594      1.702      1.643        299        640: 100%|██████████| 19/19 [00:16<00:00,  1.16it/s]\n",
      "                 Class     Images  Instances      Box(P          R      mAP50  mAP50-95): 100%|██████████| 3/3 [00:11<00:00,  3.70s/it]\n"
     ]
    },
    {
     "name": "stdout",
     "output_type": "stream",
     "text": [
      "                   all        598        983      0.152      0.261       0.12     0.0421\n",
      "\n",
      "      Epoch    GPU_mem   box_loss   cls_loss   dfl_loss  Instances       Size\n"
     ]
    },
    {
     "name": "stderr",
     "output_type": "stream",
     "text": [
      "      4/100      30.1G      1.653      1.686      1.676        294        640: 100%|██████████| 19/19 [00:16<00:00,  1.12it/s]\n",
      "                 Class     Images  Instances      Box(P          R      mAP50  mAP50-95): 100%|██████████| 3/3 [00:11<00:00,  3.75s/it]\n"
     ]
    },
    {
     "name": "stdout",
     "output_type": "stream",
     "text": [
      "                   all        598        983      0.086      0.151     0.0443     0.0128\n",
      "\n",
      "      Epoch    GPU_mem   box_loss   cls_loss   dfl_loss  Instances       Size\n"
     ]
    },
    {
     "name": "stderr",
     "output_type": "stream",
     "text": [
      "      5/100      30.1G      1.668      1.689      1.692        283        640: 100%|██████████| 19/19 [00:17<00:00,  1.07it/s]\n",
      "                 Class     Images  Instances      Box(P          R      mAP50  mAP50-95): 100%|██████████| 3/3 [00:10<00:00,  3.46s/it]\n"
     ]
    },
    {
     "name": "stdout",
     "output_type": "stream",
     "text": [
      "                   all        598        983      0.109     0.0931      0.039     0.0128\n",
      "\n",
      "      Epoch    GPU_mem   box_loss   cls_loss   dfl_loss  Instances       Size\n"
     ]
    },
    {
     "name": "stderr",
     "output_type": "stream",
     "text": [
      "      6/100      30.1G      1.668      1.742      1.713        282        640: 100%|██████████| 19/19 [00:18<00:00,  1.04it/s]\n",
      "                 Class     Images  Instances      Box(P          R      mAP50  mAP50-95): 100%|██████████| 3/3 [00:12<00:00,  4.29s/it]\n"
     ]
    },
    {
     "name": "stdout",
     "output_type": "stream",
     "text": [
      "                   all        598        983     0.0997      0.181     0.0566     0.0186\n",
      "\n",
      "      Epoch    GPU_mem   box_loss   cls_loss   dfl_loss  Instances       Size\n"
     ]
    },
    {
     "name": "stderr",
     "output_type": "stream",
     "text": [
      "      7/100      30.1G       1.66      1.706      1.705        294        640: 100%|██████████| 19/19 [00:17<00:00,  1.10it/s]\n",
      "                 Class     Images  Instances      Box(P          R      mAP50  mAP50-95): 100%|██████████| 3/3 [00:10<00:00,  3.44s/it]\n"
     ]
    },
    {
     "name": "stdout",
     "output_type": "stream",
     "text": [
      "                   all        598        983      0.158      0.194     0.0641      0.022\n",
      "\n",
      "      Epoch    GPU_mem   box_loss   cls_loss   dfl_loss  Instances       Size\n"
     ]
    },
    {
     "name": "stderr",
     "output_type": "stream",
     "text": [
      "      8/100      30.1G      1.621      1.606      1.655        287        640: 100%|██████████| 19/19 [00:18<00:00,  1.04it/s]\n",
      "                 Class     Images  Instances      Box(P          R      mAP50  mAP50-95): 100%|██████████| 3/3 [00:11<00:00,  3.70s/it]\n"
     ]
    },
    {
     "name": "stdout",
     "output_type": "stream",
     "text": [
      "                   all        598        983      0.117      0.177      0.054     0.0207\n",
      "\n",
      "      Epoch    GPU_mem   box_loss   cls_loss   dfl_loss  Instances       Size\n"
     ]
    },
    {
     "name": "stderr",
     "output_type": "stream",
     "text": [
      "      9/100      29.9G      1.592      1.564       1.62        307        640: 100%|██████████| 19/19 [00:19<00:00,  1.01s/it]\n",
      "                 Class     Images  Instances      Box(P          R      mAP50  mAP50-95): 100%|██████████| 3/3 [00:11<00:00,  3.93s/it]\n"
     ]
    },
    {
     "name": "stdout",
     "output_type": "stream",
     "text": [
      "                   all        598        983      0.319      0.299      0.208     0.0797\n",
      "\n",
      "      Epoch    GPU_mem   box_loss   cls_loss   dfl_loss  Instances       Size\n"
     ]
    },
    {
     "name": "stderr",
     "output_type": "stream",
     "text": [
      "     10/100      30.1G      1.555      1.487      1.603        266        640: 100%|██████████| 19/19 [00:16<00:00,  1.18it/s]\n",
      "                 Class     Images  Instances      Box(P          R      mAP50  mAP50-95): 100%|██████████| 3/3 [00:10<00:00,  3.58s/it]\n"
     ]
    },
    {
     "name": "stdout",
     "output_type": "stream",
     "text": [
      "                   all        598        983      0.463      0.378      0.369      0.156\n",
      "\n",
      "      Epoch    GPU_mem   box_loss   cls_loss   dfl_loss  Instances       Size\n"
     ]
    },
    {
     "name": "stderr",
     "output_type": "stream",
     "text": [
      "     11/100      30.1G      1.536       1.45      1.574        301        640: 100%|██████████| 19/19 [00:16<00:00,  1.12it/s]\n",
      "                 Class     Images  Instances      Box(P          R      mAP50  mAP50-95): 100%|██████████| 3/3 [00:11<00:00,  3.69s/it]\n"
     ]
    },
    {
     "name": "stdout",
     "output_type": "stream",
     "text": [
      "                   all        598        983      0.397      0.338      0.277      0.122\n",
      "\n",
      "      Epoch    GPU_mem   box_loss   cls_loss   dfl_loss  Instances       Size\n"
     ]
    },
    {
     "name": "stderr",
     "output_type": "stream",
     "text": [
      "     12/100      29.9G      1.509      1.383      1.574        256        640: 100%|██████████| 19/19 [00:17<00:00,  1.09it/s]\n",
      "                 Class     Images  Instances      Box(P          R      mAP50  mAP50-95): 100%|██████████| 3/3 [00:10<00:00,  3.56s/it]\n"
     ]
    },
    {
     "name": "stdout",
     "output_type": "stream",
     "text": [
      "                   all        598        983      0.523      0.381      0.392      0.182\n",
      "\n",
      "      Epoch    GPU_mem   box_loss   cls_loss   dfl_loss  Instances       Size\n"
     ]
    },
    {
     "name": "stderr",
     "output_type": "stream",
     "text": [
      "     13/100      29.9G      1.473      1.362       1.55        283        640: 100%|██████████| 19/19 [00:17<00:00,  1.12it/s]\n",
      "                 Class     Images  Instances      Box(P          R      mAP50  mAP50-95): 100%|██████████| 3/3 [00:11<00:00,  3.72s/it]\n"
     ]
    },
    {
     "name": "stdout",
     "output_type": "stream",
     "text": [
      "                   all        598        983      0.439      0.396      0.359      0.167\n",
      "\n",
      "      Epoch    GPU_mem   box_loss   cls_loss   dfl_loss  Instances       Size\n"
     ]
    },
    {
     "name": "stderr",
     "output_type": "stream",
     "text": [
      "     14/100      29.9G      1.479      1.346      1.545        297        640: 100%|██████████| 19/19 [00:17<00:00,  1.10it/s]\n",
      "                 Class     Images  Instances      Box(P          R      mAP50  mAP50-95): 100%|██████████| 3/3 [00:11<00:00,  3.74s/it]\n"
     ]
    },
    {
     "name": "stdout",
     "output_type": "stream",
     "text": [
      "                   all        598        983      0.571        0.5      0.502      0.233\n",
      "\n",
      "      Epoch    GPU_mem   box_loss   cls_loss   dfl_loss  Instances       Size\n"
     ]
    },
    {
     "name": "stderr",
     "output_type": "stream",
     "text": [
      "     15/100      30.1G       1.44      1.299      1.517        275        640: 100%|██████████| 19/19 [00:17<00:00,  1.11it/s]\n",
      "                 Class     Images  Instances      Box(P          R      mAP50  mAP50-95): 100%|██████████| 3/3 [00:11<00:00,  3.74s/it]\n"
     ]
    },
    {
     "name": "stdout",
     "output_type": "stream",
     "text": [
      "                   all        598        983      0.569      0.527      0.519      0.249\n",
      "\n",
      "      Epoch    GPU_mem   box_loss   cls_loss   dfl_loss  Instances       Size\n"
     ]
    },
    {
     "name": "stderr",
     "output_type": "stream",
     "text": [
      "     16/100      29.9G       1.42      1.276      1.501        262        640: 100%|██████████| 19/19 [00:16<00:00,  1.14it/s]\n",
      "                 Class     Images  Instances      Box(P          R      mAP50  mAP50-95): 100%|██████████| 3/3 [00:11<00:00,  3.67s/it]\n"
     ]
    },
    {
     "name": "stdout",
     "output_type": "stream",
     "text": [
      "                   all        598        983      0.589      0.417      0.456      0.225\n",
      "\n",
      "      Epoch    GPU_mem   box_loss   cls_loss   dfl_loss  Instances       Size\n"
     ]
    },
    {
     "name": "stderr",
     "output_type": "stream",
     "text": [
      "     17/100      29.9G      1.429      1.254      1.504        277        640: 100%|██████████| 19/19 [00:16<00:00,  1.12it/s]\n",
      "                 Class     Images  Instances      Box(P          R      mAP50  mAP50-95): 100%|██████████| 3/3 [00:10<00:00,  3.59s/it]\n"
     ]
    },
    {
     "name": "stdout",
     "output_type": "stream",
     "text": [
      "                   all        598        983      0.588      0.483      0.515      0.267\n",
      "\n",
      "      Epoch    GPU_mem   box_loss   cls_loss   dfl_loss  Instances       Size\n"
     ]
    },
    {
     "name": "stderr",
     "output_type": "stream",
     "text": [
      "     18/100      30.1G      1.389      1.213      1.487        303        640: 100%|██████████| 19/19 [00:16<00:00,  1.13it/s]\n",
      "                 Class     Images  Instances      Box(P          R      mAP50  mAP50-95): 100%|██████████| 3/3 [00:10<00:00,  3.66s/it]\n"
     ]
    },
    {
     "name": "stdout",
     "output_type": "stream",
     "text": [
      "                   all        598        983      0.603      0.536      0.557       0.29\n",
      "\n",
      "      Epoch    GPU_mem   box_loss   cls_loss   dfl_loss  Instances       Size\n"
     ]
    },
    {
     "name": "stderr",
     "output_type": "stream",
     "text": [
      "     19/100      30.1G      1.397       1.19      1.476        277        640: 100%|██████████| 19/19 [00:16<00:00,  1.13it/s]\n",
      "                 Class     Images  Instances      Box(P          R      mAP50  mAP50-95): 100%|██████████| 3/3 [00:10<00:00,  3.58s/it]"
     ]
    },
    {
     "name": "stdout",
     "output_type": "stream",
     "text": [
      "                   all        598        983       0.69       0.51      0.565      0.277\n"
     ]
    },
    {
     "name": "stderr",
     "output_type": "stream",
     "text": [
      "\n"
     ]
    },
    {
     "name": "stdout",
     "output_type": "stream",
     "text": [
      "\n",
      "      Epoch    GPU_mem   box_loss   cls_loss   dfl_loss  Instances       Size\n"
     ]
    },
    {
     "name": "stderr",
     "output_type": "stream",
     "text": [
      "     20/100      30.1G      1.367      1.173      1.461        277        640: 100%|██████████| 19/19 [00:18<00:00,  1.03it/s]\n",
      "                 Class     Images  Instances      Box(P          R      mAP50  mAP50-95): 100%|██████████| 3/3 [00:10<00:00,  3.58s/it]\n"
     ]
    },
    {
     "name": "stdout",
     "output_type": "stream",
     "text": [
      "                   all        598        983      0.632      0.502      0.555      0.297\n",
      "\n",
      "      Epoch    GPU_mem   box_loss   cls_loss   dfl_loss  Instances       Size\n"
     ]
    },
    {
     "name": "stderr",
     "output_type": "stream",
     "text": [
      "     21/100      29.9G       1.36      1.165      1.442        291        640: 100%|██████████| 19/19 [00:17<00:00,  1.11it/s]\n",
      "                 Class     Images  Instances      Box(P          R      mAP50  mAP50-95): 100%|██████████| 3/3 [00:10<00:00,  3.64s/it]\n"
     ]
    },
    {
     "name": "stdout",
     "output_type": "stream",
     "text": [
      "                   all        598        983      0.626      0.547       0.58      0.305\n",
      "\n",
      "      Epoch    GPU_mem   box_loss   cls_loss   dfl_loss  Instances       Size\n"
     ]
    },
    {
     "name": "stderr",
     "output_type": "stream",
     "text": [
      "     22/100      30.1G      1.338      1.139      1.439        282        640: 100%|██████████| 19/19 [00:16<00:00,  1.12it/s]\n",
      "                 Class     Images  Instances      Box(P          R      mAP50  mAP50-95): 100%|██████████| 3/3 [00:10<00:00,  3.53s/it]\n"
     ]
    },
    {
     "name": "stdout",
     "output_type": "stream",
     "text": [
      "                   all        598        983      0.616      0.508      0.548      0.276\n",
      "\n",
      "      Epoch    GPU_mem   box_loss   cls_loss   dfl_loss  Instances       Size\n"
     ]
    },
    {
     "name": "stderr",
     "output_type": "stream",
     "text": [
      "     23/100      30.1G      1.339        1.1      1.433        262        640: 100%|██████████| 19/19 [00:18<00:00,  1.05it/s]\n",
      "                 Class     Images  Instances      Box(P          R      mAP50  mAP50-95): 100%|██████████| 3/3 [00:10<00:00,  3.47s/it]\n"
     ]
    },
    {
     "name": "stdout",
     "output_type": "stream",
     "text": [
      "                   all        598        983      0.684       0.54      0.594      0.318\n",
      "\n",
      "      Epoch    GPU_mem   box_loss   cls_loss   dfl_loss  Instances       Size\n"
     ]
    },
    {
     "name": "stderr",
     "output_type": "stream",
     "text": [
      "     24/100      30.1G      1.319      1.083      1.415        281        640: 100%|██████████| 19/19 [00:18<00:00,  1.05it/s]\n",
      "                 Class     Images  Instances      Box(P          R      mAP50  mAP50-95): 100%|██████████| 3/3 [00:10<00:00,  3.60s/it]"
     ]
    },
    {
     "name": "stdout",
     "output_type": "stream",
     "text": [
      "                   all        598        983       0.69       0.58      0.629      0.331\n"
     ]
    },
    {
     "name": "stderr",
     "output_type": "stream",
     "text": [
      "\n"
     ]
    },
    {
     "name": "stdout",
     "output_type": "stream",
     "text": [
      "\n",
      "      Epoch    GPU_mem   box_loss   cls_loss   dfl_loss  Instances       Size\n"
     ]
    },
    {
     "name": "stderr",
     "output_type": "stream",
     "text": [
      "     25/100      29.9G      1.284      1.055      1.398        284        640: 100%|██████████| 19/19 [00:16<00:00,  1.14it/s]\n",
      "                 Class     Images  Instances      Box(P          R      mAP50  mAP50-95): 100%|██████████| 3/3 [00:10<00:00,  3.59s/it]\n"
     ]
    },
    {
     "name": "stdout",
     "output_type": "stream",
     "text": [
      "                   all        598        983      0.702      0.535      0.593      0.322\n",
      "\n",
      "      Epoch    GPU_mem   box_loss   cls_loss   dfl_loss  Instances       Size\n"
     ]
    },
    {
     "name": "stderr",
     "output_type": "stream",
     "text": [
      "     26/100      29.9G      1.304       1.06      1.409        306        640: 100%|██████████| 19/19 [00:18<00:00,  1.05it/s]\n",
      "                 Class     Images  Instances      Box(P          R      mAP50  mAP50-95): 100%|██████████| 3/3 [00:10<00:00,  3.49s/it]\n"
     ]
    },
    {
     "name": "stdout",
     "output_type": "stream",
     "text": [
      "                   all        598        983      0.644       0.54       0.58      0.314\n",
      "\n",
      "      Epoch    GPU_mem   box_loss   cls_loss   dfl_loss  Instances       Size\n"
     ]
    },
    {
     "name": "stderr",
     "output_type": "stream",
     "text": [
      "     27/100      30.1G      1.265      1.045      1.385        267        640: 100%|██████████| 19/19 [00:18<00:00,  1.05it/s]\n",
      "                 Class     Images  Instances      Box(P          R      mAP50  mAP50-95): 100%|██████████| 3/3 [00:10<00:00,  3.57s/it]"
     ]
    },
    {
     "name": "stdout",
     "output_type": "stream",
     "text": [
      "                   all        598        983      0.677      0.541      0.587      0.307\n"
     ]
    },
    {
     "name": "stderr",
     "output_type": "stream",
     "text": [
      "\n"
     ]
    },
    {
     "name": "stdout",
     "output_type": "stream",
     "text": [
      "\n",
      "      Epoch    GPU_mem   box_loss   cls_loss   dfl_loss  Instances       Size\n"
     ]
    },
    {
     "name": "stderr",
     "output_type": "stream",
     "text": [
      "     28/100        30G      1.289      1.059      1.406        253        640: 100%|██████████| 19/19 [00:17<00:00,  1.06it/s]\n",
      "                 Class     Images  Instances      Box(P          R      mAP50  mAP50-95): 100%|██████████| 3/3 [00:10<00:00,  3.50s/it]\n"
     ]
    },
    {
     "name": "stdout",
     "output_type": "stream",
     "text": [
      "                   all        598        983      0.654      0.593      0.625       0.34\n",
      "\n",
      "      Epoch    GPU_mem   box_loss   cls_loss   dfl_loss  Instances       Size\n"
     ]
    },
    {
     "name": "stderr",
     "output_type": "stream",
     "text": [
      "     29/100      30.1G      1.264      1.001      1.372        276        640: 100%|██████████| 19/19 [00:17<00:00,  1.09it/s]\n",
      "                 Class     Images  Instances      Box(P          R      mAP50  mAP50-95): 100%|██████████| 3/3 [00:10<00:00,  3.65s/it]\n"
     ]
    },
    {
     "name": "stdout",
     "output_type": "stream",
     "text": [
      "                   all        598        983      0.742      0.513      0.613      0.335\n",
      "\n",
      "      Epoch    GPU_mem   box_loss   cls_loss   dfl_loss  Instances       Size\n"
     ]
    },
    {
     "name": "stderr",
     "output_type": "stream",
     "text": [
      "     30/100      30.1G      1.263      1.014      1.379        296        640: 100%|██████████| 19/19 [00:17<00:00,  1.07it/s]\n",
      "                 Class     Images  Instances      Box(P          R      mAP50  mAP50-95): 100%|██████████| 3/3 [00:10<00:00,  3.44s/it]"
     ]
    },
    {
     "name": "stdout",
     "output_type": "stream",
     "text": [
      "                   all        598        983      0.701      0.589      0.652      0.363\n"
     ]
    },
    {
     "name": "stderr",
     "output_type": "stream",
     "text": [
      "\n"
     ]
    },
    {
     "name": "stdout",
     "output_type": "stream",
     "text": [
      "\n",
      "      Epoch    GPU_mem   box_loss   cls_loss   dfl_loss  Instances       Size\n"
     ]
    },
    {
     "name": "stderr",
     "output_type": "stream",
     "text": [
      "     31/100      30.1G      1.242     0.9785      1.362        276        640: 100%|██████████| 19/19 [00:17<00:00,  1.10it/s]\n",
      "                 Class     Images  Instances      Box(P          R      mAP50  mAP50-95): 100%|██████████| 3/3 [00:11<00:00,  3.97s/it]"
     ]
    },
    {
     "name": "stdout",
     "output_type": "stream",
     "text": [
      "                   all        598        983      0.718      0.541      0.592      0.315\n"
     ]
    },
    {
     "name": "stderr",
     "output_type": "stream",
     "text": [
      "\n"
     ]
    },
    {
     "name": "stdout",
     "output_type": "stream",
     "text": [
      "\n",
      "      Epoch    GPU_mem   box_loss   cls_loss   dfl_loss  Instances       Size\n"
     ]
    },
    {
     "name": "stderr",
     "output_type": "stream",
     "text": [
      "     32/100        30G      1.237     0.9782      1.357        255        640: 100%|██████████| 19/19 [00:17<00:00,  1.08it/s]\n",
      "                 Class     Images  Instances      Box(P          R      mAP50  mAP50-95): 100%|██████████| 3/3 [00:10<00:00,  3.57s/it]\n"
     ]
    },
    {
     "name": "stdout",
     "output_type": "stream",
     "text": [
      "                   all        598        983        0.7      0.593      0.648      0.359\n",
      "\n",
      "      Epoch    GPU_mem   box_loss   cls_loss   dfl_loss  Instances       Size\n"
     ]
    },
    {
     "name": "stderr",
     "output_type": "stream",
     "text": [
      "     33/100      30.1G      1.219     0.9471      1.357        274        640: 100%|██████████| 19/19 [00:18<00:00,  1.05it/s]\n",
      "                 Class     Images  Instances      Box(P          R      mAP50  mAP50-95): 100%|██████████| 3/3 [00:10<00:00,  3.57s/it]"
     ]
    },
    {
     "name": "stdout",
     "output_type": "stream",
     "text": [
      "                   all        598        983      0.719      0.622      0.675      0.381\n"
     ]
    },
    {
     "name": "stderr",
     "output_type": "stream",
     "text": [
      "\n"
     ]
    },
    {
     "name": "stdout",
     "output_type": "stream",
     "text": [
      "\n",
      "      Epoch    GPU_mem   box_loss   cls_loss   dfl_loss  Instances       Size\n"
     ]
    },
    {
     "name": "stderr",
     "output_type": "stream",
     "text": [
      "     34/100      30.1G      1.214     0.9448      1.348        282        640: 100%|██████████| 19/19 [00:17<00:00,  1.06it/s]\n",
      "                 Class     Images  Instances      Box(P          R      mAP50  mAP50-95): 100%|██████████| 3/3 [00:10<00:00,  3.62s/it]\n"
     ]
    },
    {
     "name": "stdout",
     "output_type": "stream",
     "text": [
      "                   all        598        983      0.631      0.566        0.6      0.326\n",
      "\n",
      "      Epoch    GPU_mem   box_loss   cls_loss   dfl_loss  Instances       Size\n"
     ]
    },
    {
     "name": "stderr",
     "output_type": "stream",
     "text": [
      "     35/100      30.1G      1.224     0.9417      1.346        279        640: 100%|██████████| 19/19 [00:18<00:00,  1.04it/s]\n",
      "                 Class     Images  Instances      Box(P          R      mAP50  mAP50-95): 100%|██████████| 3/3 [00:10<00:00,  3.51s/it]"
     ]
    },
    {
     "name": "stdout",
     "output_type": "stream",
     "text": [
      "                   all        598        983      0.698      0.547      0.634      0.346\n"
     ]
    },
    {
     "name": "stderr",
     "output_type": "stream",
     "text": [
      "\n"
     ]
    },
    {
     "name": "stdout",
     "output_type": "stream",
     "text": [
      "\n",
      "      Epoch    GPU_mem   box_loss   cls_loss   dfl_loss  Instances       Size\n"
     ]
    },
    {
     "name": "stderr",
     "output_type": "stream",
     "text": [
      "     36/100      30.1G      1.216      0.916      1.341        317        640: 100%|██████████| 19/19 [00:17<00:00,  1.07it/s]\n",
      "                 Class     Images  Instances      Box(P          R      mAP50  mAP50-95): 100%|██████████| 3/3 [00:10<00:00,  3.43s/it]\n"
     ]
    },
    {
     "name": "stdout",
     "output_type": "stream",
     "text": [
      "                   all        598        983      0.618      0.611      0.634      0.349\n",
      "\n",
      "      Epoch    GPU_mem   box_loss   cls_loss   dfl_loss  Instances       Size\n"
     ]
    },
    {
     "name": "stderr",
     "output_type": "stream",
     "text": [
      "     37/100      30.1G      1.188     0.9054      1.328        293        640: 100%|██████████| 19/19 [00:18<00:00,  1.03it/s]\n",
      "                 Class     Images  Instances      Box(P          R      mAP50  mAP50-95): 100%|██████████| 3/3 [00:10<00:00,  3.59s/it]\n"
     ]
    },
    {
     "name": "stdout",
     "output_type": "stream",
     "text": [
      "                   all        598        983      0.709      0.634      0.688      0.391\n",
      "\n",
      "      Epoch    GPU_mem   box_loss   cls_loss   dfl_loss  Instances       Size\n"
     ]
    },
    {
     "name": "stderr",
     "output_type": "stream",
     "text": [
      "     38/100      29.9G      1.165     0.8911      1.316        284        640: 100%|██████████| 19/19 [00:17<00:00,  1.10it/s]\n",
      "                 Class     Images  Instances      Box(P          R      mAP50  mAP50-95): 100%|██████████| 3/3 [00:10<00:00,  3.55s/it]"
     ]
    },
    {
     "name": "stdout",
     "output_type": "stream",
     "text": [
      "                   all        598        983      0.746      0.589      0.669      0.377\n"
     ]
    },
    {
     "name": "stderr",
     "output_type": "stream",
     "text": [
      "\n"
     ]
    },
    {
     "name": "stdout",
     "output_type": "stream",
     "text": [
      "\n",
      "      Epoch    GPU_mem   box_loss   cls_loss   dfl_loss  Instances       Size\n"
     ]
    },
    {
     "name": "stderr",
     "output_type": "stream",
     "text": [
      "     39/100      29.9G      1.172      0.903       1.32        262        640: 100%|██████████| 19/19 [00:17<00:00,  1.06it/s]\n",
      "                 Class     Images  Instances      Box(P          R      mAP50  mAP50-95): 100%|██████████| 3/3 [00:10<00:00,  3.64s/it]"
     ]
    },
    {
     "name": "stdout",
     "output_type": "stream",
     "text": [
      "                   all        598        983      0.725      0.609      0.672      0.384\n"
     ]
    },
    {
     "name": "stderr",
     "output_type": "stream",
     "text": [
      "\n"
     ]
    },
    {
     "name": "stdout",
     "output_type": "stream",
     "text": [
      "\n",
      "      Epoch    GPU_mem   box_loss   cls_loss   dfl_loss  Instances       Size\n"
     ]
    },
    {
     "name": "stderr",
     "output_type": "stream",
     "text": [
      "     40/100      29.9G      1.165     0.8884      1.316        260        640: 100%|██████████| 19/19 [00:17<00:00,  1.07it/s]\n",
      "                 Class     Images  Instances      Box(P          R      mAP50  mAP50-95): 100%|██████████| 3/3 [00:10<00:00,  3.59s/it]"
     ]
    },
    {
     "name": "stdout",
     "output_type": "stream",
     "text": [
      "                   all        598        983      0.664      0.656      0.658       0.36\n"
     ]
    },
    {
     "name": "stderr",
     "output_type": "stream",
     "text": [
      "\n"
     ]
    },
    {
     "name": "stdout",
     "output_type": "stream",
     "text": [
      "\n",
      "      Epoch    GPU_mem   box_loss   cls_loss   dfl_loss  Instances       Size\n"
     ]
    },
    {
     "name": "stderr",
     "output_type": "stream",
     "text": [
      "     41/100      29.9G      1.147     0.8687       1.31        318        640: 100%|██████████| 19/19 [00:17<00:00,  1.08it/s]\n",
      "                 Class     Images  Instances      Box(P          R      mAP50  mAP50-95): 100%|██████████| 3/3 [00:10<00:00,  3.53s/it]"
     ]
    },
    {
     "name": "stdout",
     "output_type": "stream",
     "text": [
      "                   all        598        983      0.726      0.658      0.698      0.395\n"
     ]
    },
    {
     "name": "stderr",
     "output_type": "stream",
     "text": [
      "\n"
     ]
    },
    {
     "name": "stdout",
     "output_type": "stream",
     "text": [
      "\n",
      "      Epoch    GPU_mem   box_loss   cls_loss   dfl_loss  Instances       Size\n"
     ]
    },
    {
     "name": "stderr",
     "output_type": "stream",
     "text": [
      "     42/100      30.1G      1.125     0.8382      1.286        311        640: 100%|██████████| 19/19 [00:17<00:00,  1.09it/s]\n",
      "                 Class     Images  Instances      Box(P          R      mAP50  mAP50-95): 100%|██████████| 3/3 [00:10<00:00,  3.52s/it]"
     ]
    },
    {
     "name": "stdout",
     "output_type": "stream",
     "text": [
      "                   all        598        983      0.729      0.637      0.688      0.399\n"
     ]
    },
    {
     "name": "stderr",
     "output_type": "stream",
     "text": [
      "\n"
     ]
    },
    {
     "name": "stdout",
     "output_type": "stream",
     "text": [
      "\n",
      "      Epoch    GPU_mem   box_loss   cls_loss   dfl_loss  Instances       Size\n"
     ]
    },
    {
     "name": "stderr",
     "output_type": "stream",
     "text": [
      "     43/100      30.1G      1.124     0.8333      1.279        273        640: 100%|██████████| 19/19 [00:16<00:00,  1.14it/s]\n",
      "                 Class     Images  Instances      Box(P          R      mAP50  mAP50-95): 100%|██████████| 3/3 [00:10<00:00,  3.52s/it]"
     ]
    },
    {
     "name": "stdout",
     "output_type": "stream",
     "text": [
      "                   all        598        983      0.772      0.619      0.697        0.4\n"
     ]
    },
    {
     "name": "stderr",
     "output_type": "stream",
     "text": [
      "\n"
     ]
    },
    {
     "name": "stdout",
     "output_type": "stream",
     "text": [
      "\n",
      "      Epoch    GPU_mem   box_loss   cls_loss   dfl_loss  Instances       Size\n"
     ]
    },
    {
     "name": "stderr",
     "output_type": "stream",
     "text": [
      "     44/100        30G      1.131     0.8495      1.285        266        640: 100%|██████████| 19/19 [00:17<00:00,  1.11it/s]\n",
      "                 Class     Images  Instances      Box(P          R      mAP50  mAP50-95): 100%|██████████| 3/3 [00:10<00:00,  3.61s/it]"
     ]
    },
    {
     "name": "stdout",
     "output_type": "stream",
     "text": [
      "                   all        598        983      0.735      0.675      0.736      0.431\n"
     ]
    },
    {
     "name": "stderr",
     "output_type": "stream",
     "text": [
      "\n"
     ]
    },
    {
     "name": "stdout",
     "output_type": "stream",
     "text": [
      "\n",
      "      Epoch    GPU_mem   box_loss   cls_loss   dfl_loss  Instances       Size\n"
     ]
    },
    {
     "name": "stderr",
     "output_type": "stream",
     "text": [
      "     45/100        30G      1.107     0.8162      1.274        289        640: 100%|██████████| 19/19 [00:16<00:00,  1.13it/s]\n",
      "                 Class     Images  Instances      Box(P          R      mAP50  mAP50-95): 100%|██████████| 3/3 [00:10<00:00,  3.55s/it]"
     ]
    },
    {
     "name": "stdout",
     "output_type": "stream",
     "text": [
      "                   all        598        983      0.726      0.645      0.709      0.408\n"
     ]
    },
    {
     "name": "stderr",
     "output_type": "stream",
     "text": [
      "\n"
     ]
    },
    {
     "name": "stdout",
     "output_type": "stream",
     "text": [
      "\n",
      "      Epoch    GPU_mem   box_loss   cls_loss   dfl_loss  Instances       Size\n"
     ]
    },
    {
     "name": "stderr",
     "output_type": "stream",
     "text": [
      "     46/100      29.9G      1.108     0.8051      1.269        283        640: 100%|██████████| 19/19 [00:17<00:00,  1.09it/s]\n",
      "                 Class     Images  Instances      Box(P          R      mAP50  mAP50-95): 100%|██████████| 3/3 [00:10<00:00,  3.59s/it]\n"
     ]
    },
    {
     "name": "stdout",
     "output_type": "stream",
     "text": [
      "                   all        598        983      0.732       0.61       0.68      0.385\n",
      "\n",
      "      Epoch    GPU_mem   box_loss   cls_loss   dfl_loss  Instances       Size\n"
     ]
    },
    {
     "name": "stderr",
     "output_type": "stream",
     "text": [
      "     47/100      29.9G      1.081     0.7935      1.248        262        640: 100%|██████████| 19/19 [00:17<00:00,  1.07it/s]\n",
      "                 Class     Images  Instances      Box(P          R      mAP50  mAP50-95): 100%|██████████| 3/3 [00:10<00:00,  3.46s/it]"
     ]
    },
    {
     "name": "stdout",
     "output_type": "stream",
     "text": [
      "                   all        598        983      0.695      0.658      0.686      0.393\n"
     ]
    },
    {
     "name": "stderr",
     "output_type": "stream",
     "text": [
      "\n"
     ]
    },
    {
     "name": "stdout",
     "output_type": "stream",
     "text": [
      "\n",
      "      Epoch    GPU_mem   box_loss   cls_loss   dfl_loss  Instances       Size\n"
     ]
    },
    {
     "name": "stderr",
     "output_type": "stream",
     "text": [
      "     48/100      30.1G      1.079     0.7755       1.25        316        640: 100%|██████████| 19/19 [00:18<00:00,  1.03it/s]\n",
      "                 Class     Images  Instances      Box(P          R      mAP50  mAP50-95): 100%|██████████| 3/3 [00:10<00:00,  3.43s/it]"
     ]
    },
    {
     "name": "stdout",
     "output_type": "stream",
     "text": [
      "                   all        598        983      0.765      0.657      0.711      0.405\n"
     ]
    },
    {
     "name": "stderr",
     "output_type": "stream",
     "text": [
      "\n"
     ]
    },
    {
     "name": "stdout",
     "output_type": "stream",
     "text": [
      "\n",
      "      Epoch    GPU_mem   box_loss   cls_loss   dfl_loss  Instances       Size\n"
     ]
    },
    {
     "name": "stderr",
     "output_type": "stream",
     "text": [
      "     49/100      30.1G       1.07     0.7715      1.247        289        640: 100%|██████████| 19/19 [00:18<00:00,  1.05it/s]\n",
      "                 Class     Images  Instances      Box(P          R      mAP50  mAP50-95): 100%|██████████| 3/3 [00:10<00:00,  3.47s/it]"
     ]
    },
    {
     "name": "stdout",
     "output_type": "stream",
     "text": [
      "                   all        598        983      0.743      0.657      0.725      0.427\n"
     ]
    },
    {
     "name": "stderr",
     "output_type": "stream",
     "text": [
      "\n"
     ]
    },
    {
     "name": "stdout",
     "output_type": "stream",
     "text": [
      "\n",
      "      Epoch    GPU_mem   box_loss   cls_loss   dfl_loss  Instances       Size\n"
     ]
    },
    {
     "name": "stderr",
     "output_type": "stream",
     "text": [
      "     50/100      29.9G      1.066     0.7715      1.245        318        640: 100%|██████████| 19/19 [00:20<00:00,  1.07s/it]\n",
      "                 Class     Images  Instances      Box(P          R      mAP50  mAP50-95): 100%|██████████| 3/3 [00:10<00:00,  3.62s/it]"
     ]
    },
    {
     "name": "stdout",
     "output_type": "stream",
     "text": [
      "                   all        598        983      0.742      0.628      0.698      0.399\n"
     ]
    },
    {
     "name": "stderr",
     "output_type": "stream",
     "text": [
      "\n"
     ]
    },
    {
     "name": "stdout",
     "output_type": "stream",
     "text": [
      "\n",
      "      Epoch    GPU_mem   box_loss   cls_loss   dfl_loss  Instances       Size\n"
     ]
    },
    {
     "name": "stderr",
     "output_type": "stream",
     "text": [
      "     51/100      29.9G      1.067     0.7605      1.244        289        640: 100%|██████████| 19/19 [00:17<00:00,  1.07it/s]\n",
      "                 Class     Images  Instances      Box(P          R      mAP50  mAP50-95): 100%|██████████| 3/3 [00:10<00:00,  3.51s/it]"
     ]
    },
    {
     "name": "stdout",
     "output_type": "stream",
     "text": [
      "                   all        598        983      0.754      0.641      0.704      0.412\n"
     ]
    },
    {
     "name": "stderr",
     "output_type": "stream",
     "text": [
      "\n"
     ]
    },
    {
     "name": "stdout",
     "output_type": "stream",
     "text": [
      "\n",
      "      Epoch    GPU_mem   box_loss   cls_loss   dfl_loss  Instances       Size\n"
     ]
    },
    {
     "name": "stderr",
     "output_type": "stream",
     "text": [
      "     52/100        30G       1.07     0.7878      1.244        297        640: 100%|██████████| 19/19 [00:17<00:00,  1.07it/s]\n",
      "                 Class     Images  Instances      Box(P          R      mAP50  mAP50-95): 100%|██████████| 3/3 [00:10<00:00,  3.48s/it]"
     ]
    },
    {
     "name": "stdout",
     "output_type": "stream",
     "text": [
      "                   all        598        983      0.795      0.651      0.735      0.431\n"
     ]
    },
    {
     "name": "stderr",
     "output_type": "stream",
     "text": [
      "\n"
     ]
    },
    {
     "name": "stdout",
     "output_type": "stream",
     "text": [
      "\n",
      "      Epoch    GPU_mem   box_loss   cls_loss   dfl_loss  Instances       Size\n"
     ]
    },
    {
     "name": "stderr",
     "output_type": "stream",
     "text": [
      "     53/100      30.1G      1.026     0.7341      1.217        280        640: 100%|██████████| 19/19 [00:17<00:00,  1.08it/s]\n",
      "                 Class     Images  Instances      Box(P          R      mAP50  mAP50-95): 100%|██████████| 3/3 [00:10<00:00,  3.44s/it]"
     ]
    },
    {
     "name": "stdout",
     "output_type": "stream",
     "text": [
      "                   all        598        983      0.822      0.641       0.73      0.431\n"
     ]
    },
    {
     "name": "stderr",
     "output_type": "stream",
     "text": [
      "\n"
     ]
    },
    {
     "name": "stdout",
     "output_type": "stream",
     "text": [
      "\n",
      "      Epoch    GPU_mem   box_loss   cls_loss   dfl_loss  Instances       Size\n"
     ]
    },
    {
     "name": "stderr",
     "output_type": "stream",
     "text": [
      "     54/100        30G      1.021      0.731      1.224        273        640: 100%|██████████| 19/19 [00:18<00:00,  1.02it/s]\n",
      "                 Class     Images  Instances      Box(P          R      mAP50  mAP50-95): 100%|██████████| 3/3 [00:10<00:00,  3.44s/it]"
     ]
    },
    {
     "name": "stdout",
     "output_type": "stream",
     "text": [
      "                   all        598        983      0.771      0.662      0.727      0.412\n"
     ]
    },
    {
     "name": "stderr",
     "output_type": "stream",
     "text": [
      "\n"
     ]
    },
    {
     "name": "stdout",
     "output_type": "stream",
     "text": [
      "\n",
      "      Epoch    GPU_mem   box_loss   cls_loss   dfl_loss  Instances       Size\n"
     ]
    },
    {
     "name": "stderr",
     "output_type": "stream",
     "text": [
      "     55/100      29.9G      1.011     0.7243      1.212        320        640: 100%|██████████| 19/19 [00:17<00:00,  1.06it/s]\n",
      "                 Class     Images  Instances      Box(P          R      mAP50  mAP50-95): 100%|██████████| 3/3 [00:11<00:00,  3.93s/it]"
     ]
    },
    {
     "name": "stdout",
     "output_type": "stream",
     "text": [
      "                   all        598        983      0.775      0.667      0.723      0.423\n"
     ]
    },
    {
     "name": "stderr",
     "output_type": "stream",
     "text": [
      "\n"
     ]
    },
    {
     "name": "stdout",
     "output_type": "stream",
     "text": [
      "\n",
      "      Epoch    GPU_mem   box_loss   cls_loss   dfl_loss  Instances       Size\n"
     ]
    },
    {
     "name": "stderr",
     "output_type": "stream",
     "text": [
      "     56/100      30.1G      1.023     0.7248      1.215        303        640: 100%|██████████| 19/19 [00:18<00:00,  1.04it/s]\n",
      "                 Class     Images  Instances      Box(P          R      mAP50  mAP50-95): 100%|██████████| 3/3 [00:10<00:00,  3.48s/it]"
     ]
    },
    {
     "name": "stdout",
     "output_type": "stream",
     "text": [
      "                   all        598        983      0.741      0.678      0.718      0.416\n"
     ]
    },
    {
     "name": "stderr",
     "output_type": "stream",
     "text": [
      "\n"
     ]
    },
    {
     "name": "stdout",
     "output_type": "stream",
     "text": [
      "\n",
      "      Epoch    GPU_mem   box_loss   cls_loss   dfl_loss  Instances       Size\n"
     ]
    },
    {
     "name": "stderr",
     "output_type": "stream",
     "text": [
      "     57/100      30.1G      1.002     0.7025      1.198        326        640: 100%|██████████| 19/19 [00:18<00:00,  1.05it/s]\n",
      "                 Class     Images  Instances      Box(P          R      mAP50  mAP50-95): 100%|██████████| 3/3 [00:10<00:00,  3.51s/it]"
     ]
    },
    {
     "name": "stdout",
     "output_type": "stream",
     "text": [
      "                   all        598        983      0.727      0.623      0.689      0.406\n"
     ]
    },
    {
     "name": "stderr",
     "output_type": "stream",
     "text": [
      "\n"
     ]
    },
    {
     "name": "stdout",
     "output_type": "stream",
     "text": [
      "\n",
      "      Epoch    GPU_mem   box_loss   cls_loss   dfl_loss  Instances       Size\n"
     ]
    },
    {
     "name": "stderr",
     "output_type": "stream",
     "text": [
      "     58/100      29.9G      1.019     0.7133      1.219        267        640: 100%|██████████| 19/19 [00:18<00:00,  1.00it/s]\n",
      "                 Class     Images  Instances      Box(P          R      mAP50  mAP50-95): 100%|██████████| 3/3 [00:10<00:00,  3.43s/it]"
     ]
    },
    {
     "name": "stdout",
     "output_type": "stream",
     "text": [
      "                   all        598        983      0.779       0.66      0.732      0.421\n"
     ]
    },
    {
     "name": "stderr",
     "output_type": "stream",
     "text": [
      "\n"
     ]
    },
    {
     "name": "stdout",
     "output_type": "stream",
     "text": [
      "\n",
      "      Epoch    GPU_mem   box_loss   cls_loss   dfl_loss  Instances       Size\n"
     ]
    },
    {
     "name": "stderr",
     "output_type": "stream",
     "text": [
      "     59/100      30.1G     0.9837     0.6901      1.198        277        640: 100%|██████████| 19/19 [00:19<00:00,  1.00s/it]\n",
      "                 Class     Images  Instances      Box(P          R      mAP50  mAP50-95): 100%|██████████| 3/3 [00:10<00:00,  3.43s/it]"
     ]
    },
    {
     "name": "stdout",
     "output_type": "stream",
     "text": [
      "                   all        598        983      0.745      0.692       0.74      0.438\n"
     ]
    },
    {
     "name": "stderr",
     "output_type": "stream",
     "text": [
      "\n"
     ]
    },
    {
     "name": "stdout",
     "output_type": "stream",
     "text": [
      "\n",
      "      Epoch    GPU_mem   box_loss   cls_loss   dfl_loss  Instances       Size\n"
     ]
    },
    {
     "name": "stderr",
     "output_type": "stream",
     "text": [
      "     60/100        30G     0.9814     0.6913      1.192        320        640: 100%|██████████| 19/19 [00:16<00:00,  1.12it/s]\n",
      "                 Class     Images  Instances      Box(P          R      mAP50  mAP50-95): 100%|██████████| 3/3 [00:10<00:00,  3.54s/it]"
     ]
    },
    {
     "name": "stdout",
     "output_type": "stream",
     "text": [
      "                   all        598        983      0.764      0.678      0.735      0.438\n"
     ]
    },
    {
     "name": "stderr",
     "output_type": "stream",
     "text": [
      "\n"
     ]
    },
    {
     "name": "stdout",
     "output_type": "stream",
     "text": [
      "\n",
      "      Epoch    GPU_mem   box_loss   cls_loss   dfl_loss  Instances       Size\n"
     ]
    },
    {
     "name": "stderr",
     "output_type": "stream",
     "text": [
      "     61/100      29.9G     0.9738     0.6742      1.191        294        640: 100%|██████████| 19/19 [00:17<00:00,  1.08it/s]\n",
      "                 Class     Images  Instances      Box(P          R      mAP50  mAP50-95): 100%|██████████| 3/3 [00:10<00:00,  3.42s/it]"
     ]
    },
    {
     "name": "stdout",
     "output_type": "stream",
     "text": [
      "                   all        598        983      0.736      0.707      0.747      0.438\n"
     ]
    },
    {
     "name": "stderr",
     "output_type": "stream",
     "text": [
      "\n"
     ]
    },
    {
     "name": "stdout",
     "output_type": "stream",
     "text": [
      "\n",
      "      Epoch    GPU_mem   box_loss   cls_loss   dfl_loss  Instances       Size\n"
     ]
    },
    {
     "name": "stderr",
     "output_type": "stream",
     "text": [
      "     62/100      30.1G     0.9773     0.6868      1.189        283        640: 100%|██████████| 19/19 [00:17<00:00,  1.10it/s]\n",
      "                 Class     Images  Instances      Box(P          R      mAP50  mAP50-95): 100%|██████████| 3/3 [00:10<00:00,  3.45s/it]"
     ]
    },
    {
     "name": "stdout",
     "output_type": "stream",
     "text": [
      "                   all        598        983      0.801      0.653      0.724      0.428\n"
     ]
    },
    {
     "name": "stderr",
     "output_type": "stream",
     "text": [
      "\n"
     ]
    },
    {
     "name": "stdout",
     "output_type": "stream",
     "text": [
      "\n",
      "      Epoch    GPU_mem   box_loss   cls_loss   dfl_loss  Instances       Size\n"
     ]
    },
    {
     "name": "stderr",
     "output_type": "stream",
     "text": [
      "     63/100      29.9G     0.9561     0.6713      1.167        269        640: 100%|██████████| 19/19 [00:17<00:00,  1.09it/s]\n",
      "                 Class     Images  Instances      Box(P          R      mAP50  mAP50-95): 100%|██████████| 3/3 [00:10<00:00,  3.45s/it]"
     ]
    },
    {
     "name": "stdout",
     "output_type": "stream",
     "text": [
      "                   all        598        983      0.754      0.666      0.727      0.434\n"
     ]
    },
    {
     "name": "stderr",
     "output_type": "stream",
     "text": [
      "\n"
     ]
    },
    {
     "name": "stdout",
     "output_type": "stream",
     "text": [
      "\n",
      "      Epoch    GPU_mem   box_loss   cls_loss   dfl_loss  Instances       Size\n"
     ]
    },
    {
     "name": "stderr",
     "output_type": "stream",
     "text": [
      "     64/100        30G      0.967     0.6734      1.172        283        640: 100%|██████████| 19/19 [00:17<00:00,  1.08it/s]\n",
      "                 Class     Images  Instances      Box(P          R      mAP50  mAP50-95): 100%|██████████| 3/3 [00:10<00:00,  3.54s/it]"
     ]
    },
    {
     "name": "stdout",
     "output_type": "stream",
     "text": [
      "                   all        598        983      0.776      0.663      0.739      0.439\n"
     ]
    },
    {
     "name": "stderr",
     "output_type": "stream",
     "text": [
      "\n"
     ]
    },
    {
     "name": "stdout",
     "output_type": "stream",
     "text": [
      "\n",
      "      Epoch    GPU_mem   box_loss   cls_loss   dfl_loss  Instances       Size\n"
     ]
    },
    {
     "name": "stderr",
     "output_type": "stream",
     "text": [
      "     65/100      30.1G     0.9361     0.6509      1.163        262        640: 100%|██████████| 19/19 [00:17<00:00,  1.06it/s]\n",
      "                 Class     Images  Instances      Box(P          R      mAP50  mAP50-95): 100%|██████████| 3/3 [00:10<00:00,  3.46s/it]"
     ]
    },
    {
     "name": "stdout",
     "output_type": "stream",
     "text": [
      "                   all        598        983      0.768      0.691      0.749      0.442\n"
     ]
    },
    {
     "name": "stderr",
     "output_type": "stream",
     "text": [
      "\n"
     ]
    },
    {
     "name": "stdout",
     "output_type": "stream",
     "text": [
      "\n",
      "      Epoch    GPU_mem   box_loss   cls_loss   dfl_loss  Instances       Size\n"
     ]
    },
    {
     "name": "stderr",
     "output_type": "stream",
     "text": [
      "     66/100      30.1G     0.9428     0.6573      1.172        286        640: 100%|██████████| 19/19 [00:17<00:00,  1.11it/s]\n",
      "                 Class     Images  Instances      Box(P          R      mAP50  mAP50-95): 100%|██████████| 3/3 [00:11<00:00,  3.90s/it]"
     ]
    },
    {
     "name": "stdout",
     "output_type": "stream",
     "text": [
      "                   all        598        983      0.773      0.694      0.758      0.448\n"
     ]
    },
    {
     "name": "stderr",
     "output_type": "stream",
     "text": [
      "\n"
     ]
    },
    {
     "name": "stdout",
     "output_type": "stream",
     "text": [
      "\n",
      "      Epoch    GPU_mem   box_loss   cls_loss   dfl_loss  Instances       Size\n"
     ]
    },
    {
     "name": "stderr",
     "output_type": "stream",
     "text": [
      "     67/100        30G     0.9147     0.6452      1.157        265        640: 100%|██████████| 19/19 [00:16<00:00,  1.15it/s]\n",
      "                 Class     Images  Instances      Box(P          R      mAP50  mAP50-95): 100%|██████████| 3/3 [00:10<00:00,  3.56s/it]"
     ]
    },
    {
     "name": "stdout",
     "output_type": "stream",
     "text": [
      "                   all        598        983      0.777      0.659      0.747      0.437\n"
     ]
    },
    {
     "name": "stderr",
     "output_type": "stream",
     "text": [
      "\n"
     ]
    },
    {
     "name": "stdout",
     "output_type": "stream",
     "text": [
      "\n",
      "      Epoch    GPU_mem   box_loss   cls_loss   dfl_loss  Instances       Size\n"
     ]
    },
    {
     "name": "stderr",
     "output_type": "stream",
     "text": [
      "     68/100        30G     0.9358     0.6479      1.161        299        640: 100%|██████████| 19/19 [00:17<00:00,  1.08it/s]\n",
      "                 Class     Images  Instances      Box(P          R      mAP50  mAP50-95): 100%|██████████| 3/3 [00:10<00:00,  3.47s/it]"
     ]
    },
    {
     "name": "stdout",
     "output_type": "stream",
     "text": [
      "                   all        598        983      0.787      0.647      0.717      0.432\n"
     ]
    },
    {
     "name": "stderr",
     "output_type": "stream",
     "text": [
      "\n"
     ]
    },
    {
     "name": "stdout",
     "output_type": "stream",
     "text": [
      "\n",
      "      Epoch    GPU_mem   box_loss   cls_loss   dfl_loss  Instances       Size\n"
     ]
    },
    {
     "name": "stderr",
     "output_type": "stream",
     "text": [
      "     69/100      29.9G     0.9174     0.6326       1.15        270        640: 100%|██████████| 19/19 [00:19<00:00,  1.02s/it]\n",
      "                 Class     Images  Instances      Box(P          R      mAP50  mAP50-95): 100%|██████████| 3/3 [00:10<00:00,  3.47s/it]"
     ]
    },
    {
     "name": "stdout",
     "output_type": "stream",
     "text": [
      "                   all        598        983      0.753      0.651      0.718      0.427\n"
     ]
    },
    {
     "name": "stderr",
     "output_type": "stream",
     "text": [
      "\n"
     ]
    },
    {
     "name": "stdout",
     "output_type": "stream",
     "text": [
      "\n",
      "      Epoch    GPU_mem   box_loss   cls_loss   dfl_loss  Instances       Size\n"
     ]
    },
    {
     "name": "stderr",
     "output_type": "stream",
     "text": [
      "     70/100      29.9G     0.9154     0.6296      1.146        280        640: 100%|██████████| 19/19 [00:19<00:00,  1.04s/it]\n",
      "                 Class     Images  Instances      Box(P          R      mAP50  mAP50-95): 100%|██████████| 3/3 [00:10<00:00,  3.44s/it]"
     ]
    },
    {
     "name": "stdout",
     "output_type": "stream",
     "text": [
      "                   all        598        983      0.751      0.695      0.736      0.443\n"
     ]
    },
    {
     "name": "stderr",
     "output_type": "stream",
     "text": [
      "\n"
     ]
    },
    {
     "name": "stdout",
     "output_type": "stream",
     "text": [
      "\n",
      "      Epoch    GPU_mem   box_loss   cls_loss   dfl_loss  Instances       Size\n"
     ]
    },
    {
     "name": "stderr",
     "output_type": "stream",
     "text": [
      "     71/100        30G     0.8987     0.6227      1.137        299        640: 100%|██████████| 19/19 [00:17<00:00,  1.09it/s]\n",
      "                 Class     Images  Instances      Box(P          R      mAP50  mAP50-95): 100%|██████████| 3/3 [00:10<00:00,  3.58s/it]"
     ]
    },
    {
     "name": "stdout",
     "output_type": "stream",
     "text": [
      "                   all        598        983      0.811      0.659      0.757      0.453\n"
     ]
    },
    {
     "name": "stderr",
     "output_type": "stream",
     "text": [
      "\n"
     ]
    },
    {
     "name": "stdout",
     "output_type": "stream",
     "text": [
      "\n",
      "      Epoch    GPU_mem   box_loss   cls_loss   dfl_loss  Instances       Size\n"
     ]
    },
    {
     "name": "stderr",
     "output_type": "stream",
     "text": [
      "     72/100        30G     0.9145      0.619      1.146        293        640: 100%|██████████| 19/19 [00:17<00:00,  1.10it/s]\n",
      "                 Class     Images  Instances      Box(P          R      mAP50  mAP50-95): 100%|██████████| 3/3 [00:10<00:00,  3.46s/it]"
     ]
    },
    {
     "name": "stdout",
     "output_type": "stream",
     "text": [
      "                   all        598        983       0.75      0.712      0.758      0.448\n"
     ]
    },
    {
     "name": "stderr",
     "output_type": "stream",
     "text": [
      "\n"
     ]
    },
    {
     "name": "stdout",
     "output_type": "stream",
     "text": [
      "\n",
      "      Epoch    GPU_mem   box_loss   cls_loss   dfl_loss  Instances       Size\n"
     ]
    },
    {
     "name": "stderr",
     "output_type": "stream",
     "text": [
      "     73/100      29.9G     0.9039     0.6181      1.135        281        640: 100%|██████████| 19/19 [00:17<00:00,  1.06it/s]\n",
      "                 Class     Images  Instances      Box(P          R      mAP50  mAP50-95): 100%|██████████| 3/3 [00:10<00:00,  3.51s/it]"
     ]
    },
    {
     "name": "stdout",
     "output_type": "stream",
     "text": [
      "                   all        598        983      0.805      0.645      0.734      0.435\n"
     ]
    },
    {
     "name": "stderr",
     "output_type": "stream",
     "text": [
      "\n"
     ]
    },
    {
     "name": "stdout",
     "output_type": "stream",
     "text": [
      "\n",
      "      Epoch    GPU_mem   box_loss   cls_loss   dfl_loss  Instances       Size\n"
     ]
    },
    {
     "name": "stderr",
     "output_type": "stream",
     "text": [
      "     74/100      29.9G     0.8821     0.5948      1.128        292        640: 100%|██████████| 19/19 [00:19<00:00,  1.03s/it]\n",
      "                 Class     Images  Instances      Box(P          R      mAP50  mAP50-95): 100%|██████████| 3/3 [00:10<00:00,  3.50s/it]"
     ]
    },
    {
     "name": "stdout",
     "output_type": "stream",
     "text": [
      "                   all        598        983      0.793      0.695      0.773      0.457\n"
     ]
    },
    {
     "name": "stderr",
     "output_type": "stream",
     "text": [
      "\n"
     ]
    },
    {
     "name": "stdout",
     "output_type": "stream",
     "text": [
      "\n",
      "      Epoch    GPU_mem   box_loss   cls_loss   dfl_loss  Instances       Size\n"
     ]
    },
    {
     "name": "stderr",
     "output_type": "stream",
     "text": [
      "     75/100      29.9G     0.8755      0.598      1.131        250        640: 100%|██████████| 19/19 [00:16<00:00,  1.14it/s]\n",
      "                 Class     Images  Instances      Box(P          R      mAP50  mAP50-95): 100%|██████████| 3/3 [00:10<00:00,  3.54s/it]"
     ]
    },
    {
     "name": "stdout",
     "output_type": "stream",
     "text": [
      "                   all        598        983      0.763      0.705      0.747      0.448\n"
     ]
    },
    {
     "name": "stderr",
     "output_type": "stream",
     "text": [
      "\n"
     ]
    },
    {
     "name": "stdout",
     "output_type": "stream",
     "text": [
      "\n",
      "      Epoch    GPU_mem   box_loss   cls_loss   dfl_loss  Instances       Size\n"
     ]
    },
    {
     "name": "stderr",
     "output_type": "stream",
     "text": [
      "     76/100      30.1G     0.8927     0.6031      1.132        282        640: 100%|██████████| 19/19 [00:17<00:00,  1.06it/s]\n",
      "                 Class     Images  Instances      Box(P          R      mAP50  mAP50-95): 100%|██████████| 3/3 [00:10<00:00,  3.36s/it]"
     ]
    },
    {
     "name": "stdout",
     "output_type": "stream",
     "text": [
      "                   all        598        983      0.796      0.674      0.755      0.447\n"
     ]
    },
    {
     "name": "stderr",
     "output_type": "stream",
     "text": [
      "\n"
     ]
    },
    {
     "name": "stdout",
     "output_type": "stream",
     "text": [
      "\n",
      "      Epoch    GPU_mem   box_loss   cls_loss   dfl_loss  Instances       Size\n"
     ]
    },
    {
     "name": "stderr",
     "output_type": "stream",
     "text": [
      "     77/100      29.9G     0.8712     0.5841      1.123        241        640: 100%|██████████| 19/19 [00:19<00:00,  1.00s/it]\n",
      "                 Class     Images  Instances      Box(P          R      mAP50  mAP50-95): 100%|██████████| 3/3 [00:10<00:00,  3.47s/it]"
     ]
    },
    {
     "name": "stdout",
     "output_type": "stream",
     "text": [
      "                   all        598        983      0.764      0.707      0.763      0.454\n"
     ]
    },
    {
     "name": "stderr",
     "output_type": "stream",
     "text": [
      "\n"
     ]
    },
    {
     "name": "stdout",
     "output_type": "stream",
     "text": [
      "\n",
      "      Epoch    GPU_mem   box_loss   cls_loss   dfl_loss  Instances       Size\n"
     ]
    },
    {
     "name": "stderr",
     "output_type": "stream",
     "text": [
      "     78/100      29.9G     0.8575     0.5789      1.118        266        640: 100%|██████████| 19/19 [00:18<00:00,  1.01it/s]\n",
      "                 Class     Images  Instances      Box(P          R      mAP50  mAP50-95): 100%|██████████| 3/3 [00:10<00:00,  3.51s/it]"
     ]
    },
    {
     "name": "stdout",
     "output_type": "stream",
     "text": [
      "                   all        598        983      0.775      0.715      0.764      0.451\n"
     ]
    },
    {
     "name": "stderr",
     "output_type": "stream",
     "text": [
      "\n"
     ]
    },
    {
     "name": "stdout",
     "output_type": "stream",
     "text": [
      "\n",
      "      Epoch    GPU_mem   box_loss   cls_loss   dfl_loss  Instances       Size\n"
     ]
    },
    {
     "name": "stderr",
     "output_type": "stream",
     "text": [
      "     79/100      30.1G     0.8534     0.5776      1.118        307        640: 100%|██████████| 19/19 [00:17<00:00,  1.07it/s]\n",
      "                 Class     Images  Instances      Box(P          R      mAP50  mAP50-95): 100%|██████████| 3/3 [00:10<00:00,  3.46s/it]"
     ]
    },
    {
     "name": "stdout",
     "output_type": "stream",
     "text": [
      "                   all        598        983      0.747      0.687       0.75      0.441\n"
     ]
    },
    {
     "name": "stderr",
     "output_type": "stream",
     "text": [
      "\n"
     ]
    },
    {
     "name": "stdout",
     "output_type": "stream",
     "text": [
      "\n",
      "      Epoch    GPU_mem   box_loss   cls_loss   dfl_loss  Instances       Size\n"
     ]
    },
    {
     "name": "stderr",
     "output_type": "stream",
     "text": [
      "     80/100        30G     0.8458     0.5749      1.111        296        640: 100%|██████████| 19/19 [00:18<00:00,  1.03it/s]\n",
      "                 Class     Images  Instances      Box(P          R      mAP50  mAP50-95): 100%|██████████| 3/3 [00:10<00:00,  3.46s/it]"
     ]
    },
    {
     "name": "stdout",
     "output_type": "stream",
     "text": [
      "                   all        598        983       0.78      0.703      0.763      0.455\n"
     ]
    },
    {
     "name": "stderr",
     "output_type": "stream",
     "text": [
      "\n"
     ]
    },
    {
     "name": "stdout",
     "output_type": "stream",
     "text": [
      "\n",
      "      Epoch    GPU_mem   box_loss   cls_loss   dfl_loss  Instances       Size\n"
     ]
    },
    {
     "name": "stderr",
     "output_type": "stream",
     "text": [
      "     81/100      30.1G     0.8577     0.5734      1.117        247        640: 100%|██████████| 19/19 [00:18<00:00,  1.02it/s]\n",
      "                 Class     Images  Instances      Box(P          R      mAP50  mAP50-95): 100%|██████████| 3/3 [00:10<00:00,  3.53s/it]"
     ]
    },
    {
     "name": "stdout",
     "output_type": "stream",
     "text": [
      "                   all        598        983      0.826       0.69      0.782       0.47\n"
     ]
    },
    {
     "name": "stderr",
     "output_type": "stream",
     "text": [
      "\n"
     ]
    },
    {
     "name": "stdout",
     "output_type": "stream",
     "text": [
      "\n",
      "      Epoch    GPU_mem   box_loss   cls_loss   dfl_loss  Instances       Size\n"
     ]
    },
    {
     "name": "stderr",
     "output_type": "stream",
     "text": [
      "     82/100      29.9G     0.8287     0.5625        1.1        297        640: 100%|██████████| 19/19 [00:17<00:00,  1.09it/s]\n",
      "                 Class     Images  Instances      Box(P          R      mAP50  mAP50-95): 100%|██████████| 3/3 [00:10<00:00,  3.46s/it]"
     ]
    },
    {
     "name": "stdout",
     "output_type": "stream",
     "text": [
      "                   all        598        983      0.762      0.715      0.775      0.466\n"
     ]
    },
    {
     "name": "stderr",
     "output_type": "stream",
     "text": [
      "\n"
     ]
    },
    {
     "name": "stdout",
     "output_type": "stream",
     "text": [
      "\n",
      "      Epoch    GPU_mem   box_loss   cls_loss   dfl_loss  Instances       Size\n"
     ]
    },
    {
     "name": "stderr",
     "output_type": "stream",
     "text": [
      "     83/100      30.1G     0.8252     0.5448      1.099        261        640: 100%|██████████| 19/19 [00:18<00:00,  1.05it/s]\n",
      "                 Class     Images  Instances      Box(P          R      mAP50  mAP50-95): 100%|██████████| 3/3 [00:10<00:00,  3.44s/it]"
     ]
    },
    {
     "name": "stdout",
     "output_type": "stream",
     "text": [
      "                   all        598        983      0.806      0.687       0.76      0.455\n"
     ]
    },
    {
     "name": "stderr",
     "output_type": "stream",
     "text": [
      "\n"
     ]
    },
    {
     "name": "stdout",
     "output_type": "stream",
     "text": [
      "\n",
      "      Epoch    GPU_mem   box_loss   cls_loss   dfl_loss  Instances       Size\n"
     ]
    },
    {
     "name": "stderr",
     "output_type": "stream",
     "text": [
      "     84/100      29.9G      0.832     0.5532      1.099        262        640: 100%|██████████| 19/19 [00:17<00:00,  1.08it/s]\n",
      "                 Class     Images  Instances      Box(P          R      mAP50  mAP50-95): 100%|██████████| 3/3 [00:10<00:00,  3.52s/it]"
     ]
    },
    {
     "name": "stdout",
     "output_type": "stream",
     "text": [
      "                   all        598        983      0.812      0.687      0.766      0.458\n"
     ]
    },
    {
     "name": "stderr",
     "output_type": "stream",
     "text": [
      "\n"
     ]
    },
    {
     "name": "stdout",
     "output_type": "stream",
     "text": [
      "\n",
      "      Epoch    GPU_mem   box_loss   cls_loss   dfl_loss  Instances       Size\n"
     ]
    },
    {
     "name": "stderr",
     "output_type": "stream",
     "text": [
      "     85/100      30.1G     0.8215     0.5495      1.095        269        640: 100%|██████████| 19/19 [00:18<00:00,  1.05it/s]\n",
      "                 Class     Images  Instances      Box(P          R      mAP50  mAP50-95): 100%|██████████| 3/3 [00:10<00:00,  3.39s/it]"
     ]
    },
    {
     "name": "stdout",
     "output_type": "stream",
     "text": [
      "                   all        598        983      0.837      0.681      0.774      0.458\n"
     ]
    },
    {
     "name": "stderr",
     "output_type": "stream",
     "text": [
      "\n"
     ]
    },
    {
     "name": "stdout",
     "output_type": "stream",
     "text": [
      "\n",
      "      Epoch    GPU_mem   box_loss   cls_loss   dfl_loss  Instances       Size\n"
     ]
    },
    {
     "name": "stderr",
     "output_type": "stream",
     "text": [
      "     86/100      30.1G     0.7986     0.5295      1.084        310        640: 100%|██████████| 19/19 [00:19<00:00,  1.00s/it]\n",
      "                 Class     Images  Instances      Box(P          R      mAP50  mAP50-95): 100%|██████████| 3/3 [00:10<00:00,  3.47s/it]"
     ]
    },
    {
     "name": "stdout",
     "output_type": "stream",
     "text": [
      "                   all        598        983      0.814      0.707      0.775      0.464\n"
     ]
    },
    {
     "name": "stderr",
     "output_type": "stream",
     "text": [
      "\n"
     ]
    },
    {
     "name": "stdout",
     "output_type": "stream",
     "text": [
      "\n",
      "      Epoch    GPU_mem   box_loss   cls_loss   dfl_loss  Instances       Size\n"
     ]
    },
    {
     "name": "stderr",
     "output_type": "stream",
     "text": [
      "     87/100      29.9G     0.8028      0.534      1.085        261        640: 100%|██████████| 19/19 [00:19<00:00,  1.03s/it]\n",
      "                 Class     Images  Instances      Box(P          R      mAP50  mAP50-95): 100%|██████████| 3/3 [00:11<00:00,  3.88s/it]"
     ]
    },
    {
     "name": "stdout",
     "output_type": "stream",
     "text": [
      "                   all        598        983      0.789      0.716      0.779      0.469\n"
     ]
    },
    {
     "name": "stderr",
     "output_type": "stream",
     "text": [
      "\n"
     ]
    },
    {
     "name": "stdout",
     "output_type": "stream",
     "text": [
      "\n",
      "      Epoch    GPU_mem   box_loss   cls_loss   dfl_loss  Instances       Size\n"
     ]
    },
    {
     "name": "stderr",
     "output_type": "stream",
     "text": [
      "     88/100      30.1G     0.7906     0.5225      1.083        255        640: 100%|██████████| 19/19 [00:18<00:00,  1.04it/s]\n",
      "                 Class     Images  Instances      Box(P          R      mAP50  mAP50-95): 100%|██████████| 3/3 [00:09<00:00,  3.32s/it]"
     ]
    },
    {
     "name": "stdout",
     "output_type": "stream",
     "text": [
      "                   all        598        983      0.797       0.72      0.782      0.462\n"
     ]
    },
    {
     "name": "stderr",
     "output_type": "stream",
     "text": [
      "\n"
     ]
    },
    {
     "name": "stdout",
     "output_type": "stream",
     "text": [
      "\n",
      "      Epoch    GPU_mem   box_loss   cls_loss   dfl_loss  Instances       Size\n"
     ]
    },
    {
     "name": "stderr",
     "output_type": "stream",
     "text": [
      "     89/100      30.1G     0.7942     0.5206      1.084        290        640: 100%|██████████| 19/19 [00:19<00:00,  1.01s/it]\n",
      "                 Class     Images  Instances      Box(P          R      mAP50  mAP50-95): 100%|██████████| 3/3 [00:10<00:00,  3.46s/it]"
     ]
    },
    {
     "name": "stdout",
     "output_type": "stream",
     "text": [
      "                   all        598        983      0.776      0.734      0.784      0.478\n"
     ]
    },
    {
     "name": "stderr",
     "output_type": "stream",
     "text": [
      "\n"
     ]
    },
    {
     "name": "stdout",
     "output_type": "stream",
     "text": [
      "\n",
      "      Epoch    GPU_mem   box_loss   cls_loss   dfl_loss  Instances       Size\n"
     ]
    },
    {
     "name": "stderr",
     "output_type": "stream",
     "text": [
      "     90/100      29.9G     0.7844     0.5225      1.078        244        640: 100%|██████████| 19/19 [00:17<00:00,  1.07it/s]\n",
      "                 Class     Images  Instances      Box(P          R      mAP50  mAP50-95): 100%|██████████| 3/3 [00:10<00:00,  3.49s/it]"
     ]
    },
    {
     "name": "stdout",
     "output_type": "stream",
     "text": [
      "                   all        598        983      0.808      0.703      0.774      0.461\n"
     ]
    },
    {
     "name": "stderr",
     "output_type": "stream",
     "text": [
      "\n"
     ]
    },
    {
     "name": "stdout",
     "output_type": "stream",
     "text": [
      "Closing dataloader mosaic\n"
     ]
    },
    {
     "name": "stderr",
     "output_type": "stream",
     "text": [
      "/usr/local/lib/python3.8/dist-packages/torch/utils/data/dataloader.py:561: UserWarning: This DataLoader will create 8 worker processes in total. Our suggested max number of worker in current system is 2, which is smaller than what this DataLoader is going to create. Please be aware that excessive worker creation might get DataLoader running slow or even freeze, lower the worker number to avoid potential slowness/freeze if necessary.\n",
      "  warnings.warn(_create_warning_msg(\n"
     ]
    },
    {
     "name": "stdout",
     "output_type": "stream",
     "text": [
      "\n",
      "      Epoch    GPU_mem   box_loss   cls_loss   dfl_loss  Instances       Size\n"
     ]
    },
    {
     "name": "stderr",
     "output_type": "stream",
     "text": [
      "     91/100      29.9G     0.7494     0.4449      1.049        156        640: 100%|██████████| 19/19 [00:36<00:00,  1.94s/it]\n",
      "                 Class     Images  Instances      Box(P          R      mAP50  mAP50-95): 100%|██████████| 3/3 [00:09<00:00,  3.03s/it]"
     ]
    },
    {
     "name": "stdout",
     "output_type": "stream",
     "text": [
      "                   all        598        983       0.78       0.72      0.765      0.463\n"
     ]
    },
    {
     "name": "stderr",
     "output_type": "stream",
     "text": [
      "\n"
     ]
    },
    {
     "name": "stdout",
     "output_type": "stream",
     "text": [
      "\n",
      "      Epoch    GPU_mem   box_loss   cls_loss   dfl_loss  Instances       Size\n"
     ]
    },
    {
     "name": "stderr",
     "output_type": "stream",
     "text": [
      "     92/100      29.9G     0.7161     0.4154      1.034        143        640: 100%|██████████| 19/19 [00:17<00:00,  1.12it/s]\n",
      "                 Class     Images  Instances      Box(P          R      mAP50  mAP50-95): 100%|██████████| 3/3 [00:10<00:00,  3.33s/it]"
     ]
    },
    {
     "name": "stdout",
     "output_type": "stream",
     "text": [
      "                   all        598        983      0.773      0.704       0.77       0.47\n"
     ]
    },
    {
     "name": "stderr",
     "output_type": "stream",
     "text": [
      "\n"
     ]
    },
    {
     "name": "stdout",
     "output_type": "stream",
     "text": [
      "\n",
      "      Epoch    GPU_mem   box_loss   cls_loss   dfl_loss  Instances       Size\n"
     ]
    },
    {
     "name": "stderr",
     "output_type": "stream",
     "text": [
      "     93/100      29.9G     0.6973     0.3992      1.031        152        640: 100%|██████████| 19/19 [00:17<00:00,  1.09it/s]\n",
      "                 Class     Images  Instances      Box(P          R      mAP50  mAP50-95): 100%|██████████| 3/3 [00:09<00:00,  3.10s/it]"
     ]
    },
    {
     "name": "stdout",
     "output_type": "stream",
     "text": [
      "                   all        598        983      0.769      0.726      0.772      0.472\n"
     ]
    },
    {
     "name": "stderr",
     "output_type": "stream",
     "text": [
      "\n"
     ]
    },
    {
     "name": "stdout",
     "output_type": "stream",
     "text": [
      "\n",
      "      Epoch    GPU_mem   box_loss   cls_loss   dfl_loss  Instances       Size\n"
     ]
    },
    {
     "name": "stderr",
     "output_type": "stream",
     "text": [
      "     94/100      29.9G     0.6905     0.3971      1.026        153        640: 100%|██████████| 19/19 [00:17<00:00,  1.11it/s]\n",
      "                 Class     Images  Instances      Box(P          R      mAP50  mAP50-95): 100%|██████████| 3/3 [00:10<00:00,  3.51s/it]"
     ]
    },
    {
     "name": "stdout",
     "output_type": "stream",
     "text": [
      "                   all        598        983      0.818      0.676      0.768      0.472\n"
     ]
    },
    {
     "name": "stderr",
     "output_type": "stream",
     "text": [
      "\n"
     ]
    },
    {
     "name": "stdout",
     "output_type": "stream",
     "text": [
      "\n",
      "      Epoch    GPU_mem   box_loss   cls_loss   dfl_loss  Instances       Size\n"
     ]
    },
    {
     "name": "stderr",
     "output_type": "stream",
     "text": [
      "     95/100      29.9G     0.6729     0.3899      1.008        146        640: 100%|██████████| 19/19 [00:18<00:00,  1.05it/s]\n",
      "                 Class     Images  Instances      Box(P          R      mAP50  mAP50-95): 100%|██████████| 3/3 [00:10<00:00,  3.35s/it]"
     ]
    },
    {
     "name": "stdout",
     "output_type": "stream",
     "text": [
      "                   all        598        983      0.804      0.726      0.783      0.475\n"
     ]
    },
    {
     "name": "stderr",
     "output_type": "stream",
     "text": [
      "\n"
     ]
    },
    {
     "name": "stdout",
     "output_type": "stream",
     "text": [
      "\n",
      "      Epoch    GPU_mem   box_loss   cls_loss   dfl_loss  Instances       Size\n"
     ]
    },
    {
     "name": "stderr",
     "output_type": "stream",
     "text": [
      "     96/100      29.9G      0.659     0.3824      1.003        151        640: 100%|██████████| 19/19 [00:17<00:00,  1.10it/s]\n",
      "                 Class     Images  Instances      Box(P          R      mAP50  mAP50-95): 100%|██████████| 3/3 [00:09<00:00,  3.12s/it]"
     ]
    },
    {
     "name": "stdout",
     "output_type": "stream",
     "text": [
      "                   all        598        983      0.831      0.691      0.778      0.472\n"
     ]
    },
    {
     "name": "stderr",
     "output_type": "stream",
     "text": [
      "\n"
     ]
    },
    {
     "name": "stdout",
     "output_type": "stream",
     "text": [
      "\n",
      "      Epoch    GPU_mem   box_loss   cls_loss   dfl_loss  Instances       Size\n"
     ]
    },
    {
     "name": "stderr",
     "output_type": "stream",
     "text": [
      "     97/100      29.9G     0.6539     0.3763     0.9942        139        640: 100%|██████████| 19/19 [00:17<00:00,  1.11it/s]\n",
      "                 Class     Images  Instances      Box(P          R      mAP50  mAP50-95): 100%|██████████| 3/3 [00:09<00:00,  3.28s/it]"
     ]
    },
    {
     "name": "stdout",
     "output_type": "stream",
     "text": [
      "                   all        598        983       0.79       0.72      0.776      0.473\n"
     ]
    },
    {
     "name": "stderr",
     "output_type": "stream",
     "text": [
      "\n"
     ]
    },
    {
     "name": "stdout",
     "output_type": "stream",
     "text": [
      "\n",
      "      Epoch    GPU_mem   box_loss   cls_loss   dfl_loss  Instances       Size\n"
     ]
    },
    {
     "name": "stderr",
     "output_type": "stream",
     "text": [
      "     98/100      29.9G     0.6496     0.3755     0.9925        163        640: 100%|██████████| 19/19 [00:17<00:00,  1.10it/s]\n",
      "                 Class     Images  Instances      Box(P          R      mAP50  mAP50-95): 100%|██████████| 3/3 [00:09<00:00,  3.29s/it]"
     ]
    },
    {
     "name": "stdout",
     "output_type": "stream",
     "text": [
      "                   all        598        983      0.799      0.715       0.78      0.476\n"
     ]
    },
    {
     "name": "stderr",
     "output_type": "stream",
     "text": [
      "\n"
     ]
    },
    {
     "name": "stdout",
     "output_type": "stream",
     "text": [
      "\n",
      "      Epoch    GPU_mem   box_loss   cls_loss   dfl_loss  Instances       Size\n"
     ]
    },
    {
     "name": "stderr",
     "output_type": "stream",
     "text": [
      "     99/100      29.9G     0.6487     0.3756     0.9986        144        640: 100%|██████████| 19/19 [00:18<00:00,  1.03it/s]\n",
      "                 Class     Images  Instances      Box(P          R      mAP50  mAP50-95): 100%|██████████| 3/3 [00:10<00:00,  3.40s/it]"
     ]
    },
    {
     "name": "stdout",
     "output_type": "stream",
     "text": [
      "                   all        598        983      0.797      0.724       0.78      0.476\n"
     ]
    },
    {
     "name": "stderr",
     "output_type": "stream",
     "text": [
      "\n"
     ]
    },
    {
     "name": "stdout",
     "output_type": "stream",
     "text": [
      "\n",
      "      Epoch    GPU_mem   box_loss   cls_loss   dfl_loss  Instances       Size\n"
     ]
    },
    {
     "name": "stderr",
     "output_type": "stream",
     "text": [
      "    100/100      29.9G     0.6337     0.3648     0.9917        156        640: 100%|██████████| 19/19 [00:17<00:00,  1.11it/s]\n",
      "                 Class     Images  Instances      Box(P          R      mAP50  mAP50-95): 100%|██████████| 3/3 [00:10<00:00,  3.40s/it]"
     ]
    },
    {
     "name": "stdout",
     "output_type": "stream",
     "text": [
      "                   all        598        983      0.813      0.706      0.779      0.477\n"
     ]
    },
    {
     "name": "stderr",
     "output_type": "stream",
     "text": [
      "\n"
     ]
    },
    {
     "name": "stdout",
     "output_type": "stream",
     "text": [
      "\n",
      "100 epochs completed in 0.949 hours.\n",
      "Optimizer stripped from runs/detect/train6/weights/last.pt, 22.5MB\n",
      "Optimizer stripped from runs/detect/train6/weights/best.pt, 22.5MB\n",
      "\n",
      "Validating runs/detect/train6/weights/best.pt...\n",
      "Ultralytics YOLOv8.1.38 🚀 Python-3.8.10 torch-2.1.0a0+fe05266 CUDA:0 (NVIDIA RTX A6000, 48677MiB)\n",
      "YOLOv8s summary (fused): 168 layers, 11126358 parameters, 0 gradients, 28.4 GFLOPs\n"
     ]
    },
    {
     "name": "stderr",
     "output_type": "stream",
     "text": [
      "                 Class     Images  Instances      Box(P          R      mAP50  mAP50-95): 100%|██████████| 3/3 [00:07<00:00,  2.55s/it]\n"
     ]
    },
    {
     "name": "stdout",
     "output_type": "stream",
     "text": [
      "                   all        598        983      0.782      0.723      0.783      0.478\n",
      "                  fire        598        761      0.843      0.797      0.863      0.526\n",
      "                 smoke        598        222       0.72      0.649      0.704      0.431\n",
      "Speed: 3.0ms preprocess, 1.3ms inference, 0.0ms loss, 1.3ms postprocess per image\n",
      "Results saved to \u001b[1mruns/detect/train6\u001b[0m\n"
     ]
    }
   ],
   "source": [
    "# 0516\n",
    "\n",
    "from ultralytics import YOLO\n",
    "\n",
    "# Load a model\n",
    "model = YOLO('yolov8s.yaml')  # build a new model from YAML\n",
    "model = YOLO('yolov8s.pt')  # load a pretrained model (recommended for training)\n",
    "model = YOLO('yolov8s.yaml').load('yolov8s.pt')  # build from YAML and transfer weights\n",
    "\n",
    "# Train the model\n",
    "results = model.train(data='/raid/coss27/datasets/add_smoke_data/data.yaml', epochs=100, batch=128, imgsz=640)"
   ]
  },
  {
   "cell_type": "code",
   "execution_count": null,
   "id": "5bb94655",
   "metadata": {},
   "outputs": [],
   "source": []
  }
 ],
 "metadata": {
  "kernelspec": {
   "display_name": "Python 3 (ipykernel)",
   "language": "python",
   "name": "python3"
  },
  "language_info": {
   "codemirror_mode": {
    "name": "ipython",
    "version": 3
   },
   "file_extension": ".py",
   "mimetype": "text/x-python",
   "name": "python",
   "nbconvert_exporter": "python",
   "pygments_lexer": "ipython3",
   "version": "3.8.10"
  }
 },
 "nbformat": 4,
 "nbformat_minor": 5
}
